{
 "cells": [
  {
   "cell_type": "markdown",
   "id": "1f156933",
   "metadata": {},
   "source": [
    "# Simple Linear Regression Models"
   ]
  },
  {
   "cell_type": "code",
   "execution_count": 1,
   "id": "c63e30c1",
   "metadata": {},
   "outputs": [
    {
     "data": {
      "text/html": [
       "<div>\n",
       "<style scoped>\n",
       "    .dataframe tbody tr th:only-of-type {\n",
       "        vertical-align: middle;\n",
       "    }\n",
       "\n",
       "    .dataframe tbody tr th {\n",
       "        vertical-align: top;\n",
       "    }\n",
       "\n",
       "    .dataframe thead th {\n",
       "        text-align: right;\n",
       "    }\n",
       "</style>\n",
       "<table border=\"1\" class=\"dataframe\">\n",
       "  <thead>\n",
       "    <tr style=\"text-align: right;\">\n",
       "      <th></th>\n",
       "      <th>Title</th>\n",
       "      <th>Author</th>\n",
       "      <th>List Price</th>\n",
       "      <th>Amazon Price</th>\n",
       "      <th>Hard_or_Paper</th>\n",
       "      <th>NumPages</th>\n",
       "      <th>Publisher</th>\n",
       "      <th>Pub year</th>\n",
       "      <th>ISBN-10</th>\n",
       "      <th>Height</th>\n",
       "      <th>Width</th>\n",
       "      <th>Thick</th>\n",
       "      <th>Weight_oz</th>\n",
       "    </tr>\n",
       "  </thead>\n",
       "  <tbody>\n",
       "    <tr>\n",
       "      <th>0</th>\n",
       "      <td>1,001 Facts that Will Scare the S#*t Out of Yo...</td>\n",
       "      <td>Cary McNeal</td>\n",
       "      <td>12.95</td>\n",
       "      <td>5.18</td>\n",
       "      <td>P</td>\n",
       "      <td>304.0</td>\n",
       "      <td>Adams Media</td>\n",
       "      <td>2010.0</td>\n",
       "      <td>1605506249</td>\n",
       "      <td>7.8</td>\n",
       "      <td>5.5</td>\n",
       "      <td>0.8</td>\n",
       "      <td>11.2</td>\n",
       "    </tr>\n",
       "    <tr>\n",
       "      <th>1</th>\n",
       "      <td>21: Bringing Down the House - Movie Tie-In: Th...</td>\n",
       "      <td>Ben Mezrich</td>\n",
       "      <td>15.00</td>\n",
       "      <td>10.20</td>\n",
       "      <td>P</td>\n",
       "      <td>273.0</td>\n",
       "      <td>Free Press</td>\n",
       "      <td>2008.0</td>\n",
       "      <td>1416564195</td>\n",
       "      <td>8.4</td>\n",
       "      <td>5.5</td>\n",
       "      <td>0.7</td>\n",
       "      <td>7.2</td>\n",
       "    </tr>\n",
       "    <tr>\n",
       "      <th>2</th>\n",
       "      <td>100 Best-Loved Poems (Dover Thrift Editions)</td>\n",
       "      <td>Smith</td>\n",
       "      <td>1.50</td>\n",
       "      <td>1.50</td>\n",
       "      <td>P</td>\n",
       "      <td>96.0</td>\n",
       "      <td>Dover Publications</td>\n",
       "      <td>1995.0</td>\n",
       "      <td>486285537</td>\n",
       "      <td>8.3</td>\n",
       "      <td>5.2</td>\n",
       "      <td>0.3</td>\n",
       "      <td>4.0</td>\n",
       "    </tr>\n",
       "    <tr>\n",
       "      <th>3</th>\n",
       "      <td>1421: The Year China Discovered America</td>\n",
       "      <td>Gavin Menzies</td>\n",
       "      <td>15.99</td>\n",
       "      <td>10.87</td>\n",
       "      <td>P</td>\n",
       "      <td>672.0</td>\n",
       "      <td>Harper Perennial</td>\n",
       "      <td>2008.0</td>\n",
       "      <td>61564893</td>\n",
       "      <td>8.8</td>\n",
       "      <td>6.0</td>\n",
       "      <td>1.6</td>\n",
       "      <td>28.8</td>\n",
       "    </tr>\n",
       "    <tr>\n",
       "      <th>4</th>\n",
       "      <td>1493: Uncovering the New World Columbus Created</td>\n",
       "      <td>Charles C. Mann</td>\n",
       "      <td>30.50</td>\n",
       "      <td>16.77</td>\n",
       "      <td>P</td>\n",
       "      <td>720.0</td>\n",
       "      <td>Knopf</td>\n",
       "      <td>2011.0</td>\n",
       "      <td>307265722</td>\n",
       "      <td>8.0</td>\n",
       "      <td>5.2</td>\n",
       "      <td>1.4</td>\n",
       "      <td>22.4</td>\n",
       "    </tr>\n",
       "    <tr>\n",
       "      <th>...</th>\n",
       "      <td>...</td>\n",
       "      <td>...</td>\n",
       "      <td>...</td>\n",
       "      <td>...</td>\n",
       "      <td>...</td>\n",
       "      <td>...</td>\n",
       "      <td>...</td>\n",
       "      <td>...</td>\n",
       "      <td>...</td>\n",
       "      <td>...</td>\n",
       "      <td>...</td>\n",
       "      <td>...</td>\n",
       "      <td>...</td>\n",
       "    </tr>\n",
       "    <tr>\n",
       "      <th>320</th>\n",
       "      <td>Where the Sidewalk Ends</td>\n",
       "      <td>Shel Silverstein</td>\n",
       "      <td>18.99</td>\n",
       "      <td>12.24</td>\n",
       "      <td>H</td>\n",
       "      <td>192.0</td>\n",
       "      <td>HarperCollins</td>\n",
       "      <td>2004.0</td>\n",
       "      <td>60572345</td>\n",
       "      <td>9.3</td>\n",
       "      <td>6.6</td>\n",
       "      <td>1.1</td>\n",
       "      <td>24.0</td>\n",
       "    </tr>\n",
       "    <tr>\n",
       "      <th>321</th>\n",
       "      <td>White Privilege</td>\n",
       "      <td>Paula S. Rothenberg</td>\n",
       "      <td>27.55</td>\n",
       "      <td>27.55</td>\n",
       "      <td>P</td>\n",
       "      <td>160.0</td>\n",
       "      <td>Worth Publishers</td>\n",
       "      <td>2011.0</td>\n",
       "      <td>1429233443</td>\n",
       "      <td>9.1</td>\n",
       "      <td>6.1</td>\n",
       "      <td>0.7</td>\n",
       "      <td>8.0</td>\n",
       "    </tr>\n",
       "    <tr>\n",
       "      <th>322</th>\n",
       "      <td>Why I wore lipstick</td>\n",
       "      <td>Geralyn Lucas</td>\n",
       "      <td>12.95</td>\n",
       "      <td>5.18</td>\n",
       "      <td>P</td>\n",
       "      <td>224.0</td>\n",
       "      <td>St Martin's Griffin</td>\n",
       "      <td>2005.0</td>\n",
       "      <td>031233446X</td>\n",
       "      <td>8.0</td>\n",
       "      <td>5.4</td>\n",
       "      <td>0.7</td>\n",
       "      <td>6.4</td>\n",
       "    </tr>\n",
       "    <tr>\n",
       "      <th>323</th>\n",
       "      <td>Worlds Together, Worlds Apart: A History of th...</td>\n",
       "      <td>Robert Tignor</td>\n",
       "      <td>97.50</td>\n",
       "      <td>97.50</td>\n",
       "      <td>P</td>\n",
       "      <td>480.0</td>\n",
       "      <td>W. W. Norton &amp; Company</td>\n",
       "      <td>2010.0</td>\n",
       "      <td>393934942</td>\n",
       "      <td>10.7</td>\n",
       "      <td>8.9</td>\n",
       "      <td>0.9</td>\n",
       "      <td>14.4</td>\n",
       "    </tr>\n",
       "    <tr>\n",
       "      <th>324</th>\n",
       "      <td>Wuthering Heights</td>\n",
       "      <td>Emily Bronte</td>\n",
       "      <td>16.99</td>\n",
       "      <td>4.95</td>\n",
       "      <td>P</td>\n",
       "      <td>344.0</td>\n",
       "      <td>CreatSpace</td>\n",
       "      <td>2011.0</td>\n",
       "      <td>1463533411</td>\n",
       "      <td>7.8</td>\n",
       "      <td>5.1</td>\n",
       "      <td>1.0</td>\n",
       "      <td>16.0</td>\n",
       "    </tr>\n",
       "  </tbody>\n",
       "</table>\n",
       "<p>325 rows × 13 columns</p>\n",
       "</div>"
      ],
      "text/plain": [
       "                                                 Title               Author  \\\n",
       "0    1,001 Facts that Will Scare the S#*t Out of Yo...          Cary McNeal   \n",
       "1    21: Bringing Down the House - Movie Tie-In: Th...          Ben Mezrich   \n",
       "2         100 Best-Loved Poems (Dover Thrift Editions)                Smith   \n",
       "3              1421: The Year China Discovered America        Gavin Menzies   \n",
       "4      1493: Uncovering the New World Columbus Created      Charles C. Mann   \n",
       "..                                                 ...                  ...   \n",
       "320                            Where the Sidewalk Ends     Shel Silverstein   \n",
       "321                                    White Privilege  Paula S. Rothenberg   \n",
       "322                                Why I wore lipstick        Geralyn Lucas   \n",
       "323  Worlds Together, Worlds Apart: A History of th...        Robert Tignor   \n",
       "324                                  Wuthering Heights         Emily Bronte   \n",
       "\n",
       "     List Price  Amazon Price Hard_or_Paper  NumPages               Publisher  \\\n",
       "0         12.95          5.18             P     304.0             Adams Media   \n",
       "1         15.00         10.20             P     273.0              Free Press   \n",
       "2          1.50          1.50             P      96.0      Dover Publications   \n",
       "3         15.99         10.87             P     672.0        Harper Perennial   \n",
       "4         30.50         16.77             P     720.0                   Knopf   \n",
       "..          ...           ...           ...       ...                     ...   \n",
       "320       18.99         12.24             H     192.0           HarperCollins   \n",
       "321       27.55         27.55             P     160.0        Worth Publishers   \n",
       "322       12.95          5.18             P     224.0     St Martin's Griffin   \n",
       "323       97.50         97.50             P     480.0  W. W. Norton & Company   \n",
       "324       16.99          4.95             P     344.0              CreatSpace   \n",
       "\n",
       "     Pub year     ISBN-10  Height  Width  Thick  Weight_oz  \n",
       "0      2010.0  1605506249     7.8    5.5    0.8       11.2  \n",
       "1      2008.0  1416564195     8.4    5.5    0.7        7.2  \n",
       "2      1995.0   486285537     8.3    5.2    0.3        4.0  \n",
       "3      2008.0    61564893     8.8    6.0    1.6       28.8  \n",
       "4      2011.0   307265722     8.0    5.2    1.4       22.4  \n",
       "..        ...         ...     ...    ...    ...        ...  \n",
       "320    2004.0    60572345     9.3    6.6    1.1       24.0  \n",
       "321    2011.0  1429233443     9.1    6.1    0.7        8.0  \n",
       "322    2005.0  031233446X     8.0    5.4    0.7        6.4  \n",
       "323    2010.0   393934942    10.7    8.9    0.9       14.4  \n",
       "324    2011.0  1463533411     7.8    5.1    1.0       16.0  \n",
       "\n",
       "[325 rows x 13 columns]"
      ]
     },
     "execution_count": 1,
     "metadata": {},
     "output_type": "execute_result"
    }
   ],
   "source": [
    "import pandas as pd\n",
    "amazonbooks = pd.read_csv(\"amazonbooks.csv\", encoding=\"ISO-8859-1\")\n",
    "amazonbooks"
   ]
  },
  {
   "cell_type": "code",
   "execution_count": 2,
   "id": "dfb1c62f",
   "metadata": {},
   "outputs": [
    {
     "data": {
      "text/plain": [
       "0       5.18\n",
       "1      10.20\n",
       "2       1.50\n",
       "3      10.87\n",
       "4      16.77\n",
       "       ...  \n",
       "320    12.24\n",
       "321    27.55\n",
       "322     5.18\n",
       "323    97.50\n",
       "324     4.95\n",
       "Name: Amazon Price, Length: 325, dtype: float64"
      ]
     },
     "execution_count": 2,
     "metadata": {},
     "output_type": "execute_result"
    }
   ],
   "source": [
    "amazonbooks['Amazon Price']"
   ]
  },
  {
   "cell_type": "code",
   "execution_count": 9,
   "id": "0c64a688",
   "metadata": {},
   "outputs": [
    {
     "data": {
      "application/vnd.plotly.v1+json": {
       "config": {
        "plotlyServerURL": "https://plot.ly"
       },
       "data": [
        {
         "hovertemplate": "List Price=%{x}<br>Amazon Price=%{y}<extra></extra>",
         "legendgroup": "",
         "marker": {
          "color": "#636efa",
          "symbol": "circle"
         },
         "mode": "markers",
         "name": "",
         "orientation": "v",
         "showlegend": false,
         "type": "scatter",
         "x": [
          12.95,
          15,
          1.5,
          15.99,
          30.5,
          28.95,
          20,
          15,
          35,
          30,
          17,
          17,
          19.95,
          20,
          39.95,
          18.99,
          5.95,
          15,
          7.5,
          15.95,
          13,
          11.94,
          14,
          14.95,
          22.99,
          15,
          18,
          7.95,
          14.95,
          14.95,
          7.95,
          15.95,
          20,
          14,
          29.5,
          11.99,
          13.07,
          13.95,
          15,
          4.99,
          13,
          13.99,
          24.95,
          26.99,
          14.95,
          6.69,
          5.99,
          13.95,
          26.95,
          24,
          16,
          13.99,
          17.99,
          15,
          8.99,
          6.99,
          14.54,
          17.99,
          114.95,
          48.2,
          15.95,
          15.95,
          18,
          86.95,
          15,
          17.99,
          15,
          11.5,
          26.95,
          6.99,
          15,
          16,
          53.95,
          15,
          6.99,
          12,
          21.1,
          13.95,
          14.99,
          30,
          7.99,
          8,
          15.99,
          26.99,
          27.99,
          17,
          6.99,
          14.95,
          18,
          16,
          6.99,
          16,
          8.99,
          16,
          19.99,
          18,
          8.99,
          17,
          14,
          27.95,
          139.95,
          24.95,
          14.95,
          6.95,
          26,
          26,
          9.95,
          27.99,
          16.99,
          8.95,
          14.95,
          15.95,
          21,
          14,
          20,
          15,
          14.95,
          15.95,
          14.99,
          14,
          12.95,
          24.99,
          15,
          15,
          25.95,
          25,
          9.99,
          26.99,
          17.99,
          15,
          15,
          25.05,
          17.99,
          16,
          14.99,
          20,
          7.99,
          17.99,
          14,
          13.29,
          16,
          13.83,
          12,
          14.95,
          15,
          16.99,
          15,
          6.95,
          14,
          15,
          20,
          16,
          15,
          16,
          15,
          15,
          16,
          8.95,
          5.99,
          16,
          15,
          14,
          35.95,
          14.99,
          7.95,
          16.99,
          98.95,
          35.75,
          19.73,
          37.5,
          14.95,
          13,
          15.95,
          26,
          5.99,
          14.99,
          16,
          9.99,
          15.95,
          14.99,
          14,
          13.95,
          15,
          16,
          75,
          32.95,
          26.95,
          15.99,
          15,
          24,
          6.95,
          16,
          16,
          26.95,
          26.99,
          7.99,
          17.95,
          35.75,
          6.99,
          9.99,
          6.99,
          15,
          12,
          9.99,
          null,
          11.99,
          15,
          24,
          16,
          14.99,
          16,
          12.14,
          7.75,
          14.1,
          4.99,
          13.95,
          22,
          12.99,
          13.99,
          8.95,
          8.99,
          7.95,
          15,
          17,
          13,
          12.99,
          70.8,
          48.2,
          9.99,
          30,
          15,
          14,
          16.99,
          22,
          8.42,
          9.99,
          15,
          14.95,
          18.99,
          10.95,
          16.95,
          28,
          25,
          15,
          15,
          15,
          17,
          13.95,
          16,
          11,
          8.99,
          17.99,
          16,
          15,
          12,
          17.99,
          21.99,
          15.95,
          24.95,
          39.95,
          16,
          10.65,
          13.99,
          19.95,
          14,
          15,
          16.95,
          9.99,
          14.95,
          11,
          17,
          14.95,
          12,
          9.99,
          25,
          14,
          17.99,
          30,
          16.99,
          34.8,
          15.95,
          7.77,
          3.95,
          2,
          8.99,
          18.95,
          20,
          20,
          15.44,
          22,
          14.95,
          17.99,
          16,
          14.95,
          25,
          14,
          14.95,
          26,
          24.99,
          20,
          13,
          13.99,
          15.99,
          12.6,
          10.99,
          24.99,
          28,
          35,
          15.95,
          6.99,
          14.95,
          14.95,
          14.95,
          25,
          27,
          15,
          15,
          15.95,
          14.95,
          26,
          18.99,
          27.55,
          12.95,
          97.5,
          16.99
         ],
         "xaxis": "x",
         "y": [
          5.18,
          10.2,
          1.5,
          10.87,
          16.77,
          16.44,
          13.46,
          8.44,
          18.81,
          19.8,
          8.97,
          10.46,
          13.57,
          14.6,
          37.95,
          11.58,
          3.99,
          10.2,
          5.87,
          10.85,
          10.4,
          11.94,
          11.2,
          8.96,
          15.63,
          10.2,
          12.11,
          7.95,
          14.95,
          10.17,
          7.95,
          8.39,
          13.6,
          8.75,
          26.61,
          9.59,
          12.52,
          11.16,
          10.22,
          4.99,
          10.4,
          10.54,
          15.82,
          15.6,
          10.17,
          6.99,
          5.99,
          11.16,
          20.48,
          16.32,
          9.07,
          8.38,
          8.97,
          10.2,
          8.99,
          6.99,
          9.99,
          11.36,
          83.04,
          44.32,
          7.97,
          7.97,
          12.24,
          54.61,
          10.2,
          11.46,
          10.2,
          11.5,
          14.99,
          6.99,
          10.2,
          10.88,
          39.92,
          10.2,
          6.99,
          9.07,
          16.46,
          7.83,
          10.19,
          17.43,
          7.99,
          8,
          9.95,
          14.61,
          11.2,
          10.46,
          6.99,
          8.97,
          12.24,
          9.2,
          6.99,
          10.88,
          8.99,
          9.09,
          10.75,
          12.24,
          8.99,
          11.55,
          11.2,
          19.99,
          139.95,
          16.47,
          5.98,
          6.95,
          13,
          14.44,
          5.13,
          13.98,
          11.55,
          8.95,
          8.6,
          10.22,
          13.43,
          11.08,
          13.6,
          10.2,
          10.17,
          8.39,
          10.19,
          11.2,
          8.36,
          15.2,
          8.68,
          10.33,
          25.95,
          16.5,
          9.99,
          15.44,
          10.58,
          8.84,
          8.15,
          22.81,
          11.24,
          8.59,
          10.19,
          12.17,
          7.99,
          7.98,
          11.2,
          13.29,
          10.77,
          13.83,
          9.6,
          10.17,
          7.9,
          11.55,
          10.2,
          6.95,
          8.75,
          10.2,
          13.6,
          10.88,
          10.2,
          10.88,
          10.09,
          8.24,
          8.61,
          8.95,
          5.99,
          8.87,
          9.98,
          11.08,
          35.95,
          10.98,
          7.95,
          10.79,
          98.95,
          25.84,
          15.68,
          25,
          5.98,
          9.64,
          10.85,
          16.91,
          5.99,
          8.11,
          12.47,
          9.99,
          10.85,
          9.57,
          11.08,
          8.07,
          6,
          9.75,
          39.45,
          21.75,
          17.73,
          9.58,
          7.89,
          16.32,
          6.95,
          10.22,
          10.88,
          17.79,
          15.44,
          7.99,
          12.08,
          21.68,
          6.99,
          9.99,
          6.99,
          10.2,
          7.51,
          9.99,
          118.21,
          7.7,
          10.2,
          15.48,
          10.77,
          8.43,
          6.4,
          9,
          7.75,
          11.99,
          4.99,
          8.5,
          22,
          7.31,
          10.68,
          8.95,
          8.99,
          7.95,
          10.09,
          11.44,
          9.28,
          9.66,
          55.75,
          39.72,
          9.99,
          20,
          8.6,
          8.04,
          10.68,
          14.96,
          8.42,
          9.99,
          8.52,
          8.26,
          11.16,
          7.82,
          9.16,
          16.09,
          15.62,
          8.84,
          8.92,
          8.05,
          11.56,
          7.7,
          8.8,
          6.4,
          4.94,
          10.21,
          8,
          8.36,
          9.22,
          9.99,
          12.5,
          8.95,
          22.51,
          23.79,
          9.52,
          13.13,
          7.79,
          10.86,
          11.2,
          10.2,
          11.53,
          9.99,
          10.17,
          8.8,
          10.47,
          7.9,
          9.09,
          9.99,
          14.46,
          8.22,
          8.98,
          23.94,
          11.28,
          24.9,
          9.92,
          7.77,
          3.95,
          0.77,
          8.99,
          15.15,
          13.6,
          13.6,
          8.45,
          14.96,
          10.17,
          10.88,
          10.11,
          8.28,
          14.7,
          14,
          5.98,
          13.7,
          17.99,
          12.17,
          10.29,
          11.19,
          8.5,
          12.6,
          6.9,
          14.69,
          16.08,
          23.1,
          10.68,
          6.99,
          10.75,
          10.17,
          10.17,
          10,
          13.49,
          10.2,
          10.2,
          10.85,
          8.14,
          19.01,
          12.24,
          27.55,
          5.18,
          97.5,
          4.95
         ],
         "yaxis": "y"
        }
       ],
       "layout": {
        "legend": {
         "tracegroupgap": 0
        },
        "margin": {
         "t": 60
        },
        "template": {
         "data": {
          "bar": [
           {
            "error_x": {
             "color": "#2a3f5f"
            },
            "error_y": {
             "color": "#2a3f5f"
            },
            "marker": {
             "line": {
              "color": "#E5ECF6",
              "width": 0.5
             },
             "pattern": {
              "fillmode": "overlay",
              "size": 10,
              "solidity": 0.2
             }
            },
            "type": "bar"
           }
          ],
          "barpolar": [
           {
            "marker": {
             "line": {
              "color": "#E5ECF6",
              "width": 0.5
             },
             "pattern": {
              "fillmode": "overlay",
              "size": 10,
              "solidity": 0.2
             }
            },
            "type": "barpolar"
           }
          ],
          "carpet": [
           {
            "aaxis": {
             "endlinecolor": "#2a3f5f",
             "gridcolor": "white",
             "linecolor": "white",
             "minorgridcolor": "white",
             "startlinecolor": "#2a3f5f"
            },
            "baxis": {
             "endlinecolor": "#2a3f5f",
             "gridcolor": "white",
             "linecolor": "white",
             "minorgridcolor": "white",
             "startlinecolor": "#2a3f5f"
            },
            "type": "carpet"
           }
          ],
          "choropleth": [
           {
            "colorbar": {
             "outlinewidth": 0,
             "ticks": ""
            },
            "type": "choropleth"
           }
          ],
          "contour": [
           {
            "colorbar": {
             "outlinewidth": 0,
             "ticks": ""
            },
            "colorscale": [
             [
              0,
              "#0d0887"
             ],
             [
              0.1111111111111111,
              "#46039f"
             ],
             [
              0.2222222222222222,
              "#7201a8"
             ],
             [
              0.3333333333333333,
              "#9c179e"
             ],
             [
              0.4444444444444444,
              "#bd3786"
             ],
             [
              0.5555555555555556,
              "#d8576b"
             ],
             [
              0.6666666666666666,
              "#ed7953"
             ],
             [
              0.7777777777777778,
              "#fb9f3a"
             ],
             [
              0.8888888888888888,
              "#fdca26"
             ],
             [
              1,
              "#f0f921"
             ]
            ],
            "type": "contour"
           }
          ],
          "contourcarpet": [
           {
            "colorbar": {
             "outlinewidth": 0,
             "ticks": ""
            },
            "type": "contourcarpet"
           }
          ],
          "heatmap": [
           {
            "colorbar": {
             "outlinewidth": 0,
             "ticks": ""
            },
            "colorscale": [
             [
              0,
              "#0d0887"
             ],
             [
              0.1111111111111111,
              "#46039f"
             ],
             [
              0.2222222222222222,
              "#7201a8"
             ],
             [
              0.3333333333333333,
              "#9c179e"
             ],
             [
              0.4444444444444444,
              "#bd3786"
             ],
             [
              0.5555555555555556,
              "#d8576b"
             ],
             [
              0.6666666666666666,
              "#ed7953"
             ],
             [
              0.7777777777777778,
              "#fb9f3a"
             ],
             [
              0.8888888888888888,
              "#fdca26"
             ],
             [
              1,
              "#f0f921"
             ]
            ],
            "type": "heatmap"
           }
          ],
          "heatmapgl": [
           {
            "colorbar": {
             "outlinewidth": 0,
             "ticks": ""
            },
            "colorscale": [
             [
              0,
              "#0d0887"
             ],
             [
              0.1111111111111111,
              "#46039f"
             ],
             [
              0.2222222222222222,
              "#7201a8"
             ],
             [
              0.3333333333333333,
              "#9c179e"
             ],
             [
              0.4444444444444444,
              "#bd3786"
             ],
             [
              0.5555555555555556,
              "#d8576b"
             ],
             [
              0.6666666666666666,
              "#ed7953"
             ],
             [
              0.7777777777777778,
              "#fb9f3a"
             ],
             [
              0.8888888888888888,
              "#fdca26"
             ],
             [
              1,
              "#f0f921"
             ]
            ],
            "type": "heatmapgl"
           }
          ],
          "histogram": [
           {
            "marker": {
             "pattern": {
              "fillmode": "overlay",
              "size": 10,
              "solidity": 0.2
             }
            },
            "type": "histogram"
           }
          ],
          "histogram2d": [
           {
            "colorbar": {
             "outlinewidth": 0,
             "ticks": ""
            },
            "colorscale": [
             [
              0,
              "#0d0887"
             ],
             [
              0.1111111111111111,
              "#46039f"
             ],
             [
              0.2222222222222222,
              "#7201a8"
             ],
             [
              0.3333333333333333,
              "#9c179e"
             ],
             [
              0.4444444444444444,
              "#bd3786"
             ],
             [
              0.5555555555555556,
              "#d8576b"
             ],
             [
              0.6666666666666666,
              "#ed7953"
             ],
             [
              0.7777777777777778,
              "#fb9f3a"
             ],
             [
              0.8888888888888888,
              "#fdca26"
             ],
             [
              1,
              "#f0f921"
             ]
            ],
            "type": "histogram2d"
           }
          ],
          "histogram2dcontour": [
           {
            "colorbar": {
             "outlinewidth": 0,
             "ticks": ""
            },
            "colorscale": [
             [
              0,
              "#0d0887"
             ],
             [
              0.1111111111111111,
              "#46039f"
             ],
             [
              0.2222222222222222,
              "#7201a8"
             ],
             [
              0.3333333333333333,
              "#9c179e"
             ],
             [
              0.4444444444444444,
              "#bd3786"
             ],
             [
              0.5555555555555556,
              "#d8576b"
             ],
             [
              0.6666666666666666,
              "#ed7953"
             ],
             [
              0.7777777777777778,
              "#fb9f3a"
             ],
             [
              0.8888888888888888,
              "#fdca26"
             ],
             [
              1,
              "#f0f921"
             ]
            ],
            "type": "histogram2dcontour"
           }
          ],
          "mesh3d": [
           {
            "colorbar": {
             "outlinewidth": 0,
             "ticks": ""
            },
            "type": "mesh3d"
           }
          ],
          "parcoords": [
           {
            "line": {
             "colorbar": {
              "outlinewidth": 0,
              "ticks": ""
             }
            },
            "type": "parcoords"
           }
          ],
          "pie": [
           {
            "automargin": true,
            "type": "pie"
           }
          ],
          "scatter": [
           {
            "fillpattern": {
             "fillmode": "overlay",
             "size": 10,
             "solidity": 0.2
            },
            "type": "scatter"
           }
          ],
          "scatter3d": [
           {
            "line": {
             "colorbar": {
              "outlinewidth": 0,
              "ticks": ""
             }
            },
            "marker": {
             "colorbar": {
              "outlinewidth": 0,
              "ticks": ""
             }
            },
            "type": "scatter3d"
           }
          ],
          "scattercarpet": [
           {
            "marker": {
             "colorbar": {
              "outlinewidth": 0,
              "ticks": ""
             }
            },
            "type": "scattercarpet"
           }
          ],
          "scattergeo": [
           {
            "marker": {
             "colorbar": {
              "outlinewidth": 0,
              "ticks": ""
             }
            },
            "type": "scattergeo"
           }
          ],
          "scattergl": [
           {
            "marker": {
             "colorbar": {
              "outlinewidth": 0,
              "ticks": ""
             }
            },
            "type": "scattergl"
           }
          ],
          "scattermapbox": [
           {
            "marker": {
             "colorbar": {
              "outlinewidth": 0,
              "ticks": ""
             }
            },
            "type": "scattermapbox"
           }
          ],
          "scatterpolar": [
           {
            "marker": {
             "colorbar": {
              "outlinewidth": 0,
              "ticks": ""
             }
            },
            "type": "scatterpolar"
           }
          ],
          "scatterpolargl": [
           {
            "marker": {
             "colorbar": {
              "outlinewidth": 0,
              "ticks": ""
             }
            },
            "type": "scatterpolargl"
           }
          ],
          "scatterternary": [
           {
            "marker": {
             "colorbar": {
              "outlinewidth": 0,
              "ticks": ""
             }
            },
            "type": "scatterternary"
           }
          ],
          "surface": [
           {
            "colorbar": {
             "outlinewidth": 0,
             "ticks": ""
            },
            "colorscale": [
             [
              0,
              "#0d0887"
             ],
             [
              0.1111111111111111,
              "#46039f"
             ],
             [
              0.2222222222222222,
              "#7201a8"
             ],
             [
              0.3333333333333333,
              "#9c179e"
             ],
             [
              0.4444444444444444,
              "#bd3786"
             ],
             [
              0.5555555555555556,
              "#d8576b"
             ],
             [
              0.6666666666666666,
              "#ed7953"
             ],
             [
              0.7777777777777778,
              "#fb9f3a"
             ],
             [
              0.8888888888888888,
              "#fdca26"
             ],
             [
              1,
              "#f0f921"
             ]
            ],
            "type": "surface"
           }
          ],
          "table": [
           {
            "cells": {
             "fill": {
              "color": "#EBF0F8"
             },
             "line": {
              "color": "white"
             }
            },
            "header": {
             "fill": {
              "color": "#C8D4E3"
             },
             "line": {
              "color": "white"
             }
            },
            "type": "table"
           }
          ]
         },
         "layout": {
          "annotationdefaults": {
           "arrowcolor": "#2a3f5f",
           "arrowhead": 0,
           "arrowwidth": 1
          },
          "autotypenumbers": "strict",
          "coloraxis": {
           "colorbar": {
            "outlinewidth": 0,
            "ticks": ""
           }
          },
          "colorscale": {
           "diverging": [
            [
             0,
             "#8e0152"
            ],
            [
             0.1,
             "#c51b7d"
            ],
            [
             0.2,
             "#de77ae"
            ],
            [
             0.3,
             "#f1b6da"
            ],
            [
             0.4,
             "#fde0ef"
            ],
            [
             0.5,
             "#f7f7f7"
            ],
            [
             0.6,
             "#e6f5d0"
            ],
            [
             0.7,
             "#b8e186"
            ],
            [
             0.8,
             "#7fbc41"
            ],
            [
             0.9,
             "#4d9221"
            ],
            [
             1,
             "#276419"
            ]
           ],
           "sequential": [
            [
             0,
             "#0d0887"
            ],
            [
             0.1111111111111111,
             "#46039f"
            ],
            [
             0.2222222222222222,
             "#7201a8"
            ],
            [
             0.3333333333333333,
             "#9c179e"
            ],
            [
             0.4444444444444444,
             "#bd3786"
            ],
            [
             0.5555555555555556,
             "#d8576b"
            ],
            [
             0.6666666666666666,
             "#ed7953"
            ],
            [
             0.7777777777777778,
             "#fb9f3a"
            ],
            [
             0.8888888888888888,
             "#fdca26"
            ],
            [
             1,
             "#f0f921"
            ]
           ],
           "sequentialminus": [
            [
             0,
             "#0d0887"
            ],
            [
             0.1111111111111111,
             "#46039f"
            ],
            [
             0.2222222222222222,
             "#7201a8"
            ],
            [
             0.3333333333333333,
             "#9c179e"
            ],
            [
             0.4444444444444444,
             "#bd3786"
            ],
            [
             0.5555555555555556,
             "#d8576b"
            ],
            [
             0.6666666666666666,
             "#ed7953"
            ],
            [
             0.7777777777777778,
             "#fb9f3a"
            ],
            [
             0.8888888888888888,
             "#fdca26"
            ],
            [
             1,
             "#f0f921"
            ]
           ]
          },
          "colorway": [
           "#636efa",
           "#EF553B",
           "#00cc96",
           "#ab63fa",
           "#FFA15A",
           "#19d3f3",
           "#FF6692",
           "#B6E880",
           "#FF97FF",
           "#FECB52"
          ],
          "font": {
           "color": "#2a3f5f"
          },
          "geo": {
           "bgcolor": "white",
           "lakecolor": "white",
           "landcolor": "#E5ECF6",
           "showlakes": true,
           "showland": true,
           "subunitcolor": "white"
          },
          "hoverlabel": {
           "align": "left"
          },
          "hovermode": "closest",
          "mapbox": {
           "style": "light"
          },
          "paper_bgcolor": "white",
          "plot_bgcolor": "#E5ECF6",
          "polar": {
           "angularaxis": {
            "gridcolor": "white",
            "linecolor": "white",
            "ticks": ""
           },
           "bgcolor": "#E5ECF6",
           "radialaxis": {
            "gridcolor": "white",
            "linecolor": "white",
            "ticks": ""
           }
          },
          "scene": {
           "xaxis": {
            "backgroundcolor": "#E5ECF6",
            "gridcolor": "white",
            "gridwidth": 2,
            "linecolor": "white",
            "showbackground": true,
            "ticks": "",
            "zerolinecolor": "white"
           },
           "yaxis": {
            "backgroundcolor": "#E5ECF6",
            "gridcolor": "white",
            "gridwidth": 2,
            "linecolor": "white",
            "showbackground": true,
            "ticks": "",
            "zerolinecolor": "white"
           },
           "zaxis": {
            "backgroundcolor": "#E5ECF6",
            "gridcolor": "white",
            "gridwidth": 2,
            "linecolor": "white",
            "showbackground": true,
            "ticks": "",
            "zerolinecolor": "white"
           }
          },
          "shapedefaults": {
           "line": {
            "color": "#2a3f5f"
           }
          },
          "ternary": {
           "aaxis": {
            "gridcolor": "white",
            "linecolor": "white",
            "ticks": ""
           },
           "baxis": {
            "gridcolor": "white",
            "linecolor": "white",
            "ticks": ""
           },
           "bgcolor": "#E5ECF6",
           "caxis": {
            "gridcolor": "white",
            "linecolor": "white",
            "ticks": ""
           }
          },
          "title": {
           "x": 0.05
          },
          "xaxis": {
           "automargin": true,
           "gridcolor": "white",
           "linecolor": "white",
           "ticks": "",
           "title": {
            "standoff": 15
           },
           "zerolinecolor": "white",
           "zerolinewidth": 2
          },
          "yaxis": {
           "automargin": true,
           "gridcolor": "white",
           "linecolor": "white",
           "ticks": "",
           "title": {
            "standoff": 15
           },
           "zerolinecolor": "white",
           "zerolinewidth": 2
          }
         }
        },
        "xaxis": {
         "anchor": "y",
         "domain": [
          0,
          1
         ],
         "title": {
          "text": "List Price"
         }
        },
        "yaxis": {
         "anchor": "x",
         "domain": [
          0,
          1
         ],
         "range": [
          0,
          1400
         ],
         "title": {
          "text": "Amazon Price"
         }
        }
       }
      },
      "text/html": [
       "<div>                            <div id=\"2afbcd7c-614a-4c89-8d44-b5fe29468a19\" class=\"plotly-graph-div\" style=\"height:525px; width:100%;\"></div>            <script type=\"text/javascript\">                require([\"plotly\"], function(Plotly) {                    window.PLOTLYENV=window.PLOTLYENV || {};                                    if (document.getElementById(\"2afbcd7c-614a-4c89-8d44-b5fe29468a19\")) {                    Plotly.newPlot(                        \"2afbcd7c-614a-4c89-8d44-b5fe29468a19\",                        [{\"hovertemplate\":\"List Price=%{x}<br>Amazon Price=%{y}<extra></extra>\",\"legendgroup\":\"\",\"marker\":{\"color\":\"#636efa\",\"symbol\":\"circle\"},\"mode\":\"markers\",\"name\":\"\",\"orientation\":\"v\",\"showlegend\":false,\"x\":[12.95,15.0,1.5,15.99,30.5,28.95,20.0,15.0,35.0,30.0,17.0,17.0,19.95,20.0,39.95,18.99,5.95,15.0,7.5,15.95,13.0,11.94,14.0,14.95,22.99,15.0,18.0,7.95,14.95,14.95,7.95,15.95,20.0,14.0,29.5,11.99,13.07,13.95,15.0,4.99,13.0,13.99,24.95,26.99,14.95,6.69,5.99,13.95,26.95,24.0,16.0,13.99,17.99,15.0,8.99,6.99,14.54,17.99,114.95,48.2,15.95,15.95,18.0,86.95,15.0,17.99,15.0,11.5,26.95,6.99,15.0,16.0,53.95,15.0,6.99,12.0,21.1,13.95,14.99,30.0,7.99,8.0,15.99,26.99,27.99,17.0,6.99,14.95,18.0,16.0,6.99,16.0,8.99,16.0,19.99,18.0,8.99,17.0,14.0,27.95,139.95,24.95,14.95,6.95,26.0,26.0,9.95,27.99,16.99,8.95,14.95,15.95,21.0,14.0,20.0,15.0,14.95,15.95,14.99,14.0,12.95,24.99,15.0,15.0,25.95,25.0,9.99,26.99,17.99,15.0,15.0,25.05,17.99,16.0,14.99,20.0,7.99,17.99,14.0,13.29,16.0,13.83,12.0,14.95,15.0,16.99,15.0,6.95,14.0,15.0,20.0,16.0,15.0,16.0,15.0,15.0,16.0,8.95,5.99,16.0,15.0,14.0,35.95,14.99,7.95,16.99,98.95,35.75,19.73,37.5,14.95,13.0,15.95,26.0,5.99,14.99,16.0,9.99,15.95,14.99,14.0,13.95,15.0,16.0,75.0,32.95,26.95,15.99,15.0,24.0,6.95,16.0,16.0,26.95,26.99,7.99,17.95,35.75,6.99,9.99,6.99,15.0,12.0,9.99,null,11.99,15.0,24.0,16.0,14.99,16.0,12.14,7.75,14.1,4.99,13.95,22.0,12.99,13.99,8.95,8.99,7.95,15.0,17.0,13.0,12.99,70.8,48.2,9.99,30.0,15.0,14.0,16.99,22.0,8.42,9.99,15.0,14.95,18.99,10.95,16.95,28.0,25.0,15.0,15.0,15.0,17.0,13.95,16.0,11.0,8.99,17.99,16.0,15.0,12.0,17.99,21.99,15.95,24.95,39.95,16.0,10.65,13.99,19.95,14.0,15.0,16.95,9.99,14.95,11.0,17.0,14.95,12.0,9.99,25.0,14.0,17.99,30.0,16.99,34.8,15.95,7.77,3.95,2.0,8.99,18.95,20.0,20.0,15.44,22.0,14.95,17.99,16.0,14.95,25.0,14.0,14.95,26.0,24.99,20.0,13.0,13.99,15.99,12.6,10.99,24.99,28.0,35.0,15.95,6.99,14.95,14.95,14.95,25.0,27.0,15.0,15.0,15.95,14.95,26.0,18.99,27.55,12.95,97.5,16.99],\"xaxis\":\"x\",\"y\":[5.18,10.2,1.5,10.87,16.77,16.44,13.46,8.44,18.81,19.8,8.97,10.46,13.57,14.6,37.95,11.58,3.99,10.2,5.87,10.85,10.4,11.94,11.2,8.96,15.63,10.2,12.11,7.95,14.95,10.17,7.95,8.39,13.6,8.75,26.61,9.59,12.52,11.16,10.22,4.99,10.4,10.54,15.82,15.6,10.17,6.99,5.99,11.16,20.48,16.32,9.07,8.38,8.97,10.2,8.99,6.99,9.99,11.36,83.04,44.32,7.97,7.97,12.24,54.61,10.2,11.46,10.2,11.5,14.99,6.99,10.2,10.88,39.92,10.2,6.99,9.07,16.46,7.83,10.19,17.43,7.99,8.0,9.95,14.61,11.2,10.46,6.99,8.97,12.24,9.2,6.99,10.88,8.99,9.09,10.75,12.24,8.99,11.55,11.2,19.99,139.95,16.47,5.98,6.95,13.0,14.44,5.13,13.98,11.55,8.95,8.6,10.22,13.43,11.08,13.6,10.2,10.17,8.39,10.19,11.2,8.36,15.2,8.68,10.33,25.95,16.5,9.99,15.44,10.58,8.84,8.15,22.81,11.24,8.59,10.19,12.17,7.99,7.98,11.2,13.29,10.77,13.83,9.6,10.17,7.9,11.55,10.2,6.95,8.75,10.2,13.6,10.88,10.2,10.88,10.09,8.24,8.61,8.95,5.99,8.87,9.98,11.08,35.95,10.98,7.95,10.79,98.95,25.84,15.68,25.0,5.98,9.64,10.85,16.91,5.99,8.11,12.47,9.99,10.85,9.57,11.08,8.07,6.0,9.75,39.45,21.75,17.73,9.58,7.89,16.32,6.95,10.22,10.88,17.79,15.44,7.99,12.08,21.68,6.99,9.99,6.99,10.2,7.51,9.99,118.21,7.7,10.2,15.48,10.77,8.43,6.4,9.0,7.75,11.99,4.99,8.5,22.0,7.31,10.68,8.95,8.99,7.95,10.09,11.44,9.28,9.66,55.75,39.72,9.99,20.0,8.6,8.04,10.68,14.96,8.42,9.99,8.52,8.26,11.16,7.82,9.16,16.09,15.62,8.84,8.92,8.05,11.56,7.7,8.8,6.4,4.94,10.21,8.0,8.36,9.22,9.99,12.5,8.95,22.51,23.79,9.52,13.13,7.79,10.86,11.2,10.2,11.53,9.99,10.17,8.8,10.47,7.9,9.09,9.99,14.46,8.22,8.98,23.94,11.28,24.9,9.92,7.77,3.95,0.77,8.99,15.15,13.6,13.6,8.45,14.96,10.17,10.88,10.11,8.28,14.7,14.0,5.98,13.7,17.99,12.17,10.29,11.19,8.5,12.6,6.9,14.69,16.08,23.1,10.68,6.99,10.75,10.17,10.17,10.0,13.49,10.2,10.2,10.85,8.14,19.01,12.24,27.55,5.18,97.5,4.95],\"yaxis\":\"y\",\"type\":\"scatter\"}],                        {\"template\":{\"data\":{\"histogram2dcontour\":[{\"type\":\"histogram2dcontour\",\"colorbar\":{\"outlinewidth\":0,\"ticks\":\"\"},\"colorscale\":[[0.0,\"#0d0887\"],[0.1111111111111111,\"#46039f\"],[0.2222222222222222,\"#7201a8\"],[0.3333333333333333,\"#9c179e\"],[0.4444444444444444,\"#bd3786\"],[0.5555555555555556,\"#d8576b\"],[0.6666666666666666,\"#ed7953\"],[0.7777777777777778,\"#fb9f3a\"],[0.8888888888888888,\"#fdca26\"],[1.0,\"#f0f921\"]]}],\"choropleth\":[{\"type\":\"choropleth\",\"colorbar\":{\"outlinewidth\":0,\"ticks\":\"\"}}],\"histogram2d\":[{\"type\":\"histogram2d\",\"colorbar\":{\"outlinewidth\":0,\"ticks\":\"\"},\"colorscale\":[[0.0,\"#0d0887\"],[0.1111111111111111,\"#46039f\"],[0.2222222222222222,\"#7201a8\"],[0.3333333333333333,\"#9c179e\"],[0.4444444444444444,\"#bd3786\"],[0.5555555555555556,\"#d8576b\"],[0.6666666666666666,\"#ed7953\"],[0.7777777777777778,\"#fb9f3a\"],[0.8888888888888888,\"#fdca26\"],[1.0,\"#f0f921\"]]}],\"heatmap\":[{\"type\":\"heatmap\",\"colorbar\":{\"outlinewidth\":0,\"ticks\":\"\"},\"colorscale\":[[0.0,\"#0d0887\"],[0.1111111111111111,\"#46039f\"],[0.2222222222222222,\"#7201a8\"],[0.3333333333333333,\"#9c179e\"],[0.4444444444444444,\"#bd3786\"],[0.5555555555555556,\"#d8576b\"],[0.6666666666666666,\"#ed7953\"],[0.7777777777777778,\"#fb9f3a\"],[0.8888888888888888,\"#fdca26\"],[1.0,\"#f0f921\"]]}],\"heatmapgl\":[{\"type\":\"heatmapgl\",\"colorbar\":{\"outlinewidth\":0,\"ticks\":\"\"},\"colorscale\":[[0.0,\"#0d0887\"],[0.1111111111111111,\"#46039f\"],[0.2222222222222222,\"#7201a8\"],[0.3333333333333333,\"#9c179e\"],[0.4444444444444444,\"#bd3786\"],[0.5555555555555556,\"#d8576b\"],[0.6666666666666666,\"#ed7953\"],[0.7777777777777778,\"#fb9f3a\"],[0.8888888888888888,\"#fdca26\"],[1.0,\"#f0f921\"]]}],\"contourcarpet\":[{\"type\":\"contourcarpet\",\"colorbar\":{\"outlinewidth\":0,\"ticks\":\"\"}}],\"contour\":[{\"type\":\"contour\",\"colorbar\":{\"outlinewidth\":0,\"ticks\":\"\"},\"colorscale\":[[0.0,\"#0d0887\"],[0.1111111111111111,\"#46039f\"],[0.2222222222222222,\"#7201a8\"],[0.3333333333333333,\"#9c179e\"],[0.4444444444444444,\"#bd3786\"],[0.5555555555555556,\"#d8576b\"],[0.6666666666666666,\"#ed7953\"],[0.7777777777777778,\"#fb9f3a\"],[0.8888888888888888,\"#fdca26\"],[1.0,\"#f0f921\"]]}],\"surface\":[{\"type\":\"surface\",\"colorbar\":{\"outlinewidth\":0,\"ticks\":\"\"},\"colorscale\":[[0.0,\"#0d0887\"],[0.1111111111111111,\"#46039f\"],[0.2222222222222222,\"#7201a8\"],[0.3333333333333333,\"#9c179e\"],[0.4444444444444444,\"#bd3786\"],[0.5555555555555556,\"#d8576b\"],[0.6666666666666666,\"#ed7953\"],[0.7777777777777778,\"#fb9f3a\"],[0.8888888888888888,\"#fdca26\"],[1.0,\"#f0f921\"]]}],\"mesh3d\":[{\"type\":\"mesh3d\",\"colorbar\":{\"outlinewidth\":0,\"ticks\":\"\"}}],\"scatter\":[{\"fillpattern\":{\"fillmode\":\"overlay\",\"size\":10,\"solidity\":0.2},\"type\":\"scatter\"}],\"parcoords\":[{\"type\":\"parcoords\",\"line\":{\"colorbar\":{\"outlinewidth\":0,\"ticks\":\"\"}}}],\"scatterpolargl\":[{\"type\":\"scatterpolargl\",\"marker\":{\"colorbar\":{\"outlinewidth\":0,\"ticks\":\"\"}}}],\"bar\":[{\"error_x\":{\"color\":\"#2a3f5f\"},\"error_y\":{\"color\":\"#2a3f5f\"},\"marker\":{\"line\":{\"color\":\"#E5ECF6\",\"width\":0.5},\"pattern\":{\"fillmode\":\"overlay\",\"size\":10,\"solidity\":0.2}},\"type\":\"bar\"}],\"scattergeo\":[{\"type\":\"scattergeo\",\"marker\":{\"colorbar\":{\"outlinewidth\":0,\"ticks\":\"\"}}}],\"scatterpolar\":[{\"type\":\"scatterpolar\",\"marker\":{\"colorbar\":{\"outlinewidth\":0,\"ticks\":\"\"}}}],\"histogram\":[{\"marker\":{\"pattern\":{\"fillmode\":\"overlay\",\"size\":10,\"solidity\":0.2}},\"type\":\"histogram\"}],\"scattergl\":[{\"type\":\"scattergl\",\"marker\":{\"colorbar\":{\"outlinewidth\":0,\"ticks\":\"\"}}}],\"scatter3d\":[{\"type\":\"scatter3d\",\"line\":{\"colorbar\":{\"outlinewidth\":0,\"ticks\":\"\"}},\"marker\":{\"colorbar\":{\"outlinewidth\":0,\"ticks\":\"\"}}}],\"scattermapbox\":[{\"type\":\"scattermapbox\",\"marker\":{\"colorbar\":{\"outlinewidth\":0,\"ticks\":\"\"}}}],\"scatterternary\":[{\"type\":\"scatterternary\",\"marker\":{\"colorbar\":{\"outlinewidth\":0,\"ticks\":\"\"}}}],\"scattercarpet\":[{\"type\":\"scattercarpet\",\"marker\":{\"colorbar\":{\"outlinewidth\":0,\"ticks\":\"\"}}}],\"carpet\":[{\"aaxis\":{\"endlinecolor\":\"#2a3f5f\",\"gridcolor\":\"white\",\"linecolor\":\"white\",\"minorgridcolor\":\"white\",\"startlinecolor\":\"#2a3f5f\"},\"baxis\":{\"endlinecolor\":\"#2a3f5f\",\"gridcolor\":\"white\",\"linecolor\":\"white\",\"minorgridcolor\":\"white\",\"startlinecolor\":\"#2a3f5f\"},\"type\":\"carpet\"}],\"table\":[{\"cells\":{\"fill\":{\"color\":\"#EBF0F8\"},\"line\":{\"color\":\"white\"}},\"header\":{\"fill\":{\"color\":\"#C8D4E3\"},\"line\":{\"color\":\"white\"}},\"type\":\"table\"}],\"barpolar\":[{\"marker\":{\"line\":{\"color\":\"#E5ECF6\",\"width\":0.5},\"pattern\":{\"fillmode\":\"overlay\",\"size\":10,\"solidity\":0.2}},\"type\":\"barpolar\"}],\"pie\":[{\"automargin\":true,\"type\":\"pie\"}]},\"layout\":{\"autotypenumbers\":\"strict\",\"colorway\":[\"#636efa\",\"#EF553B\",\"#00cc96\",\"#ab63fa\",\"#FFA15A\",\"#19d3f3\",\"#FF6692\",\"#B6E880\",\"#FF97FF\",\"#FECB52\"],\"font\":{\"color\":\"#2a3f5f\"},\"hovermode\":\"closest\",\"hoverlabel\":{\"align\":\"left\"},\"paper_bgcolor\":\"white\",\"plot_bgcolor\":\"#E5ECF6\",\"polar\":{\"bgcolor\":\"#E5ECF6\",\"angularaxis\":{\"gridcolor\":\"white\",\"linecolor\":\"white\",\"ticks\":\"\"},\"radialaxis\":{\"gridcolor\":\"white\",\"linecolor\":\"white\",\"ticks\":\"\"}},\"ternary\":{\"bgcolor\":\"#E5ECF6\",\"aaxis\":{\"gridcolor\":\"white\",\"linecolor\":\"white\",\"ticks\":\"\"},\"baxis\":{\"gridcolor\":\"white\",\"linecolor\":\"white\",\"ticks\":\"\"},\"caxis\":{\"gridcolor\":\"white\",\"linecolor\":\"white\",\"ticks\":\"\"}},\"coloraxis\":{\"colorbar\":{\"outlinewidth\":0,\"ticks\":\"\"}},\"colorscale\":{\"sequential\":[[0.0,\"#0d0887\"],[0.1111111111111111,\"#46039f\"],[0.2222222222222222,\"#7201a8\"],[0.3333333333333333,\"#9c179e\"],[0.4444444444444444,\"#bd3786\"],[0.5555555555555556,\"#d8576b\"],[0.6666666666666666,\"#ed7953\"],[0.7777777777777778,\"#fb9f3a\"],[0.8888888888888888,\"#fdca26\"],[1.0,\"#f0f921\"]],\"sequentialminus\":[[0.0,\"#0d0887\"],[0.1111111111111111,\"#46039f\"],[0.2222222222222222,\"#7201a8\"],[0.3333333333333333,\"#9c179e\"],[0.4444444444444444,\"#bd3786\"],[0.5555555555555556,\"#d8576b\"],[0.6666666666666666,\"#ed7953\"],[0.7777777777777778,\"#fb9f3a\"],[0.8888888888888888,\"#fdca26\"],[1.0,\"#f0f921\"]],\"diverging\":[[0,\"#8e0152\"],[0.1,\"#c51b7d\"],[0.2,\"#de77ae\"],[0.3,\"#f1b6da\"],[0.4,\"#fde0ef\"],[0.5,\"#f7f7f7\"],[0.6,\"#e6f5d0\"],[0.7,\"#b8e186\"],[0.8,\"#7fbc41\"],[0.9,\"#4d9221\"],[1,\"#276419\"]]},\"xaxis\":{\"gridcolor\":\"white\",\"linecolor\":\"white\",\"ticks\":\"\",\"title\":{\"standoff\":15},\"zerolinecolor\":\"white\",\"automargin\":true,\"zerolinewidth\":2},\"yaxis\":{\"gridcolor\":\"white\",\"linecolor\":\"white\",\"ticks\":\"\",\"title\":{\"standoff\":15},\"zerolinecolor\":\"white\",\"automargin\":true,\"zerolinewidth\":2},\"scene\":{\"xaxis\":{\"backgroundcolor\":\"#E5ECF6\",\"gridcolor\":\"white\",\"linecolor\":\"white\",\"showbackground\":true,\"ticks\":\"\",\"zerolinecolor\":\"white\",\"gridwidth\":2},\"yaxis\":{\"backgroundcolor\":\"#E5ECF6\",\"gridcolor\":\"white\",\"linecolor\":\"white\",\"showbackground\":true,\"ticks\":\"\",\"zerolinecolor\":\"white\",\"gridwidth\":2},\"zaxis\":{\"backgroundcolor\":\"#E5ECF6\",\"gridcolor\":\"white\",\"linecolor\":\"white\",\"showbackground\":true,\"ticks\":\"\",\"zerolinecolor\":\"white\",\"gridwidth\":2}},\"shapedefaults\":{\"line\":{\"color\":\"#2a3f5f\"}},\"annotationdefaults\":{\"arrowcolor\":\"#2a3f5f\",\"arrowhead\":0,\"arrowwidth\":1},\"geo\":{\"bgcolor\":\"white\",\"landcolor\":\"#E5ECF6\",\"subunitcolor\":\"white\",\"showland\":true,\"showlakes\":true,\"lakecolor\":\"white\"},\"title\":{\"x\":0.05},\"mapbox\":{\"style\":\"light\"}}},\"xaxis\":{\"anchor\":\"y\",\"domain\":[0.0,1.0],\"title\":{\"text\":\"List Price\"}},\"yaxis\":{\"anchor\":\"x\",\"domain\":[0.0,1.0],\"title\":{\"text\":\"Amazon Price\"},\"range\":[0,1400]},\"legend\":{\"tracegroupgap\":0},\"margin\":{\"t\":60}},                        {\"responsive\": true}                    ).then(function(){\n",
       "                            \n",
       "var gd = document.getElementById('2afbcd7c-614a-4c89-8d44-b5fe29468a19');\n",
       "var x = new MutationObserver(function (mutations, observer) {{\n",
       "        var display = window.getComputedStyle(gd).display;\n",
       "        if (!display || display === 'none') {{\n",
       "            console.log([gd, 'removed!']);\n",
       "            Plotly.purge(gd);\n",
       "            observer.disconnect();\n",
       "        }}\n",
       "}});\n",
       "\n",
       "// Listen for the removal of the full notebook cells\n",
       "var notebookContainer = gd.closest('#notebook-container');\n",
       "if (notebookContainer) {{\n",
       "    x.observe(notebookContainer, {childList: true});\n",
       "}}\n",
       "\n",
       "// Listen for the clearing of the current output cell\n",
       "var outputEl = gd.closest('.output');\n",
       "if (outputEl) {{\n",
       "    x.observe(outputEl, {childList: true});\n",
       "}}\n",
       "\n",
       "                        })                };                });            </script>        </div>"
      ]
     },
     "metadata": {},
     "output_type": "display_data"
    }
   ],
   "source": [
    "import plotly.express as px\n",
    "fig = px.scatter(amazonbooks, x=\"List Price\", y=\"Amazon Price\")\n",
    "fig.update_layout(yaxis_range=[0,1400])\n",
    "fig.show()"
   ]
  },
  {
   "cell_type": "code",
   "execution_count": 10,
   "id": "0183d60d",
   "metadata": {},
   "outputs": [
    {
     "data": {
      "application/vnd.plotly.v1+json": {
       "config": {
        "plotlyServerURL": "https://plot.ly"
       },
       "data": [
        {
         "hovertemplate": "x=%{x}<br>y=%{y}<extra></extra>",
         "legendgroup": "",
         "marker": {
          "color": "#636efa",
          "symbol": "circle"
         },
         "mode": "markers",
         "name": "",
         "orientation": "v",
         "showlegend": false,
         "type": "scatter",
         "x": [
          12.95,
          15,
          1.5,
          15.99,
          30.5,
          28.95,
          20,
          15,
          35,
          30,
          17,
          17,
          19.95,
          20,
          39.95,
          18.99,
          5.95,
          15,
          7.5,
          15.95,
          13,
          11.94,
          14,
          14.95,
          22.99,
          15,
          18,
          7.95,
          14.95,
          14.95,
          7.95,
          15.95,
          20,
          14,
          29.5,
          11.99,
          13.07,
          13.95,
          15,
          4.99,
          13,
          13.99,
          24.95,
          26.99,
          14.95,
          6.69,
          5.99,
          13.95,
          26.95,
          24,
          16,
          13.99,
          17.99,
          15,
          8.99,
          6.99,
          14.54,
          17.99,
          114.95,
          48.2,
          15.95,
          15.95,
          18,
          86.95,
          15,
          17.99,
          15,
          11.5,
          26.95,
          6.99,
          15,
          16,
          53.95,
          15,
          6.99,
          12,
          21.1,
          13.95,
          14.99,
          30,
          7.99,
          8,
          15.99,
          26.99,
          27.99,
          17,
          6.99,
          14.95,
          18,
          16,
          6.99,
          16,
          8.99,
          16,
          19.99,
          18,
          8.99,
          17,
          14,
          27.95,
          139.95,
          24.95,
          14.95,
          6.95,
          26,
          26,
          9.95,
          27.99,
          16.99,
          8.95,
          14.95,
          15.95,
          21,
          14,
          20,
          15,
          14.95,
          15.95,
          14.99,
          14,
          12.95,
          24.99,
          15,
          15,
          25.95,
          25,
          9.99,
          26.99,
          17.99,
          15,
          15,
          25.05,
          17.99,
          16,
          14.99,
          20,
          7.99,
          17.99,
          14,
          13.29,
          16,
          13.83,
          12,
          14.95,
          15,
          16.99,
          15,
          6.95,
          14,
          15,
          20,
          16,
          15,
          16,
          15,
          15,
          16,
          8.95,
          5.99,
          16,
          15,
          14,
          35.95,
          14.99,
          7.95,
          16.99,
          98.95,
          35.75,
          19.73,
          37.5,
          14.95,
          13,
          15.95,
          26,
          5.99,
          14.99,
          16,
          9.99,
          15.95,
          14.99,
          14,
          13.95,
          15,
          16,
          75,
          32.95,
          26.95,
          15.99,
          15,
          24,
          6.95,
          16,
          16,
          26.95,
          26.99,
          7.99,
          17.95,
          35.75,
          6.99,
          9.99,
          6.99,
          15,
          12,
          9.99,
          null,
          11.99,
          15,
          24,
          16,
          14.99,
          16,
          12.14,
          7.75,
          14.1,
          4.99,
          13.95,
          22,
          12.99,
          13.99,
          8.95,
          8.99,
          7.95,
          15,
          17,
          13,
          12.99,
          70.8,
          48.2,
          9.99,
          30,
          15,
          14,
          16.99,
          22,
          8.42,
          9.99,
          15,
          14.95,
          18.99,
          10.95,
          16.95,
          28,
          25,
          15,
          15,
          15,
          17,
          13.95,
          16,
          11,
          8.99,
          17.99,
          16,
          15,
          12,
          17.99,
          21.99,
          15.95,
          24.95,
          39.95,
          16,
          10.65,
          13.99,
          19.95,
          14,
          15,
          16.95,
          9.99,
          14.95,
          11,
          17,
          14.95,
          12,
          9.99,
          25,
          14,
          17.99,
          30,
          16.99,
          34.8,
          15.95,
          7.77,
          3.95,
          2,
          8.99,
          18.95,
          20,
          20,
          15.44,
          22,
          14.95,
          17.99,
          16,
          14.95,
          25,
          14,
          14.95,
          26,
          24.99,
          20,
          13,
          13.99,
          15.99,
          12.6,
          10.99,
          24.99,
          28,
          35,
          15.95,
          6.99,
          14.95,
          14.95,
          14.95,
          25,
          27,
          15,
          15,
          15.95,
          14.95,
          26,
          18.99,
          27.55,
          12.95,
          97.5,
          16.99
         ],
         "xaxis": "x",
         "y": [
          51.8,
          102,
          15,
          108.69999999999999,
          167.7,
          164.4,
          134.60000000000002,
          84.39999999999999,
          188.1,
          198,
          89.7,
          104.60000000000001,
          135.7,
          146,
          379.5,
          115.8,
          39.900000000000006,
          102,
          58.7,
          108.5,
          104,
          119.39999999999999,
          112,
          89.60000000000001,
          156.3,
          102,
          121.1,
          79.5,
          149.5,
          101.7,
          79.5,
          83.9,
          136,
          87.5,
          266.1,
          95.9,
          125.19999999999999,
          111.6,
          102.2,
          49.900000000000006,
          104,
          105.39999999999999,
          158.2,
          156,
          101.7,
          69.9,
          59.900000000000006,
          111.6,
          204.8,
          163.2,
          90.7,
          83.80000000000001,
          89.7,
          102,
          89.9,
          69.9,
          99.9,
          113.6,
          830.4000000000001,
          443.2,
          79.7,
          79.7,
          122.4,
          546.1,
          102,
          114.60000000000001,
          102,
          115,
          149.9,
          69.9,
          102,
          108.80000000000001,
          399.20000000000005,
          102,
          69.9,
          90.7,
          164.60000000000002,
          78.3,
          101.89999999999999,
          174.3,
          79.9,
          80,
          99.5,
          146.1,
          112,
          104.60000000000001,
          69.9,
          89.7,
          122.4,
          92,
          69.9,
          108.80000000000001,
          89.9,
          90.9,
          107.5,
          122.4,
          89.9,
          115.5,
          112,
          199.89999999999998,
          1399.5,
          164.7,
          59.800000000000004,
          69.5,
          130,
          144.4,
          51.3,
          139.8,
          115.5,
          89.5,
          86,
          102.2,
          134.3,
          110.8,
          136,
          102,
          101.7,
          83.9,
          101.89999999999999,
          112,
          83.6,
          152,
          86.8,
          103.3,
          259.5,
          165,
          99.9,
          154.4,
          105.8,
          88.4,
          81.5,
          228.1,
          112.4,
          85.9,
          101.89999999999999,
          121.7,
          79.9,
          79.80000000000001,
          112,
          132.89999999999998,
          107.69999999999999,
          138.3,
          96,
          101.7,
          79,
          115.5,
          102,
          69.5,
          87.5,
          102,
          136,
          108.80000000000001,
          102,
          108.80000000000001,
          100.9,
          82.4,
          86.1,
          89.5,
          59.900000000000006,
          88.69999999999999,
          99.80000000000001,
          110.8,
          359.5,
          109.80000000000001,
          79.5,
          107.89999999999999,
          989.5,
          258.4,
          156.8,
          250,
          59.800000000000004,
          96.4,
          108.5,
          169.1,
          59.900000000000006,
          81.1,
          124.7,
          99.9,
          108.5,
          95.7,
          110.8,
          80.7,
          60,
          97.5,
          394.5,
          217.5,
          177.3,
          95.8,
          78.89999999999999,
          163.2,
          69.5,
          102.2,
          108.80000000000001,
          177.89999999999998,
          154.4,
          79.9,
          120.8,
          216.8,
          69.9,
          99.9,
          69.9,
          102,
          75.1,
          99.9,
          1182.1,
          77,
          102,
          154.8,
          107.69999999999999,
          84.3,
          64,
          90,
          77.5,
          119.9,
          49.900000000000006,
          85,
          220,
          73.1,
          106.8,
          89.5,
          89.9,
          79.5,
          100.9,
          114.39999999999999,
          92.8,
          96.6,
          557.5,
          397.2,
          99.9,
          200,
          86,
          80.39999999999999,
          106.8,
          149.60000000000002,
          84.2,
          99.9,
          85.19999999999999,
          82.6,
          111.6,
          78.2,
          91.6,
          160.9,
          156.2,
          88.4,
          89.2,
          80.5,
          115.60000000000001,
          77,
          88,
          64,
          49.400000000000006,
          102.10000000000001,
          80,
          83.6,
          92.2,
          99.9,
          125,
          89.5,
          225.10000000000002,
          237.89999999999998,
          95.19999999999999,
          131.3,
          77.9,
          108.6,
          112,
          102,
          115.3,
          99.9,
          101.7,
          88,
          104.7,
          79,
          90.9,
          99.9,
          144.60000000000002,
          82.2,
          89.80000000000001,
          239.4,
          112.8,
          249,
          99.2,
          77.69999999999999,
          39.5,
          7.7,
          89.9,
          151.5,
          136,
          136,
          84.5,
          149.60000000000002,
          101.7,
          108.80000000000001,
          101.1,
          82.8,
          147,
          140,
          59.800000000000004,
          137,
          179.89999999999998,
          121.7,
          102.89999999999999,
          111.89999999999999,
          85,
          126,
          69,
          146.9,
          160.79999999999998,
          231,
          106.8,
          69.9,
          107.5,
          101.7,
          101.7,
          100,
          134.9,
          102,
          102,
          108.5,
          81.4,
          190.10000000000002,
          122.4,
          275.5,
          51.8,
          975,
          49.5
         ],
         "yaxis": "y"
        }
       ],
       "layout": {
        "legend": {
         "tracegroupgap": 0
        },
        "margin": {
         "t": 60
        },
        "template": {
         "data": {
          "bar": [
           {
            "error_x": {
             "color": "#2a3f5f"
            },
            "error_y": {
             "color": "#2a3f5f"
            },
            "marker": {
             "line": {
              "color": "#E5ECF6",
              "width": 0.5
             },
             "pattern": {
              "fillmode": "overlay",
              "size": 10,
              "solidity": 0.2
             }
            },
            "type": "bar"
           }
          ],
          "barpolar": [
           {
            "marker": {
             "line": {
              "color": "#E5ECF6",
              "width": 0.5
             },
             "pattern": {
              "fillmode": "overlay",
              "size": 10,
              "solidity": 0.2
             }
            },
            "type": "barpolar"
           }
          ],
          "carpet": [
           {
            "aaxis": {
             "endlinecolor": "#2a3f5f",
             "gridcolor": "white",
             "linecolor": "white",
             "minorgridcolor": "white",
             "startlinecolor": "#2a3f5f"
            },
            "baxis": {
             "endlinecolor": "#2a3f5f",
             "gridcolor": "white",
             "linecolor": "white",
             "minorgridcolor": "white",
             "startlinecolor": "#2a3f5f"
            },
            "type": "carpet"
           }
          ],
          "choropleth": [
           {
            "colorbar": {
             "outlinewidth": 0,
             "ticks": ""
            },
            "type": "choropleth"
           }
          ],
          "contour": [
           {
            "colorbar": {
             "outlinewidth": 0,
             "ticks": ""
            },
            "colorscale": [
             [
              0,
              "#0d0887"
             ],
             [
              0.1111111111111111,
              "#46039f"
             ],
             [
              0.2222222222222222,
              "#7201a8"
             ],
             [
              0.3333333333333333,
              "#9c179e"
             ],
             [
              0.4444444444444444,
              "#bd3786"
             ],
             [
              0.5555555555555556,
              "#d8576b"
             ],
             [
              0.6666666666666666,
              "#ed7953"
             ],
             [
              0.7777777777777778,
              "#fb9f3a"
             ],
             [
              0.8888888888888888,
              "#fdca26"
             ],
             [
              1,
              "#f0f921"
             ]
            ],
            "type": "contour"
           }
          ],
          "contourcarpet": [
           {
            "colorbar": {
             "outlinewidth": 0,
             "ticks": ""
            },
            "type": "contourcarpet"
           }
          ],
          "heatmap": [
           {
            "colorbar": {
             "outlinewidth": 0,
             "ticks": ""
            },
            "colorscale": [
             [
              0,
              "#0d0887"
             ],
             [
              0.1111111111111111,
              "#46039f"
             ],
             [
              0.2222222222222222,
              "#7201a8"
             ],
             [
              0.3333333333333333,
              "#9c179e"
             ],
             [
              0.4444444444444444,
              "#bd3786"
             ],
             [
              0.5555555555555556,
              "#d8576b"
             ],
             [
              0.6666666666666666,
              "#ed7953"
             ],
             [
              0.7777777777777778,
              "#fb9f3a"
             ],
             [
              0.8888888888888888,
              "#fdca26"
             ],
             [
              1,
              "#f0f921"
             ]
            ],
            "type": "heatmap"
           }
          ],
          "heatmapgl": [
           {
            "colorbar": {
             "outlinewidth": 0,
             "ticks": ""
            },
            "colorscale": [
             [
              0,
              "#0d0887"
             ],
             [
              0.1111111111111111,
              "#46039f"
             ],
             [
              0.2222222222222222,
              "#7201a8"
             ],
             [
              0.3333333333333333,
              "#9c179e"
             ],
             [
              0.4444444444444444,
              "#bd3786"
             ],
             [
              0.5555555555555556,
              "#d8576b"
             ],
             [
              0.6666666666666666,
              "#ed7953"
             ],
             [
              0.7777777777777778,
              "#fb9f3a"
             ],
             [
              0.8888888888888888,
              "#fdca26"
             ],
             [
              1,
              "#f0f921"
             ]
            ],
            "type": "heatmapgl"
           }
          ],
          "histogram": [
           {
            "marker": {
             "pattern": {
              "fillmode": "overlay",
              "size": 10,
              "solidity": 0.2
             }
            },
            "type": "histogram"
           }
          ],
          "histogram2d": [
           {
            "colorbar": {
             "outlinewidth": 0,
             "ticks": ""
            },
            "colorscale": [
             [
              0,
              "#0d0887"
             ],
             [
              0.1111111111111111,
              "#46039f"
             ],
             [
              0.2222222222222222,
              "#7201a8"
             ],
             [
              0.3333333333333333,
              "#9c179e"
             ],
             [
              0.4444444444444444,
              "#bd3786"
             ],
             [
              0.5555555555555556,
              "#d8576b"
             ],
             [
              0.6666666666666666,
              "#ed7953"
             ],
             [
              0.7777777777777778,
              "#fb9f3a"
             ],
             [
              0.8888888888888888,
              "#fdca26"
             ],
             [
              1,
              "#f0f921"
             ]
            ],
            "type": "histogram2d"
           }
          ],
          "histogram2dcontour": [
           {
            "colorbar": {
             "outlinewidth": 0,
             "ticks": ""
            },
            "colorscale": [
             [
              0,
              "#0d0887"
             ],
             [
              0.1111111111111111,
              "#46039f"
             ],
             [
              0.2222222222222222,
              "#7201a8"
             ],
             [
              0.3333333333333333,
              "#9c179e"
             ],
             [
              0.4444444444444444,
              "#bd3786"
             ],
             [
              0.5555555555555556,
              "#d8576b"
             ],
             [
              0.6666666666666666,
              "#ed7953"
             ],
             [
              0.7777777777777778,
              "#fb9f3a"
             ],
             [
              0.8888888888888888,
              "#fdca26"
             ],
             [
              1,
              "#f0f921"
             ]
            ],
            "type": "histogram2dcontour"
           }
          ],
          "mesh3d": [
           {
            "colorbar": {
             "outlinewidth": 0,
             "ticks": ""
            },
            "type": "mesh3d"
           }
          ],
          "parcoords": [
           {
            "line": {
             "colorbar": {
              "outlinewidth": 0,
              "ticks": ""
             }
            },
            "type": "parcoords"
           }
          ],
          "pie": [
           {
            "automargin": true,
            "type": "pie"
           }
          ],
          "scatter": [
           {
            "fillpattern": {
             "fillmode": "overlay",
             "size": 10,
             "solidity": 0.2
            },
            "type": "scatter"
           }
          ],
          "scatter3d": [
           {
            "line": {
             "colorbar": {
              "outlinewidth": 0,
              "ticks": ""
             }
            },
            "marker": {
             "colorbar": {
              "outlinewidth": 0,
              "ticks": ""
             }
            },
            "type": "scatter3d"
           }
          ],
          "scattercarpet": [
           {
            "marker": {
             "colorbar": {
              "outlinewidth": 0,
              "ticks": ""
             }
            },
            "type": "scattercarpet"
           }
          ],
          "scattergeo": [
           {
            "marker": {
             "colorbar": {
              "outlinewidth": 0,
              "ticks": ""
             }
            },
            "type": "scattergeo"
           }
          ],
          "scattergl": [
           {
            "marker": {
             "colorbar": {
              "outlinewidth": 0,
              "ticks": ""
             }
            },
            "type": "scattergl"
           }
          ],
          "scattermapbox": [
           {
            "marker": {
             "colorbar": {
              "outlinewidth": 0,
              "ticks": ""
             }
            },
            "type": "scattermapbox"
           }
          ],
          "scatterpolar": [
           {
            "marker": {
             "colorbar": {
              "outlinewidth": 0,
              "ticks": ""
             }
            },
            "type": "scatterpolar"
           }
          ],
          "scatterpolargl": [
           {
            "marker": {
             "colorbar": {
              "outlinewidth": 0,
              "ticks": ""
             }
            },
            "type": "scatterpolargl"
           }
          ],
          "scatterternary": [
           {
            "marker": {
             "colorbar": {
              "outlinewidth": 0,
              "ticks": ""
             }
            },
            "type": "scatterternary"
           }
          ],
          "surface": [
           {
            "colorbar": {
             "outlinewidth": 0,
             "ticks": ""
            },
            "colorscale": [
             [
              0,
              "#0d0887"
             ],
             [
              0.1111111111111111,
              "#46039f"
             ],
             [
              0.2222222222222222,
              "#7201a8"
             ],
             [
              0.3333333333333333,
              "#9c179e"
             ],
             [
              0.4444444444444444,
              "#bd3786"
             ],
             [
              0.5555555555555556,
              "#d8576b"
             ],
             [
              0.6666666666666666,
              "#ed7953"
             ],
             [
              0.7777777777777778,
              "#fb9f3a"
             ],
             [
              0.8888888888888888,
              "#fdca26"
             ],
             [
              1,
              "#f0f921"
             ]
            ],
            "type": "surface"
           }
          ],
          "table": [
           {
            "cells": {
             "fill": {
              "color": "#EBF0F8"
             },
             "line": {
              "color": "white"
             }
            },
            "header": {
             "fill": {
              "color": "#C8D4E3"
             },
             "line": {
              "color": "white"
             }
            },
            "type": "table"
           }
          ]
         },
         "layout": {
          "annotationdefaults": {
           "arrowcolor": "#2a3f5f",
           "arrowhead": 0,
           "arrowwidth": 1
          },
          "autotypenumbers": "strict",
          "coloraxis": {
           "colorbar": {
            "outlinewidth": 0,
            "ticks": ""
           }
          },
          "colorscale": {
           "diverging": [
            [
             0,
             "#8e0152"
            ],
            [
             0.1,
             "#c51b7d"
            ],
            [
             0.2,
             "#de77ae"
            ],
            [
             0.3,
             "#f1b6da"
            ],
            [
             0.4,
             "#fde0ef"
            ],
            [
             0.5,
             "#f7f7f7"
            ],
            [
             0.6,
             "#e6f5d0"
            ],
            [
             0.7,
             "#b8e186"
            ],
            [
             0.8,
             "#7fbc41"
            ],
            [
             0.9,
             "#4d9221"
            ],
            [
             1,
             "#276419"
            ]
           ],
           "sequential": [
            [
             0,
             "#0d0887"
            ],
            [
             0.1111111111111111,
             "#46039f"
            ],
            [
             0.2222222222222222,
             "#7201a8"
            ],
            [
             0.3333333333333333,
             "#9c179e"
            ],
            [
             0.4444444444444444,
             "#bd3786"
            ],
            [
             0.5555555555555556,
             "#d8576b"
            ],
            [
             0.6666666666666666,
             "#ed7953"
            ],
            [
             0.7777777777777778,
             "#fb9f3a"
            ],
            [
             0.8888888888888888,
             "#fdca26"
            ],
            [
             1,
             "#f0f921"
            ]
           ],
           "sequentialminus": [
            [
             0,
             "#0d0887"
            ],
            [
             0.1111111111111111,
             "#46039f"
            ],
            [
             0.2222222222222222,
             "#7201a8"
            ],
            [
             0.3333333333333333,
             "#9c179e"
            ],
            [
             0.4444444444444444,
             "#bd3786"
            ],
            [
             0.5555555555555556,
             "#d8576b"
            ],
            [
             0.6666666666666666,
             "#ed7953"
            ],
            [
             0.7777777777777778,
             "#fb9f3a"
            ],
            [
             0.8888888888888888,
             "#fdca26"
            ],
            [
             1,
             "#f0f921"
            ]
           ]
          },
          "colorway": [
           "#636efa",
           "#EF553B",
           "#00cc96",
           "#ab63fa",
           "#FFA15A",
           "#19d3f3",
           "#FF6692",
           "#B6E880",
           "#FF97FF",
           "#FECB52"
          ],
          "font": {
           "color": "#2a3f5f"
          },
          "geo": {
           "bgcolor": "white",
           "lakecolor": "white",
           "landcolor": "#E5ECF6",
           "showlakes": true,
           "showland": true,
           "subunitcolor": "white"
          },
          "hoverlabel": {
           "align": "left"
          },
          "hovermode": "closest",
          "mapbox": {
           "style": "light"
          },
          "paper_bgcolor": "white",
          "plot_bgcolor": "#E5ECF6",
          "polar": {
           "angularaxis": {
            "gridcolor": "white",
            "linecolor": "white",
            "ticks": ""
           },
           "bgcolor": "#E5ECF6",
           "radialaxis": {
            "gridcolor": "white",
            "linecolor": "white",
            "ticks": ""
           }
          },
          "scene": {
           "xaxis": {
            "backgroundcolor": "#E5ECF6",
            "gridcolor": "white",
            "gridwidth": 2,
            "linecolor": "white",
            "showbackground": true,
            "ticks": "",
            "zerolinecolor": "white"
           },
           "yaxis": {
            "backgroundcolor": "#E5ECF6",
            "gridcolor": "white",
            "gridwidth": 2,
            "linecolor": "white",
            "showbackground": true,
            "ticks": "",
            "zerolinecolor": "white"
           },
           "zaxis": {
            "backgroundcolor": "#E5ECF6",
            "gridcolor": "white",
            "gridwidth": 2,
            "linecolor": "white",
            "showbackground": true,
            "ticks": "",
            "zerolinecolor": "white"
           }
          },
          "shapedefaults": {
           "line": {
            "color": "#2a3f5f"
           }
          },
          "ternary": {
           "aaxis": {
            "gridcolor": "white",
            "linecolor": "white",
            "ticks": ""
           },
           "baxis": {
            "gridcolor": "white",
            "linecolor": "white",
            "ticks": ""
           },
           "bgcolor": "#E5ECF6",
           "caxis": {
            "gridcolor": "white",
            "linecolor": "white",
            "ticks": ""
           }
          },
          "title": {
           "x": 0.05
          },
          "xaxis": {
           "automargin": true,
           "gridcolor": "white",
           "linecolor": "white",
           "ticks": "",
           "title": {
            "standoff": 15
           },
           "zerolinecolor": "white",
           "zerolinewidth": 2
          },
          "yaxis": {
           "automargin": true,
           "gridcolor": "white",
           "linecolor": "white",
           "ticks": "",
           "title": {
            "standoff": 15
           },
           "zerolinecolor": "white",
           "zerolinewidth": 2
          }
         }
        },
        "xaxis": {
         "anchor": "y",
         "domain": [
          0,
          1
         ],
         "title": {
          "text": "x"
         }
        },
        "yaxis": {
         "anchor": "x",
         "domain": [
          0,
          1
         ],
         "range": [
          0,
          1400
         ],
         "title": {
          "text": "y"
         }
        }
       }
      },
      "text/html": [
       "<div>                            <div id=\"d403ca4a-8f76-41c2-80f2-6f5188c487e4\" class=\"plotly-graph-div\" style=\"height:525px; width:100%;\"></div>            <script type=\"text/javascript\">                require([\"plotly\"], function(Plotly) {                    window.PLOTLYENV=window.PLOTLYENV || {};                                    if (document.getElementById(\"d403ca4a-8f76-41c2-80f2-6f5188c487e4\")) {                    Plotly.newPlot(                        \"d403ca4a-8f76-41c2-80f2-6f5188c487e4\",                        [{\"hovertemplate\":\"x=%{x}<br>y=%{y}<extra></extra>\",\"legendgroup\":\"\",\"marker\":{\"color\":\"#636efa\",\"symbol\":\"circle\"},\"mode\":\"markers\",\"name\":\"\",\"orientation\":\"v\",\"showlegend\":false,\"x\":[12.95,15.0,1.5,15.99,30.5,28.95,20.0,15.0,35.0,30.0,17.0,17.0,19.95,20.0,39.95,18.99,5.95,15.0,7.5,15.95,13.0,11.94,14.0,14.95,22.99,15.0,18.0,7.95,14.95,14.95,7.95,15.95,20.0,14.0,29.5,11.99,13.07,13.95,15.0,4.99,13.0,13.99,24.95,26.99,14.95,6.69,5.99,13.95,26.95,24.0,16.0,13.99,17.99,15.0,8.99,6.99,14.54,17.99,114.95,48.2,15.95,15.95,18.0,86.95,15.0,17.99,15.0,11.5,26.95,6.99,15.0,16.0,53.95,15.0,6.99,12.0,21.1,13.95,14.99,30.0,7.99,8.0,15.99,26.99,27.99,17.0,6.99,14.95,18.0,16.0,6.99,16.0,8.99,16.0,19.99,18.0,8.99,17.0,14.0,27.95,139.95,24.95,14.95,6.95,26.0,26.0,9.95,27.99,16.99,8.95,14.95,15.95,21.0,14.0,20.0,15.0,14.95,15.95,14.99,14.0,12.95,24.99,15.0,15.0,25.95,25.0,9.99,26.99,17.99,15.0,15.0,25.05,17.99,16.0,14.99,20.0,7.99,17.99,14.0,13.29,16.0,13.83,12.0,14.95,15.0,16.99,15.0,6.95,14.0,15.0,20.0,16.0,15.0,16.0,15.0,15.0,16.0,8.95,5.99,16.0,15.0,14.0,35.95,14.99,7.95,16.99,98.95,35.75,19.73,37.5,14.95,13.0,15.95,26.0,5.99,14.99,16.0,9.99,15.95,14.99,14.0,13.95,15.0,16.0,75.0,32.95,26.95,15.99,15.0,24.0,6.95,16.0,16.0,26.95,26.99,7.99,17.95,35.75,6.99,9.99,6.99,15.0,12.0,9.99,null,11.99,15.0,24.0,16.0,14.99,16.0,12.14,7.75,14.1,4.99,13.95,22.0,12.99,13.99,8.95,8.99,7.95,15.0,17.0,13.0,12.99,70.8,48.2,9.99,30.0,15.0,14.0,16.99,22.0,8.42,9.99,15.0,14.95,18.99,10.95,16.95,28.0,25.0,15.0,15.0,15.0,17.0,13.95,16.0,11.0,8.99,17.99,16.0,15.0,12.0,17.99,21.99,15.95,24.95,39.95,16.0,10.65,13.99,19.95,14.0,15.0,16.95,9.99,14.95,11.0,17.0,14.95,12.0,9.99,25.0,14.0,17.99,30.0,16.99,34.8,15.95,7.77,3.95,2.0,8.99,18.95,20.0,20.0,15.44,22.0,14.95,17.99,16.0,14.95,25.0,14.0,14.95,26.0,24.99,20.0,13.0,13.99,15.99,12.6,10.99,24.99,28.0,35.0,15.95,6.99,14.95,14.95,14.95,25.0,27.0,15.0,15.0,15.95,14.95,26.0,18.99,27.55,12.95,97.5,16.99],\"xaxis\":\"x\",\"y\":[51.8,102.0,15.0,108.69999999999999,167.7,164.4,134.60000000000002,84.39999999999999,188.1,198.0,89.7,104.60000000000001,135.7,146.0,379.5,115.8,39.900000000000006,102.0,58.7,108.5,104.0,119.39999999999999,112.0,89.60000000000001,156.3,102.0,121.1,79.5,149.5,101.7,79.5,83.9,136.0,87.5,266.1,95.9,125.19999999999999,111.6,102.2,49.900000000000006,104.0,105.39999999999999,158.2,156.0,101.7,69.9,59.900000000000006,111.6,204.8,163.2,90.7,83.80000000000001,89.7,102.0,89.9,69.9,99.9,113.6,830.4000000000001,443.2,79.7,79.7,122.4,546.1,102.0,114.60000000000001,102.0,115.0,149.9,69.9,102.0,108.80000000000001,399.20000000000005,102.0,69.9,90.7,164.60000000000002,78.3,101.89999999999999,174.3,79.9,80.0,99.5,146.1,112.0,104.60000000000001,69.9,89.7,122.4,92.0,69.9,108.80000000000001,89.9,90.9,107.5,122.4,89.9,115.5,112.0,199.89999999999998,1399.5,164.7,59.800000000000004,69.5,130.0,144.4,51.3,139.8,115.5,89.5,86.0,102.2,134.3,110.8,136.0,102.0,101.7,83.9,101.89999999999999,112.0,83.6,152.0,86.8,103.3,259.5,165.0,99.9,154.4,105.8,88.4,81.5,228.1,112.4,85.9,101.89999999999999,121.7,79.9,79.80000000000001,112.0,132.89999999999998,107.69999999999999,138.3,96.0,101.7,79.0,115.5,102.0,69.5,87.5,102.0,136.0,108.80000000000001,102.0,108.80000000000001,100.9,82.4,86.1,89.5,59.900000000000006,88.69999999999999,99.80000000000001,110.8,359.5,109.80000000000001,79.5,107.89999999999999,989.5,258.4,156.8,250.0,59.800000000000004,96.4,108.5,169.1,59.900000000000006,81.1,124.7,99.9,108.5,95.7,110.8,80.7,60.0,97.5,394.5,217.5,177.3,95.8,78.89999999999999,163.2,69.5,102.2,108.80000000000001,177.89999999999998,154.4,79.9,120.8,216.8,69.9,99.9,69.9,102.0,75.1,99.9,1182.1,77.0,102.0,154.8,107.69999999999999,84.3,64.0,90.0,77.5,119.9,49.900000000000006,85.0,220.0,73.1,106.8,89.5,89.9,79.5,100.9,114.39999999999999,92.8,96.6,557.5,397.2,99.9,200.0,86.0,80.39999999999999,106.8,149.60000000000002,84.2,99.9,85.19999999999999,82.6,111.6,78.2,91.6,160.9,156.2,88.4,89.2,80.5,115.60000000000001,77.0,88.0,64.0,49.400000000000006,102.10000000000001,80.0,83.6,92.2,99.9,125.0,89.5,225.10000000000002,237.89999999999998,95.19999999999999,131.3,77.9,108.6,112.0,102.0,115.3,99.9,101.7,88.0,104.7,79.0,90.9,99.9,144.60000000000002,82.2,89.80000000000001,239.4,112.8,249.0,99.2,77.69999999999999,39.5,7.7,89.9,151.5,136.0,136.0,84.5,149.60000000000002,101.7,108.80000000000001,101.1,82.8,147.0,140.0,59.800000000000004,137.0,179.89999999999998,121.7,102.89999999999999,111.89999999999999,85.0,126.0,69.0,146.9,160.79999999999998,231.0,106.8,69.9,107.5,101.7,101.7,100.0,134.9,102.0,102.0,108.5,81.4,190.10000000000002,122.4,275.5,51.8,975.0,49.5],\"yaxis\":\"y\",\"type\":\"scatter\"}],                        {\"template\":{\"data\":{\"histogram2dcontour\":[{\"type\":\"histogram2dcontour\",\"colorbar\":{\"outlinewidth\":0,\"ticks\":\"\"},\"colorscale\":[[0.0,\"#0d0887\"],[0.1111111111111111,\"#46039f\"],[0.2222222222222222,\"#7201a8\"],[0.3333333333333333,\"#9c179e\"],[0.4444444444444444,\"#bd3786\"],[0.5555555555555556,\"#d8576b\"],[0.6666666666666666,\"#ed7953\"],[0.7777777777777778,\"#fb9f3a\"],[0.8888888888888888,\"#fdca26\"],[1.0,\"#f0f921\"]]}],\"choropleth\":[{\"type\":\"choropleth\",\"colorbar\":{\"outlinewidth\":0,\"ticks\":\"\"}}],\"histogram2d\":[{\"type\":\"histogram2d\",\"colorbar\":{\"outlinewidth\":0,\"ticks\":\"\"},\"colorscale\":[[0.0,\"#0d0887\"],[0.1111111111111111,\"#46039f\"],[0.2222222222222222,\"#7201a8\"],[0.3333333333333333,\"#9c179e\"],[0.4444444444444444,\"#bd3786\"],[0.5555555555555556,\"#d8576b\"],[0.6666666666666666,\"#ed7953\"],[0.7777777777777778,\"#fb9f3a\"],[0.8888888888888888,\"#fdca26\"],[1.0,\"#f0f921\"]]}],\"heatmap\":[{\"type\":\"heatmap\",\"colorbar\":{\"outlinewidth\":0,\"ticks\":\"\"},\"colorscale\":[[0.0,\"#0d0887\"],[0.1111111111111111,\"#46039f\"],[0.2222222222222222,\"#7201a8\"],[0.3333333333333333,\"#9c179e\"],[0.4444444444444444,\"#bd3786\"],[0.5555555555555556,\"#d8576b\"],[0.6666666666666666,\"#ed7953\"],[0.7777777777777778,\"#fb9f3a\"],[0.8888888888888888,\"#fdca26\"],[1.0,\"#f0f921\"]]}],\"heatmapgl\":[{\"type\":\"heatmapgl\",\"colorbar\":{\"outlinewidth\":0,\"ticks\":\"\"},\"colorscale\":[[0.0,\"#0d0887\"],[0.1111111111111111,\"#46039f\"],[0.2222222222222222,\"#7201a8\"],[0.3333333333333333,\"#9c179e\"],[0.4444444444444444,\"#bd3786\"],[0.5555555555555556,\"#d8576b\"],[0.6666666666666666,\"#ed7953\"],[0.7777777777777778,\"#fb9f3a\"],[0.8888888888888888,\"#fdca26\"],[1.0,\"#f0f921\"]]}],\"contourcarpet\":[{\"type\":\"contourcarpet\",\"colorbar\":{\"outlinewidth\":0,\"ticks\":\"\"}}],\"contour\":[{\"type\":\"contour\",\"colorbar\":{\"outlinewidth\":0,\"ticks\":\"\"},\"colorscale\":[[0.0,\"#0d0887\"],[0.1111111111111111,\"#46039f\"],[0.2222222222222222,\"#7201a8\"],[0.3333333333333333,\"#9c179e\"],[0.4444444444444444,\"#bd3786\"],[0.5555555555555556,\"#d8576b\"],[0.6666666666666666,\"#ed7953\"],[0.7777777777777778,\"#fb9f3a\"],[0.8888888888888888,\"#fdca26\"],[1.0,\"#f0f921\"]]}],\"surface\":[{\"type\":\"surface\",\"colorbar\":{\"outlinewidth\":0,\"ticks\":\"\"},\"colorscale\":[[0.0,\"#0d0887\"],[0.1111111111111111,\"#46039f\"],[0.2222222222222222,\"#7201a8\"],[0.3333333333333333,\"#9c179e\"],[0.4444444444444444,\"#bd3786\"],[0.5555555555555556,\"#d8576b\"],[0.6666666666666666,\"#ed7953\"],[0.7777777777777778,\"#fb9f3a\"],[0.8888888888888888,\"#fdca26\"],[1.0,\"#f0f921\"]]}],\"mesh3d\":[{\"type\":\"mesh3d\",\"colorbar\":{\"outlinewidth\":0,\"ticks\":\"\"}}],\"scatter\":[{\"fillpattern\":{\"fillmode\":\"overlay\",\"size\":10,\"solidity\":0.2},\"type\":\"scatter\"}],\"parcoords\":[{\"type\":\"parcoords\",\"line\":{\"colorbar\":{\"outlinewidth\":0,\"ticks\":\"\"}}}],\"scatterpolargl\":[{\"type\":\"scatterpolargl\",\"marker\":{\"colorbar\":{\"outlinewidth\":0,\"ticks\":\"\"}}}],\"bar\":[{\"error_x\":{\"color\":\"#2a3f5f\"},\"error_y\":{\"color\":\"#2a3f5f\"},\"marker\":{\"line\":{\"color\":\"#E5ECF6\",\"width\":0.5},\"pattern\":{\"fillmode\":\"overlay\",\"size\":10,\"solidity\":0.2}},\"type\":\"bar\"}],\"scattergeo\":[{\"type\":\"scattergeo\",\"marker\":{\"colorbar\":{\"outlinewidth\":0,\"ticks\":\"\"}}}],\"scatterpolar\":[{\"type\":\"scatterpolar\",\"marker\":{\"colorbar\":{\"outlinewidth\":0,\"ticks\":\"\"}}}],\"histogram\":[{\"marker\":{\"pattern\":{\"fillmode\":\"overlay\",\"size\":10,\"solidity\":0.2}},\"type\":\"histogram\"}],\"scattergl\":[{\"type\":\"scattergl\",\"marker\":{\"colorbar\":{\"outlinewidth\":0,\"ticks\":\"\"}}}],\"scatter3d\":[{\"type\":\"scatter3d\",\"line\":{\"colorbar\":{\"outlinewidth\":0,\"ticks\":\"\"}},\"marker\":{\"colorbar\":{\"outlinewidth\":0,\"ticks\":\"\"}}}],\"scattermapbox\":[{\"type\":\"scattermapbox\",\"marker\":{\"colorbar\":{\"outlinewidth\":0,\"ticks\":\"\"}}}],\"scatterternary\":[{\"type\":\"scatterternary\",\"marker\":{\"colorbar\":{\"outlinewidth\":0,\"ticks\":\"\"}}}],\"scattercarpet\":[{\"type\":\"scattercarpet\",\"marker\":{\"colorbar\":{\"outlinewidth\":0,\"ticks\":\"\"}}}],\"carpet\":[{\"aaxis\":{\"endlinecolor\":\"#2a3f5f\",\"gridcolor\":\"white\",\"linecolor\":\"white\",\"minorgridcolor\":\"white\",\"startlinecolor\":\"#2a3f5f\"},\"baxis\":{\"endlinecolor\":\"#2a3f5f\",\"gridcolor\":\"white\",\"linecolor\":\"white\",\"minorgridcolor\":\"white\",\"startlinecolor\":\"#2a3f5f\"},\"type\":\"carpet\"}],\"table\":[{\"cells\":{\"fill\":{\"color\":\"#EBF0F8\"},\"line\":{\"color\":\"white\"}},\"header\":{\"fill\":{\"color\":\"#C8D4E3\"},\"line\":{\"color\":\"white\"}},\"type\":\"table\"}],\"barpolar\":[{\"marker\":{\"line\":{\"color\":\"#E5ECF6\",\"width\":0.5},\"pattern\":{\"fillmode\":\"overlay\",\"size\":10,\"solidity\":0.2}},\"type\":\"barpolar\"}],\"pie\":[{\"automargin\":true,\"type\":\"pie\"}]},\"layout\":{\"autotypenumbers\":\"strict\",\"colorway\":[\"#636efa\",\"#EF553B\",\"#00cc96\",\"#ab63fa\",\"#FFA15A\",\"#19d3f3\",\"#FF6692\",\"#B6E880\",\"#FF97FF\",\"#FECB52\"],\"font\":{\"color\":\"#2a3f5f\"},\"hovermode\":\"closest\",\"hoverlabel\":{\"align\":\"left\"},\"paper_bgcolor\":\"white\",\"plot_bgcolor\":\"#E5ECF6\",\"polar\":{\"bgcolor\":\"#E5ECF6\",\"angularaxis\":{\"gridcolor\":\"white\",\"linecolor\":\"white\",\"ticks\":\"\"},\"radialaxis\":{\"gridcolor\":\"white\",\"linecolor\":\"white\",\"ticks\":\"\"}},\"ternary\":{\"bgcolor\":\"#E5ECF6\",\"aaxis\":{\"gridcolor\":\"white\",\"linecolor\":\"white\",\"ticks\":\"\"},\"baxis\":{\"gridcolor\":\"white\",\"linecolor\":\"white\",\"ticks\":\"\"},\"caxis\":{\"gridcolor\":\"white\",\"linecolor\":\"white\",\"ticks\":\"\"}},\"coloraxis\":{\"colorbar\":{\"outlinewidth\":0,\"ticks\":\"\"}},\"colorscale\":{\"sequential\":[[0.0,\"#0d0887\"],[0.1111111111111111,\"#46039f\"],[0.2222222222222222,\"#7201a8\"],[0.3333333333333333,\"#9c179e\"],[0.4444444444444444,\"#bd3786\"],[0.5555555555555556,\"#d8576b\"],[0.6666666666666666,\"#ed7953\"],[0.7777777777777778,\"#fb9f3a\"],[0.8888888888888888,\"#fdca26\"],[1.0,\"#f0f921\"]],\"sequentialminus\":[[0.0,\"#0d0887\"],[0.1111111111111111,\"#46039f\"],[0.2222222222222222,\"#7201a8\"],[0.3333333333333333,\"#9c179e\"],[0.4444444444444444,\"#bd3786\"],[0.5555555555555556,\"#d8576b\"],[0.6666666666666666,\"#ed7953\"],[0.7777777777777778,\"#fb9f3a\"],[0.8888888888888888,\"#fdca26\"],[1.0,\"#f0f921\"]],\"diverging\":[[0,\"#8e0152\"],[0.1,\"#c51b7d\"],[0.2,\"#de77ae\"],[0.3,\"#f1b6da\"],[0.4,\"#fde0ef\"],[0.5,\"#f7f7f7\"],[0.6,\"#e6f5d0\"],[0.7,\"#b8e186\"],[0.8,\"#7fbc41\"],[0.9,\"#4d9221\"],[1,\"#276419\"]]},\"xaxis\":{\"gridcolor\":\"white\",\"linecolor\":\"white\",\"ticks\":\"\",\"title\":{\"standoff\":15},\"zerolinecolor\":\"white\",\"automargin\":true,\"zerolinewidth\":2},\"yaxis\":{\"gridcolor\":\"white\",\"linecolor\":\"white\",\"ticks\":\"\",\"title\":{\"standoff\":15},\"zerolinecolor\":\"white\",\"automargin\":true,\"zerolinewidth\":2},\"scene\":{\"xaxis\":{\"backgroundcolor\":\"#E5ECF6\",\"gridcolor\":\"white\",\"linecolor\":\"white\",\"showbackground\":true,\"ticks\":\"\",\"zerolinecolor\":\"white\",\"gridwidth\":2},\"yaxis\":{\"backgroundcolor\":\"#E5ECF6\",\"gridcolor\":\"white\",\"linecolor\":\"white\",\"showbackground\":true,\"ticks\":\"\",\"zerolinecolor\":\"white\",\"gridwidth\":2},\"zaxis\":{\"backgroundcolor\":\"#E5ECF6\",\"gridcolor\":\"white\",\"linecolor\":\"white\",\"showbackground\":true,\"ticks\":\"\",\"zerolinecolor\":\"white\",\"gridwidth\":2}},\"shapedefaults\":{\"line\":{\"color\":\"#2a3f5f\"}},\"annotationdefaults\":{\"arrowcolor\":\"#2a3f5f\",\"arrowhead\":0,\"arrowwidth\":1},\"geo\":{\"bgcolor\":\"white\",\"landcolor\":\"#E5ECF6\",\"subunitcolor\":\"white\",\"showland\":true,\"showlakes\":true,\"lakecolor\":\"white\"},\"title\":{\"x\":0.05},\"mapbox\":{\"style\":\"light\"}}},\"xaxis\":{\"anchor\":\"y\",\"domain\":[0.0,1.0],\"title\":{\"text\":\"x\"}},\"yaxis\":{\"anchor\":\"x\",\"domain\":[0.0,1.0],\"title\":{\"text\":\"y\"},\"range\":[0,1400]},\"legend\":{\"tracegroupgap\":0},\"margin\":{\"t\":60}},                        {\"responsive\": true}                    ).then(function(){\n",
       "                            \n",
       "var gd = document.getElementById('d403ca4a-8f76-41c2-80f2-6f5188c487e4');\n",
       "var x = new MutationObserver(function (mutations, observer) {{\n",
       "        var display = window.getComputedStyle(gd).display;\n",
       "        if (!display || display === 'none') {{\n",
       "            console.log([gd, 'removed!']);\n",
       "            Plotly.purge(gd);\n",
       "            observer.disconnect();\n",
       "        }}\n",
       "}});\n",
       "\n",
       "// Listen for the removal of the full notebook cells\n",
       "var notebookContainer = gd.closest('#notebook-container');\n",
       "if (notebookContainer) {{\n",
       "    x.observe(notebookContainer, {childList: true});\n",
       "}}\n",
       "\n",
       "// Listen for the clearing of the current output cell\n",
       "var outputEl = gd.closest('.output');\n",
       "if (outputEl) {{\n",
       "    x.observe(outputEl, {childList: true});\n",
       "}}\n",
       "\n",
       "                        })                };                });            </script>        </div>"
      ]
     },
     "metadata": {},
     "output_type": "display_data"
    }
   ],
   "source": [
    "fig = px.scatter(x=amazonbooks[\"List Price\"], y=10*amazonbooks[\"Amazon Price\"])\n",
    "fig.update_layout(yaxis_range=[0,1400])\n",
    "fig.show()"
   ]
  },
  {
   "cell_type": "code",
   "execution_count": 4,
   "id": "d8195e34",
   "metadata": {},
   "outputs": [
    {
     "data": {
      "text/html": [
       "<div>\n",
       "<style scoped>\n",
       "    .dataframe tbody tr th:only-of-type {\n",
       "        vertical-align: middle;\n",
       "    }\n",
       "\n",
       "    .dataframe tbody tr th {\n",
       "        vertical-align: top;\n",
       "    }\n",
       "\n",
       "    .dataframe thead th {\n",
       "        text-align: right;\n",
       "    }\n",
       "</style>\n",
       "<table border=\"1\" class=\"dataframe\">\n",
       "  <thead>\n",
       "    <tr style=\"text-align: right;\">\n",
       "      <th></th>\n",
       "      <th>List Price</th>\n",
       "      <th>Amazon Price</th>\n",
       "    </tr>\n",
       "  </thead>\n",
       "  <tbody>\n",
       "    <tr>\n",
       "      <th>0</th>\n",
       "      <td>12.95</td>\n",
       "      <td>5.18</td>\n",
       "    </tr>\n",
       "    <tr>\n",
       "      <th>1</th>\n",
       "      <td>15.00</td>\n",
       "      <td>10.20</td>\n",
       "    </tr>\n",
       "    <tr>\n",
       "      <th>2</th>\n",
       "      <td>1.50</td>\n",
       "      <td>1.50</td>\n",
       "    </tr>\n",
       "    <tr>\n",
       "      <th>3</th>\n",
       "      <td>15.99</td>\n",
       "      <td>10.87</td>\n",
       "    </tr>\n",
       "    <tr>\n",
       "      <th>4</th>\n",
       "      <td>30.50</td>\n",
       "      <td>16.77</td>\n",
       "    </tr>\n",
       "    <tr>\n",
       "      <th>...</th>\n",
       "      <td>...</td>\n",
       "      <td>...</td>\n",
       "    </tr>\n",
       "    <tr>\n",
       "      <th>320</th>\n",
       "      <td>18.99</td>\n",
       "      <td>12.24</td>\n",
       "    </tr>\n",
       "    <tr>\n",
       "      <th>321</th>\n",
       "      <td>27.55</td>\n",
       "      <td>27.55</td>\n",
       "    </tr>\n",
       "    <tr>\n",
       "      <th>322</th>\n",
       "      <td>12.95</td>\n",
       "      <td>5.18</td>\n",
       "    </tr>\n",
       "    <tr>\n",
       "      <th>323</th>\n",
       "      <td>97.50</td>\n",
       "      <td>97.50</td>\n",
       "    </tr>\n",
       "    <tr>\n",
       "      <th>324</th>\n",
       "      <td>16.99</td>\n",
       "      <td>4.95</td>\n",
       "    </tr>\n",
       "  </tbody>\n",
       "</table>\n",
       "<p>324 rows × 2 columns</p>\n",
       "</div>"
      ],
      "text/plain": [
       "     List Price  Amazon Price\n",
       "0         12.95          5.18\n",
       "1         15.00         10.20\n",
       "2          1.50          1.50\n",
       "3         15.99         10.87\n",
       "4         30.50         16.77\n",
       "..          ...           ...\n",
       "320       18.99         12.24\n",
       "321       27.55         27.55\n",
       "322       12.95          5.18\n",
       "323       97.50         97.50\n",
       "324       16.99          4.95\n",
       "\n",
       "[324 rows x 2 columns]"
      ]
     },
     "execution_count": 4,
     "metadata": {},
     "output_type": "execute_result"
    }
   ],
   "source": [
    "amazonbooks[[\"List Price\",\"Amazon Price\"]].dropna()"
   ]
  },
  {
   "cell_type": "markdown",
   "id": "98369c08",
   "metadata": {},
   "source": [
    "$$\\require{enclose} \\enclose{horizontalstrike}{\\huge \\rho} \\text{ this would be the population correlation}$$\n",
    "\n",
    "Instead, we'll do the sample correlation\n",
    "\n",
    "\n",
    "$$\\huge  \\sqrt{r^2} = r_{xy} = \\frac{\\displaystyle \\sum_{i=0}^{n-1(=323)} (x_i - \\bar x)(y_i - \\bar y)}{s_xs_y (n-1[=323])} $$\n",
    "\n",
    "![](https://upload.wikimedia.org/wikipedia/commons/thumb/d/d4/Correlation_examples2.svg/2880px-Correlation_examples2.svg.png)\n"
   ]
  },
  {
   "cell_type": "code",
   "execution_count": 13,
   "id": "ccd86408",
   "metadata": {},
   "outputs": [
    {
     "data": {
      "text/plain": [
       "array([[1.        , 0.95032858],\n",
       "       [0.95032858, 1.        ]])"
      ]
     },
     "execution_count": 13,
     "metadata": {},
     "output_type": "execute_result"
    }
   ],
   "source": [
    "import numpy as np\n",
    "amazon_prices_nonans = amazonbooks[[\"List Price\",\"Amazon Price\"]].dropna()\n",
    "np.corrcoef(amazon_prices_nonans[\"List Price\"], amazon_prices_nonans[\"Amazon Price\"])\n",
    "# correlation .95"
   ]
  },
  {
   "cell_type": "code",
   "execution_count": 14,
   "id": "c870b1b5",
   "metadata": {},
   "outputs": [
    {
     "data": {
      "text/plain": [
       "array([[1.        , 0.95032858],\n",
       "       [0.95032858, 1.        ]])"
      ]
     },
     "execution_count": 14,
     "metadata": {},
     "output_type": "execute_result"
    }
   ],
   "source": [
    "np.corrcoef(amazon_prices_nonans[\"List Price\"], 10*amazon_prices_nonans[\"Amazon Price\"])"
   ]
  },
  {
   "cell_type": "markdown",
   "id": "1331529c",
   "metadata": {},
   "source": [
    "## Correlation measures the strength of a *straight line* relationship between two variables"
   ]
  },
  {
   "cell_type": "markdown",
   "id": "f1551717",
   "metadata": {},
   "source": [
    "$$ \\huge \n",
    "\\begin{aligned}\n",
    "\\hat \\beta_1  &={} r_{xy} \\frac {s_{y}}{s_{x}} \\quad \\text{ slope coefficent}\\\\\n",
    " &={} {\\frac {\\sum _{i=1}^{n}(x_{i}-{\\bar {x}})(y_{i}-{\\bar {y}})}{\\sum _{i=1}^{n}(x_{i}-{\\bar {x}})^{2}}}\\\\\\\\\n",
    "\\hat \\beta_0  &={} \\bar{y} -  \\bar{x}\\beta_1 \\quad \\text{ intercept}\n",
    "\\end{aligned}\n",
    "$$"
   ]
  },
  {
   "cell_type": "code",
   "execution_count": 17,
   "id": "a34a2391",
   "metadata": {},
   "outputs": [
    {
     "data": {
      "text/plain": [
       "(0.8297803288638311, -2.4069593052705063)"
      ]
     },
     "execution_count": 17,
     "metadata": {},
     "output_type": "execute_result"
    }
   ],
   "source": [
    "x = amazon_prices_nonans[\"List Price\"]\n",
    "y = amazon_prices_nonans[\"Amazon Price\"]\n",
    "\n",
    "beta1_hat = 0.95032858 * (y.std()/x.std())\n",
    "beta0_hat = y.mean() - beta1_hat*x.mean()\n",
    "beta1_hat, beta0_hat"
   ]
  },
  {
   "cell_type": "markdown",
   "id": "93561d35",
   "metadata": {},
   "source": [
    "# abline [a=$\\beta_0$ and b=$\\beta_1$]\n",
    "$$\\huge y = \\beta_0+\\beta_1x$$\n",
    "and\n",
    "$$\\huge \\hat y = \\hat \\beta_0+\\hat \\beta_1x$$\n"
   ]
  },
  {
   "cell_type": "code",
   "execution_count": 52,
   "id": "c21de9bf",
   "metadata": {},
   "outputs": [
    {
     "data": {
      "text/html": [
       "<div>\n",
       "<style scoped>\n",
       "    .dataframe tbody tr th:only-of-type {\n",
       "        vertical-align: middle;\n",
       "    }\n",
       "\n",
       "    .dataframe tbody tr th {\n",
       "        vertical-align: top;\n",
       "    }\n",
       "\n",
       "    .dataframe thead th {\n",
       "        text-align: right;\n",
       "    }\n",
       "</style>\n",
       "<table border=\"1\" class=\"dataframe\">\n",
       "  <thead>\n",
       "    <tr style=\"text-align: right;\">\n",
       "      <th></th>\n",
       "      <th>y_ = 0+.65*x</th>\n",
       "      <th>y_hat = -2.4+.82*x</th>\n",
       "      <th>x</th>\n",
       "    </tr>\n",
       "  </thead>\n",
       "  <tbody>\n",
       "    <tr>\n",
       "      <th>0</th>\n",
       "      <td>0.0</td>\n",
       "      <td>-2.406959</td>\n",
       "      <td>0.0</td>\n",
       "    </tr>\n",
       "    <tr>\n",
       "      <th>1</th>\n",
       "      <td>0.7</td>\n",
       "      <td>-1.577179</td>\n",
       "      <td>1.0</td>\n",
       "    </tr>\n",
       "    <tr>\n",
       "      <th>2</th>\n",
       "      <td>1.4</td>\n",
       "      <td>-0.747399</td>\n",
       "      <td>2.0</td>\n",
       "    </tr>\n",
       "    <tr>\n",
       "      <th>3</th>\n",
       "      <td>2.1</td>\n",
       "      <td>0.082382</td>\n",
       "      <td>3.0</td>\n",
       "    </tr>\n",
       "    <tr>\n",
       "      <th>4</th>\n",
       "      <td>2.8</td>\n",
       "      <td>0.912162</td>\n",
       "      <td>4.0</td>\n",
       "    </tr>\n",
       "    <tr>\n",
       "      <th>...</th>\n",
       "      <td>...</td>\n",
       "      <td>...</td>\n",
       "      <td>...</td>\n",
       "    </tr>\n",
       "    <tr>\n",
       "      <th>136</th>\n",
       "      <td>95.2</td>\n",
       "      <td>110.443165</td>\n",
       "      <td>136.0</td>\n",
       "    </tr>\n",
       "    <tr>\n",
       "      <th>137</th>\n",
       "      <td>95.9</td>\n",
       "      <td>111.272946</td>\n",
       "      <td>137.0</td>\n",
       "    </tr>\n",
       "    <tr>\n",
       "      <th>138</th>\n",
       "      <td>96.6</td>\n",
       "      <td>112.102726</td>\n",
       "      <td>138.0</td>\n",
       "    </tr>\n",
       "    <tr>\n",
       "      <th>139</th>\n",
       "      <td>97.3</td>\n",
       "      <td>112.932506</td>\n",
       "      <td>139.0</td>\n",
       "    </tr>\n",
       "    <tr>\n",
       "      <th>140</th>\n",
       "      <td>98.0</td>\n",
       "      <td>113.762287</td>\n",
       "      <td>140.0</td>\n",
       "    </tr>\n",
       "  </tbody>\n",
       "</table>\n",
       "<p>141 rows × 3 columns</p>\n",
       "</div>"
      ],
      "text/plain": [
       "     y_ = 0+.65*x  y_hat = -2.4+.82*x      x\n",
       "0             0.0           -2.406959    0.0\n",
       "1             0.7           -1.577179    1.0\n",
       "2             1.4           -0.747399    2.0\n",
       "3             2.1            0.082382    3.0\n",
       "4             2.8            0.912162    4.0\n",
       "..            ...                 ...    ...\n",
       "136          95.2          110.443165  136.0\n",
       "137          95.9          111.272946  137.0\n",
       "138          96.6          112.102726  138.0\n",
       "139          97.3          112.932506  139.0\n",
       "140          98.0          113.762287  140.0\n",
       "\n",
       "[141 rows x 3 columns]"
      ]
     },
     "execution_count": 52,
     "metadata": {},
     "output_type": "execute_result"
    }
   ],
   "source": [
    "x_ = np.linspace(0,140,141)\n",
    "beta1 = .7\n",
    "beta0 = 0\n",
    "y_ = beta0 + beta1*x_\n",
    "y_hat = beta0_hat + beta1_hat*x_\n",
    "#fig = px.line(x=x_, y=y_); fig.show()\n",
    "\n",
    "line_models = pd.DataFrame({'y_ = 0+.65*x': y_, 'y_hat = -2.4+.82*x': y_hat, 'x': x_})\n",
    "line_models"
   ]
  },
  {
   "cell_type": "code",
   "execution_count": 53,
   "id": "a7f6412e",
   "metadata": {},
   "outputs": [
    {
     "data": {
      "text/html": [
       "<div>\n",
       "<style scoped>\n",
       "    .dataframe tbody tr th:only-of-type {\n",
       "        vertical-align: middle;\n",
       "    }\n",
       "\n",
       "    .dataframe tbody tr th {\n",
       "        vertical-align: top;\n",
       "    }\n",
       "\n",
       "    .dataframe thead th {\n",
       "        text-align: right;\n",
       "    }\n",
       "</style>\n",
       "<table border=\"1\" class=\"dataframe\">\n",
       "  <thead>\n",
       "    <tr style=\"text-align: right;\">\n",
       "      <th></th>\n",
       "      <th>x</th>\n",
       "      <th>variable</th>\n",
       "      <th>value</th>\n",
       "    </tr>\n",
       "  </thead>\n",
       "  <tbody>\n",
       "    <tr>\n",
       "      <th>0</th>\n",
       "      <td>0.0</td>\n",
       "      <td>y_ = 0+.65*x</td>\n",
       "      <td>0.000000</td>\n",
       "    </tr>\n",
       "    <tr>\n",
       "      <th>1</th>\n",
       "      <td>1.0</td>\n",
       "      <td>y_ = 0+.65*x</td>\n",
       "      <td>0.700000</td>\n",
       "    </tr>\n",
       "    <tr>\n",
       "      <th>2</th>\n",
       "      <td>2.0</td>\n",
       "      <td>y_ = 0+.65*x</td>\n",
       "      <td>1.400000</td>\n",
       "    </tr>\n",
       "    <tr>\n",
       "      <th>3</th>\n",
       "      <td>3.0</td>\n",
       "      <td>y_ = 0+.65*x</td>\n",
       "      <td>2.100000</td>\n",
       "    </tr>\n",
       "    <tr>\n",
       "      <th>4</th>\n",
       "      <td>4.0</td>\n",
       "      <td>y_ = 0+.65*x</td>\n",
       "      <td>2.800000</td>\n",
       "    </tr>\n",
       "    <tr>\n",
       "      <th>...</th>\n",
       "      <td>...</td>\n",
       "      <td>...</td>\n",
       "      <td>...</td>\n",
       "    </tr>\n",
       "    <tr>\n",
       "      <th>277</th>\n",
       "      <td>136.0</td>\n",
       "      <td>y_hat = -2.4+.82*x</td>\n",
       "      <td>110.443165</td>\n",
       "    </tr>\n",
       "    <tr>\n",
       "      <th>278</th>\n",
       "      <td>137.0</td>\n",
       "      <td>y_hat = -2.4+.82*x</td>\n",
       "      <td>111.272946</td>\n",
       "    </tr>\n",
       "    <tr>\n",
       "      <th>279</th>\n",
       "      <td>138.0</td>\n",
       "      <td>y_hat = -2.4+.82*x</td>\n",
       "      <td>112.102726</td>\n",
       "    </tr>\n",
       "    <tr>\n",
       "      <th>280</th>\n",
       "      <td>139.0</td>\n",
       "      <td>y_hat = -2.4+.82*x</td>\n",
       "      <td>112.932506</td>\n",
       "    </tr>\n",
       "    <tr>\n",
       "      <th>281</th>\n",
       "      <td>140.0</td>\n",
       "      <td>y_hat = -2.4+.82*x</td>\n",
       "      <td>113.762287</td>\n",
       "    </tr>\n",
       "  </tbody>\n",
       "</table>\n",
       "<p>282 rows × 3 columns</p>\n",
       "</div>"
      ],
      "text/plain": [
       "         x            variable       value\n",
       "0      0.0        y_ = 0+.65*x    0.000000\n",
       "1      1.0        y_ = 0+.65*x    0.700000\n",
       "2      2.0        y_ = 0+.65*x    1.400000\n",
       "3      3.0        y_ = 0+.65*x    2.100000\n",
       "4      4.0        y_ = 0+.65*x    2.800000\n",
       "..     ...                 ...         ...\n",
       "277  136.0  y_hat = -2.4+.82*x  110.443165\n",
       "278  137.0  y_hat = -2.4+.82*x  111.272946\n",
       "279  138.0  y_hat = -2.4+.82*x  112.102726\n",
       "280  139.0  y_hat = -2.4+.82*x  112.932506\n",
       "281  140.0  y_hat = -2.4+.82*x  113.762287\n",
       "\n",
       "[282 rows x 3 columns]"
      ]
     },
     "execution_count": 53,
     "metadata": {},
     "output_type": "execute_result"
    }
   ],
   "source": [
    "line_models_tall = pd.melt(line_models, id_vars=['x'], value_vars=['y_ = 0+.65*x','y_hat = -2.4+.82*x'])\n",
    "line_models_tall"
   ]
  },
  {
   "cell_type": "code",
   "execution_count": 54,
   "id": "8fb57f1b",
   "metadata": {},
   "outputs": [
    {
     "data": {
      "application/vnd.plotly.v1+json": {
       "config": {
        "plotlyServerURL": "https://plot.ly"
       },
       "data": [
        {
         "hovertemplate": "variable=y_ = 0+.65*x<br>x=%{x}<br>value=%{y}<extra></extra>",
         "legendgroup": "y_ = 0+.65*x",
         "line": {
          "color": "#636efa",
          "dash": "solid"
         },
         "marker": {
          "symbol": "circle"
         },
         "mode": "lines",
         "name": "y_ = 0+.65*x",
         "orientation": "v",
         "showlegend": true,
         "type": "scatter",
         "x": [
          0,
          1,
          2,
          3,
          4,
          5,
          6,
          7,
          8,
          9,
          10,
          11,
          12,
          13,
          14,
          15,
          16,
          17,
          18,
          19,
          20,
          21,
          22,
          23,
          24,
          25,
          26,
          27,
          28,
          29,
          30,
          31,
          32,
          33,
          34,
          35,
          36,
          37,
          38,
          39,
          40,
          41,
          42,
          43,
          44,
          45,
          46,
          47,
          48,
          49,
          50,
          51,
          52,
          53,
          54,
          55,
          56,
          57,
          58,
          59,
          60,
          61,
          62,
          63,
          64,
          65,
          66,
          67,
          68,
          69,
          70,
          71,
          72,
          73,
          74,
          75,
          76,
          77,
          78,
          79,
          80,
          81,
          82,
          83,
          84,
          85,
          86,
          87,
          88,
          89,
          90,
          91,
          92,
          93,
          94,
          95,
          96,
          97,
          98,
          99,
          100,
          101,
          102,
          103,
          104,
          105,
          106,
          107,
          108,
          109,
          110,
          111,
          112,
          113,
          114,
          115,
          116,
          117,
          118,
          119,
          120,
          121,
          122,
          123,
          124,
          125,
          126,
          127,
          128,
          129,
          130,
          131,
          132,
          133,
          134,
          135,
          136,
          137,
          138,
          139,
          140
         ],
         "xaxis": "x",
         "y": [
          0,
          0.7,
          1.4,
          2.0999999999999996,
          2.8,
          3.5,
          4.199999999999999,
          4.8999999999999995,
          5.6,
          6.3,
          7,
          7.699999999999999,
          8.399999999999999,
          9.1,
          9.799999999999999,
          10.5,
          11.2,
          11.899999999999999,
          12.6,
          13.299999999999999,
          14,
          14.7,
          15.399999999999999,
          16.099999999999998,
          16.799999999999997,
          17.5,
          18.2,
          18.9,
          19.599999999999998,
          20.299999999999997,
          21,
          21.7,
          22.4,
          23.099999999999998,
          23.799999999999997,
          24.5,
          25.2,
          25.9,
          26.599999999999998,
          27.299999999999997,
          28,
          28.7,
          29.4,
          30.099999999999998,
          30.799999999999997,
          31.499999999999996,
          32.199999999999996,
          32.9,
          33.599999999999994,
          34.3,
          35,
          35.699999999999996,
          36.4,
          37.099999999999994,
          37.8,
          38.5,
          39.199999999999996,
          39.9,
          40.599999999999994,
          41.3,
          42,
          42.699999999999996,
          43.4,
          44.099999999999994,
          44.8,
          45.5,
          46.199999999999996,
          46.9,
          47.599999999999994,
          48.3,
          49,
          49.699999999999996,
          50.4,
          51.099999999999994,
          51.8,
          52.5,
          53.199999999999996,
          53.9,
          54.599999999999994,
          55.3,
          56,
          56.699999999999996,
          57.4,
          58.099999999999994,
          58.8,
          59.49999999999999,
          60.199999999999996,
          60.9,
          61.599999999999994,
          62.3,
          62.99999999999999,
          63.699999999999996,
          64.39999999999999,
          65.1,
          65.8,
          66.5,
          67.19999999999999,
          67.89999999999999,
          68.6,
          69.3,
          70,
          70.69999999999999,
          71.39999999999999,
          72.1,
          72.8,
          73.5,
          74.19999999999999,
          74.89999999999999,
          75.6,
          76.3,
          77,
          77.69999999999999,
          78.39999999999999,
          79.1,
          79.8,
          80.5,
          81.19999999999999,
          81.89999999999999,
          82.6,
          83.3,
          84,
          84.69999999999999,
          85.39999999999999,
          86.1,
          86.8,
          87.5,
          88.19999999999999,
          88.89999999999999,
          89.6,
          90.3,
          91,
          91.69999999999999,
          92.39999999999999,
          93.1,
          93.8,
          94.5,
          95.19999999999999,
          95.89999999999999,
          96.6,
          97.3,
          98
         ],
         "yaxis": "y"
        },
        {
         "hovertemplate": "variable=y_hat = -2.4+.82*x<br>x=%{x}<br>value=%{y}<extra></extra>",
         "legendgroup": "y_hat = -2.4+.82*x",
         "line": {
          "color": "#EF553B",
          "dash": "solid"
         },
         "marker": {
          "symbol": "circle"
         },
         "mode": "lines",
         "name": "y_hat = -2.4+.82*x",
         "orientation": "v",
         "showlegend": true,
         "type": "scatter",
         "x": [
          0,
          1,
          2,
          3,
          4,
          5,
          6,
          7,
          8,
          9,
          10,
          11,
          12,
          13,
          14,
          15,
          16,
          17,
          18,
          19,
          20,
          21,
          22,
          23,
          24,
          25,
          26,
          27,
          28,
          29,
          30,
          31,
          32,
          33,
          34,
          35,
          36,
          37,
          38,
          39,
          40,
          41,
          42,
          43,
          44,
          45,
          46,
          47,
          48,
          49,
          50,
          51,
          52,
          53,
          54,
          55,
          56,
          57,
          58,
          59,
          60,
          61,
          62,
          63,
          64,
          65,
          66,
          67,
          68,
          69,
          70,
          71,
          72,
          73,
          74,
          75,
          76,
          77,
          78,
          79,
          80,
          81,
          82,
          83,
          84,
          85,
          86,
          87,
          88,
          89,
          90,
          91,
          92,
          93,
          94,
          95,
          96,
          97,
          98,
          99,
          100,
          101,
          102,
          103,
          104,
          105,
          106,
          107,
          108,
          109,
          110,
          111,
          112,
          113,
          114,
          115,
          116,
          117,
          118,
          119,
          120,
          121,
          122,
          123,
          124,
          125,
          126,
          127,
          128,
          129,
          130,
          131,
          132,
          133,
          134,
          135,
          136,
          137,
          138,
          139,
          140
         ],
         "xaxis": "x",
         "y": [
          -2.4069593052705063,
          -1.577178976406675,
          -0.747398647542844,
          0.082381681320987,
          0.9121620101848182,
          1.7419423390486495,
          2.5717226679124803,
          3.401502996776312,
          4.231283325640143,
          5.0610636545039736,
          5.890843983367805,
          6.720624312231637,
          7.550404641095467,
          8.380184969959299,
          9.20996529882313,
          10.03974562768696,
          10.869525956550792,
          11.699306285414623,
          12.529086614278453,
          13.358866943142285,
          14.188647272006117,
          15.018427600869947,
          15.84820792973378,
          16.67798825859761,
          17.50776858746144,
          18.337548916325275,
          19.1673292451891,
          19.997109574052935,
          20.82688990291677,
          21.656670231780595,
          22.48645056064443,
          23.31623088950826,
          24.146011218372088,
          24.97579154723592,
          25.805571876099755,
          26.63535220496358,
          27.465132533827415,
          28.29491286269125,
          29.124693191555075,
          29.954473520418908,
          30.78425384928274,
          31.614034178146575,
          32.4438145070104,
          33.273594835874235,
          34.10337516473807,
          34.933155493601895,
          35.76293582246573,
          36.59271615132956,
          37.42249648019339,
          38.25227680905722,
          39.082057137921055,
          39.91183746678488,
          40.741617795648715,
          41.57139812451255,
          42.401178453376374,
          43.23095878224021,
          44.06073911110404,
          44.89051943996787,
          45.7202997688317,
          46.550080097695535,
          47.37986042655936,
          48.209640755423194,
          49.03942108428703,
          49.869201413150854,
          50.69898174201469,
          51.52876207087852,
          52.35854239974235,
          53.18832272860618,
          54.018103057470015,
          54.84788338633384,
          55.677663715197674,
          56.50744404406151,
          57.337224372925334,
          58.16700470178917,
          58.996785030653,
          59.82656535951683,
          60.65634568838066,
          61.486126017244494,
          62.31590634610832,
          63.145686674972154,
          63.97546700383599,
          64.80524733269982,
          65.63502766156365,
          66.46480799042747,
          67.29458831929131,
          68.12436864815514,
          68.95414897701897,
          69.78392930588281,
          70.61370963474664,
          71.44348996361046,
          72.2732702924743,
          73.10305062133813,
          73.93283095020196,
          74.7626112790658,
          75.59239160792963,
          76.42217193679345,
          77.25195226565728,
          78.08173259452111,
          78.91151292338495,
          79.74129325224878,
          80.57107358111261,
          81.40085390997643,
          82.23063423884027,
          83.0604145677041,
          83.89019489656793,
          84.71997522543177,
          85.5497555542956,
          86.37953588315942,
          87.20931621202325,
          88.03909654088709,
          88.86887686975092,
          89.69865719861475,
          90.52843752747859,
          91.3582178563424,
          92.18799818520624,
          93.01777851407007,
          93.8475588429339,
          94.67733917179774,
          95.50711950066157,
          96.3368998295254,
          97.16668015838923,
          97.99646048725306,
          98.8262408161169,
          99.65602114498073,
          100.48580147384456,
          101.31558180270838,
          102.14536213157221,
          102.97514246043605,
          103.80492278929988,
          104.63470311816371,
          105.46448344702755,
          106.29426377589138,
          107.1240441047552,
          107.95382443361903,
          108.78360476248287,
          109.6133850913467,
          110.44316542021053,
          111.27294574907437,
          112.10272607793819,
          112.93250640680202,
          113.76228673566585
         ],
         "yaxis": "y"
        }
       ],
       "layout": {
        "legend": {
         "title": {
          "text": "variable"
         },
         "tracegroupgap": 0
        },
        "margin": {
         "t": 60
        },
        "template": {
         "data": {
          "bar": [
           {
            "error_x": {
             "color": "#2a3f5f"
            },
            "error_y": {
             "color": "#2a3f5f"
            },
            "marker": {
             "line": {
              "color": "#E5ECF6",
              "width": 0.5
             },
             "pattern": {
              "fillmode": "overlay",
              "size": 10,
              "solidity": 0.2
             }
            },
            "type": "bar"
           }
          ],
          "barpolar": [
           {
            "marker": {
             "line": {
              "color": "#E5ECF6",
              "width": 0.5
             },
             "pattern": {
              "fillmode": "overlay",
              "size": 10,
              "solidity": 0.2
             }
            },
            "type": "barpolar"
           }
          ],
          "carpet": [
           {
            "aaxis": {
             "endlinecolor": "#2a3f5f",
             "gridcolor": "white",
             "linecolor": "white",
             "minorgridcolor": "white",
             "startlinecolor": "#2a3f5f"
            },
            "baxis": {
             "endlinecolor": "#2a3f5f",
             "gridcolor": "white",
             "linecolor": "white",
             "minorgridcolor": "white",
             "startlinecolor": "#2a3f5f"
            },
            "type": "carpet"
           }
          ],
          "choropleth": [
           {
            "colorbar": {
             "outlinewidth": 0,
             "ticks": ""
            },
            "type": "choropleth"
           }
          ],
          "contour": [
           {
            "colorbar": {
             "outlinewidth": 0,
             "ticks": ""
            },
            "colorscale": [
             [
              0,
              "#0d0887"
             ],
             [
              0.1111111111111111,
              "#46039f"
             ],
             [
              0.2222222222222222,
              "#7201a8"
             ],
             [
              0.3333333333333333,
              "#9c179e"
             ],
             [
              0.4444444444444444,
              "#bd3786"
             ],
             [
              0.5555555555555556,
              "#d8576b"
             ],
             [
              0.6666666666666666,
              "#ed7953"
             ],
             [
              0.7777777777777778,
              "#fb9f3a"
             ],
             [
              0.8888888888888888,
              "#fdca26"
             ],
             [
              1,
              "#f0f921"
             ]
            ],
            "type": "contour"
           }
          ],
          "contourcarpet": [
           {
            "colorbar": {
             "outlinewidth": 0,
             "ticks": ""
            },
            "type": "contourcarpet"
           }
          ],
          "heatmap": [
           {
            "colorbar": {
             "outlinewidth": 0,
             "ticks": ""
            },
            "colorscale": [
             [
              0,
              "#0d0887"
             ],
             [
              0.1111111111111111,
              "#46039f"
             ],
             [
              0.2222222222222222,
              "#7201a8"
             ],
             [
              0.3333333333333333,
              "#9c179e"
             ],
             [
              0.4444444444444444,
              "#bd3786"
             ],
             [
              0.5555555555555556,
              "#d8576b"
             ],
             [
              0.6666666666666666,
              "#ed7953"
             ],
             [
              0.7777777777777778,
              "#fb9f3a"
             ],
             [
              0.8888888888888888,
              "#fdca26"
             ],
             [
              1,
              "#f0f921"
             ]
            ],
            "type": "heatmap"
           }
          ],
          "heatmapgl": [
           {
            "colorbar": {
             "outlinewidth": 0,
             "ticks": ""
            },
            "colorscale": [
             [
              0,
              "#0d0887"
             ],
             [
              0.1111111111111111,
              "#46039f"
             ],
             [
              0.2222222222222222,
              "#7201a8"
             ],
             [
              0.3333333333333333,
              "#9c179e"
             ],
             [
              0.4444444444444444,
              "#bd3786"
             ],
             [
              0.5555555555555556,
              "#d8576b"
             ],
             [
              0.6666666666666666,
              "#ed7953"
             ],
             [
              0.7777777777777778,
              "#fb9f3a"
             ],
             [
              0.8888888888888888,
              "#fdca26"
             ],
             [
              1,
              "#f0f921"
             ]
            ],
            "type": "heatmapgl"
           }
          ],
          "histogram": [
           {
            "marker": {
             "pattern": {
              "fillmode": "overlay",
              "size": 10,
              "solidity": 0.2
             }
            },
            "type": "histogram"
           }
          ],
          "histogram2d": [
           {
            "colorbar": {
             "outlinewidth": 0,
             "ticks": ""
            },
            "colorscale": [
             [
              0,
              "#0d0887"
             ],
             [
              0.1111111111111111,
              "#46039f"
             ],
             [
              0.2222222222222222,
              "#7201a8"
             ],
             [
              0.3333333333333333,
              "#9c179e"
             ],
             [
              0.4444444444444444,
              "#bd3786"
             ],
             [
              0.5555555555555556,
              "#d8576b"
             ],
             [
              0.6666666666666666,
              "#ed7953"
             ],
             [
              0.7777777777777778,
              "#fb9f3a"
             ],
             [
              0.8888888888888888,
              "#fdca26"
             ],
             [
              1,
              "#f0f921"
             ]
            ],
            "type": "histogram2d"
           }
          ],
          "histogram2dcontour": [
           {
            "colorbar": {
             "outlinewidth": 0,
             "ticks": ""
            },
            "colorscale": [
             [
              0,
              "#0d0887"
             ],
             [
              0.1111111111111111,
              "#46039f"
             ],
             [
              0.2222222222222222,
              "#7201a8"
             ],
             [
              0.3333333333333333,
              "#9c179e"
             ],
             [
              0.4444444444444444,
              "#bd3786"
             ],
             [
              0.5555555555555556,
              "#d8576b"
             ],
             [
              0.6666666666666666,
              "#ed7953"
             ],
             [
              0.7777777777777778,
              "#fb9f3a"
             ],
             [
              0.8888888888888888,
              "#fdca26"
             ],
             [
              1,
              "#f0f921"
             ]
            ],
            "type": "histogram2dcontour"
           }
          ],
          "mesh3d": [
           {
            "colorbar": {
             "outlinewidth": 0,
             "ticks": ""
            },
            "type": "mesh3d"
           }
          ],
          "parcoords": [
           {
            "line": {
             "colorbar": {
              "outlinewidth": 0,
              "ticks": ""
             }
            },
            "type": "parcoords"
           }
          ],
          "pie": [
           {
            "automargin": true,
            "type": "pie"
           }
          ],
          "scatter": [
           {
            "fillpattern": {
             "fillmode": "overlay",
             "size": 10,
             "solidity": 0.2
            },
            "type": "scatter"
           }
          ],
          "scatter3d": [
           {
            "line": {
             "colorbar": {
              "outlinewidth": 0,
              "ticks": ""
             }
            },
            "marker": {
             "colorbar": {
              "outlinewidth": 0,
              "ticks": ""
             }
            },
            "type": "scatter3d"
           }
          ],
          "scattercarpet": [
           {
            "marker": {
             "colorbar": {
              "outlinewidth": 0,
              "ticks": ""
             }
            },
            "type": "scattercarpet"
           }
          ],
          "scattergeo": [
           {
            "marker": {
             "colorbar": {
              "outlinewidth": 0,
              "ticks": ""
             }
            },
            "type": "scattergeo"
           }
          ],
          "scattergl": [
           {
            "marker": {
             "colorbar": {
              "outlinewidth": 0,
              "ticks": ""
             }
            },
            "type": "scattergl"
           }
          ],
          "scattermapbox": [
           {
            "marker": {
             "colorbar": {
              "outlinewidth": 0,
              "ticks": ""
             }
            },
            "type": "scattermapbox"
           }
          ],
          "scatterpolar": [
           {
            "marker": {
             "colorbar": {
              "outlinewidth": 0,
              "ticks": ""
             }
            },
            "type": "scatterpolar"
           }
          ],
          "scatterpolargl": [
           {
            "marker": {
             "colorbar": {
              "outlinewidth": 0,
              "ticks": ""
             }
            },
            "type": "scatterpolargl"
           }
          ],
          "scatterternary": [
           {
            "marker": {
             "colorbar": {
              "outlinewidth": 0,
              "ticks": ""
             }
            },
            "type": "scatterternary"
           }
          ],
          "surface": [
           {
            "colorbar": {
             "outlinewidth": 0,
             "ticks": ""
            },
            "colorscale": [
             [
              0,
              "#0d0887"
             ],
             [
              0.1111111111111111,
              "#46039f"
             ],
             [
              0.2222222222222222,
              "#7201a8"
             ],
             [
              0.3333333333333333,
              "#9c179e"
             ],
             [
              0.4444444444444444,
              "#bd3786"
             ],
             [
              0.5555555555555556,
              "#d8576b"
             ],
             [
              0.6666666666666666,
              "#ed7953"
             ],
             [
              0.7777777777777778,
              "#fb9f3a"
             ],
             [
              0.8888888888888888,
              "#fdca26"
             ],
             [
              1,
              "#f0f921"
             ]
            ],
            "type": "surface"
           }
          ],
          "table": [
           {
            "cells": {
             "fill": {
              "color": "#EBF0F8"
             },
             "line": {
              "color": "white"
             }
            },
            "header": {
             "fill": {
              "color": "#C8D4E3"
             },
             "line": {
              "color": "white"
             }
            },
            "type": "table"
           }
          ]
         },
         "layout": {
          "annotationdefaults": {
           "arrowcolor": "#2a3f5f",
           "arrowhead": 0,
           "arrowwidth": 1
          },
          "autotypenumbers": "strict",
          "coloraxis": {
           "colorbar": {
            "outlinewidth": 0,
            "ticks": ""
           }
          },
          "colorscale": {
           "diverging": [
            [
             0,
             "#8e0152"
            ],
            [
             0.1,
             "#c51b7d"
            ],
            [
             0.2,
             "#de77ae"
            ],
            [
             0.3,
             "#f1b6da"
            ],
            [
             0.4,
             "#fde0ef"
            ],
            [
             0.5,
             "#f7f7f7"
            ],
            [
             0.6,
             "#e6f5d0"
            ],
            [
             0.7,
             "#b8e186"
            ],
            [
             0.8,
             "#7fbc41"
            ],
            [
             0.9,
             "#4d9221"
            ],
            [
             1,
             "#276419"
            ]
           ],
           "sequential": [
            [
             0,
             "#0d0887"
            ],
            [
             0.1111111111111111,
             "#46039f"
            ],
            [
             0.2222222222222222,
             "#7201a8"
            ],
            [
             0.3333333333333333,
             "#9c179e"
            ],
            [
             0.4444444444444444,
             "#bd3786"
            ],
            [
             0.5555555555555556,
             "#d8576b"
            ],
            [
             0.6666666666666666,
             "#ed7953"
            ],
            [
             0.7777777777777778,
             "#fb9f3a"
            ],
            [
             0.8888888888888888,
             "#fdca26"
            ],
            [
             1,
             "#f0f921"
            ]
           ],
           "sequentialminus": [
            [
             0,
             "#0d0887"
            ],
            [
             0.1111111111111111,
             "#46039f"
            ],
            [
             0.2222222222222222,
             "#7201a8"
            ],
            [
             0.3333333333333333,
             "#9c179e"
            ],
            [
             0.4444444444444444,
             "#bd3786"
            ],
            [
             0.5555555555555556,
             "#d8576b"
            ],
            [
             0.6666666666666666,
             "#ed7953"
            ],
            [
             0.7777777777777778,
             "#fb9f3a"
            ],
            [
             0.8888888888888888,
             "#fdca26"
            ],
            [
             1,
             "#f0f921"
            ]
           ]
          },
          "colorway": [
           "#636efa",
           "#EF553B",
           "#00cc96",
           "#ab63fa",
           "#FFA15A",
           "#19d3f3",
           "#FF6692",
           "#B6E880",
           "#FF97FF",
           "#FECB52"
          ],
          "font": {
           "color": "#2a3f5f"
          },
          "geo": {
           "bgcolor": "white",
           "lakecolor": "white",
           "landcolor": "#E5ECF6",
           "showlakes": true,
           "showland": true,
           "subunitcolor": "white"
          },
          "hoverlabel": {
           "align": "left"
          },
          "hovermode": "closest",
          "mapbox": {
           "style": "light"
          },
          "paper_bgcolor": "white",
          "plot_bgcolor": "#E5ECF6",
          "polar": {
           "angularaxis": {
            "gridcolor": "white",
            "linecolor": "white",
            "ticks": ""
           },
           "bgcolor": "#E5ECF6",
           "radialaxis": {
            "gridcolor": "white",
            "linecolor": "white",
            "ticks": ""
           }
          },
          "scene": {
           "xaxis": {
            "backgroundcolor": "#E5ECF6",
            "gridcolor": "white",
            "gridwidth": 2,
            "linecolor": "white",
            "showbackground": true,
            "ticks": "",
            "zerolinecolor": "white"
           },
           "yaxis": {
            "backgroundcolor": "#E5ECF6",
            "gridcolor": "white",
            "gridwidth": 2,
            "linecolor": "white",
            "showbackground": true,
            "ticks": "",
            "zerolinecolor": "white"
           },
           "zaxis": {
            "backgroundcolor": "#E5ECF6",
            "gridcolor": "white",
            "gridwidth": 2,
            "linecolor": "white",
            "showbackground": true,
            "ticks": "",
            "zerolinecolor": "white"
           }
          },
          "shapedefaults": {
           "line": {
            "color": "#2a3f5f"
           }
          },
          "ternary": {
           "aaxis": {
            "gridcolor": "white",
            "linecolor": "white",
            "ticks": ""
           },
           "baxis": {
            "gridcolor": "white",
            "linecolor": "white",
            "ticks": ""
           },
           "bgcolor": "#E5ECF6",
           "caxis": {
            "gridcolor": "white",
            "linecolor": "white",
            "ticks": ""
           }
          },
          "title": {
           "x": 0.05
          },
          "xaxis": {
           "automargin": true,
           "gridcolor": "white",
           "linecolor": "white",
           "ticks": "",
           "title": {
            "standoff": 15
           },
           "zerolinecolor": "white",
           "zerolinewidth": 2
          },
          "yaxis": {
           "automargin": true,
           "gridcolor": "white",
           "linecolor": "white",
           "ticks": "",
           "title": {
            "standoff": 15
           },
           "zerolinecolor": "white",
           "zerolinewidth": 2
          }
         }
        },
        "xaxis": {
         "anchor": "y",
         "domain": [
          0,
          1
         ],
         "title": {
          "text": "x"
         }
        },
        "yaxis": {
         "anchor": "x",
         "domain": [
          0,
          1
         ],
         "title": {
          "text": "value"
         }
        }
       }
      },
      "text/html": [
       "<div>                            <div id=\"a1f1046a-5f5e-4d3e-904f-d0e97fa0b907\" class=\"plotly-graph-div\" style=\"height:525px; width:100%;\"></div>            <script type=\"text/javascript\">                require([\"plotly\"], function(Plotly) {                    window.PLOTLYENV=window.PLOTLYENV || {};                                    if (document.getElementById(\"a1f1046a-5f5e-4d3e-904f-d0e97fa0b907\")) {                    Plotly.newPlot(                        \"a1f1046a-5f5e-4d3e-904f-d0e97fa0b907\",                        [{\"hovertemplate\":\"variable=y_ = 0+.65*x<br>x=%{x}<br>value=%{y}<extra></extra>\",\"legendgroup\":\"y_ = 0+.65*x\",\"line\":{\"color\":\"#636efa\",\"dash\":\"solid\"},\"marker\":{\"symbol\":\"circle\"},\"mode\":\"lines\",\"name\":\"y_ = 0+.65*x\",\"orientation\":\"v\",\"showlegend\":true,\"x\":[0.0,1.0,2.0,3.0,4.0,5.0,6.0,7.0,8.0,9.0,10.0,11.0,12.0,13.0,14.0,15.0,16.0,17.0,18.0,19.0,20.0,21.0,22.0,23.0,24.0,25.0,26.0,27.0,28.0,29.0,30.0,31.0,32.0,33.0,34.0,35.0,36.0,37.0,38.0,39.0,40.0,41.0,42.0,43.0,44.0,45.0,46.0,47.0,48.0,49.0,50.0,51.0,52.0,53.0,54.0,55.0,56.0,57.0,58.0,59.0,60.0,61.0,62.0,63.0,64.0,65.0,66.0,67.0,68.0,69.0,70.0,71.0,72.0,73.0,74.0,75.0,76.0,77.0,78.0,79.0,80.0,81.0,82.0,83.0,84.0,85.0,86.0,87.0,88.0,89.0,90.0,91.0,92.0,93.0,94.0,95.0,96.0,97.0,98.0,99.0,100.0,101.0,102.0,103.0,104.0,105.0,106.0,107.0,108.0,109.0,110.0,111.0,112.0,113.0,114.0,115.0,116.0,117.0,118.0,119.0,120.0,121.0,122.0,123.0,124.0,125.0,126.0,127.0,128.0,129.0,130.0,131.0,132.0,133.0,134.0,135.0,136.0,137.0,138.0,139.0,140.0],\"xaxis\":\"x\",\"y\":[0.0,0.7,1.4,2.0999999999999996,2.8,3.5,4.199999999999999,4.8999999999999995,5.6,6.3,7.0,7.699999999999999,8.399999999999999,9.1,9.799999999999999,10.5,11.2,11.899999999999999,12.6,13.299999999999999,14.0,14.7,15.399999999999999,16.099999999999998,16.799999999999997,17.5,18.2,18.9,19.599999999999998,20.299999999999997,21.0,21.7,22.4,23.099999999999998,23.799999999999997,24.5,25.2,25.9,26.599999999999998,27.299999999999997,28.0,28.7,29.4,30.099999999999998,30.799999999999997,31.499999999999996,32.199999999999996,32.9,33.599999999999994,34.3,35.0,35.699999999999996,36.4,37.099999999999994,37.8,38.5,39.199999999999996,39.9,40.599999999999994,41.3,42.0,42.699999999999996,43.4,44.099999999999994,44.8,45.5,46.199999999999996,46.9,47.599999999999994,48.3,49.0,49.699999999999996,50.4,51.099999999999994,51.8,52.5,53.199999999999996,53.9,54.599999999999994,55.3,56.0,56.699999999999996,57.4,58.099999999999994,58.8,59.49999999999999,60.199999999999996,60.9,61.599999999999994,62.3,62.99999999999999,63.699999999999996,64.39999999999999,65.1,65.8,66.5,67.19999999999999,67.89999999999999,68.6,69.3,70.0,70.69999999999999,71.39999999999999,72.1,72.8,73.5,74.19999999999999,74.89999999999999,75.6,76.3,77.0,77.69999999999999,78.39999999999999,79.1,79.8,80.5,81.19999999999999,81.89999999999999,82.6,83.3,84.0,84.69999999999999,85.39999999999999,86.1,86.8,87.5,88.19999999999999,88.89999999999999,89.6,90.3,91.0,91.69999999999999,92.39999999999999,93.1,93.8,94.5,95.19999999999999,95.89999999999999,96.6,97.3,98.0],\"yaxis\":\"y\",\"type\":\"scatter\"},{\"hovertemplate\":\"variable=y_hat = -2.4+.82*x<br>x=%{x}<br>value=%{y}<extra></extra>\",\"legendgroup\":\"y_hat = -2.4+.82*x\",\"line\":{\"color\":\"#EF553B\",\"dash\":\"solid\"},\"marker\":{\"symbol\":\"circle\"},\"mode\":\"lines\",\"name\":\"y_hat = -2.4+.82*x\",\"orientation\":\"v\",\"showlegend\":true,\"x\":[0.0,1.0,2.0,3.0,4.0,5.0,6.0,7.0,8.0,9.0,10.0,11.0,12.0,13.0,14.0,15.0,16.0,17.0,18.0,19.0,20.0,21.0,22.0,23.0,24.0,25.0,26.0,27.0,28.0,29.0,30.0,31.0,32.0,33.0,34.0,35.0,36.0,37.0,38.0,39.0,40.0,41.0,42.0,43.0,44.0,45.0,46.0,47.0,48.0,49.0,50.0,51.0,52.0,53.0,54.0,55.0,56.0,57.0,58.0,59.0,60.0,61.0,62.0,63.0,64.0,65.0,66.0,67.0,68.0,69.0,70.0,71.0,72.0,73.0,74.0,75.0,76.0,77.0,78.0,79.0,80.0,81.0,82.0,83.0,84.0,85.0,86.0,87.0,88.0,89.0,90.0,91.0,92.0,93.0,94.0,95.0,96.0,97.0,98.0,99.0,100.0,101.0,102.0,103.0,104.0,105.0,106.0,107.0,108.0,109.0,110.0,111.0,112.0,113.0,114.0,115.0,116.0,117.0,118.0,119.0,120.0,121.0,122.0,123.0,124.0,125.0,126.0,127.0,128.0,129.0,130.0,131.0,132.0,133.0,134.0,135.0,136.0,137.0,138.0,139.0,140.0],\"xaxis\":\"x\",\"y\":[-2.4069593052705063,-1.577178976406675,-0.747398647542844,0.082381681320987,0.9121620101848182,1.7419423390486495,2.5717226679124803,3.401502996776312,4.231283325640143,5.0610636545039736,5.890843983367805,6.720624312231637,7.550404641095467,8.380184969959299,9.20996529882313,10.03974562768696,10.869525956550792,11.699306285414623,12.529086614278453,13.358866943142285,14.188647272006117,15.018427600869947,15.84820792973378,16.67798825859761,17.50776858746144,18.337548916325275,19.1673292451891,19.997109574052935,20.82688990291677,21.656670231780595,22.48645056064443,23.31623088950826,24.146011218372088,24.97579154723592,25.805571876099755,26.63535220496358,27.465132533827415,28.29491286269125,29.124693191555075,29.954473520418908,30.78425384928274,31.614034178146575,32.4438145070104,33.273594835874235,34.10337516473807,34.933155493601895,35.76293582246573,36.59271615132956,37.42249648019339,38.25227680905722,39.082057137921055,39.91183746678488,40.741617795648715,41.57139812451255,42.401178453376374,43.23095878224021,44.06073911110404,44.89051943996787,45.7202997688317,46.550080097695535,47.37986042655936,48.209640755423194,49.03942108428703,49.869201413150854,50.69898174201469,51.52876207087852,52.35854239974235,53.18832272860618,54.018103057470015,54.84788338633384,55.677663715197674,56.50744404406151,57.337224372925334,58.16700470178917,58.996785030653,59.82656535951683,60.65634568838066,61.486126017244494,62.31590634610832,63.145686674972154,63.97546700383599,64.80524733269982,65.63502766156365,66.46480799042747,67.29458831929131,68.12436864815514,68.95414897701897,69.78392930588281,70.61370963474664,71.44348996361046,72.2732702924743,73.10305062133813,73.93283095020196,74.7626112790658,75.59239160792963,76.42217193679345,77.25195226565728,78.08173259452111,78.91151292338495,79.74129325224878,80.57107358111261,81.40085390997643,82.23063423884027,83.0604145677041,83.89019489656793,84.71997522543177,85.5497555542956,86.37953588315942,87.20931621202325,88.03909654088709,88.86887686975092,89.69865719861475,90.52843752747859,91.3582178563424,92.18799818520624,93.01777851407007,93.8475588429339,94.67733917179774,95.50711950066157,96.3368998295254,97.16668015838923,97.99646048725306,98.8262408161169,99.65602114498073,100.48580147384456,101.31558180270838,102.14536213157221,102.97514246043605,103.80492278929988,104.63470311816371,105.46448344702755,106.29426377589138,107.1240441047552,107.95382443361903,108.78360476248287,109.6133850913467,110.44316542021053,111.27294574907437,112.10272607793819,112.93250640680202,113.76228673566585],\"yaxis\":\"y\",\"type\":\"scatter\"}],                        {\"template\":{\"data\":{\"histogram2dcontour\":[{\"type\":\"histogram2dcontour\",\"colorbar\":{\"outlinewidth\":0,\"ticks\":\"\"},\"colorscale\":[[0.0,\"#0d0887\"],[0.1111111111111111,\"#46039f\"],[0.2222222222222222,\"#7201a8\"],[0.3333333333333333,\"#9c179e\"],[0.4444444444444444,\"#bd3786\"],[0.5555555555555556,\"#d8576b\"],[0.6666666666666666,\"#ed7953\"],[0.7777777777777778,\"#fb9f3a\"],[0.8888888888888888,\"#fdca26\"],[1.0,\"#f0f921\"]]}],\"choropleth\":[{\"type\":\"choropleth\",\"colorbar\":{\"outlinewidth\":0,\"ticks\":\"\"}}],\"histogram2d\":[{\"type\":\"histogram2d\",\"colorbar\":{\"outlinewidth\":0,\"ticks\":\"\"},\"colorscale\":[[0.0,\"#0d0887\"],[0.1111111111111111,\"#46039f\"],[0.2222222222222222,\"#7201a8\"],[0.3333333333333333,\"#9c179e\"],[0.4444444444444444,\"#bd3786\"],[0.5555555555555556,\"#d8576b\"],[0.6666666666666666,\"#ed7953\"],[0.7777777777777778,\"#fb9f3a\"],[0.8888888888888888,\"#fdca26\"],[1.0,\"#f0f921\"]]}],\"heatmap\":[{\"type\":\"heatmap\",\"colorbar\":{\"outlinewidth\":0,\"ticks\":\"\"},\"colorscale\":[[0.0,\"#0d0887\"],[0.1111111111111111,\"#46039f\"],[0.2222222222222222,\"#7201a8\"],[0.3333333333333333,\"#9c179e\"],[0.4444444444444444,\"#bd3786\"],[0.5555555555555556,\"#d8576b\"],[0.6666666666666666,\"#ed7953\"],[0.7777777777777778,\"#fb9f3a\"],[0.8888888888888888,\"#fdca26\"],[1.0,\"#f0f921\"]]}],\"heatmapgl\":[{\"type\":\"heatmapgl\",\"colorbar\":{\"outlinewidth\":0,\"ticks\":\"\"},\"colorscale\":[[0.0,\"#0d0887\"],[0.1111111111111111,\"#46039f\"],[0.2222222222222222,\"#7201a8\"],[0.3333333333333333,\"#9c179e\"],[0.4444444444444444,\"#bd3786\"],[0.5555555555555556,\"#d8576b\"],[0.6666666666666666,\"#ed7953\"],[0.7777777777777778,\"#fb9f3a\"],[0.8888888888888888,\"#fdca26\"],[1.0,\"#f0f921\"]]}],\"contourcarpet\":[{\"type\":\"contourcarpet\",\"colorbar\":{\"outlinewidth\":0,\"ticks\":\"\"}}],\"contour\":[{\"type\":\"contour\",\"colorbar\":{\"outlinewidth\":0,\"ticks\":\"\"},\"colorscale\":[[0.0,\"#0d0887\"],[0.1111111111111111,\"#46039f\"],[0.2222222222222222,\"#7201a8\"],[0.3333333333333333,\"#9c179e\"],[0.4444444444444444,\"#bd3786\"],[0.5555555555555556,\"#d8576b\"],[0.6666666666666666,\"#ed7953\"],[0.7777777777777778,\"#fb9f3a\"],[0.8888888888888888,\"#fdca26\"],[1.0,\"#f0f921\"]]}],\"surface\":[{\"type\":\"surface\",\"colorbar\":{\"outlinewidth\":0,\"ticks\":\"\"},\"colorscale\":[[0.0,\"#0d0887\"],[0.1111111111111111,\"#46039f\"],[0.2222222222222222,\"#7201a8\"],[0.3333333333333333,\"#9c179e\"],[0.4444444444444444,\"#bd3786\"],[0.5555555555555556,\"#d8576b\"],[0.6666666666666666,\"#ed7953\"],[0.7777777777777778,\"#fb9f3a\"],[0.8888888888888888,\"#fdca26\"],[1.0,\"#f0f921\"]]}],\"mesh3d\":[{\"type\":\"mesh3d\",\"colorbar\":{\"outlinewidth\":0,\"ticks\":\"\"}}],\"scatter\":[{\"fillpattern\":{\"fillmode\":\"overlay\",\"size\":10,\"solidity\":0.2},\"type\":\"scatter\"}],\"parcoords\":[{\"type\":\"parcoords\",\"line\":{\"colorbar\":{\"outlinewidth\":0,\"ticks\":\"\"}}}],\"scatterpolargl\":[{\"type\":\"scatterpolargl\",\"marker\":{\"colorbar\":{\"outlinewidth\":0,\"ticks\":\"\"}}}],\"bar\":[{\"error_x\":{\"color\":\"#2a3f5f\"},\"error_y\":{\"color\":\"#2a3f5f\"},\"marker\":{\"line\":{\"color\":\"#E5ECF6\",\"width\":0.5},\"pattern\":{\"fillmode\":\"overlay\",\"size\":10,\"solidity\":0.2}},\"type\":\"bar\"}],\"scattergeo\":[{\"type\":\"scattergeo\",\"marker\":{\"colorbar\":{\"outlinewidth\":0,\"ticks\":\"\"}}}],\"scatterpolar\":[{\"type\":\"scatterpolar\",\"marker\":{\"colorbar\":{\"outlinewidth\":0,\"ticks\":\"\"}}}],\"histogram\":[{\"marker\":{\"pattern\":{\"fillmode\":\"overlay\",\"size\":10,\"solidity\":0.2}},\"type\":\"histogram\"}],\"scattergl\":[{\"type\":\"scattergl\",\"marker\":{\"colorbar\":{\"outlinewidth\":0,\"ticks\":\"\"}}}],\"scatter3d\":[{\"type\":\"scatter3d\",\"line\":{\"colorbar\":{\"outlinewidth\":0,\"ticks\":\"\"}},\"marker\":{\"colorbar\":{\"outlinewidth\":0,\"ticks\":\"\"}}}],\"scattermapbox\":[{\"type\":\"scattermapbox\",\"marker\":{\"colorbar\":{\"outlinewidth\":0,\"ticks\":\"\"}}}],\"scatterternary\":[{\"type\":\"scatterternary\",\"marker\":{\"colorbar\":{\"outlinewidth\":0,\"ticks\":\"\"}}}],\"scattercarpet\":[{\"type\":\"scattercarpet\",\"marker\":{\"colorbar\":{\"outlinewidth\":0,\"ticks\":\"\"}}}],\"carpet\":[{\"aaxis\":{\"endlinecolor\":\"#2a3f5f\",\"gridcolor\":\"white\",\"linecolor\":\"white\",\"minorgridcolor\":\"white\",\"startlinecolor\":\"#2a3f5f\"},\"baxis\":{\"endlinecolor\":\"#2a3f5f\",\"gridcolor\":\"white\",\"linecolor\":\"white\",\"minorgridcolor\":\"white\",\"startlinecolor\":\"#2a3f5f\"},\"type\":\"carpet\"}],\"table\":[{\"cells\":{\"fill\":{\"color\":\"#EBF0F8\"},\"line\":{\"color\":\"white\"}},\"header\":{\"fill\":{\"color\":\"#C8D4E3\"},\"line\":{\"color\":\"white\"}},\"type\":\"table\"}],\"barpolar\":[{\"marker\":{\"line\":{\"color\":\"#E5ECF6\",\"width\":0.5},\"pattern\":{\"fillmode\":\"overlay\",\"size\":10,\"solidity\":0.2}},\"type\":\"barpolar\"}],\"pie\":[{\"automargin\":true,\"type\":\"pie\"}]},\"layout\":{\"autotypenumbers\":\"strict\",\"colorway\":[\"#636efa\",\"#EF553B\",\"#00cc96\",\"#ab63fa\",\"#FFA15A\",\"#19d3f3\",\"#FF6692\",\"#B6E880\",\"#FF97FF\",\"#FECB52\"],\"font\":{\"color\":\"#2a3f5f\"},\"hovermode\":\"closest\",\"hoverlabel\":{\"align\":\"left\"},\"paper_bgcolor\":\"white\",\"plot_bgcolor\":\"#E5ECF6\",\"polar\":{\"bgcolor\":\"#E5ECF6\",\"angularaxis\":{\"gridcolor\":\"white\",\"linecolor\":\"white\",\"ticks\":\"\"},\"radialaxis\":{\"gridcolor\":\"white\",\"linecolor\":\"white\",\"ticks\":\"\"}},\"ternary\":{\"bgcolor\":\"#E5ECF6\",\"aaxis\":{\"gridcolor\":\"white\",\"linecolor\":\"white\",\"ticks\":\"\"},\"baxis\":{\"gridcolor\":\"white\",\"linecolor\":\"white\",\"ticks\":\"\"},\"caxis\":{\"gridcolor\":\"white\",\"linecolor\":\"white\",\"ticks\":\"\"}},\"coloraxis\":{\"colorbar\":{\"outlinewidth\":0,\"ticks\":\"\"}},\"colorscale\":{\"sequential\":[[0.0,\"#0d0887\"],[0.1111111111111111,\"#46039f\"],[0.2222222222222222,\"#7201a8\"],[0.3333333333333333,\"#9c179e\"],[0.4444444444444444,\"#bd3786\"],[0.5555555555555556,\"#d8576b\"],[0.6666666666666666,\"#ed7953\"],[0.7777777777777778,\"#fb9f3a\"],[0.8888888888888888,\"#fdca26\"],[1.0,\"#f0f921\"]],\"sequentialminus\":[[0.0,\"#0d0887\"],[0.1111111111111111,\"#46039f\"],[0.2222222222222222,\"#7201a8\"],[0.3333333333333333,\"#9c179e\"],[0.4444444444444444,\"#bd3786\"],[0.5555555555555556,\"#d8576b\"],[0.6666666666666666,\"#ed7953\"],[0.7777777777777778,\"#fb9f3a\"],[0.8888888888888888,\"#fdca26\"],[1.0,\"#f0f921\"]],\"diverging\":[[0,\"#8e0152\"],[0.1,\"#c51b7d\"],[0.2,\"#de77ae\"],[0.3,\"#f1b6da\"],[0.4,\"#fde0ef\"],[0.5,\"#f7f7f7\"],[0.6,\"#e6f5d0\"],[0.7,\"#b8e186\"],[0.8,\"#7fbc41\"],[0.9,\"#4d9221\"],[1,\"#276419\"]]},\"xaxis\":{\"gridcolor\":\"white\",\"linecolor\":\"white\",\"ticks\":\"\",\"title\":{\"standoff\":15},\"zerolinecolor\":\"white\",\"automargin\":true,\"zerolinewidth\":2},\"yaxis\":{\"gridcolor\":\"white\",\"linecolor\":\"white\",\"ticks\":\"\",\"title\":{\"standoff\":15},\"zerolinecolor\":\"white\",\"automargin\":true,\"zerolinewidth\":2},\"scene\":{\"xaxis\":{\"backgroundcolor\":\"#E5ECF6\",\"gridcolor\":\"white\",\"linecolor\":\"white\",\"showbackground\":true,\"ticks\":\"\",\"zerolinecolor\":\"white\",\"gridwidth\":2},\"yaxis\":{\"backgroundcolor\":\"#E5ECF6\",\"gridcolor\":\"white\",\"linecolor\":\"white\",\"showbackground\":true,\"ticks\":\"\",\"zerolinecolor\":\"white\",\"gridwidth\":2},\"zaxis\":{\"backgroundcolor\":\"#E5ECF6\",\"gridcolor\":\"white\",\"linecolor\":\"white\",\"showbackground\":true,\"ticks\":\"\",\"zerolinecolor\":\"white\",\"gridwidth\":2}},\"shapedefaults\":{\"line\":{\"color\":\"#2a3f5f\"}},\"annotationdefaults\":{\"arrowcolor\":\"#2a3f5f\",\"arrowhead\":0,\"arrowwidth\":1},\"geo\":{\"bgcolor\":\"white\",\"landcolor\":\"#E5ECF6\",\"subunitcolor\":\"white\",\"showland\":true,\"showlakes\":true,\"lakecolor\":\"white\"},\"title\":{\"x\":0.05},\"mapbox\":{\"style\":\"light\"}}},\"xaxis\":{\"anchor\":\"y\",\"domain\":[0.0,1.0],\"title\":{\"text\":\"x\"}},\"yaxis\":{\"anchor\":\"x\",\"domain\":[0.0,1.0],\"title\":{\"text\":\"value\"}},\"legend\":{\"title\":{\"text\":\"variable\"},\"tracegroupgap\":0},\"margin\":{\"t\":60}},                        {\"responsive\": true}                    ).then(function(){\n",
       "                            \n",
       "var gd = document.getElementById('a1f1046a-5f5e-4d3e-904f-d0e97fa0b907');\n",
       "var x = new MutationObserver(function (mutations, observer) {{\n",
       "        var display = window.getComputedStyle(gd).display;\n",
       "        if (!display || display === 'none') {{\n",
       "            console.log([gd, 'removed!']);\n",
       "            Plotly.purge(gd);\n",
       "            observer.disconnect();\n",
       "        }}\n",
       "}});\n",
       "\n",
       "// Listen for the removal of the full notebook cells\n",
       "var notebookContainer = gd.closest('#notebook-container');\n",
       "if (notebookContainer) {{\n",
       "    x.observe(notebookContainer, {childList: true});\n",
       "}}\n",
       "\n",
       "// Listen for the clearing of the current output cell\n",
       "var outputEl = gd.closest('.output');\n",
       "if (outputEl) {{\n",
       "    x.observe(outputEl, {childList: true});\n",
       "}}\n",
       "\n",
       "                        })                };                });            </script>        </div>"
      ]
     },
     "metadata": {},
     "output_type": "display_data"
    }
   ],
   "source": [
    "fig = px.line(line_models_tall, x=\"x\", y=\"value\", color='variable')\n",
    "fig.show()"
   ]
  },
  {
   "cell_type": "code",
   "execution_count": 56,
   "id": "bea59380",
   "metadata": {},
   "outputs": [
    {
     "data": {
      "application/vnd.plotly.v1+json": {
       "config": {
        "plotlyServerURL": "https://plot.ly"
       },
       "data": [
        {
         "hovertemplate": "variable=y_ = 0+.65*x<br>x=%{x}<br>value=%{y}<extra></extra>",
         "legendgroup": "y_ = 0+.65*x",
         "line": {
          "color": "#636efa",
          "dash": "solid"
         },
         "marker": {
          "symbol": "circle"
         },
         "mode": "lines",
         "name": "y_ = 0+.65*x",
         "orientation": "v",
         "showlegend": true,
         "type": "scatter",
         "x": [
          0,
          1,
          2,
          3,
          4,
          5,
          6,
          7,
          8,
          9,
          10,
          11,
          12,
          13,
          14,
          15,
          16,
          17,
          18,
          19,
          20,
          21,
          22,
          23,
          24,
          25,
          26,
          27,
          28,
          29,
          30,
          31,
          32,
          33,
          34,
          35,
          36,
          37,
          38,
          39,
          40,
          41,
          42,
          43,
          44,
          45,
          46,
          47,
          48,
          49,
          50,
          51,
          52,
          53,
          54,
          55,
          56,
          57,
          58,
          59,
          60,
          61,
          62,
          63,
          64,
          65,
          66,
          67,
          68,
          69,
          70,
          71,
          72,
          73,
          74,
          75,
          76,
          77,
          78,
          79,
          80,
          81,
          82,
          83,
          84,
          85,
          86,
          87,
          88,
          89,
          90,
          91,
          92,
          93,
          94,
          95,
          96,
          97,
          98,
          99,
          100,
          101,
          102,
          103,
          104,
          105,
          106,
          107,
          108,
          109,
          110,
          111,
          112,
          113,
          114,
          115,
          116,
          117,
          118,
          119,
          120,
          121,
          122,
          123,
          124,
          125,
          126,
          127,
          128,
          129,
          130,
          131,
          132,
          133,
          134,
          135,
          136,
          137,
          138,
          139,
          140
         ],
         "xaxis": "x",
         "y": [
          0,
          0.7,
          1.4,
          2.0999999999999996,
          2.8,
          3.5,
          4.199999999999999,
          4.8999999999999995,
          5.6,
          6.3,
          7,
          7.699999999999999,
          8.399999999999999,
          9.1,
          9.799999999999999,
          10.5,
          11.2,
          11.899999999999999,
          12.6,
          13.299999999999999,
          14,
          14.7,
          15.399999999999999,
          16.099999999999998,
          16.799999999999997,
          17.5,
          18.2,
          18.9,
          19.599999999999998,
          20.299999999999997,
          21,
          21.7,
          22.4,
          23.099999999999998,
          23.799999999999997,
          24.5,
          25.2,
          25.9,
          26.599999999999998,
          27.299999999999997,
          28,
          28.7,
          29.4,
          30.099999999999998,
          30.799999999999997,
          31.499999999999996,
          32.199999999999996,
          32.9,
          33.599999999999994,
          34.3,
          35,
          35.699999999999996,
          36.4,
          37.099999999999994,
          37.8,
          38.5,
          39.199999999999996,
          39.9,
          40.599999999999994,
          41.3,
          42,
          42.699999999999996,
          43.4,
          44.099999999999994,
          44.8,
          45.5,
          46.199999999999996,
          46.9,
          47.599999999999994,
          48.3,
          49,
          49.699999999999996,
          50.4,
          51.099999999999994,
          51.8,
          52.5,
          53.199999999999996,
          53.9,
          54.599999999999994,
          55.3,
          56,
          56.699999999999996,
          57.4,
          58.099999999999994,
          58.8,
          59.49999999999999,
          60.199999999999996,
          60.9,
          61.599999999999994,
          62.3,
          62.99999999999999,
          63.699999999999996,
          64.39999999999999,
          65.1,
          65.8,
          66.5,
          67.19999999999999,
          67.89999999999999,
          68.6,
          69.3,
          70,
          70.69999999999999,
          71.39999999999999,
          72.1,
          72.8,
          73.5,
          74.19999999999999,
          74.89999999999999,
          75.6,
          76.3,
          77,
          77.69999999999999,
          78.39999999999999,
          79.1,
          79.8,
          80.5,
          81.19999999999999,
          81.89999999999999,
          82.6,
          83.3,
          84,
          84.69999999999999,
          85.39999999999999,
          86.1,
          86.8,
          87.5,
          88.19999999999999,
          88.89999999999999,
          89.6,
          90.3,
          91,
          91.69999999999999,
          92.39999999999999,
          93.1,
          93.8,
          94.5,
          95.19999999999999,
          95.89999999999999,
          96.6,
          97.3,
          98
         ],
         "yaxis": "y"
        },
        {
         "hovertemplate": "variable=y_hat = -2.4+.82*x<br>x=%{x}<br>value=%{y}<extra></extra>",
         "legendgroup": "y_hat = -2.4+.82*x",
         "line": {
          "color": "#EF553B",
          "dash": "solid"
         },
         "marker": {
          "symbol": "circle"
         },
         "mode": "lines",
         "name": "y_hat = -2.4+.82*x",
         "orientation": "v",
         "showlegend": true,
         "type": "scatter",
         "x": [
          0,
          1,
          2,
          3,
          4,
          5,
          6,
          7,
          8,
          9,
          10,
          11,
          12,
          13,
          14,
          15,
          16,
          17,
          18,
          19,
          20,
          21,
          22,
          23,
          24,
          25,
          26,
          27,
          28,
          29,
          30,
          31,
          32,
          33,
          34,
          35,
          36,
          37,
          38,
          39,
          40,
          41,
          42,
          43,
          44,
          45,
          46,
          47,
          48,
          49,
          50,
          51,
          52,
          53,
          54,
          55,
          56,
          57,
          58,
          59,
          60,
          61,
          62,
          63,
          64,
          65,
          66,
          67,
          68,
          69,
          70,
          71,
          72,
          73,
          74,
          75,
          76,
          77,
          78,
          79,
          80,
          81,
          82,
          83,
          84,
          85,
          86,
          87,
          88,
          89,
          90,
          91,
          92,
          93,
          94,
          95,
          96,
          97,
          98,
          99,
          100,
          101,
          102,
          103,
          104,
          105,
          106,
          107,
          108,
          109,
          110,
          111,
          112,
          113,
          114,
          115,
          116,
          117,
          118,
          119,
          120,
          121,
          122,
          123,
          124,
          125,
          126,
          127,
          128,
          129,
          130,
          131,
          132,
          133,
          134,
          135,
          136,
          137,
          138,
          139,
          140
         ],
         "xaxis": "x",
         "y": [
          -2.4069593052705063,
          -1.577178976406675,
          -0.747398647542844,
          0.082381681320987,
          0.9121620101848182,
          1.7419423390486495,
          2.5717226679124803,
          3.401502996776312,
          4.231283325640143,
          5.0610636545039736,
          5.890843983367805,
          6.720624312231637,
          7.550404641095467,
          8.380184969959299,
          9.20996529882313,
          10.03974562768696,
          10.869525956550792,
          11.699306285414623,
          12.529086614278453,
          13.358866943142285,
          14.188647272006117,
          15.018427600869947,
          15.84820792973378,
          16.67798825859761,
          17.50776858746144,
          18.337548916325275,
          19.1673292451891,
          19.997109574052935,
          20.82688990291677,
          21.656670231780595,
          22.48645056064443,
          23.31623088950826,
          24.146011218372088,
          24.97579154723592,
          25.805571876099755,
          26.63535220496358,
          27.465132533827415,
          28.29491286269125,
          29.124693191555075,
          29.954473520418908,
          30.78425384928274,
          31.614034178146575,
          32.4438145070104,
          33.273594835874235,
          34.10337516473807,
          34.933155493601895,
          35.76293582246573,
          36.59271615132956,
          37.42249648019339,
          38.25227680905722,
          39.082057137921055,
          39.91183746678488,
          40.741617795648715,
          41.57139812451255,
          42.401178453376374,
          43.23095878224021,
          44.06073911110404,
          44.89051943996787,
          45.7202997688317,
          46.550080097695535,
          47.37986042655936,
          48.209640755423194,
          49.03942108428703,
          49.869201413150854,
          50.69898174201469,
          51.52876207087852,
          52.35854239974235,
          53.18832272860618,
          54.018103057470015,
          54.84788338633384,
          55.677663715197674,
          56.50744404406151,
          57.337224372925334,
          58.16700470178917,
          58.996785030653,
          59.82656535951683,
          60.65634568838066,
          61.486126017244494,
          62.31590634610832,
          63.145686674972154,
          63.97546700383599,
          64.80524733269982,
          65.63502766156365,
          66.46480799042747,
          67.29458831929131,
          68.12436864815514,
          68.95414897701897,
          69.78392930588281,
          70.61370963474664,
          71.44348996361046,
          72.2732702924743,
          73.10305062133813,
          73.93283095020196,
          74.7626112790658,
          75.59239160792963,
          76.42217193679345,
          77.25195226565728,
          78.08173259452111,
          78.91151292338495,
          79.74129325224878,
          80.57107358111261,
          81.40085390997643,
          82.23063423884027,
          83.0604145677041,
          83.89019489656793,
          84.71997522543177,
          85.5497555542956,
          86.37953588315942,
          87.20931621202325,
          88.03909654088709,
          88.86887686975092,
          89.69865719861475,
          90.52843752747859,
          91.3582178563424,
          92.18799818520624,
          93.01777851407007,
          93.8475588429339,
          94.67733917179774,
          95.50711950066157,
          96.3368998295254,
          97.16668015838923,
          97.99646048725306,
          98.8262408161169,
          99.65602114498073,
          100.48580147384456,
          101.31558180270838,
          102.14536213157221,
          102.97514246043605,
          103.80492278929988,
          104.63470311816371,
          105.46448344702755,
          106.29426377589138,
          107.1240441047552,
          107.95382443361903,
          108.78360476248287,
          109.6133850913467,
          110.44316542021053,
          111.27294574907437,
          112.10272607793819,
          112.93250640680202,
          113.76228673566585
         ],
         "yaxis": "y"
        },
        {
         "mode": "markers",
         "name": "observed data",
         "type": "scatter",
         "x": [
          12.95,
          15,
          1.5,
          15.99,
          30.5,
          28.95,
          20,
          15,
          35,
          30,
          17,
          17,
          19.95,
          20,
          39.95,
          18.99,
          5.95,
          15,
          7.5,
          15.95,
          13,
          11.94,
          14,
          14.95,
          22.99,
          15,
          18,
          7.95,
          14.95,
          14.95,
          7.95,
          15.95,
          20,
          14,
          29.5,
          11.99,
          13.07,
          13.95,
          15,
          4.99,
          13,
          13.99,
          24.95,
          26.99,
          14.95,
          6.69,
          5.99,
          13.95,
          26.95,
          24,
          16,
          13.99,
          17.99,
          15,
          8.99,
          6.99,
          14.54,
          17.99,
          114.95,
          48.2,
          15.95,
          15.95,
          18,
          86.95,
          15,
          17.99,
          15,
          11.5,
          26.95,
          6.99,
          15,
          16,
          53.95,
          15,
          6.99,
          12,
          21.1,
          13.95,
          14.99,
          30,
          7.99,
          8,
          15.99,
          26.99,
          27.99,
          17,
          6.99,
          14.95,
          18,
          16,
          6.99,
          16,
          8.99,
          16,
          19.99,
          18,
          8.99,
          17,
          14,
          27.95,
          139.95,
          24.95,
          14.95,
          6.95,
          26,
          26,
          9.95,
          27.99,
          16.99,
          8.95,
          14.95,
          15.95,
          21,
          14,
          20,
          15,
          14.95,
          15.95,
          14.99,
          14,
          12.95,
          24.99,
          15,
          15,
          25.95,
          25,
          9.99,
          26.99,
          17.99,
          15,
          15,
          25.05,
          17.99,
          16,
          14.99,
          20,
          7.99,
          17.99,
          14,
          13.29,
          16,
          13.83,
          12,
          14.95,
          15,
          16.99,
          15,
          6.95,
          14,
          15,
          20,
          16,
          15,
          16,
          15,
          15,
          16,
          8.95,
          5.99,
          16,
          15,
          14,
          35.95,
          14.99,
          7.95,
          16.99,
          98.95,
          35.75,
          19.73,
          37.5,
          14.95,
          13,
          15.95,
          26,
          5.99,
          14.99,
          16,
          9.99,
          15.95,
          14.99,
          14,
          13.95,
          15,
          16,
          75,
          32.95,
          26.95,
          15.99,
          15,
          24,
          6.95,
          16,
          16,
          26.95,
          26.99,
          7.99,
          17.95,
          35.75,
          6.99,
          9.99,
          6.99,
          15,
          12,
          9.99,
          null,
          11.99,
          15,
          24,
          16,
          14.99,
          16,
          12.14,
          7.75,
          14.1,
          4.99,
          13.95,
          22,
          12.99,
          13.99,
          8.95,
          8.99,
          7.95,
          15,
          17,
          13,
          12.99,
          70.8,
          48.2,
          9.99,
          30,
          15,
          14,
          16.99,
          22,
          8.42,
          9.99,
          15,
          14.95,
          18.99,
          10.95,
          16.95,
          28,
          25,
          15,
          15,
          15,
          17,
          13.95,
          16,
          11,
          8.99,
          17.99,
          16,
          15,
          12,
          17.99,
          21.99,
          15.95,
          24.95,
          39.95,
          16,
          10.65,
          13.99,
          19.95,
          14,
          15,
          16.95,
          9.99,
          14.95,
          11,
          17,
          14.95,
          12,
          9.99,
          25,
          14,
          17.99,
          30,
          16.99,
          34.8,
          15.95,
          7.77,
          3.95,
          2,
          8.99,
          18.95,
          20,
          20,
          15.44,
          22,
          14.95,
          17.99,
          16,
          14.95,
          25,
          14,
          14.95,
          26,
          24.99,
          20,
          13,
          13.99,
          15.99,
          12.6,
          10.99,
          24.99,
          28,
          35,
          15.95,
          6.99,
          14.95,
          14.95,
          14.95,
          25,
          27,
          15,
          15,
          15.95,
          14.95,
          26,
          18.99,
          27.55,
          12.95,
          97.5,
          16.99
         ],
         "y": [
          5.18,
          10.2,
          1.5,
          10.87,
          16.77,
          16.44,
          13.46,
          8.44,
          18.81,
          19.8,
          8.97,
          10.46,
          13.57,
          14.6,
          37.95,
          11.58,
          3.99,
          10.2,
          5.87,
          10.85,
          10.4,
          11.94,
          11.2,
          8.96,
          15.63,
          10.2,
          12.11,
          7.95,
          14.95,
          10.17,
          7.95,
          8.39,
          13.6,
          8.75,
          26.61,
          9.59,
          12.52,
          11.16,
          10.22,
          4.99,
          10.4,
          10.54,
          15.82,
          15.6,
          10.17,
          6.99,
          5.99,
          11.16,
          20.48,
          16.32,
          9.07,
          8.38,
          8.97,
          10.2,
          8.99,
          6.99,
          9.99,
          11.36,
          83.04,
          44.32,
          7.97,
          7.97,
          12.24,
          54.61,
          10.2,
          11.46,
          10.2,
          11.5,
          14.99,
          6.99,
          10.2,
          10.88,
          39.92,
          10.2,
          6.99,
          9.07,
          16.46,
          7.83,
          10.19,
          17.43,
          7.99,
          8,
          9.95,
          14.61,
          11.2,
          10.46,
          6.99,
          8.97,
          12.24,
          9.2,
          6.99,
          10.88,
          8.99,
          9.09,
          10.75,
          12.24,
          8.99,
          11.55,
          11.2,
          19.99,
          139.95,
          16.47,
          5.98,
          6.95,
          13,
          14.44,
          5.13,
          13.98,
          11.55,
          8.95,
          8.6,
          10.22,
          13.43,
          11.08,
          13.6,
          10.2,
          10.17,
          8.39,
          10.19,
          11.2,
          8.36,
          15.2,
          8.68,
          10.33,
          25.95,
          16.5,
          9.99,
          15.44,
          10.58,
          8.84,
          8.15,
          22.81,
          11.24,
          8.59,
          10.19,
          12.17,
          7.99,
          7.98,
          11.2,
          13.29,
          10.77,
          13.83,
          9.6,
          10.17,
          7.9,
          11.55,
          10.2,
          6.95,
          8.75,
          10.2,
          13.6,
          10.88,
          10.2,
          10.88,
          10.09,
          8.24,
          8.61,
          8.95,
          5.99,
          8.87,
          9.98,
          11.08,
          35.95,
          10.98,
          7.95,
          10.79,
          98.95,
          25.84,
          15.68,
          25,
          5.98,
          9.64,
          10.85,
          16.91,
          5.99,
          8.11,
          12.47,
          9.99,
          10.85,
          9.57,
          11.08,
          8.07,
          6,
          9.75,
          39.45,
          21.75,
          17.73,
          9.58,
          7.89,
          16.32,
          6.95,
          10.22,
          10.88,
          17.79,
          15.44,
          7.99,
          12.08,
          21.68,
          6.99,
          9.99,
          6.99,
          10.2,
          7.51,
          9.99,
          118.21,
          7.7,
          10.2,
          15.48,
          10.77,
          8.43,
          6.4,
          9,
          7.75,
          11.99,
          4.99,
          8.5,
          22,
          7.31,
          10.68,
          8.95,
          8.99,
          7.95,
          10.09,
          11.44,
          9.28,
          9.66,
          55.75,
          39.72,
          9.99,
          20,
          8.6,
          8.04,
          10.68,
          14.96,
          8.42,
          9.99,
          8.52,
          8.26,
          11.16,
          7.82,
          9.16,
          16.09,
          15.62,
          8.84,
          8.92,
          8.05,
          11.56,
          7.7,
          8.8,
          6.4,
          4.94,
          10.21,
          8,
          8.36,
          9.22,
          9.99,
          12.5,
          8.95,
          22.51,
          23.79,
          9.52,
          13.13,
          7.79,
          10.86,
          11.2,
          10.2,
          11.53,
          9.99,
          10.17,
          8.8,
          10.47,
          7.9,
          9.09,
          9.99,
          14.46,
          8.22,
          8.98,
          23.94,
          11.28,
          24.9,
          9.92,
          7.77,
          3.95,
          0.77,
          8.99,
          15.15,
          13.6,
          13.6,
          8.45,
          14.96,
          10.17,
          10.88,
          10.11,
          8.28,
          14.7,
          14,
          5.98,
          13.7,
          17.99,
          12.17,
          10.29,
          11.19,
          8.5,
          12.6,
          6.9,
          14.69,
          16.08,
          23.1,
          10.68,
          6.99,
          10.75,
          10.17,
          10.17,
          10,
          13.49,
          10.2,
          10.2,
          10.85,
          8.14,
          19.01,
          12.24,
          27.55,
          5.18,
          97.5,
          4.95
         ]
        }
       ],
       "layout": {
        "legend": {
         "title": {
          "text": "variable"
         },
         "tracegroupgap": 0
        },
        "margin": {
         "t": 60
        },
        "template": {
         "data": {
          "bar": [
           {
            "error_x": {
             "color": "#2a3f5f"
            },
            "error_y": {
             "color": "#2a3f5f"
            },
            "marker": {
             "line": {
              "color": "#E5ECF6",
              "width": 0.5
             },
             "pattern": {
              "fillmode": "overlay",
              "size": 10,
              "solidity": 0.2
             }
            },
            "type": "bar"
           }
          ],
          "barpolar": [
           {
            "marker": {
             "line": {
              "color": "#E5ECF6",
              "width": 0.5
             },
             "pattern": {
              "fillmode": "overlay",
              "size": 10,
              "solidity": 0.2
             }
            },
            "type": "barpolar"
           }
          ],
          "carpet": [
           {
            "aaxis": {
             "endlinecolor": "#2a3f5f",
             "gridcolor": "white",
             "linecolor": "white",
             "minorgridcolor": "white",
             "startlinecolor": "#2a3f5f"
            },
            "baxis": {
             "endlinecolor": "#2a3f5f",
             "gridcolor": "white",
             "linecolor": "white",
             "minorgridcolor": "white",
             "startlinecolor": "#2a3f5f"
            },
            "type": "carpet"
           }
          ],
          "choropleth": [
           {
            "colorbar": {
             "outlinewidth": 0,
             "ticks": ""
            },
            "type": "choropleth"
           }
          ],
          "contour": [
           {
            "colorbar": {
             "outlinewidth": 0,
             "ticks": ""
            },
            "colorscale": [
             [
              0,
              "#0d0887"
             ],
             [
              0.1111111111111111,
              "#46039f"
             ],
             [
              0.2222222222222222,
              "#7201a8"
             ],
             [
              0.3333333333333333,
              "#9c179e"
             ],
             [
              0.4444444444444444,
              "#bd3786"
             ],
             [
              0.5555555555555556,
              "#d8576b"
             ],
             [
              0.6666666666666666,
              "#ed7953"
             ],
             [
              0.7777777777777778,
              "#fb9f3a"
             ],
             [
              0.8888888888888888,
              "#fdca26"
             ],
             [
              1,
              "#f0f921"
             ]
            ],
            "type": "contour"
           }
          ],
          "contourcarpet": [
           {
            "colorbar": {
             "outlinewidth": 0,
             "ticks": ""
            },
            "type": "contourcarpet"
           }
          ],
          "heatmap": [
           {
            "colorbar": {
             "outlinewidth": 0,
             "ticks": ""
            },
            "colorscale": [
             [
              0,
              "#0d0887"
             ],
             [
              0.1111111111111111,
              "#46039f"
             ],
             [
              0.2222222222222222,
              "#7201a8"
             ],
             [
              0.3333333333333333,
              "#9c179e"
             ],
             [
              0.4444444444444444,
              "#bd3786"
             ],
             [
              0.5555555555555556,
              "#d8576b"
             ],
             [
              0.6666666666666666,
              "#ed7953"
             ],
             [
              0.7777777777777778,
              "#fb9f3a"
             ],
             [
              0.8888888888888888,
              "#fdca26"
             ],
             [
              1,
              "#f0f921"
             ]
            ],
            "type": "heatmap"
           }
          ],
          "heatmapgl": [
           {
            "colorbar": {
             "outlinewidth": 0,
             "ticks": ""
            },
            "colorscale": [
             [
              0,
              "#0d0887"
             ],
             [
              0.1111111111111111,
              "#46039f"
             ],
             [
              0.2222222222222222,
              "#7201a8"
             ],
             [
              0.3333333333333333,
              "#9c179e"
             ],
             [
              0.4444444444444444,
              "#bd3786"
             ],
             [
              0.5555555555555556,
              "#d8576b"
             ],
             [
              0.6666666666666666,
              "#ed7953"
             ],
             [
              0.7777777777777778,
              "#fb9f3a"
             ],
             [
              0.8888888888888888,
              "#fdca26"
             ],
             [
              1,
              "#f0f921"
             ]
            ],
            "type": "heatmapgl"
           }
          ],
          "histogram": [
           {
            "marker": {
             "pattern": {
              "fillmode": "overlay",
              "size": 10,
              "solidity": 0.2
             }
            },
            "type": "histogram"
           }
          ],
          "histogram2d": [
           {
            "colorbar": {
             "outlinewidth": 0,
             "ticks": ""
            },
            "colorscale": [
             [
              0,
              "#0d0887"
             ],
             [
              0.1111111111111111,
              "#46039f"
             ],
             [
              0.2222222222222222,
              "#7201a8"
             ],
             [
              0.3333333333333333,
              "#9c179e"
             ],
             [
              0.4444444444444444,
              "#bd3786"
             ],
             [
              0.5555555555555556,
              "#d8576b"
             ],
             [
              0.6666666666666666,
              "#ed7953"
             ],
             [
              0.7777777777777778,
              "#fb9f3a"
             ],
             [
              0.8888888888888888,
              "#fdca26"
             ],
             [
              1,
              "#f0f921"
             ]
            ],
            "type": "histogram2d"
           }
          ],
          "histogram2dcontour": [
           {
            "colorbar": {
             "outlinewidth": 0,
             "ticks": ""
            },
            "colorscale": [
             [
              0,
              "#0d0887"
             ],
             [
              0.1111111111111111,
              "#46039f"
             ],
             [
              0.2222222222222222,
              "#7201a8"
             ],
             [
              0.3333333333333333,
              "#9c179e"
             ],
             [
              0.4444444444444444,
              "#bd3786"
             ],
             [
              0.5555555555555556,
              "#d8576b"
             ],
             [
              0.6666666666666666,
              "#ed7953"
             ],
             [
              0.7777777777777778,
              "#fb9f3a"
             ],
             [
              0.8888888888888888,
              "#fdca26"
             ],
             [
              1,
              "#f0f921"
             ]
            ],
            "type": "histogram2dcontour"
           }
          ],
          "mesh3d": [
           {
            "colorbar": {
             "outlinewidth": 0,
             "ticks": ""
            },
            "type": "mesh3d"
           }
          ],
          "parcoords": [
           {
            "line": {
             "colorbar": {
              "outlinewidth": 0,
              "ticks": ""
             }
            },
            "type": "parcoords"
           }
          ],
          "pie": [
           {
            "automargin": true,
            "type": "pie"
           }
          ],
          "scatter": [
           {
            "fillpattern": {
             "fillmode": "overlay",
             "size": 10,
             "solidity": 0.2
            },
            "type": "scatter"
           }
          ],
          "scatter3d": [
           {
            "line": {
             "colorbar": {
              "outlinewidth": 0,
              "ticks": ""
             }
            },
            "marker": {
             "colorbar": {
              "outlinewidth": 0,
              "ticks": ""
             }
            },
            "type": "scatter3d"
           }
          ],
          "scattercarpet": [
           {
            "marker": {
             "colorbar": {
              "outlinewidth": 0,
              "ticks": ""
             }
            },
            "type": "scattercarpet"
           }
          ],
          "scattergeo": [
           {
            "marker": {
             "colorbar": {
              "outlinewidth": 0,
              "ticks": ""
             }
            },
            "type": "scattergeo"
           }
          ],
          "scattergl": [
           {
            "marker": {
             "colorbar": {
              "outlinewidth": 0,
              "ticks": ""
             }
            },
            "type": "scattergl"
           }
          ],
          "scattermapbox": [
           {
            "marker": {
             "colorbar": {
              "outlinewidth": 0,
              "ticks": ""
             }
            },
            "type": "scattermapbox"
           }
          ],
          "scatterpolar": [
           {
            "marker": {
             "colorbar": {
              "outlinewidth": 0,
              "ticks": ""
             }
            },
            "type": "scatterpolar"
           }
          ],
          "scatterpolargl": [
           {
            "marker": {
             "colorbar": {
              "outlinewidth": 0,
              "ticks": ""
             }
            },
            "type": "scatterpolargl"
           }
          ],
          "scatterternary": [
           {
            "marker": {
             "colorbar": {
              "outlinewidth": 0,
              "ticks": ""
             }
            },
            "type": "scatterternary"
           }
          ],
          "surface": [
           {
            "colorbar": {
             "outlinewidth": 0,
             "ticks": ""
            },
            "colorscale": [
             [
              0,
              "#0d0887"
             ],
             [
              0.1111111111111111,
              "#46039f"
             ],
             [
              0.2222222222222222,
              "#7201a8"
             ],
             [
              0.3333333333333333,
              "#9c179e"
             ],
             [
              0.4444444444444444,
              "#bd3786"
             ],
             [
              0.5555555555555556,
              "#d8576b"
             ],
             [
              0.6666666666666666,
              "#ed7953"
             ],
             [
              0.7777777777777778,
              "#fb9f3a"
             ],
             [
              0.8888888888888888,
              "#fdca26"
             ],
             [
              1,
              "#f0f921"
             ]
            ],
            "type": "surface"
           }
          ],
          "table": [
           {
            "cells": {
             "fill": {
              "color": "#EBF0F8"
             },
             "line": {
              "color": "white"
             }
            },
            "header": {
             "fill": {
              "color": "#C8D4E3"
             },
             "line": {
              "color": "white"
             }
            },
            "type": "table"
           }
          ]
         },
         "layout": {
          "annotationdefaults": {
           "arrowcolor": "#2a3f5f",
           "arrowhead": 0,
           "arrowwidth": 1
          },
          "autotypenumbers": "strict",
          "coloraxis": {
           "colorbar": {
            "outlinewidth": 0,
            "ticks": ""
           }
          },
          "colorscale": {
           "diverging": [
            [
             0,
             "#8e0152"
            ],
            [
             0.1,
             "#c51b7d"
            ],
            [
             0.2,
             "#de77ae"
            ],
            [
             0.3,
             "#f1b6da"
            ],
            [
             0.4,
             "#fde0ef"
            ],
            [
             0.5,
             "#f7f7f7"
            ],
            [
             0.6,
             "#e6f5d0"
            ],
            [
             0.7,
             "#b8e186"
            ],
            [
             0.8,
             "#7fbc41"
            ],
            [
             0.9,
             "#4d9221"
            ],
            [
             1,
             "#276419"
            ]
           ],
           "sequential": [
            [
             0,
             "#0d0887"
            ],
            [
             0.1111111111111111,
             "#46039f"
            ],
            [
             0.2222222222222222,
             "#7201a8"
            ],
            [
             0.3333333333333333,
             "#9c179e"
            ],
            [
             0.4444444444444444,
             "#bd3786"
            ],
            [
             0.5555555555555556,
             "#d8576b"
            ],
            [
             0.6666666666666666,
             "#ed7953"
            ],
            [
             0.7777777777777778,
             "#fb9f3a"
            ],
            [
             0.8888888888888888,
             "#fdca26"
            ],
            [
             1,
             "#f0f921"
            ]
           ],
           "sequentialminus": [
            [
             0,
             "#0d0887"
            ],
            [
             0.1111111111111111,
             "#46039f"
            ],
            [
             0.2222222222222222,
             "#7201a8"
            ],
            [
             0.3333333333333333,
             "#9c179e"
            ],
            [
             0.4444444444444444,
             "#bd3786"
            ],
            [
             0.5555555555555556,
             "#d8576b"
            ],
            [
             0.6666666666666666,
             "#ed7953"
            ],
            [
             0.7777777777777778,
             "#fb9f3a"
            ],
            [
             0.8888888888888888,
             "#fdca26"
            ],
            [
             1,
             "#f0f921"
            ]
           ]
          },
          "colorway": [
           "#636efa",
           "#EF553B",
           "#00cc96",
           "#ab63fa",
           "#FFA15A",
           "#19d3f3",
           "#FF6692",
           "#B6E880",
           "#FF97FF",
           "#FECB52"
          ],
          "font": {
           "color": "#2a3f5f"
          },
          "geo": {
           "bgcolor": "white",
           "lakecolor": "white",
           "landcolor": "#E5ECF6",
           "showlakes": true,
           "showland": true,
           "subunitcolor": "white"
          },
          "hoverlabel": {
           "align": "left"
          },
          "hovermode": "closest",
          "mapbox": {
           "style": "light"
          },
          "paper_bgcolor": "white",
          "plot_bgcolor": "#E5ECF6",
          "polar": {
           "angularaxis": {
            "gridcolor": "white",
            "linecolor": "white",
            "ticks": ""
           },
           "bgcolor": "#E5ECF6",
           "radialaxis": {
            "gridcolor": "white",
            "linecolor": "white",
            "ticks": ""
           }
          },
          "scene": {
           "xaxis": {
            "backgroundcolor": "#E5ECF6",
            "gridcolor": "white",
            "gridwidth": 2,
            "linecolor": "white",
            "showbackground": true,
            "ticks": "",
            "zerolinecolor": "white"
           },
           "yaxis": {
            "backgroundcolor": "#E5ECF6",
            "gridcolor": "white",
            "gridwidth": 2,
            "linecolor": "white",
            "showbackground": true,
            "ticks": "",
            "zerolinecolor": "white"
           },
           "zaxis": {
            "backgroundcolor": "#E5ECF6",
            "gridcolor": "white",
            "gridwidth": 2,
            "linecolor": "white",
            "showbackground": true,
            "ticks": "",
            "zerolinecolor": "white"
           }
          },
          "shapedefaults": {
           "line": {
            "color": "#2a3f5f"
           }
          },
          "ternary": {
           "aaxis": {
            "gridcolor": "white",
            "linecolor": "white",
            "ticks": ""
           },
           "baxis": {
            "gridcolor": "white",
            "linecolor": "white",
            "ticks": ""
           },
           "bgcolor": "#E5ECF6",
           "caxis": {
            "gridcolor": "white",
            "linecolor": "white",
            "ticks": ""
           }
          },
          "title": {
           "x": 0.05
          },
          "xaxis": {
           "automargin": true,
           "gridcolor": "white",
           "linecolor": "white",
           "ticks": "",
           "title": {
            "standoff": 15
           },
           "zerolinecolor": "white",
           "zerolinewidth": 2
          },
          "yaxis": {
           "automargin": true,
           "gridcolor": "white",
           "linecolor": "white",
           "ticks": "",
           "title": {
            "standoff": 15
           },
           "zerolinecolor": "white",
           "zerolinewidth": 2
          }
         }
        },
        "xaxis": {
         "anchor": "y",
         "domain": [
          0,
          1
         ],
         "title": {
          "text": "x"
         }
        },
        "yaxis": {
         "anchor": "x",
         "domain": [
          0,
          1
         ],
         "title": {
          "text": "value"
         }
        }
       }
      },
      "text/html": [
       "<div>                            <div id=\"dde69ba1-0ae6-4ccc-aab8-406235f14c64\" class=\"plotly-graph-div\" style=\"height:525px; width:100%;\"></div>            <script type=\"text/javascript\">                require([\"plotly\"], function(Plotly) {                    window.PLOTLYENV=window.PLOTLYENV || {};                                    if (document.getElementById(\"dde69ba1-0ae6-4ccc-aab8-406235f14c64\")) {                    Plotly.newPlot(                        \"dde69ba1-0ae6-4ccc-aab8-406235f14c64\",                        [{\"hovertemplate\":\"variable=y_ = 0+.65*x<br>x=%{x}<br>value=%{y}<extra></extra>\",\"legendgroup\":\"y_ = 0+.65*x\",\"line\":{\"color\":\"#636efa\",\"dash\":\"solid\"},\"marker\":{\"symbol\":\"circle\"},\"mode\":\"lines\",\"name\":\"y_ = 0+.65*x\",\"orientation\":\"v\",\"showlegend\":true,\"x\":[0.0,1.0,2.0,3.0,4.0,5.0,6.0,7.0,8.0,9.0,10.0,11.0,12.0,13.0,14.0,15.0,16.0,17.0,18.0,19.0,20.0,21.0,22.0,23.0,24.0,25.0,26.0,27.0,28.0,29.0,30.0,31.0,32.0,33.0,34.0,35.0,36.0,37.0,38.0,39.0,40.0,41.0,42.0,43.0,44.0,45.0,46.0,47.0,48.0,49.0,50.0,51.0,52.0,53.0,54.0,55.0,56.0,57.0,58.0,59.0,60.0,61.0,62.0,63.0,64.0,65.0,66.0,67.0,68.0,69.0,70.0,71.0,72.0,73.0,74.0,75.0,76.0,77.0,78.0,79.0,80.0,81.0,82.0,83.0,84.0,85.0,86.0,87.0,88.0,89.0,90.0,91.0,92.0,93.0,94.0,95.0,96.0,97.0,98.0,99.0,100.0,101.0,102.0,103.0,104.0,105.0,106.0,107.0,108.0,109.0,110.0,111.0,112.0,113.0,114.0,115.0,116.0,117.0,118.0,119.0,120.0,121.0,122.0,123.0,124.0,125.0,126.0,127.0,128.0,129.0,130.0,131.0,132.0,133.0,134.0,135.0,136.0,137.0,138.0,139.0,140.0],\"xaxis\":\"x\",\"y\":[0.0,0.7,1.4,2.0999999999999996,2.8,3.5,4.199999999999999,4.8999999999999995,5.6,6.3,7.0,7.699999999999999,8.399999999999999,9.1,9.799999999999999,10.5,11.2,11.899999999999999,12.6,13.299999999999999,14.0,14.7,15.399999999999999,16.099999999999998,16.799999999999997,17.5,18.2,18.9,19.599999999999998,20.299999999999997,21.0,21.7,22.4,23.099999999999998,23.799999999999997,24.5,25.2,25.9,26.599999999999998,27.299999999999997,28.0,28.7,29.4,30.099999999999998,30.799999999999997,31.499999999999996,32.199999999999996,32.9,33.599999999999994,34.3,35.0,35.699999999999996,36.4,37.099999999999994,37.8,38.5,39.199999999999996,39.9,40.599999999999994,41.3,42.0,42.699999999999996,43.4,44.099999999999994,44.8,45.5,46.199999999999996,46.9,47.599999999999994,48.3,49.0,49.699999999999996,50.4,51.099999999999994,51.8,52.5,53.199999999999996,53.9,54.599999999999994,55.3,56.0,56.699999999999996,57.4,58.099999999999994,58.8,59.49999999999999,60.199999999999996,60.9,61.599999999999994,62.3,62.99999999999999,63.699999999999996,64.39999999999999,65.1,65.8,66.5,67.19999999999999,67.89999999999999,68.6,69.3,70.0,70.69999999999999,71.39999999999999,72.1,72.8,73.5,74.19999999999999,74.89999999999999,75.6,76.3,77.0,77.69999999999999,78.39999999999999,79.1,79.8,80.5,81.19999999999999,81.89999999999999,82.6,83.3,84.0,84.69999999999999,85.39999999999999,86.1,86.8,87.5,88.19999999999999,88.89999999999999,89.6,90.3,91.0,91.69999999999999,92.39999999999999,93.1,93.8,94.5,95.19999999999999,95.89999999999999,96.6,97.3,98.0],\"yaxis\":\"y\",\"type\":\"scatter\"},{\"hovertemplate\":\"variable=y_hat = -2.4+.82*x<br>x=%{x}<br>value=%{y}<extra></extra>\",\"legendgroup\":\"y_hat = -2.4+.82*x\",\"line\":{\"color\":\"#EF553B\",\"dash\":\"solid\"},\"marker\":{\"symbol\":\"circle\"},\"mode\":\"lines\",\"name\":\"y_hat = -2.4+.82*x\",\"orientation\":\"v\",\"showlegend\":true,\"x\":[0.0,1.0,2.0,3.0,4.0,5.0,6.0,7.0,8.0,9.0,10.0,11.0,12.0,13.0,14.0,15.0,16.0,17.0,18.0,19.0,20.0,21.0,22.0,23.0,24.0,25.0,26.0,27.0,28.0,29.0,30.0,31.0,32.0,33.0,34.0,35.0,36.0,37.0,38.0,39.0,40.0,41.0,42.0,43.0,44.0,45.0,46.0,47.0,48.0,49.0,50.0,51.0,52.0,53.0,54.0,55.0,56.0,57.0,58.0,59.0,60.0,61.0,62.0,63.0,64.0,65.0,66.0,67.0,68.0,69.0,70.0,71.0,72.0,73.0,74.0,75.0,76.0,77.0,78.0,79.0,80.0,81.0,82.0,83.0,84.0,85.0,86.0,87.0,88.0,89.0,90.0,91.0,92.0,93.0,94.0,95.0,96.0,97.0,98.0,99.0,100.0,101.0,102.0,103.0,104.0,105.0,106.0,107.0,108.0,109.0,110.0,111.0,112.0,113.0,114.0,115.0,116.0,117.0,118.0,119.0,120.0,121.0,122.0,123.0,124.0,125.0,126.0,127.0,128.0,129.0,130.0,131.0,132.0,133.0,134.0,135.0,136.0,137.0,138.0,139.0,140.0],\"xaxis\":\"x\",\"y\":[-2.4069593052705063,-1.577178976406675,-0.747398647542844,0.082381681320987,0.9121620101848182,1.7419423390486495,2.5717226679124803,3.401502996776312,4.231283325640143,5.0610636545039736,5.890843983367805,6.720624312231637,7.550404641095467,8.380184969959299,9.20996529882313,10.03974562768696,10.869525956550792,11.699306285414623,12.529086614278453,13.358866943142285,14.188647272006117,15.018427600869947,15.84820792973378,16.67798825859761,17.50776858746144,18.337548916325275,19.1673292451891,19.997109574052935,20.82688990291677,21.656670231780595,22.48645056064443,23.31623088950826,24.146011218372088,24.97579154723592,25.805571876099755,26.63535220496358,27.465132533827415,28.29491286269125,29.124693191555075,29.954473520418908,30.78425384928274,31.614034178146575,32.4438145070104,33.273594835874235,34.10337516473807,34.933155493601895,35.76293582246573,36.59271615132956,37.42249648019339,38.25227680905722,39.082057137921055,39.91183746678488,40.741617795648715,41.57139812451255,42.401178453376374,43.23095878224021,44.06073911110404,44.89051943996787,45.7202997688317,46.550080097695535,47.37986042655936,48.209640755423194,49.03942108428703,49.869201413150854,50.69898174201469,51.52876207087852,52.35854239974235,53.18832272860618,54.018103057470015,54.84788338633384,55.677663715197674,56.50744404406151,57.337224372925334,58.16700470178917,58.996785030653,59.82656535951683,60.65634568838066,61.486126017244494,62.31590634610832,63.145686674972154,63.97546700383599,64.80524733269982,65.63502766156365,66.46480799042747,67.29458831929131,68.12436864815514,68.95414897701897,69.78392930588281,70.61370963474664,71.44348996361046,72.2732702924743,73.10305062133813,73.93283095020196,74.7626112790658,75.59239160792963,76.42217193679345,77.25195226565728,78.08173259452111,78.91151292338495,79.74129325224878,80.57107358111261,81.40085390997643,82.23063423884027,83.0604145677041,83.89019489656793,84.71997522543177,85.5497555542956,86.37953588315942,87.20931621202325,88.03909654088709,88.86887686975092,89.69865719861475,90.52843752747859,91.3582178563424,92.18799818520624,93.01777851407007,93.8475588429339,94.67733917179774,95.50711950066157,96.3368998295254,97.16668015838923,97.99646048725306,98.8262408161169,99.65602114498073,100.48580147384456,101.31558180270838,102.14536213157221,102.97514246043605,103.80492278929988,104.63470311816371,105.46448344702755,106.29426377589138,107.1240441047552,107.95382443361903,108.78360476248287,109.6133850913467,110.44316542021053,111.27294574907437,112.10272607793819,112.93250640680202,113.76228673566585],\"yaxis\":\"y\",\"type\":\"scatter\"},{\"mode\":\"markers\",\"name\":\"observed data\",\"x\":[12.95,15.0,1.5,15.99,30.5,28.95,20.0,15.0,35.0,30.0,17.0,17.0,19.95,20.0,39.95,18.99,5.95,15.0,7.5,15.95,13.0,11.94,14.0,14.95,22.99,15.0,18.0,7.95,14.95,14.95,7.95,15.95,20.0,14.0,29.5,11.99,13.07,13.95,15.0,4.99,13.0,13.99,24.95,26.99,14.95,6.69,5.99,13.95,26.95,24.0,16.0,13.99,17.99,15.0,8.99,6.99,14.54,17.99,114.95,48.2,15.95,15.95,18.0,86.95,15.0,17.99,15.0,11.5,26.95,6.99,15.0,16.0,53.95,15.0,6.99,12.0,21.1,13.95,14.99,30.0,7.99,8.0,15.99,26.99,27.99,17.0,6.99,14.95,18.0,16.0,6.99,16.0,8.99,16.0,19.99,18.0,8.99,17.0,14.0,27.95,139.95,24.95,14.95,6.95,26.0,26.0,9.95,27.99,16.99,8.95,14.95,15.95,21.0,14.0,20.0,15.0,14.95,15.95,14.99,14.0,12.95,24.99,15.0,15.0,25.95,25.0,9.99,26.99,17.99,15.0,15.0,25.05,17.99,16.0,14.99,20.0,7.99,17.99,14.0,13.29,16.0,13.83,12.0,14.95,15.0,16.99,15.0,6.95,14.0,15.0,20.0,16.0,15.0,16.0,15.0,15.0,16.0,8.95,5.99,16.0,15.0,14.0,35.95,14.99,7.95,16.99,98.95,35.75,19.73,37.5,14.95,13.0,15.95,26.0,5.99,14.99,16.0,9.99,15.95,14.99,14.0,13.95,15.0,16.0,75.0,32.95,26.95,15.99,15.0,24.0,6.95,16.0,16.0,26.95,26.99,7.99,17.95,35.75,6.99,9.99,6.99,15.0,12.0,9.99,null,11.99,15.0,24.0,16.0,14.99,16.0,12.14,7.75,14.1,4.99,13.95,22.0,12.99,13.99,8.95,8.99,7.95,15.0,17.0,13.0,12.99,70.8,48.2,9.99,30.0,15.0,14.0,16.99,22.0,8.42,9.99,15.0,14.95,18.99,10.95,16.95,28.0,25.0,15.0,15.0,15.0,17.0,13.95,16.0,11.0,8.99,17.99,16.0,15.0,12.0,17.99,21.99,15.95,24.95,39.95,16.0,10.65,13.99,19.95,14.0,15.0,16.95,9.99,14.95,11.0,17.0,14.95,12.0,9.99,25.0,14.0,17.99,30.0,16.99,34.8,15.95,7.77,3.95,2.0,8.99,18.95,20.0,20.0,15.44,22.0,14.95,17.99,16.0,14.95,25.0,14.0,14.95,26.0,24.99,20.0,13.0,13.99,15.99,12.6,10.99,24.99,28.0,35.0,15.95,6.99,14.95,14.95,14.95,25.0,27.0,15.0,15.0,15.95,14.95,26.0,18.99,27.55,12.95,97.5,16.99],\"y\":[5.18,10.2,1.5,10.87,16.77,16.44,13.46,8.44,18.81,19.8,8.97,10.46,13.57,14.6,37.95,11.58,3.99,10.2,5.87,10.85,10.4,11.94,11.2,8.96,15.63,10.2,12.11,7.95,14.95,10.17,7.95,8.39,13.6,8.75,26.61,9.59,12.52,11.16,10.22,4.99,10.4,10.54,15.82,15.6,10.17,6.99,5.99,11.16,20.48,16.32,9.07,8.38,8.97,10.2,8.99,6.99,9.99,11.36,83.04,44.32,7.97,7.97,12.24,54.61,10.2,11.46,10.2,11.5,14.99,6.99,10.2,10.88,39.92,10.2,6.99,9.07,16.46,7.83,10.19,17.43,7.99,8.0,9.95,14.61,11.2,10.46,6.99,8.97,12.24,9.2,6.99,10.88,8.99,9.09,10.75,12.24,8.99,11.55,11.2,19.99,139.95,16.47,5.98,6.95,13.0,14.44,5.13,13.98,11.55,8.95,8.6,10.22,13.43,11.08,13.6,10.2,10.17,8.39,10.19,11.2,8.36,15.2,8.68,10.33,25.95,16.5,9.99,15.44,10.58,8.84,8.15,22.81,11.24,8.59,10.19,12.17,7.99,7.98,11.2,13.29,10.77,13.83,9.6,10.17,7.9,11.55,10.2,6.95,8.75,10.2,13.6,10.88,10.2,10.88,10.09,8.24,8.61,8.95,5.99,8.87,9.98,11.08,35.95,10.98,7.95,10.79,98.95,25.84,15.68,25.0,5.98,9.64,10.85,16.91,5.99,8.11,12.47,9.99,10.85,9.57,11.08,8.07,6.0,9.75,39.45,21.75,17.73,9.58,7.89,16.32,6.95,10.22,10.88,17.79,15.44,7.99,12.08,21.68,6.99,9.99,6.99,10.2,7.51,9.99,118.21,7.7,10.2,15.48,10.77,8.43,6.4,9.0,7.75,11.99,4.99,8.5,22.0,7.31,10.68,8.95,8.99,7.95,10.09,11.44,9.28,9.66,55.75,39.72,9.99,20.0,8.6,8.04,10.68,14.96,8.42,9.99,8.52,8.26,11.16,7.82,9.16,16.09,15.62,8.84,8.92,8.05,11.56,7.7,8.8,6.4,4.94,10.21,8.0,8.36,9.22,9.99,12.5,8.95,22.51,23.79,9.52,13.13,7.79,10.86,11.2,10.2,11.53,9.99,10.17,8.8,10.47,7.9,9.09,9.99,14.46,8.22,8.98,23.94,11.28,24.9,9.92,7.77,3.95,0.77,8.99,15.15,13.6,13.6,8.45,14.96,10.17,10.88,10.11,8.28,14.7,14.0,5.98,13.7,17.99,12.17,10.29,11.19,8.5,12.6,6.9,14.69,16.08,23.1,10.68,6.99,10.75,10.17,10.17,10.0,13.49,10.2,10.2,10.85,8.14,19.01,12.24,27.55,5.18,97.5,4.95],\"type\":\"scatter\"}],                        {\"template\":{\"data\":{\"histogram2dcontour\":[{\"type\":\"histogram2dcontour\",\"colorbar\":{\"outlinewidth\":0,\"ticks\":\"\"},\"colorscale\":[[0.0,\"#0d0887\"],[0.1111111111111111,\"#46039f\"],[0.2222222222222222,\"#7201a8\"],[0.3333333333333333,\"#9c179e\"],[0.4444444444444444,\"#bd3786\"],[0.5555555555555556,\"#d8576b\"],[0.6666666666666666,\"#ed7953\"],[0.7777777777777778,\"#fb9f3a\"],[0.8888888888888888,\"#fdca26\"],[1.0,\"#f0f921\"]]}],\"choropleth\":[{\"type\":\"choropleth\",\"colorbar\":{\"outlinewidth\":0,\"ticks\":\"\"}}],\"histogram2d\":[{\"type\":\"histogram2d\",\"colorbar\":{\"outlinewidth\":0,\"ticks\":\"\"},\"colorscale\":[[0.0,\"#0d0887\"],[0.1111111111111111,\"#46039f\"],[0.2222222222222222,\"#7201a8\"],[0.3333333333333333,\"#9c179e\"],[0.4444444444444444,\"#bd3786\"],[0.5555555555555556,\"#d8576b\"],[0.6666666666666666,\"#ed7953\"],[0.7777777777777778,\"#fb9f3a\"],[0.8888888888888888,\"#fdca26\"],[1.0,\"#f0f921\"]]}],\"heatmap\":[{\"type\":\"heatmap\",\"colorbar\":{\"outlinewidth\":0,\"ticks\":\"\"},\"colorscale\":[[0.0,\"#0d0887\"],[0.1111111111111111,\"#46039f\"],[0.2222222222222222,\"#7201a8\"],[0.3333333333333333,\"#9c179e\"],[0.4444444444444444,\"#bd3786\"],[0.5555555555555556,\"#d8576b\"],[0.6666666666666666,\"#ed7953\"],[0.7777777777777778,\"#fb9f3a\"],[0.8888888888888888,\"#fdca26\"],[1.0,\"#f0f921\"]]}],\"heatmapgl\":[{\"type\":\"heatmapgl\",\"colorbar\":{\"outlinewidth\":0,\"ticks\":\"\"},\"colorscale\":[[0.0,\"#0d0887\"],[0.1111111111111111,\"#46039f\"],[0.2222222222222222,\"#7201a8\"],[0.3333333333333333,\"#9c179e\"],[0.4444444444444444,\"#bd3786\"],[0.5555555555555556,\"#d8576b\"],[0.6666666666666666,\"#ed7953\"],[0.7777777777777778,\"#fb9f3a\"],[0.8888888888888888,\"#fdca26\"],[1.0,\"#f0f921\"]]}],\"contourcarpet\":[{\"type\":\"contourcarpet\",\"colorbar\":{\"outlinewidth\":0,\"ticks\":\"\"}}],\"contour\":[{\"type\":\"contour\",\"colorbar\":{\"outlinewidth\":0,\"ticks\":\"\"},\"colorscale\":[[0.0,\"#0d0887\"],[0.1111111111111111,\"#46039f\"],[0.2222222222222222,\"#7201a8\"],[0.3333333333333333,\"#9c179e\"],[0.4444444444444444,\"#bd3786\"],[0.5555555555555556,\"#d8576b\"],[0.6666666666666666,\"#ed7953\"],[0.7777777777777778,\"#fb9f3a\"],[0.8888888888888888,\"#fdca26\"],[1.0,\"#f0f921\"]]}],\"surface\":[{\"type\":\"surface\",\"colorbar\":{\"outlinewidth\":0,\"ticks\":\"\"},\"colorscale\":[[0.0,\"#0d0887\"],[0.1111111111111111,\"#46039f\"],[0.2222222222222222,\"#7201a8\"],[0.3333333333333333,\"#9c179e\"],[0.4444444444444444,\"#bd3786\"],[0.5555555555555556,\"#d8576b\"],[0.6666666666666666,\"#ed7953\"],[0.7777777777777778,\"#fb9f3a\"],[0.8888888888888888,\"#fdca26\"],[1.0,\"#f0f921\"]]}],\"mesh3d\":[{\"type\":\"mesh3d\",\"colorbar\":{\"outlinewidth\":0,\"ticks\":\"\"}}],\"scatter\":[{\"fillpattern\":{\"fillmode\":\"overlay\",\"size\":10,\"solidity\":0.2},\"type\":\"scatter\"}],\"parcoords\":[{\"type\":\"parcoords\",\"line\":{\"colorbar\":{\"outlinewidth\":0,\"ticks\":\"\"}}}],\"scatterpolargl\":[{\"type\":\"scatterpolargl\",\"marker\":{\"colorbar\":{\"outlinewidth\":0,\"ticks\":\"\"}}}],\"bar\":[{\"error_x\":{\"color\":\"#2a3f5f\"},\"error_y\":{\"color\":\"#2a3f5f\"},\"marker\":{\"line\":{\"color\":\"#E5ECF6\",\"width\":0.5},\"pattern\":{\"fillmode\":\"overlay\",\"size\":10,\"solidity\":0.2}},\"type\":\"bar\"}],\"scattergeo\":[{\"type\":\"scattergeo\",\"marker\":{\"colorbar\":{\"outlinewidth\":0,\"ticks\":\"\"}}}],\"scatterpolar\":[{\"type\":\"scatterpolar\",\"marker\":{\"colorbar\":{\"outlinewidth\":0,\"ticks\":\"\"}}}],\"histogram\":[{\"marker\":{\"pattern\":{\"fillmode\":\"overlay\",\"size\":10,\"solidity\":0.2}},\"type\":\"histogram\"}],\"scattergl\":[{\"type\":\"scattergl\",\"marker\":{\"colorbar\":{\"outlinewidth\":0,\"ticks\":\"\"}}}],\"scatter3d\":[{\"type\":\"scatter3d\",\"line\":{\"colorbar\":{\"outlinewidth\":0,\"ticks\":\"\"}},\"marker\":{\"colorbar\":{\"outlinewidth\":0,\"ticks\":\"\"}}}],\"scattermapbox\":[{\"type\":\"scattermapbox\",\"marker\":{\"colorbar\":{\"outlinewidth\":0,\"ticks\":\"\"}}}],\"scatterternary\":[{\"type\":\"scatterternary\",\"marker\":{\"colorbar\":{\"outlinewidth\":0,\"ticks\":\"\"}}}],\"scattercarpet\":[{\"type\":\"scattercarpet\",\"marker\":{\"colorbar\":{\"outlinewidth\":0,\"ticks\":\"\"}}}],\"carpet\":[{\"aaxis\":{\"endlinecolor\":\"#2a3f5f\",\"gridcolor\":\"white\",\"linecolor\":\"white\",\"minorgridcolor\":\"white\",\"startlinecolor\":\"#2a3f5f\"},\"baxis\":{\"endlinecolor\":\"#2a3f5f\",\"gridcolor\":\"white\",\"linecolor\":\"white\",\"minorgridcolor\":\"white\",\"startlinecolor\":\"#2a3f5f\"},\"type\":\"carpet\"}],\"table\":[{\"cells\":{\"fill\":{\"color\":\"#EBF0F8\"},\"line\":{\"color\":\"white\"}},\"header\":{\"fill\":{\"color\":\"#C8D4E3\"},\"line\":{\"color\":\"white\"}},\"type\":\"table\"}],\"barpolar\":[{\"marker\":{\"line\":{\"color\":\"#E5ECF6\",\"width\":0.5},\"pattern\":{\"fillmode\":\"overlay\",\"size\":10,\"solidity\":0.2}},\"type\":\"barpolar\"}],\"pie\":[{\"automargin\":true,\"type\":\"pie\"}]},\"layout\":{\"autotypenumbers\":\"strict\",\"colorway\":[\"#636efa\",\"#EF553B\",\"#00cc96\",\"#ab63fa\",\"#FFA15A\",\"#19d3f3\",\"#FF6692\",\"#B6E880\",\"#FF97FF\",\"#FECB52\"],\"font\":{\"color\":\"#2a3f5f\"},\"hovermode\":\"closest\",\"hoverlabel\":{\"align\":\"left\"},\"paper_bgcolor\":\"white\",\"plot_bgcolor\":\"#E5ECF6\",\"polar\":{\"bgcolor\":\"#E5ECF6\",\"angularaxis\":{\"gridcolor\":\"white\",\"linecolor\":\"white\",\"ticks\":\"\"},\"radialaxis\":{\"gridcolor\":\"white\",\"linecolor\":\"white\",\"ticks\":\"\"}},\"ternary\":{\"bgcolor\":\"#E5ECF6\",\"aaxis\":{\"gridcolor\":\"white\",\"linecolor\":\"white\",\"ticks\":\"\"},\"baxis\":{\"gridcolor\":\"white\",\"linecolor\":\"white\",\"ticks\":\"\"},\"caxis\":{\"gridcolor\":\"white\",\"linecolor\":\"white\",\"ticks\":\"\"}},\"coloraxis\":{\"colorbar\":{\"outlinewidth\":0,\"ticks\":\"\"}},\"colorscale\":{\"sequential\":[[0.0,\"#0d0887\"],[0.1111111111111111,\"#46039f\"],[0.2222222222222222,\"#7201a8\"],[0.3333333333333333,\"#9c179e\"],[0.4444444444444444,\"#bd3786\"],[0.5555555555555556,\"#d8576b\"],[0.6666666666666666,\"#ed7953\"],[0.7777777777777778,\"#fb9f3a\"],[0.8888888888888888,\"#fdca26\"],[1.0,\"#f0f921\"]],\"sequentialminus\":[[0.0,\"#0d0887\"],[0.1111111111111111,\"#46039f\"],[0.2222222222222222,\"#7201a8\"],[0.3333333333333333,\"#9c179e\"],[0.4444444444444444,\"#bd3786\"],[0.5555555555555556,\"#d8576b\"],[0.6666666666666666,\"#ed7953\"],[0.7777777777777778,\"#fb9f3a\"],[0.8888888888888888,\"#fdca26\"],[1.0,\"#f0f921\"]],\"diverging\":[[0,\"#8e0152\"],[0.1,\"#c51b7d\"],[0.2,\"#de77ae\"],[0.3,\"#f1b6da\"],[0.4,\"#fde0ef\"],[0.5,\"#f7f7f7\"],[0.6,\"#e6f5d0\"],[0.7,\"#b8e186\"],[0.8,\"#7fbc41\"],[0.9,\"#4d9221\"],[1,\"#276419\"]]},\"xaxis\":{\"gridcolor\":\"white\",\"linecolor\":\"white\",\"ticks\":\"\",\"title\":{\"standoff\":15},\"zerolinecolor\":\"white\",\"automargin\":true,\"zerolinewidth\":2},\"yaxis\":{\"gridcolor\":\"white\",\"linecolor\":\"white\",\"ticks\":\"\",\"title\":{\"standoff\":15},\"zerolinecolor\":\"white\",\"automargin\":true,\"zerolinewidth\":2},\"scene\":{\"xaxis\":{\"backgroundcolor\":\"#E5ECF6\",\"gridcolor\":\"white\",\"linecolor\":\"white\",\"showbackground\":true,\"ticks\":\"\",\"zerolinecolor\":\"white\",\"gridwidth\":2},\"yaxis\":{\"backgroundcolor\":\"#E5ECF6\",\"gridcolor\":\"white\",\"linecolor\":\"white\",\"showbackground\":true,\"ticks\":\"\",\"zerolinecolor\":\"white\",\"gridwidth\":2},\"zaxis\":{\"backgroundcolor\":\"#E5ECF6\",\"gridcolor\":\"white\",\"linecolor\":\"white\",\"showbackground\":true,\"ticks\":\"\",\"zerolinecolor\":\"white\",\"gridwidth\":2}},\"shapedefaults\":{\"line\":{\"color\":\"#2a3f5f\"}},\"annotationdefaults\":{\"arrowcolor\":\"#2a3f5f\",\"arrowhead\":0,\"arrowwidth\":1},\"geo\":{\"bgcolor\":\"white\",\"landcolor\":\"#E5ECF6\",\"subunitcolor\":\"white\",\"showland\":true,\"showlakes\":true,\"lakecolor\":\"white\"},\"title\":{\"x\":0.05},\"mapbox\":{\"style\":\"light\"}}},\"xaxis\":{\"anchor\":\"y\",\"domain\":[0.0,1.0],\"title\":{\"text\":\"x\"}},\"yaxis\":{\"anchor\":\"x\",\"domain\":[0.0,1.0],\"title\":{\"text\":\"value\"}},\"legend\":{\"title\":{\"text\":\"variable\"},\"tracegroupgap\":0},\"margin\":{\"t\":60}},                        {\"responsive\": true}                    ).then(function(){\n",
       "                            \n",
       "var gd = document.getElementById('dde69ba1-0ae6-4ccc-aab8-406235f14c64');\n",
       "var x = new MutationObserver(function (mutations, observer) {{\n",
       "        var display = window.getComputedStyle(gd).display;\n",
       "        if (!display || display === 'none') {{\n",
       "            console.log([gd, 'removed!']);\n",
       "            Plotly.purge(gd);\n",
       "            observer.disconnect();\n",
       "        }}\n",
       "}});\n",
       "\n",
       "// Listen for the removal of the full notebook cells\n",
       "var notebookContainer = gd.closest('#notebook-container');\n",
       "if (notebookContainer) {{\n",
       "    x.observe(notebookContainer, {childList: true});\n",
       "}}\n",
       "\n",
       "// Listen for the clearing of the current output cell\n",
       "var outputEl = gd.closest('.output');\n",
       "if (outputEl) {{\n",
       "    x.observe(outputEl, {childList: true});\n",
       "}}\n",
       "\n",
       "                        })                };                });            </script>        </div>"
      ]
     },
     "metadata": {},
     "output_type": "display_data"
    }
   ],
   "source": [
    "import plotly.graph_objects as go\n",
    "fig = px.line(line_models_tall, x=\"x\", y=\"value\", color='variable')\n",
    "fig.add_trace(go.Scatter(x=amazonbooks[\"List Price\"], y=amazonbooks[\"Amazon Price\"],\n",
    "                         mode='markers', name='observed data'))\n",
    "fig.show()"
   ]
  },
  {
   "cell_type": "markdown",
   "id": "074c5c52",
   "metadata": {},
   "source": [
    "$$\\huge \n",
    "\\begin{align}\n",
    "y &={} \\beta_0+\\beta_1x \\quad \\text{(model form)}\\\\\n",
    "\\hat y_i &={} \\hat \\beta_0+\\hat\\beta_1x_i \\quad \\text{(fit model)}\\\\\n",
    "\\hat \\beta_0, \\hat \\beta_1 &={} \\text{argmin}\\quad  \n",
    "\\sum_{i=1}^n (y_i-\\hat y_i)^2 \\\\\n",
    "&={} \\text{argmin} \\sum_{i=1}^n \\epsilon_i^2  \\quad \\text{(sum of squared }\\enclose{horizontalstrike}{errors}\\text{residuals)}\\\\\n",
    "\\hat \\epsilon_i &={} y_i - \\hat y_i \\quad \\text{(residual)}\\\\\n",
    "\\hat y_i &\\color{white}{=}{} \\text{are the predictions of the fit model}\n",
    "\\end{align}$$\n",
    "\n",
    "- we square the prediction errros because some are positive and some are negative and so minimizing that is not helpful; instead, minimizing squared distance (which are positive) allows us to put the line through the data cloud such that the (squared) distance from the points to the line is minimize\n",
    "\n",
    "\n"
   ]
  },
  {
   "cell_type": "code",
   "execution_count": 58,
   "id": "8340154f",
   "metadata": {},
   "outputs": [
    {
     "data": {
      "application/vnd.plotly.v1+json": {
       "config": {
        "plotlyServerURL": "https://plot.ly"
       },
       "data": [
        {
         "hovertemplate": "List Price=%{x}<br>Amazon Price=%{y}<extra></extra>",
         "legendgroup": "",
         "marker": {
          "color": "#636efa",
          "symbol": "circle"
         },
         "mode": "markers",
         "name": "",
         "orientation": "v",
         "showlegend": false,
         "type": "scatter",
         "x": [
          12.95,
          15,
          1.5,
          15.99,
          30.5,
          28.95,
          20,
          15,
          35,
          30,
          17,
          17,
          19.95,
          20,
          39.95,
          18.99,
          5.95,
          15,
          7.5,
          15.95,
          13,
          11.94,
          14,
          14.95,
          22.99,
          15,
          18,
          7.95,
          14.95,
          14.95,
          7.95,
          15.95,
          20,
          14,
          29.5,
          11.99,
          13.07,
          13.95,
          15,
          4.99,
          13,
          13.99,
          24.95,
          26.99,
          14.95,
          6.69,
          5.99,
          13.95,
          26.95,
          24,
          16,
          13.99,
          17.99,
          15,
          8.99,
          6.99,
          14.54,
          17.99,
          114.95,
          48.2,
          15.95,
          15.95,
          18,
          86.95,
          15,
          17.99,
          15,
          11.5,
          26.95,
          6.99,
          15,
          16,
          53.95,
          15,
          6.99,
          12,
          21.1,
          13.95,
          14.99,
          30,
          7.99,
          8,
          15.99,
          26.99,
          27.99,
          17,
          6.99,
          14.95,
          18,
          16,
          6.99,
          16,
          8.99,
          16,
          19.99,
          18,
          8.99,
          17,
          14,
          27.95,
          139.95,
          24.95,
          14.95,
          6.95,
          26,
          26,
          9.95,
          27.99,
          16.99,
          8.95,
          14.95,
          15.95,
          21,
          14,
          20,
          15,
          14.95,
          15.95,
          14.99,
          14,
          12.95,
          24.99,
          15,
          15,
          25.95,
          25,
          9.99,
          26.99,
          17.99,
          15,
          15,
          25.05,
          17.99,
          16,
          14.99,
          20,
          7.99,
          17.99,
          14,
          13.29,
          16,
          13.83,
          12,
          14.95,
          15,
          16.99,
          15,
          6.95,
          14,
          15,
          20,
          16,
          15,
          16,
          15,
          15,
          16,
          8.95,
          5.99,
          16,
          15,
          14,
          35.95,
          14.99,
          7.95,
          16.99,
          98.95,
          35.75,
          19.73,
          37.5,
          14.95,
          13,
          15.95,
          26,
          5.99,
          14.99,
          16,
          9.99,
          15.95,
          14.99,
          14,
          13.95,
          15,
          16,
          75,
          32.95,
          26.95,
          15.99,
          15,
          24,
          6.95,
          16,
          16,
          26.95,
          26.99,
          7.99,
          17.95,
          35.75,
          6.99,
          9.99,
          6.99,
          15,
          12,
          9.99,
          11.99,
          15,
          24,
          16,
          14.99,
          16,
          12.14,
          7.75,
          14.1,
          4.99,
          13.95,
          22,
          12.99,
          13.99,
          8.95,
          8.99,
          7.95,
          15,
          17,
          13,
          12.99,
          70.8,
          48.2,
          9.99,
          30,
          15,
          14,
          16.99,
          22,
          8.42,
          9.99,
          15,
          14.95,
          18.99,
          10.95,
          16.95,
          28,
          25,
          15,
          15,
          15,
          17,
          13.95,
          16,
          11,
          8.99,
          17.99,
          16,
          15,
          12,
          17.99,
          21.99,
          15.95,
          24.95,
          39.95,
          16,
          10.65,
          13.99,
          19.95,
          14,
          15,
          16.95,
          9.99,
          14.95,
          11,
          17,
          14.95,
          12,
          9.99,
          25,
          14,
          17.99,
          30,
          16.99,
          34.8,
          15.95,
          7.77,
          3.95,
          2,
          8.99,
          18.95,
          20,
          20,
          15.44,
          22,
          14.95,
          17.99,
          16,
          14.95,
          25,
          14,
          14.95,
          26,
          24.99,
          20,
          13,
          13.99,
          15.99,
          12.6,
          10.99,
          24.99,
          28,
          35,
          15.95,
          6.99,
          14.95,
          14.95,
          14.95,
          25,
          27,
          15,
          15,
          15.95,
          14.95,
          26,
          18.99,
          27.55,
          12.95,
          97.5,
          16.99
         ],
         "xaxis": "x",
         "y": [
          5.18,
          10.2,
          1.5,
          10.87,
          16.77,
          16.44,
          13.46,
          8.44,
          18.81,
          19.8,
          8.97,
          10.46,
          13.57,
          14.6,
          37.95,
          11.58,
          3.99,
          10.2,
          5.87,
          10.85,
          10.4,
          11.94,
          11.2,
          8.96,
          15.63,
          10.2,
          12.11,
          7.95,
          14.95,
          10.17,
          7.95,
          8.39,
          13.6,
          8.75,
          26.61,
          9.59,
          12.52,
          11.16,
          10.22,
          4.99,
          10.4,
          10.54,
          15.82,
          15.6,
          10.17,
          6.99,
          5.99,
          11.16,
          20.48,
          16.32,
          9.07,
          8.38,
          8.97,
          10.2,
          8.99,
          6.99,
          9.99,
          11.36,
          83.04,
          44.32,
          7.97,
          7.97,
          12.24,
          54.61,
          10.2,
          11.46,
          10.2,
          11.5,
          14.99,
          6.99,
          10.2,
          10.88,
          39.92,
          10.2,
          6.99,
          9.07,
          16.46,
          7.83,
          10.19,
          17.43,
          7.99,
          8,
          9.95,
          14.61,
          11.2,
          10.46,
          6.99,
          8.97,
          12.24,
          9.2,
          6.99,
          10.88,
          8.99,
          9.09,
          10.75,
          12.24,
          8.99,
          11.55,
          11.2,
          19.99,
          139.95,
          16.47,
          5.98,
          6.95,
          13,
          14.44,
          5.13,
          13.98,
          11.55,
          8.95,
          8.6,
          10.22,
          13.43,
          11.08,
          13.6,
          10.2,
          10.17,
          8.39,
          10.19,
          11.2,
          8.36,
          15.2,
          8.68,
          10.33,
          25.95,
          16.5,
          9.99,
          15.44,
          10.58,
          8.84,
          8.15,
          22.81,
          11.24,
          8.59,
          10.19,
          12.17,
          7.99,
          7.98,
          11.2,
          13.29,
          10.77,
          13.83,
          9.6,
          10.17,
          7.9,
          11.55,
          10.2,
          6.95,
          8.75,
          10.2,
          13.6,
          10.88,
          10.2,
          10.88,
          10.09,
          8.24,
          8.61,
          8.95,
          5.99,
          8.87,
          9.98,
          11.08,
          35.95,
          10.98,
          7.95,
          10.79,
          98.95,
          25.84,
          15.68,
          25,
          5.98,
          9.64,
          10.85,
          16.91,
          5.99,
          8.11,
          12.47,
          9.99,
          10.85,
          9.57,
          11.08,
          8.07,
          6,
          9.75,
          39.45,
          21.75,
          17.73,
          9.58,
          7.89,
          16.32,
          6.95,
          10.22,
          10.88,
          17.79,
          15.44,
          7.99,
          12.08,
          21.68,
          6.99,
          9.99,
          6.99,
          10.2,
          7.51,
          9.99,
          7.7,
          10.2,
          15.48,
          10.77,
          8.43,
          6.4,
          9,
          7.75,
          11.99,
          4.99,
          8.5,
          22,
          7.31,
          10.68,
          8.95,
          8.99,
          7.95,
          10.09,
          11.44,
          9.28,
          9.66,
          55.75,
          39.72,
          9.99,
          20,
          8.6,
          8.04,
          10.68,
          14.96,
          8.42,
          9.99,
          8.52,
          8.26,
          11.16,
          7.82,
          9.16,
          16.09,
          15.62,
          8.84,
          8.92,
          8.05,
          11.56,
          7.7,
          8.8,
          6.4,
          4.94,
          10.21,
          8,
          8.36,
          9.22,
          9.99,
          12.5,
          8.95,
          22.51,
          23.79,
          9.52,
          13.13,
          7.79,
          10.86,
          11.2,
          10.2,
          11.53,
          9.99,
          10.17,
          8.8,
          10.47,
          7.9,
          9.09,
          9.99,
          14.46,
          8.22,
          8.98,
          23.94,
          11.28,
          24.9,
          9.92,
          7.77,
          3.95,
          0.77,
          8.99,
          15.15,
          13.6,
          13.6,
          8.45,
          14.96,
          10.17,
          10.88,
          10.11,
          8.28,
          14.7,
          14,
          5.98,
          13.7,
          17.99,
          12.17,
          10.29,
          11.19,
          8.5,
          12.6,
          6.9,
          14.69,
          16.08,
          23.1,
          10.68,
          6.99,
          10.75,
          10.17,
          10.17,
          10,
          13.49,
          10.2,
          10.2,
          10.85,
          8.14,
          19.01,
          12.24,
          27.55,
          5.18,
          97.5,
          4.95
         ],
         "yaxis": "y"
        },
        {
         "hovertemplate": "<b>OLS trendline</b><br>Amazon Price = 0.82978 * List Price + -2.40696<br>R<sup>2</sup>=0.903124<br><br>List Price=%{x}<br>Amazon Price=%{y} <b>(trend)</b><extra></extra>",
         "legendgroup": "",
         "marker": {
          "color": "#636efa",
          "symbol": "circle"
         },
         "mode": "lines",
         "name": "",
         "showlegend": false,
         "type": "scatter",
         "x": [
          1.5,
          2,
          3.95,
          4.99,
          4.99,
          5.95,
          5.99,
          5.99,
          5.99,
          6.69,
          6.95,
          6.95,
          6.95,
          6.99,
          6.99,
          6.99,
          6.99,
          6.99,
          6.99,
          6.99,
          6.99,
          7.5,
          7.75,
          7.77,
          7.95,
          7.95,
          7.95,
          7.95,
          7.99,
          7.99,
          7.99,
          8,
          8.42,
          8.95,
          8.95,
          8.95,
          8.99,
          8.99,
          8.99,
          8.99,
          8.99,
          8.99,
          9.95,
          9.99,
          9.99,
          9.99,
          9.99,
          9.99,
          9.99,
          9.99,
          9.99,
          10.65,
          10.95,
          10.99,
          11,
          11,
          11.5,
          11.94,
          11.99,
          11.99,
          12,
          12,
          12,
          12,
          12,
          12.14,
          12.6,
          12.95,
          12.95,
          12.95,
          12.99,
          12.99,
          13,
          13,
          13,
          13,
          13,
          13.07,
          13.29,
          13.83,
          13.95,
          13.95,
          13.95,
          13.95,
          13.95,
          13.95,
          13.99,
          13.99,
          13.99,
          13.99,
          13.99,
          14,
          14,
          14,
          14,
          14,
          14,
          14,
          14,
          14,
          14,
          14,
          14,
          14,
          14.1,
          14.54,
          14.95,
          14.95,
          14.95,
          14.95,
          14.95,
          14.95,
          14.95,
          14.95,
          14.95,
          14.95,
          14.95,
          14.95,
          14.95,
          14.95,
          14.95,
          14.95,
          14.95,
          14.95,
          14.95,
          14.95,
          14.99,
          14.99,
          14.99,
          14.99,
          14.99,
          14.99,
          14.99,
          15,
          15,
          15,
          15,
          15,
          15,
          15,
          15,
          15,
          15,
          15,
          15,
          15,
          15,
          15,
          15,
          15,
          15,
          15,
          15,
          15,
          15,
          15,
          15,
          15,
          15,
          15,
          15,
          15,
          15,
          15,
          15,
          15,
          15,
          15,
          15,
          15.44,
          15.95,
          15.95,
          15.95,
          15.95,
          15.95,
          15.95,
          15.95,
          15.95,
          15.95,
          15.95,
          15.95,
          15.95,
          15.99,
          15.99,
          15.99,
          15.99,
          16,
          16,
          16,
          16,
          16,
          16,
          16,
          16,
          16,
          16,
          16,
          16,
          16,
          16,
          16,
          16,
          16,
          16,
          16,
          16,
          16,
          16.95,
          16.95,
          16.99,
          16.99,
          16.99,
          16.99,
          16.99,
          16.99,
          17,
          17,
          17,
          17,
          17,
          17,
          17,
          17.95,
          17.99,
          17.99,
          17.99,
          17.99,
          17.99,
          17.99,
          17.99,
          17.99,
          17.99,
          17.99,
          18,
          18,
          18,
          18,
          18.95,
          18.99,
          18.99,
          18.99,
          19.73,
          19.95,
          19.95,
          19.99,
          20,
          20,
          20,
          20,
          20,
          20,
          20,
          20,
          20,
          21,
          21.1,
          21.99,
          22,
          22,
          22,
          22.99,
          24,
          24,
          24,
          24.95,
          24.95,
          24.95,
          24.99,
          24.99,
          24.99,
          25,
          25,
          25,
          25,
          25,
          25.05,
          25.95,
          26,
          26,
          26,
          26,
          26,
          26.95,
          26.95,
          26.95,
          26.95,
          26.99,
          26.99,
          26.99,
          26.99,
          27,
          27.55,
          27.95,
          27.99,
          27.99,
          28,
          28,
          28.95,
          29.5,
          30,
          30,
          30,
          30,
          30.5,
          32.95,
          34.8,
          35,
          35,
          35.75,
          35.75,
          35.95,
          37.5,
          39.95,
          39.95,
          48.2,
          48.2,
          53.95,
          70.8,
          75,
          86.95,
          97.5,
          98.95,
          114.95,
          139.95
         ],
         "xaxis": "x",
         "y": [
          -1.1622888099960127,
          -0.7473986456220243,
          0.8706729954365304,
          1.7336445373344262,
          1.7336445373344262,
          2.5302336529324845,
          2.563424866082403,
          2.563424866082403,
          2.563424866082403,
          3.1442710962059874,
          3.3600139816804613,
          3.3600139816804613,
          3.3600139816804613,
          3.39320519483038,
          3.39320519483038,
          3.39320519483038,
          3.39320519483038,
          3.39320519483038,
          3.39320519483038,
          3.39320519483038,
          3.39320519483038,
          3.8163931624918486,
          4.023838244678842,
          4.040433851253802,
          4.189794310428438,
          4.189794310428438,
          4.189794310428438,
          4.189794310428438,
          4.222985523578357,
          4.222985523578357,
          4.222985523578357,
          4.231283326865837,
          4.579791064939986,
          5.0195746391764136,
          5.0195746391764136,
          5.0195746391764136,
          5.052765852326333,
          5.052765852326333,
          5.052765852326333,
          5.052765852326333,
          5.052765852326333,
          5.052765852326333,
          5.849354967924391,
          5.882546181074311,
          5.882546181074311,
          5.882546181074311,
          5.882546181074311,
          5.882546181074311,
          5.882546181074311,
          5.882546181074311,
          5.882546181074311,
          6.4302011980479765,
          6.679135296672367,
          6.712326509822288,
          6.720624313109768,
          6.720624313109768,
          7.135514477483756,
          7.500617822132865,
          7.542106838570264,
          7.542106838570264,
          7.550404641857744,
          7.550404641857744,
          7.550404641857744,
          7.550404641857744,
          7.550404641857744,
          7.6665738878824605,
          8.04827283910653,
          8.33869595416832,
          8.33869595416832,
          8.33869595416832,
          8.371887167318242,
          8.371887167318242,
          8.38018497060572,
          8.38018497060572,
          8.38018497060572,
          8.38018497060572,
          8.38018497060572,
          8.43826959361808,
          8.620821265942634,
          9.068902643466542,
          9.168476282916298,
          9.168476282916298,
          9.168476282916298,
          9.168476282916298,
          9.168476282916298,
          9.168476282916298,
          9.201667496066218,
          9.201667496066218,
          9.201667496066218,
          9.201667496066218,
          9.201667496066218,
          9.209965299353698,
          9.209965299353698,
          9.209965299353698,
          9.209965299353698,
          9.209965299353698,
          9.209965299353698,
          9.209965299353698,
          9.209965299353698,
          9.209965299353698,
          9.209965299353698,
          9.209965299353698,
          9.209965299353698,
          9.209965299353698,
          9.292943332228495,
          9.658046676877605,
          9.998256611664274,
          9.998256611664274,
          9.998256611664274,
          9.998256611664274,
          9.998256611664274,
          9.998256611664274,
          9.998256611664274,
          9.998256611664274,
          9.998256611664274,
          9.998256611664274,
          9.998256611664274,
          9.998256611664274,
          9.998256611664274,
          9.998256611664274,
          9.998256611664274,
          9.998256611664274,
          9.998256611664274,
          9.998256611664274,
          9.998256611664274,
          9.998256611664274,
          10.031447824814196,
          10.031447824814196,
          10.031447824814196,
          10.031447824814196,
          10.031447824814196,
          10.031447824814196,
          10.031447824814196,
          10.039745628101675,
          10.039745628101675,
          10.039745628101675,
          10.039745628101675,
          10.039745628101675,
          10.039745628101675,
          10.039745628101675,
          10.039745628101675,
          10.039745628101675,
          10.039745628101675,
          10.039745628101675,
          10.039745628101675,
          10.039745628101675,
          10.039745628101675,
          10.039745628101675,
          10.039745628101675,
          10.039745628101675,
          10.039745628101675,
          10.039745628101675,
          10.039745628101675,
          10.039745628101675,
          10.039745628101675,
          10.039745628101675,
          10.039745628101675,
          10.039745628101675,
          10.039745628101675,
          10.039745628101675,
          10.039745628101675,
          10.039745628101675,
          10.039745628101675,
          10.039745628101675,
          10.039745628101675,
          10.039745628101675,
          10.039745628101675,
          10.039745628101675,
          10.039745628101675,
          10.404848972750784,
          10.828036940412252,
          10.828036940412252,
          10.828036940412252,
          10.828036940412252,
          10.828036940412252,
          10.828036940412252,
          10.828036940412252,
          10.828036940412252,
          10.828036940412252,
          10.828036940412252,
          10.828036940412252,
          10.828036940412252,
          10.861228153562172,
          10.861228153562172,
          10.861228153562172,
          10.861228153562172,
          10.869525956849651,
          10.869525956849651,
          10.869525956849651,
          10.869525956849651,
          10.869525956849651,
          10.869525956849651,
          10.869525956849651,
          10.869525956849651,
          10.869525956849651,
          10.869525956849651,
          10.869525956849651,
          10.869525956849651,
          10.869525956849651,
          10.869525956849651,
          10.869525956849651,
          10.869525956849651,
          10.869525956849651,
          10.869525956849651,
          10.869525956849651,
          10.869525956849651,
          10.869525956849651,
          11.657817269160228,
          11.657817269160228,
          11.691008482310147,
          11.691008482310147,
          11.691008482310147,
          11.691008482310147,
          11.691008482310147,
          11.691008482310147,
          11.699306285597627,
          11.699306285597627,
          11.699306285597627,
          11.699306285597627,
          11.699306285597627,
          11.699306285597627,
          11.699306285597627,
          12.487597597908206,
          12.520788811058123,
          12.520788811058123,
          12.520788811058123,
          12.520788811058123,
          12.520788811058123,
          12.520788811058123,
          12.520788811058123,
          12.520788811058123,
          12.520788811058123,
          12.520788811058123,
          12.529086614345605,
          12.529086614345605,
          12.529086614345605,
          12.529086614345605,
          13.317377926656182,
          13.350569139806101,
          13.350569139806101,
          13.350569139806101,
          13.964606583079606,
          14.14715825540416,
          14.14715825540416,
          14.180349468554079,
          14.188647271841559,
          14.188647271841559,
          14.188647271841559,
          14.188647271841559,
          14.188647271841559,
          14.188647271841559,
          14.188647271841559,
          14.188647271841559,
          14.188647271841559,
          15.018427600589535,
          15.101405633464333,
          15.83991012605003,
          15.848207929337514,
          15.848207929337514,
          15.848207929337514,
          16.669690454798005,
          17.507768586833464,
          17.507768586833464,
          17.507768586833464,
          18.29605989914404,
          18.29605989914404,
          18.29605989914404,
          18.32925111229396,
          18.32925111229396,
          18.32925111229396,
          18.33754891558144,
          18.33754891558144,
          18.33754891558144,
          18.33754891558144,
          18.33754891558144,
          18.37903793201884,
          19.125840227892017,
          19.167329244329416,
          19.167329244329416,
          19.167329244329416,
          19.167329244329416,
          19.167329244329416,
          19.955620556639996,
          19.955620556639996,
          19.955620556639996,
          19.955620556639996,
          19.988811769789912,
          19.988811769789912,
          19.988811769789912,
          19.988811769789912,
          19.997109573077395,
          20.45348875388878,
          20.785400885387972,
          20.81859209853789,
          20.81859209853789,
          20.82688990182537,
          20.82688990182537,
          21.615181214135948,
          22.071560394947337,
          22.486450559321327,
          22.486450559321327,
          22.486450559321327,
          22.486450559321327,
          22.901340723695313,
          24.93430252912786,
          26.469396137311612,
          26.63535220306121,
          26.63535220306121,
          27.257687449622193,
          27.257687449622193,
          27.42364351537179,
          28.70980302493115,
          30.742764830363697,
          30.742764830363697,
          37.588452542534505,
          37.588452542534505,
          42.359689432835374,
          56.341487972238774,
          59.82656535298028,
          69.74244028151861,
          78.49662274980976,
          79.69980422649434,
          92.97628948646197,
          113.72079770516137
         ],
         "yaxis": "y"
        }
       ],
       "layout": {
        "legend": {
         "tracegroupgap": 0
        },
        "margin": {
         "t": 60
        },
        "template": {
         "data": {
          "bar": [
           {
            "error_x": {
             "color": "#2a3f5f"
            },
            "error_y": {
             "color": "#2a3f5f"
            },
            "marker": {
             "line": {
              "color": "#E5ECF6",
              "width": 0.5
             },
             "pattern": {
              "fillmode": "overlay",
              "size": 10,
              "solidity": 0.2
             }
            },
            "type": "bar"
           }
          ],
          "barpolar": [
           {
            "marker": {
             "line": {
              "color": "#E5ECF6",
              "width": 0.5
             },
             "pattern": {
              "fillmode": "overlay",
              "size": 10,
              "solidity": 0.2
             }
            },
            "type": "barpolar"
           }
          ],
          "carpet": [
           {
            "aaxis": {
             "endlinecolor": "#2a3f5f",
             "gridcolor": "white",
             "linecolor": "white",
             "minorgridcolor": "white",
             "startlinecolor": "#2a3f5f"
            },
            "baxis": {
             "endlinecolor": "#2a3f5f",
             "gridcolor": "white",
             "linecolor": "white",
             "minorgridcolor": "white",
             "startlinecolor": "#2a3f5f"
            },
            "type": "carpet"
           }
          ],
          "choropleth": [
           {
            "colorbar": {
             "outlinewidth": 0,
             "ticks": ""
            },
            "type": "choropleth"
           }
          ],
          "contour": [
           {
            "colorbar": {
             "outlinewidth": 0,
             "ticks": ""
            },
            "colorscale": [
             [
              0,
              "#0d0887"
             ],
             [
              0.1111111111111111,
              "#46039f"
             ],
             [
              0.2222222222222222,
              "#7201a8"
             ],
             [
              0.3333333333333333,
              "#9c179e"
             ],
             [
              0.4444444444444444,
              "#bd3786"
             ],
             [
              0.5555555555555556,
              "#d8576b"
             ],
             [
              0.6666666666666666,
              "#ed7953"
             ],
             [
              0.7777777777777778,
              "#fb9f3a"
             ],
             [
              0.8888888888888888,
              "#fdca26"
             ],
             [
              1,
              "#f0f921"
             ]
            ],
            "type": "contour"
           }
          ],
          "contourcarpet": [
           {
            "colorbar": {
             "outlinewidth": 0,
             "ticks": ""
            },
            "type": "contourcarpet"
           }
          ],
          "heatmap": [
           {
            "colorbar": {
             "outlinewidth": 0,
             "ticks": ""
            },
            "colorscale": [
             [
              0,
              "#0d0887"
             ],
             [
              0.1111111111111111,
              "#46039f"
             ],
             [
              0.2222222222222222,
              "#7201a8"
             ],
             [
              0.3333333333333333,
              "#9c179e"
             ],
             [
              0.4444444444444444,
              "#bd3786"
             ],
             [
              0.5555555555555556,
              "#d8576b"
             ],
             [
              0.6666666666666666,
              "#ed7953"
             ],
             [
              0.7777777777777778,
              "#fb9f3a"
             ],
             [
              0.8888888888888888,
              "#fdca26"
             ],
             [
              1,
              "#f0f921"
             ]
            ],
            "type": "heatmap"
           }
          ],
          "heatmapgl": [
           {
            "colorbar": {
             "outlinewidth": 0,
             "ticks": ""
            },
            "colorscale": [
             [
              0,
              "#0d0887"
             ],
             [
              0.1111111111111111,
              "#46039f"
             ],
             [
              0.2222222222222222,
              "#7201a8"
             ],
             [
              0.3333333333333333,
              "#9c179e"
             ],
             [
              0.4444444444444444,
              "#bd3786"
             ],
             [
              0.5555555555555556,
              "#d8576b"
             ],
             [
              0.6666666666666666,
              "#ed7953"
             ],
             [
              0.7777777777777778,
              "#fb9f3a"
             ],
             [
              0.8888888888888888,
              "#fdca26"
             ],
             [
              1,
              "#f0f921"
             ]
            ],
            "type": "heatmapgl"
           }
          ],
          "histogram": [
           {
            "marker": {
             "pattern": {
              "fillmode": "overlay",
              "size": 10,
              "solidity": 0.2
             }
            },
            "type": "histogram"
           }
          ],
          "histogram2d": [
           {
            "colorbar": {
             "outlinewidth": 0,
             "ticks": ""
            },
            "colorscale": [
             [
              0,
              "#0d0887"
             ],
             [
              0.1111111111111111,
              "#46039f"
             ],
             [
              0.2222222222222222,
              "#7201a8"
             ],
             [
              0.3333333333333333,
              "#9c179e"
             ],
             [
              0.4444444444444444,
              "#bd3786"
             ],
             [
              0.5555555555555556,
              "#d8576b"
             ],
             [
              0.6666666666666666,
              "#ed7953"
             ],
             [
              0.7777777777777778,
              "#fb9f3a"
             ],
             [
              0.8888888888888888,
              "#fdca26"
             ],
             [
              1,
              "#f0f921"
             ]
            ],
            "type": "histogram2d"
           }
          ],
          "histogram2dcontour": [
           {
            "colorbar": {
             "outlinewidth": 0,
             "ticks": ""
            },
            "colorscale": [
             [
              0,
              "#0d0887"
             ],
             [
              0.1111111111111111,
              "#46039f"
             ],
             [
              0.2222222222222222,
              "#7201a8"
             ],
             [
              0.3333333333333333,
              "#9c179e"
             ],
             [
              0.4444444444444444,
              "#bd3786"
             ],
             [
              0.5555555555555556,
              "#d8576b"
             ],
             [
              0.6666666666666666,
              "#ed7953"
             ],
             [
              0.7777777777777778,
              "#fb9f3a"
             ],
             [
              0.8888888888888888,
              "#fdca26"
             ],
             [
              1,
              "#f0f921"
             ]
            ],
            "type": "histogram2dcontour"
           }
          ],
          "mesh3d": [
           {
            "colorbar": {
             "outlinewidth": 0,
             "ticks": ""
            },
            "type": "mesh3d"
           }
          ],
          "parcoords": [
           {
            "line": {
             "colorbar": {
              "outlinewidth": 0,
              "ticks": ""
             }
            },
            "type": "parcoords"
           }
          ],
          "pie": [
           {
            "automargin": true,
            "type": "pie"
           }
          ],
          "scatter": [
           {
            "fillpattern": {
             "fillmode": "overlay",
             "size": 10,
             "solidity": 0.2
            },
            "type": "scatter"
           }
          ],
          "scatter3d": [
           {
            "line": {
             "colorbar": {
              "outlinewidth": 0,
              "ticks": ""
             }
            },
            "marker": {
             "colorbar": {
              "outlinewidth": 0,
              "ticks": ""
             }
            },
            "type": "scatter3d"
           }
          ],
          "scattercarpet": [
           {
            "marker": {
             "colorbar": {
              "outlinewidth": 0,
              "ticks": ""
             }
            },
            "type": "scattercarpet"
           }
          ],
          "scattergeo": [
           {
            "marker": {
             "colorbar": {
              "outlinewidth": 0,
              "ticks": ""
             }
            },
            "type": "scattergeo"
           }
          ],
          "scattergl": [
           {
            "marker": {
             "colorbar": {
              "outlinewidth": 0,
              "ticks": ""
             }
            },
            "type": "scattergl"
           }
          ],
          "scattermapbox": [
           {
            "marker": {
             "colorbar": {
              "outlinewidth": 0,
              "ticks": ""
             }
            },
            "type": "scattermapbox"
           }
          ],
          "scatterpolar": [
           {
            "marker": {
             "colorbar": {
              "outlinewidth": 0,
              "ticks": ""
             }
            },
            "type": "scatterpolar"
           }
          ],
          "scatterpolargl": [
           {
            "marker": {
             "colorbar": {
              "outlinewidth": 0,
              "ticks": ""
             }
            },
            "type": "scatterpolargl"
           }
          ],
          "scatterternary": [
           {
            "marker": {
             "colorbar": {
              "outlinewidth": 0,
              "ticks": ""
             }
            },
            "type": "scatterternary"
           }
          ],
          "surface": [
           {
            "colorbar": {
             "outlinewidth": 0,
             "ticks": ""
            },
            "colorscale": [
             [
              0,
              "#0d0887"
             ],
             [
              0.1111111111111111,
              "#46039f"
             ],
             [
              0.2222222222222222,
              "#7201a8"
             ],
             [
              0.3333333333333333,
              "#9c179e"
             ],
             [
              0.4444444444444444,
              "#bd3786"
             ],
             [
              0.5555555555555556,
              "#d8576b"
             ],
             [
              0.6666666666666666,
              "#ed7953"
             ],
             [
              0.7777777777777778,
              "#fb9f3a"
             ],
             [
              0.8888888888888888,
              "#fdca26"
             ],
             [
              1,
              "#f0f921"
             ]
            ],
            "type": "surface"
           }
          ],
          "table": [
           {
            "cells": {
             "fill": {
              "color": "#EBF0F8"
             },
             "line": {
              "color": "white"
             }
            },
            "header": {
             "fill": {
              "color": "#C8D4E3"
             },
             "line": {
              "color": "white"
             }
            },
            "type": "table"
           }
          ]
         },
         "layout": {
          "annotationdefaults": {
           "arrowcolor": "#2a3f5f",
           "arrowhead": 0,
           "arrowwidth": 1
          },
          "autotypenumbers": "strict",
          "coloraxis": {
           "colorbar": {
            "outlinewidth": 0,
            "ticks": ""
           }
          },
          "colorscale": {
           "diverging": [
            [
             0,
             "#8e0152"
            ],
            [
             0.1,
             "#c51b7d"
            ],
            [
             0.2,
             "#de77ae"
            ],
            [
             0.3,
             "#f1b6da"
            ],
            [
             0.4,
             "#fde0ef"
            ],
            [
             0.5,
             "#f7f7f7"
            ],
            [
             0.6,
             "#e6f5d0"
            ],
            [
             0.7,
             "#b8e186"
            ],
            [
             0.8,
             "#7fbc41"
            ],
            [
             0.9,
             "#4d9221"
            ],
            [
             1,
             "#276419"
            ]
           ],
           "sequential": [
            [
             0,
             "#0d0887"
            ],
            [
             0.1111111111111111,
             "#46039f"
            ],
            [
             0.2222222222222222,
             "#7201a8"
            ],
            [
             0.3333333333333333,
             "#9c179e"
            ],
            [
             0.4444444444444444,
             "#bd3786"
            ],
            [
             0.5555555555555556,
             "#d8576b"
            ],
            [
             0.6666666666666666,
             "#ed7953"
            ],
            [
             0.7777777777777778,
             "#fb9f3a"
            ],
            [
             0.8888888888888888,
             "#fdca26"
            ],
            [
             1,
             "#f0f921"
            ]
           ],
           "sequentialminus": [
            [
             0,
             "#0d0887"
            ],
            [
             0.1111111111111111,
             "#46039f"
            ],
            [
             0.2222222222222222,
             "#7201a8"
            ],
            [
             0.3333333333333333,
             "#9c179e"
            ],
            [
             0.4444444444444444,
             "#bd3786"
            ],
            [
             0.5555555555555556,
             "#d8576b"
            ],
            [
             0.6666666666666666,
             "#ed7953"
            ],
            [
             0.7777777777777778,
             "#fb9f3a"
            ],
            [
             0.8888888888888888,
             "#fdca26"
            ],
            [
             1,
             "#f0f921"
            ]
           ]
          },
          "colorway": [
           "#636efa",
           "#EF553B",
           "#00cc96",
           "#ab63fa",
           "#FFA15A",
           "#19d3f3",
           "#FF6692",
           "#B6E880",
           "#FF97FF",
           "#FECB52"
          ],
          "font": {
           "color": "#2a3f5f"
          },
          "geo": {
           "bgcolor": "white",
           "lakecolor": "white",
           "landcolor": "#E5ECF6",
           "showlakes": true,
           "showland": true,
           "subunitcolor": "white"
          },
          "hoverlabel": {
           "align": "left"
          },
          "hovermode": "closest",
          "mapbox": {
           "style": "light"
          },
          "paper_bgcolor": "white",
          "plot_bgcolor": "#E5ECF6",
          "polar": {
           "angularaxis": {
            "gridcolor": "white",
            "linecolor": "white",
            "ticks": ""
           },
           "bgcolor": "#E5ECF6",
           "radialaxis": {
            "gridcolor": "white",
            "linecolor": "white",
            "ticks": ""
           }
          },
          "scene": {
           "xaxis": {
            "backgroundcolor": "#E5ECF6",
            "gridcolor": "white",
            "gridwidth": 2,
            "linecolor": "white",
            "showbackground": true,
            "ticks": "",
            "zerolinecolor": "white"
           },
           "yaxis": {
            "backgroundcolor": "#E5ECF6",
            "gridcolor": "white",
            "gridwidth": 2,
            "linecolor": "white",
            "showbackground": true,
            "ticks": "",
            "zerolinecolor": "white"
           },
           "zaxis": {
            "backgroundcolor": "#E5ECF6",
            "gridcolor": "white",
            "gridwidth": 2,
            "linecolor": "white",
            "showbackground": true,
            "ticks": "",
            "zerolinecolor": "white"
           }
          },
          "shapedefaults": {
           "line": {
            "color": "#2a3f5f"
           }
          },
          "ternary": {
           "aaxis": {
            "gridcolor": "white",
            "linecolor": "white",
            "ticks": ""
           },
           "baxis": {
            "gridcolor": "white",
            "linecolor": "white",
            "ticks": ""
           },
           "bgcolor": "#E5ECF6",
           "caxis": {
            "gridcolor": "white",
            "linecolor": "white",
            "ticks": ""
           }
          },
          "title": {
           "x": 0.05
          },
          "xaxis": {
           "automargin": true,
           "gridcolor": "white",
           "linecolor": "white",
           "ticks": "",
           "title": {
            "standoff": 15
           },
           "zerolinecolor": "white",
           "zerolinewidth": 2
          },
          "yaxis": {
           "automargin": true,
           "gridcolor": "white",
           "linecolor": "white",
           "ticks": "",
           "title": {
            "standoff": 15
           },
           "zerolinecolor": "white",
           "zerolinewidth": 2
          }
         }
        },
        "xaxis": {
         "anchor": "y",
         "domain": [
          0,
          1
         ],
         "title": {
          "text": "List Price"
         }
        },
        "yaxis": {
         "anchor": "x",
         "domain": [
          0,
          1
         ],
         "title": {
          "text": "Amazon Price"
         }
        }
       }
      },
      "text/html": [
       "<div>                            <div id=\"2ea4e5c2-d836-4009-9f70-4f90b8af453d\" class=\"plotly-graph-div\" style=\"height:525px; width:100%;\"></div>            <script type=\"text/javascript\">                require([\"plotly\"], function(Plotly) {                    window.PLOTLYENV=window.PLOTLYENV || {};                                    if (document.getElementById(\"2ea4e5c2-d836-4009-9f70-4f90b8af453d\")) {                    Plotly.newPlot(                        \"2ea4e5c2-d836-4009-9f70-4f90b8af453d\",                        [{\"hovertemplate\":\"List Price=%{x}<br>Amazon Price=%{y}<extra></extra>\",\"legendgroup\":\"\",\"marker\":{\"color\":\"#636efa\",\"symbol\":\"circle\"},\"mode\":\"markers\",\"name\":\"\",\"orientation\":\"v\",\"showlegend\":false,\"x\":[12.95,15.0,1.5,15.99,30.5,28.95,20.0,15.0,35.0,30.0,17.0,17.0,19.95,20.0,39.95,18.99,5.95,15.0,7.5,15.95,13.0,11.94,14.0,14.95,22.99,15.0,18.0,7.95,14.95,14.95,7.95,15.95,20.0,14.0,29.5,11.99,13.07,13.95,15.0,4.99,13.0,13.99,24.95,26.99,14.95,6.69,5.99,13.95,26.95,24.0,16.0,13.99,17.99,15.0,8.99,6.99,14.54,17.99,114.95,48.2,15.95,15.95,18.0,86.95,15.0,17.99,15.0,11.5,26.95,6.99,15.0,16.0,53.95,15.0,6.99,12.0,21.1,13.95,14.99,30.0,7.99,8.0,15.99,26.99,27.99,17.0,6.99,14.95,18.0,16.0,6.99,16.0,8.99,16.0,19.99,18.0,8.99,17.0,14.0,27.95,139.95,24.95,14.95,6.95,26.0,26.0,9.95,27.99,16.99,8.95,14.95,15.95,21.0,14.0,20.0,15.0,14.95,15.95,14.99,14.0,12.95,24.99,15.0,15.0,25.95,25.0,9.99,26.99,17.99,15.0,15.0,25.05,17.99,16.0,14.99,20.0,7.99,17.99,14.0,13.29,16.0,13.83,12.0,14.95,15.0,16.99,15.0,6.95,14.0,15.0,20.0,16.0,15.0,16.0,15.0,15.0,16.0,8.95,5.99,16.0,15.0,14.0,35.95,14.99,7.95,16.99,98.95,35.75,19.73,37.5,14.95,13.0,15.95,26.0,5.99,14.99,16.0,9.99,15.95,14.99,14.0,13.95,15.0,16.0,75.0,32.95,26.95,15.99,15.0,24.0,6.95,16.0,16.0,26.95,26.99,7.99,17.95,35.75,6.99,9.99,6.99,15.0,12.0,9.99,11.99,15.0,24.0,16.0,14.99,16.0,12.14,7.75,14.1,4.99,13.95,22.0,12.99,13.99,8.95,8.99,7.95,15.0,17.0,13.0,12.99,70.8,48.2,9.99,30.0,15.0,14.0,16.99,22.0,8.42,9.99,15.0,14.95,18.99,10.95,16.95,28.0,25.0,15.0,15.0,15.0,17.0,13.95,16.0,11.0,8.99,17.99,16.0,15.0,12.0,17.99,21.99,15.95,24.95,39.95,16.0,10.65,13.99,19.95,14.0,15.0,16.95,9.99,14.95,11.0,17.0,14.95,12.0,9.99,25.0,14.0,17.99,30.0,16.99,34.8,15.95,7.77,3.95,2.0,8.99,18.95,20.0,20.0,15.44,22.0,14.95,17.99,16.0,14.95,25.0,14.0,14.95,26.0,24.99,20.0,13.0,13.99,15.99,12.6,10.99,24.99,28.0,35.0,15.95,6.99,14.95,14.95,14.95,25.0,27.0,15.0,15.0,15.95,14.95,26.0,18.99,27.55,12.95,97.5,16.99],\"xaxis\":\"x\",\"y\":[5.18,10.2,1.5,10.87,16.77,16.44,13.46,8.44,18.81,19.8,8.97,10.46,13.57,14.6,37.95,11.58,3.99,10.2,5.87,10.85,10.4,11.94,11.2,8.96,15.63,10.2,12.11,7.95,14.95,10.17,7.95,8.39,13.6,8.75,26.61,9.59,12.52,11.16,10.22,4.99,10.4,10.54,15.82,15.6,10.17,6.99,5.99,11.16,20.48,16.32,9.07,8.38,8.97,10.2,8.99,6.99,9.99,11.36,83.04,44.32,7.97,7.97,12.24,54.61,10.2,11.46,10.2,11.5,14.99,6.99,10.2,10.88,39.92,10.2,6.99,9.07,16.46,7.83,10.19,17.43,7.99,8.0,9.95,14.61,11.2,10.46,6.99,8.97,12.24,9.2,6.99,10.88,8.99,9.09,10.75,12.24,8.99,11.55,11.2,19.99,139.95,16.47,5.98,6.95,13.0,14.44,5.13,13.98,11.55,8.95,8.6,10.22,13.43,11.08,13.6,10.2,10.17,8.39,10.19,11.2,8.36,15.2,8.68,10.33,25.95,16.5,9.99,15.44,10.58,8.84,8.15,22.81,11.24,8.59,10.19,12.17,7.99,7.98,11.2,13.29,10.77,13.83,9.6,10.17,7.9,11.55,10.2,6.95,8.75,10.2,13.6,10.88,10.2,10.88,10.09,8.24,8.61,8.95,5.99,8.87,9.98,11.08,35.95,10.98,7.95,10.79,98.95,25.84,15.68,25.0,5.98,9.64,10.85,16.91,5.99,8.11,12.47,9.99,10.85,9.57,11.08,8.07,6.0,9.75,39.45,21.75,17.73,9.58,7.89,16.32,6.95,10.22,10.88,17.79,15.44,7.99,12.08,21.68,6.99,9.99,6.99,10.2,7.51,9.99,7.7,10.2,15.48,10.77,8.43,6.4,9.0,7.75,11.99,4.99,8.5,22.0,7.31,10.68,8.95,8.99,7.95,10.09,11.44,9.28,9.66,55.75,39.72,9.99,20.0,8.6,8.04,10.68,14.96,8.42,9.99,8.52,8.26,11.16,7.82,9.16,16.09,15.62,8.84,8.92,8.05,11.56,7.7,8.8,6.4,4.94,10.21,8.0,8.36,9.22,9.99,12.5,8.95,22.51,23.79,9.52,13.13,7.79,10.86,11.2,10.2,11.53,9.99,10.17,8.8,10.47,7.9,9.09,9.99,14.46,8.22,8.98,23.94,11.28,24.9,9.92,7.77,3.95,0.77,8.99,15.15,13.6,13.6,8.45,14.96,10.17,10.88,10.11,8.28,14.7,14.0,5.98,13.7,17.99,12.17,10.29,11.19,8.5,12.6,6.9,14.69,16.08,23.1,10.68,6.99,10.75,10.17,10.17,10.0,13.49,10.2,10.2,10.85,8.14,19.01,12.24,27.55,5.18,97.5,4.95],\"yaxis\":\"y\",\"type\":\"scatter\"},{\"hovertemplate\":\"<b>OLS trendline</b><br>Amazon Price = 0.82978 * List Price + -2.40696<br>R<sup>2</sup>=0.903124<br><br>List Price=%{x}<br>Amazon Price=%{y} <b>(trend)</b><extra></extra>\",\"legendgroup\":\"\",\"marker\":{\"color\":\"#636efa\",\"symbol\":\"circle\"},\"mode\":\"lines\",\"name\":\"\",\"showlegend\":false,\"x\":[1.5,2.0,3.95,4.99,4.99,5.95,5.99,5.99,5.99,6.69,6.95,6.95,6.95,6.99,6.99,6.99,6.99,6.99,6.99,6.99,6.99,7.5,7.75,7.77,7.95,7.95,7.95,7.95,7.99,7.99,7.99,8.0,8.42,8.95,8.95,8.95,8.99,8.99,8.99,8.99,8.99,8.99,9.95,9.99,9.99,9.99,9.99,9.99,9.99,9.99,9.99,10.65,10.95,10.99,11.0,11.0,11.5,11.94,11.99,11.99,12.0,12.0,12.0,12.0,12.0,12.14,12.6,12.95,12.95,12.95,12.99,12.99,13.0,13.0,13.0,13.0,13.0,13.07,13.29,13.83,13.95,13.95,13.95,13.95,13.95,13.95,13.99,13.99,13.99,13.99,13.99,14.0,14.0,14.0,14.0,14.0,14.0,14.0,14.0,14.0,14.0,14.0,14.0,14.0,14.1,14.54,14.95,14.95,14.95,14.95,14.95,14.95,14.95,14.95,14.95,14.95,14.95,14.95,14.95,14.95,14.95,14.95,14.95,14.95,14.95,14.95,14.99,14.99,14.99,14.99,14.99,14.99,14.99,15.0,15.0,15.0,15.0,15.0,15.0,15.0,15.0,15.0,15.0,15.0,15.0,15.0,15.0,15.0,15.0,15.0,15.0,15.0,15.0,15.0,15.0,15.0,15.0,15.0,15.0,15.0,15.0,15.0,15.0,15.0,15.0,15.0,15.0,15.0,15.0,15.44,15.95,15.95,15.95,15.95,15.95,15.95,15.95,15.95,15.95,15.95,15.95,15.95,15.99,15.99,15.99,15.99,16.0,16.0,16.0,16.0,16.0,16.0,16.0,16.0,16.0,16.0,16.0,16.0,16.0,16.0,16.0,16.0,16.0,16.0,16.0,16.0,16.0,16.95,16.95,16.99,16.99,16.99,16.99,16.99,16.99,17.0,17.0,17.0,17.0,17.0,17.0,17.0,17.95,17.99,17.99,17.99,17.99,17.99,17.99,17.99,17.99,17.99,17.99,18.0,18.0,18.0,18.0,18.95,18.99,18.99,18.99,19.73,19.95,19.95,19.99,20.0,20.0,20.0,20.0,20.0,20.0,20.0,20.0,20.0,21.0,21.1,21.99,22.0,22.0,22.0,22.99,24.0,24.0,24.0,24.95,24.95,24.95,24.99,24.99,24.99,25.0,25.0,25.0,25.0,25.0,25.05,25.95,26.0,26.0,26.0,26.0,26.0,26.95,26.95,26.95,26.95,26.99,26.99,26.99,26.99,27.0,27.55,27.95,27.99,27.99,28.0,28.0,28.95,29.5,30.0,30.0,30.0,30.0,30.5,32.95,34.8,35.0,35.0,35.75,35.75,35.95,37.5,39.95,39.95,48.2,48.2,53.95,70.8,75.0,86.95,97.5,98.95,114.95,139.95],\"xaxis\":\"x\",\"y\":[-1.1622888099960127,-0.7473986456220243,0.8706729954365304,1.7336445373344262,1.7336445373344262,2.5302336529324845,2.563424866082403,2.563424866082403,2.563424866082403,3.1442710962059874,3.3600139816804613,3.3600139816804613,3.3600139816804613,3.39320519483038,3.39320519483038,3.39320519483038,3.39320519483038,3.39320519483038,3.39320519483038,3.39320519483038,3.39320519483038,3.8163931624918486,4.023838244678842,4.040433851253802,4.189794310428438,4.189794310428438,4.189794310428438,4.189794310428438,4.222985523578357,4.222985523578357,4.222985523578357,4.231283326865837,4.579791064939986,5.0195746391764136,5.0195746391764136,5.0195746391764136,5.052765852326333,5.052765852326333,5.052765852326333,5.052765852326333,5.052765852326333,5.052765852326333,5.849354967924391,5.882546181074311,5.882546181074311,5.882546181074311,5.882546181074311,5.882546181074311,5.882546181074311,5.882546181074311,5.882546181074311,6.4302011980479765,6.679135296672367,6.712326509822288,6.720624313109768,6.720624313109768,7.135514477483756,7.500617822132865,7.542106838570264,7.542106838570264,7.550404641857744,7.550404641857744,7.550404641857744,7.550404641857744,7.550404641857744,7.6665738878824605,8.04827283910653,8.33869595416832,8.33869595416832,8.33869595416832,8.371887167318242,8.371887167318242,8.38018497060572,8.38018497060572,8.38018497060572,8.38018497060572,8.38018497060572,8.43826959361808,8.620821265942634,9.068902643466542,9.168476282916298,9.168476282916298,9.168476282916298,9.168476282916298,9.168476282916298,9.168476282916298,9.201667496066218,9.201667496066218,9.201667496066218,9.201667496066218,9.201667496066218,9.209965299353698,9.209965299353698,9.209965299353698,9.209965299353698,9.209965299353698,9.209965299353698,9.209965299353698,9.209965299353698,9.209965299353698,9.209965299353698,9.209965299353698,9.209965299353698,9.209965299353698,9.292943332228495,9.658046676877605,9.998256611664274,9.998256611664274,9.998256611664274,9.998256611664274,9.998256611664274,9.998256611664274,9.998256611664274,9.998256611664274,9.998256611664274,9.998256611664274,9.998256611664274,9.998256611664274,9.998256611664274,9.998256611664274,9.998256611664274,9.998256611664274,9.998256611664274,9.998256611664274,9.998256611664274,9.998256611664274,10.031447824814196,10.031447824814196,10.031447824814196,10.031447824814196,10.031447824814196,10.031447824814196,10.031447824814196,10.039745628101675,10.039745628101675,10.039745628101675,10.039745628101675,10.039745628101675,10.039745628101675,10.039745628101675,10.039745628101675,10.039745628101675,10.039745628101675,10.039745628101675,10.039745628101675,10.039745628101675,10.039745628101675,10.039745628101675,10.039745628101675,10.039745628101675,10.039745628101675,10.039745628101675,10.039745628101675,10.039745628101675,10.039745628101675,10.039745628101675,10.039745628101675,10.039745628101675,10.039745628101675,10.039745628101675,10.039745628101675,10.039745628101675,10.039745628101675,10.039745628101675,10.039745628101675,10.039745628101675,10.039745628101675,10.039745628101675,10.039745628101675,10.404848972750784,10.828036940412252,10.828036940412252,10.828036940412252,10.828036940412252,10.828036940412252,10.828036940412252,10.828036940412252,10.828036940412252,10.828036940412252,10.828036940412252,10.828036940412252,10.828036940412252,10.861228153562172,10.861228153562172,10.861228153562172,10.861228153562172,10.869525956849651,10.869525956849651,10.869525956849651,10.869525956849651,10.869525956849651,10.869525956849651,10.869525956849651,10.869525956849651,10.869525956849651,10.869525956849651,10.869525956849651,10.869525956849651,10.869525956849651,10.869525956849651,10.869525956849651,10.869525956849651,10.869525956849651,10.869525956849651,10.869525956849651,10.869525956849651,10.869525956849651,11.657817269160228,11.657817269160228,11.691008482310147,11.691008482310147,11.691008482310147,11.691008482310147,11.691008482310147,11.691008482310147,11.699306285597627,11.699306285597627,11.699306285597627,11.699306285597627,11.699306285597627,11.699306285597627,11.699306285597627,12.487597597908206,12.520788811058123,12.520788811058123,12.520788811058123,12.520788811058123,12.520788811058123,12.520788811058123,12.520788811058123,12.520788811058123,12.520788811058123,12.520788811058123,12.529086614345605,12.529086614345605,12.529086614345605,12.529086614345605,13.317377926656182,13.350569139806101,13.350569139806101,13.350569139806101,13.964606583079606,14.14715825540416,14.14715825540416,14.180349468554079,14.188647271841559,14.188647271841559,14.188647271841559,14.188647271841559,14.188647271841559,14.188647271841559,14.188647271841559,14.188647271841559,14.188647271841559,15.018427600589535,15.101405633464333,15.83991012605003,15.848207929337514,15.848207929337514,15.848207929337514,16.669690454798005,17.507768586833464,17.507768586833464,17.507768586833464,18.29605989914404,18.29605989914404,18.29605989914404,18.32925111229396,18.32925111229396,18.32925111229396,18.33754891558144,18.33754891558144,18.33754891558144,18.33754891558144,18.33754891558144,18.37903793201884,19.125840227892017,19.167329244329416,19.167329244329416,19.167329244329416,19.167329244329416,19.167329244329416,19.955620556639996,19.955620556639996,19.955620556639996,19.955620556639996,19.988811769789912,19.988811769789912,19.988811769789912,19.988811769789912,19.997109573077395,20.45348875388878,20.785400885387972,20.81859209853789,20.81859209853789,20.82688990182537,20.82688990182537,21.615181214135948,22.071560394947337,22.486450559321327,22.486450559321327,22.486450559321327,22.486450559321327,22.901340723695313,24.93430252912786,26.469396137311612,26.63535220306121,26.63535220306121,27.257687449622193,27.257687449622193,27.42364351537179,28.70980302493115,30.742764830363697,30.742764830363697,37.588452542534505,37.588452542534505,42.359689432835374,56.341487972238774,59.82656535298028,69.74244028151861,78.49662274980976,79.69980422649434,92.97628948646197,113.72079770516137],\"yaxis\":\"y\",\"type\":\"scatter\"}],                        {\"template\":{\"data\":{\"histogram2dcontour\":[{\"type\":\"histogram2dcontour\",\"colorbar\":{\"outlinewidth\":0,\"ticks\":\"\"},\"colorscale\":[[0.0,\"#0d0887\"],[0.1111111111111111,\"#46039f\"],[0.2222222222222222,\"#7201a8\"],[0.3333333333333333,\"#9c179e\"],[0.4444444444444444,\"#bd3786\"],[0.5555555555555556,\"#d8576b\"],[0.6666666666666666,\"#ed7953\"],[0.7777777777777778,\"#fb9f3a\"],[0.8888888888888888,\"#fdca26\"],[1.0,\"#f0f921\"]]}],\"choropleth\":[{\"type\":\"choropleth\",\"colorbar\":{\"outlinewidth\":0,\"ticks\":\"\"}}],\"histogram2d\":[{\"type\":\"histogram2d\",\"colorbar\":{\"outlinewidth\":0,\"ticks\":\"\"},\"colorscale\":[[0.0,\"#0d0887\"],[0.1111111111111111,\"#46039f\"],[0.2222222222222222,\"#7201a8\"],[0.3333333333333333,\"#9c179e\"],[0.4444444444444444,\"#bd3786\"],[0.5555555555555556,\"#d8576b\"],[0.6666666666666666,\"#ed7953\"],[0.7777777777777778,\"#fb9f3a\"],[0.8888888888888888,\"#fdca26\"],[1.0,\"#f0f921\"]]}],\"heatmap\":[{\"type\":\"heatmap\",\"colorbar\":{\"outlinewidth\":0,\"ticks\":\"\"},\"colorscale\":[[0.0,\"#0d0887\"],[0.1111111111111111,\"#46039f\"],[0.2222222222222222,\"#7201a8\"],[0.3333333333333333,\"#9c179e\"],[0.4444444444444444,\"#bd3786\"],[0.5555555555555556,\"#d8576b\"],[0.6666666666666666,\"#ed7953\"],[0.7777777777777778,\"#fb9f3a\"],[0.8888888888888888,\"#fdca26\"],[1.0,\"#f0f921\"]]}],\"heatmapgl\":[{\"type\":\"heatmapgl\",\"colorbar\":{\"outlinewidth\":0,\"ticks\":\"\"},\"colorscale\":[[0.0,\"#0d0887\"],[0.1111111111111111,\"#46039f\"],[0.2222222222222222,\"#7201a8\"],[0.3333333333333333,\"#9c179e\"],[0.4444444444444444,\"#bd3786\"],[0.5555555555555556,\"#d8576b\"],[0.6666666666666666,\"#ed7953\"],[0.7777777777777778,\"#fb9f3a\"],[0.8888888888888888,\"#fdca26\"],[1.0,\"#f0f921\"]]}],\"contourcarpet\":[{\"type\":\"contourcarpet\",\"colorbar\":{\"outlinewidth\":0,\"ticks\":\"\"}}],\"contour\":[{\"type\":\"contour\",\"colorbar\":{\"outlinewidth\":0,\"ticks\":\"\"},\"colorscale\":[[0.0,\"#0d0887\"],[0.1111111111111111,\"#46039f\"],[0.2222222222222222,\"#7201a8\"],[0.3333333333333333,\"#9c179e\"],[0.4444444444444444,\"#bd3786\"],[0.5555555555555556,\"#d8576b\"],[0.6666666666666666,\"#ed7953\"],[0.7777777777777778,\"#fb9f3a\"],[0.8888888888888888,\"#fdca26\"],[1.0,\"#f0f921\"]]}],\"surface\":[{\"type\":\"surface\",\"colorbar\":{\"outlinewidth\":0,\"ticks\":\"\"},\"colorscale\":[[0.0,\"#0d0887\"],[0.1111111111111111,\"#46039f\"],[0.2222222222222222,\"#7201a8\"],[0.3333333333333333,\"#9c179e\"],[0.4444444444444444,\"#bd3786\"],[0.5555555555555556,\"#d8576b\"],[0.6666666666666666,\"#ed7953\"],[0.7777777777777778,\"#fb9f3a\"],[0.8888888888888888,\"#fdca26\"],[1.0,\"#f0f921\"]]}],\"mesh3d\":[{\"type\":\"mesh3d\",\"colorbar\":{\"outlinewidth\":0,\"ticks\":\"\"}}],\"scatter\":[{\"fillpattern\":{\"fillmode\":\"overlay\",\"size\":10,\"solidity\":0.2},\"type\":\"scatter\"}],\"parcoords\":[{\"type\":\"parcoords\",\"line\":{\"colorbar\":{\"outlinewidth\":0,\"ticks\":\"\"}}}],\"scatterpolargl\":[{\"type\":\"scatterpolargl\",\"marker\":{\"colorbar\":{\"outlinewidth\":0,\"ticks\":\"\"}}}],\"bar\":[{\"error_x\":{\"color\":\"#2a3f5f\"},\"error_y\":{\"color\":\"#2a3f5f\"},\"marker\":{\"line\":{\"color\":\"#E5ECF6\",\"width\":0.5},\"pattern\":{\"fillmode\":\"overlay\",\"size\":10,\"solidity\":0.2}},\"type\":\"bar\"}],\"scattergeo\":[{\"type\":\"scattergeo\",\"marker\":{\"colorbar\":{\"outlinewidth\":0,\"ticks\":\"\"}}}],\"scatterpolar\":[{\"type\":\"scatterpolar\",\"marker\":{\"colorbar\":{\"outlinewidth\":0,\"ticks\":\"\"}}}],\"histogram\":[{\"marker\":{\"pattern\":{\"fillmode\":\"overlay\",\"size\":10,\"solidity\":0.2}},\"type\":\"histogram\"}],\"scattergl\":[{\"type\":\"scattergl\",\"marker\":{\"colorbar\":{\"outlinewidth\":0,\"ticks\":\"\"}}}],\"scatter3d\":[{\"type\":\"scatter3d\",\"line\":{\"colorbar\":{\"outlinewidth\":0,\"ticks\":\"\"}},\"marker\":{\"colorbar\":{\"outlinewidth\":0,\"ticks\":\"\"}}}],\"scattermapbox\":[{\"type\":\"scattermapbox\",\"marker\":{\"colorbar\":{\"outlinewidth\":0,\"ticks\":\"\"}}}],\"scatterternary\":[{\"type\":\"scatterternary\",\"marker\":{\"colorbar\":{\"outlinewidth\":0,\"ticks\":\"\"}}}],\"scattercarpet\":[{\"type\":\"scattercarpet\",\"marker\":{\"colorbar\":{\"outlinewidth\":0,\"ticks\":\"\"}}}],\"carpet\":[{\"aaxis\":{\"endlinecolor\":\"#2a3f5f\",\"gridcolor\":\"white\",\"linecolor\":\"white\",\"minorgridcolor\":\"white\",\"startlinecolor\":\"#2a3f5f\"},\"baxis\":{\"endlinecolor\":\"#2a3f5f\",\"gridcolor\":\"white\",\"linecolor\":\"white\",\"minorgridcolor\":\"white\",\"startlinecolor\":\"#2a3f5f\"},\"type\":\"carpet\"}],\"table\":[{\"cells\":{\"fill\":{\"color\":\"#EBF0F8\"},\"line\":{\"color\":\"white\"}},\"header\":{\"fill\":{\"color\":\"#C8D4E3\"},\"line\":{\"color\":\"white\"}},\"type\":\"table\"}],\"barpolar\":[{\"marker\":{\"line\":{\"color\":\"#E5ECF6\",\"width\":0.5},\"pattern\":{\"fillmode\":\"overlay\",\"size\":10,\"solidity\":0.2}},\"type\":\"barpolar\"}],\"pie\":[{\"automargin\":true,\"type\":\"pie\"}]},\"layout\":{\"autotypenumbers\":\"strict\",\"colorway\":[\"#636efa\",\"#EF553B\",\"#00cc96\",\"#ab63fa\",\"#FFA15A\",\"#19d3f3\",\"#FF6692\",\"#B6E880\",\"#FF97FF\",\"#FECB52\"],\"font\":{\"color\":\"#2a3f5f\"},\"hovermode\":\"closest\",\"hoverlabel\":{\"align\":\"left\"},\"paper_bgcolor\":\"white\",\"plot_bgcolor\":\"#E5ECF6\",\"polar\":{\"bgcolor\":\"#E5ECF6\",\"angularaxis\":{\"gridcolor\":\"white\",\"linecolor\":\"white\",\"ticks\":\"\"},\"radialaxis\":{\"gridcolor\":\"white\",\"linecolor\":\"white\",\"ticks\":\"\"}},\"ternary\":{\"bgcolor\":\"#E5ECF6\",\"aaxis\":{\"gridcolor\":\"white\",\"linecolor\":\"white\",\"ticks\":\"\"},\"baxis\":{\"gridcolor\":\"white\",\"linecolor\":\"white\",\"ticks\":\"\"},\"caxis\":{\"gridcolor\":\"white\",\"linecolor\":\"white\",\"ticks\":\"\"}},\"coloraxis\":{\"colorbar\":{\"outlinewidth\":0,\"ticks\":\"\"}},\"colorscale\":{\"sequential\":[[0.0,\"#0d0887\"],[0.1111111111111111,\"#46039f\"],[0.2222222222222222,\"#7201a8\"],[0.3333333333333333,\"#9c179e\"],[0.4444444444444444,\"#bd3786\"],[0.5555555555555556,\"#d8576b\"],[0.6666666666666666,\"#ed7953\"],[0.7777777777777778,\"#fb9f3a\"],[0.8888888888888888,\"#fdca26\"],[1.0,\"#f0f921\"]],\"sequentialminus\":[[0.0,\"#0d0887\"],[0.1111111111111111,\"#46039f\"],[0.2222222222222222,\"#7201a8\"],[0.3333333333333333,\"#9c179e\"],[0.4444444444444444,\"#bd3786\"],[0.5555555555555556,\"#d8576b\"],[0.6666666666666666,\"#ed7953\"],[0.7777777777777778,\"#fb9f3a\"],[0.8888888888888888,\"#fdca26\"],[1.0,\"#f0f921\"]],\"diverging\":[[0,\"#8e0152\"],[0.1,\"#c51b7d\"],[0.2,\"#de77ae\"],[0.3,\"#f1b6da\"],[0.4,\"#fde0ef\"],[0.5,\"#f7f7f7\"],[0.6,\"#e6f5d0\"],[0.7,\"#b8e186\"],[0.8,\"#7fbc41\"],[0.9,\"#4d9221\"],[1,\"#276419\"]]},\"xaxis\":{\"gridcolor\":\"white\",\"linecolor\":\"white\",\"ticks\":\"\",\"title\":{\"standoff\":15},\"zerolinecolor\":\"white\",\"automargin\":true,\"zerolinewidth\":2},\"yaxis\":{\"gridcolor\":\"white\",\"linecolor\":\"white\",\"ticks\":\"\",\"title\":{\"standoff\":15},\"zerolinecolor\":\"white\",\"automargin\":true,\"zerolinewidth\":2},\"scene\":{\"xaxis\":{\"backgroundcolor\":\"#E5ECF6\",\"gridcolor\":\"white\",\"linecolor\":\"white\",\"showbackground\":true,\"ticks\":\"\",\"zerolinecolor\":\"white\",\"gridwidth\":2},\"yaxis\":{\"backgroundcolor\":\"#E5ECF6\",\"gridcolor\":\"white\",\"linecolor\":\"white\",\"showbackground\":true,\"ticks\":\"\",\"zerolinecolor\":\"white\",\"gridwidth\":2},\"zaxis\":{\"backgroundcolor\":\"#E5ECF6\",\"gridcolor\":\"white\",\"linecolor\":\"white\",\"showbackground\":true,\"ticks\":\"\",\"zerolinecolor\":\"white\",\"gridwidth\":2}},\"shapedefaults\":{\"line\":{\"color\":\"#2a3f5f\"}},\"annotationdefaults\":{\"arrowcolor\":\"#2a3f5f\",\"arrowhead\":0,\"arrowwidth\":1},\"geo\":{\"bgcolor\":\"white\",\"landcolor\":\"#E5ECF6\",\"subunitcolor\":\"white\",\"showland\":true,\"showlakes\":true,\"lakecolor\":\"white\"},\"title\":{\"x\":0.05},\"mapbox\":{\"style\":\"light\"}}},\"xaxis\":{\"anchor\":\"y\",\"domain\":[0.0,1.0],\"title\":{\"text\":\"List Price\"}},\"yaxis\":{\"anchor\":\"x\",\"domain\":[0.0,1.0],\"title\":{\"text\":\"Amazon Price\"}},\"legend\":{\"tracegroupgap\":0},\"margin\":{\"t\":60}},                        {\"responsive\": true}                    ).then(function(){\n",
       "                            \n",
       "var gd = document.getElementById('2ea4e5c2-d836-4009-9f70-4f90b8af453d');\n",
       "var x = new MutationObserver(function (mutations, observer) {{\n",
       "        var display = window.getComputedStyle(gd).display;\n",
       "        if (!display || display === 'none') {{\n",
       "            console.log([gd, 'removed!']);\n",
       "            Plotly.purge(gd);\n",
       "            observer.disconnect();\n",
       "        }}\n",
       "}});\n",
       "\n",
       "// Listen for the removal of the full notebook cells\n",
       "var notebookContainer = gd.closest('#notebook-container');\n",
       "if (notebookContainer) {{\n",
       "    x.observe(notebookContainer, {childList: true});\n",
       "}}\n",
       "\n",
       "// Listen for the clearing of the current output cell\n",
       "var outputEl = gd.closest('.output');\n",
       "if (outputEl) {{\n",
       "    x.observe(outputEl, {childList: true});\n",
       "}}\n",
       "\n",
       "                        })                };                });            </script>        </div>"
      ]
     },
     "metadata": {},
     "output_type": "display_data"
    }
   ],
   "source": [
    "# ols: ordinary least squares\n",
    "fig = px.scatter(amazon_prices_nonans, x=\"List Price\", y=\"Amazon Price\", trendline=\"ols\")\n",
    "fig.show()"
   ]
  },
  {
   "cell_type": "code",
   "execution_count": 63,
   "id": "151b8148",
   "metadata": {},
   "outputs": [
    {
     "data": {
      "text/plain": [
       "const        -2.406959\n",
       "List Price    0.829780\n",
       "dtype: float64"
      ]
     },
     "execution_count": 63,
     "metadata": {},
     "output_type": "execute_result"
    }
   ],
   "source": [
    "import statsmodels.api as sm\n",
    "\n",
    "Y = y\n",
    "X = x\n",
    "X = sm.add_constant(X) # adds the beta0_hat intercept\n",
    "model = sm.OLS(Y,X) # Y outcome (endogenous); X covariate or feature (exogeneous)\n",
    "results = model.fit()\n",
    "results.params # should be called estimated parameters or estimated coefficients"
   ]
  },
  {
   "cell_type": "code",
   "execution_count": 64,
   "id": "588f0a91",
   "metadata": {},
   "outputs": [
    {
     "data": {
      "text/plain": [
       "(-2.4069593052705063, 0.8297803288638311)"
      ]
     },
     "execution_count": 64,
     "metadata": {},
     "output_type": "execute_result"
    }
   ],
   "source": [
    "beta0_hat, beta1_hat"
   ]
  },
  {
   "cell_type": "code",
   "execution_count": 66,
   "id": "5c031dc4",
   "metadata": {},
   "outputs": [
    {
     "data": {
      "text/html": [
       "<table class=\"simpletable\">\n",
       "<caption>OLS Regression Results</caption>\n",
       "<tr>\n",
       "  <th>Dep. Variable:</th>      <td>Amazon Price</td>   <th>  R-squared:         </th> <td>   0.903</td> \n",
       "</tr>\n",
       "<tr>\n",
       "  <th>Model:</th>                   <td>OLS</td>       <th>  Adj. R-squared:    </th> <td>   0.903</td> \n",
       "</tr>\n",
       "<tr>\n",
       "  <th>Method:</th>             <td>Least Squares</td>  <th>  F-statistic:       </th> <td>   3002.</td> \n",
       "</tr>\n",
       "<tr>\n",
       "  <th>Date:</th>             <td>Mon, 08 May 2023</td> <th>  Prob (F-statistic):</th> <td>2.82e-165</td>\n",
       "</tr>\n",
       "<tr>\n",
       "  <th>Time:</th>                 <td>09:17:04</td>     <th>  Log-Likelihood:    </th> <td> -897.98</td> \n",
       "</tr>\n",
       "<tr>\n",
       "  <th>No. Observations:</th>      <td>   324</td>      <th>  AIC:               </th> <td>   1800.</td> \n",
       "</tr>\n",
       "<tr>\n",
       "  <th>Df Residuals:</th>          <td>   322</td>      <th>  BIC:               </th> <td>   1808.</td> \n",
       "</tr>\n",
       "<tr>\n",
       "  <th>Df Model:</th>              <td>     1</td>      <th>                     </th>     <td> </td>    \n",
       "</tr>\n",
       "<tr>\n",
       "  <th>Covariance Type:</th>      <td>nonrobust</td>    <th>                     </th>     <td> </td>    \n",
       "</tr>\n",
       "</table>\n",
       "<table class=\"simpletable\">\n",
       "<tr>\n",
       "       <td></td>         <th>coef</th>     <th>std err</th>      <th>t</th>      <th>P>|t|</th>  <th>[0.025</th>    <th>0.975]</th>  \n",
       "</tr>\n",
       "<tr>\n",
       "  <th>const</th>      <td>   -2.4070</td> <td>    0.354</td> <td>   -6.791</td> <td> 0.000</td> <td>   -3.104</td> <td>   -1.710</td>\n",
       "</tr>\n",
       "<tr>\n",
       "  <th>List Price</th> <td>    0.8298</td> <td>    0.015</td> <td>   54.789</td> <td> 0.000</td> <td>    0.800</td> <td>    0.860</td>\n",
       "</tr>\n",
       "</table>\n",
       "<table class=\"simpletable\">\n",
       "<tr>\n",
       "  <th>Omnibus:</th>       <td>114.617</td> <th>  Durbin-Watson:     </th> <td>   1.978</td>\n",
       "</tr>\n",
       "<tr>\n",
       "  <th>Prob(Omnibus):</th> <td> 0.000</td>  <th>  Jarque-Bera (JB):  </th> <td>1830.463</td>\n",
       "</tr>\n",
       "<tr>\n",
       "  <th>Skew:</th>          <td> 0.992</td>  <th>  Prob(JB):          </th> <td>    0.00</td>\n",
       "</tr>\n",
       "<tr>\n",
       "  <th>Kurtosis:</th>      <td>14.474</td>  <th>  Cond. No.          </th> <td>    38.5</td>\n",
       "</tr>\n",
       "</table><br/><br/>Notes:<br/>[1] Standard Errors assume that the covariance matrix of the errors is correctly specified."
      ],
      "text/plain": [
       "<class 'statsmodels.iolib.summary.Summary'>\n",
       "\"\"\"\n",
       "                            OLS Regression Results                            \n",
       "==============================================================================\n",
       "Dep. Variable:           Amazon Price   R-squared:                       0.903\n",
       "Model:                            OLS   Adj. R-squared:                  0.903\n",
       "Method:                 Least Squares   F-statistic:                     3002.\n",
       "Date:                Mon, 08 May 2023   Prob (F-statistic):          2.82e-165\n",
       "Time:                        09:17:04   Log-Likelihood:                -897.98\n",
       "No. Observations:                 324   AIC:                             1800.\n",
       "Df Residuals:                     322   BIC:                             1808.\n",
       "Df Model:                           1                                         \n",
       "Covariance Type:            nonrobust                                         \n",
       "==============================================================================\n",
       "                 coef    std err          t      P>|t|      [0.025      0.975]\n",
       "------------------------------------------------------------------------------\n",
       "const         -2.4070      0.354     -6.791      0.000      -3.104      -1.710\n",
       "List Price     0.8298      0.015     54.789      0.000       0.800       0.860\n",
       "==============================================================================\n",
       "Omnibus:                      114.617   Durbin-Watson:                   1.978\n",
       "Prob(Omnibus):                  0.000   Jarque-Bera (JB):             1830.463\n",
       "Skew:                           0.992   Prob(JB):                         0.00\n",
       "Kurtosis:                      14.474   Cond. No.                         38.5\n",
       "==============================================================================\n",
       "\n",
       "Notes:\n",
       "[1] Standard Errors assume that the covariance matrix of the errors is correctly specified.\n",
       "\"\"\""
      ]
     },
     "execution_count": 66,
     "metadata": {},
     "output_type": "execute_result"
    }
   ],
   "source": [
    "results.summary()"
   ]
  },
  {
   "cell_type": "markdown",
   "id": "0b3e03d6",
   "metadata": {},
   "source": [
    "# $\\hat \\beta_0$ and $\\hat \\beta_1$ are statistics and therefore have sampling distributions\n",
    "- This means that p-values (against the null hypothesis assumptions that $\\beta_0=0$ and $\\beta_1=0$) are available\n",
    "- And further, that confidence intervals can be made for $\\hat \\beta_0$ and $\\hat \\beta_1$\n",
    "\n",
    "# Linear Regression Models are good because \n",
    "1. They provide statistical uncertain analysis (e.g., confidence intervals and hypothesis testing)\n",
    "2. They are interpretable\n",
    "\n",
    "$$\\huge \\hat y = -2.4 + 0.82 x$$\n",
    "\n",
    "Each 83 cents of each \\\\$1 on the list price actually makes its way into the final Amazon sale price; so, for a \\\\$1 increase in the list price, we expect an 83 cent increase (on average) in the Amazon price. \n"
   ]
  },
  {
   "cell_type": "code",
   "execution_count": null,
   "id": "cac5a051",
   "metadata": {},
   "outputs": [],
   "source": [
    "\n",
    "\n",
    "\n",
    "\n",
    "\n",
    "\n",
    "\n",
    "\n",
    "\n",
    "\n",
    "\n",
    "\n",
    "\n",
    "\n",
    "\n",
    "\n",
    "\n",
    "\n",
    "\n",
    "\n",
    "\n",
    "\n",
    "\n",
    "\n",
    "\n",
    "\n",
    "\n",
    "\n",
    "\n",
    "\n",
    "\n",
    "\n",
    "\n",
    "\n",
    "\n",
    "\n",
    "\n",
    "\n"
   ]
  }
 ],
 "metadata": {
  "kernelspec": {
   "display_name": "Python 3 (ipykernel)",
   "language": "python",
   "name": "python3"
  },
  "language_info": {
   "codemirror_mode": {
    "name": "ipython",
    "version": 3
   },
   "file_extension": ".py",
   "mimetype": "text/x-python",
   "name": "python",
   "nbconvert_exporter": "python",
   "pygments_lexer": "ipython3",
   "version": "3.10.8"
  }
 },
 "nbformat": 4,
 "nbformat_minor": 5
}
