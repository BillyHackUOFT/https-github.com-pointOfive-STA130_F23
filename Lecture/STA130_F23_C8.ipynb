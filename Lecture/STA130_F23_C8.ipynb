{
 "cells": [
  {
   "cell_type": "markdown",
   "id": "d5b81e73",
   "metadata": {},
   "source": [
    "# Multiple Linear Regression (also called Multi-Linear or ~~Multivariate~~ regression)\n",
    "- Previously, we did **Simple linear regression**\n",
    "- This time...\n",
    "\n",
    "$$ AmazonPrice = \\beta_0 + \\beta_1 ListPrice + \\beta_H Height + \\beta_W Width + \\beta_T \\underbrace{I(HardorPaper == H)}_{\\text{indicator function}}$$ \n",
    "\n",
    "The indicator function is a $1$ if the book type is hardback.\n",
    "\n",
    "$$ y = \\beta_0 + \\beta_1 x_1 + \\beta_2 x_2 + \\beta_3 x_3 + \\beta_4 \\underbrace{I(x_4 == H)}_{\\text{indicator function}}$$ \n",
    "\n",
    "- The $x's$ are called **covariates** (in statistics) or **features** (in machine learning)"
   ]
  },
  {
   "cell_type": "code",
   "execution_count": 1,
   "id": "bcb37372",
   "metadata": {},
   "outputs": [
    {
     "data": {
      "text/html": [
       "<div>\n",
       "<style scoped>\n",
       "    .dataframe tbody tr th:only-of-type {\n",
       "        vertical-align: middle;\n",
       "    }\n",
       "\n",
       "    .dataframe tbody tr th {\n",
       "        vertical-align: top;\n",
       "    }\n",
       "\n",
       "    .dataframe thead th {\n",
       "        text-align: right;\n",
       "    }\n",
       "</style>\n",
       "<table border=\"1\" class=\"dataframe\">\n",
       "  <thead>\n",
       "    <tr style=\"text-align: right;\">\n",
       "      <th></th>\n",
       "      <th>Title</th>\n",
       "      <th>Author</th>\n",
       "      <th>List Price</th>\n",
       "      <th>Amazon Price</th>\n",
       "      <th>Hard_or_Paper</th>\n",
       "      <th>NumPages</th>\n",
       "      <th>Publisher</th>\n",
       "      <th>Pub year</th>\n",
       "      <th>ISBN-10</th>\n",
       "      <th>Height</th>\n",
       "      <th>Width</th>\n",
       "      <th>Thick</th>\n",
       "      <th>Weight_oz</th>\n",
       "    </tr>\n",
       "  </thead>\n",
       "  <tbody>\n",
       "    <tr>\n",
       "      <th>0</th>\n",
       "      <td>1,001 Facts that Will Scare the S#*t Out of Yo...</td>\n",
       "      <td>Cary McNeal</td>\n",
       "      <td>12.95</td>\n",
       "      <td>5.18</td>\n",
       "      <td>P</td>\n",
       "      <td>304.0</td>\n",
       "      <td>Adams Media</td>\n",
       "      <td>2010.0</td>\n",
       "      <td>1605506249</td>\n",
       "      <td>7.8</td>\n",
       "      <td>5.5</td>\n",
       "      <td>0.8</td>\n",
       "      <td>11.2</td>\n",
       "    </tr>\n",
       "    <tr>\n",
       "      <th>1</th>\n",
       "      <td>21: Bringing Down the House - Movie Tie-In: Th...</td>\n",
       "      <td>Ben Mezrich</td>\n",
       "      <td>15.00</td>\n",
       "      <td>10.20</td>\n",
       "      <td>P</td>\n",
       "      <td>273.0</td>\n",
       "      <td>Free Press</td>\n",
       "      <td>2008.0</td>\n",
       "      <td>1416564195</td>\n",
       "      <td>8.4</td>\n",
       "      <td>5.5</td>\n",
       "      <td>0.7</td>\n",
       "      <td>7.2</td>\n",
       "    </tr>\n",
       "    <tr>\n",
       "      <th>2</th>\n",
       "      <td>100 Best-Loved Poems (Dover Thrift Editions)</td>\n",
       "      <td>Smith</td>\n",
       "      <td>1.50</td>\n",
       "      <td>1.50</td>\n",
       "      <td>P</td>\n",
       "      <td>96.0</td>\n",
       "      <td>Dover Publications</td>\n",
       "      <td>1995.0</td>\n",
       "      <td>486285537</td>\n",
       "      <td>8.3</td>\n",
       "      <td>5.2</td>\n",
       "      <td>0.3</td>\n",
       "      <td>4.0</td>\n",
       "    </tr>\n",
       "    <tr>\n",
       "      <th>3</th>\n",
       "      <td>1421: The Year China Discovered America</td>\n",
       "      <td>Gavin Menzies</td>\n",
       "      <td>15.99</td>\n",
       "      <td>10.87</td>\n",
       "      <td>P</td>\n",
       "      <td>672.0</td>\n",
       "      <td>Harper Perennial</td>\n",
       "      <td>2008.0</td>\n",
       "      <td>61564893</td>\n",
       "      <td>8.8</td>\n",
       "      <td>6.0</td>\n",
       "      <td>1.6</td>\n",
       "      <td>28.8</td>\n",
       "    </tr>\n",
       "    <tr>\n",
       "      <th>4</th>\n",
       "      <td>1493: Uncovering the New World Columbus Created</td>\n",
       "      <td>Charles C. Mann</td>\n",
       "      <td>30.50</td>\n",
       "      <td>16.77</td>\n",
       "      <td>P</td>\n",
       "      <td>720.0</td>\n",
       "      <td>Knopf</td>\n",
       "      <td>2011.0</td>\n",
       "      <td>307265722</td>\n",
       "      <td>8.0</td>\n",
       "      <td>5.2</td>\n",
       "      <td>1.4</td>\n",
       "      <td>22.4</td>\n",
       "    </tr>\n",
       "    <tr>\n",
       "      <th>...</th>\n",
       "      <td>...</td>\n",
       "      <td>...</td>\n",
       "      <td>...</td>\n",
       "      <td>...</td>\n",
       "      <td>...</td>\n",
       "      <td>...</td>\n",
       "      <td>...</td>\n",
       "      <td>...</td>\n",
       "      <td>...</td>\n",
       "      <td>...</td>\n",
       "      <td>...</td>\n",
       "      <td>...</td>\n",
       "      <td>...</td>\n",
       "    </tr>\n",
       "    <tr>\n",
       "      <th>320</th>\n",
       "      <td>Where the Sidewalk Ends</td>\n",
       "      <td>Shel Silverstein</td>\n",
       "      <td>18.99</td>\n",
       "      <td>12.24</td>\n",
       "      <td>H</td>\n",
       "      <td>192.0</td>\n",
       "      <td>HarperCollins</td>\n",
       "      <td>2004.0</td>\n",
       "      <td>60572345</td>\n",
       "      <td>9.3</td>\n",
       "      <td>6.6</td>\n",
       "      <td>1.1</td>\n",
       "      <td>24.0</td>\n",
       "    </tr>\n",
       "    <tr>\n",
       "      <th>321</th>\n",
       "      <td>White Privilege</td>\n",
       "      <td>Paula S. Rothenberg</td>\n",
       "      <td>27.55</td>\n",
       "      <td>27.55</td>\n",
       "      <td>P</td>\n",
       "      <td>160.0</td>\n",
       "      <td>Worth Publishers</td>\n",
       "      <td>2011.0</td>\n",
       "      <td>1429233443</td>\n",
       "      <td>9.1</td>\n",
       "      <td>6.1</td>\n",
       "      <td>0.7</td>\n",
       "      <td>8.0</td>\n",
       "    </tr>\n",
       "    <tr>\n",
       "      <th>322</th>\n",
       "      <td>Why I wore lipstick</td>\n",
       "      <td>Geralyn Lucas</td>\n",
       "      <td>12.95</td>\n",
       "      <td>5.18</td>\n",
       "      <td>P</td>\n",
       "      <td>224.0</td>\n",
       "      <td>St Martin's Griffin</td>\n",
       "      <td>2005.0</td>\n",
       "      <td>031233446X</td>\n",
       "      <td>8.0</td>\n",
       "      <td>5.4</td>\n",
       "      <td>0.7</td>\n",
       "      <td>6.4</td>\n",
       "    </tr>\n",
       "    <tr>\n",
       "      <th>323</th>\n",
       "      <td>Worlds Together, Worlds Apart: A History of th...</td>\n",
       "      <td>Robert Tignor</td>\n",
       "      <td>97.50</td>\n",
       "      <td>97.50</td>\n",
       "      <td>P</td>\n",
       "      <td>480.0</td>\n",
       "      <td>W. W. Norton &amp; Company</td>\n",
       "      <td>2010.0</td>\n",
       "      <td>393934942</td>\n",
       "      <td>10.7</td>\n",
       "      <td>8.9</td>\n",
       "      <td>0.9</td>\n",
       "      <td>14.4</td>\n",
       "    </tr>\n",
       "    <tr>\n",
       "      <th>324</th>\n",
       "      <td>Wuthering Heights</td>\n",
       "      <td>Emily Bronte</td>\n",
       "      <td>16.99</td>\n",
       "      <td>4.95</td>\n",
       "      <td>P</td>\n",
       "      <td>344.0</td>\n",
       "      <td>CreatSpace</td>\n",
       "      <td>2011.0</td>\n",
       "      <td>1463533411</td>\n",
       "      <td>7.8</td>\n",
       "      <td>5.1</td>\n",
       "      <td>1.0</td>\n",
       "      <td>16.0</td>\n",
       "    </tr>\n",
       "  </tbody>\n",
       "</table>\n",
       "<p>325 rows × 13 columns</p>\n",
       "</div>"
      ],
      "text/plain": [
       "                                                 Title               Author  \\\n",
       "0    1,001 Facts that Will Scare the S#*t Out of Yo...          Cary McNeal   \n",
       "1    21: Bringing Down the House - Movie Tie-In: Th...          Ben Mezrich   \n",
       "2         100 Best-Loved Poems (Dover Thrift Editions)                Smith   \n",
       "3              1421: The Year China Discovered America        Gavin Menzies   \n",
       "4      1493: Uncovering the New World Columbus Created      Charles C. Mann   \n",
       "..                                                 ...                  ...   \n",
       "320                            Where the Sidewalk Ends     Shel Silverstein   \n",
       "321                                    White Privilege  Paula S. Rothenberg   \n",
       "322                                Why I wore lipstick        Geralyn Lucas   \n",
       "323  Worlds Together, Worlds Apart: A History of th...        Robert Tignor   \n",
       "324                                  Wuthering Heights         Emily Bronte   \n",
       "\n",
       "     List Price  Amazon Price Hard_or_Paper  NumPages               Publisher  \\\n",
       "0         12.95          5.18             P     304.0             Adams Media   \n",
       "1         15.00         10.20             P     273.0              Free Press   \n",
       "2          1.50          1.50             P      96.0      Dover Publications   \n",
       "3         15.99         10.87             P     672.0        Harper Perennial   \n",
       "4         30.50         16.77             P     720.0                   Knopf   \n",
       "..          ...           ...           ...       ...                     ...   \n",
       "320       18.99         12.24             H     192.0           HarperCollins   \n",
       "321       27.55         27.55             P     160.0        Worth Publishers   \n",
       "322       12.95          5.18             P     224.0     St Martin's Griffin   \n",
       "323       97.50         97.50             P     480.0  W. W. Norton & Company   \n",
       "324       16.99          4.95             P     344.0              CreatSpace   \n",
       "\n",
       "     Pub year     ISBN-10  Height  Width  Thick  Weight_oz  \n",
       "0      2010.0  1605506249     7.8    5.5    0.8       11.2  \n",
       "1      2008.0  1416564195     8.4    5.5    0.7        7.2  \n",
       "2      1995.0   486285537     8.3    5.2    0.3        4.0  \n",
       "3      2008.0    61564893     8.8    6.0    1.6       28.8  \n",
       "4      2011.0   307265722     8.0    5.2    1.4       22.4  \n",
       "..        ...         ...     ...    ...    ...        ...  \n",
       "320    2004.0    60572345     9.3    6.6    1.1       24.0  \n",
       "321    2011.0  1429233443     9.1    6.1    0.7        8.0  \n",
       "322    2005.0  031233446X     8.0    5.4    0.7        6.4  \n",
       "323    2010.0   393934942    10.7    8.9    0.9       14.4  \n",
       "324    2011.0  1463533411     7.8    5.1    1.0       16.0  \n",
       "\n",
       "[325 rows x 13 columns]"
      ]
     },
     "execution_count": 1,
     "metadata": {},
     "output_type": "execute_result"
    }
   ],
   "source": [
    "import pandas as pd\n",
    "amazonbooks = pd.read_csv(\"amazonbooks.csv\", encoding=\"ISO-8859-1\")\n",
    "amazonbooks"
   ]
  },
  {
   "cell_type": "code",
   "execution_count": 23,
   "id": "6636778c",
   "metadata": {},
   "outputs": [],
   "source": [
    "import statsmodels.formula.api as smf\n",
    "fit_model = smf.ols(formula='Q(\"Amazon Price\") ~ Q(\"List Price\") + Height + Width + C(Hard_or_Paper)', \n",
    "                    data=amazonbooks).fit()"
   ]
  },
  {
   "cell_type": "code",
   "execution_count": 14,
   "id": "8d40bd75",
   "metadata": {
    "scrolled": true
   },
   "outputs": [
    {
     "data": {
      "text/plain": [
       "['HC0_se',\n",
       " 'HC1_se',\n",
       " 'HC2_se',\n",
       " 'HC3_se',\n",
       " '_HCCM',\n",
       " '__class__',\n",
       " '__delattr__',\n",
       " '__dict__',\n",
       " '__dir__',\n",
       " '__doc__',\n",
       " '__eq__',\n",
       " '__format__',\n",
       " '__ge__',\n",
       " '__getattribute__',\n",
       " '__gt__',\n",
       " '__hash__',\n",
       " '__init__',\n",
       " '__init_subclass__',\n",
       " '__le__',\n",
       " '__lt__',\n",
       " '__module__',\n",
       " '__ne__',\n",
       " '__new__',\n",
       " '__reduce__',\n",
       " '__reduce_ex__',\n",
       " '__repr__',\n",
       " '__setattr__',\n",
       " '__sizeof__',\n",
       " '__str__',\n",
       " '__subclasshook__',\n",
       " '__weakref__',\n",
       " '_abat_diagonal',\n",
       " '_cache',\n",
       " '_data_attr',\n",
       " '_data_in_cache',\n",
       " '_get_robustcov_results',\n",
       " '_is_nested',\n",
       " '_use_t',\n",
       " '_wexog_singular_values',\n",
       " 'aic',\n",
       " 'bic',\n",
       " 'bse',\n",
       " 'centered_tss',\n",
       " 'compare_f_test',\n",
       " 'compare_lm_test',\n",
       " 'compare_lr_test',\n",
       " 'condition_number',\n",
       " 'conf_int',\n",
       " 'conf_int_el',\n",
       " 'cov_HC0',\n",
       " 'cov_HC1',\n",
       " 'cov_HC2',\n",
       " 'cov_HC3',\n",
       " 'cov_kwds',\n",
       " 'cov_params',\n",
       " 'cov_type',\n",
       " 'df_model',\n",
       " 'df_resid',\n",
       " 'eigenvals',\n",
       " 'el_test',\n",
       " 'ess',\n",
       " 'f_pvalue',\n",
       " 'f_test',\n",
       " 'fittedvalues',\n",
       " 'fvalue',\n",
       " 'get_influence',\n",
       " 'get_prediction',\n",
       " 'get_robustcov_results',\n",
       " 'info_criteria',\n",
       " 'initialize',\n",
       " 'k_constant',\n",
       " 'llf',\n",
       " 'load',\n",
       " 'model',\n",
       " 'mse_model',\n",
       " 'mse_resid',\n",
       " 'mse_total',\n",
       " 'nobs',\n",
       " 'normalized_cov_params',\n",
       " 'outlier_test',\n",
       " 'params',\n",
       " 'predict',\n",
       " 'pvalues',\n",
       " 'remove_data',\n",
       " 'resid',\n",
       " 'resid_pearson',\n",
       " 'rsquared',\n",
       " 'rsquared_adj',\n",
       " 'save',\n",
       " 'scale',\n",
       " 'ssr',\n",
       " 'summary',\n",
       " 'summary2',\n",
       " 't_test',\n",
       " 't_test_pairwise',\n",
       " 'tvalues',\n",
       " 'uncentered_tss',\n",
       " 'use_t',\n",
       " 'wald_test',\n",
       " 'wald_test_terms',\n",
       " 'wresid']"
      ]
     },
     "execution_count": 14,
     "metadata": {},
     "output_type": "execute_result"
    }
   ],
   "source": [
    "dir(fit_model)"
   ]
  },
  {
   "cell_type": "code",
   "execution_count": 16,
   "id": "72fba57f",
   "metadata": {
    "scrolled": true
   },
   "outputs": [
    {
     "data": {
      "text/plain": [
       "['__class__',\n",
       " '__delattr__',\n",
       " '__dict__',\n",
       " '__dir__',\n",
       " '__doc__',\n",
       " '__eq__',\n",
       " '__format__',\n",
       " '__ge__',\n",
       " '__getattribute__',\n",
       " '__gt__',\n",
       " '__hash__',\n",
       " '__init__',\n",
       " '__init_subclass__',\n",
       " '__le__',\n",
       " '__lt__',\n",
       " '__module__',\n",
       " '__ne__',\n",
       " '__new__',\n",
       " '__reduce__',\n",
       " '__reduce_ex__',\n",
       " '__repr__',\n",
       " '__setattr__',\n",
       " '__sizeof__',\n",
       " '__str__',\n",
       " '__subclasshook__',\n",
       " '__weakref__',\n",
       " '_check_kwargs',\n",
       " '_data_attr',\n",
       " '_df_model',\n",
       " '_df_resid',\n",
       " '_fit_collinear',\n",
       " '_fit_ridge',\n",
       " '_fit_zeros',\n",
       " '_formula_max_endog',\n",
       " '_get_init_kwds',\n",
       " '_handle_data',\n",
       " '_init_keys',\n",
       " '_kwargs_allowed',\n",
       " '_setup_score_hess',\n",
       " '_sqrt_lasso',\n",
       " 'data',\n",
       " 'df_model',\n",
       " 'df_resid',\n",
       " 'endog',\n",
       " 'endog_names',\n",
       " 'exog',\n",
       " 'exog_names',\n",
       " 'fit',\n",
       " 'fit_regularized',\n",
       " 'formula',\n",
       " 'from_formula',\n",
       " 'get_distribution',\n",
       " 'hessian',\n",
       " 'hessian_factor',\n",
       " 'information',\n",
       " 'initialize',\n",
       " 'k_constant',\n",
       " 'loglike',\n",
       " 'nobs',\n",
       " 'normalized_cov_params',\n",
       " 'pinv_wexog',\n",
       " 'predict',\n",
       " 'rank',\n",
       " 'score',\n",
       " 'weights',\n",
       " 'wendog',\n",
       " 'wexog',\n",
       " 'wexog_singular_values',\n",
       " 'whiten']"
      ]
     },
     "execution_count": 16,
     "metadata": {},
     "output_type": "execute_result"
    }
   ],
   "source": [
    "dir(fit_model.model)"
   ]
  },
  {
   "cell_type": "code",
   "execution_count": 17,
   "id": "b827b2be",
   "metadata": {},
   "outputs": [
    {
     "data": {
      "text/plain": [
       "'Q(\"Amazon Price\") ~ Q(\"List Price\") + Height + Width + C(Hard_or_Paper)'"
      ]
     },
     "execution_count": 17,
     "metadata": {},
     "output_type": "execute_result"
    }
   ],
   "source": [
    "fit_model.model.formula"
   ]
  },
  {
   "cell_type": "markdown",
   "id": "584e7bbc",
   "metadata": {},
   "source": [
    "$$ AmazonPrice = \\beta_0 + \\beta_1 ListPrice + \\require{enclose} \\enclose{horizontalstrike}{\\beta_H Height + \\beta_W Width} + \\beta_P \\underbrace{I(HardorPaper == P)}_{\\text{indicator function}}$$ \n",
    "\n",
    "The p-values in the table below are for the null hypothesis that the coefficient if 0. If a p-value is not quite small it does not provide evidence against this null hypthesis. Since the `Height` and `Width` variables do not have small p-values, we do not have evidence against the assumption that the coefficients of these variables in the linear model form are $0$.  Therefore, we remove these variables from the model, because if the coefficients were zero (an assumption we have not provided evidence against), then $0$ times those variables is just $0$... and they disappear from the model..."
   ]
  },
  {
   "cell_type": "code",
   "execution_count": 27,
   "id": "b522a8ce",
   "metadata": {},
   "outputs": [
    {
     "data": {
      "text/html": [
       "<table class=\"simpletable\">\n",
       "<caption>OLS Regression Results</caption>\n",
       "<tr>\n",
       "  <th>Dep. Variable:</th>    <td>Q(\"Amazon Price\")</td> <th>  R-squared:         </th> <td>   0.911</td> \n",
       "</tr>\n",
       "<tr>\n",
       "  <th>Model:</th>                   <td>OLS</td>        <th>  Adj. R-squared:    </th> <td>   0.909</td> \n",
       "</tr>\n",
       "<tr>\n",
       "  <th>Method:</th>             <td>Least Squares</td>   <th>  F-statistic:       </th> <td>   799.5</td> \n",
       "</tr>\n",
       "<tr>\n",
       "  <th>Date:</th>             <td>Mon, 08 May 2023</td>  <th>  Prob (F-statistic):</th> <td>3.32e-163</td>\n",
       "</tr>\n",
       "<tr>\n",
       "  <th>Time:</th>                 <td>14:23:50</td>      <th>  Log-Likelihood:    </th> <td> -873.34</td> \n",
       "</tr>\n",
       "<tr>\n",
       "  <th>No. Observations:</th>      <td>   319</td>       <th>  AIC:               </th> <td>   1757.</td> \n",
       "</tr>\n",
       "<tr>\n",
       "  <th>Df Residuals:</th>          <td>   314</td>       <th>  BIC:               </th> <td>   1776.</td> \n",
       "</tr>\n",
       "<tr>\n",
       "  <th>Df Model:</th>              <td>     4</td>       <th>                     </th>     <td> </td>    \n",
       "</tr>\n",
       "<tr>\n",
       "  <th>Covariance Type:</th>      <td>nonrobust</td>     <th>                     </th>     <td> </td>    \n",
       "</tr>\n",
       "</table>\n",
       "<table class=\"simpletable\">\n",
       "<tr>\n",
       "            <td></td>               <th>coef</th>     <th>std err</th>      <th>t</th>      <th>P>|t|</th>  <th>[0.025</th>    <th>0.975]</th>  \n",
       "</tr>\n",
       "<tr>\n",
       "  <th>Intercept</th>             <td>   -2.7254</td> <td>    2.371</td> <td>   -1.150</td> <td> 0.251</td> <td>   -7.390</td> <td>    1.939</td>\n",
       "</tr>\n",
       "<tr>\n",
       "  <th>C(Hard_or_Paper)[T.P]</th> <td>    2.0305</td> <td>    0.498</td> <td>    4.081</td> <td> 0.000</td> <td>    1.051</td> <td>    3.009</td>\n",
       "</tr>\n",
       "<tr>\n",
       "  <th>Q(\"List Price\")</th>       <td>    0.8463</td> <td>    0.018</td> <td>   46.533</td> <td> 0.000</td> <td>    0.811</td> <td>    0.882</td>\n",
       "</tr>\n",
       "<tr>\n",
       "  <th>Height</th>                <td>   -0.3326</td> <td>    0.289</td> <td>   -1.151</td> <td> 0.251</td> <td>   -0.901</td> <td>    0.236</td>\n",
       "</tr>\n",
       "<tr>\n",
       "  <th>Width</th>                 <td>    0.2316</td> <td>    0.306</td> <td>    0.756</td> <td> 0.450</td> <td>   -0.371</td> <td>    0.834</td>\n",
       "</tr>\n",
       "</table>\n",
       "<table class=\"simpletable\">\n",
       "<tr>\n",
       "  <th>Omnibus:</th>       <td>100.776</td> <th>  Durbin-Watson:     </th> <td>   1.968</td>\n",
       "</tr>\n",
       "<tr>\n",
       "  <th>Prob(Omnibus):</th> <td> 0.000</td>  <th>  Jarque-Bera (JB):  </th> <td>1617.753</td>\n",
       "</tr>\n",
       "<tr>\n",
       "  <th>Skew:</th>          <td> 0.818</td>  <th>  Prob(JB):          </th> <td>    0.00</td>\n",
       "</tr>\n",
       "<tr>\n",
       "  <th>Kurtosis:</th>      <td>13.910</td>  <th>  Cond. No.          </th> <td>    282.</td>\n",
       "</tr>\n",
       "</table><br/><br/>Notes:<br/>[1] Standard Errors assume that the covariance matrix of the errors is correctly specified."
      ],
      "text/plain": [
       "<class 'statsmodels.iolib.summary.Summary'>\n",
       "\"\"\"\n",
       "                            OLS Regression Results                            \n",
       "==============================================================================\n",
       "Dep. Variable:      Q(\"Amazon Price\")   R-squared:                       0.911\n",
       "Model:                            OLS   Adj. R-squared:                  0.909\n",
       "Method:                 Least Squares   F-statistic:                     799.5\n",
       "Date:                Mon, 08 May 2023   Prob (F-statistic):          3.32e-163\n",
       "Time:                        14:23:50   Log-Likelihood:                -873.34\n",
       "No. Observations:                 319   AIC:                             1757.\n",
       "Df Residuals:                     314   BIC:                             1776.\n",
       "Df Model:                           4                                         \n",
       "Covariance Type:            nonrobust                                         \n",
       "=========================================================================================\n",
       "                            coef    std err          t      P>|t|      [0.025      0.975]\n",
       "-----------------------------------------------------------------------------------------\n",
       "Intercept                -2.7254      2.371     -1.150      0.251      -7.390       1.939\n",
       "C(Hard_or_Paper)[T.P]     2.0305      0.498      4.081      0.000       1.051       3.009\n",
       "Q(\"List Price\")           0.8463      0.018     46.533      0.000       0.811       0.882\n",
       "Height                   -0.3326      0.289     -1.151      0.251      -0.901       0.236\n",
       "Width                     0.2316      0.306      0.756      0.450      -0.371       0.834\n",
       "==============================================================================\n",
       "Omnibus:                      100.776   Durbin-Watson:                   1.968\n",
       "Prob(Omnibus):                  0.000   Jarque-Bera (JB):             1617.753\n",
       "Skew:                           0.818   Prob(JB):                         0.00\n",
       "Kurtosis:                      13.910   Cond. No.                         282.\n",
       "==============================================================================\n",
       "\n",
       "Notes:\n",
       "[1] Standard Errors assume that the covariance matrix of the errors is correctly specified.\n",
       "\"\"\""
      ]
     },
     "execution_count": 27,
     "metadata": {},
     "output_type": "execute_result"
    }
   ],
   "source": [
    "fit_model.summary()"
   ]
  },
  {
   "cell_type": "code",
   "execution_count": 28,
   "id": "8342cade",
   "metadata": {},
   "outputs": [
    {
     "data": {
      "text/html": [
       "<table class=\"simpletable\">\n",
       "<caption>OLS Regression Results</caption>\n",
       "<tr>\n",
       "  <th>Dep. Variable:</th>    <td>Q(\"Amazon Price\")</td> <th>  R-squared:         </th> <td>   0.903</td> \n",
       "</tr>\n",
       "<tr>\n",
       "  <th>Model:</th>                   <td>OLS</td>        <th>  Adj. R-squared:    </th> <td>   0.903</td> \n",
       "</tr>\n",
       "<tr>\n",
       "  <th>Method:</th>             <td>Least Squares</td>   <th>  F-statistic:       </th> <td>   3002.</td> \n",
       "</tr>\n",
       "<tr>\n",
       "  <th>Date:</th>             <td>Mon, 08 May 2023</td>  <th>  Prob (F-statistic):</th> <td>2.82e-165</td>\n",
       "</tr>\n",
       "<tr>\n",
       "  <th>Time:</th>                 <td>14:24:27</td>      <th>  Log-Likelihood:    </th> <td> -897.98</td> \n",
       "</tr>\n",
       "<tr>\n",
       "  <th>No. Observations:</th>      <td>   324</td>       <th>  AIC:               </th> <td>   1800.</td> \n",
       "</tr>\n",
       "<tr>\n",
       "  <th>Df Residuals:</th>          <td>   322</td>       <th>  BIC:               </th> <td>   1808.</td> \n",
       "</tr>\n",
       "<tr>\n",
       "  <th>Df Model:</th>              <td>     1</td>       <th>                     </th>     <td> </td>    \n",
       "</tr>\n",
       "<tr>\n",
       "  <th>Covariance Type:</th>      <td>nonrobust</td>     <th>                     </th>     <td> </td>    \n",
       "</tr>\n",
       "</table>\n",
       "<table class=\"simpletable\">\n",
       "<tr>\n",
       "         <td></td>            <th>coef</th>     <th>std err</th>      <th>t</th>      <th>P>|t|</th>  <th>[0.025</th>    <th>0.975]</th>  \n",
       "</tr>\n",
       "<tr>\n",
       "  <th>Intercept</th>       <td>   -2.4070</td> <td>    0.354</td> <td>   -6.791</td> <td> 0.000</td> <td>   -3.104</td> <td>   -1.710</td>\n",
       "</tr>\n",
       "<tr>\n",
       "  <th>Q(\"List Price\")</th> <td>    0.8298</td> <td>    0.015</td> <td>   54.789</td> <td> 0.000</td> <td>    0.800</td> <td>    0.860</td>\n",
       "</tr>\n",
       "</table>\n",
       "<table class=\"simpletable\">\n",
       "<tr>\n",
       "  <th>Omnibus:</th>       <td>114.617</td> <th>  Durbin-Watson:     </th> <td>   1.978</td>\n",
       "</tr>\n",
       "<tr>\n",
       "  <th>Prob(Omnibus):</th> <td> 0.000</td>  <th>  Jarque-Bera (JB):  </th> <td>1830.463</td>\n",
       "</tr>\n",
       "<tr>\n",
       "  <th>Skew:</th>          <td> 0.992</td>  <th>  Prob(JB):          </th> <td>    0.00</td>\n",
       "</tr>\n",
       "<tr>\n",
       "  <th>Kurtosis:</th>      <td>14.474</td>  <th>  Cond. No.          </th> <td>    38.5</td>\n",
       "</tr>\n",
       "</table><br/><br/>Notes:<br/>[1] Standard Errors assume that the covariance matrix of the errors is correctly specified."
      ],
      "text/plain": [
       "<class 'statsmodels.iolib.summary.Summary'>\n",
       "\"\"\"\n",
       "                            OLS Regression Results                            \n",
       "==============================================================================\n",
       "Dep. Variable:      Q(\"Amazon Price\")   R-squared:                       0.903\n",
       "Model:                            OLS   Adj. R-squared:                  0.903\n",
       "Method:                 Least Squares   F-statistic:                     3002.\n",
       "Date:                Mon, 08 May 2023   Prob (F-statistic):          2.82e-165\n",
       "Time:                        14:24:27   Log-Likelihood:                -897.98\n",
       "No. Observations:                 324   AIC:                             1800.\n",
       "Df Residuals:                     322   BIC:                             1808.\n",
       "Df Model:                           1                                         \n",
       "Covariance Type:            nonrobust                                         \n",
       "===================================================================================\n",
       "                      coef    std err          t      P>|t|      [0.025      0.975]\n",
       "-----------------------------------------------------------------------------------\n",
       "Intercept          -2.4070      0.354     -6.791      0.000      -3.104      -1.710\n",
       "Q(\"List Price\")     0.8298      0.015     54.789      0.000       0.800       0.860\n",
       "==============================================================================\n",
       "Omnibus:                      114.617   Durbin-Watson:                   1.978\n",
       "Prob(Omnibus):                  0.000   Jarque-Bera (JB):             1830.463\n",
       "Skew:                           0.992   Prob(JB):                         0.00\n",
       "Kurtosis:                      14.474   Cond. No.                         38.5\n",
       "==============================================================================\n",
       "\n",
       "Notes:\n",
       "[1] Standard Errors assume that the covariance matrix of the errors is correctly specified.\n",
       "\"\"\""
      ]
     },
     "execution_count": 28,
     "metadata": {},
     "output_type": "execute_result"
    }
   ],
   "source": [
    "# this was last time...\n",
    "smf.ols(formula='Q(\"Amazon Price\") ~ Q(\"List Price\")', data=amazonbooks).fit().summary()"
   ]
  },
  {
   "cell_type": "code",
   "execution_count": 30,
   "id": "a1b9aa04",
   "metadata": {},
   "outputs": [
    {
     "data": {
      "text/html": [
       "<table class=\"simpletable\">\n",
       "<caption>OLS Regression Results</caption>\n",
       "<tr>\n",
       "  <th>Dep. Variable:</th>    <td>Q(\"Amazon Price\")</td> <th>  R-squared:         </th> <td>   0.921</td> \n",
       "</tr>\n",
       "<tr>\n",
       "  <th>Model:</th>                   <td>OLS</td>        <th>  Adj. R-squared:    </th> <td>   0.920</td> \n",
       "</tr>\n",
       "<tr>\n",
       "  <th>Method:</th>             <td>Least Squares</td>   <th>  F-statistic:       </th> <td>   719.6</td> \n",
       "</tr>\n",
       "<tr>\n",
       "  <th>Date:</th>             <td>Mon, 08 May 2023</td>  <th>  Prob (F-statistic):</th> <td>1.67e-167</td>\n",
       "</tr>\n",
       "<tr>\n",
       "  <th>Time:</th>                 <td>14:35:10</td>      <th>  Log-Likelihood:    </th> <td> -813.63</td> \n",
       "</tr>\n",
       "<tr>\n",
       "  <th>No. Observations:</th>      <td>   314</td>       <th>  AIC:               </th> <td>   1639.</td> \n",
       "</tr>\n",
       "<tr>\n",
       "  <th>Df Residuals:</th>          <td>   308</td>       <th>  BIC:               </th> <td>   1662.</td> \n",
       "</tr>\n",
       "<tr>\n",
       "  <th>Df Model:</th>              <td>     5</td>       <th>                     </th>     <td> </td>    \n",
       "</tr>\n",
       "<tr>\n",
       "  <th>Covariance Type:</th>      <td>nonrobust</td>     <th>                     </th>     <td> </td>    \n",
       "</tr>\n",
       "</table>\n",
       "<table class=\"simpletable\">\n",
       "<tr>\n",
       "            <td></td>               <th>coef</th>     <th>std err</th>      <th>t</th>      <th>P>|t|</th>  <th>[0.025</th>    <th>0.975]</th>  \n",
       "</tr>\n",
       "<tr>\n",
       "  <th>Intercept</th>             <td>   -0.8980</td> <td>    0.812</td> <td>   -1.106</td> <td> 0.270</td> <td>   -2.496</td> <td>    0.700</td>\n",
       "</tr>\n",
       "<tr>\n",
       "  <th>C(Hard_or_Paper)[T.P]</th> <td>    1.2895</td> <td>    0.542</td> <td>    2.380</td> <td> 0.018</td> <td>    0.223</td> <td>    2.356</td>\n",
       "</tr>\n",
       "<tr>\n",
       "  <th>Q(\"List Price\")</th>       <td>    0.8552</td> <td>    0.016</td> <td>   54.369</td> <td> 0.000</td> <td>    0.824</td> <td>    0.886</td>\n",
       "</tr>\n",
       "<tr>\n",
       "  <th>Thick</th>                 <td>   -1.8302</td> <td>    1.133</td> <td>   -1.615</td> <td> 0.107</td> <td>   -4.060</td> <td>    0.400</td>\n",
       "</tr>\n",
       "<tr>\n",
       "  <th>Weight_oz</th>             <td>   -0.0664</td> <td>    0.044</td> <td>   -1.519</td> <td> 0.130</td> <td>   -0.153</td> <td>    0.020</td>\n",
       "</tr>\n",
       "<tr>\n",
       "  <th>NumPages</th>              <td>   -0.0012</td> <td>    0.002</td> <td>   -0.491</td> <td> 0.624</td> <td>   -0.006</td> <td>    0.004</td>\n",
       "</tr>\n",
       "</table>\n",
       "<table class=\"simpletable\">\n",
       "<tr>\n",
       "  <th>Omnibus:</th>       <td>121.423</td> <th>  Durbin-Watson:     </th> <td>   2.118</td>\n",
       "</tr>\n",
       "<tr>\n",
       "  <th>Prob(Omnibus):</th> <td> 0.000</td>  <th>  Jarque-Bera (JB):  </th> <td>1675.391</td>\n",
       "</tr>\n",
       "<tr>\n",
       "  <th>Skew:</th>          <td> 1.177</td>  <th>  Prob(JB):          </th> <td>    0.00</td>\n",
       "</tr>\n",
       "<tr>\n",
       "  <th>Kurtosis:</th>      <td>14.068</td>  <th>  Cond. No.          </th> <td>2.67e+03</td>\n",
       "</tr>\n",
       "</table><br/><br/>Notes:<br/>[1] Standard Errors assume that the covariance matrix of the errors is correctly specified.<br/>[2] The condition number is large, 2.67e+03. This might indicate that there are<br/>strong multicollinearity or other numerical problems."
      ],
      "text/plain": [
       "<class 'statsmodels.iolib.summary.Summary'>\n",
       "\"\"\"\n",
       "                            OLS Regression Results                            \n",
       "==============================================================================\n",
       "Dep. Variable:      Q(\"Amazon Price\")   R-squared:                       0.921\n",
       "Model:                            OLS   Adj. R-squared:                  0.920\n",
       "Method:                 Least Squares   F-statistic:                     719.6\n",
       "Date:                Mon, 08 May 2023   Prob (F-statistic):          1.67e-167\n",
       "Time:                        14:35:10   Log-Likelihood:                -813.63\n",
       "No. Observations:                 314   AIC:                             1639.\n",
       "Df Residuals:                     308   BIC:                             1662.\n",
       "Df Model:                           5                                         \n",
       "Covariance Type:            nonrobust                                         \n",
       "=========================================================================================\n",
       "                            coef    std err          t      P>|t|      [0.025      0.975]\n",
       "-----------------------------------------------------------------------------------------\n",
       "Intercept                -0.8980      0.812     -1.106      0.270      -2.496       0.700\n",
       "C(Hard_or_Paper)[T.P]     1.2895      0.542      2.380      0.018       0.223       2.356\n",
       "Q(\"List Price\")           0.8552      0.016     54.369      0.000       0.824       0.886\n",
       "Thick                    -1.8302      1.133     -1.615      0.107      -4.060       0.400\n",
       "Weight_oz                -0.0664      0.044     -1.519      0.130      -0.153       0.020\n",
       "NumPages                 -0.0012      0.002     -0.491      0.624      -0.006       0.004\n",
       "==============================================================================\n",
       "Omnibus:                      121.423   Durbin-Watson:                   2.118\n",
       "Prob(Omnibus):                  0.000   Jarque-Bera (JB):             1675.391\n",
       "Skew:                           1.177   Prob(JB):                         0.00\n",
       "Kurtosis:                      14.068   Cond. No.                     2.67e+03\n",
       "==============================================================================\n",
       "\n",
       "Notes:\n",
       "[1] Standard Errors assume that the covariance matrix of the errors is correctly specified.\n",
       "[2] The condition number is large, 2.67e+03. This might indicate that there are\n",
       "strong multicollinearity or other numerical problems.\n",
       "\"\"\""
      ]
     },
     "execution_count": 30,
     "metadata": {},
     "output_type": "execute_result"
    }
   ],
   "source": [
    "fit_model2 = smf.ols(formula='Q(\"Amazon Price\") ~ Q(\"List Price\") + Thick + Weight_oz + NumPages + C(Hard_or_Paper)', \n",
    "                     data=amazonbooks).fit()\n",
    "fit_model2.summary()"
   ]
  },
  {
   "cell_type": "code",
   "execution_count": 32,
   "id": "bc3c89ce",
   "metadata": {},
   "outputs": [
    {
     "data": {
      "text/plain": [
       "'Q(\"Amazon Price\") ~ Q(\"List Price\") + Height + Width + C(Hard_or_Paper)'"
      ]
     },
     "execution_count": 32,
     "metadata": {},
     "output_type": "execute_result"
    }
   ],
   "source": [
    "fit_model.model.formula"
   ]
  },
  {
   "cell_type": "code",
   "execution_count": 31,
   "id": "d3864e3d",
   "metadata": {},
   "outputs": [
    {
     "data": {
      "text/plain": [
       "'Q(\"Amazon Price\") ~ Q(\"List Price\") + Thick + Weight_oz + NumPages + C(Hard_or_Paper)'"
      ]
     },
     "execution_count": 31,
     "metadata": {},
     "output_type": "execute_result"
    }
   ],
   "source": [
    "fit_model2.model.formula"
   ]
  },
  {
   "cell_type": "markdown",
   "id": "e61f660f",
   "metadata": {},
   "source": [
    "![](https://www.jcpcarchives.org/userfiles/values-of-p-Inference.jpg)"
   ]
  },
  {
   "cell_type": "code",
   "execution_count": 33,
   "id": "29237bd9",
   "metadata": {},
   "outputs": [
    {
     "data": {
      "text/html": [
       "<table class=\"simpletable\">\n",
       "<caption>OLS Regression Results</caption>\n",
       "<tr>\n",
       "  <th>Dep. Variable:</th>    <td>Q(\"Amazon Price\")</td> <th>  R-squared:         </th> <td>   0.921</td> \n",
       "</tr>\n",
       "<tr>\n",
       "  <th>Model:</th>                   <td>OLS</td>        <th>  Adj. R-squared:    </th> <td>   0.920</td> \n",
       "</tr>\n",
       "<tr>\n",
       "  <th>Method:</th>             <td>Least Squares</td>   <th>  F-statistic:       </th> <td>   902.3</td> \n",
       "</tr>\n",
       "<tr>\n",
       "  <th>Date:</th>             <td>Mon, 08 May 2023</td>  <th>  Prob (F-statistic):</th> <td>2.37e-169</td>\n",
       "</tr>\n",
       "<tr>\n",
       "  <th>Time:</th>                 <td>14:38:55</td>      <th>  Log-Likelihood:    </th> <td> -816.27</td> \n",
       "</tr>\n",
       "<tr>\n",
       "  <th>No. Observations:</th>      <td>   315</td>       <th>  AIC:               </th> <td>   1643.</td> \n",
       "</tr>\n",
       "<tr>\n",
       "  <th>Df Residuals:</th>          <td>   310</td>       <th>  BIC:               </th> <td>   1661.</td> \n",
       "</tr>\n",
       "<tr>\n",
       "  <th>Df Model:</th>              <td>     4</td>       <th>                     </th>     <td> </td>    \n",
       "</tr>\n",
       "<tr>\n",
       "  <th>Covariance Type:</th>      <td>nonrobust</td>     <th>                     </th>     <td> </td>    \n",
       "</tr>\n",
       "</table>\n",
       "<table class=\"simpletable\">\n",
       "<tr>\n",
       "            <td></td>               <th>coef</th>     <th>std err</th>      <th>t</th>      <th>P>|t|</th>  <th>[0.025</th>    <th>0.975]</th>  \n",
       "</tr>\n",
       "<tr>\n",
       "  <th>Intercept</th>             <td>   -0.6885</td> <td>    0.736</td> <td>   -0.935</td> <td> 0.350</td> <td>   -2.137</td> <td>    0.760</td>\n",
       "</tr>\n",
       "<tr>\n",
       "  <th>C(Hard_or_Paper)[T.P]</th> <td>    1.1079</td> <td>    0.450</td> <td>    2.463</td> <td> 0.014</td> <td>    0.223</td> <td>    1.993</td>\n",
       "</tr>\n",
       "<tr>\n",
       "  <th>Q(\"List Price\")</th>       <td>    0.8540</td> <td>    0.016</td> <td>   54.641</td> <td> 0.000</td> <td>    0.823</td> <td>    0.885</td>\n",
       "</tr>\n",
       "<tr>\n",
       "  <th>Thick</th>                 <td>   -2.3027</td> <td>    0.737</td> <td>   -3.124</td> <td> 0.002</td> <td>   -3.753</td> <td>   -0.853</td>\n",
       "</tr>\n",
       "<tr>\n",
       "  <th>Weight_oz</th>             <td>   -0.0672</td> <td>    0.043</td> <td>   -1.580</td> <td> 0.115</td> <td>   -0.151</td> <td>    0.016</td>\n",
       "</tr>\n",
       "</table>\n",
       "<table class=\"simpletable\">\n",
       "<tr>\n",
       "  <th>Omnibus:</th>       <td>122.742</td> <th>  Durbin-Watson:     </th> <td>   2.114</td>\n",
       "</tr>\n",
       "<tr>\n",
       "  <th>Prob(Omnibus):</th> <td> 0.000</td>  <th>  Jarque-Bera (JB):  </th> <td>1760.075</td>\n",
       "</tr>\n",
       "<tr>\n",
       "  <th>Skew:</th>          <td> 1.178</td>  <th>  Prob(JB):          </th> <td>    0.00</td>\n",
       "</tr>\n",
       "<tr>\n",
       "  <th>Kurtosis:</th>      <td>14.338</td>  <th>  Cond. No.          </th> <td>    132.</td>\n",
       "</tr>\n",
       "</table><br/><br/>Notes:<br/>[1] Standard Errors assume that the covariance matrix of the errors is correctly specified."
      ],
      "text/plain": [
       "<class 'statsmodels.iolib.summary.Summary'>\n",
       "\"\"\"\n",
       "                            OLS Regression Results                            \n",
       "==============================================================================\n",
       "Dep. Variable:      Q(\"Amazon Price\")   R-squared:                       0.921\n",
       "Model:                            OLS   Adj. R-squared:                  0.920\n",
       "Method:                 Least Squares   F-statistic:                     902.3\n",
       "Date:                Mon, 08 May 2023   Prob (F-statistic):          2.37e-169\n",
       "Time:                        14:38:55   Log-Likelihood:                -816.27\n",
       "No. Observations:                 315   AIC:                             1643.\n",
       "Df Residuals:                     310   BIC:                             1661.\n",
       "Df Model:                           4                                         \n",
       "Covariance Type:            nonrobust                                         \n",
       "=========================================================================================\n",
       "                            coef    std err          t      P>|t|      [0.025      0.975]\n",
       "-----------------------------------------------------------------------------------------\n",
       "Intercept                -0.6885      0.736     -0.935      0.350      -2.137       0.760\n",
       "C(Hard_or_Paper)[T.P]     1.1079      0.450      2.463      0.014       0.223       1.993\n",
       "Q(\"List Price\")           0.8540      0.016     54.641      0.000       0.823       0.885\n",
       "Thick                    -2.3027      0.737     -3.124      0.002      -3.753      -0.853\n",
       "Weight_oz                -0.0672      0.043     -1.580      0.115      -0.151       0.016\n",
       "==============================================================================\n",
       "Omnibus:                      122.742   Durbin-Watson:                   2.114\n",
       "Prob(Omnibus):                  0.000   Jarque-Bera (JB):             1760.075\n",
       "Skew:                           1.178   Prob(JB):                         0.00\n",
       "Kurtosis:                      14.338   Cond. No.                         132.\n",
       "==============================================================================\n",
       "\n",
       "Notes:\n",
       "[1] Standard Errors assume that the covariance matrix of the errors is correctly specified.\n",
       "\"\"\""
      ]
     },
     "execution_count": 33,
     "metadata": {},
     "output_type": "execute_result"
    }
   ],
   "source": [
    "fit_model3 = smf.ols(formula='Q(\"Amazon Price\") ~ Q(\"List Price\") + Thick + Weight_oz + C(Hard_or_Paper)', \n",
    "                     data=amazonbooks).fit()\n",
    "fit_model3.summary()"
   ]
  },
  {
   "cell_type": "code",
   "execution_count": 34,
   "id": "215736e0",
   "metadata": {},
   "outputs": [
    {
     "data": {
      "text/html": [
       "<table class=\"simpletable\">\n",
       "<caption>OLS Regression Results</caption>\n",
       "<tr>\n",
       "  <th>Dep. Variable:</th>    <td>Q(\"Amazon Price\")</td> <th>  R-squared:         </th> <td>   0.923</td> \n",
       "</tr>\n",
       "<tr>\n",
       "  <th>Model:</th>                   <td>OLS</td>        <th>  Adj. R-squared:    </th> <td>   0.923</td> \n",
       "</tr>\n",
       "<tr>\n",
       "  <th>Method:</th>             <td>Least Squares</td>   <th>  F-statistic:       </th> <td>   1280.</td> \n",
       "</tr>\n",
       "<tr>\n",
       "  <th>Date:</th>             <td>Mon, 08 May 2023</td>  <th>  Prob (F-statistic):</th> <td>1.93e-177</td>\n",
       "</tr>\n",
       "<tr>\n",
       "  <th>Time:</th>                 <td>14:39:29</td>      <th>  Log-Likelihood:    </th> <td> -855.77</td> \n",
       "</tr>\n",
       "<tr>\n",
       "  <th>No. Observations:</th>      <td>   323</td>       <th>  AIC:               </th> <td>   1720.</td> \n",
       "</tr>\n",
       "<tr>\n",
       "  <th>Df Residuals:</th>          <td>   319</td>       <th>  BIC:               </th> <td>   1735.</td> \n",
       "</tr>\n",
       "<tr>\n",
       "  <th>Df Model:</th>              <td>     3</td>       <th>                     </th>     <td> </td>    \n",
       "</tr>\n",
       "<tr>\n",
       "  <th>Covariance Type:</th>      <td>nonrobust</td>     <th>                     </th>     <td> </td>    \n",
       "</tr>\n",
       "</table>\n",
       "<table class=\"simpletable\">\n",
       "<tr>\n",
       "            <td></td>               <th>coef</th>     <th>std err</th>      <th>t</th>      <th>P>|t|</th>  <th>[0.025</th>    <th>0.975]</th>  \n",
       "</tr>\n",
       "<tr>\n",
       "  <th>Intercept</th>             <td>   -1.0255</td> <td>    0.766</td> <td>   -1.339</td> <td> 0.181</td> <td>   -2.532</td> <td>    0.481</td>\n",
       "</tr>\n",
       "<tr>\n",
       "  <th>C(Hard_or_Paper)[T.P]</th> <td>    1.1440</td> <td>    0.464</td> <td>    2.464</td> <td> 0.014</td> <td>    0.231</td> <td>    2.057</td>\n",
       "</tr>\n",
       "<tr>\n",
       "  <th>Q(\"List Price\")</th>       <td>    0.8663</td> <td>    0.014</td> <td>   61.780</td> <td> 0.000</td> <td>    0.839</td> <td>    0.894</td>\n",
       "</tr>\n",
       "<tr>\n",
       "  <th>Thick</th>                 <td>   -3.1085</td> <td>    0.561</td> <td>   -5.541</td> <td> 0.000</td> <td>   -4.212</td> <td>   -2.005</td>\n",
       "</tr>\n",
       "</table>\n",
       "<table class=\"simpletable\">\n",
       "<tr>\n",
       "  <th>Omnibus:</th>       <td>101.699</td> <th>  Durbin-Watson:     </th> <td>   2.083</td> \n",
       "</tr>\n",
       "<tr>\n",
       "  <th>Prob(Omnibus):</th> <td> 0.000</td>  <th>  Jarque-Bera (JB):  </th> <td>1295.817</td> \n",
       "</tr>\n",
       "<tr>\n",
       "  <th>Skew:</th>          <td> 0.897</td>  <th>  Prob(JB):          </th> <td>4.14e-282</td>\n",
       "</tr>\n",
       "<tr>\n",
       "  <th>Kurtosis:</th>      <td>12.647</td>  <th>  Cond. No.          </th> <td>    115.</td> \n",
       "</tr>\n",
       "</table><br/><br/>Notes:<br/>[1] Standard Errors assume that the covariance matrix of the errors is correctly specified."
      ],
      "text/plain": [
       "<class 'statsmodels.iolib.summary.Summary'>\n",
       "\"\"\"\n",
       "                            OLS Regression Results                            \n",
       "==============================================================================\n",
       "Dep. Variable:      Q(\"Amazon Price\")   R-squared:                       0.923\n",
       "Model:                            OLS   Adj. R-squared:                  0.923\n",
       "Method:                 Least Squares   F-statistic:                     1280.\n",
       "Date:                Mon, 08 May 2023   Prob (F-statistic):          1.93e-177\n",
       "Time:                        14:39:29   Log-Likelihood:                -855.77\n",
       "No. Observations:                 323   AIC:                             1720.\n",
       "Df Residuals:                     319   BIC:                             1735.\n",
       "Df Model:                           3                                         \n",
       "Covariance Type:            nonrobust                                         \n",
       "=========================================================================================\n",
       "                            coef    std err          t      P>|t|      [0.025      0.975]\n",
       "-----------------------------------------------------------------------------------------\n",
       "Intercept                -1.0255      0.766     -1.339      0.181      -2.532       0.481\n",
       "C(Hard_or_Paper)[T.P]     1.1440      0.464      2.464      0.014       0.231       2.057\n",
       "Q(\"List Price\")           0.8663      0.014     61.780      0.000       0.839       0.894\n",
       "Thick                    -3.1085      0.561     -5.541      0.000      -4.212      -2.005\n",
       "==============================================================================\n",
       "Omnibus:                      101.699   Durbin-Watson:                   2.083\n",
       "Prob(Omnibus):                  0.000   Jarque-Bera (JB):             1295.817\n",
       "Skew:                           0.897   Prob(JB):                    4.14e-282\n",
       "Kurtosis:                      12.647   Cond. No.                         115.\n",
       "==============================================================================\n",
       "\n",
       "Notes:\n",
       "[1] Standard Errors assume that the covariance matrix of the errors is correctly specified.\n",
       "\"\"\""
      ]
     },
     "execution_count": 34,
     "metadata": {},
     "output_type": "execute_result"
    }
   ],
   "source": [
    "fit_model4 = smf.ols(formula='Q(\"Amazon Price\") ~ Q(\"List Price\") + Thick + C(Hard_or_Paper)', \n",
    "                     data=amazonbooks).fit()\n",
    "fit_model4.summary()"
   ]
  },
  {
   "cell_type": "code",
   "execution_count": 35,
   "id": "b8ddba14",
   "metadata": {},
   "outputs": [
    {
     "data": {
      "text/plain": [
       "'Q(\"Amazon Price\") ~ Q(\"List Price\") + Thick + C(Hard_or_Paper)'"
      ]
     },
     "execution_count": 35,
     "metadata": {},
     "output_type": "execute_result"
    }
   ],
   "source": [
    "fit_model4.model.formula"
   ]
  },
  {
   "cell_type": "markdown",
   "id": "7260d89f",
   "metadata": {},
   "source": [
    "$$AmazonPrice =  \\enclose{horizontalstrike}{\\beta_0}0 + \\beta_L ListPrice + \\beta_T Thick + \\beta_P I(Hard\\_or\\_Paper==P) + \\beta_P I(Hard\\_or\\_Paper==H)$$"
   ]
  },
  {
   "cell_type": "markdown",
   "id": "05af0023",
   "metadata": {},
   "source": [
    "Using the `-1` notation in the formula didn't actually quite do what I wanted!\n",
    "I wanted to have not intercept and just an indicator of paperback, like this (as opposed to the above):\n",
    "\n",
    "$$AmazonPrice =  \\enclose{horizontalstrike}{\\beta_0}0 + \\beta_L ListPrice + \\beta_T Thick + \\beta_P I(Hard\\_or\\_Paper==P)$$"
   ]
  },
  {
   "cell_type": "code",
   "execution_count": 36,
   "id": "c1489075",
   "metadata": {},
   "outputs": [
    {
     "data": {
      "text/html": [
       "<table class=\"simpletable\">\n",
       "<caption>OLS Regression Results</caption>\n",
       "<tr>\n",
       "  <th>Dep. Variable:</th>    <td>Q(\"Amazon Price\")</td> <th>  R-squared:         </th> <td>   0.923</td> \n",
       "</tr>\n",
       "<tr>\n",
       "  <th>Model:</th>                   <td>OLS</td>        <th>  Adj. R-squared:    </th> <td>   0.923</td> \n",
       "</tr>\n",
       "<tr>\n",
       "  <th>Method:</th>             <td>Least Squares</td>   <th>  F-statistic:       </th> <td>   1280.</td> \n",
       "</tr>\n",
       "<tr>\n",
       "  <th>Date:</th>             <td>Mon, 08 May 2023</td>  <th>  Prob (F-statistic):</th> <td>1.93e-177</td>\n",
       "</tr>\n",
       "<tr>\n",
       "  <th>Time:</th>                 <td>14:48:23</td>      <th>  Log-Likelihood:    </th> <td> -855.77</td> \n",
       "</tr>\n",
       "<tr>\n",
       "  <th>No. Observations:</th>      <td>   323</td>       <th>  AIC:               </th> <td>   1720.</td> \n",
       "</tr>\n",
       "<tr>\n",
       "  <th>Df Residuals:</th>          <td>   319</td>       <th>  BIC:               </th> <td>   1735.</td> \n",
       "</tr>\n",
       "<tr>\n",
       "  <th>Df Model:</th>              <td>     3</td>       <th>                     </th>     <td> </td>    \n",
       "</tr>\n",
       "<tr>\n",
       "  <th>Covariance Type:</th>      <td>nonrobust</td>     <th>                     </th>     <td> </td>    \n",
       "</tr>\n",
       "</table>\n",
       "<table class=\"simpletable\">\n",
       "<tr>\n",
       "           <td></td>              <th>coef</th>     <th>std err</th>      <th>t</th>      <th>P>|t|</th>  <th>[0.025</th>    <th>0.975]</th>  \n",
       "</tr>\n",
       "<tr>\n",
       "  <th>C(Hard_or_Paper)[H]</th> <td>   -1.0255</td> <td>    0.766</td> <td>   -1.339</td> <td> 0.181</td> <td>   -2.532</td> <td>    0.481</td>\n",
       "</tr>\n",
       "<tr>\n",
       "  <th>C(Hard_or_Paper)[P]</th> <td>    0.1185</td> <td>    0.547</td> <td>    0.217</td> <td> 0.829</td> <td>   -0.958</td> <td>    1.195</td>\n",
       "</tr>\n",
       "<tr>\n",
       "  <th>Q(\"List Price\")</th>     <td>    0.8663</td> <td>    0.014</td> <td>   61.780</td> <td> 0.000</td> <td>    0.839</td> <td>    0.894</td>\n",
       "</tr>\n",
       "<tr>\n",
       "  <th>Thick</th>               <td>   -3.1085</td> <td>    0.561</td> <td>   -5.541</td> <td> 0.000</td> <td>   -4.212</td> <td>   -2.005</td>\n",
       "</tr>\n",
       "</table>\n",
       "<table class=\"simpletable\">\n",
       "<tr>\n",
       "  <th>Omnibus:</th>       <td>101.699</td> <th>  Durbin-Watson:     </th> <td>   2.083</td> \n",
       "</tr>\n",
       "<tr>\n",
       "  <th>Prob(Omnibus):</th> <td> 0.000</td>  <th>  Jarque-Bera (JB):  </th> <td>1295.817</td> \n",
       "</tr>\n",
       "<tr>\n",
       "  <th>Skew:</th>          <td> 0.897</td>  <th>  Prob(JB):          </th> <td>4.14e-282</td>\n",
       "</tr>\n",
       "<tr>\n",
       "  <th>Kurtosis:</th>      <td>12.647</td>  <th>  Cond. No.          </th> <td>    123.</td> \n",
       "</tr>\n",
       "</table><br/><br/>Notes:<br/>[1] Standard Errors assume that the covariance matrix of the errors is correctly specified."
      ],
      "text/plain": [
       "<class 'statsmodels.iolib.summary.Summary'>\n",
       "\"\"\"\n",
       "                            OLS Regression Results                            \n",
       "==============================================================================\n",
       "Dep. Variable:      Q(\"Amazon Price\")   R-squared:                       0.923\n",
       "Model:                            OLS   Adj. R-squared:                  0.923\n",
       "Method:                 Least Squares   F-statistic:                     1280.\n",
       "Date:                Mon, 08 May 2023   Prob (F-statistic):          1.93e-177\n",
       "Time:                        14:48:23   Log-Likelihood:                -855.77\n",
       "No. Observations:                 323   AIC:                             1720.\n",
       "Df Residuals:                     319   BIC:                             1735.\n",
       "Df Model:                           3                                         \n",
       "Covariance Type:            nonrobust                                         \n",
       "=======================================================================================\n",
       "                          coef    std err          t      P>|t|      [0.025      0.975]\n",
       "---------------------------------------------------------------------------------------\n",
       "C(Hard_or_Paper)[H]    -1.0255      0.766     -1.339      0.181      -2.532       0.481\n",
       "C(Hard_or_Paper)[P]     0.1185      0.547      0.217      0.829      -0.958       1.195\n",
       "Q(\"List Price\")         0.8663      0.014     61.780      0.000       0.839       0.894\n",
       "Thick                  -3.1085      0.561     -5.541      0.000      -4.212      -2.005\n",
       "==============================================================================\n",
       "Omnibus:                      101.699   Durbin-Watson:                   2.083\n",
       "Prob(Omnibus):                  0.000   Jarque-Bera (JB):             1295.817\n",
       "Skew:                           0.897   Prob(JB):                    4.14e-282\n",
       "Kurtosis:                      12.647   Cond. No.                         123.\n",
       "==============================================================================\n",
       "\n",
       "Notes:\n",
       "[1] Standard Errors assume that the covariance matrix of the errors is correctly specified.\n",
       "\"\"\""
      ]
     },
     "execution_count": 36,
     "metadata": {},
     "output_type": "execute_result"
    }
   ],
   "source": [
    "fit_model5 = smf.ols(formula='Q(\"Amazon Price\") ~ -1 + Q(\"List Price\") + Thick + C(Hard_or_Paper)', \n",
    "                     data=amazonbooks).fit()\n",
    "fit_model5.summary()"
   ]
  },
  {
   "cell_type": "code",
   "execution_count": 38,
   "id": "07098a10",
   "metadata": {},
   "outputs": [
    {
     "data": {
      "text/plain": [
       "'Q(\"Amazon Price\") ~ Q(\"List Price\") + Thick + C(Hard_or_Paper)'"
      ]
     },
     "execution_count": 38,
     "metadata": {},
     "output_type": "execute_result"
    }
   ],
   "source": [
    "fit_model4.model.formula"
   ]
  },
  {
   "cell_type": "code",
   "execution_count": 39,
   "id": "77447934",
   "metadata": {},
   "outputs": [
    {
     "data": {
      "text/html": [
       "<table class=\"simpletable\">\n",
       "<caption>OLS Regression Results</caption>\n",
       "<tr>\n",
       "  <th>Dep. Variable:</th>    <td>Q(\"Amazon Price\")</td> <th>  R-squared:         </th> <td>   0.923</td> \n",
       "</tr>\n",
       "<tr>\n",
       "  <th>Model:</th>                   <td>OLS</td>        <th>  Adj. R-squared:    </th> <td>   0.923</td> \n",
       "</tr>\n",
       "<tr>\n",
       "  <th>Method:</th>             <td>Least Squares</td>   <th>  F-statistic:       </th> <td>   1280.</td> \n",
       "</tr>\n",
       "<tr>\n",
       "  <th>Date:</th>             <td>Mon, 08 May 2023</td>  <th>  Prob (F-statistic):</th> <td>1.93e-177</td>\n",
       "</tr>\n",
       "<tr>\n",
       "  <th>Time:</th>                 <td>14:50:22</td>      <th>  Log-Likelihood:    </th> <td> -855.77</td> \n",
       "</tr>\n",
       "<tr>\n",
       "  <th>No. Observations:</th>      <td>   323</td>       <th>  AIC:               </th> <td>   1720.</td> \n",
       "</tr>\n",
       "<tr>\n",
       "  <th>Df Residuals:</th>          <td>   319</td>       <th>  BIC:               </th> <td>   1735.</td> \n",
       "</tr>\n",
       "<tr>\n",
       "  <th>Df Model:</th>              <td>     3</td>       <th>                     </th>     <td> </td>    \n",
       "</tr>\n",
       "<tr>\n",
       "  <th>Covariance Type:</th>      <td>nonrobust</td>     <th>                     </th>     <td> </td>    \n",
       "</tr>\n",
       "</table>\n",
       "<table class=\"simpletable\">\n",
       "<tr>\n",
       "            <td></td>               <th>coef</th>     <th>std err</th>      <th>t</th>      <th>P>|t|</th>  <th>[0.025</th>    <th>0.975]</th>  \n",
       "</tr>\n",
       "<tr>\n",
       "  <th>Intercept</th>             <td>   -1.0255</td> <td>    0.766</td> <td>   -1.339</td> <td> 0.181</td> <td>   -2.532</td> <td>    0.481</td>\n",
       "</tr>\n",
       "<tr>\n",
       "  <th>C(Hard_or_Paper)[T.P]</th> <td>    1.1440</td> <td>    0.464</td> <td>    2.464</td> <td> 0.014</td> <td>    0.231</td> <td>    2.057</td>\n",
       "</tr>\n",
       "<tr>\n",
       "  <th>Q(\"List Price\")</th>       <td>    0.8663</td> <td>    0.014</td> <td>   61.780</td> <td> 0.000</td> <td>    0.839</td> <td>    0.894</td>\n",
       "</tr>\n",
       "<tr>\n",
       "  <th>Thick</th>                 <td>   -3.1085</td> <td>    0.561</td> <td>   -5.541</td> <td> 0.000</td> <td>   -4.212</td> <td>   -2.005</td>\n",
       "</tr>\n",
       "</table>\n",
       "<table class=\"simpletable\">\n",
       "<tr>\n",
       "  <th>Omnibus:</th>       <td>101.699</td> <th>  Durbin-Watson:     </th> <td>   2.083</td> \n",
       "</tr>\n",
       "<tr>\n",
       "  <th>Prob(Omnibus):</th> <td> 0.000</td>  <th>  Jarque-Bera (JB):  </th> <td>1295.817</td> \n",
       "</tr>\n",
       "<tr>\n",
       "  <th>Skew:</th>          <td> 0.897</td>  <th>  Prob(JB):          </th> <td>4.14e-282</td>\n",
       "</tr>\n",
       "<tr>\n",
       "  <th>Kurtosis:</th>      <td>12.647</td>  <th>  Cond. No.          </th> <td>    115.</td> \n",
       "</tr>\n",
       "</table><br/><br/>Notes:<br/>[1] Standard Errors assume that the covariance matrix of the errors is correctly specified."
      ],
      "text/plain": [
       "<class 'statsmodels.iolib.summary.Summary'>\n",
       "\"\"\"\n",
       "                            OLS Regression Results                            \n",
       "==============================================================================\n",
       "Dep. Variable:      Q(\"Amazon Price\")   R-squared:                       0.923\n",
       "Model:                            OLS   Adj. R-squared:                  0.923\n",
       "Method:                 Least Squares   F-statistic:                     1280.\n",
       "Date:                Mon, 08 May 2023   Prob (F-statistic):          1.93e-177\n",
       "Time:                        14:50:22   Log-Likelihood:                -855.77\n",
       "No. Observations:                 323   AIC:                             1720.\n",
       "Df Residuals:                     319   BIC:                             1735.\n",
       "Df Model:                           3                                         \n",
       "Covariance Type:            nonrobust                                         \n",
       "=========================================================================================\n",
       "                            coef    std err          t      P>|t|      [0.025      0.975]\n",
       "-----------------------------------------------------------------------------------------\n",
       "Intercept                -1.0255      0.766     -1.339      0.181      -2.532       0.481\n",
       "C(Hard_or_Paper)[T.P]     1.1440      0.464      2.464      0.014       0.231       2.057\n",
       "Q(\"List Price\")           0.8663      0.014     61.780      0.000       0.839       0.894\n",
       "Thick                    -3.1085      0.561     -5.541      0.000      -4.212      -2.005\n",
       "==============================================================================\n",
       "Omnibus:                      101.699   Durbin-Watson:                   2.083\n",
       "Prob(Omnibus):                  0.000   Jarque-Bera (JB):             1295.817\n",
       "Skew:                           0.897   Prob(JB):                    4.14e-282\n",
       "Kurtosis:                      12.647   Cond. No.                         115.\n",
       "==============================================================================\n",
       "\n",
       "Notes:\n",
       "[1] Standard Errors assume that the covariance matrix of the errors is correctly specified.\n",
       "\"\"\""
      ]
     },
     "execution_count": 39,
     "metadata": {},
     "output_type": "execute_result"
    }
   ],
   "source": [
    "fit_model4.summary()"
   ]
  },
  {
   "cell_type": "code",
   "execution_count": 40,
   "id": "7ea442ce",
   "metadata": {},
   "outputs": [
    {
     "data": {
      "text/html": [
       "<table class=\"simpletable\">\n",
       "<caption>OLS Regression Results</caption>\n",
       "<tr>\n",
       "  <th>Dep. Variable:</th>    <td>Q(\"Amazon Price\")</td> <th>  R-squared:         </th> <td>   0.923</td> \n",
       "</tr>\n",
       "<tr>\n",
       "  <th>Model:</th>                   <td>OLS</td>        <th>  Adj. R-squared:    </th> <td>   0.923</td> \n",
       "</tr>\n",
       "<tr>\n",
       "  <th>Method:</th>             <td>Least Squares</td>   <th>  F-statistic:       </th> <td>   1280.</td> \n",
       "</tr>\n",
       "<tr>\n",
       "  <th>Date:</th>             <td>Mon, 08 May 2023</td>  <th>  Prob (F-statistic):</th> <td>1.93e-177</td>\n",
       "</tr>\n",
       "<tr>\n",
       "  <th>Time:</th>                 <td>14:57:02</td>      <th>  Log-Likelihood:    </th> <td> -855.77</td> \n",
       "</tr>\n",
       "<tr>\n",
       "  <th>No. Observations:</th>      <td>   323</td>       <th>  AIC:               </th> <td>   1720.</td> \n",
       "</tr>\n",
       "<tr>\n",
       "  <th>Df Residuals:</th>          <td>   319</td>       <th>  BIC:               </th> <td>   1735.</td> \n",
       "</tr>\n",
       "<tr>\n",
       "  <th>Df Model:</th>              <td>     3</td>       <th>                     </th>     <td> </td>    \n",
       "</tr>\n",
       "<tr>\n",
       "  <th>Covariance Type:</th>      <td>nonrobust</td>     <th>                     </th>     <td> </td>    \n",
       "</tr>\n",
       "</table>\n",
       "<table class=\"simpletable\">\n",
       "<tr>\n",
       "               <td></td>                  <th>coef</th>     <th>std err</th>      <th>t</th>      <th>P>|t|</th>  <th>[0.025</th>    <th>0.975]</th>  \n",
       "</tr>\n",
       "<tr>\n",
       "  <th>Hard_or_Paper == \"P\"[False]</th> <td>   -1.0255</td> <td>    0.766</td> <td>   -1.339</td> <td> 0.181</td> <td>   -2.532</td> <td>    0.481</td>\n",
       "</tr>\n",
       "<tr>\n",
       "  <th>Hard_or_Paper == \"P\"[True]</th>  <td>    0.1185</td> <td>    0.547</td> <td>    0.217</td> <td> 0.829</td> <td>   -0.958</td> <td>    1.195</td>\n",
       "</tr>\n",
       "<tr>\n",
       "  <th>Q(\"List Price\")</th>             <td>    0.8663</td> <td>    0.014</td> <td>   61.780</td> <td> 0.000</td> <td>    0.839</td> <td>    0.894</td>\n",
       "</tr>\n",
       "<tr>\n",
       "  <th>Thick</th>                       <td>   -3.1085</td> <td>    0.561</td> <td>   -5.541</td> <td> 0.000</td> <td>   -4.212</td> <td>   -2.005</td>\n",
       "</tr>\n",
       "</table>\n",
       "<table class=\"simpletable\">\n",
       "<tr>\n",
       "  <th>Omnibus:</th>       <td>101.699</td> <th>  Durbin-Watson:     </th> <td>   2.083</td> \n",
       "</tr>\n",
       "<tr>\n",
       "  <th>Prob(Omnibus):</th> <td> 0.000</td>  <th>  Jarque-Bera (JB):  </th> <td>1295.817</td> \n",
       "</tr>\n",
       "<tr>\n",
       "  <th>Skew:</th>          <td> 0.897</td>  <th>  Prob(JB):          </th> <td>4.14e-282</td>\n",
       "</tr>\n",
       "<tr>\n",
       "  <th>Kurtosis:</th>      <td>12.647</td>  <th>  Cond. No.          </th> <td>    123.</td> \n",
       "</tr>\n",
       "</table><br/><br/>Notes:<br/>[1] Standard Errors assume that the covariance matrix of the errors is correctly specified."
      ],
      "text/plain": [
       "<class 'statsmodels.iolib.summary.Summary'>\n",
       "\"\"\"\n",
       "                            OLS Regression Results                            \n",
       "==============================================================================\n",
       "Dep. Variable:      Q(\"Amazon Price\")   R-squared:                       0.923\n",
       "Model:                            OLS   Adj. R-squared:                  0.923\n",
       "Method:                 Least Squares   F-statistic:                     1280.\n",
       "Date:                Mon, 08 May 2023   Prob (F-statistic):          1.93e-177\n",
       "Time:                        14:57:02   Log-Likelihood:                -855.77\n",
       "No. Observations:                 323   AIC:                             1720.\n",
       "Df Residuals:                     319   BIC:                             1735.\n",
       "Df Model:                           3                                         \n",
       "Covariance Type:            nonrobust                                         \n",
       "===============================================================================================\n",
       "                                  coef    std err          t      P>|t|      [0.025      0.975]\n",
       "-----------------------------------------------------------------------------------------------\n",
       "Hard_or_Paper == \"P\"[False]    -1.0255      0.766     -1.339      0.181      -2.532       0.481\n",
       "Hard_or_Paper == \"P\"[True]      0.1185      0.547      0.217      0.829      -0.958       1.195\n",
       "Q(\"List Price\")                 0.8663      0.014     61.780      0.000       0.839       0.894\n",
       "Thick                          -3.1085      0.561     -5.541      0.000      -4.212      -2.005\n",
       "==============================================================================\n",
       "Omnibus:                      101.699   Durbin-Watson:                   2.083\n",
       "Prob(Omnibus):                  0.000   Jarque-Bera (JB):             1295.817\n",
       "Skew:                           0.897   Prob(JB):                    4.14e-282\n",
       "Kurtosis:                      12.647   Cond. No.                         123.\n",
       "==============================================================================\n",
       "\n",
       "Notes:\n",
       "[1] Standard Errors assume that the covariance matrix of the errors is correctly specified.\n",
       "\"\"\""
      ]
     },
     "execution_count": 40,
     "metadata": {},
     "output_type": "execute_result"
    }
   ],
   "source": [
    "fit_model6 = smf.ols(formula='Q(\"Amazon Price\") ~ -1 + Q(\"List Price\") + Thick + (Hard_or_Paper==\"P\")', \n",
    "                     data=amazonbooks).fit()\n",
    "fit_model6.summary()"
   ]
  },
  {
   "cell_type": "code",
   "execution_count": 116,
   "id": "1ef9c2ed",
   "metadata": {},
   "outputs": [],
   "source": [
    "amazonbooks['Paperback'] = (amazonbooks['Hard_or_Paper']=='P').astype(int)\n",
    "# edit -- I like using hardback better than paperback...\n",
    "# - there's more paperback, so having an indicator of hardback is more like a boost for the smaller book type\n",
    "# - Hardback has a better significance than paperback\n",
    "amazonbooks['Hardback'] = (amazonbooks['Hard_or_Paper']=='H').astype(int)"
   ]
  },
  {
   "cell_type": "code",
   "execution_count": 117,
   "id": "be48402e",
   "metadata": {},
   "outputs": [
    {
     "data": {
      "text/html": [
       "<table class=\"simpletable\">\n",
       "<caption>OLS Regression Results</caption>\n",
       "<tr>\n",
       "  <th>Dep. Variable:</th>    <td>Q(\"Amazon Price\")</td> <th>  R-squared (uncentered):</th>      <td>   0.963</td> \n",
       "</tr>\n",
       "<tr>\n",
       "  <th>Model:</th>                   <td>OLS</td>        <th>  Adj. R-squared (uncentered):</th> <td>   0.963</td> \n",
       "</tr>\n",
       "<tr>\n",
       "  <th>Method:</th>             <td>Least Squares</td>   <th>  F-statistic:       </th>          <td>   2805.</td> \n",
       "</tr>\n",
       "<tr>\n",
       "  <th>Date:</th>             <td>Mon, 08 May 2023</td>  <th>  Prob (F-statistic):</th>          <td>2.37e-229</td>\n",
       "</tr>\n",
       "<tr>\n",
       "  <th>Time:</th>                 <td>15:49:31</td>      <th>  Log-Likelihood:    </th>          <td> -855.79</td> \n",
       "</tr>\n",
       "<tr>\n",
       "  <th>No. Observations:</th>      <td>   323</td>       <th>  AIC:               </th>          <td>   1718.</td> \n",
       "</tr>\n",
       "<tr>\n",
       "  <th>Df Residuals:</th>          <td>   320</td>       <th>  BIC:               </th>          <td>   1729.</td> \n",
       "</tr>\n",
       "<tr>\n",
       "  <th>Df Model:</th>              <td>     3</td>       <th>                     </th>              <td> </td>    \n",
       "</tr>\n",
       "<tr>\n",
       "  <th>Covariance Type:</th>      <td>nonrobust</td>     <th>                     </th>              <td> </td>    \n",
       "</tr>\n",
       "</table>\n",
       "<table class=\"simpletable\">\n",
       "<tr>\n",
       "         <td></td>            <th>coef</th>     <th>std err</th>      <th>t</th>      <th>P>|t|</th>  <th>[0.025</th>    <th>0.975]</th>  \n",
       "</tr>\n",
       "<tr>\n",
       "  <th>Q(\"List Price\")</th> <td>    0.8673</td> <td>    0.013</td> <td>   66.095</td> <td> 0.000</td> <td>    0.842</td> <td>    0.893</td>\n",
       "</tr>\n",
       "<tr>\n",
       "  <th>Thick</th>           <td>   -3.0112</td> <td>    0.336</td> <td>   -8.968</td> <td> 0.000</td> <td>   -3.672</td> <td>   -2.351</td>\n",
       "</tr>\n",
       "<tr>\n",
       "  <th>Hardback</th>        <td>   -1.1581</td> <td>    0.459</td> <td>   -2.523</td> <td> 0.012</td> <td>   -2.061</td> <td>   -0.255</td>\n",
       "</tr>\n",
       "</table>\n",
       "<table class=\"simpletable\">\n",
       "<tr>\n",
       "  <th>Omnibus:</th>       <td>99.007</td> <th>  Durbin-Watson:     </th> <td>   2.079</td> \n",
       "</tr>\n",
       "<tr>\n",
       "  <th>Prob(Omnibus):</th> <td> 0.000</td> <th>  Jarque-Bera (JB):  </th> <td>1262.070</td> \n",
       "</tr>\n",
       "<tr>\n",
       "  <th>Skew:</th>          <td> 0.860</td> <th>  Prob(JB):          </th> <td>8.81e-275</td>\n",
       "</tr>\n",
       "<tr>\n",
       "  <th>Kurtosis:</th>      <td>12.530</td> <th>  Cond. No.          </th> <td>    59.1</td> \n",
       "</tr>\n",
       "</table><br/><br/>Notes:<br/>[1] R² is computed without centering (uncentered) since the model does not contain a constant.<br/>[2] Standard Errors assume that the covariance matrix of the errors is correctly specified."
      ],
      "text/plain": [
       "<class 'statsmodels.iolib.summary.Summary'>\n",
       "\"\"\"\n",
       "                                 OLS Regression Results                                \n",
       "=======================================================================================\n",
       "Dep. Variable:      Q(\"Amazon Price\")   R-squared (uncentered):                   0.963\n",
       "Model:                            OLS   Adj. R-squared (uncentered):              0.963\n",
       "Method:                 Least Squares   F-statistic:                              2805.\n",
       "Date:                Mon, 08 May 2023   Prob (F-statistic):                   2.37e-229\n",
       "Time:                        15:49:31   Log-Likelihood:                         -855.79\n",
       "No. Observations:                 323   AIC:                                      1718.\n",
       "Df Residuals:                     320   BIC:                                      1729.\n",
       "Df Model:                           3                                                  \n",
       "Covariance Type:            nonrobust                                                  \n",
       "===================================================================================\n",
       "                      coef    std err          t      P>|t|      [0.025      0.975]\n",
       "-----------------------------------------------------------------------------------\n",
       "Q(\"List Price\")     0.8673      0.013     66.095      0.000       0.842       0.893\n",
       "Thick              -3.0112      0.336     -8.968      0.000      -3.672      -2.351\n",
       "Hardback           -1.1581      0.459     -2.523      0.012      -2.061      -0.255\n",
       "==============================================================================\n",
       "Omnibus:                       99.007   Durbin-Watson:                   2.079\n",
       "Prob(Omnibus):                  0.000   Jarque-Bera (JB):             1262.070\n",
       "Skew:                           0.860   Prob(JB):                    8.81e-275\n",
       "Kurtosis:                      12.530   Cond. No.                         59.1\n",
       "==============================================================================\n",
       "\n",
       "Notes:\n",
       "[1] R² is computed without centering (uncentered) since the model does not contain a constant.\n",
       "[2] Standard Errors assume that the covariance matrix of the errors is correctly specified.\n",
       "\"\"\""
      ]
     },
     "execution_count": 117,
     "metadata": {},
     "output_type": "execute_result"
    }
   ],
   "source": [
    "#fit_model7 = smf.ols(formula='Q(\"Amazon Price\") ~ -1 + Q(\"List Price\") + Thick + Paperback', \n",
    "fit_model7 = smf.ols(formula='Q(\"Amazon Price\") ~ -1 + Q(\"List Price\") + Thick + Hardback', \n",
    "                     data=amazonbooks).fit()\n",
    "fit_model7.summary()"
   ]
  },
  {
   "cell_type": "code",
   "execution_count": 118,
   "id": "74f9f77d",
   "metadata": {},
   "outputs": [
    {
     "data": {
      "text/plain": [
       "'Q(\"Amazon Price\") ~ -1 + Q(\"List Price\") + Thick + Hardback'"
      ]
     },
     "execution_count": 118,
     "metadata": {},
     "output_type": "execute_result"
    }
   ],
   "source": [
    "fit_model7.model.formula"
   ]
  },
  {
   "cell_type": "code",
   "execution_count": 119,
   "id": "5c15453a",
   "metadata": {},
   "outputs": [
    {
     "data": {
      "text/html": [
       "<table class=\"simpletable\">\n",
       "<caption>OLS Regression Results</caption>\n",
       "<tr>\n",
       "  <th>Dep. Variable:</th>    <td>Q(\"Amazon Price\")</td> <th>  R-squared:         </th> <td>   0.232</td>\n",
       "</tr>\n",
       "<tr>\n",
       "  <th>Model:</th>                   <td>OLS</td>        <th>  Adj. R-squared:    </th> <td>   0.220</td>\n",
       "</tr>\n",
       "<tr>\n",
       "  <th>Method:</th>             <td>Least Squares</td>   <th>  F-statistic:       </th> <td>   18.62</td>\n",
       "</tr>\n",
       "<tr>\n",
       "  <th>Date:</th>             <td>Mon, 08 May 2023</td>  <th>  Prob (F-statistic):</th> <td>3.62e-16</td>\n",
       "</tr>\n",
       "<tr>\n",
       "  <th>Time:</th>                 <td>15:49:35</td>      <th>  Log-Likelihood:    </th> <td> -1208.2</td>\n",
       "</tr>\n",
       "<tr>\n",
       "  <th>No. Observations:</th>      <td>   314</td>       <th>  AIC:               </th> <td>   2428.</td>\n",
       "</tr>\n",
       "<tr>\n",
       "  <th>Df Residuals:</th>          <td>   308</td>       <th>  BIC:               </th> <td>   2451.</td>\n",
       "</tr>\n",
       "<tr>\n",
       "  <th>Df Model:</th>              <td>     5</td>       <th>                     </th>     <td> </td>   \n",
       "</tr>\n",
       "<tr>\n",
       "  <th>Covariance Type:</th>      <td>nonrobust</td>     <th>                     </th>     <td> </td>   \n",
       "</tr>\n",
       "</table>\n",
       "<table class=\"simpletable\">\n",
       "<tr>\n",
       "      <td></td>         <th>coef</th>     <th>std err</th>      <th>t</th>      <th>P>|t|</th>  <th>[0.025</th>    <th>0.975]</th>  \n",
       "</tr>\n",
       "<tr>\n",
       "  <th>Intercept</th> <td>  -33.6768</td> <td>    8.112</td> <td>   -4.152</td> <td> 0.000</td> <td>  -49.638</td> <td>  -17.716</td>\n",
       "</tr>\n",
       "<tr>\n",
       "  <th>Thick</th>     <td>   -6.3227</td> <td>    2.771</td> <td>   -2.282</td> <td> 0.023</td> <td>  -11.775</td> <td>   -0.870</td>\n",
       "</tr>\n",
       "<tr>\n",
       "  <th>Weight_oz</th> <td>    0.4550</td> <td>    0.166</td> <td>    2.741</td> <td> 0.006</td> <td>    0.128</td> <td>    0.782</td>\n",
       "</tr>\n",
       "<tr>\n",
       "  <th>Height</th>    <td>    3.0343</td> <td>    0.936</td> <td>    3.241</td> <td> 0.001</td> <td>    1.192</td> <td>    4.877</td>\n",
       "</tr>\n",
       "<tr>\n",
       "  <th>Width</th>     <td>    3.5401</td> <td>    0.952</td> <td>    3.718</td> <td> 0.000</td> <td>    1.667</td> <td>    5.414</td>\n",
       "</tr>\n",
       "<tr>\n",
       "  <th>Paperback</th> <td>    2.9002</td> <td>    1.614</td> <td>    1.797</td> <td> 0.073</td> <td>   -0.276</td> <td>    6.076</td>\n",
       "</tr>\n",
       "</table>\n",
       "<table class=\"simpletable\">\n",
       "<tr>\n",
       "  <th>Omnibus:</th>       <td>376.037</td> <th>  Durbin-Watson:     </th> <td>   2.113</td> \n",
       "</tr>\n",
       "<tr>\n",
       "  <th>Prob(Omnibus):</th> <td> 0.000</td>  <th>  Jarque-Bera (JB):  </th> <td>24357.299</td>\n",
       "</tr>\n",
       "<tr>\n",
       "  <th>Skew:</th>          <td> 5.355</td>  <th>  Prob(JB):          </th> <td>    0.00</td> \n",
       "</tr>\n",
       "<tr>\n",
       "  <th>Kurtosis:</th>      <td>44.797</td>  <th>  Cond. No.          </th> <td>    217.</td> \n",
       "</tr>\n",
       "</table><br/><br/>Notes:<br/>[1] Standard Errors assume that the covariance matrix of the errors is correctly specified."
      ],
      "text/plain": [
       "<class 'statsmodels.iolib.summary.Summary'>\n",
       "\"\"\"\n",
       "                            OLS Regression Results                            \n",
       "==============================================================================\n",
       "Dep. Variable:      Q(\"Amazon Price\")   R-squared:                       0.232\n",
       "Model:                            OLS   Adj. R-squared:                  0.220\n",
       "Method:                 Least Squares   F-statistic:                     18.62\n",
       "Date:                Mon, 08 May 2023   Prob (F-statistic):           3.62e-16\n",
       "Time:                        15:49:35   Log-Likelihood:                -1208.2\n",
       "No. Observations:                 314   AIC:                             2428.\n",
       "Df Residuals:                     308   BIC:                             2451.\n",
       "Df Model:                           5                                         \n",
       "Covariance Type:            nonrobust                                         \n",
       "==============================================================================\n",
       "                 coef    std err          t      P>|t|      [0.025      0.975]\n",
       "------------------------------------------------------------------------------\n",
       "Intercept    -33.6768      8.112     -4.152      0.000     -49.638     -17.716\n",
       "Thick         -6.3227      2.771     -2.282      0.023     -11.775      -0.870\n",
       "Weight_oz      0.4550      0.166      2.741      0.006       0.128       0.782\n",
       "Height         3.0343      0.936      3.241      0.001       1.192       4.877\n",
       "Width          3.5401      0.952      3.718      0.000       1.667       5.414\n",
       "Paperback      2.9002      1.614      1.797      0.073      -0.276       6.076\n",
       "==============================================================================\n",
       "Omnibus:                      376.037   Durbin-Watson:                   2.113\n",
       "Prob(Omnibus):                  0.000   Jarque-Bera (JB):            24357.299\n",
       "Skew:                           5.355   Prob(JB):                         0.00\n",
       "Kurtosis:                      44.797   Cond. No.                         217.\n",
       "==============================================================================\n",
       "\n",
       "Notes:\n",
       "[1] Standard Errors assume that the covariance matrix of the errors is correctly specified.\n",
       "\"\"\""
      ]
     },
     "execution_count": 119,
     "metadata": {},
     "output_type": "execute_result"
    }
   ],
   "source": [
    "fit_model8 = smf.ols(formula='Q(\"Amazon Price\") ~ Thick + Weight_oz + Height+ Width + Paperback', \n",
    "                     data=amazonbooks).fit()\n",
    "fit_model8.summary()"
   ]
  },
  {
   "cell_type": "code",
   "execution_count": 60,
   "id": "16964cbe",
   "metadata": {},
   "outputs": [
    {
     "data": {
      "text/html": [
       "<table class=\"simpletable\">\n",
       "<caption>OLS Regression Results</caption>\n",
       "<tr>\n",
       "  <th>Dep. Variable:</th>    <td>Q(\"Amazon Price\")</td> <th>  R-squared:         </th> <td>   0.224</td>\n",
       "</tr>\n",
       "<tr>\n",
       "  <th>Model:</th>                   <td>OLS</td>        <th>  Adj. R-squared:    </th> <td>   0.214</td>\n",
       "</tr>\n",
       "<tr>\n",
       "  <th>Method:</th>             <td>Least Squares</td>   <th>  F-statistic:       </th> <td>   22.31</td>\n",
       "</tr>\n",
       "<tr>\n",
       "  <th>Date:</th>             <td>Mon, 08 May 2023</td>  <th>  Prob (F-statistic):</th> <td>3.36e-16</td>\n",
       "</tr>\n",
       "<tr>\n",
       "  <th>Time:</th>                 <td>15:07:46</td>      <th>  Log-Likelihood:    </th> <td> -1209.9</td>\n",
       "</tr>\n",
       "<tr>\n",
       "  <th>No. Observations:</th>      <td>   314</td>       <th>  AIC:               </th> <td>   2430.</td>\n",
       "</tr>\n",
       "<tr>\n",
       "  <th>Df Residuals:</th>          <td>   309</td>       <th>  BIC:               </th> <td>   2448.</td>\n",
       "</tr>\n",
       "<tr>\n",
       "  <th>Df Model:</th>              <td>     4</td>       <th>                     </th>     <td> </td>   \n",
       "</tr>\n",
       "<tr>\n",
       "  <th>Covariance Type:</th>      <td>nonrobust</td>     <th>                     </th>     <td> </td>   \n",
       "</tr>\n",
       "</table>\n",
       "<table class=\"simpletable\">\n",
       "<tr>\n",
       "      <td></td>         <th>coef</th>     <th>std err</th>      <th>t</th>      <th>P>|t|</th>  <th>[0.025</th>    <th>0.975]</th>  \n",
       "</tr>\n",
       "<tr>\n",
       "  <th>Intercept</th> <td>  -28.6618</td> <td>    7.644</td> <td>   -3.750</td> <td> 0.000</td> <td>  -43.702</td> <td>  -13.622</td>\n",
       "</tr>\n",
       "<tr>\n",
       "  <th>Thick</th>     <td>   -7.3698</td> <td>    2.719</td> <td>   -2.711</td> <td> 0.007</td> <td>  -12.719</td> <td>   -2.020</td>\n",
       "</tr>\n",
       "<tr>\n",
       "  <th>Weight_oz</th> <td>    0.4505</td> <td>    0.167</td> <td>    2.704</td> <td> 0.007</td> <td>    0.123</td> <td>    0.778</td>\n",
       "</tr>\n",
       "<tr>\n",
       "  <th>Height</th>    <td>    3.0165</td> <td>    0.940</td> <td>    3.210</td> <td> 0.001</td> <td>    1.168</td> <td>    4.865</td>\n",
       "</tr>\n",
       "<tr>\n",
       "  <th>Width</th>     <td>    3.2323</td> <td>    0.940</td> <td>    3.439</td> <td> 0.001</td> <td>    1.383</td> <td>    5.082</td>\n",
       "</tr>\n",
       "</table>\n",
       "<table class=\"simpletable\">\n",
       "<tr>\n",
       "  <th>Omnibus:</th>       <td>381.525</td> <th>  Durbin-Watson:     </th> <td>   2.076</td> \n",
       "</tr>\n",
       "<tr>\n",
       "  <th>Prob(Omnibus):</th> <td> 0.000</td>  <th>  Jarque-Bera (JB):  </th> <td>25810.105</td>\n",
       "</tr>\n",
       "<tr>\n",
       "  <th>Skew:</th>          <td> 5.476</td>  <th>  Prob(JB):          </th> <td>    0.00</td> \n",
       "</tr>\n",
       "<tr>\n",
       "  <th>Kurtosis:</th>      <td>46.044</td>  <th>  Cond. No.          </th> <td>    204.</td> \n",
       "</tr>\n",
       "</table><br/><br/>Notes:<br/>[1] Standard Errors assume that the covariance matrix of the errors is correctly specified."
      ],
      "text/plain": [
       "<class 'statsmodels.iolib.summary.Summary'>\n",
       "\"\"\"\n",
       "                            OLS Regression Results                            \n",
       "==============================================================================\n",
       "Dep. Variable:      Q(\"Amazon Price\")   R-squared:                       0.224\n",
       "Model:                            OLS   Adj. R-squared:                  0.214\n",
       "Method:                 Least Squares   F-statistic:                     22.31\n",
       "Date:                Mon, 08 May 2023   Prob (F-statistic):           3.36e-16\n",
       "Time:                        15:07:46   Log-Likelihood:                -1209.9\n",
       "No. Observations:                 314   AIC:                             2430.\n",
       "Df Residuals:                     309   BIC:                             2448.\n",
       "Df Model:                           4                                         \n",
       "Covariance Type:            nonrobust                                         \n",
       "==============================================================================\n",
       "                 coef    std err          t      P>|t|      [0.025      0.975]\n",
       "------------------------------------------------------------------------------\n",
       "Intercept    -28.6618      7.644     -3.750      0.000     -43.702     -13.622\n",
       "Thick         -7.3698      2.719     -2.711      0.007     -12.719      -2.020\n",
       "Weight_oz      0.4505      0.167      2.704      0.007       0.123       0.778\n",
       "Height         3.0165      0.940      3.210      0.001       1.168       4.865\n",
       "Width          3.2323      0.940      3.439      0.001       1.383       5.082\n",
       "==============================================================================\n",
       "Omnibus:                      381.525   Durbin-Watson:                   2.076\n",
       "Prob(Omnibus):                  0.000   Jarque-Bera (JB):            25810.105\n",
       "Skew:                           5.476   Prob(JB):                         0.00\n",
       "Kurtosis:                      46.044   Cond. No.                         204.\n",
       "==============================================================================\n",
       "\n",
       "Notes:\n",
       "[1] Standard Errors assume that the covariance matrix of the errors is correctly specified.\n",
       "\"\"\""
      ]
     },
     "execution_count": 60,
     "metadata": {},
     "output_type": "execute_result"
    }
   ],
   "source": [
    "fit_model9 = smf.ols(formula='Q(\"Amazon Price\") ~ Thick + Weight_oz + Height + Width', \n",
    "                     data=amazonbooks).fit()\n",
    "fit_model9.summary()"
   ]
  },
  {
   "cell_type": "code",
   "execution_count": 58,
   "id": "4f37a538",
   "metadata": {},
   "outputs": [
    {
     "data": {
      "text/html": [
       "<table class=\"simpletable\">\n",
       "<caption>OLS Regression Results</caption>\n",
       "<tr>\n",
       "  <th>Dep. Variable:</th>    <td>Q(\"Amazon Price\")</td> <th>  R-squared (uncentered):</th>      <td>   0.592</td>\n",
       "</tr>\n",
       "<tr>\n",
       "  <th>Model:</th>                   <td>OLS</td>        <th>  Adj. R-squared (uncentered):</th> <td>   0.588</td>\n",
       "</tr>\n",
       "<tr>\n",
       "  <th>Method:</th>             <td>Least Squares</td>   <th>  F-statistic:       </th>          <td>   150.5</td>\n",
       "</tr>\n",
       "<tr>\n",
       "  <th>Date:</th>             <td>Mon, 08 May 2023</td>  <th>  Prob (F-statistic):</th>          <td>2.91e-60</td>\n",
       "</tr>\n",
       "<tr>\n",
       "  <th>Time:</th>                 <td>15:06:55</td>      <th>  Log-Likelihood:    </th>          <td> -1217.1</td>\n",
       "</tr>\n",
       "<tr>\n",
       "  <th>No. Observations:</th>      <td>   314</td>       <th>  AIC:               </th>          <td>   2440.</td>\n",
       "</tr>\n",
       "<tr>\n",
       "  <th>Df Residuals:</th>          <td>   311</td>       <th>  BIC:               </th>          <td>   2451.</td>\n",
       "</tr>\n",
       "<tr>\n",
       "  <th>Df Model:</th>              <td>     3</td>       <th>                     </th>              <td> </td>   \n",
       "</tr>\n",
       "<tr>\n",
       "  <th>Covariance Type:</th>      <td>nonrobust</td>     <th>                     </th>              <td> </td>   \n",
       "</tr>\n",
       "</table>\n",
       "<table class=\"simpletable\">\n",
       "<tr>\n",
       "      <td></td>         <th>coef</th>     <th>std err</th>      <th>t</th>      <th>P>|t|</th>  <th>[0.025</th>    <th>0.975]</th>  \n",
       "</tr>\n",
       "<tr>\n",
       "  <th>Thick</th>     <td>  -11.7762</td> <td>    2.314</td> <td>   -5.089</td> <td> 0.000</td> <td>  -16.329</td> <td>   -7.223</td>\n",
       "</tr>\n",
       "<tr>\n",
       "  <th>Weight_oz</th> <td>    0.7890</td> <td>    0.141</td> <td>    5.578</td> <td> 0.000</td> <td>    0.511</td> <td>    1.067</td>\n",
       "</tr>\n",
       "<tr>\n",
       "  <th>Width</th>     <td>    2.4681</td> <td>    0.312</td> <td>    7.899</td> <td> 0.000</td> <td>    1.853</td> <td>    3.083</td>\n",
       "</tr>\n",
       "</table>\n",
       "<table class=\"simpletable\">\n",
       "<tr>\n",
       "  <th>Omnibus:</th>       <td>396.530</td> <th>  Durbin-Watson:     </th> <td>   2.073</td> \n",
       "</tr>\n",
       "<tr>\n",
       "  <th>Prob(Omnibus):</th> <td> 0.000</td>  <th>  Jarque-Bera (JB):  </th> <td>28642.710</td>\n",
       "</tr>\n",
       "<tr>\n",
       "  <th>Skew:</th>          <td> 5.846</td>  <th>  Prob(JB):          </th> <td>    0.00</td> \n",
       "</tr>\n",
       "<tr>\n",
       "  <th>Kurtosis:</th>      <td>48.305</td>  <th>  Cond. No.          </th> <td>    52.8</td> \n",
       "</tr>\n",
       "</table><br/><br/>Notes:<br/>[1] R² is computed without centering (uncentered) since the model does not contain a constant.<br/>[2] Standard Errors assume that the covariance matrix of the errors is correctly specified."
      ],
      "text/plain": [
       "<class 'statsmodels.iolib.summary.Summary'>\n",
       "\"\"\"\n",
       "                                 OLS Regression Results                                \n",
       "=======================================================================================\n",
       "Dep. Variable:      Q(\"Amazon Price\")   R-squared (uncentered):                   0.592\n",
       "Model:                            OLS   Adj. R-squared (uncentered):              0.588\n",
       "Method:                 Least Squares   F-statistic:                              150.5\n",
       "Date:                Mon, 08 May 2023   Prob (F-statistic):                    2.91e-60\n",
       "Time:                        15:06:55   Log-Likelihood:                         -1217.1\n",
       "No. Observations:                 314   AIC:                                      2440.\n",
       "Df Residuals:                     311   BIC:                                      2451.\n",
       "Df Model:                           3                                                  \n",
       "Covariance Type:            nonrobust                                                  \n",
       "==============================================================================\n",
       "                 coef    std err          t      P>|t|      [0.025      0.975]\n",
       "------------------------------------------------------------------------------\n",
       "Thick        -11.7762      2.314     -5.089      0.000     -16.329      -7.223\n",
       "Weight_oz      0.7890      0.141      5.578      0.000       0.511       1.067\n",
       "Width          2.4681      0.312      7.899      0.000       1.853       3.083\n",
       "==============================================================================\n",
       "Omnibus:                      396.530   Durbin-Watson:                   2.073\n",
       "Prob(Omnibus):                  0.000   Jarque-Bera (JB):            28642.710\n",
       "Skew:                           5.846   Prob(JB):                         0.00\n",
       "Kurtosis:                      48.305   Cond. No.                         52.8\n",
       "==============================================================================\n",
       "\n",
       "Notes:\n",
       "[1] R² is computed without centering (uncentered) since the model does not contain a constant.\n",
       "[2] Standard Errors assume that the covariance matrix of the errors is correctly specified.\n",
       "\"\"\""
      ]
     },
     "execution_count": 58,
     "metadata": {},
     "output_type": "execute_result"
    }
   ],
   "source": [
    "fit_model10 = smf.ols(formula='Q(\"Amazon Price\") ~ -1 + Thick + Weight_oz + Width', \n",
    "                     data=amazonbooks).fit()\n",
    "fit_model10.summary()"
   ]
  },
  {
   "cell_type": "code",
   "execution_count": 120,
   "id": "1f2f52ae",
   "metadata": {},
   "outputs": [
    {
     "data": {
      "text/plain": [
       "'Q(\"Amazon Price\") ~ -1 + Q(\"List Price\") + Thick + Hardback'"
      ]
     },
     "execution_count": 120,
     "metadata": {},
     "output_type": "execute_result"
    }
   ],
   "source": [
    "fit_model7.model.formula"
   ]
  },
  {
   "cell_type": "markdown",
   "id": "696617e5",
   "metadata": {},
   "source": [
    "$$\\large \\hat y = \\beta_L ListPrice + \\beta_T Thick + \\beta_P Paperback$$\n",
    "\n",
    "$$\\large \\hat y = 0.86 ListPrice - 3.69 Thick + 0.70 Paperback$$\n"
   ]
  },
  {
   "cell_type": "code",
   "execution_count": 73,
   "id": "f33c3330",
   "metadata": {},
   "outputs": [
    {
     "data": {
      "text/plain": [
       "8.884999999999998"
      ]
     },
     "execution_count": 73,
     "metadata": {},
     "output_type": "execute_result"
    }
   ],
   "source": [
    "# the original paperback based model\n",
    "0.86 * 12.95 - 3.69 * 0.8 + 0.70 *1"
   ]
  },
  {
   "cell_type": "code",
   "execution_count": 121,
   "id": "3db2fcb5",
   "metadata": {},
   "outputs": [
    {
     "data": {
      "text/plain": [
       "Q(\"List Price\")    0.867349\n",
       "Thick             -3.011230\n",
       "Hardback          -1.158125\n",
       "dtype: float64"
      ]
     },
     "execution_count": 121,
     "metadata": {},
     "output_type": "execute_result"
    }
   ],
   "source": [
    "fit_model7.params"
   ]
  },
  {
   "cell_type": "markdown",
   "id": "25ce2012",
   "metadata": {},
   "source": [
    "$$\\large \\hat y = \\beta_L ListPrice + \\beta_T Thick + \\beta_P Hardback$$\n",
    "\n",
    "$$\\large \\hat y = 0.867 ListPrice - 3.91 Thick -1.158 Hardback$$\n"
   ]
  },
  {
   "cell_type": "code",
   "execution_count": 77,
   "id": "7da22c06",
   "metadata": {},
   "outputs": [
    {
     "data": {
      "text/plain": [
       "8.8901407366203"
      ]
     },
     "execution_count": 77,
     "metadata": {},
     "output_type": "execute_result"
    }
   ],
   "source": [
    "fit_model7.predict()[0]"
   ]
  },
  {
   "cell_type": "code",
   "execution_count": 124,
   "id": "3d51552c",
   "metadata": {},
   "outputs": [
    {
     "data": {
      "text/plain": [
       "8.81965"
      ]
     },
     "execution_count": 124,
     "metadata": {},
     "output_type": "execute_result"
    }
   ],
   "source": [
    "# model 7 changed to hardback\n",
    "0.867 * 12.95 - 3.01 * 0.8 -1.15 *0"
   ]
  },
  {
   "cell_type": "code",
   "execution_count": 125,
   "id": "b25bedb0",
   "metadata": {},
   "outputs": [
    {
     "data": {
      "text/plain": [
       "8.823188806135462"
      ]
     },
     "execution_count": 125,
     "metadata": {},
     "output_type": "execute_result"
    }
   ],
   "source": [
    "fit_model7.predict()[0]"
   ]
  },
  {
   "cell_type": "code",
   "execution_count": 61,
   "id": "57ec555f",
   "metadata": {},
   "outputs": [
    {
     "data": {
      "text/plain": [
       "'Q(\"Amazon Price\") ~ Thick + Weight_oz + Height + Width'"
      ]
     },
     "execution_count": 61,
     "metadata": {},
     "output_type": "execute_result"
    }
   ],
   "source": [
    "fit_model9.model.formula"
   ]
  },
  {
   "cell_type": "code",
   "execution_count": 59,
   "id": "8c6e4661",
   "metadata": {},
   "outputs": [
    {
     "data": {
      "text/plain": [
       "'Q(\"Amazon Price\") ~ -1 + Thick + Weight_oz + Width'"
      ]
     },
     "execution_count": 59,
     "metadata": {},
     "output_type": "execute_result"
    }
   ],
   "source": [
    "fit_model10.model.formula"
   ]
  },
  {
   "cell_type": "code",
   "execution_count": 62,
   "id": "a04ffa0e",
   "metadata": {},
   "outputs": [
    {
     "data": {
      "text/plain": [
       "Intercept   -28.661822\n",
       "Thick        -7.369776\n",
       "Weight_oz     0.450477\n",
       "Height        3.016454\n",
       "Width         3.232274\n",
       "dtype: float64"
      ]
     },
     "execution_count": 62,
     "metadata": {},
     "output_type": "execute_result"
    }
   ],
   "source": [
    "fit_model9.params"
   ]
  },
  {
   "cell_type": "markdown",
   "id": "f75c0a25",
   "metadata": {},
   "source": [
    "$$\\large \\hat y = Intercept + \\beta_T Thick + \\beta_W Weight\\_oz + \\beta_H Height + \\beta_W Width $$\n",
    "\n",
    "$$\\large \\hat y = -28.66 - 7.36 Thick + 0.45 Weight\\_oz + 3.01 Height + 3.23 Width $$"
   ]
  },
  {
   "cell_type": "code",
   "execution_count": 65,
   "id": "9341f5d0",
   "metadata": {},
   "outputs": [
    {
     "data": {
      "text/plain": [
       "11.734999999999996"
      ]
     },
     "execution_count": 65,
     "metadata": {},
     "output_type": "execute_result"
    }
   ],
   "source": [
    "# y-hat for the first row observation\n",
    "-28.66 - 7.36*0.8 + 0.45 * 11.2 + 3.01 * 7.8 + 3.23 *5.5"
   ]
  },
  {
   "cell_type": "code",
   "execution_count": 71,
   "id": "bd5f9911",
   "metadata": {},
   "outputs": [
    {
     "data": {
      "text/plain": [
       "11.79354246101503"
      ]
     },
     "execution_count": 71,
     "metadata": {},
     "output_type": "execute_result"
    }
   ],
   "source": [
    "fit_model9.predict()[0]"
   ]
  },
  {
   "cell_type": "code",
   "execution_count": 64,
   "id": "95ab7321",
   "metadata": {},
   "outputs": [
    {
     "data": {
      "text/html": [
       "<div>\n",
       "<style scoped>\n",
       "    .dataframe tbody tr th:only-of-type {\n",
       "        vertical-align: middle;\n",
       "    }\n",
       "\n",
       "    .dataframe tbody tr th {\n",
       "        vertical-align: top;\n",
       "    }\n",
       "\n",
       "    .dataframe thead th {\n",
       "        text-align: right;\n",
       "    }\n",
       "</style>\n",
       "<table border=\"1\" class=\"dataframe\">\n",
       "  <thead>\n",
       "    <tr style=\"text-align: right;\">\n",
       "      <th></th>\n",
       "      <th>Title</th>\n",
       "      <th>Author</th>\n",
       "      <th>List Price</th>\n",
       "      <th>Amazon Price</th>\n",
       "      <th>Hard_or_Paper</th>\n",
       "      <th>NumPages</th>\n",
       "      <th>Publisher</th>\n",
       "      <th>Pub year</th>\n",
       "      <th>ISBN-10</th>\n",
       "      <th>Height</th>\n",
       "      <th>Width</th>\n",
       "      <th>Thick</th>\n",
       "      <th>Weight_oz</th>\n",
       "      <th>Paperback</th>\n",
       "    </tr>\n",
       "  </thead>\n",
       "  <tbody>\n",
       "    <tr>\n",
       "      <th>0</th>\n",
       "      <td>1,001 Facts that Will Scare the S#*t Out of Yo...</td>\n",
       "      <td>Cary McNeal</td>\n",
       "      <td>12.95</td>\n",
       "      <td>5.18</td>\n",
       "      <td>P</td>\n",
       "      <td>304.0</td>\n",
       "      <td>Adams Media</td>\n",
       "      <td>2010.0</td>\n",
       "      <td>1605506249</td>\n",
       "      <td>7.8</td>\n",
       "      <td>5.5</td>\n",
       "      <td>0.8</td>\n",
       "      <td>11.2</td>\n",
       "      <td>1</td>\n",
       "    </tr>\n",
       "    <tr>\n",
       "      <th>1</th>\n",
       "      <td>21: Bringing Down the House - Movie Tie-In: Th...</td>\n",
       "      <td>Ben Mezrich</td>\n",
       "      <td>15.00</td>\n",
       "      <td>10.20</td>\n",
       "      <td>P</td>\n",
       "      <td>273.0</td>\n",
       "      <td>Free Press</td>\n",
       "      <td>2008.0</td>\n",
       "      <td>1416564195</td>\n",
       "      <td>8.4</td>\n",
       "      <td>5.5</td>\n",
       "      <td>0.7</td>\n",
       "      <td>7.2</td>\n",
       "      <td>1</td>\n",
       "    </tr>\n",
       "    <tr>\n",
       "      <th>2</th>\n",
       "      <td>100 Best-Loved Poems (Dover Thrift Editions)</td>\n",
       "      <td>Smith</td>\n",
       "      <td>1.50</td>\n",
       "      <td>1.50</td>\n",
       "      <td>P</td>\n",
       "      <td>96.0</td>\n",
       "      <td>Dover Publications</td>\n",
       "      <td>1995.0</td>\n",
       "      <td>486285537</td>\n",
       "      <td>8.3</td>\n",
       "      <td>5.2</td>\n",
       "      <td>0.3</td>\n",
       "      <td>4.0</td>\n",
       "      <td>1</td>\n",
       "    </tr>\n",
       "    <tr>\n",
       "      <th>3</th>\n",
       "      <td>1421: The Year China Discovered America</td>\n",
       "      <td>Gavin Menzies</td>\n",
       "      <td>15.99</td>\n",
       "      <td>10.87</td>\n",
       "      <td>P</td>\n",
       "      <td>672.0</td>\n",
       "      <td>Harper Perennial</td>\n",
       "      <td>2008.0</td>\n",
       "      <td>61564893</td>\n",
       "      <td>8.8</td>\n",
       "      <td>6.0</td>\n",
       "      <td>1.6</td>\n",
       "      <td>28.8</td>\n",
       "      <td>1</td>\n",
       "    </tr>\n",
       "    <tr>\n",
       "      <th>4</th>\n",
       "      <td>1493: Uncovering the New World Columbus Created</td>\n",
       "      <td>Charles C. Mann</td>\n",
       "      <td>30.50</td>\n",
       "      <td>16.77</td>\n",
       "      <td>P</td>\n",
       "      <td>720.0</td>\n",
       "      <td>Knopf</td>\n",
       "      <td>2011.0</td>\n",
       "      <td>307265722</td>\n",
       "      <td>8.0</td>\n",
       "      <td>5.2</td>\n",
       "      <td>1.4</td>\n",
       "      <td>22.4</td>\n",
       "      <td>1</td>\n",
       "    </tr>\n",
       "    <tr>\n",
       "      <th>...</th>\n",
       "      <td>...</td>\n",
       "      <td>...</td>\n",
       "      <td>...</td>\n",
       "      <td>...</td>\n",
       "      <td>...</td>\n",
       "      <td>...</td>\n",
       "      <td>...</td>\n",
       "      <td>...</td>\n",
       "      <td>...</td>\n",
       "      <td>...</td>\n",
       "      <td>...</td>\n",
       "      <td>...</td>\n",
       "      <td>...</td>\n",
       "      <td>...</td>\n",
       "    </tr>\n",
       "    <tr>\n",
       "      <th>320</th>\n",
       "      <td>Where the Sidewalk Ends</td>\n",
       "      <td>Shel Silverstein</td>\n",
       "      <td>18.99</td>\n",
       "      <td>12.24</td>\n",
       "      <td>H</td>\n",
       "      <td>192.0</td>\n",
       "      <td>HarperCollins</td>\n",
       "      <td>2004.0</td>\n",
       "      <td>60572345</td>\n",
       "      <td>9.3</td>\n",
       "      <td>6.6</td>\n",
       "      <td>1.1</td>\n",
       "      <td>24.0</td>\n",
       "      <td>0</td>\n",
       "    </tr>\n",
       "    <tr>\n",
       "      <th>321</th>\n",
       "      <td>White Privilege</td>\n",
       "      <td>Paula S. Rothenberg</td>\n",
       "      <td>27.55</td>\n",
       "      <td>27.55</td>\n",
       "      <td>P</td>\n",
       "      <td>160.0</td>\n",
       "      <td>Worth Publishers</td>\n",
       "      <td>2011.0</td>\n",
       "      <td>1429233443</td>\n",
       "      <td>9.1</td>\n",
       "      <td>6.1</td>\n",
       "      <td>0.7</td>\n",
       "      <td>8.0</td>\n",
       "      <td>1</td>\n",
       "    </tr>\n",
       "    <tr>\n",
       "      <th>322</th>\n",
       "      <td>Why I wore lipstick</td>\n",
       "      <td>Geralyn Lucas</td>\n",
       "      <td>12.95</td>\n",
       "      <td>5.18</td>\n",
       "      <td>P</td>\n",
       "      <td>224.0</td>\n",
       "      <td>St Martin's Griffin</td>\n",
       "      <td>2005.0</td>\n",
       "      <td>031233446X</td>\n",
       "      <td>8.0</td>\n",
       "      <td>5.4</td>\n",
       "      <td>0.7</td>\n",
       "      <td>6.4</td>\n",
       "      <td>1</td>\n",
       "    </tr>\n",
       "    <tr>\n",
       "      <th>323</th>\n",
       "      <td>Worlds Together, Worlds Apart: A History of th...</td>\n",
       "      <td>Robert Tignor</td>\n",
       "      <td>97.50</td>\n",
       "      <td>97.50</td>\n",
       "      <td>P</td>\n",
       "      <td>480.0</td>\n",
       "      <td>W. W. Norton &amp; Company</td>\n",
       "      <td>2010.0</td>\n",
       "      <td>393934942</td>\n",
       "      <td>10.7</td>\n",
       "      <td>8.9</td>\n",
       "      <td>0.9</td>\n",
       "      <td>14.4</td>\n",
       "      <td>1</td>\n",
       "    </tr>\n",
       "    <tr>\n",
       "      <th>324</th>\n",
       "      <td>Wuthering Heights</td>\n",
       "      <td>Emily Bronte</td>\n",
       "      <td>16.99</td>\n",
       "      <td>4.95</td>\n",
       "      <td>P</td>\n",
       "      <td>344.0</td>\n",
       "      <td>CreatSpace</td>\n",
       "      <td>2011.0</td>\n",
       "      <td>1463533411</td>\n",
       "      <td>7.8</td>\n",
       "      <td>5.1</td>\n",
       "      <td>1.0</td>\n",
       "      <td>16.0</td>\n",
       "      <td>1</td>\n",
       "    </tr>\n",
       "  </tbody>\n",
       "</table>\n",
       "<p>325 rows × 14 columns</p>\n",
       "</div>"
      ],
      "text/plain": [
       "                                                 Title               Author  \\\n",
       "0    1,001 Facts that Will Scare the S#*t Out of Yo...          Cary McNeal   \n",
       "1    21: Bringing Down the House - Movie Tie-In: Th...          Ben Mezrich   \n",
       "2         100 Best-Loved Poems (Dover Thrift Editions)                Smith   \n",
       "3              1421: The Year China Discovered America        Gavin Menzies   \n",
       "4      1493: Uncovering the New World Columbus Created      Charles C. Mann   \n",
       "..                                                 ...                  ...   \n",
       "320                            Where the Sidewalk Ends     Shel Silverstein   \n",
       "321                                    White Privilege  Paula S. Rothenberg   \n",
       "322                                Why I wore lipstick        Geralyn Lucas   \n",
       "323  Worlds Together, Worlds Apart: A History of th...        Robert Tignor   \n",
       "324                                  Wuthering Heights         Emily Bronte   \n",
       "\n",
       "     List Price  Amazon Price Hard_or_Paper  NumPages               Publisher  \\\n",
       "0         12.95          5.18             P     304.0             Adams Media   \n",
       "1         15.00         10.20             P     273.0              Free Press   \n",
       "2          1.50          1.50             P      96.0      Dover Publications   \n",
       "3         15.99         10.87             P     672.0        Harper Perennial   \n",
       "4         30.50         16.77             P     720.0                   Knopf   \n",
       "..          ...           ...           ...       ...                     ...   \n",
       "320       18.99         12.24             H     192.0           HarperCollins   \n",
       "321       27.55         27.55             P     160.0        Worth Publishers   \n",
       "322       12.95          5.18             P     224.0     St Martin's Griffin   \n",
       "323       97.50         97.50             P     480.0  W. W. Norton & Company   \n",
       "324       16.99          4.95             P     344.0              CreatSpace   \n",
       "\n",
       "     Pub year     ISBN-10  Height  Width  Thick  Weight_oz  Paperback  \n",
       "0      2010.0  1605506249     7.8    5.5    0.8       11.2          1  \n",
       "1      2008.0  1416564195     8.4    5.5    0.7        7.2          1  \n",
       "2      1995.0   486285537     8.3    5.2    0.3        4.0          1  \n",
       "3      2008.0    61564893     8.8    6.0    1.6       28.8          1  \n",
       "4      2011.0   307265722     8.0    5.2    1.4       22.4          1  \n",
       "..        ...         ...     ...    ...    ...        ...        ...  \n",
       "320    2004.0    60572345     9.3    6.6    1.1       24.0          0  \n",
       "321    2011.0  1429233443     9.1    6.1    0.7        8.0          1  \n",
       "322    2005.0  031233446X     8.0    5.4    0.7        6.4          1  \n",
       "323    2010.0   393934942    10.7    8.9    0.9       14.4          1  \n",
       "324    2011.0  1463533411     7.8    5.1    1.0       16.0          1  \n",
       "\n",
       "[325 rows x 14 columns]"
      ]
     },
     "execution_count": 64,
     "metadata": {},
     "output_type": "execute_result"
    }
   ],
   "source": [
    "amazonbooks"
   ]
  },
  {
   "cell_type": "code",
   "execution_count": 99,
   "id": "dafead48",
   "metadata": {},
   "outputs": [],
   "source": [
    "import plotly.express as px\n",
    "import plotly.graph_objects as go\n",
    "import numpy as np"
   ]
  },
  {
   "cell_type": "code",
   "execution_count": 127,
   "id": "037c9320",
   "metadata": {},
   "outputs": [
    {
     "name": "stdout",
     "output_type": "stream",
     "text": [
      "r = 0.960867144102875\n"
     ]
    },
    {
     "data": {
      "application/vnd.plotly.v1+json": {
       "config": {
        "plotlyServerURL": "https://plot.ly"
       },
       "data": [
        {
         "hovertemplate": "y=%{x}<br>y-hat=%{y}<extra></extra>",
         "legendgroup": "",
         "marker": {
          "color": "#636efa",
          "symbol": "circle"
         },
         "mode": "markers",
         "name": "",
         "orientation": "v",
         "showlegend": false,
         "type": "scatter",
         "x": [
          5.18,
          10.2,
          1.5,
          10.87,
          16.77,
          16.44,
          13.46,
          8.44,
          18.81,
          19.8,
          8.97,
          10.46,
          13.57,
          14.6,
          37.95,
          11.58,
          3.99,
          10.2,
          5.87,
          10.85,
          10.4,
          11.94,
          11.2,
          8.96,
          15.63,
          10.2,
          12.11,
          7.95,
          14.95,
          10.17,
          7.95,
          8.39,
          13.6,
          8.75,
          26.61,
          9.59,
          12.52,
          11.16,
          10.22,
          4.99,
          10.4,
          10.54,
          15.82,
          15.6,
          10.17,
          6.99,
          5.99,
          11.16,
          20.48,
          16.32,
          9.07,
          8.38,
          8.97,
          10.2,
          8.99,
          6.99,
          9.99,
          11.36,
          83.04,
          44.32,
          7.97,
          7.97,
          12.24,
          54.61,
          10.2,
          11.46,
          10.2,
          11.5,
          14.99,
          6.99,
          10.2,
          10.88,
          39.92,
          10.2,
          6.99,
          9.07,
          16.46,
          7.83,
          10.19,
          17.43,
          7.99,
          8,
          9.95,
          14.61,
          11.2,
          10.46,
          6.99,
          8.97,
          12.24,
          9.2,
          6.99,
          10.88,
          8.99,
          9.09,
          10.75,
          12.24,
          8.99,
          11.55,
          11.2,
          19.99,
          139.95,
          16.47,
          5.98,
          6.95,
          13,
          14.44,
          5.13,
          13.98,
          11.55,
          8.95,
          8.6,
          10.22,
          13.43,
          11.08,
          13.6,
          10.2,
          10.17,
          8.39,
          10.19,
          11.2,
          8.36,
          15.2,
          8.68,
          10.33,
          25.95,
          16.5,
          9.99,
          15.44,
          10.58,
          8.84,
          8.15,
          22.81,
          11.24,
          8.59,
          10.19,
          12.17,
          7.99,
          7.98,
          11.2,
          13.29,
          10.77,
          13.83,
          9.6,
          10.17,
          7.9,
          11.55,
          10.2,
          6.95,
          8.75,
          10.2,
          13.6,
          10.88,
          10.2,
          10.88,
          10.09,
          8.24,
          8.61,
          8.95,
          5.99,
          8.87,
          9.98,
          11.08,
          35.95,
          10.98,
          7.95,
          10.79,
          98.95,
          25.84,
          15.68,
          25,
          5.98,
          9.64,
          10.85,
          16.91,
          5.99,
          8.11,
          12.47,
          9.99,
          10.85,
          9.57,
          11.08,
          8.07,
          6,
          9.75,
          21.75,
          17.73,
          9.58,
          7.89,
          16.32,
          6.95,
          10.22,
          10.88,
          17.79,
          15.44,
          7.99,
          12.08,
          21.68,
          6.99,
          9.99,
          6.99,
          10.2,
          7.51,
          9.99,
          7.7,
          10.2,
          15.48,
          10.77,
          8.43,
          6.4,
          9,
          7.75,
          11.99,
          4.99,
          8.5,
          22,
          7.31,
          10.68,
          8.95,
          8.99,
          7.95,
          10.09,
          11.44,
          9.28,
          9.66,
          55.75,
          39.72,
          9.99,
          20,
          8.6,
          8.04,
          10.68,
          14.96,
          8.42,
          9.99,
          8.52,
          8.26,
          11.16,
          7.82,
          9.16,
          16.09,
          15.62,
          8.84,
          8.92,
          8.05,
          11.56,
          7.7,
          8.8,
          6.4,
          4.94,
          10.21,
          8,
          8.36,
          9.22,
          9.99,
          12.5,
          8.95,
          22.51,
          23.79,
          9.52,
          13.13,
          7.79,
          10.86,
          11.2,
          10.2,
          11.53,
          9.99,
          10.17,
          8.8,
          10.47,
          7.9,
          9.09,
          9.99,
          14.46,
          8.22,
          8.98,
          23.94,
          11.28,
          24.9,
          9.92,
          7.77,
          3.95,
          0.77,
          8.99,
          15.15,
          13.6,
          13.6,
          8.45,
          14.96,
          10.17,
          10.88,
          10.11,
          8.28,
          14.7,
          14,
          5.98,
          13.7,
          17.99,
          12.17,
          10.29,
          11.19,
          8.5,
          12.6,
          6.9,
          14.69,
          16.08,
          23.1,
          10.68,
          6.99,
          10.75,
          10.17,
          10.17,
          10,
          13.49,
          10.2,
          10.2,
          10.85,
          8.14,
          19.01,
          12.24,
          27.55,
          5.18,
          97.5,
          4.95
         ],
         "xaxis": "x",
         "y": [
          8.823188806135462,
          10.90237785140435,
          0.3976548041385581,
          9.050946314903982,
          22.238430339406428,
          18.83254464388945,
          12.575383824881179,
          10.601254816186142,
          22.875515605849117,
          21.549999592053922,
          9.625846045613184,
          10.228092116049597,
          12.230893326003198,
          14.335755111726995,
          32.241619182412705,
          12.301607129390185,
          3.655112999421911,
          10.601254816186142,
          4.698381337656657,
          10.56823444453063,
          9.769925375449857,
          6.742673899335225,
          10.637274648645311,
          10.557887352526368,
          14.56651208129917,
          10.90237785140435,
          11.998810494899674,
          2.4249481180941728,
          9.955641282089955,
          10.256764317308162,
          3.9305632941852098,
          9.965988374094215,
          11.926770829981336,
          10.938397683863519,
          24.08118838317484,
          9.195025644740657,
          8.62614768370071,
          10.29278414976733,
          10.601254816186142,
          1.6643324807448754,
          10.071048410668064,
          11.531970261567979,
          17.169885762416882,
          19.240401314953814,
          10.859010387744576,
          3.3935823559319247,
          3.9909300055679364,
          7.582676832803464,
          19.205707344025996,
          15.442534847226577,
          9.962988913290559,
          9.424109015040527,
          9.928642680103694,
          10.300131780967934,
          5.087362649063261,
          5.761648384418012,
          8.997782009643403,
          13.79687521347696,
          97.29281467207171,
          39.999496756711615,
          10.220744484848993,
          10.220744484848993,
          13.203302635772502,
          73.00703502259901,
          10.601254816186142,
          9.627519644885487,
          10.601254816186142,
          5.156548078256396,
          19.205707344025996,
          3.051541067454146,
          10.601254816186142,
          11.468604089381596,
          45.287878112803675,
          10.90237785140435,
          3.954910173108768,
          8.300330031817989,
          14.131714095832594,
          9.991661114549123,
          8.832210036608373,
          22.152245662490337,
          3.617767305431392,
          5.132055974254383,
          11.459930596649642,
          18.035909174080984,
          17.999889341621817,
          10.228092116049597,
          3.3526641026723536,
          10.905377312208005,
          13.203302635772502,
          10.866358018945181,
          3.3526641026723536,
          10.264111948508766,
          4.183993543408638,
          11.167481054163389,
          10.75997212083998,
          11.744054384144894,
          5.4348526087448965,
          10.876705110949441,
          10.336151613427104,
          22.736797009721887,
          119.87991560761266,
          18.62913401404449,
          9.955641282089955,
          3.619093166962742,
          16.87611035839928,
          17.177233393617485,
          7.425633127421931,
          16.795397200748987,
          12.929525940281508,
          7.160529924662892,
          11.46125645818099,
          10.5218675200672,
          11.635994886767389,
          10.336151613427104,
          15.540247252599825,
          10.601254816186142,
          10.256764317308162,
          10.5218675200672,
          9.388089182581359,
          10.336151613427104,
          9.12431184135367,
          17.505702768562905,
          9.999008745749727,
          11.203500886622557,
          18.63948110604875,
          16.91213019085845,
          6.858081027913336,
          18.035909174080984,
          12.939873032285767,
          8.840883529340326,
          11.203500886622557,
          19.016991976582243,
          10.229765715321902,
          10.565234983726974,
          9.990335253017774,
          10.16639954313552,
          3.9188903406495994,
          9.928642680103694,
          10.336151613427104,
          8.515841488585501,
          10.264111948508766,
          7.8260848797016465,
          8.300330031817989,
          10.859010387744576,
          10.601254816186142,
          11.771400723872107,
          10.90237785140435,
          3.0168470965263277,
          10.938397683863519,
          10.300131780967934,
          11.672014719226556,
          10.866358018945181,
          10.90237785140435,
          11.769727124599804,
          10.300131780967934,
          10.90237785140435,
          10.565234983726974,
          6.558283854226477,
          3.9909300055679364,
          10.264111948508766,
          11.203500886622557,
          10.336151613427104,
          29.675591195285516,
          10.893704358672395,
          3.6294402589670023,
          9.964662512562864,
          80.1492398380076,
          27.996506164555385,
          12.943445591554822,
          27.151750035365197,
          9.654518246871747,
          10.071048410668064,
          11.425236625721823,
          17.478356428835696,
          2.1841917942586924,
          9.990335253017774,
          12.070850159818011,
          5.051342816604092,
          11.425236625721823,
          9.990335253017774,
          10.035028578208896,
          9.389415044112708,
          10.90237785140435,
          11.167481054163389,
          23.8075569127623,
          18.30233823837137,
          10.602928415458448,
          11.203500886622557,
          16.3459039528812,
          4.221339237399158,
          10.866358018945181,
          11.468604089381596,
          19.80795341446241,
          18.035909174080984,
          5.424505516740636,
          10.75095089036707,
          29.502121340646422,
          4.85827927876339,
          5.051342816604092,
          4.256033208326976,
          11.504623921840764,
          8.902576102254404,
          6.858081027913336,
          7.990533503867828,
          10.300131780967934,
          16.600660063635978,
          11.769727124599804,
          10.592581323454187,
          10.866358018945181,
          7.819512859628939,
          5.216341691173727,
          8.963638289119041,
          1.9654555159630824,
          9.389415044112708,
          15.468207587681487,
          7.352267600972245,
          9.424109015040527,
          6.859406889444685,
          5.4348526087448965,
          0.6182099067849294,
          9.999008745749727,
          12.637076397795257,
          10.071048410668064,
          10.062374917936111,
          58.69822122527423,
          39.999496756711615,
          3.5920945649764837,
          23.00924784368153,
          8.192270534440484,
          10.637274648645311,
          12.929525940281508,
          16.116820582581333,
          4.037094417368865,
          6.5569579926951285,
          8.493393569658691,
          9.654518246871747,
          13.807222305481222,
          8.292982400617385,
          10.48584768760803,
          20.71867015131764,
          18.417745366949482,
          11.504623921840764,
          11.504623921840764,
          9.744252634994949,
          11.432584256922427,
          9.389415044112708,
          11.468604089381596,
          8.035226829058951,
          5.388485684281467,
          10.832011785758317,
          10.264111948508766,
          10.601254816186142,
          7.396960926163367,
          13.194629143040546,
          14.2550419540767,
          9.618498414412578,
          20.134749190135526,
          30.481247895566895,
          11.468604089381596,
          4.4656681205036906,
          8.520739909385906,
          13.736508502094235,
          10.336151613427104,
          11.203500886622557,
          10.786970722826238,
          6.5569579926951285,
          11.46125645818099,
          8.336349864277159,
          10.228092116049597,
          9.35339521165354,
          7.999206996599781,
          7.159204063131543,
          17.213253226076652,
          10.637274648645311,
          9.928642680103694,
          24.21373998455436,
          11.725033799408678,
          27.47364739023791,
          12.328605731376445,
          3.728073500546599,
          0.41479927693996754,
          0.8313294407362848,
          4.8326065383084815,
          14.027284445308183,
          12.830139935635957,
          13.177629895317594,
          10.98288849639214,
          14.912328441708501,
          11.160133422962783,
          12.939873032285767,
          10.264111948508766,
          10.859010387744576,
          17.213253226076652,
          10.035028578208896,
          9.35339521165354,
          17.478356428835696,
          16.00008759247187,
          11.069768648790143,
          9.769925375449857,
          10.026355085476942,
          11.76105363186785,
          9.724108701389882,
          6.52093816023596,
          17.505702768562905,
          18.008562834353768,
          25.28449988759477,
          9.618498414412578,
          4.85827927876339,
          10.557887352526368,
          11.46125645818099,
          10.557887352526368,
          16.309884120422034,
          17.141213561158317,
          10.300131780967934,
          10.90237785140435,
          11.124113590503615,
          9.955641282089955,
          21.04546592699075,
          12.000484094171977,
          21.78761123000729,
          9.12431184135367,
          81.85644681959285,
          11.725033799408678
         ],
         "yaxis": "y"
        },
        {
         "line": {
          "shape": "linear"
         },
         "name": "y=x",
         "type": "scatter",
         "x": [
          0,
          140
         ],
         "y": [
          0,
          140
         ]
        }
       ],
       "layout": {
        "legend": {
         "tracegroupgap": 0
        },
        "margin": {
         "t": 60
        },
        "template": {
         "data": {
          "bar": [
           {
            "error_x": {
             "color": "#2a3f5f"
            },
            "error_y": {
             "color": "#2a3f5f"
            },
            "marker": {
             "line": {
              "color": "#E5ECF6",
              "width": 0.5
             },
             "pattern": {
              "fillmode": "overlay",
              "size": 10,
              "solidity": 0.2
             }
            },
            "type": "bar"
           }
          ],
          "barpolar": [
           {
            "marker": {
             "line": {
              "color": "#E5ECF6",
              "width": 0.5
             },
             "pattern": {
              "fillmode": "overlay",
              "size": 10,
              "solidity": 0.2
             }
            },
            "type": "barpolar"
           }
          ],
          "carpet": [
           {
            "aaxis": {
             "endlinecolor": "#2a3f5f",
             "gridcolor": "white",
             "linecolor": "white",
             "minorgridcolor": "white",
             "startlinecolor": "#2a3f5f"
            },
            "baxis": {
             "endlinecolor": "#2a3f5f",
             "gridcolor": "white",
             "linecolor": "white",
             "minorgridcolor": "white",
             "startlinecolor": "#2a3f5f"
            },
            "type": "carpet"
           }
          ],
          "choropleth": [
           {
            "colorbar": {
             "outlinewidth": 0,
             "ticks": ""
            },
            "type": "choropleth"
           }
          ],
          "contour": [
           {
            "colorbar": {
             "outlinewidth": 0,
             "ticks": ""
            },
            "colorscale": [
             [
              0,
              "#0d0887"
             ],
             [
              0.1111111111111111,
              "#46039f"
             ],
             [
              0.2222222222222222,
              "#7201a8"
             ],
             [
              0.3333333333333333,
              "#9c179e"
             ],
             [
              0.4444444444444444,
              "#bd3786"
             ],
             [
              0.5555555555555556,
              "#d8576b"
             ],
             [
              0.6666666666666666,
              "#ed7953"
             ],
             [
              0.7777777777777778,
              "#fb9f3a"
             ],
             [
              0.8888888888888888,
              "#fdca26"
             ],
             [
              1,
              "#f0f921"
             ]
            ],
            "type": "contour"
           }
          ],
          "contourcarpet": [
           {
            "colorbar": {
             "outlinewidth": 0,
             "ticks": ""
            },
            "type": "contourcarpet"
           }
          ],
          "heatmap": [
           {
            "colorbar": {
             "outlinewidth": 0,
             "ticks": ""
            },
            "colorscale": [
             [
              0,
              "#0d0887"
             ],
             [
              0.1111111111111111,
              "#46039f"
             ],
             [
              0.2222222222222222,
              "#7201a8"
             ],
             [
              0.3333333333333333,
              "#9c179e"
             ],
             [
              0.4444444444444444,
              "#bd3786"
             ],
             [
              0.5555555555555556,
              "#d8576b"
             ],
             [
              0.6666666666666666,
              "#ed7953"
             ],
             [
              0.7777777777777778,
              "#fb9f3a"
             ],
             [
              0.8888888888888888,
              "#fdca26"
             ],
             [
              1,
              "#f0f921"
             ]
            ],
            "type": "heatmap"
           }
          ],
          "heatmapgl": [
           {
            "colorbar": {
             "outlinewidth": 0,
             "ticks": ""
            },
            "colorscale": [
             [
              0,
              "#0d0887"
             ],
             [
              0.1111111111111111,
              "#46039f"
             ],
             [
              0.2222222222222222,
              "#7201a8"
             ],
             [
              0.3333333333333333,
              "#9c179e"
             ],
             [
              0.4444444444444444,
              "#bd3786"
             ],
             [
              0.5555555555555556,
              "#d8576b"
             ],
             [
              0.6666666666666666,
              "#ed7953"
             ],
             [
              0.7777777777777778,
              "#fb9f3a"
             ],
             [
              0.8888888888888888,
              "#fdca26"
             ],
             [
              1,
              "#f0f921"
             ]
            ],
            "type": "heatmapgl"
           }
          ],
          "histogram": [
           {
            "marker": {
             "pattern": {
              "fillmode": "overlay",
              "size": 10,
              "solidity": 0.2
             }
            },
            "type": "histogram"
           }
          ],
          "histogram2d": [
           {
            "colorbar": {
             "outlinewidth": 0,
             "ticks": ""
            },
            "colorscale": [
             [
              0,
              "#0d0887"
             ],
             [
              0.1111111111111111,
              "#46039f"
             ],
             [
              0.2222222222222222,
              "#7201a8"
             ],
             [
              0.3333333333333333,
              "#9c179e"
             ],
             [
              0.4444444444444444,
              "#bd3786"
             ],
             [
              0.5555555555555556,
              "#d8576b"
             ],
             [
              0.6666666666666666,
              "#ed7953"
             ],
             [
              0.7777777777777778,
              "#fb9f3a"
             ],
             [
              0.8888888888888888,
              "#fdca26"
             ],
             [
              1,
              "#f0f921"
             ]
            ],
            "type": "histogram2d"
           }
          ],
          "histogram2dcontour": [
           {
            "colorbar": {
             "outlinewidth": 0,
             "ticks": ""
            },
            "colorscale": [
             [
              0,
              "#0d0887"
             ],
             [
              0.1111111111111111,
              "#46039f"
             ],
             [
              0.2222222222222222,
              "#7201a8"
             ],
             [
              0.3333333333333333,
              "#9c179e"
             ],
             [
              0.4444444444444444,
              "#bd3786"
             ],
             [
              0.5555555555555556,
              "#d8576b"
             ],
             [
              0.6666666666666666,
              "#ed7953"
             ],
             [
              0.7777777777777778,
              "#fb9f3a"
             ],
             [
              0.8888888888888888,
              "#fdca26"
             ],
             [
              1,
              "#f0f921"
             ]
            ],
            "type": "histogram2dcontour"
           }
          ],
          "mesh3d": [
           {
            "colorbar": {
             "outlinewidth": 0,
             "ticks": ""
            },
            "type": "mesh3d"
           }
          ],
          "parcoords": [
           {
            "line": {
             "colorbar": {
              "outlinewidth": 0,
              "ticks": ""
             }
            },
            "type": "parcoords"
           }
          ],
          "pie": [
           {
            "automargin": true,
            "type": "pie"
           }
          ],
          "scatter": [
           {
            "fillpattern": {
             "fillmode": "overlay",
             "size": 10,
             "solidity": 0.2
            },
            "type": "scatter"
           }
          ],
          "scatter3d": [
           {
            "line": {
             "colorbar": {
              "outlinewidth": 0,
              "ticks": ""
             }
            },
            "marker": {
             "colorbar": {
              "outlinewidth": 0,
              "ticks": ""
             }
            },
            "type": "scatter3d"
           }
          ],
          "scattercarpet": [
           {
            "marker": {
             "colorbar": {
              "outlinewidth": 0,
              "ticks": ""
             }
            },
            "type": "scattercarpet"
           }
          ],
          "scattergeo": [
           {
            "marker": {
             "colorbar": {
              "outlinewidth": 0,
              "ticks": ""
             }
            },
            "type": "scattergeo"
           }
          ],
          "scattergl": [
           {
            "marker": {
             "colorbar": {
              "outlinewidth": 0,
              "ticks": ""
             }
            },
            "type": "scattergl"
           }
          ],
          "scattermapbox": [
           {
            "marker": {
             "colorbar": {
              "outlinewidth": 0,
              "ticks": ""
             }
            },
            "type": "scattermapbox"
           }
          ],
          "scatterpolar": [
           {
            "marker": {
             "colorbar": {
              "outlinewidth": 0,
              "ticks": ""
             }
            },
            "type": "scatterpolar"
           }
          ],
          "scatterpolargl": [
           {
            "marker": {
             "colorbar": {
              "outlinewidth": 0,
              "ticks": ""
             }
            },
            "type": "scatterpolargl"
           }
          ],
          "scatterternary": [
           {
            "marker": {
             "colorbar": {
              "outlinewidth": 0,
              "ticks": ""
             }
            },
            "type": "scatterternary"
           }
          ],
          "surface": [
           {
            "colorbar": {
             "outlinewidth": 0,
             "ticks": ""
            },
            "colorscale": [
             [
              0,
              "#0d0887"
             ],
             [
              0.1111111111111111,
              "#46039f"
             ],
             [
              0.2222222222222222,
              "#7201a8"
             ],
             [
              0.3333333333333333,
              "#9c179e"
             ],
             [
              0.4444444444444444,
              "#bd3786"
             ],
             [
              0.5555555555555556,
              "#d8576b"
             ],
             [
              0.6666666666666666,
              "#ed7953"
             ],
             [
              0.7777777777777778,
              "#fb9f3a"
             ],
             [
              0.8888888888888888,
              "#fdca26"
             ],
             [
              1,
              "#f0f921"
             ]
            ],
            "type": "surface"
           }
          ],
          "table": [
           {
            "cells": {
             "fill": {
              "color": "#EBF0F8"
             },
             "line": {
              "color": "white"
             }
            },
            "header": {
             "fill": {
              "color": "#C8D4E3"
             },
             "line": {
              "color": "white"
             }
            },
            "type": "table"
           }
          ]
         },
         "layout": {
          "annotationdefaults": {
           "arrowcolor": "#2a3f5f",
           "arrowhead": 0,
           "arrowwidth": 1
          },
          "autotypenumbers": "strict",
          "coloraxis": {
           "colorbar": {
            "outlinewidth": 0,
            "ticks": ""
           }
          },
          "colorscale": {
           "diverging": [
            [
             0,
             "#8e0152"
            ],
            [
             0.1,
             "#c51b7d"
            ],
            [
             0.2,
             "#de77ae"
            ],
            [
             0.3,
             "#f1b6da"
            ],
            [
             0.4,
             "#fde0ef"
            ],
            [
             0.5,
             "#f7f7f7"
            ],
            [
             0.6,
             "#e6f5d0"
            ],
            [
             0.7,
             "#b8e186"
            ],
            [
             0.8,
             "#7fbc41"
            ],
            [
             0.9,
             "#4d9221"
            ],
            [
             1,
             "#276419"
            ]
           ],
           "sequential": [
            [
             0,
             "#0d0887"
            ],
            [
             0.1111111111111111,
             "#46039f"
            ],
            [
             0.2222222222222222,
             "#7201a8"
            ],
            [
             0.3333333333333333,
             "#9c179e"
            ],
            [
             0.4444444444444444,
             "#bd3786"
            ],
            [
             0.5555555555555556,
             "#d8576b"
            ],
            [
             0.6666666666666666,
             "#ed7953"
            ],
            [
             0.7777777777777778,
             "#fb9f3a"
            ],
            [
             0.8888888888888888,
             "#fdca26"
            ],
            [
             1,
             "#f0f921"
            ]
           ],
           "sequentialminus": [
            [
             0,
             "#0d0887"
            ],
            [
             0.1111111111111111,
             "#46039f"
            ],
            [
             0.2222222222222222,
             "#7201a8"
            ],
            [
             0.3333333333333333,
             "#9c179e"
            ],
            [
             0.4444444444444444,
             "#bd3786"
            ],
            [
             0.5555555555555556,
             "#d8576b"
            ],
            [
             0.6666666666666666,
             "#ed7953"
            ],
            [
             0.7777777777777778,
             "#fb9f3a"
            ],
            [
             0.8888888888888888,
             "#fdca26"
            ],
            [
             1,
             "#f0f921"
            ]
           ]
          },
          "colorway": [
           "#636efa",
           "#EF553B",
           "#00cc96",
           "#ab63fa",
           "#FFA15A",
           "#19d3f3",
           "#FF6692",
           "#B6E880",
           "#FF97FF",
           "#FECB52"
          ],
          "font": {
           "color": "#2a3f5f"
          },
          "geo": {
           "bgcolor": "white",
           "lakecolor": "white",
           "landcolor": "#E5ECF6",
           "showlakes": true,
           "showland": true,
           "subunitcolor": "white"
          },
          "hoverlabel": {
           "align": "left"
          },
          "hovermode": "closest",
          "mapbox": {
           "style": "light"
          },
          "paper_bgcolor": "white",
          "plot_bgcolor": "#E5ECF6",
          "polar": {
           "angularaxis": {
            "gridcolor": "white",
            "linecolor": "white",
            "ticks": ""
           },
           "bgcolor": "#E5ECF6",
           "radialaxis": {
            "gridcolor": "white",
            "linecolor": "white",
            "ticks": ""
           }
          },
          "scene": {
           "xaxis": {
            "backgroundcolor": "#E5ECF6",
            "gridcolor": "white",
            "gridwidth": 2,
            "linecolor": "white",
            "showbackground": true,
            "ticks": "",
            "zerolinecolor": "white"
           },
           "yaxis": {
            "backgroundcolor": "#E5ECF6",
            "gridcolor": "white",
            "gridwidth": 2,
            "linecolor": "white",
            "showbackground": true,
            "ticks": "",
            "zerolinecolor": "white"
           },
           "zaxis": {
            "backgroundcolor": "#E5ECF6",
            "gridcolor": "white",
            "gridwidth": 2,
            "linecolor": "white",
            "showbackground": true,
            "ticks": "",
            "zerolinecolor": "white"
           }
          },
          "shapedefaults": {
           "line": {
            "color": "#2a3f5f"
           }
          },
          "ternary": {
           "aaxis": {
            "gridcolor": "white",
            "linecolor": "white",
            "ticks": ""
           },
           "baxis": {
            "gridcolor": "white",
            "linecolor": "white",
            "ticks": ""
           },
           "bgcolor": "#E5ECF6",
           "caxis": {
            "gridcolor": "white",
            "linecolor": "white",
            "ticks": ""
           }
          },
          "title": {
           "x": 0.05
          },
          "xaxis": {
           "automargin": true,
           "gridcolor": "white",
           "linecolor": "white",
           "ticks": "",
           "title": {
            "standoff": 15
           },
           "zerolinecolor": "white",
           "zerolinewidth": 2
          },
          "yaxis": {
           "automargin": true,
           "gridcolor": "white",
           "linecolor": "white",
           "ticks": "",
           "title": {
            "standoff": 15
           },
           "zerolinecolor": "white",
           "zerolinewidth": 2
          }
         }
        },
        "xaxis": {
         "anchor": "y",
         "domain": [
          0,
          1
         ],
         "title": {
          "text": "y"
         }
        },
        "yaxis": {
         "anchor": "x",
         "domain": [
          0,
          1
         ],
         "title": {
          "text": "y-hat"
         }
        }
       }
      },
      "text/html": [
       "<div>                            <div id=\"5989c5d5-0a70-4330-8d41-aac178479ef9\" class=\"plotly-graph-div\" style=\"height:525px; width:100%;\"></div>            <script type=\"text/javascript\">                require([\"plotly\"], function(Plotly) {                    window.PLOTLYENV=window.PLOTLYENV || {};                                    if (document.getElementById(\"5989c5d5-0a70-4330-8d41-aac178479ef9\")) {                    Plotly.newPlot(                        \"5989c5d5-0a70-4330-8d41-aac178479ef9\",                        [{\"hovertemplate\":\"y=%{x}<br>y-hat=%{y}<extra></extra>\",\"legendgroup\":\"\",\"marker\":{\"color\":\"#636efa\",\"symbol\":\"circle\"},\"mode\":\"markers\",\"name\":\"\",\"orientation\":\"v\",\"showlegend\":false,\"x\":[5.18,10.2,1.5,10.87,16.77,16.44,13.46,8.44,18.81,19.8,8.97,10.46,13.57,14.6,37.95,11.58,3.99,10.2,5.87,10.85,10.4,11.94,11.2,8.96,15.63,10.2,12.11,7.95,14.95,10.17,7.95,8.39,13.6,8.75,26.61,9.59,12.52,11.16,10.22,4.99,10.4,10.54,15.82,15.6,10.17,6.99,5.99,11.16,20.48,16.32,9.07,8.38,8.97,10.2,8.99,6.99,9.99,11.36,83.04,44.32,7.97,7.97,12.24,54.61,10.2,11.46,10.2,11.5,14.99,6.99,10.2,10.88,39.92,10.2,6.99,9.07,16.46,7.83,10.19,17.43,7.99,8.0,9.95,14.61,11.2,10.46,6.99,8.97,12.24,9.2,6.99,10.88,8.99,9.09,10.75,12.24,8.99,11.55,11.2,19.99,139.95,16.47,5.98,6.95,13.0,14.44,5.13,13.98,11.55,8.95,8.6,10.22,13.43,11.08,13.6,10.2,10.17,8.39,10.19,11.2,8.36,15.2,8.68,10.33,25.95,16.5,9.99,15.44,10.58,8.84,8.15,22.81,11.24,8.59,10.19,12.17,7.99,7.98,11.2,13.29,10.77,13.83,9.6,10.17,7.9,11.55,10.2,6.95,8.75,10.2,13.6,10.88,10.2,10.88,10.09,8.24,8.61,8.95,5.99,8.87,9.98,11.08,35.95,10.98,7.95,10.79,98.95,25.84,15.68,25.0,5.98,9.64,10.85,16.91,5.99,8.11,12.47,9.99,10.85,9.57,11.08,8.07,6.0,9.75,21.75,17.73,9.58,7.89,16.32,6.95,10.22,10.88,17.79,15.44,7.99,12.08,21.68,6.99,9.99,6.99,10.2,7.51,9.99,7.7,10.2,15.48,10.77,8.43,6.4,9.0,7.75,11.99,4.99,8.5,22.0,7.31,10.68,8.95,8.99,7.95,10.09,11.44,9.28,9.66,55.75,39.72,9.99,20.0,8.6,8.04,10.68,14.96,8.42,9.99,8.52,8.26,11.16,7.82,9.16,16.09,15.62,8.84,8.92,8.05,11.56,7.7,8.8,6.4,4.94,10.21,8.0,8.36,9.22,9.99,12.5,8.95,22.51,23.79,9.52,13.13,7.79,10.86,11.2,10.2,11.53,9.99,10.17,8.8,10.47,7.9,9.09,9.99,14.46,8.22,8.98,23.94,11.28,24.9,9.92,7.77,3.95,0.77,8.99,15.15,13.6,13.6,8.45,14.96,10.17,10.88,10.11,8.28,14.7,14.0,5.98,13.7,17.99,12.17,10.29,11.19,8.5,12.6,6.9,14.69,16.08,23.1,10.68,6.99,10.75,10.17,10.17,10.0,13.49,10.2,10.2,10.85,8.14,19.01,12.24,27.55,5.18,97.5,4.95],\"xaxis\":\"x\",\"y\":[8.823188806135462,10.90237785140435,0.3976548041385581,9.050946314903982,22.238430339406428,18.83254464388945,12.575383824881179,10.601254816186142,22.875515605849117,21.549999592053922,9.625846045613184,10.228092116049597,12.230893326003198,14.335755111726995,32.241619182412705,12.301607129390185,3.655112999421911,10.601254816186142,4.698381337656657,10.56823444453063,9.769925375449857,6.742673899335225,10.637274648645311,10.557887352526368,14.56651208129917,10.90237785140435,11.998810494899674,2.4249481180941728,9.955641282089955,10.256764317308162,3.9305632941852098,9.965988374094215,11.926770829981336,10.938397683863519,24.08118838317484,9.195025644740657,8.62614768370071,10.29278414976733,10.601254816186142,1.6643324807448754,10.071048410668064,11.531970261567979,17.169885762416882,19.240401314953814,10.859010387744576,3.3935823559319247,3.9909300055679364,7.582676832803464,19.205707344025996,15.442534847226577,9.962988913290559,9.424109015040527,9.928642680103694,10.300131780967934,5.087362649063261,5.761648384418012,8.997782009643403,13.79687521347696,97.29281467207171,39.999496756711615,10.220744484848993,10.220744484848993,13.203302635772502,73.00703502259901,10.601254816186142,9.627519644885487,10.601254816186142,5.156548078256396,19.205707344025996,3.051541067454146,10.601254816186142,11.468604089381596,45.287878112803675,10.90237785140435,3.954910173108768,8.300330031817989,14.131714095832594,9.991661114549123,8.832210036608373,22.152245662490337,3.617767305431392,5.132055974254383,11.459930596649642,18.035909174080984,17.999889341621817,10.228092116049597,3.3526641026723536,10.905377312208005,13.203302635772502,10.866358018945181,3.3526641026723536,10.264111948508766,4.183993543408638,11.167481054163389,10.75997212083998,11.744054384144894,5.4348526087448965,10.876705110949441,10.336151613427104,22.736797009721887,119.87991560761266,18.62913401404449,9.955641282089955,3.619093166962742,16.87611035839928,17.177233393617485,7.425633127421931,16.795397200748987,12.929525940281508,7.160529924662892,11.46125645818099,10.5218675200672,11.635994886767389,10.336151613427104,15.540247252599825,10.601254816186142,10.256764317308162,10.5218675200672,9.388089182581359,10.336151613427104,9.12431184135367,17.505702768562905,9.999008745749727,11.203500886622557,18.63948110604875,16.91213019085845,6.858081027913336,18.035909174080984,12.939873032285767,8.840883529340326,11.203500886622557,19.016991976582243,10.229765715321902,10.565234983726974,9.990335253017774,10.16639954313552,3.9188903406495994,9.928642680103694,10.336151613427104,8.515841488585501,10.264111948508766,7.8260848797016465,8.300330031817989,10.859010387744576,10.601254816186142,11.771400723872107,10.90237785140435,3.0168470965263277,10.938397683863519,10.300131780967934,11.672014719226556,10.866358018945181,10.90237785140435,11.769727124599804,10.300131780967934,10.90237785140435,10.565234983726974,6.558283854226477,3.9909300055679364,10.264111948508766,11.203500886622557,10.336151613427104,29.675591195285516,10.893704358672395,3.6294402589670023,9.964662512562864,80.1492398380076,27.996506164555385,12.943445591554822,27.151750035365197,9.654518246871747,10.071048410668064,11.425236625721823,17.478356428835696,2.1841917942586924,9.990335253017774,12.070850159818011,5.051342816604092,11.425236625721823,9.990335253017774,10.035028578208896,9.389415044112708,10.90237785140435,11.167481054163389,23.8075569127623,18.30233823837137,10.602928415458448,11.203500886622557,16.3459039528812,4.221339237399158,10.866358018945181,11.468604089381596,19.80795341446241,18.035909174080984,5.424505516740636,10.75095089036707,29.502121340646422,4.85827927876339,5.051342816604092,4.256033208326976,11.504623921840764,8.902576102254404,6.858081027913336,7.990533503867828,10.300131780967934,16.600660063635978,11.769727124599804,10.592581323454187,10.866358018945181,7.819512859628939,5.216341691173727,8.963638289119041,1.9654555159630824,9.389415044112708,15.468207587681487,7.352267600972245,9.424109015040527,6.859406889444685,5.4348526087448965,0.6182099067849294,9.999008745749727,12.637076397795257,10.071048410668064,10.062374917936111,58.69822122527423,39.999496756711615,3.5920945649764837,23.00924784368153,8.192270534440484,10.637274648645311,12.929525940281508,16.116820582581333,4.037094417368865,6.5569579926951285,8.493393569658691,9.654518246871747,13.807222305481222,8.292982400617385,10.48584768760803,20.71867015131764,18.417745366949482,11.504623921840764,11.504623921840764,9.744252634994949,11.432584256922427,9.389415044112708,11.468604089381596,8.035226829058951,5.388485684281467,10.832011785758317,10.264111948508766,10.601254816186142,7.396960926163367,13.194629143040546,14.2550419540767,9.618498414412578,20.134749190135526,30.481247895566895,11.468604089381596,4.4656681205036906,8.520739909385906,13.736508502094235,10.336151613427104,11.203500886622557,10.786970722826238,6.5569579926951285,11.46125645818099,8.336349864277159,10.228092116049597,9.35339521165354,7.999206996599781,7.159204063131543,17.213253226076652,10.637274648645311,9.928642680103694,24.21373998455436,11.725033799408678,27.47364739023791,12.328605731376445,3.728073500546599,0.41479927693996754,0.8313294407362848,4.8326065383084815,14.027284445308183,12.830139935635957,13.177629895317594,10.98288849639214,14.912328441708501,11.160133422962783,12.939873032285767,10.264111948508766,10.859010387744576,17.213253226076652,10.035028578208896,9.35339521165354,17.478356428835696,16.00008759247187,11.069768648790143,9.769925375449857,10.026355085476942,11.76105363186785,9.724108701389882,6.52093816023596,17.505702768562905,18.008562834353768,25.28449988759477,9.618498414412578,4.85827927876339,10.557887352526368,11.46125645818099,10.557887352526368,16.309884120422034,17.141213561158317,10.300131780967934,10.90237785140435,11.124113590503615,9.955641282089955,21.04546592699075,12.000484094171977,21.78761123000729,9.12431184135367,81.85644681959285,11.725033799408678],\"yaxis\":\"y\",\"type\":\"scatter\"},{\"line\":{\"shape\":\"linear\"},\"name\":\"y=x\",\"x\":[0,140],\"y\":[0,140],\"type\":\"scatter\"}],                        {\"template\":{\"data\":{\"histogram2dcontour\":[{\"type\":\"histogram2dcontour\",\"colorbar\":{\"outlinewidth\":0,\"ticks\":\"\"},\"colorscale\":[[0.0,\"#0d0887\"],[0.1111111111111111,\"#46039f\"],[0.2222222222222222,\"#7201a8\"],[0.3333333333333333,\"#9c179e\"],[0.4444444444444444,\"#bd3786\"],[0.5555555555555556,\"#d8576b\"],[0.6666666666666666,\"#ed7953\"],[0.7777777777777778,\"#fb9f3a\"],[0.8888888888888888,\"#fdca26\"],[1.0,\"#f0f921\"]]}],\"choropleth\":[{\"type\":\"choropleth\",\"colorbar\":{\"outlinewidth\":0,\"ticks\":\"\"}}],\"histogram2d\":[{\"type\":\"histogram2d\",\"colorbar\":{\"outlinewidth\":0,\"ticks\":\"\"},\"colorscale\":[[0.0,\"#0d0887\"],[0.1111111111111111,\"#46039f\"],[0.2222222222222222,\"#7201a8\"],[0.3333333333333333,\"#9c179e\"],[0.4444444444444444,\"#bd3786\"],[0.5555555555555556,\"#d8576b\"],[0.6666666666666666,\"#ed7953\"],[0.7777777777777778,\"#fb9f3a\"],[0.8888888888888888,\"#fdca26\"],[1.0,\"#f0f921\"]]}],\"heatmap\":[{\"type\":\"heatmap\",\"colorbar\":{\"outlinewidth\":0,\"ticks\":\"\"},\"colorscale\":[[0.0,\"#0d0887\"],[0.1111111111111111,\"#46039f\"],[0.2222222222222222,\"#7201a8\"],[0.3333333333333333,\"#9c179e\"],[0.4444444444444444,\"#bd3786\"],[0.5555555555555556,\"#d8576b\"],[0.6666666666666666,\"#ed7953\"],[0.7777777777777778,\"#fb9f3a\"],[0.8888888888888888,\"#fdca26\"],[1.0,\"#f0f921\"]]}],\"heatmapgl\":[{\"type\":\"heatmapgl\",\"colorbar\":{\"outlinewidth\":0,\"ticks\":\"\"},\"colorscale\":[[0.0,\"#0d0887\"],[0.1111111111111111,\"#46039f\"],[0.2222222222222222,\"#7201a8\"],[0.3333333333333333,\"#9c179e\"],[0.4444444444444444,\"#bd3786\"],[0.5555555555555556,\"#d8576b\"],[0.6666666666666666,\"#ed7953\"],[0.7777777777777778,\"#fb9f3a\"],[0.8888888888888888,\"#fdca26\"],[1.0,\"#f0f921\"]]}],\"contourcarpet\":[{\"type\":\"contourcarpet\",\"colorbar\":{\"outlinewidth\":0,\"ticks\":\"\"}}],\"contour\":[{\"type\":\"contour\",\"colorbar\":{\"outlinewidth\":0,\"ticks\":\"\"},\"colorscale\":[[0.0,\"#0d0887\"],[0.1111111111111111,\"#46039f\"],[0.2222222222222222,\"#7201a8\"],[0.3333333333333333,\"#9c179e\"],[0.4444444444444444,\"#bd3786\"],[0.5555555555555556,\"#d8576b\"],[0.6666666666666666,\"#ed7953\"],[0.7777777777777778,\"#fb9f3a\"],[0.8888888888888888,\"#fdca26\"],[1.0,\"#f0f921\"]]}],\"surface\":[{\"type\":\"surface\",\"colorbar\":{\"outlinewidth\":0,\"ticks\":\"\"},\"colorscale\":[[0.0,\"#0d0887\"],[0.1111111111111111,\"#46039f\"],[0.2222222222222222,\"#7201a8\"],[0.3333333333333333,\"#9c179e\"],[0.4444444444444444,\"#bd3786\"],[0.5555555555555556,\"#d8576b\"],[0.6666666666666666,\"#ed7953\"],[0.7777777777777778,\"#fb9f3a\"],[0.8888888888888888,\"#fdca26\"],[1.0,\"#f0f921\"]]}],\"mesh3d\":[{\"type\":\"mesh3d\",\"colorbar\":{\"outlinewidth\":0,\"ticks\":\"\"}}],\"scatter\":[{\"fillpattern\":{\"fillmode\":\"overlay\",\"size\":10,\"solidity\":0.2},\"type\":\"scatter\"}],\"parcoords\":[{\"type\":\"parcoords\",\"line\":{\"colorbar\":{\"outlinewidth\":0,\"ticks\":\"\"}}}],\"scatterpolargl\":[{\"type\":\"scatterpolargl\",\"marker\":{\"colorbar\":{\"outlinewidth\":0,\"ticks\":\"\"}}}],\"bar\":[{\"error_x\":{\"color\":\"#2a3f5f\"},\"error_y\":{\"color\":\"#2a3f5f\"},\"marker\":{\"line\":{\"color\":\"#E5ECF6\",\"width\":0.5},\"pattern\":{\"fillmode\":\"overlay\",\"size\":10,\"solidity\":0.2}},\"type\":\"bar\"}],\"scattergeo\":[{\"type\":\"scattergeo\",\"marker\":{\"colorbar\":{\"outlinewidth\":0,\"ticks\":\"\"}}}],\"scatterpolar\":[{\"type\":\"scatterpolar\",\"marker\":{\"colorbar\":{\"outlinewidth\":0,\"ticks\":\"\"}}}],\"histogram\":[{\"marker\":{\"pattern\":{\"fillmode\":\"overlay\",\"size\":10,\"solidity\":0.2}},\"type\":\"histogram\"}],\"scattergl\":[{\"type\":\"scattergl\",\"marker\":{\"colorbar\":{\"outlinewidth\":0,\"ticks\":\"\"}}}],\"scatter3d\":[{\"type\":\"scatter3d\",\"line\":{\"colorbar\":{\"outlinewidth\":0,\"ticks\":\"\"}},\"marker\":{\"colorbar\":{\"outlinewidth\":0,\"ticks\":\"\"}}}],\"scattermapbox\":[{\"type\":\"scattermapbox\",\"marker\":{\"colorbar\":{\"outlinewidth\":0,\"ticks\":\"\"}}}],\"scatterternary\":[{\"type\":\"scatterternary\",\"marker\":{\"colorbar\":{\"outlinewidth\":0,\"ticks\":\"\"}}}],\"scattercarpet\":[{\"type\":\"scattercarpet\",\"marker\":{\"colorbar\":{\"outlinewidth\":0,\"ticks\":\"\"}}}],\"carpet\":[{\"aaxis\":{\"endlinecolor\":\"#2a3f5f\",\"gridcolor\":\"white\",\"linecolor\":\"white\",\"minorgridcolor\":\"white\",\"startlinecolor\":\"#2a3f5f\"},\"baxis\":{\"endlinecolor\":\"#2a3f5f\",\"gridcolor\":\"white\",\"linecolor\":\"white\",\"minorgridcolor\":\"white\",\"startlinecolor\":\"#2a3f5f\"},\"type\":\"carpet\"}],\"table\":[{\"cells\":{\"fill\":{\"color\":\"#EBF0F8\"},\"line\":{\"color\":\"white\"}},\"header\":{\"fill\":{\"color\":\"#C8D4E3\"},\"line\":{\"color\":\"white\"}},\"type\":\"table\"}],\"barpolar\":[{\"marker\":{\"line\":{\"color\":\"#E5ECF6\",\"width\":0.5},\"pattern\":{\"fillmode\":\"overlay\",\"size\":10,\"solidity\":0.2}},\"type\":\"barpolar\"}],\"pie\":[{\"automargin\":true,\"type\":\"pie\"}]},\"layout\":{\"autotypenumbers\":\"strict\",\"colorway\":[\"#636efa\",\"#EF553B\",\"#00cc96\",\"#ab63fa\",\"#FFA15A\",\"#19d3f3\",\"#FF6692\",\"#B6E880\",\"#FF97FF\",\"#FECB52\"],\"font\":{\"color\":\"#2a3f5f\"},\"hovermode\":\"closest\",\"hoverlabel\":{\"align\":\"left\"},\"paper_bgcolor\":\"white\",\"plot_bgcolor\":\"#E5ECF6\",\"polar\":{\"bgcolor\":\"#E5ECF6\",\"angularaxis\":{\"gridcolor\":\"white\",\"linecolor\":\"white\",\"ticks\":\"\"},\"radialaxis\":{\"gridcolor\":\"white\",\"linecolor\":\"white\",\"ticks\":\"\"}},\"ternary\":{\"bgcolor\":\"#E5ECF6\",\"aaxis\":{\"gridcolor\":\"white\",\"linecolor\":\"white\",\"ticks\":\"\"},\"baxis\":{\"gridcolor\":\"white\",\"linecolor\":\"white\",\"ticks\":\"\"},\"caxis\":{\"gridcolor\":\"white\",\"linecolor\":\"white\",\"ticks\":\"\"}},\"coloraxis\":{\"colorbar\":{\"outlinewidth\":0,\"ticks\":\"\"}},\"colorscale\":{\"sequential\":[[0.0,\"#0d0887\"],[0.1111111111111111,\"#46039f\"],[0.2222222222222222,\"#7201a8\"],[0.3333333333333333,\"#9c179e\"],[0.4444444444444444,\"#bd3786\"],[0.5555555555555556,\"#d8576b\"],[0.6666666666666666,\"#ed7953\"],[0.7777777777777778,\"#fb9f3a\"],[0.8888888888888888,\"#fdca26\"],[1.0,\"#f0f921\"]],\"sequentialminus\":[[0.0,\"#0d0887\"],[0.1111111111111111,\"#46039f\"],[0.2222222222222222,\"#7201a8\"],[0.3333333333333333,\"#9c179e\"],[0.4444444444444444,\"#bd3786\"],[0.5555555555555556,\"#d8576b\"],[0.6666666666666666,\"#ed7953\"],[0.7777777777777778,\"#fb9f3a\"],[0.8888888888888888,\"#fdca26\"],[1.0,\"#f0f921\"]],\"diverging\":[[0,\"#8e0152\"],[0.1,\"#c51b7d\"],[0.2,\"#de77ae\"],[0.3,\"#f1b6da\"],[0.4,\"#fde0ef\"],[0.5,\"#f7f7f7\"],[0.6,\"#e6f5d0\"],[0.7,\"#b8e186\"],[0.8,\"#7fbc41\"],[0.9,\"#4d9221\"],[1,\"#276419\"]]},\"xaxis\":{\"gridcolor\":\"white\",\"linecolor\":\"white\",\"ticks\":\"\",\"title\":{\"standoff\":15},\"zerolinecolor\":\"white\",\"automargin\":true,\"zerolinewidth\":2},\"yaxis\":{\"gridcolor\":\"white\",\"linecolor\":\"white\",\"ticks\":\"\",\"title\":{\"standoff\":15},\"zerolinecolor\":\"white\",\"automargin\":true,\"zerolinewidth\":2},\"scene\":{\"xaxis\":{\"backgroundcolor\":\"#E5ECF6\",\"gridcolor\":\"white\",\"linecolor\":\"white\",\"showbackground\":true,\"ticks\":\"\",\"zerolinecolor\":\"white\",\"gridwidth\":2},\"yaxis\":{\"backgroundcolor\":\"#E5ECF6\",\"gridcolor\":\"white\",\"linecolor\":\"white\",\"showbackground\":true,\"ticks\":\"\",\"zerolinecolor\":\"white\",\"gridwidth\":2},\"zaxis\":{\"backgroundcolor\":\"#E5ECF6\",\"gridcolor\":\"white\",\"linecolor\":\"white\",\"showbackground\":true,\"ticks\":\"\",\"zerolinecolor\":\"white\",\"gridwidth\":2}},\"shapedefaults\":{\"line\":{\"color\":\"#2a3f5f\"}},\"annotationdefaults\":{\"arrowcolor\":\"#2a3f5f\",\"arrowhead\":0,\"arrowwidth\":1},\"geo\":{\"bgcolor\":\"white\",\"landcolor\":\"#E5ECF6\",\"subunitcolor\":\"white\",\"showland\":true,\"showlakes\":true,\"lakecolor\":\"white\"},\"title\":{\"x\":0.05},\"mapbox\":{\"style\":\"light\"}}},\"xaxis\":{\"anchor\":\"y\",\"domain\":[0.0,1.0],\"title\":{\"text\":\"y\"}},\"yaxis\":{\"anchor\":\"x\",\"domain\":[0.0,1.0],\"title\":{\"text\":\"y-hat\"}},\"legend\":{\"tracegroupgap\":0},\"margin\":{\"t\":60}},                        {\"responsive\": true}                    ).then(function(){\n",
       "                            \n",
       "var gd = document.getElementById('5989c5d5-0a70-4330-8d41-aac178479ef9');\n",
       "var x = new MutationObserver(function (mutations, observer) {{\n",
       "        var display = window.getComputedStyle(gd).display;\n",
       "        if (!display || display === 'none') {{\n",
       "            console.log([gd, 'removed!']);\n",
       "            Plotly.purge(gd);\n",
       "            observer.disconnect();\n",
       "        }}\n",
       "}});\n",
       "\n",
       "// Listen for the removal of the full notebook cells\n",
       "var notebookContainer = gd.closest('#notebook-container');\n",
       "if (notebookContainer) {{\n",
       "    x.observe(notebookContainer, {childList: true});\n",
       "}}\n",
       "\n",
       "// Listen for the clearing of the current output cell\n",
       "var outputEl = gd.closest('.output');\n",
       "if (outputEl) {{\n",
       "    x.observe(outputEl, {childList: true});\n",
       "}}\n",
       "\n",
       "                        })                };                });            </script>        </div>"
      ]
     },
     "metadata": {},
     "output_type": "display_data"
    }
   ],
   "source": [
    "# fit_model7\n",
    "y_7 = fit_model7.model.endog\n",
    "print(\"r =\",np.corrcoef(y_7, fit_model7.predict())[0,1])\n",
    "fig = px.scatter(x=y_7, y=fit_model7.predict(),\n",
    "                 labels={\"x\": \"y\", \"y\": \"y-hat\"},)\n",
    "fig.add_trace(go.Scatter(x=[0,140], y=[0,140], name=\"y=x\", line_shape='linear'))\n",
    "fig.show()"
   ]
  },
  {
   "cell_type": "code",
   "execution_count": 131,
   "id": "3395320c",
   "metadata": {},
   "outputs": [
    {
     "data": {
      "text/plain": [
       "0.9232656686164151"
      ]
     },
     "execution_count": 131,
     "metadata": {},
     "output_type": "execute_result"
    }
   ],
   "source": [
    "0.960867144102875**2"
   ]
  },
  {
   "cell_type": "code",
   "execution_count": 104,
   "id": "ccda1fcc",
   "metadata": {},
   "outputs": [
    {
     "name": "stdout",
     "output_type": "stream",
     "text": [
      "r = 0.4733900350278686\n"
     ]
    },
    {
     "data": {
      "application/vnd.plotly.v1+json": {
       "config": {
        "plotlyServerURL": "https://plot.ly"
       },
       "data": [
        {
         "hovertemplate": "y=%{x}<br>y-hat=%{y}<extra></extra>",
         "legendgroup": "",
         "marker": {
          "color": "#636efa",
          "symbol": "circle"
         },
         "mode": "markers",
         "name": "",
         "orientation": "v",
         "showlegend": false,
         "type": "scatter",
         "x": [
          5.18,
          10.2,
          1.5,
          10.87,
          16.77,
          16.44,
          13.46,
          8.44,
          19.8,
          8.97,
          10.46,
          13.57,
          14.6,
          37.95,
          11.58,
          3.99,
          10.2,
          5.87,
          10.85,
          10.4,
          11.94,
          11.2,
          8.96,
          15.63,
          10.2,
          12.11,
          7.95,
          14.95,
          10.17,
          7.95,
          8.39,
          13.6,
          8.75,
          26.61,
          9.59,
          12.52,
          11.16,
          10.22,
          4.99,
          10.4,
          10.54,
          15.82,
          15.6,
          10.17,
          6.99,
          5.99,
          11.16,
          20.48,
          16.32,
          9.07,
          8.38,
          8.97,
          10.2,
          8.99,
          6.99,
          9.99,
          11.36,
          83.04,
          44.32,
          7.97,
          7.97,
          12.24,
          54.61,
          10.2,
          11.46,
          10.2,
          11.5,
          14.99,
          6.99,
          10.2,
          10.88,
          39.92,
          10.2,
          6.99,
          9.07,
          16.46,
          7.83,
          10.19,
          17.43,
          7.99,
          8,
          9.95,
          14.61,
          11.2,
          10.46,
          6.99,
          8.97,
          12.24,
          9.2,
          6.99,
          10.88,
          8.99,
          9.09,
          12.24,
          8.99,
          11.55,
          11.2,
          19.99,
          139.95,
          16.47,
          5.98,
          6.95,
          13,
          14.44,
          5.13,
          11.55,
          8.95,
          8.6,
          10.22,
          13.43,
          11.08,
          13.6,
          10.2,
          10.17,
          8.39,
          10.19,
          11.2,
          8.36,
          15.2,
          8.68,
          10.33,
          25.95,
          16.5,
          9.99,
          15.44,
          10.58,
          8.84,
          8.15,
          22.81,
          11.24,
          8.59,
          10.19,
          12.17,
          7.99,
          7.98,
          11.2,
          13.29,
          10.77,
          13.83,
          9.6,
          10.17,
          7.9,
          11.55,
          10.2,
          6.95,
          8.75,
          10.2,
          13.6,
          10.88,
          10.2,
          10.88,
          10.09,
          8.24,
          8.61,
          8.95,
          5.99,
          8.87,
          9.98,
          11.08,
          35.95,
          10.98,
          7.95,
          25.84,
          5.98,
          9.64,
          10.85,
          16.91,
          5.99,
          8.11,
          12.47,
          9.99,
          10.85,
          9.57,
          11.08,
          8.07,
          6,
          9.75,
          21.75,
          17.73,
          9.58,
          7.89,
          16.32,
          6.95,
          10.22,
          10.88,
          17.79,
          15.44,
          7.99,
          12.08,
          21.68,
          6.99,
          9.99,
          6.99,
          10.2,
          7.51,
          9.99,
          118.21,
          7.7,
          10.2,
          15.48,
          10.77,
          8.43,
          6.4,
          9,
          7.75,
          11.99,
          4.99,
          8.5,
          22,
          7.31,
          10.68,
          8.95,
          8.99,
          7.95,
          10.09,
          11.44,
          9.28,
          9.66,
          55.75,
          39.72,
          9.99,
          20,
          8.6,
          8.04,
          10.68,
          14.96,
          8.42,
          9.99,
          8.52,
          8.26,
          11.16,
          7.82,
          9.16,
          16.09,
          15.62,
          8.84,
          8.92,
          8.05,
          11.56,
          7.7,
          8.8,
          6.4,
          4.94,
          10.21,
          8,
          8.36,
          9.22,
          9.99,
          12.5,
          8.95,
          22.51,
          9.52,
          13.13,
          7.79,
          10.86,
          11.2,
          10.2,
          11.53,
          9.99,
          10.17,
          8.8,
          10.47,
          7.9,
          9.99,
          14.46,
          8.22,
          8.98,
          23.94,
          11.28,
          24.9,
          9.92,
          7.77,
          3.95,
          0.77,
          8.99,
          15.15,
          13.6,
          13.6,
          8.45,
          14.96,
          10.17,
          10.88,
          10.11,
          8.28,
          14.7,
          14,
          5.98,
          13.7,
          12.17,
          10.29,
          11.19,
          8.5,
          12.6,
          6.9,
          14.69,
          16.08,
          23.1,
          10.68,
          6.99,
          10.75,
          10.17,
          10.17,
          10,
          13.49,
          10.2,
          10.2,
          10.85,
          8.14,
          19.01,
          12.24,
          27.55,
          5.18,
          97.5,
          4.95
         ],
         "xaxis": "x",
         "y": [
          11.79354246101503,
          12.538484916652983,
          12.773541975853417,
          18.45870437925859,
          12.050625829429325,
          20.434580173850744,
          10.136227584539814,
          12.3536691199912,
          21.525087340596954,
          5.81857312751259,
          20.02630993832184,
          6.715800970802199,
          17.71775734175809,
          24.61741940266583,
          24.024863375080415,
          10.747067283211374,
          12.073605790503116,
          2.180781991869452,
          8.456243754449062,
          12.010787626286055,
          19.847616774027554,
          12.917320921797176,
          11.846268573294958,
          9.275484257294515,
          10.663866647458216,
          12.083055198038574,
          17.045525821249306,
          11.188966448287449,
          9.744172033315538,
          2.3572054884688383,
          11.73416371176235,
          9.749170146578162,
          12.800491356496842,
          18.217948334945333,
          10.882709022354025,
          12.353026475589527,
          11.496734442617058,
          11.485887106481838,
          0.8494061410135649,
          12.13846452772161,
          12.701473685125912,
          24.032185568385827,
          22.283646991001838,
          9.964685746306007,
          7.337517819277427,
          3.2356196560670494,
          8.430596476993518,
          11.028545355683761,
          13.580434671713922,
          13.19911381682845,
          8.7718000252809,
          13.834721269565513,
          12.168853323329419,
          14.550872139220434,
          27.021966707081795,
          3.0179768421091704,
          12.015939792409085,
          29.461417536261656,
          19.64325951789319,
          11.362292264412337,
          11.362292264412337,
          9.965855493575491,
          27.26197466300597,
          10.081515311606339,
          11.677799816856199,
          12.602588369673382,
          14.024261769995016,
          10.386288167711406,
          0.27686184820838683,
          11.99328765317808,
          12.941387804012482,
          19.86522938693194,
          9.241967967543752,
          2.0470950978628206,
          10.097729995910967,
          20.600809076263037,
          10.648294607555265,
          12.05014744494948,
          21.88074410364234,
          0.562292525865876,
          17.878506256204574,
          10.007207166852389,
          19.829162235696472,
          6.19350224216149,
          20.02630993832184,
          2.492519405768695,
          18.13095064871656,
          14.888215417511237,
          11.880540147243805,
          7.74042070663693,
          9.384176615793736,
          11.493739304392513,
          8.98415622686236,
          13.005491257032885,
          24.586387962656353,
          9.763655265339601,
          12.12160719901531,
          35.310482346824074,
          36.22302563490627,
          20.049077619086702,
          11.902122179717832,
          12.25777894276322,
          19.86567366367178,
          19.505934841260334,
          9.925046824187755,
          11.062044831049985,
          3.5245754765543427,
          18.740563286033293,
          12.099269882343195,
          8.648040923289562,
          11.459580370240085,
          18.201733650640715,
          11.611324153890939,
          9.233075476544549,
          11.304198803963004,
          9.920766397159865,
          12.617131715883348,
          12.068238442333708,
          16.393703684207626,
          10.335159265056255,
          15.063395038371267,
          13.80497511835937,
          12.49456556750684,
          4.012236196116166,
          19.247453544246277,
          41.81769120782069,
          9.291168936993879,
          10.856289646315853,
          17.60672258698246,
          16.062756447779215,
          10.804763094973854,
          7.7909069648903975,
          13.739673017764225,
          1.465772455703934,
          12.86503908625709,
          11.062044831049985,
          19.389814845468283,
          7.566697241825186,
          14.344474310084626,
          10.648294607555265,
          9.737348529097847,
          9.89552976767508,
          15.502497432884628,
          11.17307958582562,
          11.188966448287449,
          15.035491092504726,
          9.178035381768282,
          11.409538388726444,
          9.349905041844883,
          11.045830146745363,
          12.450201941620858,
          12.623527757745737,
          10.877229034388204,
          10.804763094973854,
          12.15403656762456,
          7.268974671379728,
          11.207665982333346,
          10.495908179502733,
          11.71429443044697,
          19.27960950336062,
          19.928690195550676,
          10.965512009420328,
          28.07574527543206,
          8.591345391439996,
          12.175618600098588,
          13.720886842489719,
          10.714385621117588,
          0.3355979530593873,
          12.64446714581809,
          11.66533555497421,
          3.084677784667267,
          11.43316099420191,
          10.556486489693336,
          11.821417993101486,
          11.93991889649648,
          9.192793910024623,
          13.763408263036098,
          23.692743489645068,
          20.168604314437243,
          8.411340026411366,
          12.503570698302457,
          18.32641541385172,
          10.576226316827768,
          12.58573104096709,
          10.802278245232579,
          15.48382771250718,
          15.220108521504672,
          12.004777633714973,
          11.428880567174012,
          15.85150155895727,
          22.414537114445768,
          2.8417685275561584,
          2.504009386305595,
          9.007592064071527,
          10.12494037525129,
          5.240399676438647,
          18.8900672156577,
          12.862075852035971,
          11.277892067721247,
          14.226889460586204,
          11.766593080371596,
          11.12195358490792,
          12.850222330552228,
          14.059043632427139,
          17.894720940509192,
          3.075513386022247,
          3.086645731047907,
          12.596150914747014,
          18.059326634728897,
          7.838153089204511,
          12.48547970091823,
          10.752119808821893,
          22.251802039345748,
          -2.9841839660140668,
          12.28408567900497,
          2.9364591438462084,
          9.580237397277587,
          11.599919901219463,
          18.94816067610703,
          20.040795057083283,
          4.045752485866926,
          40.65511575034697,
          10.040080812201474,
          9.828514002558094,
          10.098372640312636,
          13.671400864149158,
          20.230335557512788,
          11.615877990413733,
          9.292368497931804,
          11.680152310679075,
          31.465355631206563,
          10.587073652962987,
          10.762129034631055,
          22.206211352104933,
          21.627100150192422,
          10.093005292143237,
          10.093005292143237,
          10.765766817257276,
          12.649834493987498,
          12.390180547966507,
          10.964869365018656,
          10.49054083133333,
          11.427151001630834,
          13.722729047829322,
          10.641529330786101,
          9.721133844793222,
          12.746367315617151,
          10.367588633665505,
          9.479954153225298,
          10.72657217187886,
          15.53037296497109,
          12.682691324952042,
          15.064812683093018,
          9.819081409407179,
          8.08956878802351,
          10.076790607838612,
          11.957203687558074,
          11.55183276484184,
          14.72815056053042,
          11.115413587731586,
          12.800491356496842,
          4.954532838767771,
          14.917435967698653,
          6.698140227995745,
          22.061677121963086,
          8.79814086926265,
          11.672432468686804,
          15.739396697424663,
          10.011931870620115,
          23.36543403584287,
          9.526868640595982,
          11.188966448287449,
          -0.04636554622775603,
          12.561991980594575,
          -0.6454884829205084,
          9.02956014583687,
          21.520561917854238,
          12.650477138389169,
          14.41405775107085,
          9.005095614934715,
          12.579977643506371,
          26.413647467740592,
          10.16367565427097,
          11.08298421912234,
          14.620342940410248,
          13.656783389469314,
          9.581966962820772,
          19.01474897886871,
          12.74432674261572,
          9.754205857804141,
          11.369057541181505,
          13.25924785027922,
          10.424482533176906,
          11.261677383416622,
          13.673891619326046,
          17.831591768833885,
          16.249169454065775,
          10.30745460021474,
          9.564665357374635,
          10.044361239229366,
          12.762694639718188,
          14.382913671264955,
          15.100681466666646,
          20.14089964959572,
          10.419887283590134,
          11.803747152748576,
          10.02814655492474,
          11.923704212191854,
          17.0467085678027,
          23.428894844461603,
          16.949748283817748,
          10.648294607555265,
          32.23553761806675,
          11.188966448287449
         ],
         "yaxis": "y"
        },
        {
         "line": {
          "shape": "linear"
         },
         "name": "y=x",
         "type": "scatter",
         "x": [
          0,
          140
         ],
         "y": [
          0,
          140
         ]
        }
       ],
       "layout": {
        "legend": {
         "tracegroupgap": 0
        },
        "margin": {
         "t": 60
        },
        "template": {
         "data": {
          "bar": [
           {
            "error_x": {
             "color": "#2a3f5f"
            },
            "error_y": {
             "color": "#2a3f5f"
            },
            "marker": {
             "line": {
              "color": "#E5ECF6",
              "width": 0.5
             },
             "pattern": {
              "fillmode": "overlay",
              "size": 10,
              "solidity": 0.2
             }
            },
            "type": "bar"
           }
          ],
          "barpolar": [
           {
            "marker": {
             "line": {
              "color": "#E5ECF6",
              "width": 0.5
             },
             "pattern": {
              "fillmode": "overlay",
              "size": 10,
              "solidity": 0.2
             }
            },
            "type": "barpolar"
           }
          ],
          "carpet": [
           {
            "aaxis": {
             "endlinecolor": "#2a3f5f",
             "gridcolor": "white",
             "linecolor": "white",
             "minorgridcolor": "white",
             "startlinecolor": "#2a3f5f"
            },
            "baxis": {
             "endlinecolor": "#2a3f5f",
             "gridcolor": "white",
             "linecolor": "white",
             "minorgridcolor": "white",
             "startlinecolor": "#2a3f5f"
            },
            "type": "carpet"
           }
          ],
          "choropleth": [
           {
            "colorbar": {
             "outlinewidth": 0,
             "ticks": ""
            },
            "type": "choropleth"
           }
          ],
          "contour": [
           {
            "colorbar": {
             "outlinewidth": 0,
             "ticks": ""
            },
            "colorscale": [
             [
              0,
              "#0d0887"
             ],
             [
              0.1111111111111111,
              "#46039f"
             ],
             [
              0.2222222222222222,
              "#7201a8"
             ],
             [
              0.3333333333333333,
              "#9c179e"
             ],
             [
              0.4444444444444444,
              "#bd3786"
             ],
             [
              0.5555555555555556,
              "#d8576b"
             ],
             [
              0.6666666666666666,
              "#ed7953"
             ],
             [
              0.7777777777777778,
              "#fb9f3a"
             ],
             [
              0.8888888888888888,
              "#fdca26"
             ],
             [
              1,
              "#f0f921"
             ]
            ],
            "type": "contour"
           }
          ],
          "contourcarpet": [
           {
            "colorbar": {
             "outlinewidth": 0,
             "ticks": ""
            },
            "type": "contourcarpet"
           }
          ],
          "heatmap": [
           {
            "colorbar": {
             "outlinewidth": 0,
             "ticks": ""
            },
            "colorscale": [
             [
              0,
              "#0d0887"
             ],
             [
              0.1111111111111111,
              "#46039f"
             ],
             [
              0.2222222222222222,
              "#7201a8"
             ],
             [
              0.3333333333333333,
              "#9c179e"
             ],
             [
              0.4444444444444444,
              "#bd3786"
             ],
             [
              0.5555555555555556,
              "#d8576b"
             ],
             [
              0.6666666666666666,
              "#ed7953"
             ],
             [
              0.7777777777777778,
              "#fb9f3a"
             ],
             [
              0.8888888888888888,
              "#fdca26"
             ],
             [
              1,
              "#f0f921"
             ]
            ],
            "type": "heatmap"
           }
          ],
          "heatmapgl": [
           {
            "colorbar": {
             "outlinewidth": 0,
             "ticks": ""
            },
            "colorscale": [
             [
              0,
              "#0d0887"
             ],
             [
              0.1111111111111111,
              "#46039f"
             ],
             [
              0.2222222222222222,
              "#7201a8"
             ],
             [
              0.3333333333333333,
              "#9c179e"
             ],
             [
              0.4444444444444444,
              "#bd3786"
             ],
             [
              0.5555555555555556,
              "#d8576b"
             ],
             [
              0.6666666666666666,
              "#ed7953"
             ],
             [
              0.7777777777777778,
              "#fb9f3a"
             ],
             [
              0.8888888888888888,
              "#fdca26"
             ],
             [
              1,
              "#f0f921"
             ]
            ],
            "type": "heatmapgl"
           }
          ],
          "histogram": [
           {
            "marker": {
             "pattern": {
              "fillmode": "overlay",
              "size": 10,
              "solidity": 0.2
             }
            },
            "type": "histogram"
           }
          ],
          "histogram2d": [
           {
            "colorbar": {
             "outlinewidth": 0,
             "ticks": ""
            },
            "colorscale": [
             [
              0,
              "#0d0887"
             ],
             [
              0.1111111111111111,
              "#46039f"
             ],
             [
              0.2222222222222222,
              "#7201a8"
             ],
             [
              0.3333333333333333,
              "#9c179e"
             ],
             [
              0.4444444444444444,
              "#bd3786"
             ],
             [
              0.5555555555555556,
              "#d8576b"
             ],
             [
              0.6666666666666666,
              "#ed7953"
             ],
             [
              0.7777777777777778,
              "#fb9f3a"
             ],
             [
              0.8888888888888888,
              "#fdca26"
             ],
             [
              1,
              "#f0f921"
             ]
            ],
            "type": "histogram2d"
           }
          ],
          "histogram2dcontour": [
           {
            "colorbar": {
             "outlinewidth": 0,
             "ticks": ""
            },
            "colorscale": [
             [
              0,
              "#0d0887"
             ],
             [
              0.1111111111111111,
              "#46039f"
             ],
             [
              0.2222222222222222,
              "#7201a8"
             ],
             [
              0.3333333333333333,
              "#9c179e"
             ],
             [
              0.4444444444444444,
              "#bd3786"
             ],
             [
              0.5555555555555556,
              "#d8576b"
             ],
             [
              0.6666666666666666,
              "#ed7953"
             ],
             [
              0.7777777777777778,
              "#fb9f3a"
             ],
             [
              0.8888888888888888,
              "#fdca26"
             ],
             [
              1,
              "#f0f921"
             ]
            ],
            "type": "histogram2dcontour"
           }
          ],
          "mesh3d": [
           {
            "colorbar": {
             "outlinewidth": 0,
             "ticks": ""
            },
            "type": "mesh3d"
           }
          ],
          "parcoords": [
           {
            "line": {
             "colorbar": {
              "outlinewidth": 0,
              "ticks": ""
             }
            },
            "type": "parcoords"
           }
          ],
          "pie": [
           {
            "automargin": true,
            "type": "pie"
           }
          ],
          "scatter": [
           {
            "fillpattern": {
             "fillmode": "overlay",
             "size": 10,
             "solidity": 0.2
            },
            "type": "scatter"
           }
          ],
          "scatter3d": [
           {
            "line": {
             "colorbar": {
              "outlinewidth": 0,
              "ticks": ""
             }
            },
            "marker": {
             "colorbar": {
              "outlinewidth": 0,
              "ticks": ""
             }
            },
            "type": "scatter3d"
           }
          ],
          "scattercarpet": [
           {
            "marker": {
             "colorbar": {
              "outlinewidth": 0,
              "ticks": ""
             }
            },
            "type": "scattercarpet"
           }
          ],
          "scattergeo": [
           {
            "marker": {
             "colorbar": {
              "outlinewidth": 0,
              "ticks": ""
             }
            },
            "type": "scattergeo"
           }
          ],
          "scattergl": [
           {
            "marker": {
             "colorbar": {
              "outlinewidth": 0,
              "ticks": ""
             }
            },
            "type": "scattergl"
           }
          ],
          "scattermapbox": [
           {
            "marker": {
             "colorbar": {
              "outlinewidth": 0,
              "ticks": ""
             }
            },
            "type": "scattermapbox"
           }
          ],
          "scatterpolar": [
           {
            "marker": {
             "colorbar": {
              "outlinewidth": 0,
              "ticks": ""
             }
            },
            "type": "scatterpolar"
           }
          ],
          "scatterpolargl": [
           {
            "marker": {
             "colorbar": {
              "outlinewidth": 0,
              "ticks": ""
             }
            },
            "type": "scatterpolargl"
           }
          ],
          "scatterternary": [
           {
            "marker": {
             "colorbar": {
              "outlinewidth": 0,
              "ticks": ""
             }
            },
            "type": "scatterternary"
           }
          ],
          "surface": [
           {
            "colorbar": {
             "outlinewidth": 0,
             "ticks": ""
            },
            "colorscale": [
             [
              0,
              "#0d0887"
             ],
             [
              0.1111111111111111,
              "#46039f"
             ],
             [
              0.2222222222222222,
              "#7201a8"
             ],
             [
              0.3333333333333333,
              "#9c179e"
             ],
             [
              0.4444444444444444,
              "#bd3786"
             ],
             [
              0.5555555555555556,
              "#d8576b"
             ],
             [
              0.6666666666666666,
              "#ed7953"
             ],
             [
              0.7777777777777778,
              "#fb9f3a"
             ],
             [
              0.8888888888888888,
              "#fdca26"
             ],
             [
              1,
              "#f0f921"
             ]
            ],
            "type": "surface"
           }
          ],
          "table": [
           {
            "cells": {
             "fill": {
              "color": "#EBF0F8"
             },
             "line": {
              "color": "white"
             }
            },
            "header": {
             "fill": {
              "color": "#C8D4E3"
             },
             "line": {
              "color": "white"
             }
            },
            "type": "table"
           }
          ]
         },
         "layout": {
          "annotationdefaults": {
           "arrowcolor": "#2a3f5f",
           "arrowhead": 0,
           "arrowwidth": 1
          },
          "autotypenumbers": "strict",
          "coloraxis": {
           "colorbar": {
            "outlinewidth": 0,
            "ticks": ""
           }
          },
          "colorscale": {
           "diverging": [
            [
             0,
             "#8e0152"
            ],
            [
             0.1,
             "#c51b7d"
            ],
            [
             0.2,
             "#de77ae"
            ],
            [
             0.3,
             "#f1b6da"
            ],
            [
             0.4,
             "#fde0ef"
            ],
            [
             0.5,
             "#f7f7f7"
            ],
            [
             0.6,
             "#e6f5d0"
            ],
            [
             0.7,
             "#b8e186"
            ],
            [
             0.8,
             "#7fbc41"
            ],
            [
             0.9,
             "#4d9221"
            ],
            [
             1,
             "#276419"
            ]
           ],
           "sequential": [
            [
             0,
             "#0d0887"
            ],
            [
             0.1111111111111111,
             "#46039f"
            ],
            [
             0.2222222222222222,
             "#7201a8"
            ],
            [
             0.3333333333333333,
             "#9c179e"
            ],
            [
             0.4444444444444444,
             "#bd3786"
            ],
            [
             0.5555555555555556,
             "#d8576b"
            ],
            [
             0.6666666666666666,
             "#ed7953"
            ],
            [
             0.7777777777777778,
             "#fb9f3a"
            ],
            [
             0.8888888888888888,
             "#fdca26"
            ],
            [
             1,
             "#f0f921"
            ]
           ],
           "sequentialminus": [
            [
             0,
             "#0d0887"
            ],
            [
             0.1111111111111111,
             "#46039f"
            ],
            [
             0.2222222222222222,
             "#7201a8"
            ],
            [
             0.3333333333333333,
             "#9c179e"
            ],
            [
             0.4444444444444444,
             "#bd3786"
            ],
            [
             0.5555555555555556,
             "#d8576b"
            ],
            [
             0.6666666666666666,
             "#ed7953"
            ],
            [
             0.7777777777777778,
             "#fb9f3a"
            ],
            [
             0.8888888888888888,
             "#fdca26"
            ],
            [
             1,
             "#f0f921"
            ]
           ]
          },
          "colorway": [
           "#636efa",
           "#EF553B",
           "#00cc96",
           "#ab63fa",
           "#FFA15A",
           "#19d3f3",
           "#FF6692",
           "#B6E880",
           "#FF97FF",
           "#FECB52"
          ],
          "font": {
           "color": "#2a3f5f"
          },
          "geo": {
           "bgcolor": "white",
           "lakecolor": "white",
           "landcolor": "#E5ECF6",
           "showlakes": true,
           "showland": true,
           "subunitcolor": "white"
          },
          "hoverlabel": {
           "align": "left"
          },
          "hovermode": "closest",
          "mapbox": {
           "style": "light"
          },
          "paper_bgcolor": "white",
          "plot_bgcolor": "#E5ECF6",
          "polar": {
           "angularaxis": {
            "gridcolor": "white",
            "linecolor": "white",
            "ticks": ""
           },
           "bgcolor": "#E5ECF6",
           "radialaxis": {
            "gridcolor": "white",
            "linecolor": "white",
            "ticks": ""
           }
          },
          "scene": {
           "xaxis": {
            "backgroundcolor": "#E5ECF6",
            "gridcolor": "white",
            "gridwidth": 2,
            "linecolor": "white",
            "showbackground": true,
            "ticks": "",
            "zerolinecolor": "white"
           },
           "yaxis": {
            "backgroundcolor": "#E5ECF6",
            "gridcolor": "white",
            "gridwidth": 2,
            "linecolor": "white",
            "showbackground": true,
            "ticks": "",
            "zerolinecolor": "white"
           },
           "zaxis": {
            "backgroundcolor": "#E5ECF6",
            "gridcolor": "white",
            "gridwidth": 2,
            "linecolor": "white",
            "showbackground": true,
            "ticks": "",
            "zerolinecolor": "white"
           }
          },
          "shapedefaults": {
           "line": {
            "color": "#2a3f5f"
           }
          },
          "ternary": {
           "aaxis": {
            "gridcolor": "white",
            "linecolor": "white",
            "ticks": ""
           },
           "baxis": {
            "gridcolor": "white",
            "linecolor": "white",
            "ticks": ""
           },
           "bgcolor": "#E5ECF6",
           "caxis": {
            "gridcolor": "white",
            "linecolor": "white",
            "ticks": ""
           }
          },
          "title": {
           "x": 0.05
          },
          "xaxis": {
           "automargin": true,
           "gridcolor": "white",
           "linecolor": "white",
           "ticks": "",
           "title": {
            "standoff": 15
           },
           "zerolinecolor": "white",
           "zerolinewidth": 2
          },
          "yaxis": {
           "automargin": true,
           "gridcolor": "white",
           "linecolor": "white",
           "ticks": "",
           "title": {
            "standoff": 15
           },
           "zerolinecolor": "white",
           "zerolinewidth": 2
          }
         }
        },
        "xaxis": {
         "anchor": "y",
         "domain": [
          0,
          1
         ],
         "title": {
          "text": "y"
         }
        },
        "yaxis": {
         "anchor": "x",
         "domain": [
          0,
          1
         ],
         "title": {
          "text": "y-hat"
         }
        }
       }
      },
      "text/html": [
       "<div>                            <div id=\"13241d59-e062-483b-8e5d-38c0c713bcc5\" class=\"plotly-graph-div\" style=\"height:525px; width:100%;\"></div>            <script type=\"text/javascript\">                require([\"plotly\"], function(Plotly) {                    window.PLOTLYENV=window.PLOTLYENV || {};                                    if (document.getElementById(\"13241d59-e062-483b-8e5d-38c0c713bcc5\")) {                    Plotly.newPlot(                        \"13241d59-e062-483b-8e5d-38c0c713bcc5\",                        [{\"hovertemplate\":\"y=%{x}<br>y-hat=%{y}<extra></extra>\",\"legendgroup\":\"\",\"marker\":{\"color\":\"#636efa\",\"symbol\":\"circle\"},\"mode\":\"markers\",\"name\":\"\",\"orientation\":\"v\",\"showlegend\":false,\"x\":[5.18,10.2,1.5,10.87,16.77,16.44,13.46,8.44,19.8,8.97,10.46,13.57,14.6,37.95,11.58,3.99,10.2,5.87,10.85,10.4,11.94,11.2,8.96,15.63,10.2,12.11,7.95,14.95,10.17,7.95,8.39,13.6,8.75,26.61,9.59,12.52,11.16,10.22,4.99,10.4,10.54,15.82,15.6,10.17,6.99,5.99,11.16,20.48,16.32,9.07,8.38,8.97,10.2,8.99,6.99,9.99,11.36,83.04,44.32,7.97,7.97,12.24,54.61,10.2,11.46,10.2,11.5,14.99,6.99,10.2,10.88,39.92,10.2,6.99,9.07,16.46,7.83,10.19,17.43,7.99,8.0,9.95,14.61,11.2,10.46,6.99,8.97,12.24,9.2,6.99,10.88,8.99,9.09,12.24,8.99,11.55,11.2,19.99,139.95,16.47,5.98,6.95,13.0,14.44,5.13,11.55,8.95,8.6,10.22,13.43,11.08,13.6,10.2,10.17,8.39,10.19,11.2,8.36,15.2,8.68,10.33,25.95,16.5,9.99,15.44,10.58,8.84,8.15,22.81,11.24,8.59,10.19,12.17,7.99,7.98,11.2,13.29,10.77,13.83,9.6,10.17,7.9,11.55,10.2,6.95,8.75,10.2,13.6,10.88,10.2,10.88,10.09,8.24,8.61,8.95,5.99,8.87,9.98,11.08,35.95,10.98,7.95,25.84,5.98,9.64,10.85,16.91,5.99,8.11,12.47,9.99,10.85,9.57,11.08,8.07,6.0,9.75,21.75,17.73,9.58,7.89,16.32,6.95,10.22,10.88,17.79,15.44,7.99,12.08,21.68,6.99,9.99,6.99,10.2,7.51,9.99,118.21,7.7,10.2,15.48,10.77,8.43,6.4,9.0,7.75,11.99,4.99,8.5,22.0,7.31,10.68,8.95,8.99,7.95,10.09,11.44,9.28,9.66,55.75,39.72,9.99,20.0,8.6,8.04,10.68,14.96,8.42,9.99,8.52,8.26,11.16,7.82,9.16,16.09,15.62,8.84,8.92,8.05,11.56,7.7,8.8,6.4,4.94,10.21,8.0,8.36,9.22,9.99,12.5,8.95,22.51,9.52,13.13,7.79,10.86,11.2,10.2,11.53,9.99,10.17,8.8,10.47,7.9,9.99,14.46,8.22,8.98,23.94,11.28,24.9,9.92,7.77,3.95,0.77,8.99,15.15,13.6,13.6,8.45,14.96,10.17,10.88,10.11,8.28,14.7,14.0,5.98,13.7,12.17,10.29,11.19,8.5,12.6,6.9,14.69,16.08,23.1,10.68,6.99,10.75,10.17,10.17,10.0,13.49,10.2,10.2,10.85,8.14,19.01,12.24,27.55,5.18,97.5,4.95],\"xaxis\":\"x\",\"y\":[11.79354246101503,12.538484916652983,12.773541975853417,18.45870437925859,12.050625829429325,20.434580173850744,10.136227584539814,12.3536691199912,21.525087340596954,5.81857312751259,20.02630993832184,6.715800970802199,17.71775734175809,24.61741940266583,24.024863375080415,10.747067283211374,12.073605790503116,2.180781991869452,8.456243754449062,12.010787626286055,19.847616774027554,12.917320921797176,11.846268573294958,9.275484257294515,10.663866647458216,12.083055198038574,17.045525821249306,11.188966448287449,9.744172033315538,2.3572054884688383,11.73416371176235,9.749170146578162,12.800491356496842,18.217948334945333,10.882709022354025,12.353026475589527,11.496734442617058,11.485887106481838,0.8494061410135649,12.13846452772161,12.701473685125912,24.032185568385827,22.283646991001838,9.964685746306007,7.337517819277427,3.2356196560670494,8.430596476993518,11.028545355683761,13.580434671713922,13.19911381682845,8.7718000252809,13.834721269565513,12.168853323329419,14.550872139220434,27.021966707081795,3.0179768421091704,12.015939792409085,29.461417536261656,19.64325951789319,11.362292264412337,11.362292264412337,9.965855493575491,27.26197466300597,10.081515311606339,11.677799816856199,12.602588369673382,14.024261769995016,10.386288167711406,0.27686184820838683,11.99328765317808,12.941387804012482,19.86522938693194,9.241967967543752,2.0470950978628206,10.097729995910967,20.600809076263037,10.648294607555265,12.05014744494948,21.88074410364234,0.562292525865876,17.878506256204574,10.007207166852389,19.829162235696472,6.19350224216149,20.02630993832184,2.492519405768695,18.13095064871656,14.888215417511237,11.880540147243805,7.74042070663693,9.384176615793736,11.493739304392513,8.98415622686236,13.005491257032885,24.586387962656353,9.763655265339601,12.12160719901531,35.310482346824074,36.22302563490627,20.049077619086702,11.902122179717832,12.25777894276322,19.86567366367178,19.505934841260334,9.925046824187755,11.062044831049985,3.5245754765543427,18.740563286033293,12.099269882343195,8.648040923289562,11.459580370240085,18.201733650640715,11.611324153890939,9.233075476544549,11.304198803963004,9.920766397159865,12.617131715883348,12.068238442333708,16.393703684207626,10.335159265056255,15.063395038371267,13.80497511835937,12.49456556750684,4.012236196116166,19.247453544246277,41.81769120782069,9.291168936993879,10.856289646315853,17.60672258698246,16.062756447779215,10.804763094973854,7.7909069648903975,13.739673017764225,1.465772455703934,12.86503908625709,11.062044831049985,19.389814845468283,7.566697241825186,14.344474310084626,10.648294607555265,9.737348529097847,9.89552976767508,15.502497432884628,11.17307958582562,11.188966448287449,15.035491092504726,9.178035381768282,11.409538388726444,9.349905041844883,11.045830146745363,12.450201941620858,12.623527757745737,10.877229034388204,10.804763094973854,12.15403656762456,7.268974671379728,11.207665982333346,10.495908179502733,11.71429443044697,19.27960950336062,19.928690195550676,10.965512009420328,28.07574527543206,8.591345391439996,12.175618600098588,13.720886842489719,10.714385621117588,0.3355979530593873,12.64446714581809,11.66533555497421,3.084677784667267,11.43316099420191,10.556486489693336,11.821417993101486,11.93991889649648,9.192793910024623,13.763408263036098,23.692743489645068,20.168604314437243,8.411340026411366,12.503570698302457,18.32641541385172,10.576226316827768,12.58573104096709,10.802278245232579,15.48382771250718,15.220108521504672,12.004777633714973,11.428880567174012,15.85150155895727,22.414537114445768,2.8417685275561584,2.504009386305595,9.007592064071527,10.12494037525129,5.240399676438647,18.8900672156577,12.862075852035971,11.277892067721247,14.226889460586204,11.766593080371596,11.12195358490792,12.850222330552228,14.059043632427139,17.894720940509192,3.075513386022247,3.086645731047907,12.596150914747014,18.059326634728897,7.838153089204511,12.48547970091823,10.752119808821893,22.251802039345748,-2.9841839660140668,12.28408567900497,2.9364591438462084,9.580237397277587,11.599919901219463,18.94816067610703,20.040795057083283,4.045752485866926,40.65511575034697,10.040080812201474,9.828514002558094,10.098372640312636,13.671400864149158,20.230335557512788,11.615877990413733,9.292368497931804,11.680152310679075,31.465355631206563,10.587073652962987,10.762129034631055,22.206211352104933,21.627100150192422,10.093005292143237,10.093005292143237,10.765766817257276,12.649834493987498,12.390180547966507,10.964869365018656,10.49054083133333,11.427151001630834,13.722729047829322,10.641529330786101,9.721133844793222,12.746367315617151,10.367588633665505,9.479954153225298,10.72657217187886,15.53037296497109,12.682691324952042,15.064812683093018,9.819081409407179,8.08956878802351,10.076790607838612,11.957203687558074,11.55183276484184,14.72815056053042,11.115413587731586,12.800491356496842,4.954532838767771,14.917435967698653,6.698140227995745,22.061677121963086,8.79814086926265,11.672432468686804,15.739396697424663,10.011931870620115,23.36543403584287,9.526868640595982,11.188966448287449,-0.04636554622775603,12.561991980594575,-0.6454884829205084,9.02956014583687,21.520561917854238,12.650477138389169,14.41405775107085,9.005095614934715,12.579977643506371,26.413647467740592,10.16367565427097,11.08298421912234,14.620342940410248,13.656783389469314,9.581966962820772,19.01474897886871,12.74432674261572,9.754205857804141,11.369057541181505,13.25924785027922,10.424482533176906,11.261677383416622,13.673891619326046,17.831591768833885,16.249169454065775,10.30745460021474,9.564665357374635,10.044361239229366,12.762694639718188,14.382913671264955,15.100681466666646,20.14089964959572,10.419887283590134,11.803747152748576,10.02814655492474,11.923704212191854,17.0467085678027,23.428894844461603,16.949748283817748,10.648294607555265,32.23553761806675,11.188966448287449],\"yaxis\":\"y\",\"type\":\"scatter\"},{\"line\":{\"shape\":\"linear\"},\"name\":\"y=x\",\"x\":[0,140],\"y\":[0,140],\"type\":\"scatter\"}],                        {\"template\":{\"data\":{\"histogram2dcontour\":[{\"type\":\"histogram2dcontour\",\"colorbar\":{\"outlinewidth\":0,\"ticks\":\"\"},\"colorscale\":[[0.0,\"#0d0887\"],[0.1111111111111111,\"#46039f\"],[0.2222222222222222,\"#7201a8\"],[0.3333333333333333,\"#9c179e\"],[0.4444444444444444,\"#bd3786\"],[0.5555555555555556,\"#d8576b\"],[0.6666666666666666,\"#ed7953\"],[0.7777777777777778,\"#fb9f3a\"],[0.8888888888888888,\"#fdca26\"],[1.0,\"#f0f921\"]]}],\"choropleth\":[{\"type\":\"choropleth\",\"colorbar\":{\"outlinewidth\":0,\"ticks\":\"\"}}],\"histogram2d\":[{\"type\":\"histogram2d\",\"colorbar\":{\"outlinewidth\":0,\"ticks\":\"\"},\"colorscale\":[[0.0,\"#0d0887\"],[0.1111111111111111,\"#46039f\"],[0.2222222222222222,\"#7201a8\"],[0.3333333333333333,\"#9c179e\"],[0.4444444444444444,\"#bd3786\"],[0.5555555555555556,\"#d8576b\"],[0.6666666666666666,\"#ed7953\"],[0.7777777777777778,\"#fb9f3a\"],[0.8888888888888888,\"#fdca26\"],[1.0,\"#f0f921\"]]}],\"heatmap\":[{\"type\":\"heatmap\",\"colorbar\":{\"outlinewidth\":0,\"ticks\":\"\"},\"colorscale\":[[0.0,\"#0d0887\"],[0.1111111111111111,\"#46039f\"],[0.2222222222222222,\"#7201a8\"],[0.3333333333333333,\"#9c179e\"],[0.4444444444444444,\"#bd3786\"],[0.5555555555555556,\"#d8576b\"],[0.6666666666666666,\"#ed7953\"],[0.7777777777777778,\"#fb9f3a\"],[0.8888888888888888,\"#fdca26\"],[1.0,\"#f0f921\"]]}],\"heatmapgl\":[{\"type\":\"heatmapgl\",\"colorbar\":{\"outlinewidth\":0,\"ticks\":\"\"},\"colorscale\":[[0.0,\"#0d0887\"],[0.1111111111111111,\"#46039f\"],[0.2222222222222222,\"#7201a8\"],[0.3333333333333333,\"#9c179e\"],[0.4444444444444444,\"#bd3786\"],[0.5555555555555556,\"#d8576b\"],[0.6666666666666666,\"#ed7953\"],[0.7777777777777778,\"#fb9f3a\"],[0.8888888888888888,\"#fdca26\"],[1.0,\"#f0f921\"]]}],\"contourcarpet\":[{\"type\":\"contourcarpet\",\"colorbar\":{\"outlinewidth\":0,\"ticks\":\"\"}}],\"contour\":[{\"type\":\"contour\",\"colorbar\":{\"outlinewidth\":0,\"ticks\":\"\"},\"colorscale\":[[0.0,\"#0d0887\"],[0.1111111111111111,\"#46039f\"],[0.2222222222222222,\"#7201a8\"],[0.3333333333333333,\"#9c179e\"],[0.4444444444444444,\"#bd3786\"],[0.5555555555555556,\"#d8576b\"],[0.6666666666666666,\"#ed7953\"],[0.7777777777777778,\"#fb9f3a\"],[0.8888888888888888,\"#fdca26\"],[1.0,\"#f0f921\"]]}],\"surface\":[{\"type\":\"surface\",\"colorbar\":{\"outlinewidth\":0,\"ticks\":\"\"},\"colorscale\":[[0.0,\"#0d0887\"],[0.1111111111111111,\"#46039f\"],[0.2222222222222222,\"#7201a8\"],[0.3333333333333333,\"#9c179e\"],[0.4444444444444444,\"#bd3786\"],[0.5555555555555556,\"#d8576b\"],[0.6666666666666666,\"#ed7953\"],[0.7777777777777778,\"#fb9f3a\"],[0.8888888888888888,\"#fdca26\"],[1.0,\"#f0f921\"]]}],\"mesh3d\":[{\"type\":\"mesh3d\",\"colorbar\":{\"outlinewidth\":0,\"ticks\":\"\"}}],\"scatter\":[{\"fillpattern\":{\"fillmode\":\"overlay\",\"size\":10,\"solidity\":0.2},\"type\":\"scatter\"}],\"parcoords\":[{\"type\":\"parcoords\",\"line\":{\"colorbar\":{\"outlinewidth\":0,\"ticks\":\"\"}}}],\"scatterpolargl\":[{\"type\":\"scatterpolargl\",\"marker\":{\"colorbar\":{\"outlinewidth\":0,\"ticks\":\"\"}}}],\"bar\":[{\"error_x\":{\"color\":\"#2a3f5f\"},\"error_y\":{\"color\":\"#2a3f5f\"},\"marker\":{\"line\":{\"color\":\"#E5ECF6\",\"width\":0.5},\"pattern\":{\"fillmode\":\"overlay\",\"size\":10,\"solidity\":0.2}},\"type\":\"bar\"}],\"scattergeo\":[{\"type\":\"scattergeo\",\"marker\":{\"colorbar\":{\"outlinewidth\":0,\"ticks\":\"\"}}}],\"scatterpolar\":[{\"type\":\"scatterpolar\",\"marker\":{\"colorbar\":{\"outlinewidth\":0,\"ticks\":\"\"}}}],\"histogram\":[{\"marker\":{\"pattern\":{\"fillmode\":\"overlay\",\"size\":10,\"solidity\":0.2}},\"type\":\"histogram\"}],\"scattergl\":[{\"type\":\"scattergl\",\"marker\":{\"colorbar\":{\"outlinewidth\":0,\"ticks\":\"\"}}}],\"scatter3d\":[{\"type\":\"scatter3d\",\"line\":{\"colorbar\":{\"outlinewidth\":0,\"ticks\":\"\"}},\"marker\":{\"colorbar\":{\"outlinewidth\":0,\"ticks\":\"\"}}}],\"scattermapbox\":[{\"type\":\"scattermapbox\",\"marker\":{\"colorbar\":{\"outlinewidth\":0,\"ticks\":\"\"}}}],\"scatterternary\":[{\"type\":\"scatterternary\",\"marker\":{\"colorbar\":{\"outlinewidth\":0,\"ticks\":\"\"}}}],\"scattercarpet\":[{\"type\":\"scattercarpet\",\"marker\":{\"colorbar\":{\"outlinewidth\":0,\"ticks\":\"\"}}}],\"carpet\":[{\"aaxis\":{\"endlinecolor\":\"#2a3f5f\",\"gridcolor\":\"white\",\"linecolor\":\"white\",\"minorgridcolor\":\"white\",\"startlinecolor\":\"#2a3f5f\"},\"baxis\":{\"endlinecolor\":\"#2a3f5f\",\"gridcolor\":\"white\",\"linecolor\":\"white\",\"minorgridcolor\":\"white\",\"startlinecolor\":\"#2a3f5f\"},\"type\":\"carpet\"}],\"table\":[{\"cells\":{\"fill\":{\"color\":\"#EBF0F8\"},\"line\":{\"color\":\"white\"}},\"header\":{\"fill\":{\"color\":\"#C8D4E3\"},\"line\":{\"color\":\"white\"}},\"type\":\"table\"}],\"barpolar\":[{\"marker\":{\"line\":{\"color\":\"#E5ECF6\",\"width\":0.5},\"pattern\":{\"fillmode\":\"overlay\",\"size\":10,\"solidity\":0.2}},\"type\":\"barpolar\"}],\"pie\":[{\"automargin\":true,\"type\":\"pie\"}]},\"layout\":{\"autotypenumbers\":\"strict\",\"colorway\":[\"#636efa\",\"#EF553B\",\"#00cc96\",\"#ab63fa\",\"#FFA15A\",\"#19d3f3\",\"#FF6692\",\"#B6E880\",\"#FF97FF\",\"#FECB52\"],\"font\":{\"color\":\"#2a3f5f\"},\"hovermode\":\"closest\",\"hoverlabel\":{\"align\":\"left\"},\"paper_bgcolor\":\"white\",\"plot_bgcolor\":\"#E5ECF6\",\"polar\":{\"bgcolor\":\"#E5ECF6\",\"angularaxis\":{\"gridcolor\":\"white\",\"linecolor\":\"white\",\"ticks\":\"\"},\"radialaxis\":{\"gridcolor\":\"white\",\"linecolor\":\"white\",\"ticks\":\"\"}},\"ternary\":{\"bgcolor\":\"#E5ECF6\",\"aaxis\":{\"gridcolor\":\"white\",\"linecolor\":\"white\",\"ticks\":\"\"},\"baxis\":{\"gridcolor\":\"white\",\"linecolor\":\"white\",\"ticks\":\"\"},\"caxis\":{\"gridcolor\":\"white\",\"linecolor\":\"white\",\"ticks\":\"\"}},\"coloraxis\":{\"colorbar\":{\"outlinewidth\":0,\"ticks\":\"\"}},\"colorscale\":{\"sequential\":[[0.0,\"#0d0887\"],[0.1111111111111111,\"#46039f\"],[0.2222222222222222,\"#7201a8\"],[0.3333333333333333,\"#9c179e\"],[0.4444444444444444,\"#bd3786\"],[0.5555555555555556,\"#d8576b\"],[0.6666666666666666,\"#ed7953\"],[0.7777777777777778,\"#fb9f3a\"],[0.8888888888888888,\"#fdca26\"],[1.0,\"#f0f921\"]],\"sequentialminus\":[[0.0,\"#0d0887\"],[0.1111111111111111,\"#46039f\"],[0.2222222222222222,\"#7201a8\"],[0.3333333333333333,\"#9c179e\"],[0.4444444444444444,\"#bd3786\"],[0.5555555555555556,\"#d8576b\"],[0.6666666666666666,\"#ed7953\"],[0.7777777777777778,\"#fb9f3a\"],[0.8888888888888888,\"#fdca26\"],[1.0,\"#f0f921\"]],\"diverging\":[[0,\"#8e0152\"],[0.1,\"#c51b7d\"],[0.2,\"#de77ae\"],[0.3,\"#f1b6da\"],[0.4,\"#fde0ef\"],[0.5,\"#f7f7f7\"],[0.6,\"#e6f5d0\"],[0.7,\"#b8e186\"],[0.8,\"#7fbc41\"],[0.9,\"#4d9221\"],[1,\"#276419\"]]},\"xaxis\":{\"gridcolor\":\"white\",\"linecolor\":\"white\",\"ticks\":\"\",\"title\":{\"standoff\":15},\"zerolinecolor\":\"white\",\"automargin\":true,\"zerolinewidth\":2},\"yaxis\":{\"gridcolor\":\"white\",\"linecolor\":\"white\",\"ticks\":\"\",\"title\":{\"standoff\":15},\"zerolinecolor\":\"white\",\"automargin\":true,\"zerolinewidth\":2},\"scene\":{\"xaxis\":{\"backgroundcolor\":\"#E5ECF6\",\"gridcolor\":\"white\",\"linecolor\":\"white\",\"showbackground\":true,\"ticks\":\"\",\"zerolinecolor\":\"white\",\"gridwidth\":2},\"yaxis\":{\"backgroundcolor\":\"#E5ECF6\",\"gridcolor\":\"white\",\"linecolor\":\"white\",\"showbackground\":true,\"ticks\":\"\",\"zerolinecolor\":\"white\",\"gridwidth\":2},\"zaxis\":{\"backgroundcolor\":\"#E5ECF6\",\"gridcolor\":\"white\",\"linecolor\":\"white\",\"showbackground\":true,\"ticks\":\"\",\"zerolinecolor\":\"white\",\"gridwidth\":2}},\"shapedefaults\":{\"line\":{\"color\":\"#2a3f5f\"}},\"annotationdefaults\":{\"arrowcolor\":\"#2a3f5f\",\"arrowhead\":0,\"arrowwidth\":1},\"geo\":{\"bgcolor\":\"white\",\"landcolor\":\"#E5ECF6\",\"subunitcolor\":\"white\",\"showland\":true,\"showlakes\":true,\"lakecolor\":\"white\"},\"title\":{\"x\":0.05},\"mapbox\":{\"style\":\"light\"}}},\"xaxis\":{\"anchor\":\"y\",\"domain\":[0.0,1.0],\"title\":{\"text\":\"y\"}},\"yaxis\":{\"anchor\":\"x\",\"domain\":[0.0,1.0],\"title\":{\"text\":\"y-hat\"}},\"legend\":{\"tracegroupgap\":0},\"margin\":{\"t\":60}},                        {\"responsive\": true}                    ).then(function(){\n",
       "                            \n",
       "var gd = document.getElementById('13241d59-e062-483b-8e5d-38c0c713bcc5');\n",
       "var x = new MutationObserver(function (mutations, observer) {{\n",
       "        var display = window.getComputedStyle(gd).display;\n",
       "        if (!display || display === 'none') {{\n",
       "            console.log([gd, 'removed!']);\n",
       "            Plotly.purge(gd);\n",
       "            observer.disconnect();\n",
       "        }}\n",
       "}});\n",
       "\n",
       "// Listen for the removal of the full notebook cells\n",
       "var notebookContainer = gd.closest('#notebook-container');\n",
       "if (notebookContainer) {{\n",
       "    x.observe(notebookContainer, {childList: true});\n",
       "}}\n",
       "\n",
       "// Listen for the clearing of the current output cell\n",
       "var outputEl = gd.closest('.output');\n",
       "if (outputEl) {{\n",
       "    x.observe(outputEl, {childList: true});\n",
       "}}\n",
       "\n",
       "                        })                };                });            </script>        </div>"
      ]
     },
     "metadata": {},
     "output_type": "display_data"
    }
   ],
   "source": [
    "# fit_model9\n",
    "y_9 = fit_model9.model.endog\n",
    "print(\"r =\",np.corrcoef(y_9, fit_model9.predict())[0,1])\n",
    "fig = px.scatter(x=y_9, y=fit_model9.predict(),\n",
    "                 labels={\"x\": \"y\", \"y\": \"y-hat\"},)\n",
    "fig.add_trace(go.Scatter(x=[0,140], y=[0,140], name=\"y=x\", line_shape='linear'))\n",
    "fig.show()"
   ]
  },
  {
   "cell_type": "code",
   "execution_count": 103,
   "id": "e2294b77",
   "metadata": {},
   "outputs": [
    {
     "name": "stdout",
     "output_type": "stream",
     "text": [
      "r = 0.4346690986911411\n"
     ]
    },
    {
     "data": {
      "application/vnd.plotly.v1+json": {
       "config": {
        "plotlyServerURL": "https://plot.ly"
       },
       "data": [
        {
         "hovertemplate": "y=%{x}<br>y-hat=%{y}<extra></extra>",
         "legendgroup": "",
         "marker": {
          "color": "#636efa",
          "symbol": "circle"
         },
         "mode": "markers",
         "name": "",
         "orientation": "v",
         "showlegend": false,
         "type": "scatter",
         "x": [
          5.18,
          10.2,
          1.5,
          10.87,
          16.77,
          16.44,
          13.46,
          8.44,
          19.8,
          8.97,
          10.46,
          13.57,
          14.6,
          37.95,
          11.58,
          3.99,
          10.2,
          5.87,
          10.85,
          10.4,
          11.94,
          11.2,
          8.96,
          15.63,
          10.2,
          12.11,
          7.95,
          14.95,
          10.17,
          7.95,
          8.39,
          13.6,
          8.75,
          26.61,
          9.59,
          12.52,
          11.16,
          10.22,
          4.99,
          10.4,
          10.54,
          15.82,
          15.6,
          10.17,
          6.99,
          5.99,
          11.16,
          20.48,
          16.32,
          9.07,
          8.38,
          8.97,
          10.2,
          8.99,
          6.99,
          9.99,
          11.36,
          83.04,
          44.32,
          7.97,
          7.97,
          12.24,
          54.61,
          10.2,
          11.46,
          10.2,
          11.5,
          14.99,
          6.99,
          10.2,
          10.88,
          39.92,
          10.2,
          6.99,
          9.07,
          16.46,
          7.83,
          10.19,
          17.43,
          7.99,
          8,
          9.95,
          14.61,
          11.2,
          10.46,
          6.99,
          8.97,
          12.24,
          9.2,
          6.99,
          10.88,
          8.99,
          9.09,
          12.24,
          8.99,
          11.55,
          11.2,
          19.99,
          139.95,
          16.47,
          5.98,
          6.95,
          13,
          14.44,
          5.13,
          11.55,
          8.95,
          8.6,
          10.22,
          13.43,
          11.08,
          13.6,
          10.2,
          10.17,
          8.39,
          10.19,
          11.2,
          8.36,
          15.2,
          8.68,
          10.33,
          25.95,
          16.5,
          9.99,
          15.44,
          10.58,
          8.84,
          8.15,
          22.81,
          11.24,
          8.59,
          10.19,
          12.17,
          7.99,
          7.98,
          11.2,
          13.29,
          10.77,
          13.83,
          9.6,
          10.17,
          7.9,
          11.55,
          10.2,
          6.95,
          8.75,
          10.2,
          13.6,
          10.88,
          10.2,
          10.88,
          10.09,
          8.24,
          8.61,
          8.95,
          5.99,
          8.87,
          9.98,
          11.08,
          35.95,
          10.98,
          7.95,
          25.84,
          5.98,
          9.64,
          10.85,
          16.91,
          5.99,
          8.11,
          12.47,
          9.99,
          10.85,
          9.57,
          11.08,
          8.07,
          6,
          9.75,
          21.75,
          17.73,
          9.58,
          7.89,
          16.32,
          6.95,
          10.22,
          10.88,
          17.79,
          15.44,
          7.99,
          12.08,
          21.68,
          6.99,
          9.99,
          6.99,
          10.2,
          7.51,
          9.99,
          118.21,
          7.7,
          10.2,
          15.48,
          10.77,
          8.43,
          6.4,
          9,
          7.75,
          11.99,
          4.99,
          8.5,
          22,
          7.31,
          10.68,
          8.95,
          8.99,
          7.95,
          10.09,
          11.44,
          9.28,
          9.66,
          55.75,
          39.72,
          9.99,
          20,
          8.6,
          8.04,
          10.68,
          14.96,
          8.42,
          9.99,
          8.52,
          8.26,
          11.16,
          7.82,
          9.16,
          16.09,
          15.62,
          8.84,
          8.92,
          8.05,
          11.56,
          7.7,
          8.8,
          6.4,
          4.94,
          10.21,
          8,
          8.36,
          9.22,
          9.99,
          12.5,
          8.95,
          22.51,
          9.52,
          13.13,
          7.79,
          10.86,
          11.2,
          10.2,
          11.53,
          9.99,
          10.17,
          8.8,
          10.47,
          7.9,
          9.99,
          14.46,
          8.22,
          8.98,
          23.94,
          11.28,
          24.9,
          9.92,
          7.77,
          3.95,
          0.77,
          8.99,
          15.15,
          13.6,
          13.6,
          8.45,
          14.96,
          10.17,
          10.88,
          10.11,
          8.28,
          14.7,
          14,
          5.98,
          13.7,
          12.17,
          10.29,
          11.19,
          8.5,
          12.6,
          6.9,
          14.69,
          16.08,
          23.1,
          10.68,
          6.99,
          10.75,
          10.17,
          10.17,
          10,
          13.49,
          10.2,
          10.2,
          10.85,
          8.14,
          19.01,
          12.24,
          27.55,
          5.18,
          97.5,
          4.95
         ],
         "xaxis": "x",
         "y": [
          12.990286155130036,
          11.012015156940477,
          12.457340332752752,
          18.68931597037134,
          14.020621211881544,
          20.776849722313685,
          11.178762769017947,
          12.496658900524922,
          17.99053115464729,
          5.349318163623995,
          19.098206611251555,
          9.527759530316908,
          15.656183775402393,
          24.54172984962657,
          25.204830331681485,
          13.889169816512325,
          12.74347252782748,
          6.20953150467001,
          10.004516989241303,
          11.336169184095787,
          19.612725771781513,
          14.520347944667211,
          13.51220152953214,
          10.205264323155234,
          10.271574275032807,
          13.851147984431742,
          15.219005014725187,
          13.434861129679383,
          9.415383044230916,
          7.354580545918959,
          12.581395514249824,
          9.803769896147164,
          13.035704201082766,
          16.494856963087663,
          11.801636064569983,
          12.718946387799596,
          12.464736546624895,
          12.881023401377252,
          7.880778401859996,
          12.404526072927878,
          14.65050260434484,
          22.27122717818172,
          19.41496442453472,
          9.256031646025589,
          7.200420247983273,
          7.302414533529983,
          7.793576544057577,
          10.930392275548785,
          14.2674348391841,
          13.16715559645198,
          13.564760298024868,
          14.077069705809453,
          13.981302644109368,
          13.706200897009824,
          23.038403952862655,
          3.808874173547537,
          12.41620476833896,
          31.318850265983556,
          19.10430608943211,
          12.58879172812197,
          12.58879172812197,
          11.914012550655976,
          27.14741699620191,
          10.740675389610034,
          10.621551177907586,
          11.974743526122817,
          13.146263690527134,
          8.110334357340744,
          3.00822281794285,
          11.865480772370036,
          12.35910802697515,
          18.004026846699993,
          11.25882878424303,
          5.0319118620851375,
          10.655938775885136,
          20.705608800641485,
          10.134023401483034,
          16.667836678974428,
          18.067871554500048,
          3.0929594316677487,
          16.33277994951001,
          9.971946387905374,
          16.735571112209666,
          -4.2639490935571205,
          19.098206611251555,
          7.094919473999598,
          18.328180873855306,
          15.031493242388944,
          11.156962244362395,
          8.547513118017946,
          7.539366702882876,
          10.80452009741009,
          8.931877618870276,
          13.321836396157492,
          23.18724076571975,
          10.825412003334936,
          12.711550173927453,
          28.730165299897887,
          32.02360681422209,
          16.54637472804074,
          11.403775871664951,
          11.481116271517706,
          17.342223100336668,
          16.488757484907108,
          11.279720690167878,
          11.064829416765349,
          9.904467446002286,
          22.06619736272886,
          13.766411370706841,
          10.847600644951372,
          12.080372045772567,
          16.579593576812563,
          10.987489016912592,
          8.409962244468174,
          11.735326112692407,
          10.064079215502423,
          13.579420100140423,
          12.411922286800023,
          14.393827519092618,
          10.772597743510063,
          18.392153327321434,
          12.278005647353284,
          11.820062726417309,
          6.456345131972568,
          16.982384739512224,
          30.704674318318336,
          9.263427859897735,
          12.080372045772567,
          15.029288128786439,
          11.932959714273128,
          9.59497810092519,
          6.1075372191233015,
          17.547380661455605,
          4.03388727619454,
          13.336628823901783,
          11.064829416765349,
          23.780524807460125,
          4.24592518855867,
          14.944031013291715,
          10.134023401483034,
          10.024760647730249,
          9.567338228564099,
          16.717144450362337,
          11.691725063381302,
          13.434861129679383,
          14.407323211145322,
          9.799747545083246,
          13.858544198303884,
          9.894605988052621,
          11.149566030490249,
          13.289914042257468,
          12.44384464070005,
          12.549473160349796,
          9.59497810092519,
          12.542076946477652,
          11.910898818322766,
          10.942070970959863,
          11.449193917617679,
          12.41620476833896,
          16.978362388448303,
          19.18904270315701,
          10.271574275032807,
          26.685712095496825,
          8.47017271816519,
          12.788890573780208,
          14.25264241143981,
          1.186970358690038,
          3.639400946097737,
          12.912945755277281,
          11.064829416765349,
          1.284161660927992,
          12.35910802697515,
          9.894605988052621,
          11.770622329400663,
          11.565852885242608,
          10.655938775885136,
          14.968557153319594,
          22.10915016460407,
          16.89764812578732,
          12.027557785947694,
          13.589541929384895,
          15.987734016429847,
          12.327185673075123,
          12.281767627122395,
          12.003031645919808,
          14.588475134006199,
          12.48316320847222,
          11.226906430343005,
          11.143466552309693,
          16.907509583736985,
          19.37188387699344,
          1.915339789082878,
          6.456345131972568,
          13.38542073266274,
          18.036469702369846,
          6.703158759275124,
          18.011423060572138,
          18.391897835989283,
          10.934674757087722,
          14.761062093789214,
          12.411922286800023,
          12.330819907178158,
          11.897403126270063,
          14.859294399566814,
          16.24804333578511,
          6.403530872147695,
          12.214288685219303,
          11.339282916428997,
          19.859539399084067,
          7.3772896893052184,
          17.8454563215593,
          12.615134864791473,
          18.77911569788002,
          -1.0636814103696115,
          12.281767627122395,
          4.8943609885353645,
          10.786093435562766,
          13.144966954835548,
          18.864888676001698,
          20.11984871843933,
          5.402780670884767,
          35.68415515757682,
          9.140669414092248,
          10.486465548435334,
          10.433651288610461,
          10.020998667961143,
          19.18904270315701,
          12.037679615192166,
          7.299949289452464,
          12.504055114397067,
          26.23374090707533,
          11.910898818322766,
          9.958450695852676,
          21.276576455099352,
          18.035949200600022,
          10.102101047583005,
          10.102101047583005,
          11.396379657792806,
          13.244495996304735,
          13.103310888651926,
          10.493861762307478,
          11.117643676590221,
          12.249845273222366,
          12.066876353719865,
          11.326435471812196,
          10.109497261455148,
          14.037751138037278,
          10.603124516060262,
          9.634296668697361,
          12.758264955571772,
          15.497480624632963,
          13.601220624795973,
          13.657020871287987,
          8.19078848952671,
          10.839816314118345,
          10.186837661307907,
          11.785026640184071,
          11.65798571283965,
          15.903645650140849,
          11.36445730389278,
          13.035704201082766,
          -2.3234397969731284,
          21.753073783548725,
          9.14313465816977,
          20.515243667266837,
          12.379999932899993,
          10.290000936880134,
          15.976703568454669,
          10.525784116207507,
          21.086211321724708,
          10.486465548435334,
          13.434861129679383,
          2.761409190640292,
          12.615134864791473,
          5.056438002113022,
          12.38739614677214,
          22.144834498273205,
          13.022208509030063,
          15.15892228669424,
          9.400978733447507,
          13.195055599288091,
          23.737316514252775,
          9.432901087347537,
          11.53393053134258,
          15.000479507219623,
          13.289914042257468,
          9.67971471465009,
          17.419563500189422,
          15.784000936668573,
          9.717736546730675,
          11.396379657792806,
          12.27437141325025,
          13.420068701935094,
          11.019411370812621,
          21.195346329811418,
          15.480611069772037,
          13.632494731260103,
          11.495908699261996,
          10.648542562012992,
          10.356310888757706,
          12.873627187505107,
          14.883820539594696,
          14.485960346689668,
          17.62095908153925,
          10.598842034521327,
          12.796286787652354,
          10.441047502482608,
          11.65058949896751,
          14.443528046584282,
          22.27122717818172,
          13.1240750489107,
          10.134023401483034,
          22.72904235345163,
          13.434861129679383
         ],
         "yaxis": "y"
        },
        {
         "line": {
          "shape": "linear"
         },
         "name": "y=x",
         "type": "scatter",
         "x": [
          0,
          140
         ],
         "y": [
          0,
          140
         ]
        }
       ],
       "layout": {
        "legend": {
         "tracegroupgap": 0
        },
        "margin": {
         "t": 60
        },
        "template": {
         "data": {
          "bar": [
           {
            "error_x": {
             "color": "#2a3f5f"
            },
            "error_y": {
             "color": "#2a3f5f"
            },
            "marker": {
             "line": {
              "color": "#E5ECF6",
              "width": 0.5
             },
             "pattern": {
              "fillmode": "overlay",
              "size": 10,
              "solidity": 0.2
             }
            },
            "type": "bar"
           }
          ],
          "barpolar": [
           {
            "marker": {
             "line": {
              "color": "#E5ECF6",
              "width": 0.5
             },
             "pattern": {
              "fillmode": "overlay",
              "size": 10,
              "solidity": 0.2
             }
            },
            "type": "barpolar"
           }
          ],
          "carpet": [
           {
            "aaxis": {
             "endlinecolor": "#2a3f5f",
             "gridcolor": "white",
             "linecolor": "white",
             "minorgridcolor": "white",
             "startlinecolor": "#2a3f5f"
            },
            "baxis": {
             "endlinecolor": "#2a3f5f",
             "gridcolor": "white",
             "linecolor": "white",
             "minorgridcolor": "white",
             "startlinecolor": "#2a3f5f"
            },
            "type": "carpet"
           }
          ],
          "choropleth": [
           {
            "colorbar": {
             "outlinewidth": 0,
             "ticks": ""
            },
            "type": "choropleth"
           }
          ],
          "contour": [
           {
            "colorbar": {
             "outlinewidth": 0,
             "ticks": ""
            },
            "colorscale": [
             [
              0,
              "#0d0887"
             ],
             [
              0.1111111111111111,
              "#46039f"
             ],
             [
              0.2222222222222222,
              "#7201a8"
             ],
             [
              0.3333333333333333,
              "#9c179e"
             ],
             [
              0.4444444444444444,
              "#bd3786"
             ],
             [
              0.5555555555555556,
              "#d8576b"
             ],
             [
              0.6666666666666666,
              "#ed7953"
             ],
             [
              0.7777777777777778,
              "#fb9f3a"
             ],
             [
              0.8888888888888888,
              "#fdca26"
             ],
             [
              1,
              "#f0f921"
             ]
            ],
            "type": "contour"
           }
          ],
          "contourcarpet": [
           {
            "colorbar": {
             "outlinewidth": 0,
             "ticks": ""
            },
            "type": "contourcarpet"
           }
          ],
          "heatmap": [
           {
            "colorbar": {
             "outlinewidth": 0,
             "ticks": ""
            },
            "colorscale": [
             [
              0,
              "#0d0887"
             ],
             [
              0.1111111111111111,
              "#46039f"
             ],
             [
              0.2222222222222222,
              "#7201a8"
             ],
             [
              0.3333333333333333,
              "#9c179e"
             ],
             [
              0.4444444444444444,
              "#bd3786"
             ],
             [
              0.5555555555555556,
              "#d8576b"
             ],
             [
              0.6666666666666666,
              "#ed7953"
             ],
             [
              0.7777777777777778,
              "#fb9f3a"
             ],
             [
              0.8888888888888888,
              "#fdca26"
             ],
             [
              1,
              "#f0f921"
             ]
            ],
            "type": "heatmap"
           }
          ],
          "heatmapgl": [
           {
            "colorbar": {
             "outlinewidth": 0,
             "ticks": ""
            },
            "colorscale": [
             [
              0,
              "#0d0887"
             ],
             [
              0.1111111111111111,
              "#46039f"
             ],
             [
              0.2222222222222222,
              "#7201a8"
             ],
             [
              0.3333333333333333,
              "#9c179e"
             ],
             [
              0.4444444444444444,
              "#bd3786"
             ],
             [
              0.5555555555555556,
              "#d8576b"
             ],
             [
              0.6666666666666666,
              "#ed7953"
             ],
             [
              0.7777777777777778,
              "#fb9f3a"
             ],
             [
              0.8888888888888888,
              "#fdca26"
             ],
             [
              1,
              "#f0f921"
             ]
            ],
            "type": "heatmapgl"
           }
          ],
          "histogram": [
           {
            "marker": {
             "pattern": {
              "fillmode": "overlay",
              "size": 10,
              "solidity": 0.2
             }
            },
            "type": "histogram"
           }
          ],
          "histogram2d": [
           {
            "colorbar": {
             "outlinewidth": 0,
             "ticks": ""
            },
            "colorscale": [
             [
              0,
              "#0d0887"
             ],
             [
              0.1111111111111111,
              "#46039f"
             ],
             [
              0.2222222222222222,
              "#7201a8"
             ],
             [
              0.3333333333333333,
              "#9c179e"
             ],
             [
              0.4444444444444444,
              "#bd3786"
             ],
             [
              0.5555555555555556,
              "#d8576b"
             ],
             [
              0.6666666666666666,
              "#ed7953"
             ],
             [
              0.7777777777777778,
              "#fb9f3a"
             ],
             [
              0.8888888888888888,
              "#fdca26"
             ],
             [
              1,
              "#f0f921"
             ]
            ],
            "type": "histogram2d"
           }
          ],
          "histogram2dcontour": [
           {
            "colorbar": {
             "outlinewidth": 0,
             "ticks": ""
            },
            "colorscale": [
             [
              0,
              "#0d0887"
             ],
             [
              0.1111111111111111,
              "#46039f"
             ],
             [
              0.2222222222222222,
              "#7201a8"
             ],
             [
              0.3333333333333333,
              "#9c179e"
             ],
             [
              0.4444444444444444,
              "#bd3786"
             ],
             [
              0.5555555555555556,
              "#d8576b"
             ],
             [
              0.6666666666666666,
              "#ed7953"
             ],
             [
              0.7777777777777778,
              "#fb9f3a"
             ],
             [
              0.8888888888888888,
              "#fdca26"
             ],
             [
              1,
              "#f0f921"
             ]
            ],
            "type": "histogram2dcontour"
           }
          ],
          "mesh3d": [
           {
            "colorbar": {
             "outlinewidth": 0,
             "ticks": ""
            },
            "type": "mesh3d"
           }
          ],
          "parcoords": [
           {
            "line": {
             "colorbar": {
              "outlinewidth": 0,
              "ticks": ""
             }
            },
            "type": "parcoords"
           }
          ],
          "pie": [
           {
            "automargin": true,
            "type": "pie"
           }
          ],
          "scatter": [
           {
            "fillpattern": {
             "fillmode": "overlay",
             "size": 10,
             "solidity": 0.2
            },
            "type": "scatter"
           }
          ],
          "scatter3d": [
           {
            "line": {
             "colorbar": {
              "outlinewidth": 0,
              "ticks": ""
             }
            },
            "marker": {
             "colorbar": {
              "outlinewidth": 0,
              "ticks": ""
             }
            },
            "type": "scatter3d"
           }
          ],
          "scattercarpet": [
           {
            "marker": {
             "colorbar": {
              "outlinewidth": 0,
              "ticks": ""
             }
            },
            "type": "scattercarpet"
           }
          ],
          "scattergeo": [
           {
            "marker": {
             "colorbar": {
              "outlinewidth": 0,
              "ticks": ""
             }
            },
            "type": "scattergeo"
           }
          ],
          "scattergl": [
           {
            "marker": {
             "colorbar": {
              "outlinewidth": 0,
              "ticks": ""
             }
            },
            "type": "scattergl"
           }
          ],
          "scattermapbox": [
           {
            "marker": {
             "colorbar": {
              "outlinewidth": 0,
              "ticks": ""
             }
            },
            "type": "scattermapbox"
           }
          ],
          "scatterpolar": [
           {
            "marker": {
             "colorbar": {
              "outlinewidth": 0,
              "ticks": ""
             }
            },
            "type": "scatterpolar"
           }
          ],
          "scatterpolargl": [
           {
            "marker": {
             "colorbar": {
              "outlinewidth": 0,
              "ticks": ""
             }
            },
            "type": "scatterpolargl"
           }
          ],
          "scatterternary": [
           {
            "marker": {
             "colorbar": {
              "outlinewidth": 0,
              "ticks": ""
             }
            },
            "type": "scatterternary"
           }
          ],
          "surface": [
           {
            "colorbar": {
             "outlinewidth": 0,
             "ticks": ""
            },
            "colorscale": [
             [
              0,
              "#0d0887"
             ],
             [
              0.1111111111111111,
              "#46039f"
             ],
             [
              0.2222222222222222,
              "#7201a8"
             ],
             [
              0.3333333333333333,
              "#9c179e"
             ],
             [
              0.4444444444444444,
              "#bd3786"
             ],
             [
              0.5555555555555556,
              "#d8576b"
             ],
             [
              0.6666666666666666,
              "#ed7953"
             ],
             [
              0.7777777777777778,
              "#fb9f3a"
             ],
             [
              0.8888888888888888,
              "#fdca26"
             ],
             [
              1,
              "#f0f921"
             ]
            ],
            "type": "surface"
           }
          ],
          "table": [
           {
            "cells": {
             "fill": {
              "color": "#EBF0F8"
             },
             "line": {
              "color": "white"
             }
            },
            "header": {
             "fill": {
              "color": "#C8D4E3"
             },
             "line": {
              "color": "white"
             }
            },
            "type": "table"
           }
          ]
         },
         "layout": {
          "annotationdefaults": {
           "arrowcolor": "#2a3f5f",
           "arrowhead": 0,
           "arrowwidth": 1
          },
          "autotypenumbers": "strict",
          "coloraxis": {
           "colorbar": {
            "outlinewidth": 0,
            "ticks": ""
           }
          },
          "colorscale": {
           "diverging": [
            [
             0,
             "#8e0152"
            ],
            [
             0.1,
             "#c51b7d"
            ],
            [
             0.2,
             "#de77ae"
            ],
            [
             0.3,
             "#f1b6da"
            ],
            [
             0.4,
             "#fde0ef"
            ],
            [
             0.5,
             "#f7f7f7"
            ],
            [
             0.6,
             "#e6f5d0"
            ],
            [
             0.7,
             "#b8e186"
            ],
            [
             0.8,
             "#7fbc41"
            ],
            [
             0.9,
             "#4d9221"
            ],
            [
             1,
             "#276419"
            ]
           ],
           "sequential": [
            [
             0,
             "#0d0887"
            ],
            [
             0.1111111111111111,
             "#46039f"
            ],
            [
             0.2222222222222222,
             "#7201a8"
            ],
            [
             0.3333333333333333,
             "#9c179e"
            ],
            [
             0.4444444444444444,
             "#bd3786"
            ],
            [
             0.5555555555555556,
             "#d8576b"
            ],
            [
             0.6666666666666666,
             "#ed7953"
            ],
            [
             0.7777777777777778,
             "#fb9f3a"
            ],
            [
             0.8888888888888888,
             "#fdca26"
            ],
            [
             1,
             "#f0f921"
            ]
           ],
           "sequentialminus": [
            [
             0,
             "#0d0887"
            ],
            [
             0.1111111111111111,
             "#46039f"
            ],
            [
             0.2222222222222222,
             "#7201a8"
            ],
            [
             0.3333333333333333,
             "#9c179e"
            ],
            [
             0.4444444444444444,
             "#bd3786"
            ],
            [
             0.5555555555555556,
             "#d8576b"
            ],
            [
             0.6666666666666666,
             "#ed7953"
            ],
            [
             0.7777777777777778,
             "#fb9f3a"
            ],
            [
             0.8888888888888888,
             "#fdca26"
            ],
            [
             1,
             "#f0f921"
            ]
           ]
          },
          "colorway": [
           "#636efa",
           "#EF553B",
           "#00cc96",
           "#ab63fa",
           "#FFA15A",
           "#19d3f3",
           "#FF6692",
           "#B6E880",
           "#FF97FF",
           "#FECB52"
          ],
          "font": {
           "color": "#2a3f5f"
          },
          "geo": {
           "bgcolor": "white",
           "lakecolor": "white",
           "landcolor": "#E5ECF6",
           "showlakes": true,
           "showland": true,
           "subunitcolor": "white"
          },
          "hoverlabel": {
           "align": "left"
          },
          "hovermode": "closest",
          "mapbox": {
           "style": "light"
          },
          "paper_bgcolor": "white",
          "plot_bgcolor": "#E5ECF6",
          "polar": {
           "angularaxis": {
            "gridcolor": "white",
            "linecolor": "white",
            "ticks": ""
           },
           "bgcolor": "#E5ECF6",
           "radialaxis": {
            "gridcolor": "white",
            "linecolor": "white",
            "ticks": ""
           }
          },
          "scene": {
           "xaxis": {
            "backgroundcolor": "#E5ECF6",
            "gridcolor": "white",
            "gridwidth": 2,
            "linecolor": "white",
            "showbackground": true,
            "ticks": "",
            "zerolinecolor": "white"
           },
           "yaxis": {
            "backgroundcolor": "#E5ECF6",
            "gridcolor": "white",
            "gridwidth": 2,
            "linecolor": "white",
            "showbackground": true,
            "ticks": "",
            "zerolinecolor": "white"
           },
           "zaxis": {
            "backgroundcolor": "#E5ECF6",
            "gridcolor": "white",
            "gridwidth": 2,
            "linecolor": "white",
            "showbackground": true,
            "ticks": "",
            "zerolinecolor": "white"
           }
          },
          "shapedefaults": {
           "line": {
            "color": "#2a3f5f"
           }
          },
          "ternary": {
           "aaxis": {
            "gridcolor": "white",
            "linecolor": "white",
            "ticks": ""
           },
           "baxis": {
            "gridcolor": "white",
            "linecolor": "white",
            "ticks": ""
           },
           "bgcolor": "#E5ECF6",
           "caxis": {
            "gridcolor": "white",
            "linecolor": "white",
            "ticks": ""
           }
          },
          "title": {
           "x": 0.05
          },
          "xaxis": {
           "automargin": true,
           "gridcolor": "white",
           "linecolor": "white",
           "ticks": "",
           "title": {
            "standoff": 15
           },
           "zerolinecolor": "white",
           "zerolinewidth": 2
          },
          "yaxis": {
           "automargin": true,
           "gridcolor": "white",
           "linecolor": "white",
           "ticks": "",
           "title": {
            "standoff": 15
           },
           "zerolinecolor": "white",
           "zerolinewidth": 2
          }
         }
        },
        "xaxis": {
         "anchor": "y",
         "domain": [
          0,
          1
         ],
         "title": {
          "text": "y"
         }
        },
        "yaxis": {
         "anchor": "x",
         "domain": [
          0,
          1
         ],
         "title": {
          "text": "y-hat"
         }
        }
       }
      },
      "text/html": [
       "<div>                            <div id=\"8c7555e6-dae3-4a6c-8ce3-cc8bed67fcdb\" class=\"plotly-graph-div\" style=\"height:525px; width:100%;\"></div>            <script type=\"text/javascript\">                require([\"plotly\"], function(Plotly) {                    window.PLOTLYENV=window.PLOTLYENV || {};                                    if (document.getElementById(\"8c7555e6-dae3-4a6c-8ce3-cc8bed67fcdb\")) {                    Plotly.newPlot(                        \"8c7555e6-dae3-4a6c-8ce3-cc8bed67fcdb\",                        [{\"hovertemplate\":\"y=%{x}<br>y-hat=%{y}<extra></extra>\",\"legendgroup\":\"\",\"marker\":{\"color\":\"#636efa\",\"symbol\":\"circle\"},\"mode\":\"markers\",\"name\":\"\",\"orientation\":\"v\",\"showlegend\":false,\"x\":[5.18,10.2,1.5,10.87,16.77,16.44,13.46,8.44,19.8,8.97,10.46,13.57,14.6,37.95,11.58,3.99,10.2,5.87,10.85,10.4,11.94,11.2,8.96,15.63,10.2,12.11,7.95,14.95,10.17,7.95,8.39,13.6,8.75,26.61,9.59,12.52,11.16,10.22,4.99,10.4,10.54,15.82,15.6,10.17,6.99,5.99,11.16,20.48,16.32,9.07,8.38,8.97,10.2,8.99,6.99,9.99,11.36,83.04,44.32,7.97,7.97,12.24,54.61,10.2,11.46,10.2,11.5,14.99,6.99,10.2,10.88,39.92,10.2,6.99,9.07,16.46,7.83,10.19,17.43,7.99,8.0,9.95,14.61,11.2,10.46,6.99,8.97,12.24,9.2,6.99,10.88,8.99,9.09,12.24,8.99,11.55,11.2,19.99,139.95,16.47,5.98,6.95,13.0,14.44,5.13,11.55,8.95,8.6,10.22,13.43,11.08,13.6,10.2,10.17,8.39,10.19,11.2,8.36,15.2,8.68,10.33,25.95,16.5,9.99,15.44,10.58,8.84,8.15,22.81,11.24,8.59,10.19,12.17,7.99,7.98,11.2,13.29,10.77,13.83,9.6,10.17,7.9,11.55,10.2,6.95,8.75,10.2,13.6,10.88,10.2,10.88,10.09,8.24,8.61,8.95,5.99,8.87,9.98,11.08,35.95,10.98,7.95,25.84,5.98,9.64,10.85,16.91,5.99,8.11,12.47,9.99,10.85,9.57,11.08,8.07,6.0,9.75,21.75,17.73,9.58,7.89,16.32,6.95,10.22,10.88,17.79,15.44,7.99,12.08,21.68,6.99,9.99,6.99,10.2,7.51,9.99,118.21,7.7,10.2,15.48,10.77,8.43,6.4,9.0,7.75,11.99,4.99,8.5,22.0,7.31,10.68,8.95,8.99,7.95,10.09,11.44,9.28,9.66,55.75,39.72,9.99,20.0,8.6,8.04,10.68,14.96,8.42,9.99,8.52,8.26,11.16,7.82,9.16,16.09,15.62,8.84,8.92,8.05,11.56,7.7,8.8,6.4,4.94,10.21,8.0,8.36,9.22,9.99,12.5,8.95,22.51,9.52,13.13,7.79,10.86,11.2,10.2,11.53,9.99,10.17,8.8,10.47,7.9,9.99,14.46,8.22,8.98,23.94,11.28,24.9,9.92,7.77,3.95,0.77,8.99,15.15,13.6,13.6,8.45,14.96,10.17,10.88,10.11,8.28,14.7,14.0,5.98,13.7,12.17,10.29,11.19,8.5,12.6,6.9,14.69,16.08,23.1,10.68,6.99,10.75,10.17,10.17,10.0,13.49,10.2,10.2,10.85,8.14,19.01,12.24,27.55,5.18,97.5,4.95],\"xaxis\":\"x\",\"y\":[12.990286155130036,11.012015156940477,12.457340332752752,18.68931597037134,14.020621211881544,20.776849722313685,11.178762769017947,12.496658900524922,17.99053115464729,5.349318163623995,19.098206611251555,9.527759530316908,15.656183775402393,24.54172984962657,25.204830331681485,13.889169816512325,12.74347252782748,6.20953150467001,10.004516989241303,11.336169184095787,19.612725771781513,14.520347944667211,13.51220152953214,10.205264323155234,10.271574275032807,13.851147984431742,15.219005014725187,13.434861129679383,9.415383044230916,7.354580545918959,12.581395514249824,9.803769896147164,13.035704201082766,16.494856963087663,11.801636064569983,12.718946387799596,12.464736546624895,12.881023401377252,7.880778401859996,12.404526072927878,14.65050260434484,22.27122717818172,19.41496442453472,9.256031646025589,7.200420247983273,7.302414533529983,7.793576544057577,10.930392275548785,14.2674348391841,13.16715559645198,13.564760298024868,14.077069705809453,13.981302644109368,13.706200897009824,23.038403952862655,3.808874173547537,12.41620476833896,31.318850265983556,19.10430608943211,12.58879172812197,12.58879172812197,11.914012550655976,27.14741699620191,10.740675389610034,10.621551177907586,11.974743526122817,13.146263690527134,8.110334357340744,3.00822281794285,11.865480772370036,12.35910802697515,18.004026846699993,11.25882878424303,5.0319118620851375,10.655938775885136,20.705608800641485,10.134023401483034,16.667836678974428,18.067871554500048,3.0929594316677487,16.33277994951001,9.971946387905374,16.735571112209666,-4.2639490935571205,19.098206611251555,7.094919473999598,18.328180873855306,15.031493242388944,11.156962244362395,8.547513118017946,7.539366702882876,10.80452009741009,8.931877618870276,13.321836396157492,23.18724076571975,10.825412003334936,12.711550173927453,28.730165299897887,32.02360681422209,16.54637472804074,11.403775871664951,11.481116271517706,17.342223100336668,16.488757484907108,11.279720690167878,11.064829416765349,9.904467446002286,22.06619736272886,13.766411370706841,10.847600644951372,12.080372045772567,16.579593576812563,10.987489016912592,8.409962244468174,11.735326112692407,10.064079215502423,13.579420100140423,12.411922286800023,14.393827519092618,10.772597743510063,18.392153327321434,12.278005647353284,11.820062726417309,6.456345131972568,16.982384739512224,30.704674318318336,9.263427859897735,12.080372045772567,15.029288128786439,11.932959714273128,9.59497810092519,6.1075372191233015,17.547380661455605,4.03388727619454,13.336628823901783,11.064829416765349,23.780524807460125,4.24592518855867,14.944031013291715,10.134023401483034,10.024760647730249,9.567338228564099,16.717144450362337,11.691725063381302,13.434861129679383,14.407323211145322,9.799747545083246,13.858544198303884,9.894605988052621,11.149566030490249,13.289914042257468,12.44384464070005,12.549473160349796,9.59497810092519,12.542076946477652,11.910898818322766,10.942070970959863,11.449193917617679,12.41620476833896,16.978362388448303,19.18904270315701,10.271574275032807,26.685712095496825,8.47017271816519,12.788890573780208,14.25264241143981,1.186970358690038,3.639400946097737,12.912945755277281,11.064829416765349,1.284161660927992,12.35910802697515,9.894605988052621,11.770622329400663,11.565852885242608,10.655938775885136,14.968557153319594,22.10915016460407,16.89764812578732,12.027557785947694,13.589541929384895,15.987734016429847,12.327185673075123,12.281767627122395,12.003031645919808,14.588475134006199,12.48316320847222,11.226906430343005,11.143466552309693,16.907509583736985,19.37188387699344,1.915339789082878,6.456345131972568,13.38542073266274,18.036469702369846,6.703158759275124,18.011423060572138,18.391897835989283,10.934674757087722,14.761062093789214,12.411922286800023,12.330819907178158,11.897403126270063,14.859294399566814,16.24804333578511,6.403530872147695,12.214288685219303,11.339282916428997,19.859539399084067,7.3772896893052184,17.8454563215593,12.615134864791473,18.77911569788002,-1.0636814103696115,12.281767627122395,4.8943609885353645,10.786093435562766,13.144966954835548,18.864888676001698,20.11984871843933,5.402780670884767,35.68415515757682,9.140669414092248,10.486465548435334,10.433651288610461,10.020998667961143,19.18904270315701,12.037679615192166,7.299949289452464,12.504055114397067,26.23374090707533,11.910898818322766,9.958450695852676,21.276576455099352,18.035949200600022,10.102101047583005,10.102101047583005,11.396379657792806,13.244495996304735,13.103310888651926,10.493861762307478,11.117643676590221,12.249845273222366,12.066876353719865,11.326435471812196,10.109497261455148,14.037751138037278,10.603124516060262,9.634296668697361,12.758264955571772,15.497480624632963,13.601220624795973,13.657020871287987,8.19078848952671,10.839816314118345,10.186837661307907,11.785026640184071,11.65798571283965,15.903645650140849,11.36445730389278,13.035704201082766,-2.3234397969731284,21.753073783548725,9.14313465816977,20.515243667266837,12.379999932899993,10.290000936880134,15.976703568454669,10.525784116207507,21.086211321724708,10.486465548435334,13.434861129679383,2.761409190640292,12.615134864791473,5.056438002113022,12.38739614677214,22.144834498273205,13.022208509030063,15.15892228669424,9.400978733447507,13.195055599288091,23.737316514252775,9.432901087347537,11.53393053134258,15.000479507219623,13.289914042257468,9.67971471465009,17.419563500189422,15.784000936668573,9.717736546730675,11.396379657792806,12.27437141325025,13.420068701935094,11.019411370812621,21.195346329811418,15.480611069772037,13.632494731260103,11.495908699261996,10.648542562012992,10.356310888757706,12.873627187505107,14.883820539594696,14.485960346689668,17.62095908153925,10.598842034521327,12.796286787652354,10.441047502482608,11.65058949896751,14.443528046584282,22.27122717818172,13.1240750489107,10.134023401483034,22.72904235345163,13.434861129679383],\"yaxis\":\"y\",\"type\":\"scatter\"},{\"line\":{\"shape\":\"linear\"},\"name\":\"y=x\",\"x\":[0,140],\"y\":[0,140],\"type\":\"scatter\"}],                        {\"template\":{\"data\":{\"histogram2dcontour\":[{\"type\":\"histogram2dcontour\",\"colorbar\":{\"outlinewidth\":0,\"ticks\":\"\"},\"colorscale\":[[0.0,\"#0d0887\"],[0.1111111111111111,\"#46039f\"],[0.2222222222222222,\"#7201a8\"],[0.3333333333333333,\"#9c179e\"],[0.4444444444444444,\"#bd3786\"],[0.5555555555555556,\"#d8576b\"],[0.6666666666666666,\"#ed7953\"],[0.7777777777777778,\"#fb9f3a\"],[0.8888888888888888,\"#fdca26\"],[1.0,\"#f0f921\"]]}],\"choropleth\":[{\"type\":\"choropleth\",\"colorbar\":{\"outlinewidth\":0,\"ticks\":\"\"}}],\"histogram2d\":[{\"type\":\"histogram2d\",\"colorbar\":{\"outlinewidth\":0,\"ticks\":\"\"},\"colorscale\":[[0.0,\"#0d0887\"],[0.1111111111111111,\"#46039f\"],[0.2222222222222222,\"#7201a8\"],[0.3333333333333333,\"#9c179e\"],[0.4444444444444444,\"#bd3786\"],[0.5555555555555556,\"#d8576b\"],[0.6666666666666666,\"#ed7953\"],[0.7777777777777778,\"#fb9f3a\"],[0.8888888888888888,\"#fdca26\"],[1.0,\"#f0f921\"]]}],\"heatmap\":[{\"type\":\"heatmap\",\"colorbar\":{\"outlinewidth\":0,\"ticks\":\"\"},\"colorscale\":[[0.0,\"#0d0887\"],[0.1111111111111111,\"#46039f\"],[0.2222222222222222,\"#7201a8\"],[0.3333333333333333,\"#9c179e\"],[0.4444444444444444,\"#bd3786\"],[0.5555555555555556,\"#d8576b\"],[0.6666666666666666,\"#ed7953\"],[0.7777777777777778,\"#fb9f3a\"],[0.8888888888888888,\"#fdca26\"],[1.0,\"#f0f921\"]]}],\"heatmapgl\":[{\"type\":\"heatmapgl\",\"colorbar\":{\"outlinewidth\":0,\"ticks\":\"\"},\"colorscale\":[[0.0,\"#0d0887\"],[0.1111111111111111,\"#46039f\"],[0.2222222222222222,\"#7201a8\"],[0.3333333333333333,\"#9c179e\"],[0.4444444444444444,\"#bd3786\"],[0.5555555555555556,\"#d8576b\"],[0.6666666666666666,\"#ed7953\"],[0.7777777777777778,\"#fb9f3a\"],[0.8888888888888888,\"#fdca26\"],[1.0,\"#f0f921\"]]}],\"contourcarpet\":[{\"type\":\"contourcarpet\",\"colorbar\":{\"outlinewidth\":0,\"ticks\":\"\"}}],\"contour\":[{\"type\":\"contour\",\"colorbar\":{\"outlinewidth\":0,\"ticks\":\"\"},\"colorscale\":[[0.0,\"#0d0887\"],[0.1111111111111111,\"#46039f\"],[0.2222222222222222,\"#7201a8\"],[0.3333333333333333,\"#9c179e\"],[0.4444444444444444,\"#bd3786\"],[0.5555555555555556,\"#d8576b\"],[0.6666666666666666,\"#ed7953\"],[0.7777777777777778,\"#fb9f3a\"],[0.8888888888888888,\"#fdca26\"],[1.0,\"#f0f921\"]]}],\"surface\":[{\"type\":\"surface\",\"colorbar\":{\"outlinewidth\":0,\"ticks\":\"\"},\"colorscale\":[[0.0,\"#0d0887\"],[0.1111111111111111,\"#46039f\"],[0.2222222222222222,\"#7201a8\"],[0.3333333333333333,\"#9c179e\"],[0.4444444444444444,\"#bd3786\"],[0.5555555555555556,\"#d8576b\"],[0.6666666666666666,\"#ed7953\"],[0.7777777777777778,\"#fb9f3a\"],[0.8888888888888888,\"#fdca26\"],[1.0,\"#f0f921\"]]}],\"mesh3d\":[{\"type\":\"mesh3d\",\"colorbar\":{\"outlinewidth\":0,\"ticks\":\"\"}}],\"scatter\":[{\"fillpattern\":{\"fillmode\":\"overlay\",\"size\":10,\"solidity\":0.2},\"type\":\"scatter\"}],\"parcoords\":[{\"type\":\"parcoords\",\"line\":{\"colorbar\":{\"outlinewidth\":0,\"ticks\":\"\"}}}],\"scatterpolargl\":[{\"type\":\"scatterpolargl\",\"marker\":{\"colorbar\":{\"outlinewidth\":0,\"ticks\":\"\"}}}],\"bar\":[{\"error_x\":{\"color\":\"#2a3f5f\"},\"error_y\":{\"color\":\"#2a3f5f\"},\"marker\":{\"line\":{\"color\":\"#E5ECF6\",\"width\":0.5},\"pattern\":{\"fillmode\":\"overlay\",\"size\":10,\"solidity\":0.2}},\"type\":\"bar\"}],\"scattergeo\":[{\"type\":\"scattergeo\",\"marker\":{\"colorbar\":{\"outlinewidth\":0,\"ticks\":\"\"}}}],\"scatterpolar\":[{\"type\":\"scatterpolar\",\"marker\":{\"colorbar\":{\"outlinewidth\":0,\"ticks\":\"\"}}}],\"histogram\":[{\"marker\":{\"pattern\":{\"fillmode\":\"overlay\",\"size\":10,\"solidity\":0.2}},\"type\":\"histogram\"}],\"scattergl\":[{\"type\":\"scattergl\",\"marker\":{\"colorbar\":{\"outlinewidth\":0,\"ticks\":\"\"}}}],\"scatter3d\":[{\"type\":\"scatter3d\",\"line\":{\"colorbar\":{\"outlinewidth\":0,\"ticks\":\"\"}},\"marker\":{\"colorbar\":{\"outlinewidth\":0,\"ticks\":\"\"}}}],\"scattermapbox\":[{\"type\":\"scattermapbox\",\"marker\":{\"colorbar\":{\"outlinewidth\":0,\"ticks\":\"\"}}}],\"scatterternary\":[{\"type\":\"scatterternary\",\"marker\":{\"colorbar\":{\"outlinewidth\":0,\"ticks\":\"\"}}}],\"scattercarpet\":[{\"type\":\"scattercarpet\",\"marker\":{\"colorbar\":{\"outlinewidth\":0,\"ticks\":\"\"}}}],\"carpet\":[{\"aaxis\":{\"endlinecolor\":\"#2a3f5f\",\"gridcolor\":\"white\",\"linecolor\":\"white\",\"minorgridcolor\":\"white\",\"startlinecolor\":\"#2a3f5f\"},\"baxis\":{\"endlinecolor\":\"#2a3f5f\",\"gridcolor\":\"white\",\"linecolor\":\"white\",\"minorgridcolor\":\"white\",\"startlinecolor\":\"#2a3f5f\"},\"type\":\"carpet\"}],\"table\":[{\"cells\":{\"fill\":{\"color\":\"#EBF0F8\"},\"line\":{\"color\":\"white\"}},\"header\":{\"fill\":{\"color\":\"#C8D4E3\"},\"line\":{\"color\":\"white\"}},\"type\":\"table\"}],\"barpolar\":[{\"marker\":{\"line\":{\"color\":\"#E5ECF6\",\"width\":0.5},\"pattern\":{\"fillmode\":\"overlay\",\"size\":10,\"solidity\":0.2}},\"type\":\"barpolar\"}],\"pie\":[{\"automargin\":true,\"type\":\"pie\"}]},\"layout\":{\"autotypenumbers\":\"strict\",\"colorway\":[\"#636efa\",\"#EF553B\",\"#00cc96\",\"#ab63fa\",\"#FFA15A\",\"#19d3f3\",\"#FF6692\",\"#B6E880\",\"#FF97FF\",\"#FECB52\"],\"font\":{\"color\":\"#2a3f5f\"},\"hovermode\":\"closest\",\"hoverlabel\":{\"align\":\"left\"},\"paper_bgcolor\":\"white\",\"plot_bgcolor\":\"#E5ECF6\",\"polar\":{\"bgcolor\":\"#E5ECF6\",\"angularaxis\":{\"gridcolor\":\"white\",\"linecolor\":\"white\",\"ticks\":\"\"},\"radialaxis\":{\"gridcolor\":\"white\",\"linecolor\":\"white\",\"ticks\":\"\"}},\"ternary\":{\"bgcolor\":\"#E5ECF6\",\"aaxis\":{\"gridcolor\":\"white\",\"linecolor\":\"white\",\"ticks\":\"\"},\"baxis\":{\"gridcolor\":\"white\",\"linecolor\":\"white\",\"ticks\":\"\"},\"caxis\":{\"gridcolor\":\"white\",\"linecolor\":\"white\",\"ticks\":\"\"}},\"coloraxis\":{\"colorbar\":{\"outlinewidth\":0,\"ticks\":\"\"}},\"colorscale\":{\"sequential\":[[0.0,\"#0d0887\"],[0.1111111111111111,\"#46039f\"],[0.2222222222222222,\"#7201a8\"],[0.3333333333333333,\"#9c179e\"],[0.4444444444444444,\"#bd3786\"],[0.5555555555555556,\"#d8576b\"],[0.6666666666666666,\"#ed7953\"],[0.7777777777777778,\"#fb9f3a\"],[0.8888888888888888,\"#fdca26\"],[1.0,\"#f0f921\"]],\"sequentialminus\":[[0.0,\"#0d0887\"],[0.1111111111111111,\"#46039f\"],[0.2222222222222222,\"#7201a8\"],[0.3333333333333333,\"#9c179e\"],[0.4444444444444444,\"#bd3786\"],[0.5555555555555556,\"#d8576b\"],[0.6666666666666666,\"#ed7953\"],[0.7777777777777778,\"#fb9f3a\"],[0.8888888888888888,\"#fdca26\"],[1.0,\"#f0f921\"]],\"diverging\":[[0,\"#8e0152\"],[0.1,\"#c51b7d\"],[0.2,\"#de77ae\"],[0.3,\"#f1b6da\"],[0.4,\"#fde0ef\"],[0.5,\"#f7f7f7\"],[0.6,\"#e6f5d0\"],[0.7,\"#b8e186\"],[0.8,\"#7fbc41\"],[0.9,\"#4d9221\"],[1,\"#276419\"]]},\"xaxis\":{\"gridcolor\":\"white\",\"linecolor\":\"white\",\"ticks\":\"\",\"title\":{\"standoff\":15},\"zerolinecolor\":\"white\",\"automargin\":true,\"zerolinewidth\":2},\"yaxis\":{\"gridcolor\":\"white\",\"linecolor\":\"white\",\"ticks\":\"\",\"title\":{\"standoff\":15},\"zerolinecolor\":\"white\",\"automargin\":true,\"zerolinewidth\":2},\"scene\":{\"xaxis\":{\"backgroundcolor\":\"#E5ECF6\",\"gridcolor\":\"white\",\"linecolor\":\"white\",\"showbackground\":true,\"ticks\":\"\",\"zerolinecolor\":\"white\",\"gridwidth\":2},\"yaxis\":{\"backgroundcolor\":\"#E5ECF6\",\"gridcolor\":\"white\",\"linecolor\":\"white\",\"showbackground\":true,\"ticks\":\"\",\"zerolinecolor\":\"white\",\"gridwidth\":2},\"zaxis\":{\"backgroundcolor\":\"#E5ECF6\",\"gridcolor\":\"white\",\"linecolor\":\"white\",\"showbackground\":true,\"ticks\":\"\",\"zerolinecolor\":\"white\",\"gridwidth\":2}},\"shapedefaults\":{\"line\":{\"color\":\"#2a3f5f\"}},\"annotationdefaults\":{\"arrowcolor\":\"#2a3f5f\",\"arrowhead\":0,\"arrowwidth\":1},\"geo\":{\"bgcolor\":\"white\",\"landcolor\":\"#E5ECF6\",\"subunitcolor\":\"white\",\"showland\":true,\"showlakes\":true,\"lakecolor\":\"white\"},\"title\":{\"x\":0.05},\"mapbox\":{\"style\":\"light\"}}},\"xaxis\":{\"anchor\":\"y\",\"domain\":[0.0,1.0],\"title\":{\"text\":\"y\"}},\"yaxis\":{\"anchor\":\"x\",\"domain\":[0.0,1.0],\"title\":{\"text\":\"y-hat\"}},\"legend\":{\"tracegroupgap\":0},\"margin\":{\"t\":60}},                        {\"responsive\": true}                    ).then(function(){\n",
       "                            \n",
       "var gd = document.getElementById('8c7555e6-dae3-4a6c-8ce3-cc8bed67fcdb');\n",
       "var x = new MutationObserver(function (mutations, observer) {{\n",
       "        var display = window.getComputedStyle(gd).display;\n",
       "        if (!display || display === 'none') {{\n",
       "            console.log([gd, 'removed!']);\n",
       "            Plotly.purge(gd);\n",
       "            observer.disconnect();\n",
       "        }}\n",
       "}});\n",
       "\n",
       "// Listen for the removal of the full notebook cells\n",
       "var notebookContainer = gd.closest('#notebook-container');\n",
       "if (notebookContainer) {{\n",
       "    x.observe(notebookContainer, {childList: true});\n",
       "}}\n",
       "\n",
       "// Listen for the clearing of the current output cell\n",
       "var outputEl = gd.closest('.output');\n",
       "if (outputEl) {{\n",
       "    x.observe(outputEl, {childList: true});\n",
       "}}\n",
       "\n",
       "                        })                };                });            </script>        </div>"
      ]
     },
     "metadata": {},
     "output_type": "display_data"
    }
   ],
   "source": [
    "# fit_model10\n",
    "y_10 = fit_model10.model.endog\n",
    "print(\"r =\",np.corrcoef(y_10, fit_model10.predict())[0,1])\n",
    "fig = px.scatter(x=y_10, y=fit_model10.predict(),\n",
    "                 labels={\"x\": \"y\", \"y\": \"y-hat\"},)\n",
    "fig.add_trace(go.Scatter(x=[0,140], y=[0,140], name=\"y=x\", line_shape='linear'))\n",
    "fig.show()"
   ]
  },
  {
   "cell_type": "code",
   "execution_count": 109,
   "id": "8402a561",
   "metadata": {},
   "outputs": [
    {
     "data": {
      "text/plain": [
       "(0.9216, 0.22372899999999998, 0.188356)"
      ]
     },
     "execution_count": 109,
     "metadata": {},
     "output_type": "execute_result"
    }
   ],
   "source": [
    "# y versus y-hat correlation for different model fits\n",
    "\n",
    "# model 7 # model 9 # model 10\n",
    "0.960**2, 0.473**2, 0.434**2"
   ]
  },
  {
   "cell_type": "markdown",
   "id": "56c173be",
   "metadata": {},
   "source": [
    "$R^2$ is called the coefficient of determination for a linear model\n",
    "- $R^2$ is the \"proportion of variation explained by the model\""
   ]
  },
  {
   "cell_type": "code",
   "execution_count": 128,
   "id": "2b3786d5",
   "metadata": {},
   "outputs": [
    {
     "data": {
      "text/html": [
       "<table class=\"simpletable\">\n",
       "<caption>OLS Regression Results</caption>\n",
       "<tr>\n",
       "  <th>Dep. Variable:</th>    <td>Q(\"Amazon Price\")</td> <th>  R-squared (uncentered):</th>      <td>   0.967</td> \n",
       "</tr>\n",
       "<tr>\n",
       "  <th>Model:</th>                   <td>OLS</td>        <th>  Adj. R-squared (uncentered):</th> <td>   0.966</td> \n",
       "</tr>\n",
       "<tr>\n",
       "  <th>Method:</th>             <td>Least Squares</td>   <th>  F-statistic:       </th>          <td>   1306.</td> \n",
       "</tr>\n",
       "<tr>\n",
       "  <th>Date:</th>             <td>Mon, 08 May 2023</td>  <th>  Prob (F-statistic):</th>          <td>5.21e-229</td>\n",
       "</tr>\n",
       "<tr>\n",
       "  <th>Time:</th>                 <td>15:53:54</td>      <th>  Log-Likelihood:    </th>          <td> -840.89</td> \n",
       "</tr>\n",
       "<tr>\n",
       "  <th>No. Observations:</th>      <td>   323</td>       <th>  AIC:               </th>          <td>   1696.</td> \n",
       "</tr>\n",
       "<tr>\n",
       "  <th>Df Residuals:</th>          <td>   316</td>       <th>  BIC:               </th>          <td>   1722.</td> \n",
       "</tr>\n",
       "<tr>\n",
       "  <th>Df Model:</th>              <td>     7</td>       <th>                     </th>              <td> </td>    \n",
       "</tr>\n",
       "<tr>\n",
       "  <th>Covariance Type:</th>      <td>nonrobust</td>     <th>                     </th>              <td> </td>    \n",
       "</tr>\n",
       "</table>\n",
       "<table class=\"simpletable\">\n",
       "<tr>\n",
       "                 <td></td>                    <th>coef</th>     <th>std err</th>      <th>t</th>      <th>P>|t|</th>  <th>[0.025</th>    <th>0.975]</th>  \n",
       "</tr>\n",
       "<tr>\n",
       "  <th>Q(\"List Price\")</th>                 <td>    0.7693</td> <td>    0.056</td> <td>   13.774</td> <td> 0.000</td> <td>    0.659</td> <td>    0.879</td>\n",
       "</tr>\n",
       "<tr>\n",
       "  <th>Thick</th>                           <td>   -4.6291</td> <td>    0.686</td> <td>   -6.747</td> <td> 0.000</td> <td>   -5.979</td> <td>   -3.279</td>\n",
       "</tr>\n",
       "<tr>\n",
       "  <th>Q(\"List Price\"):Thick</th>           <td>    0.0996</td> <td>    0.042</td> <td>    2.369</td> <td> 0.018</td> <td>    0.017</td> <td>    0.182</td>\n",
       "</tr>\n",
       "<tr>\n",
       "  <th>Paperback</th>                       <td>   -4.2854</td> <td>    1.059</td> <td>   -4.048</td> <td> 0.000</td> <td>   -6.368</td> <td>   -2.202</td>\n",
       "</tr>\n",
       "<tr>\n",
       "  <th>Q(\"List Price\"):Paperback</th>       <td>    0.3562</td> <td>    0.079</td> <td>    4.535</td> <td> 0.000</td> <td>    0.202</td> <td>    0.511</td>\n",
       "</tr>\n",
       "<tr>\n",
       "  <th>Thick:Paperback</th>                 <td>    7.8834</td> <td>    1.555</td> <td>    5.070</td> <td> 0.000</td> <td>    4.824</td> <td>   10.943</td>\n",
       "</tr>\n",
       "<tr>\n",
       "  <th>Q(\"List Price\"):Thick:Paperback</th> <td>   -0.4716</td> <td>    0.087</td> <td>   -5.426</td> <td> 0.000</td> <td>   -0.643</td> <td>   -0.301</td>\n",
       "</tr>\n",
       "</table>\n",
       "<table class=\"simpletable\">\n",
       "<tr>\n",
       "  <th>Omnibus:</th>       <td>100.989</td> <th>  Durbin-Watson:     </th> <td>   2.049</td> \n",
       "</tr>\n",
       "<tr>\n",
       "  <th>Prob(Omnibus):</th> <td> 0.000</td>  <th>  Jarque-Bera (JB):  </th> <td>1023.142</td> \n",
       "</tr>\n",
       "<tr>\n",
       "  <th>Skew:</th>          <td> 0.966</td>  <th>  Prob(JB):          </th> <td>6.72e-223</td>\n",
       "</tr>\n",
       "<tr>\n",
       "  <th>Kurtosis:</th>      <td>11.502</td>  <th>  Cond. No.          </th> <td>    381.</td> \n",
       "</tr>\n",
       "</table><br/><br/>Notes:<br/>[1] R² is computed without centering (uncentered) since the model does not contain a constant.<br/>[2] Standard Errors assume that the covariance matrix of the errors is correctly specified."
      ],
      "text/plain": [
       "<class 'statsmodels.iolib.summary.Summary'>\n",
       "\"\"\"\n",
       "                                 OLS Regression Results                                \n",
       "=======================================================================================\n",
       "Dep. Variable:      Q(\"Amazon Price\")   R-squared (uncentered):                   0.967\n",
       "Model:                            OLS   Adj. R-squared (uncentered):              0.966\n",
       "Method:                 Least Squares   F-statistic:                              1306.\n",
       "Date:                Mon, 08 May 2023   Prob (F-statistic):                   5.21e-229\n",
       "Time:                        15:53:54   Log-Likelihood:                         -840.89\n",
       "No. Observations:                 323   AIC:                                      1696.\n",
       "Df Residuals:                     316   BIC:                                      1722.\n",
       "Df Model:                           7                                                  \n",
       "Covariance Type:            nonrobust                                                  \n",
       "===================================================================================================\n",
       "                                      coef    std err          t      P>|t|      [0.025      0.975]\n",
       "---------------------------------------------------------------------------------------------------\n",
       "Q(\"List Price\")                     0.7693      0.056     13.774      0.000       0.659       0.879\n",
       "Thick                              -4.6291      0.686     -6.747      0.000      -5.979      -3.279\n",
       "Q(\"List Price\"):Thick               0.0996      0.042      2.369      0.018       0.017       0.182\n",
       "Paperback                          -4.2854      1.059     -4.048      0.000      -6.368      -2.202\n",
       "Q(\"List Price\"):Paperback           0.3562      0.079      4.535      0.000       0.202       0.511\n",
       "Thick:Paperback                     7.8834      1.555      5.070      0.000       4.824      10.943\n",
       "Q(\"List Price\"):Thick:Paperback    -0.4716      0.087     -5.426      0.000      -0.643      -0.301\n",
       "==============================================================================\n",
       "Omnibus:                      100.989   Durbin-Watson:                   2.049\n",
       "Prob(Omnibus):                  0.000   Jarque-Bera (JB):             1023.142\n",
       "Skew:                           0.966   Prob(JB):                    6.72e-223\n",
       "Kurtosis:                      11.502   Cond. No.                         381.\n",
       "==============================================================================\n",
       "\n",
       "Notes:\n",
       "[1] R² is computed without centering (uncentered) since the model does not contain a constant.\n",
       "[2] Standard Errors assume that the covariance matrix of the errors is correctly specified.\n",
       "\"\"\""
      ]
     },
     "execution_count": 128,
     "metadata": {},
     "output_type": "execute_result"
    }
   ],
   "source": [
    "fit_model11 = smf.ols(formula='Q(\"Amazon Price\") ~ -1 + Q(\"List Price\") * Thick * Paperback', \n",
    "                    data=amazonbooks).fit()\n",
    "# fit_model7.summary() # model has 3 covariates only\n",
    "fit_model11.summary() # model 11 has 7 covariates"
   ]
  },
  {
   "cell_type": "markdown",
   "id": "af18449b",
   "metadata": {},
   "source": [
    "# Interactions! Automatically create new data columns to help predict!\n",
    "\n",
    "$$\\large \\hat y = \\beta_L ListPrice * \\beta_T Thick * \\beta_P Paperback$$\n"
   ]
  },
  {
   "cell_type": "markdown",
   "id": "d3724f96",
   "metadata": {},
   "source": [
    "- For model 7: $R^2$ reported in the summary function was 0.963\n",
    "- For model 11: $R^2$ reported in the summary function was 0.967"
   ]
  },
  {
   "cell_type": "code",
   "execution_count": 130,
   "id": "c790f8f7",
   "metadata": {},
   "outputs": [
    {
     "data": {
      "text/html": [
       "<div>\n",
       "<style scoped>\n",
       "    .dataframe tbody tr th:only-of-type {\n",
       "        vertical-align: middle;\n",
       "    }\n",
       "\n",
       "    .dataframe tbody tr th {\n",
       "        vertical-align: top;\n",
       "    }\n",
       "\n",
       "    .dataframe thead th {\n",
       "        text-align: right;\n",
       "    }\n",
       "</style>\n",
       "<table border=\"1\" class=\"dataframe\">\n",
       "  <thead>\n",
       "    <tr style=\"text-align: right;\">\n",
       "      <th></th>\n",
       "      <th>Title</th>\n",
       "      <th>Author</th>\n",
       "      <th>List Price</th>\n",
       "      <th>Amazon Price</th>\n",
       "      <th>Hard_or_Paper</th>\n",
       "      <th>NumPages</th>\n",
       "      <th>Publisher</th>\n",
       "      <th>Pub year</th>\n",
       "      <th>ISBN-10</th>\n",
       "      <th>Height</th>\n",
       "      <th>Width</th>\n",
       "      <th>Thick</th>\n",
       "      <th>Weight_oz</th>\n",
       "      <th>Paperback</th>\n",
       "      <th>Hardback</th>\n",
       "    </tr>\n",
       "  </thead>\n",
       "  <tbody>\n",
       "    <tr>\n",
       "      <th>0</th>\n",
       "      <td>1,001 Facts that Will Scare the S#*t Out of Yo...</td>\n",
       "      <td>Cary McNeal</td>\n",
       "      <td>12.95</td>\n",
       "      <td>5.18</td>\n",
       "      <td>P</td>\n",
       "      <td>304.0</td>\n",
       "      <td>Adams Media</td>\n",
       "      <td>2010.0</td>\n",
       "      <td>1605506249</td>\n",
       "      <td>7.8</td>\n",
       "      <td>5.5</td>\n",
       "      <td>0.8</td>\n",
       "      <td>11.2</td>\n",
       "      <td>1</td>\n",
       "      <td>0</td>\n",
       "    </tr>\n",
       "    <tr>\n",
       "      <th>1</th>\n",
       "      <td>21: Bringing Down the House - Movie Tie-In: Th...</td>\n",
       "      <td>Ben Mezrich</td>\n",
       "      <td>15.00</td>\n",
       "      <td>10.20</td>\n",
       "      <td>P</td>\n",
       "      <td>273.0</td>\n",
       "      <td>Free Press</td>\n",
       "      <td>2008.0</td>\n",
       "      <td>1416564195</td>\n",
       "      <td>8.4</td>\n",
       "      <td>5.5</td>\n",
       "      <td>0.7</td>\n",
       "      <td>7.2</td>\n",
       "      <td>1</td>\n",
       "      <td>0</td>\n",
       "    </tr>\n",
       "    <tr>\n",
       "      <th>2</th>\n",
       "      <td>100 Best-Loved Poems (Dover Thrift Editions)</td>\n",
       "      <td>Smith</td>\n",
       "      <td>1.50</td>\n",
       "      <td>1.50</td>\n",
       "      <td>P</td>\n",
       "      <td>96.0</td>\n",
       "      <td>Dover Publications</td>\n",
       "      <td>1995.0</td>\n",
       "      <td>486285537</td>\n",
       "      <td>8.3</td>\n",
       "      <td>5.2</td>\n",
       "      <td>0.3</td>\n",
       "      <td>4.0</td>\n",
       "      <td>1</td>\n",
       "      <td>0</td>\n",
       "    </tr>\n",
       "    <tr>\n",
       "      <th>3</th>\n",
       "      <td>1421: The Year China Discovered America</td>\n",
       "      <td>Gavin Menzies</td>\n",
       "      <td>15.99</td>\n",
       "      <td>10.87</td>\n",
       "      <td>P</td>\n",
       "      <td>672.0</td>\n",
       "      <td>Harper Perennial</td>\n",
       "      <td>2008.0</td>\n",
       "      <td>61564893</td>\n",
       "      <td>8.8</td>\n",
       "      <td>6.0</td>\n",
       "      <td>1.6</td>\n",
       "      <td>28.8</td>\n",
       "      <td>1</td>\n",
       "      <td>0</td>\n",
       "    </tr>\n",
       "    <tr>\n",
       "      <th>4</th>\n",
       "      <td>1493: Uncovering the New World Columbus Created</td>\n",
       "      <td>Charles C. Mann</td>\n",
       "      <td>30.50</td>\n",
       "      <td>16.77</td>\n",
       "      <td>P</td>\n",
       "      <td>720.0</td>\n",
       "      <td>Knopf</td>\n",
       "      <td>2011.0</td>\n",
       "      <td>307265722</td>\n",
       "      <td>8.0</td>\n",
       "      <td>5.2</td>\n",
       "      <td>1.4</td>\n",
       "      <td>22.4</td>\n",
       "      <td>1</td>\n",
       "      <td>0</td>\n",
       "    </tr>\n",
       "    <tr>\n",
       "      <th>...</th>\n",
       "      <td>...</td>\n",
       "      <td>...</td>\n",
       "      <td>...</td>\n",
       "      <td>...</td>\n",
       "      <td>...</td>\n",
       "      <td>...</td>\n",
       "      <td>...</td>\n",
       "      <td>...</td>\n",
       "      <td>...</td>\n",
       "      <td>...</td>\n",
       "      <td>...</td>\n",
       "      <td>...</td>\n",
       "      <td>...</td>\n",
       "      <td>...</td>\n",
       "      <td>...</td>\n",
       "    </tr>\n",
       "    <tr>\n",
       "      <th>320</th>\n",
       "      <td>Where the Sidewalk Ends</td>\n",
       "      <td>Shel Silverstein</td>\n",
       "      <td>18.99</td>\n",
       "      <td>12.24</td>\n",
       "      <td>H</td>\n",
       "      <td>192.0</td>\n",
       "      <td>HarperCollins</td>\n",
       "      <td>2004.0</td>\n",
       "      <td>60572345</td>\n",
       "      <td>9.3</td>\n",
       "      <td>6.6</td>\n",
       "      <td>1.1</td>\n",
       "      <td>24.0</td>\n",
       "      <td>0</td>\n",
       "      <td>1</td>\n",
       "    </tr>\n",
       "    <tr>\n",
       "      <th>321</th>\n",
       "      <td>White Privilege</td>\n",
       "      <td>Paula S. Rothenberg</td>\n",
       "      <td>27.55</td>\n",
       "      <td>27.55</td>\n",
       "      <td>P</td>\n",
       "      <td>160.0</td>\n",
       "      <td>Worth Publishers</td>\n",
       "      <td>2011.0</td>\n",
       "      <td>1429233443</td>\n",
       "      <td>9.1</td>\n",
       "      <td>6.1</td>\n",
       "      <td>0.7</td>\n",
       "      <td>8.0</td>\n",
       "      <td>1</td>\n",
       "      <td>0</td>\n",
       "    </tr>\n",
       "    <tr>\n",
       "      <th>322</th>\n",
       "      <td>Why I wore lipstick</td>\n",
       "      <td>Geralyn Lucas</td>\n",
       "      <td>12.95</td>\n",
       "      <td>5.18</td>\n",
       "      <td>P</td>\n",
       "      <td>224.0</td>\n",
       "      <td>St Martin's Griffin</td>\n",
       "      <td>2005.0</td>\n",
       "      <td>031233446X</td>\n",
       "      <td>8.0</td>\n",
       "      <td>5.4</td>\n",
       "      <td>0.7</td>\n",
       "      <td>6.4</td>\n",
       "      <td>1</td>\n",
       "      <td>0</td>\n",
       "    </tr>\n",
       "    <tr>\n",
       "      <th>323</th>\n",
       "      <td>Worlds Together, Worlds Apart: A History of th...</td>\n",
       "      <td>Robert Tignor</td>\n",
       "      <td>97.50</td>\n",
       "      <td>97.50</td>\n",
       "      <td>P</td>\n",
       "      <td>480.0</td>\n",
       "      <td>W. W. Norton &amp; Company</td>\n",
       "      <td>2010.0</td>\n",
       "      <td>393934942</td>\n",
       "      <td>10.7</td>\n",
       "      <td>8.9</td>\n",
       "      <td>0.9</td>\n",
       "      <td>14.4</td>\n",
       "      <td>1</td>\n",
       "      <td>0</td>\n",
       "    </tr>\n",
       "    <tr>\n",
       "      <th>324</th>\n",
       "      <td>Wuthering Heights</td>\n",
       "      <td>Emily Bronte</td>\n",
       "      <td>16.99</td>\n",
       "      <td>4.95</td>\n",
       "      <td>P</td>\n",
       "      <td>344.0</td>\n",
       "      <td>CreatSpace</td>\n",
       "      <td>2011.0</td>\n",
       "      <td>1463533411</td>\n",
       "      <td>7.8</td>\n",
       "      <td>5.1</td>\n",
       "      <td>1.0</td>\n",
       "      <td>16.0</td>\n",
       "      <td>1</td>\n",
       "      <td>0</td>\n",
       "    </tr>\n",
       "  </tbody>\n",
       "</table>\n",
       "<p>325 rows × 15 columns</p>\n",
       "</div>"
      ],
      "text/plain": [
       "                                                 Title               Author  \\\n",
       "0    1,001 Facts that Will Scare the S#*t Out of Yo...          Cary McNeal   \n",
       "1    21: Bringing Down the House - Movie Tie-In: Th...          Ben Mezrich   \n",
       "2         100 Best-Loved Poems (Dover Thrift Editions)                Smith   \n",
       "3              1421: The Year China Discovered America        Gavin Menzies   \n",
       "4      1493: Uncovering the New World Columbus Created      Charles C. Mann   \n",
       "..                                                 ...                  ...   \n",
       "320                            Where the Sidewalk Ends     Shel Silverstein   \n",
       "321                                    White Privilege  Paula S. Rothenberg   \n",
       "322                                Why I wore lipstick        Geralyn Lucas   \n",
       "323  Worlds Together, Worlds Apart: A History of th...        Robert Tignor   \n",
       "324                                  Wuthering Heights         Emily Bronte   \n",
       "\n",
       "     List Price  Amazon Price Hard_or_Paper  NumPages               Publisher  \\\n",
       "0         12.95          5.18             P     304.0             Adams Media   \n",
       "1         15.00         10.20             P     273.0              Free Press   \n",
       "2          1.50          1.50             P      96.0      Dover Publications   \n",
       "3         15.99         10.87             P     672.0        Harper Perennial   \n",
       "4         30.50         16.77             P     720.0                   Knopf   \n",
       "..          ...           ...           ...       ...                     ...   \n",
       "320       18.99         12.24             H     192.0           HarperCollins   \n",
       "321       27.55         27.55             P     160.0        Worth Publishers   \n",
       "322       12.95          5.18             P     224.0     St Martin's Griffin   \n",
       "323       97.50         97.50             P     480.0  W. W. Norton & Company   \n",
       "324       16.99          4.95             P     344.0              CreatSpace   \n",
       "\n",
       "     Pub year     ISBN-10  Height  Width  Thick  Weight_oz  Paperback  \\\n",
       "0      2010.0  1605506249     7.8    5.5    0.8       11.2          1   \n",
       "1      2008.0  1416564195     8.4    5.5    0.7        7.2          1   \n",
       "2      1995.0   486285537     8.3    5.2    0.3        4.0          1   \n",
       "3      2008.0    61564893     8.8    6.0    1.6       28.8          1   \n",
       "4      2011.0   307265722     8.0    5.2    1.4       22.4          1   \n",
       "..        ...         ...     ...    ...    ...        ...        ...   \n",
       "320    2004.0    60572345     9.3    6.6    1.1       24.0          0   \n",
       "321    2011.0  1429233443     9.1    6.1    0.7        8.0          1   \n",
       "322    2005.0  031233446X     8.0    5.4    0.7        6.4          1   \n",
       "323    2010.0   393934942    10.7    8.9    0.9       14.4          1   \n",
       "324    2011.0  1463533411     7.8    5.1    1.0       16.0          1   \n",
       "\n",
       "     Hardback  \n",
       "0           0  \n",
       "1           0  \n",
       "2           0  \n",
       "3           0  \n",
       "4           0  \n",
       "..        ...  \n",
       "320         1  \n",
       "321         0  \n",
       "322         0  \n",
       "323         0  \n",
       "324         0  \n",
       "\n",
       "[325 rows x 15 columns]"
      ]
     },
     "execution_count": 130,
     "metadata": {},
     "output_type": "execute_result"
    }
   ],
   "source": [
    "amazonbooks"
   ]
  },
  {
   "cell_type": "code",
   "execution_count": null,
   "id": "e67e3ed0",
   "metadata": {},
   "outputs": [],
   "source": [
    "\n",
    "\n",
    "\n",
    "\n",
    "\n",
    "\n",
    "\n",
    "\n",
    "\n",
    "\n",
    "\n",
    "\n",
    "\n",
    "\n",
    "\n",
    "\n",
    "\n",
    "\n",
    "\n",
    "\n",
    "\n",
    "\n",
    "\n",
    "\n",
    "\n",
    "\n",
    "\n",
    "\n",
    "\n",
    "\n",
    "\n",
    "\n",
    "\n",
    "\n",
    "\n",
    "\n"
   ]
  }
 ],
 "metadata": {
  "kernelspec": {
   "display_name": "Python 3 (ipykernel)",
   "language": "python",
   "name": "python3"
  },
  "language_info": {
   "codemirror_mode": {
    "name": "ipython",
    "version": 3
   },
   "file_extension": ".py",
   "mimetype": "text/x-python",
   "name": "python",
   "nbconvert_exporter": "python",
   "pygments_lexer": "ipython3",
   "version": "3.10.8"
  }
 },
 "nbformat": 4,
 "nbformat_minor": 5
}
