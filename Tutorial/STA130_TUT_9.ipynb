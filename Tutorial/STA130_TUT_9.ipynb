{
 "cells": [
  {
   "cell_type": "markdown",
   "id": "e3ef9e6c",
   "metadata": {
    "slideshow": {
     "slide_type": "slide"
    }
   },
   "source": [
    "# STA130 Tutorial 9: Classification (and Ethics)\n"
   ]
  },
  {
   "cell_type": "markdown",
   "id": "1570a7d5",
   "metadata": {
    "slideshow": {
     "slide_type": "subslide"
    }
   },
   "source": [
    "This week we'll be doing something a little different, and we'll be focusing on ethical topics in anticipation of our upcoming embedded ethics guest lecture.\n",
    "Remember! It's always a good time for questions and discussions. If you don't understand something ask."
   ]
  },
  {
   "cell_type": "markdown",
   "id": "c3f215dd",
   "metadata": {
    "slideshow": {
     "slide_type": "subslide"
    }
   },
   "source": [
    "# This Week's Vocab (10 minutes):\n",
    "If you are not familiar with any of these words, now is the time to ask!\n",
    "\n",
    "- Classification / Classifier\n",
    "- Prediction / Predictor(s)\n",
    "- Covariate(s)\n",
    "- Input(s) / Output(s)\n",
    "- Training set/sample\n",
    "- Validation\n",
    "- Testing set/sample (or test set)\n",
    "- Fitting a model\n",
    "- Confusion matrix\n",
    "- Tree / Node\n",
    "- Terminal node (or leaf node)\n",
    "- Accuracy\n",
    "- True positive (sensitivity)\n",
    "- True negative (specificity)\n",
    "- False positive / False negative "
   ]
  },
  {
   "cell_type": "markdown",
   "id": "4de0e4ff",
   "metadata": {
    "slideshow": {
     "slide_type": "slide"
    }
   },
   "source": [
    "# Ethics Primer (20 minutes)\n",
    "\n",
    "- When we do statistics in the real world, our actions have consequences.\n",
    "- Often classification models (and indeed other statistical methods we have learned such as linear regression and hypothesis test) are used to guide decisions.\n",
    "- Our actions can affect our employers or the public.\n",
    "- So when we make decisions, we must consider all the stakeholders who may be affected."
   ]
  },
  {
   "cell_type": "markdown",
   "id": "bfad42da",
   "metadata": {
    "slideshow": {
     "slide_type": "subslide"
    }
   },
   "source": [
    "### Discussion\n",
    "Brainstorm some examples from the course (or that you can think of) of how statistical methods might be used to make decisions (or otherwise have impact on people)"
   ]
  },
  {
   "cell_type": "markdown",
   "id": "0ad83f9f",
   "metadata": {
    "slideshow": {
     "slide_type": "fragment"
    }
   },
   "source": [
    "Since statistical analyses can have significant impacts on people, it is important to talk about the ethics of those analyses.\n",
    "\n",
    "One simple framework for what we should ethically do:\n",
    "1. Consider the impacts of your action: does it help or harm people? [If they harm people overall, you shouldn’t do them]\n",
    "2. Does your action violate anyone’s rights? [If it does, you shouldn’t do it]"
   ]
  },
  {
   "cell_type": "markdown",
   "id": "a99c440e",
   "metadata": {
    "slideshow": {
     "slide_type": "subslide"
    }
   },
   "source": [
    "### What's the difference between impacts and rights?\n",
    "Imagine you are a doctor at a small-town clinic. You have five patients who need organ transplants. A hitchhiker walks into the clinic for a routine clinic. You determine that no one would notice if the hitchhiker went missing – they don’t have a family or friends.\n",
    "\n",
    "Should you kill them, take his organs, and save the five patients?\n",
    "[Answer: No!!!]"
   ]
  },
  {
   "cell_type": "markdown",
   "id": "818407d6",
   "metadata": {
    "slideshow": {
     "slide_type": "fragment"
    }
   },
   "source": [
    "The problem in Hitchhiker is that it seems like the hitchhiker has a right to life, even if killing him would result in net benefit to other people.\n",
    "- What are some other rights that people have?"
   ]
  },
  {
   "cell_type": "markdown",
   "id": "7c822020",
   "metadata": {
    "slideshow": {
     "slide_type": "fragment"
    }
   },
   "source": [
    "Some example answers:\n",
    "- Right to privacy\n",
    "- Right to vote\n",
    "- Right to freedom of X (speech, religion, movement etc.)"
   ]
  },
  {
   "cell_type": "markdown",
   "id": "11b0d330",
   "metadata": {
    "slideshow": {
     "slide_type": "fragment"
    }
   },
   "source": [
    "From here, we’re going to zoom in on two case studies, mixing together statistics review with ethical analysis!"
   ]
  },
  {
   "cell_type": "markdown",
   "id": "a431dced",
   "metadata": {
    "slideshow": {
     "slide_type": "slide"
    }
   },
   "source": [
    "# Case Study 1: Medical Testing and False Positives and Negatives (30 minutes)\n",
    "Let's begin by practicing with confusion matrices.\n",
    "\n",
    "Suppose that we have a classification model designed to judge whether patients have a certain disease. On a testing dataset, it has the following confusion matrix.\n",
    "\n",
    "\n",
    "|            | Predict disease | Predict no disease |\n",
    "|------------|-----------------|--------------------|\n",
    "| Disease    | 17              | 2                  |\n",
    "| No Disease | 61              | 168                |\n",
    "\n",
    "- What do the numbers in the different cells represent? Interpret the confusion matrix.\n",
    "- What are the metrics (accuracy, sensitivity,  specificity)? Compute them all from this confusion matrix."
   ]
  },
  {
   "cell_type": "markdown",
   "id": "3e7fb15c",
   "metadata": {
    "slideshow": {
     "slide_type": "subslide"
    }
   },
   "source": [
    "### Discussion\n",
    "Consider the following stakeholders: (a) people with the illness, (b) people without the illness, and (c) the medical system overall.\n",
    "   1. What are the impacts of a false negative in this case? Consider all three groups of stakeholders.\n",
    "   2. What are the impacts of a false positive in this case? Consider all three groups of stakeholders.\n",
    "   3. What do your answers for (1) and (2) imply for what we should do about false positives and false negatives? In your answer, you should take into account, if applicable: (a) the relative number of people in each stakeholder group, (b) the extent to which they are affected, and (c) whether any of their rights are infringed."
   ]
  },
  {
   "cell_type": "markdown",
   "id": "9256f362",
   "metadata": {
    "slideshow": {
     "slide_type": "subslide"
    }
   },
   "source": [
    "### More discussion\n",
    "Now consider this case about medical testing where the disease being tested for is a serious life-threatening condition like cancer.\n",
    "   1. What are the impacts of a false negative in this case? Consider all three groups of stakeholders.\n",
    "   2. What are the impacts of a false positive in this case? Consider all three groups of stakeholders.\n",
    "   3. What do your answers for (1) and (2) imply for what we should do about false positives and false negatives? In your answer, you should take into account, if applicable: (a) the relative number of people in each stakeholder group, (b) the extent to which they are affected, and (c) whether any of their rights are infringed."
   ]
  },
  {
   "cell_type": "markdown",
   "id": "b3787570",
   "metadata": {
    "slideshow": {
     "slide_type": "slide"
    }
   },
   "source": [
    "# Case study 2: Mortgage applications (30 minutes)\n"
   ]
  },
  {
   "cell_type": "markdown",
   "id": "a621452c",
   "metadata": {
    "slideshow": {
     "slide_type": "subslide"
    }
   },
   "source": [
    "Imagine we are a mortgage company, and we had a dataset stored in a dataframe ```mortgage_applications``` with the following fields:\n",
    "- ```\"Accept or Deny\", \"Annual Income\" (in thousands), \"Requested Loan Amount\" (in thousands), \"Applicant Age\",\"Credit Score\" ,\"Application ID\", \"Dummy Variable\"```\n",
    "\n",
    "We want to make a classification model to decide based on the available information whether we should accept or deny a new application, which contains all the fields from the dataset except for \"Accept or Deny\".```\n",
    "Figure out as many problems with the following code snippet as you can. (They may or may not be coding errors)\n"
   ]
  },
  {
   "cell_type": "markdown",
   "id": "c343f437",
   "metadata": {
    "slideshow": {
     "slide_type": "fragment"
    }
   },
   "source": [
    "```\n",
    "clf = tree.DecisionTreeClassifier()\n",
    "mortgage_applications_nonans = mortgage_applications[[\"Annual Income\", \"Requested Loan Amount\", \"Applicant Age\",\"Credit Score\", \"Application ID\"]] # We don't care about \"Dummy Variable\"\n",
    "X = mortgage_applications_nonans.iloc[:,1:].dropna()\n",
    "Y = mortgage_applications[\"Accept or Deny\"].dropna()\n",
    "\n",
    "clf = clf.fit(Y ~ X) # We fit our model with the availible data\n",
    "\n",
    "clf.predict(60,500, 30, 680) # We want to know whether to accept the application of someone who makes 60k, wants 500k, is 30, and has a credit score of 680\n",
    "```"
   ]
  },
  {
   "cell_type": "markdown",
   "id": "5304735d",
   "metadata": {
    "slideshow": {
     "slide_type": "subslide"
    }
   },
   "source": [
    "Here are some problems you may or may not have noticed:\n",
    "- Application ID should not be included in the training data, it only gives the decision tree an opportunity to make spurious correlations\n",
    "- We should include ```.dropna()``` at the end of the line where we define ```mortgage_applications_nonans``` instead of on ```X``` and ```Y``` the way it is  done above leads to different rows being dropped in ```X``` and ```Y``` ruining the data.\n",
    "- ```Y ~ X``` is the format for giving a formula in linear regression, we need different syntax when fitting a decision tree. Instead, it should be ```clf.fit(X,Y)```\n",
    "- When using clf.predict(), we need to pass an array or dataframe containing the parameters instead of passing them directly as function arguments."
   ]
  },
  {
   "cell_type": "markdown",
   "id": "fa7b552b",
   "metadata": {
    "slideshow": {
     "slide_type": "subslide"
    }
   },
   "source": [
    "### Discussion\n",
    "Imagine that you work for a bank, and you are building a classification model to decide whether to accept mortgage applications for a mortgage company.\n",
    "\n",
    "1. Why would it usually be useful for you to have more information about the person who makes the application?\n",
    "2. Consider the following information: {Income, net worth, profession, criminal history, marriage status (including common law), value of property, location of property} . In your groups, group the information into two categories:\n",
    "    - Information which is appropriate for the bank to take into consideration in deciding whether to give someone a mortgage.\n",
    "    - Information which is inappropriate for the bank to take into consideration in deciding whether to give someone a mortgage."
   ]
  },
  {
   "cell_type": "markdown",
   "id": "2397e626",
   "metadata": {
    "slideshow": {
     "slide_type": "slide"
    }
   },
   "source": [
    "# Tutorial Assignment (get started... )\n",
    "Suppose we are designing a classification model for reviewing applications to a prestigious medical school. Discuss how much we should value the different metrics for judging performance of our model. (Hint: in doing so you should identify stakeholders and what effects false positives and negatives would have on them?)\n",
    "\n",
    "### Notes on approaching the writing prompt\n",
    "\n",
    "- Hand in the assignment on Quercus\n",
    "- Use full sentences\n",
    "- Grammar is *not* the main focus of the assessment, but it is important that you communicate in a clear and professional manner (without slang or emojis) \n",
    "- Aim for 200 - 500 words\n",
    "- Do not spend more than 90 minutes on the prompt (unless you really need to...)"
   ]
  }
 ],
 "metadata": {
  "celltoolbar": "Slideshow",
  "kernelspec": {
   "display_name": "Python 3 (ipykernel)",
   "language": "python",
   "name": "python3"
  },
  "language_info": {
   "codemirror_mode": {
    "name": "ipython",
    "version": 3
   },
   "file_extension": ".py",
   "mimetype": "text/x-python",
   "name": "python",
   "nbconvert_exporter": "python",
   "pygments_lexer": "ipython3",
   "version": "3.10.8"
  }
 },
 "nbformat": 4,
 "nbformat_minor": 5
}
