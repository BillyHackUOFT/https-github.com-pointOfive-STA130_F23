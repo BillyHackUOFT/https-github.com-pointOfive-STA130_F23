{
 "cells": [
  {
   "cell_type": "markdown",
   "id": "e3ef9e6c",
   "metadata": {
    "slideshow": {
     "slide_type": "slide"
    }
   },
   "source": [
    "# STA130 Tutorial 9: Classification (and Ethics)\n"
   ]
  },
  {
   "cell_type": "markdown",
   "source": [
    "This week we'll be doing something a little different, and we'll be focusing on ethical topics in anticipation of our upcoming embedded ethics guest lecture."
   ],
   "metadata": {
    "collapsed": false
   }
  },
  {
   "cell_type": "markdown",
   "id": "c3f215dd",
   "metadata": {
    "slideshow": {
     "slide_type": "subslide"
    }
   },
   "source": [
    "# This Week's Vocab (10 minutes):\n",
    "If you are not familiar with any of these words, now is the time to ask!\n",
    "\n",
    "- Classification / Classifier\n",
    "- Prediction / Predictor(s)\n",
    "- Covariate(s)\n",
    "- Input(s) / Output(s)\n",
    "- Training set/sample\n",
    "- Validation\n",
    "- Testing set/sample (or test set)\n",
    "- Fitting a model\n",
    "- Confusion matrix\n",
    "- Category\n",
    "- Tree / Node\n",
    "- Terminal node (or leaf node)\n",
    "- True positive (sensitivity)\n",
    "- True negative (specificity)\n",
    "- False positive / False negative\n",
    "- Accuracy"
   ]
  },
  {
   "cell_type": "markdown",
   "id": "4de0e4ff",
   "metadata": {
    "slideshow": {
     "slide_type": "slide"
    }
   },
   "source": [
    "# Ethics Primer (15 minutes)\n",
    "\n",
    "- When we do statistics in the real world, our actions have consequences.\n",
    "- Often classification models (and indeed other statistical methods we have learned such as linear regression and hypothesis test) are used to guide decisions.\n",
    "- Our actions can affect our employers or the public.\n",
    "- When we make decisions, we must consider all stakeholders."
   ]
  },
  {
   "cell_type": "markdown",
   "source": [
    "## Example:\n",
    "Let's say we're building a classification model to decide whether to accept mortgage applications for a mortgage company.\n",
    "1. The first stakeholder is the mortgage company.\n",
    "    - We don't want to instruct them to accept bad mortgages which lose them money / cause instability.\n",
    "2. The second stakeholder are the applicants.\n",
    "    - We have a responsibility to ensure that people aren't being rejected for unfair reasons (e.g. race, gender, sexuality).\n"
   ],
   "metadata": {
    "collapsed": false
   }
  },
  {
   "cell_type": "markdown",
   "source": [
    "# Case Study and Discussion (30 minutes):\n",
    "- https://www.propublica.org/article/how-we-analyzed-the-compas-recidivism-algorithm"
   ],
   "metadata": {
    "collapsed": false
   }
  },
  {
   "cell_type": "markdown",
   "id": "6ee1a0d2",
   "metadata": {
    "slideshow": {
     "slide_type": "slide"
    }
   },
   "source": [
    "# Confusion Matrices (15 minutes)\n",
    "Let's recall how to read a simple confusion Matrix. Suppose that we have a classification model designed to judge whether patients have a certain disease, called disease D.\n",
    "On a testing dataset, it has the following confusion matrix (columns are predicted labels, rows are real labels)\n",
    "\n",
    "|            | P  | N   |\n",
    "|-------------|----|-----|\n",
    "| P | 17 | 2   |\n",
    "| N           | 17 | 168 |\n",
    "\n",
    "- What do the numbers in the different cells represent?\n",
    "- What are the metrics (accuracy, sensitivity,  specificity)?\n"
   ]
  },
  {
   "cell_type": "markdown",
   "source": [
    "But which metrics do we care about?\n",
    "A misdiagnosis (in either direction) could potentially be very bad for the patient."
   ],
   "metadata": {
    "collapsed": false
   }
  },
  {
   "cell_type": "markdown",
   "source": [
    "# Discussion (30 minutes)\n",
    "\n",
    "- In a number of scenarios let's reason about which metrics matter the most, and what trade-offs we can accept.\n",
    "-"
   ],
   "metadata": {
    "collapsed": false
   }
  },
  {
   "cell_type": "markdown",
   "id": "2397e626",
   "metadata": {
    "slideshow": {
     "slide_type": "slide"
    }
   },
   "source": [
    "# Tutorial Assignment (30 minutes remaining... get started... )\n",
    "\n"
   ]
  },
  {
   "cell_type": "markdown",
   "id": "4eee1673",
   "metadata": {
    "slideshow": {
     "slide_type": "subslide"
    }
   },
   "source": [
    "### Notes on approaching the writing prompt\n",
    "\n",
    "- Hand in the assignment on Quercus\n",
    "- Use full sentences\n",
    "- Grammar is *not* the main focus of the assessment, but it is important that you communicate in a clear and professional manner (without slang or emojis) \n",
    "- Aim for 200 - 500 words\n",
    "- Do not spend more than 90 minutes on the prompt (unless you really need to...)"
   ]
  }
 ],
 "metadata": {
  "celltoolbar": "Slideshow",
  "kernelspec": {
   "display_name": "Python 3 (ipykernel)",
   "language": "python",
   "name": "python3"
  },
  "language_info": {
   "codemirror_mode": {
    "name": "ipython",
    "version": 3
   },
   "file_extension": ".py",
   "mimetype": "text/x-python",
   "name": "python",
   "nbconvert_exporter": "python",
   "pygments_lexer": "ipython3",
   "version": "3.10.8"
  }
 },
 "nbformat": 4,
 "nbformat_minor": 5
}
