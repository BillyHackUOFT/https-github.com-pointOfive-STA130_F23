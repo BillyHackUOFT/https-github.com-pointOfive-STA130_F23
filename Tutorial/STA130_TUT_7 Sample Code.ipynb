{
 "cells": [
  {
   "cell_type": "markdown",
   "id": "61e0cf25",
   "metadata": {},
   "source": [
    "#### Coded solutions for questions that require numerical and graphical outputs. Remaining questions can be answered on the board or explained verbally"
   ]
  },
  {
   "cell_type": "code",
   "execution_count": null,
   "id": "963ed63b",
   "metadata": {},
   "outputs": [],
   "source": [
    "# Run this and show the plot to students first\n",
    "\n",
    "import pandas as pd\n",
    "import plotly.express as px\n",
    "import numpy as np\n",
    "\n",
    "starbucks = pd.read_csv(\"starbucks.csv\", encoding=\"ISO-8859-1\")\n",
    "fig = px.scatter(starbucks, x=\"carb\", y=\"calories\")\n",
    "fig.show()"
   ]
  },
  {
   "cell_type": "code",
   "execution_count": 26,
   "id": "e1377420",
   "metadata": {},
   "outputs": [
    {
     "data": {
      "text/plain": [
       "True"
      ]
     },
     "execution_count": 26,
     "metadata": {},
     "output_type": "execute_result"
    }
   ],
   "source": [
    "any(starbucks.type == \"bistro box\")"
   ]
  },
  {
   "cell_type": "code",
   "execution_count": 13,
   "id": "b11386d3",
   "metadata": {},
   "outputs": [
    {
     "data": {
      "text/plain": [
       "0.6749990188718189"
      ]
     },
     "execution_count": 13,
     "metadata": {},
     "output_type": "execute_result"
    }
   ],
   "source": [
    "# Question 2\n",
    "# First ask students for their estimate based on the plot\n",
    "\n",
    "r = np.corrcoef(starbucks.carb, starbucks.calories)[0][1]\n",
    "r"
   ]
  },
  {
   "cell_type": "code",
   "execution_count": 14,
   "id": "4256119d",
   "metadata": {},
   "outputs": [
    {
     "data": {
      "text/plain": [
       "0.456"
      ]
     },
     "execution_count": 14,
     "metadata": {},
     "output_type": "execute_result"
    }
   ],
   "source": [
    "# Question 5\n",
    "\n",
    "r_squared = r**2\n",
    "np.round(r_squared, 3)"
   ]
  },
  {
   "cell_type": "code",
   "execution_count": 32,
   "id": "38e507bc",
   "metadata": {},
   "outputs": [],
   "source": [
    "# Question 6\n",
    "\n",
    "starbucks_lunch = starbucks.loc[((starbucks.type == \"sandwich\") | (starbucks.type == \"bistro box\"))]\n",
    "starbucks_lunch"
   ]
  },
  {
   "cell_type": "code",
   "execution_count": 44,
   "id": "bf8e9978",
   "metadata": {},
   "outputs": [
    {
     "data": {
      "text/plain": [
       "Text(0.5, 1.0, 'Distribution of Calories for Bistro Box vs Sandwich')"
      ]
     },
     "execution_count": 44,
     "metadata": {},
     "output_type": "execute_result"
    },
    {
     "data": {
      "image/png": "[encoded data removed]",
      "text/plain": [
       "<Figure size 432x288 with 1 Axes>"
      ]
     },
     "metadata": {
      "needs_background": "light"
     },
     "output_type": "display_data"
    }
   ],
   "source": [
    "plot = starbucks_lunch.boxplot(column='calories', by='type', grid=False)\n",
    "\n",
    "plot.set_xlabel('Item Type')\n",
    "plot.set_ylabel('Calories')\n",
    "plot.set_title('Distribution of Calories for Bistro Box vs Sandwich')"
   ]
  },
  {
   "cell_type": "code",
   "execution_count": 48,
   "id": "fbea8591",
   "metadata": {},
   "outputs": [
    {
     "name": "stderr",
     "output_type": "stream",
     "text": [
      "<ipython-input-48-40429ca67639>:5: SettingWithCopyWarning:\n",
      "\n",
      "\n",
      "A value is trying to be set on a copy of a slice from a DataFrame.\n",
      "Try using .loc[row_indexer,col_indexer] = value instead\n",
      "\n",
      "See the caveats in the documentation: https://pandas.pydata.org/pandas-docs/stable/user_guide/indexing.html#returning-a-view-versus-a-copy\n",
      "\n"
     ]
    },
    {
     "data": {
      "text/plain": [
       "const                377.500000\n",
       "item_type_encoded     18.214286\n",
       "dtype: float64"
      ]
     },
     "execution_count": 48,
     "metadata": {},
     "output_type": "execute_result"
    }
   ],
   "source": [
    "# Question 7\n",
    "# Ignore the documentation note if it appears, values are correct\n",
    "\n",
    "import statsmodels.api as sm\n",
    "\n",
    "# Since it is a string, we must convert values into integers first\n",
    "\n",
    "starbucks_lunch['item_type_encoded'] = (starbucks_lunch['type'] == 'sandwich').astype(int)\n",
    "\n",
    "x = starbucks_lunch[\"item_type_encoded\"]\n",
    "y = starbucks_lunch[\"calories\"]\n",
    "\n",
    "Y = y                  \n",
    "X = x\n",
    "X = sm.add_constant(X) \n",
    "\n",
    "model = sm.OLS(Y,X)   \n",
    "\n",
    "results = model.fit()\n",
    "results.params         "
   ]
  }
 ],
 "metadata": {
  "kernelspec": {
   "display_name": "Python 3",
   "language": "python",
   "name": "python3"
  },
  "language_info": {
   "codemirror_mode": {
    "name": "ipython",
    "version": 3
   },
   "file_extension": ".py",
   "mimetype": "text/x-python",
   "name": "python",
   "nbconvert_exporter": "python",
   "pygments_lexer": "ipython3",
   "version": "3.8.8"
  }
 },
 "nbformat": 4,
 "nbformat_minor": 5
}
