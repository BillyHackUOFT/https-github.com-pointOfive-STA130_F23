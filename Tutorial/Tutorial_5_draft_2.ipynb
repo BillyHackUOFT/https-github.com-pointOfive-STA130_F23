{
 "cells": [
  {
   "cell_type": "markdown",
   "metadata": {
    "slideshow": {
     "slide_type": "slide"
    }
   },
   "source": [
    "# STA130 Tutorial 5: Hypothesis Testing\n",
    "\n",
    "|<img src=\"https://pictures.abebooks.com/inventory/md/md31377899338.jpg\" alt=\"Scientific Revolusions\" style=\"width: 300px; height: 450px;\"/>|<img src=\"https://i.ytimg.com/vi/Yn8cCDtVd5w/maxresdefault.jpg\" alt=\"Kuhn Cycle\" style=\"width: 800px; height: 450px;\"/>|\n",
    "|-|-|\n",
    "| | |"
   ]
  },
  {
   "cell_type": "markdown",
   "metadata": {
    "slideshow": {
     "slide_type": "slide"
    }
   },
   "source": [
    "# Today's Agenda (5 minutes)\n",
    "\n",
    "- Tutorial Activity: Stella McStat's \"Wheel of Destiny\"\n",
    "\n",
    "    - **Parameters (of populations)** versus **Statistics (of samples)**\n",
    "    - **Independent** Samples, **Sampling Distributions**, **p-values**, etc.\n",
    "\n",
    "- Lecture/Example: Hypothesis test walk-through\n",
    "    - Code Examples to facilite Terminology Explanation and Discussion\n",
    "    - Evidence against the Null Hypothesis\n",
    "    - Alternatives form of **Sampling Distributions**, \"as or more extreme...\", etc.\n",
    "\n",
    "\n",
    "- Tutorial Assignment: Mini-Homework Hypothesis Testing Practice\n"
   ]
  },
  {
   "cell_type": "markdown",
   "metadata": {
    "slideshow": {
     "slide_type": "slide"
    }
   },
   "source": [
    "## The Wheel of Destiny (1 minute) [Click \"Down\" next]\n",
    "\n",
    "Stella McStat had been running a small-time gambling operation on campus for several months during her first year at U of T. It was disrupted during COVID, but now that courses seem to be reliably back to in-person formats, Stella is getting things back up and running. **Stella wants to determine if her game is \"fair\"** (even if somewhat illegal).\n",
    "\n",
    "| <img src=\"stella2.png\" style=\"height: 450px;\"/> |  <img src=\"fair.png\" style=\"height: 450px;\"/> |\n",
    "|-|-|\n",
    "| | |\n",
    "\n",
    "<sub><sup>Adapted from Lawton, L. (2009) An Exercise for Illustrating the Logic of Hypothesis Testing, Journal of Stat. Education, 17(2).</sup></sub>\n"
   ]
  },
  {
   "cell_type": "markdown",
   "metadata": {
    "slideshow": {
     "slide_type": "subslide"
    }
   },
   "source": [
    "## The Wheel of Destiny (1 minute) [Click \"Down\" next]\n",
    "\n",
    "For each spin of the wheel, two gamblers take part. For a toonie each (\\\\$2 Canadian), Stella sells one a red ticket and one a black ticket  (i.e., total \\\\$4). Then Stella spins the Wheel of Destiny. The person who holds the colour on which the spinner stops gets \\\\$3.50 (Stella keeps \\\\$0.50 per spin for running the game and providing snacks).\n",
    "\n",
    "| <img src=\"stella2.png\" style=\"height: 450px;\"/> |  <img src=\"fair.png\" style=\"height: 450px;\"/> |\n",
    "|-|-|\n",
    "| | |\n",
    "\n",
    "<sub><sup>Adapted from Lawton, L. (2009) An Exercise for Illustrating the Logic of Hypothesis Testing, Journal of Stat. Education, 17(2).</sup></sub>\n"
   ]
  },
  {
   "cell_type": "markdown",
   "metadata": {
    "slideshow": {
     "slide_type": "subslide"
    }
   },
   "source": [
    "## The Wheel of Destiny (1 minute) [Click \"Down\" next]\n",
    "\n",
    "\n",
    "Stella just bought a new spinner, the critical piece of equipment for this game. She's heard some mixed reviews about the manufacturer she has purchased from. Before she beings using this spinner, she wants to make sure that it is, in fact, fair—she wants both colours to come up equally often. Because of the set-up of the game, Stella has no incentive to cheat and wants the game to be as fair as possible.\n",
    "\n",
    "| <img src=\"stella2.png\" style=\"height: 450px;\"/> |  <img src=\"fair.png\" style=\"height: 450px;\"/> |\n",
    "|-|-|\n",
    "| | |\n",
    "\n",
    "<sub><sup>Adapted from Lawton, L. (2009) An Exercise for Illustrating the Logic of Hypothesis Testing, Journal of Stat. Education, 17(2).</sup></sub>\n"
   ]
  },
  {
   "cell_type": "markdown",
   "metadata": {
    "slideshow": {
     "slide_type": "subslide"
    }
   },
   "source": [
    "## The Wheel of Destiny (1 minute) \n",
    "\n",
    "\n",
    "Everything she can examine about the wheel seems fine; there is the same number of sectors of each colour and they each have the same area. BUT! Stella has a great idea and decides to come to YOU, her statistical guru, and ask you to verify that the new spinner is fit to use.\n",
    "\n",
    "| <img src=\"stella2.png\" style=\"height: 450px;\"/> |  <img src=\"fair.png\" style=\"height: 450px;\"/> |\n",
    "|-|-|\n",
    "| | |\n",
    "\n",
    "<sub><sup>Adapted from Lawton, L. (2009) An Exercise for Illustrating the Logic of Hypothesis Testing, Journal of Stat. Education, 17(2).</sup></sub>\n"
   ]
  },
  {
   "cell_type": "markdown",
   "metadata": {
    "slideshow": {
     "slide_type": "slide"
    }
   },
   "source": [
    "## Tutorial Activity  (15 minutes) [Click \"down\" next]<br>Submit answers to the following questions/prompts \n",
    "\n",
    "- *Write and submit as a group of 3 or 4 students (with all your names) the following:* \n",
    "- How can we examine the wheel for fairness?\n",
    "    - What's a **null hypothesis** here? \n",
    "        - Hint: the alternative hypothesis is just \"$H_1: H_0 \\text{ is False}$\"\n",
    "- What's \"data\" here? \n",
    "    - What's a **sample** here?\n",
    "        - Hint: the **population** would be every spin result ever \n",
    "    - What's the difference between a **parameter** and a **statistic**?\n",
    "    - What's the difference between a **dependent** and **independent** sample?\n",
    "- How could we go about conducting a simulation-based hypothesis test here?\n",
    "    - What is the definition of a **p-value**?\n",
    "    - *Describe the process of using simulation to create a p-value for this problem*"
   ]
  },
  {
   "cell_type": "markdown",
   "metadata": {
    "slideshow": {
     "slide_type": "subslide"
    }
   },
   "source": [
    "## Answers Review (10 minutes)\n",
    "\n",
    "- How can we examine the wheel for fairness? **Use a Hypothesis Test:**\n",
    "\n",
    "$$\n",
    "\\begin{align}\n",
    "H_0 &{}: {} p_r = p_b = 0.5 \\quad\\text{probability of a spin coming up red or black is equal}\\\\\n",
    "H_1 &:{} p_r \\neq p_b \\neq 0.5 \\quad\\text{probability of a spin coming up red isn't same as black}\n",
    "\\end{align}$$\n",
    "\n",
    "- We could perform actual spins and calculate the proportion of landing red\n",
    "    - **How many spins would we perform**? \n",
    "    - The observed proportions of red would be our **statistic**\n",
    "    - The actual true chance of a red spin would be our **parameter**\n",
    "    - If each spin result doesn't affect the others the spins are **independent**  \n",
    "    \n",
    "    \n",
    "- How would/could we conduct a simulation-based hypothesis test here?\n",
    "    - p-value: [TYPE OUT DEFINITION WITH HELP FROM CLASS]\n",
    "    - *Describe/Discuss the simulation process for creating a p-value!*"
   ]
  },
  {
   "cell_type": "markdown",
   "metadata": {
    "slideshow": {
     "slide_type": "slide"
    }
   },
   "source": [
    "## Code I: Parameters, Samples, Statistics (10 minutes)\n",
    "- Discuss how line 6 specifies the **parameter** of a **population** while line 9 and 10 calculates a **statistic** of a **sample**\n",
    "    - Try out some different **populations** (i.e., different **parameter** values)\n",
    "    - **Differentiate this exercise from specifying a *null hypothesis***\n",
    "- Discuss/Explore what changing the seed in line 4 does\n",
    "- Discuss/Explore question on line 3\n",
    "- Discuss `replace=True` on line 7 and **independence**"
   ]
  },
  {
   "cell_type": "code",
   "execution_count": 2,
   "metadata": {
    "slideshow": {
     "slide_type": "-"
    }
   },
   "outputs": [
    {
     "name": "stdout",
     "output_type": "stream",
     "text": [
      "Our test statistic is 0.54, meaning we spun 54 reds out of 100 spins.\n"
     ]
    }
   ],
   "source": [
    "# Simulating an observed test statistic\n",
    "import numpy as np\n",
    "spins = 100  # LINE 3: chose 100 spins, pros/cons of doing more/less?\n",
    "np.random.seed(56) # LINE 4: Experiment with changing this\n",
    "# What if the spinner wasn't actually truthfully fair and slightly favored red (say 51:49)...\n",
    "spin_results = np.random.choice(['Red', 'Black'], p=[0.51, 0.49], # LINE 6: Truth we don't know\n",
    "                                size=spins, replace=True)         # LINE 7: not a null hypothesis\n",
    "observed_test_stat = (spin_results == 'Red').sum() / spins\n",
    "print('Our test statistic is ' + str(observed_test_stat) + ', meaning we spun ' +      # LINE 9\n",
    "      str(int(observed_test_stat * spins)) + ' reds out of ' + str(spins) + ' spins.') # LINE 10"
   ]
  },
  {
   "cell_type": "markdown",
   "metadata": {
    "slideshow": {
     "slide_type": "slide"
    }
   },
   "source": [
    "## Things to Consider: Sampling Distributions (5 minutes)\n",
    "\n",
    "Simulate the sampling distribution of the proportion of \"Red\" spins in a sample under a 50/50 assumption for the null hypothesis. \n",
    "> `np.random.choice` is not a distributional assumption, and only uses the assumption that the parameter $p=0.5$ (which implies that the chance of getting \"Red\" is the same as \"Black\").<br>**Using no distributional assumptions (like normality) and just parameter assumptions (strangely?) makes this <u>Nonparametric</u>**\n",
    "\n",
    "- What's the difference between `p=[0.51, 0.49]` on the previous slide<br>as opposed to `p=[0.5, 0.5]` on the next slide?\n",
    "<!-- Previously we imagined the spinner was not actually fair; but, this is different than a null hypothesis assumption that the spinner is fair, which is the assumption we use to generate our sampling distribution on the next slide --> \n",
    "- Are the *simulated spins* on the next slide **independent**? <br>Are the *simulated draws from the sampling distribution of $\\hat p$* **independent**? <!-- Yes, each simulated spin and sample does not affect the other simulated spins/samples --> \n",
    "    - [\"Double Click\" for Answers]"
   ]
  },
  {
   "cell_type": "markdown",
   "metadata": {
    "slideshow": {
     "slide_type": "slide"
    }
   },
   "source": [
    "# Code II: Sampling Distributions (10 minutes)"
   ]
  },
  {
   "cell_type": "code",
   "execution_count": 4,
   "metadata": {},
   "outputs": [
    {
     "data": {
      "application/vnd.plotly.v1+json": {
       "config": {
        "plotlyServerURL": "https://plot.ly"
       },
       "data": [
        {
         "alignmentgroup": "True",
         "bingroup": "x",
         "hovertemplate": "Proportion of spins that are Red=%{x}<br>count=%{y}<extra></extra>",
         "legendgroup": "",
         "marker": {
          "color": "#636efa",
          "pattern": {
           "shape": ""
          }
         },
         "name": "",
         "offsetgroup": "",
         "orientation": "v",
         "showlegend": false,
         "type": "histogram",
         "x": [
          0.51,
          0.46,
          0.42,
          0.45,
          0.51,
          0.53,
          0.48,
          0.5,
          0.53,
          0.55,
          0.46,
          0.48,
          0.54,
          0.43,
          0.55,
          0.47,
          0.43,
          0.43,
          0.43,
          0.49,
          0.57,
          0.54,
          0.43,
          0.52,
          0.58,
          0.57,
          0.49,
          0.52,
          0.49,
          0.52,
          0.46,
          0.48,
          0.48,
          0.46,
          0.55,
          0.53,
          0.56,
          0.49,
          0.36,
          0.49,
          0.49,
          0.55,
          0.5,
          0.56,
          0.63,
          0.5,
          0.5,
          0.41,
          0.53,
          0.44,
          0.52,
          0.38,
          0.53,
          0.47,
          0.42,
          0.49,
          0.42,
          0.45,
          0.48,
          0.45,
          0.44,
          0.46,
          0.54,
          0.49,
          0.57,
          0.57,
          0.55,
          0.53,
          0.52,
          0.53,
          0.47,
          0.6,
          0.45,
          0.48,
          0.62,
          0.55,
          0.52,
          0.49,
          0.51,
          0.39,
          0.57,
          0.49,
          0.46,
          0.53,
          0.5,
          0.51,
          0.68,
          0.48,
          0.53,
          0.48,
          0.56,
          0.47,
          0.57,
          0.54,
          0.5,
          0.5,
          0.45,
          0.51,
          0.38,
          0.45,
          0.45,
          0.53,
          0.4,
          0.49,
          0.55,
          0.5,
          0.43,
          0.54,
          0.44,
          0.44,
          0.52,
          0.6,
          0.49,
          0.46,
          0.5,
          0.46,
          0.56,
          0.45,
          0.46,
          0.4,
          0.5,
          0.54,
          0.45,
          0.57,
          0.5,
          0.55,
          0.53,
          0.52,
          0.43,
          0.42,
          0.52,
          0.39,
          0.52,
          0.52,
          0.53,
          0.45,
          0.48,
          0.56,
          0.39,
          0.54,
          0.42,
          0.47,
          0.59,
          0.46,
          0.46,
          0.47,
          0.51,
          0.48,
          0.62,
          0.49,
          0.45,
          0.46,
          0.45,
          0.51,
          0.46,
          0.5,
          0.56,
          0.37,
          0.52,
          0.41,
          0.43,
          0.58,
          0.59,
          0.54,
          0.59,
          0.56,
          0.5,
          0.51,
          0.49,
          0.49,
          0.41,
          0.44,
          0.51,
          0.48,
          0.53,
          0.48,
          0.56,
          0.48,
          0.4,
          0.5,
          0.48,
          0.53,
          0.58,
          0.45,
          0.45,
          0.51,
          0.42,
          0.49,
          0.44,
          0.46,
          0.45,
          0.47,
          0.4,
          0.52,
          0.45,
          0.53,
          0.45,
          0.52,
          0.54,
          0.49,
          0.5,
          0.58,
          0.58,
          0.45,
          0.51,
          0.47,
          0.54,
          0.54,
          0.49,
          0.45,
          0.43,
          0.5,
          0.46,
          0.53,
          0.46,
          0.54,
          0.55,
          0.47,
          0.49,
          0.45,
          0.37,
          0.52,
          0.44,
          0.59,
          0.52,
          0.59,
          0.44,
          0.54,
          0.51,
          0.51,
          0.52,
          0.48,
          0.59,
          0.52,
          0.51,
          0.59,
          0.46,
          0.43,
          0.46,
          0.46,
          0.53,
          0.6,
          0.44,
          0.48,
          0.5,
          0.55,
          0.47,
          0.5,
          0.46,
          0.54,
          0.53,
          0.5,
          0.55,
          0.48,
          0.53,
          0.41,
          0.52,
          0.52,
          0.53,
          0.54,
          0.57,
          0.57,
          0.57,
          0.46,
          0.5,
          0.52,
          0.52,
          0.54,
          0.58,
          0.55,
          0.58,
          0.48,
          0.46,
          0.49,
          0.54,
          0.47,
          0.46,
          0.47,
          0.53,
          0.49,
          0.51,
          0.53,
          0.53,
          0.42,
          0.51,
          0.56,
          0.48,
          0.42,
          0.43,
          0.6,
          0.49,
          0.54,
          0.55,
          0.5,
          0.57,
          0.49,
          0.5,
          0.5,
          0.51,
          0.52,
          0.51,
          0.46,
          0.44,
          0.41,
          0.44,
          0.49,
          0.45,
          0.48,
          0.44,
          0.5,
          0.56,
          0.57,
          0.55,
          0.48,
          0.55,
          0.5,
          0.46,
          0.55,
          0.5,
          0.52,
          0.46,
          0.45,
          0.54,
          0.45,
          0.46,
          0.51,
          0.57,
          0.44,
          0.5,
          0.58,
          0.46,
          0.61,
          0.39,
          0.54,
          0.52,
          0.46,
          0.51,
          0.53,
          0.58,
          0.42,
          0.54,
          0.47,
          0.52,
          0.52,
          0.46,
          0.57,
          0.49,
          0.44,
          0.49,
          0.48,
          0.53,
          0.58,
          0.5,
          0.57,
          0.49,
          0.5,
          0.57,
          0.54,
          0.49,
          0.59,
          0.44,
          0.45,
          0.52,
          0.57,
          0.46,
          0.52,
          0.47,
          0.49,
          0.55,
          0.54,
          0.51,
          0.58,
          0.55,
          0.53,
          0.54,
          0.49,
          0.58,
          0.5,
          0.53,
          0.53,
          0.6,
          0.55,
          0.45,
          0.54,
          0.48,
          0.54,
          0.53,
          0.44,
          0.51,
          0.5,
          0.49,
          0.5,
          0.43,
          0.47,
          0.46,
          0.47,
          0.44,
          0.45,
          0.46,
          0.48,
          0.54,
          0.54,
          0.45,
          0.45,
          0.41,
          0.49,
          0.57,
          0.53,
          0.54,
          0.47,
          0.58,
          0.47,
          0.54,
          0.53,
          0.5,
          0.49,
          0.47,
          0.52,
          0.55,
          0.5,
          0.47,
          0.51,
          0.43,
          0.49,
          0.48,
          0.63,
          0.51,
          0.42,
          0.48,
          0.51,
          0.44,
          0.46,
          0.49,
          0.42,
          0.48,
          0.49,
          0.43,
          0.5,
          0.49,
          0.47,
          0.45,
          0.49,
          0.53,
          0.5,
          0.49,
          0.42,
          0.54,
          0.45,
          0.59,
          0.43,
          0.52,
          0.43,
          0.58,
          0.42,
          0.54,
          0.57,
          0.44,
          0.47,
          0.49,
          0.47,
          0.44,
          0.5,
          0.53,
          0.57,
          0.49,
          0.45,
          0.54,
          0.54,
          0.46,
          0.44,
          0.44,
          0.53,
          0.53,
          0.43,
          0.43,
          0.34,
          0.42,
          0.55,
          0.44,
          0.55,
          0.48,
          0.5,
          0.58,
          0.61,
          0.45,
          0.51,
          0.64,
          0.42,
          0.58,
          0.49,
          0.39,
          0.57,
          0.46,
          0.47,
          0.56,
          0.54,
          0.48,
          0.56,
          0.52,
          0.52,
          0.49,
          0.51,
          0.54,
          0.49,
          0.46,
          0.51,
          0.56,
          0.42,
          0.36,
          0.51,
          0.51,
          0.42,
          0.51,
          0.52,
          0.5,
          0.45,
          0.52,
          0.49,
          0.5,
          0.56,
          0.45,
          0.56,
          0.38,
          0.48,
          0.53,
          0.49,
          0.57,
          0.53,
          0.58,
          0.44,
          0.56,
          0.52,
          0.56,
          0.55,
          0.5,
          0.4,
          0.53,
          0.52,
          0.53,
          0.51,
          0.51,
          0.49,
          0.5,
          0.48,
          0.5,
          0.5,
          0.41,
          0.36,
          0.49,
          0.53,
          0.53,
          0.56,
          0.49,
          0.54,
          0.58,
          0.53,
          0.48,
          0.45,
          0.47,
          0.46,
          0.42,
          0.46,
          0.6,
          0.44,
          0.6,
          0.48,
          0.54,
          0.47,
          0.5,
          0.39,
          0.47,
          0.53,
          0.54,
          0.48,
          0.47,
          0.5,
          0.55,
          0.51,
          0.44,
          0.55,
          0.55,
          0.59,
          0.52,
          0.47,
          0.53,
          0.53,
          0.5,
          0.45,
          0.51,
          0.54,
          0.54,
          0.49,
          0.48,
          0.45,
          0.55,
          0.57,
          0.47,
          0.51,
          0.51,
          0.51,
          0.5,
          0.45,
          0.5,
          0.44,
          0.5,
          0.55,
          0.53,
          0.44,
          0.51,
          0.5,
          0.53,
          0.42,
          0.53,
          0.49,
          0.48,
          0.49,
          0.55,
          0.43,
          0.4,
          0.49,
          0.57,
          0.62,
          0.54,
          0.53,
          0.54,
          0.58,
          0.49,
          0.52,
          0.46,
          0.44,
          0.51,
          0.5,
          0.49,
          0.47,
          0.49,
          0.44,
          0.48,
          0.46,
          0.41,
          0.54,
          0.52,
          0.45,
          0.52,
          0.51,
          0.57,
          0.56,
          0.42,
          0.45,
          0.47,
          0.49,
          0.53,
          0.57,
          0.55,
          0.51,
          0.5,
          0.57,
          0.42,
          0.45,
          0.5,
          0.54,
          0.48,
          0.43,
          0.47,
          0.54,
          0.54,
          0.43,
          0.55,
          0.44,
          0.46,
          0.49,
          0.51,
          0.52,
          0.54,
          0.58,
          0.6,
          0.47,
          0.46,
          0.56,
          0.37,
          0.51,
          0.57,
          0.46,
          0.45,
          0.57,
          0.49,
          0.45,
          0.5,
          0.51,
          0.43,
          0.53,
          0.41,
          0.46,
          0.47,
          0.52,
          0.49,
          0.55,
          0.56,
          0.52,
          0.57,
          0.51,
          0.51,
          0.52,
          0.41,
          0.56,
          0.51,
          0.45,
          0.53,
          0.53,
          0.45,
          0.49,
          0.43,
          0.41,
          0.45,
          0.52,
          0.46,
          0.5,
          0.5,
          0.46,
          0.44,
          0.56,
          0.44,
          0.47,
          0.54,
          0.51,
          0.45,
          0.44,
          0.51,
          0.48,
          0.58,
          0.55,
          0.5,
          0.48,
          0.54,
          0.48,
          0.51,
          0.54,
          0.55,
          0.49,
          0.34,
          0.49,
          0.44,
          0.43,
          0.51,
          0.49,
          0.48,
          0.5,
          0.54,
          0.48,
          0.53,
          0.57,
          0.48,
          0.62,
          0.46,
          0.53,
          0.5,
          0.45,
          0.47,
          0.45,
          0.45,
          0.49,
          0.45,
          0.55,
          0.57,
          0.46,
          0.51,
          0.47,
          0.5,
          0.52,
          0.51,
          0.61,
          0.5,
          0.48,
          0.55,
          0.45,
          0.54,
          0.5,
          0.53,
          0.56,
          0.44,
          0.52,
          0.56,
          0.51,
          0.49,
          0.52,
          0.52,
          0.47,
          0.51,
          0.57,
          0.52,
          0.44,
          0.57,
          0.49,
          0.56,
          0.51,
          0.56,
          0.55,
          0.42,
          0.52,
          0.49,
          0.52,
          0.53,
          0.44,
          0.52,
          0.49,
          0.44,
          0.6,
          0.45,
          0.54,
          0.47,
          0.61,
          0.5,
          0.44,
          0.44,
          0.51,
          0.59,
          0.52,
          0.5,
          0.53,
          0.54,
          0.61,
          0.47,
          0.51,
          0.53,
          0.42,
          0.45,
          0.48,
          0.46,
          0.44,
          0.64,
          0.56,
          0.58,
          0.45,
          0.59,
          0.53,
          0.53,
          0.45,
          0.6,
          0.4,
          0.44,
          0.56,
          0.57,
          0.52,
          0.42,
          0.46,
          0.46,
          0.48,
          0.5,
          0.48,
          0.51,
          0.48,
          0.51,
          0.59,
          0.51,
          0.49,
          0.46,
          0.47,
          0.5,
          0.48,
          0.54,
          0.5,
          0.5,
          0.45,
          0.53,
          0.53,
          0.41,
          0.46,
          0.55,
          0.57,
          0.63,
          0.56,
          0.62,
          0.45,
          0.56,
          0.52,
          0.51,
          0.45,
          0.57,
          0.53,
          0.4,
          0.57,
          0.57,
          0.46,
          0.54,
          0.52,
          0.42,
          0.53,
          0.51,
          0.56,
          0.5,
          0.5,
          0.51,
          0.44,
          0.46,
          0.5,
          0.53,
          0.52,
          0.54,
          0.47,
          0.43,
          0.45,
          0.48,
          0.49,
          0.51,
          0.44,
          0.45,
          0.45,
          0.55,
          0.46,
          0.52,
          0.62,
          0.45,
          0.56,
          0.47,
          0.51,
          0.47,
          0.53,
          0.51,
          0.52,
          0.54,
          0.46,
          0.54,
          0.55,
          0.39,
          0.47,
          0.52,
          0.45,
          0.48,
          0.52,
          0.57,
          0.47,
          0.59,
          0.42,
          0.43,
          0.59,
          0.62,
          0.49,
          0.5,
          0.58,
          0.49,
          0.5,
          0.55,
          0.48,
          0.51,
          0.54,
          0.6,
          0.47,
          0.5,
          0.43,
          0.49,
          0.49,
          0.55,
          0.47,
          0.5,
          0.5,
          0.44,
          0.5,
          0.51,
          0.53,
          0.53,
          0.57,
          0.51,
          0.51,
          0.54,
          0.54,
          0.43,
          0.49,
          0.52,
          0.5,
          0.49,
          0.52,
          0.43,
          0.54,
          0.47,
          0.5,
          0.48,
          0.51,
          0.4,
          0.5,
          0.54,
          0.54,
          0.49,
          0.52,
          0.53,
          0.44,
          0.6,
          0.52,
          0.47,
          0.44,
          0.49,
          0.54,
          0.51,
          0.49,
          0.53,
          0.52,
          0.49,
          0.44,
          0.49,
          0.4,
          0.48,
          0.51
         ],
         "xaxis": "x",
         "yaxis": "y"
        }
       ],
       "layout": {
        "barmode": "relative",
        "legend": {
         "tracegroupgap": 0
        },
        "template": {
         "data": {
          "bar": [
           {
            "error_x": {
             "color": "#2a3f5f"
            },
            "error_y": {
             "color": "#2a3f5f"
            },
            "marker": {
             "line": {
              "color": "#E5ECF6",
              "width": 0.5
             },
             "pattern": {
              "fillmode": "overlay",
              "size": 10,
              "solidity": 0.2
             }
            },
            "type": "bar"
           }
          ],
          "barpolar": [
           {
            "marker": {
             "line": {
              "color": "#E5ECF6",
              "width": 0.5
             },
             "pattern": {
              "fillmode": "overlay",
              "size": 10,
              "solidity": 0.2
             }
            },
            "type": "barpolar"
           }
          ],
          "carpet": [
           {
            "aaxis": {
             "endlinecolor": "#2a3f5f",
             "gridcolor": "white",
             "linecolor": "white",
             "minorgridcolor": "white",
             "startlinecolor": "#2a3f5f"
            },
            "baxis": {
             "endlinecolor": "#2a3f5f",
             "gridcolor": "white",
             "linecolor": "white",
             "minorgridcolor": "white",
             "startlinecolor": "#2a3f5f"
            },
            "type": "carpet"
           }
          ],
          "choropleth": [
           {
            "colorbar": {
             "outlinewidth": 0,
             "ticks": ""
            },
            "type": "choropleth"
           }
          ],
          "contour": [
           {
            "colorbar": {
             "outlinewidth": 0,
             "ticks": ""
            },
            "colorscale": [
             [
              0,
              "#0d0887"
             ],
             [
              0.1111111111111111,
              "#46039f"
             ],
             [
              0.2222222222222222,
              "#7201a8"
             ],
             [
              0.3333333333333333,
              "#9c179e"
             ],
             [
              0.4444444444444444,
              "#bd3786"
             ],
             [
              0.5555555555555556,
              "#d8576b"
             ],
             [
              0.6666666666666666,
              "#ed7953"
             ],
             [
              0.7777777777777778,
              "#fb9f3a"
             ],
             [
              0.8888888888888888,
              "#fdca26"
             ],
             [
              1,
              "#f0f921"
             ]
            ],
            "type": "contour"
           }
          ],
          "contourcarpet": [
           {
            "colorbar": {
             "outlinewidth": 0,
             "ticks": ""
            },
            "type": "contourcarpet"
           }
          ],
          "heatmap": [
           {
            "colorbar": {
             "outlinewidth": 0,
             "ticks": ""
            },
            "colorscale": [
             [
              0,
              "#0d0887"
             ],
             [
              0.1111111111111111,
              "#46039f"
             ],
             [
              0.2222222222222222,
              "#7201a8"
             ],
             [
              0.3333333333333333,
              "#9c179e"
             ],
             [
              0.4444444444444444,
              "#bd3786"
             ],
             [
              0.5555555555555556,
              "#d8576b"
             ],
             [
              0.6666666666666666,
              "#ed7953"
             ],
             [
              0.7777777777777778,
              "#fb9f3a"
             ],
             [
              0.8888888888888888,
              "#fdca26"
             ],
             [
              1,
              "#f0f921"
             ]
            ],
            "type": "heatmap"
           }
          ],
          "heatmapgl": [
           {
            "colorbar": {
             "outlinewidth": 0,
             "ticks": ""
            },
            "colorscale": [
             [
              0,
              "#0d0887"
             ],
             [
              0.1111111111111111,
              "#46039f"
             ],
             [
              0.2222222222222222,
              "#7201a8"
             ],
             [
              0.3333333333333333,
              "#9c179e"
             ],
             [
              0.4444444444444444,
              "#bd3786"
             ],
             [
              0.5555555555555556,
              "#d8576b"
             ],
             [
              0.6666666666666666,
              "#ed7953"
             ],
             [
              0.7777777777777778,
              "#fb9f3a"
             ],
             [
              0.8888888888888888,
              "#fdca26"
             ],
             [
              1,
              "#f0f921"
             ]
            ],
            "type": "heatmapgl"
           }
          ],
          "histogram": [
           {
            "marker": {
             "pattern": {
              "fillmode": "overlay",
              "size": 10,
              "solidity": 0.2
             }
            },
            "type": "histogram"
           }
          ],
          "histogram2d": [
           {
            "colorbar": {
             "outlinewidth": 0,
             "ticks": ""
            },
            "colorscale": [
             [
              0,
              "#0d0887"
             ],
             [
              0.1111111111111111,
              "#46039f"
             ],
             [
              0.2222222222222222,
              "#7201a8"
             ],
             [
              0.3333333333333333,
              "#9c179e"
             ],
             [
              0.4444444444444444,
              "#bd3786"
             ],
             [
              0.5555555555555556,
              "#d8576b"
             ],
             [
              0.6666666666666666,
              "#ed7953"
             ],
             [
              0.7777777777777778,
              "#fb9f3a"
             ],
             [
              0.8888888888888888,
              "#fdca26"
             ],
             [
              1,
              "#f0f921"
             ]
            ],
            "type": "histogram2d"
           }
          ],
          "histogram2dcontour": [
           {
            "colorbar": {
             "outlinewidth": 0,
             "ticks": ""
            },
            "colorscale": [
             [
              0,
              "#0d0887"
             ],
             [
              0.1111111111111111,
              "#46039f"
             ],
             [
              0.2222222222222222,
              "#7201a8"
             ],
             [
              0.3333333333333333,
              "#9c179e"
             ],
             [
              0.4444444444444444,
              "#bd3786"
             ],
             [
              0.5555555555555556,
              "#d8576b"
             ],
             [
              0.6666666666666666,
              "#ed7953"
             ],
             [
              0.7777777777777778,
              "#fb9f3a"
             ],
             [
              0.8888888888888888,
              "#fdca26"
             ],
             [
              1,
              "#f0f921"
             ]
            ],
            "type": "histogram2dcontour"
           }
          ],
          "mesh3d": [
           {
            "colorbar": {
             "outlinewidth": 0,
             "ticks": ""
            },
            "type": "mesh3d"
           }
          ],
          "parcoords": [
           {
            "line": {
             "colorbar": {
              "outlinewidth": 0,
              "ticks": ""
             }
            },
            "type": "parcoords"
           }
          ],
          "pie": [
           {
            "automargin": true,
            "type": "pie"
           }
          ],
          "scatter": [
           {
            "fillpattern": {
             "fillmode": "overlay",
             "size": 10,
             "solidity": 0.2
            },
            "type": "scatter"
           }
          ],
          "scatter3d": [
           {
            "line": {
             "colorbar": {
              "outlinewidth": 0,
              "ticks": ""
             }
            },
            "marker": {
             "colorbar": {
              "outlinewidth": 0,
              "ticks": ""
             }
            },
            "type": "scatter3d"
           }
          ],
          "scattercarpet": [
           {
            "marker": {
             "colorbar": {
              "outlinewidth": 0,
              "ticks": ""
             }
            },
            "type": "scattercarpet"
           }
          ],
          "scattergeo": [
           {
            "marker": {
             "colorbar": {
              "outlinewidth": 0,
              "ticks": ""
             }
            },
            "type": "scattergeo"
           }
          ],
          "scattergl": [
           {
            "marker": {
             "colorbar": {
              "outlinewidth": 0,
              "ticks": ""
             }
            },
            "type": "scattergl"
           }
          ],
          "scattermapbox": [
           {
            "marker": {
             "colorbar": {
              "outlinewidth": 0,
              "ticks": ""
             }
            },
            "type": "scattermapbox"
           }
          ],
          "scatterpolar": [
           {
            "marker": {
             "colorbar": {
              "outlinewidth": 0,
              "ticks": ""
             }
            },
            "type": "scatterpolar"
           }
          ],
          "scatterpolargl": [
           {
            "marker": {
             "colorbar": {
              "outlinewidth": 0,
              "ticks": ""
             }
            },
            "type": "scatterpolargl"
           }
          ],
          "scatterternary": [
           {
            "marker": {
             "colorbar": {
              "outlinewidth": 0,
              "ticks": ""
             }
            },
            "type": "scatterternary"
           }
          ],
          "surface": [
           {
            "colorbar": {
             "outlinewidth": 0,
             "ticks": ""
            },
            "colorscale": [
             [
              0,
              "#0d0887"
             ],
             [
              0.1111111111111111,
              "#46039f"
             ],
             [
              0.2222222222222222,
              "#7201a8"
             ],
             [
              0.3333333333333333,
              "#9c179e"
             ],
             [
              0.4444444444444444,
              "#bd3786"
             ],
             [
              0.5555555555555556,
              "#d8576b"
             ],
             [
              0.6666666666666666,
              "#ed7953"
             ],
             [
              0.7777777777777778,
              "#fb9f3a"
             ],
             [
              0.8888888888888888,
              "#fdca26"
             ],
             [
              1,
              "#f0f921"
             ]
            ],
            "type": "surface"
           }
          ],
          "table": [
           {
            "cells": {
             "fill": {
              "color": "#EBF0F8"
             },
             "line": {
              "color": "white"
             }
            },
            "header": {
             "fill": {
              "color": "#C8D4E3"
             },
             "line": {
              "color": "white"
             }
            },
            "type": "table"
           }
          ]
         },
         "layout": {
          "annotationdefaults": {
           "arrowcolor": "#2a3f5f",
           "arrowhead": 0,
           "arrowwidth": 1
          },
          "autotypenumbers": "strict",
          "coloraxis": {
           "colorbar": {
            "outlinewidth": 0,
            "ticks": ""
           }
          },
          "colorscale": {
           "diverging": [
            [
             0,
             "#8e0152"
            ],
            [
             0.1,
             "#c51b7d"
            ],
            [
             0.2,
             "#de77ae"
            ],
            [
             0.3,
             "#f1b6da"
            ],
            [
             0.4,
             "#fde0ef"
            ],
            [
             0.5,
             "#f7f7f7"
            ],
            [
             0.6,
             "#e6f5d0"
            ],
            [
             0.7,
             "#b8e186"
            ],
            [
             0.8,
             "#7fbc41"
            ],
            [
             0.9,
             "#4d9221"
            ],
            [
             1,
             "#276419"
            ]
           ],
           "sequential": [
            [
             0,
             "#0d0887"
            ],
            [
             0.1111111111111111,
             "#46039f"
            ],
            [
             0.2222222222222222,
             "#7201a8"
            ],
            [
             0.3333333333333333,
             "#9c179e"
            ],
            [
             0.4444444444444444,
             "#bd3786"
            ],
            [
             0.5555555555555556,
             "#d8576b"
            ],
            [
             0.6666666666666666,
             "#ed7953"
            ],
            [
             0.7777777777777778,
             "#fb9f3a"
            ],
            [
             0.8888888888888888,
             "#fdca26"
            ],
            [
             1,
             "#f0f921"
            ]
           ],
           "sequentialminus": [
            [
             0,
             "#0d0887"
            ],
            [
             0.1111111111111111,
             "#46039f"
            ],
            [
             0.2222222222222222,
             "#7201a8"
            ],
            [
             0.3333333333333333,
             "#9c179e"
            ],
            [
             0.4444444444444444,
             "#bd3786"
            ],
            [
             0.5555555555555556,
             "#d8576b"
            ],
            [
             0.6666666666666666,
             "#ed7953"
            ],
            [
             0.7777777777777778,
             "#fb9f3a"
            ],
            [
             0.8888888888888888,
             "#fdca26"
            ],
            [
             1,
             "#f0f921"
            ]
           ]
          },
          "colorway": [
           "#636efa",
           "#EF553B",
           "#00cc96",
           "#ab63fa",
           "#FFA15A",
           "#19d3f3",
           "#FF6692",
           "#B6E880",
           "#FF97FF",
           "#FECB52"
          ],
          "font": {
           "color": "#2a3f5f"
          },
          "geo": {
           "bgcolor": "white",
           "lakecolor": "white",
           "landcolor": "#E5ECF6",
           "showlakes": true,
           "showland": true,
           "subunitcolor": "white"
          },
          "hoverlabel": {
           "align": "left"
          },
          "hovermode": "closest",
          "mapbox": {
           "style": "light"
          },
          "paper_bgcolor": "white",
          "plot_bgcolor": "#E5ECF6",
          "polar": {
           "angularaxis": {
            "gridcolor": "white",
            "linecolor": "white",
            "ticks": ""
           },
           "bgcolor": "#E5ECF6",
           "radialaxis": {
            "gridcolor": "white",
            "linecolor": "white",
            "ticks": ""
           }
          },
          "scene": {
           "xaxis": {
            "backgroundcolor": "#E5ECF6",
            "gridcolor": "white",
            "gridwidth": 2,
            "linecolor": "white",
            "showbackground": true,
            "ticks": "",
            "zerolinecolor": "white"
           },
           "yaxis": {
            "backgroundcolor": "#E5ECF6",
            "gridcolor": "white",
            "gridwidth": 2,
            "linecolor": "white",
            "showbackground": true,
            "ticks": "",
            "zerolinecolor": "white"
           },
           "zaxis": {
            "backgroundcolor": "#E5ECF6",
            "gridcolor": "white",
            "gridwidth": 2,
            "linecolor": "white",
            "showbackground": true,
            "ticks": "",
            "zerolinecolor": "white"
           }
          },
          "shapedefaults": {
           "line": {
            "color": "#2a3f5f"
           }
          },
          "ternary": {
           "aaxis": {
            "gridcolor": "white",
            "linecolor": "white",
            "ticks": ""
           },
           "baxis": {
            "gridcolor": "white",
            "linecolor": "white",
            "ticks": ""
           },
           "bgcolor": "#E5ECF6",
           "caxis": {
            "gridcolor": "white",
            "linecolor": "white",
            "ticks": ""
           }
          },
          "title": {
           "x": 0.05
          },
          "xaxis": {
           "automargin": true,
           "gridcolor": "white",
           "linecolor": "white",
           "ticks": "",
           "title": {
            "standoff": 15
           },
           "zerolinecolor": "white",
           "zerolinewidth": 2
          },
          "yaxis": {
           "automargin": true,
           "gridcolor": "white",
           "linecolor": "white",
           "ticks": "",
           "title": {
            "standoff": 15
           },
           "zerolinecolor": "white",
           "zerolinewidth": 2
          }
         }
        },
        "title": {
         "text": "1000 draws from the Sampling Distribution of the \"Proportion of Red\" (for a sample of size n=100 spins)"
        },
        "xaxis": {
         "anchor": "y",
         "domain": [
          0,
          1
         ],
         "title": {
          "text": "Proportion of spins that are Red"
         }
        },
        "yaxis": {
         "anchor": "x",
         "domain": [
          0,
          1
         ],
         "title": {
          "text": "count"
         }
        }
       }
      },
      "text/html": [
       "<div>                            <div id=\"e6db7877-2a02-420b-8193-54fb9d1c482b\" class=\"plotly-graph-div\" style=\"height:525px; width:100%;\"></div>            <script type=\"text/javascript\">                require([\"plotly\"], function(Plotly) {                    window.PLOTLYENV=window.PLOTLYENV || {};                                    if (document.getElementById(\"e6db7877-2a02-420b-8193-54fb9d1c482b\")) {                    Plotly.newPlot(                        \"e6db7877-2a02-420b-8193-54fb9d1c482b\",                        [{\"alignmentgroup\":\"True\",\"bingroup\":\"x\",\"hovertemplate\":\"Proportion of spins that are Red=%{x}\\u003cbr\\u003ecount=%{y}\\u003cextra\\u003e\\u003c\\u002fextra\\u003e\",\"legendgroup\":\"\",\"marker\":{\"color\":\"#636efa\",\"pattern\":{\"shape\":\"\"}},\"name\":\"\",\"offsetgroup\":\"\",\"orientation\":\"v\",\"showlegend\":false,\"x\":[0.51,0.46,0.42,0.45,0.51,0.53,0.48,0.5,0.53,0.55,0.46,0.48,0.54,0.43,0.55,0.47,0.43,0.43,0.43,0.49,0.57,0.54,0.43,0.52,0.58,0.57,0.49,0.52,0.49,0.52,0.46,0.48,0.48,0.46,0.55,0.53,0.56,0.49,0.36,0.49,0.49,0.55,0.5,0.56,0.63,0.5,0.5,0.41,0.53,0.44,0.52,0.38,0.53,0.47,0.42,0.49,0.42,0.45,0.48,0.45,0.44,0.46,0.54,0.49,0.57,0.57,0.55,0.53,0.52,0.53,0.47,0.6,0.45,0.48,0.62,0.55,0.52,0.49,0.51,0.39,0.57,0.49,0.46,0.53,0.5,0.51,0.68,0.48,0.53,0.48,0.56,0.47,0.57,0.54,0.5,0.5,0.45,0.51,0.38,0.45,0.45,0.53,0.4,0.49,0.55,0.5,0.43,0.54,0.44,0.44,0.52,0.6,0.49,0.46,0.5,0.46,0.56,0.45,0.46,0.4,0.5,0.54,0.45,0.57,0.5,0.55,0.53,0.52,0.43,0.42,0.52,0.39,0.52,0.52,0.53,0.45,0.48,0.56,0.39,0.54,0.42,0.47,0.59,0.46,0.46,0.47,0.51,0.48,0.62,0.49,0.45,0.46,0.45,0.51,0.46,0.5,0.56,0.37,0.52,0.41,0.43,0.58,0.59,0.54,0.59,0.56,0.5,0.51,0.49,0.49,0.41,0.44,0.51,0.48,0.53,0.48,0.56,0.48,0.4,0.5,0.48,0.53,0.58,0.45,0.45,0.51,0.42,0.49,0.44,0.46,0.45,0.47,0.4,0.52,0.45,0.53,0.45,0.52,0.54,0.49,0.5,0.58,0.58,0.45,0.51,0.47,0.54,0.54,0.49,0.45,0.43,0.5,0.46,0.53,0.46,0.54,0.55,0.47,0.49,0.45,0.37,0.52,0.44,0.59,0.52,0.59,0.44,0.54,0.51,0.51,0.52,0.48,0.59,0.52,0.51,0.59,0.46,0.43,0.46,0.46,0.53,0.6,0.44,0.48,0.5,0.55,0.47,0.5,0.46,0.54,0.53,0.5,0.55,0.48,0.53,0.41,0.52,0.52,0.53,0.54,0.57,0.57,0.57,0.46,0.5,0.52,0.52,0.54,0.58,0.55,0.58,0.48,0.46,0.49,0.54,0.47,0.46,0.47,0.53,0.49,0.51,0.53,0.53,0.42,0.51,0.56,0.48,0.42,0.43,0.6,0.49,0.54,0.55,0.5,0.57,0.49,0.5,0.5,0.51,0.52,0.51,0.46,0.44,0.41,0.44,0.49,0.45,0.48,0.44,0.5,0.56,0.57,0.55,0.48,0.55,0.5,0.46,0.55,0.5,0.52,0.46,0.45,0.54,0.45,0.46,0.51,0.57,0.44,0.5,0.58,0.46,0.61,0.39,0.54,0.52,0.46,0.51,0.53,0.58,0.42,0.54,0.47,0.52,0.52,0.46,0.57,0.49,0.44,0.49,0.48,0.53,0.58,0.5,0.57,0.49,0.5,0.57,0.54,0.49,0.59,0.44,0.45,0.52,0.57,0.46,0.52,0.47,0.49,0.55,0.54,0.51,0.58,0.55,0.53,0.54,0.49,0.58,0.5,0.53,0.53,0.6,0.55,0.45,0.54,0.48,0.54,0.53,0.44,0.51,0.5,0.49,0.5,0.43,0.47,0.46,0.47,0.44,0.45,0.46,0.48,0.54,0.54,0.45,0.45,0.41,0.49,0.57,0.53,0.54,0.47,0.58,0.47,0.54,0.53,0.5,0.49,0.47,0.52,0.55,0.5,0.47,0.51,0.43,0.49,0.48,0.63,0.51,0.42,0.48,0.51,0.44,0.46,0.49,0.42,0.48,0.49,0.43,0.5,0.49,0.47,0.45,0.49,0.53,0.5,0.49,0.42,0.54,0.45,0.59,0.43,0.52,0.43,0.58,0.42,0.54,0.57,0.44,0.47,0.49,0.47,0.44,0.5,0.53,0.57,0.49,0.45,0.54,0.54,0.46,0.44,0.44,0.53,0.53,0.43,0.43,0.34,0.42,0.55,0.44,0.55,0.48,0.5,0.58,0.61,0.45,0.51,0.64,0.42,0.58,0.49,0.39,0.57,0.46,0.47,0.56,0.54,0.48,0.56,0.52,0.52,0.49,0.51,0.54,0.49,0.46,0.51,0.56,0.42,0.36,0.51,0.51,0.42,0.51,0.52,0.5,0.45,0.52,0.49,0.5,0.56,0.45,0.56,0.38,0.48,0.53,0.49,0.57,0.53,0.58,0.44,0.56,0.52,0.56,0.55,0.5,0.4,0.53,0.52,0.53,0.51,0.51,0.49,0.5,0.48,0.5,0.5,0.41,0.36,0.49,0.53,0.53,0.56,0.49,0.54,0.58,0.53,0.48,0.45,0.47,0.46,0.42,0.46,0.6,0.44,0.6,0.48,0.54,0.47,0.5,0.39,0.47,0.53,0.54,0.48,0.47,0.5,0.55,0.51,0.44,0.55,0.55,0.59,0.52,0.47,0.53,0.53,0.5,0.45,0.51,0.54,0.54,0.49,0.48,0.45,0.55,0.57,0.47,0.51,0.51,0.51,0.5,0.45,0.5,0.44,0.5,0.55,0.53,0.44,0.51,0.5,0.53,0.42,0.53,0.49,0.48,0.49,0.55,0.43,0.4,0.49,0.57,0.62,0.54,0.53,0.54,0.58,0.49,0.52,0.46,0.44,0.51,0.5,0.49,0.47,0.49,0.44,0.48,0.46,0.41,0.54,0.52,0.45,0.52,0.51,0.57,0.56,0.42,0.45,0.47,0.49,0.53,0.57,0.55,0.51,0.5,0.57,0.42,0.45,0.5,0.54,0.48,0.43,0.47,0.54,0.54,0.43,0.55,0.44,0.46,0.49,0.51,0.52,0.54,0.58,0.6,0.47,0.46,0.56,0.37,0.51,0.57,0.46,0.45,0.57,0.49,0.45,0.5,0.51,0.43,0.53,0.41,0.46,0.47,0.52,0.49,0.55,0.56,0.52,0.57,0.51,0.51,0.52,0.41,0.56,0.51,0.45,0.53,0.53,0.45,0.49,0.43,0.41,0.45,0.52,0.46,0.5,0.5,0.46,0.44,0.56,0.44,0.47,0.54,0.51,0.45,0.44,0.51,0.48,0.58,0.55,0.5,0.48,0.54,0.48,0.51,0.54,0.55,0.49,0.34,0.49,0.44,0.43,0.51,0.49,0.48,0.5,0.54,0.48,0.53,0.57,0.48,0.62,0.46,0.53,0.5,0.45,0.47,0.45,0.45,0.49,0.45,0.55,0.57,0.46,0.51,0.47,0.5,0.52,0.51,0.61,0.5,0.48,0.55,0.45,0.54,0.5,0.53,0.56,0.44,0.52,0.56,0.51,0.49,0.52,0.52,0.47,0.51,0.57,0.52,0.44,0.57,0.49,0.56,0.51,0.56,0.55,0.42,0.52,0.49,0.52,0.53,0.44,0.52,0.49,0.44,0.6,0.45,0.54,0.47,0.61,0.5,0.44,0.44,0.51,0.59,0.52,0.5,0.53,0.54,0.61,0.47,0.51,0.53,0.42,0.45,0.48,0.46,0.44,0.64,0.56,0.58,0.45,0.59,0.53,0.53,0.45,0.6,0.4,0.44,0.56,0.57,0.52,0.42,0.46,0.46,0.48,0.5,0.48,0.51,0.48,0.51,0.59,0.51,0.49,0.46,0.47,0.5,0.48,0.54,0.5,0.5,0.45,0.53,0.53,0.41,0.46,0.55,0.57,0.63,0.56,0.62,0.45,0.56,0.52,0.51,0.45,0.57,0.53,0.4,0.57,0.57,0.46,0.54,0.52,0.42,0.53,0.51,0.56,0.5,0.5,0.51,0.44,0.46,0.5,0.53,0.52,0.54,0.47,0.43,0.45,0.48,0.49,0.51,0.44,0.45,0.45,0.55,0.46,0.52,0.62,0.45,0.56,0.47,0.51,0.47,0.53,0.51,0.52,0.54,0.46,0.54,0.55,0.39,0.47,0.52,0.45,0.48,0.52,0.57,0.47,0.59,0.42,0.43,0.59,0.62,0.49,0.5,0.58,0.49,0.5,0.55,0.48,0.51,0.54,0.6,0.47,0.5,0.43,0.49,0.49,0.55,0.47,0.5,0.5,0.44,0.5,0.51,0.53,0.53,0.57,0.51,0.51,0.54,0.54,0.43,0.49,0.52,0.5,0.49,0.52,0.43,0.54,0.47,0.5,0.48,0.51,0.4,0.5,0.54,0.54,0.49,0.52,0.53,0.44,0.6,0.52,0.47,0.44,0.49,0.54,0.51,0.49,0.53,0.52,0.49,0.44,0.49,0.4,0.48,0.51],\"xaxis\":\"x\",\"yaxis\":\"y\",\"type\":\"histogram\"}],                        {\"template\":{\"data\":{\"histogram2dcontour\":[{\"type\":\"histogram2dcontour\",\"colorbar\":{\"outlinewidth\":0,\"ticks\":\"\"},\"colorscale\":[[0.0,\"#0d0887\"],[0.1111111111111111,\"#46039f\"],[0.2222222222222222,\"#7201a8\"],[0.3333333333333333,\"#9c179e\"],[0.4444444444444444,\"#bd3786\"],[0.5555555555555556,\"#d8576b\"],[0.6666666666666666,\"#ed7953\"],[0.7777777777777778,\"#fb9f3a\"],[0.8888888888888888,\"#fdca26\"],[1.0,\"#f0f921\"]]}],\"choropleth\":[{\"type\":\"choropleth\",\"colorbar\":{\"outlinewidth\":0,\"ticks\":\"\"}}],\"histogram2d\":[{\"type\":\"histogram2d\",\"colorbar\":{\"outlinewidth\":0,\"ticks\":\"\"},\"colorscale\":[[0.0,\"#0d0887\"],[0.1111111111111111,\"#46039f\"],[0.2222222222222222,\"#7201a8\"],[0.3333333333333333,\"#9c179e\"],[0.4444444444444444,\"#bd3786\"],[0.5555555555555556,\"#d8576b\"],[0.6666666666666666,\"#ed7953\"],[0.7777777777777778,\"#fb9f3a\"],[0.8888888888888888,\"#fdca26\"],[1.0,\"#f0f921\"]]}],\"heatmap\":[{\"type\":\"heatmap\",\"colorbar\":{\"outlinewidth\":0,\"ticks\":\"\"},\"colorscale\":[[0.0,\"#0d0887\"],[0.1111111111111111,\"#46039f\"],[0.2222222222222222,\"#7201a8\"],[0.3333333333333333,\"#9c179e\"],[0.4444444444444444,\"#bd3786\"],[0.5555555555555556,\"#d8576b\"],[0.6666666666666666,\"#ed7953\"],[0.7777777777777778,\"#fb9f3a\"],[0.8888888888888888,\"#fdca26\"],[1.0,\"#f0f921\"]]}],\"heatmapgl\":[{\"type\":\"heatmapgl\",\"colorbar\":{\"outlinewidth\":0,\"ticks\":\"\"},\"colorscale\":[[0.0,\"#0d0887\"],[0.1111111111111111,\"#46039f\"],[0.2222222222222222,\"#7201a8\"],[0.3333333333333333,\"#9c179e\"],[0.4444444444444444,\"#bd3786\"],[0.5555555555555556,\"#d8576b\"],[0.6666666666666666,\"#ed7953\"],[0.7777777777777778,\"#fb9f3a\"],[0.8888888888888888,\"#fdca26\"],[1.0,\"#f0f921\"]]}],\"contourcarpet\":[{\"type\":\"contourcarpet\",\"colorbar\":{\"outlinewidth\":0,\"ticks\":\"\"}}],\"contour\":[{\"type\":\"contour\",\"colorbar\":{\"outlinewidth\":0,\"ticks\":\"\"},\"colorscale\":[[0.0,\"#0d0887\"],[0.1111111111111111,\"#46039f\"],[0.2222222222222222,\"#7201a8\"],[0.3333333333333333,\"#9c179e\"],[0.4444444444444444,\"#bd3786\"],[0.5555555555555556,\"#d8576b\"],[0.6666666666666666,\"#ed7953\"],[0.7777777777777778,\"#fb9f3a\"],[0.8888888888888888,\"#fdca26\"],[1.0,\"#f0f921\"]]}],\"surface\":[{\"type\":\"surface\",\"colorbar\":{\"outlinewidth\":0,\"ticks\":\"\"},\"colorscale\":[[0.0,\"#0d0887\"],[0.1111111111111111,\"#46039f\"],[0.2222222222222222,\"#7201a8\"],[0.3333333333333333,\"#9c179e\"],[0.4444444444444444,\"#bd3786\"],[0.5555555555555556,\"#d8576b\"],[0.6666666666666666,\"#ed7953\"],[0.7777777777777778,\"#fb9f3a\"],[0.8888888888888888,\"#fdca26\"],[1.0,\"#f0f921\"]]}],\"mesh3d\":[{\"type\":\"mesh3d\",\"colorbar\":{\"outlinewidth\":0,\"ticks\":\"\"}}],\"scatter\":[{\"fillpattern\":{\"fillmode\":\"overlay\",\"size\":10,\"solidity\":0.2},\"type\":\"scatter\"}],\"parcoords\":[{\"type\":\"parcoords\",\"line\":{\"colorbar\":{\"outlinewidth\":0,\"ticks\":\"\"}}}],\"scatterpolargl\":[{\"type\":\"scatterpolargl\",\"marker\":{\"colorbar\":{\"outlinewidth\":0,\"ticks\":\"\"}}}],\"bar\":[{\"error_x\":{\"color\":\"#2a3f5f\"},\"error_y\":{\"color\":\"#2a3f5f\"},\"marker\":{\"line\":{\"color\":\"#E5ECF6\",\"width\":0.5},\"pattern\":{\"fillmode\":\"overlay\",\"size\":10,\"solidity\":0.2}},\"type\":\"bar\"}],\"scattergeo\":[{\"type\":\"scattergeo\",\"marker\":{\"colorbar\":{\"outlinewidth\":0,\"ticks\":\"\"}}}],\"scatterpolar\":[{\"type\":\"scatterpolar\",\"marker\":{\"colorbar\":{\"outlinewidth\":0,\"ticks\":\"\"}}}],\"histogram\":[{\"marker\":{\"pattern\":{\"fillmode\":\"overlay\",\"size\":10,\"solidity\":0.2}},\"type\":\"histogram\"}],\"scattergl\":[{\"type\":\"scattergl\",\"marker\":{\"colorbar\":{\"outlinewidth\":0,\"ticks\":\"\"}}}],\"scatter3d\":[{\"type\":\"scatter3d\",\"line\":{\"colorbar\":{\"outlinewidth\":0,\"ticks\":\"\"}},\"marker\":{\"colorbar\":{\"outlinewidth\":0,\"ticks\":\"\"}}}],\"scattermapbox\":[{\"type\":\"scattermapbox\",\"marker\":{\"colorbar\":{\"outlinewidth\":0,\"ticks\":\"\"}}}],\"scatterternary\":[{\"type\":\"scatterternary\",\"marker\":{\"colorbar\":{\"outlinewidth\":0,\"ticks\":\"\"}}}],\"scattercarpet\":[{\"type\":\"scattercarpet\",\"marker\":{\"colorbar\":{\"outlinewidth\":0,\"ticks\":\"\"}}}],\"carpet\":[{\"aaxis\":{\"endlinecolor\":\"#2a3f5f\",\"gridcolor\":\"white\",\"linecolor\":\"white\",\"minorgridcolor\":\"white\",\"startlinecolor\":\"#2a3f5f\"},\"baxis\":{\"endlinecolor\":\"#2a3f5f\",\"gridcolor\":\"white\",\"linecolor\":\"white\",\"minorgridcolor\":\"white\",\"startlinecolor\":\"#2a3f5f\"},\"type\":\"carpet\"}],\"table\":[{\"cells\":{\"fill\":{\"color\":\"#EBF0F8\"},\"line\":{\"color\":\"white\"}},\"header\":{\"fill\":{\"color\":\"#C8D4E3\"},\"line\":{\"color\":\"white\"}},\"type\":\"table\"}],\"barpolar\":[{\"marker\":{\"line\":{\"color\":\"#E5ECF6\",\"width\":0.5},\"pattern\":{\"fillmode\":\"overlay\",\"size\":10,\"solidity\":0.2}},\"type\":\"barpolar\"}],\"pie\":[{\"automargin\":true,\"type\":\"pie\"}]},\"layout\":{\"autotypenumbers\":\"strict\",\"colorway\":[\"#636efa\",\"#EF553B\",\"#00cc96\",\"#ab63fa\",\"#FFA15A\",\"#19d3f3\",\"#FF6692\",\"#B6E880\",\"#FF97FF\",\"#FECB52\"],\"font\":{\"color\":\"#2a3f5f\"},\"hovermode\":\"closest\",\"hoverlabel\":{\"align\":\"left\"},\"paper_bgcolor\":\"white\",\"plot_bgcolor\":\"#E5ECF6\",\"polar\":{\"bgcolor\":\"#E5ECF6\",\"angularaxis\":{\"gridcolor\":\"white\",\"linecolor\":\"white\",\"ticks\":\"\"},\"radialaxis\":{\"gridcolor\":\"white\",\"linecolor\":\"white\",\"ticks\":\"\"}},\"ternary\":{\"bgcolor\":\"#E5ECF6\",\"aaxis\":{\"gridcolor\":\"white\",\"linecolor\":\"white\",\"ticks\":\"\"},\"baxis\":{\"gridcolor\":\"white\",\"linecolor\":\"white\",\"ticks\":\"\"},\"caxis\":{\"gridcolor\":\"white\",\"linecolor\":\"white\",\"ticks\":\"\"}},\"coloraxis\":{\"colorbar\":{\"outlinewidth\":0,\"ticks\":\"\"}},\"colorscale\":{\"sequential\":[[0.0,\"#0d0887\"],[0.1111111111111111,\"#46039f\"],[0.2222222222222222,\"#7201a8\"],[0.3333333333333333,\"#9c179e\"],[0.4444444444444444,\"#bd3786\"],[0.5555555555555556,\"#d8576b\"],[0.6666666666666666,\"#ed7953\"],[0.7777777777777778,\"#fb9f3a\"],[0.8888888888888888,\"#fdca26\"],[1.0,\"#f0f921\"]],\"sequentialminus\":[[0.0,\"#0d0887\"],[0.1111111111111111,\"#46039f\"],[0.2222222222222222,\"#7201a8\"],[0.3333333333333333,\"#9c179e\"],[0.4444444444444444,\"#bd3786\"],[0.5555555555555556,\"#d8576b\"],[0.6666666666666666,\"#ed7953\"],[0.7777777777777778,\"#fb9f3a\"],[0.8888888888888888,\"#fdca26\"],[1.0,\"#f0f921\"]],\"diverging\":[[0,\"#8e0152\"],[0.1,\"#c51b7d\"],[0.2,\"#de77ae\"],[0.3,\"#f1b6da\"],[0.4,\"#fde0ef\"],[0.5,\"#f7f7f7\"],[0.6,\"#e6f5d0\"],[0.7,\"#b8e186\"],[0.8,\"#7fbc41\"],[0.9,\"#4d9221\"],[1,\"#276419\"]]},\"xaxis\":{\"gridcolor\":\"white\",\"linecolor\":\"white\",\"ticks\":\"\",\"title\":{\"standoff\":15},\"zerolinecolor\":\"white\",\"automargin\":true,\"zerolinewidth\":2},\"yaxis\":{\"gridcolor\":\"white\",\"linecolor\":\"white\",\"ticks\":\"\",\"title\":{\"standoff\":15},\"zerolinecolor\":\"white\",\"automargin\":true,\"zerolinewidth\":2},\"scene\":{\"xaxis\":{\"backgroundcolor\":\"#E5ECF6\",\"gridcolor\":\"white\",\"linecolor\":\"white\",\"showbackground\":true,\"ticks\":\"\",\"zerolinecolor\":\"white\",\"gridwidth\":2},\"yaxis\":{\"backgroundcolor\":\"#E5ECF6\",\"gridcolor\":\"white\",\"linecolor\":\"white\",\"showbackground\":true,\"ticks\":\"\",\"zerolinecolor\":\"white\",\"gridwidth\":2},\"zaxis\":{\"backgroundcolor\":\"#E5ECF6\",\"gridcolor\":\"white\",\"linecolor\":\"white\",\"showbackground\":true,\"ticks\":\"\",\"zerolinecolor\":\"white\",\"gridwidth\":2}},\"shapedefaults\":{\"line\":{\"color\":\"#2a3f5f\"}},\"annotationdefaults\":{\"arrowcolor\":\"#2a3f5f\",\"arrowhead\":0,\"arrowwidth\":1},\"geo\":{\"bgcolor\":\"white\",\"landcolor\":\"#E5ECF6\",\"subunitcolor\":\"white\",\"showland\":true,\"showlakes\":true,\"lakecolor\":\"white\"},\"title\":{\"x\":0.05},\"mapbox\":{\"style\":\"light\"}}},\"xaxis\":{\"anchor\":\"y\",\"domain\":[0.0,1.0],\"title\":{\"text\":\"Proportion of spins that are Red\"}},\"yaxis\":{\"anchor\":\"x\",\"domain\":[0.0,1.0],\"title\":{\"text\":\"count\"}},\"legend\":{\"tracegroupgap\":0},\"title\":{\"text\":\"1000 draws from the Sampling Distribution of the \\\"Proportion of Red\\\" (for a sample of size n=100 spins)\"},\"barmode\":\"relative\"},                        {\"responsive\": true}                    ).then(function(){\n",
       "                            \n",
       "var gd = document.getElementById('e6db7877-2a02-420b-8193-54fb9d1c482b');\n",
       "var x = new MutationObserver(function (mutations, observer) {{\n",
       "        var display = window.getComputedStyle(gd).display;\n",
       "        if (!display || display === 'none') {{\n",
       "            console.log([gd, 'removed!']);\n",
       "            Plotly.purge(gd);\n",
       "            observer.disconnect();\n",
       "        }}\n",
       "}});\n",
       "\n",
       "// Listen for the removal of the full notebook cells\n",
       "var notebookContainer = gd.closest('#notebook-container');\n",
       "if (notebookContainer) {{\n",
       "    x.observe(notebookContainer, {childList: true});\n",
       "}}\n",
       "\n",
       "// Listen for the clearing of the current output cell\n",
       "var outputEl = gd.closest('.output');\n",
       "if (outputEl) {{\n",
       "    x.observe(outputEl, {childList: true});\n",
       "}}\n",
       "\n",
       "                        })                };                });            </script>        </div>"
      ]
     },
     "metadata": {},
     "output_type": "display_data"
    }
   ],
   "source": [
    "import pandas as pd; import plotly.express as px; import numpy as np\n",
    "num_samples,sample_size = 1000,100  # What are each of these? Do the choices here change results? \n",
    "simulated_sample_proportions = []\n",
    "np.random.seed(seed=1)\n",
    "for i in range(num_samples):\n",
    "    sample = np.random.choice(['Red', 'Black'], size=sample_size, p=[0.5, 0.5], replace=True)\n",
    "    simulated_sample_proportions += [(sample == 'Red').sum() / sample_size]\n",
    "fig = px.histogram(pd.DataFrame({'Proportion of spins that are Red': simulated_sample_proportions}), x='Proportion of spins that are Red', \n",
    "             title=str(num_samples)+' draws from the Sampling Distribution of the \"Proportion of Red\" (for a sample of size n='+str(sample_size)+' spins)'); fig.show()"
   ]
  },
  {
   "cell_type": "markdown",
   "metadata": {
    "slideshow": {
     "slide_type": "slide"
    }
   },
   "source": [
    "### Code III: p-value and evidence against the null hypothesis (10 minutes)"
   ]
  },
  {
   "cell_type": "code",
   "execution_count": 41,
   "metadata": {},
   "outputs": [
    {
     "name": "stdout",
     "output_type": "stream",
     "text": [
      "459 out of 1000 simulated statistics were \"as or more extreme\" (relative to the Null Hypothesis\n",
      "assumed p=0.5 parameter value) than the observed test statistic of 0.54 giving us a p-value of 0.459\n"
     ]
    }
   ],
   "source": [
    "#observed_test_stat=0.54 # Are we just \"choosing\" this value? Or what where would it come from?\n",
    "num_as_or_more_extreme = \\\n",
    "  (abs(np.array(simulated_sample_proportions) - 0.5) >= abs(observed_test_stat - 0.5)).sum()\n",
    "p_value = num_as_or_more_extreme / num_samples\n",
    "print(str(num_as_or_more_extreme)+' out of ' +str(num_samples)+' simulated statistics were \"as or more extreme\" (relative to the Null Hypothesis\\nassumed p=0.5 parameter value) than the observed test statistic of ' + str(observed_test_stat) + ' giving us a p-value of ' + str(p_value))"
   ]
  },
  {
   "cell_type": "markdown",
   "metadata": {
    "slideshow": {
     "slide_type": "-"
    }
   },
   "source": [
    "| | |\n",
    "|-|-|\n",
    "|<img src=\"https://www.jcpcarchives.org/userfiles/values-of-p-Inference.jpg\" /> | [WRITE OUT CONCLUSIONS AS A CLASS FOR DIFFERENT SCENARIOS]<br>num_samples,sample_size = 1000,100; observed_test_stat=0.54<br>num_samples,sample_size = 10000,1000; observed_test_stat=0.54<br>num_samples,sample_size = 10000,1000; observed_test_stat=0.51|\n",
    "\n",
    "- Change the code on the previous slide to re-simulate the Sampling Distribution\n",
    "- See if the p-value looks approximately corrected given where the observed test statistic is relative to the simulated sampling distribution of the null hypothesis\n",
    "\n",
    "<!-- Since our p-value is more than 0.10, we have no evidence against the null hypothesis of the probability of spinning red is 0.5 -->\n"
   ]
  },
  {
   "cell_type": "markdown",
   "metadata": {
    "slideshow": {
     "slide_type": "slide"
    }
   },
   "source": [
    "#### p-values: Different Sampling Distributions (10 minutes) [Click \"down\" for the next few slides]\n",
    "\n",
    "- Compare and contrast the figures on the next three sides<br>[and don't worry about the code so much]:\n",
    "    - Simulated (**nonparametric**) Sampling Distribution\n",
    "    - Theoretical **nonparametric** Binomial Distribution \n",
    "        - Only assumption used is the $p=0.5$ parameter value assumption of the null hypothesis (and spin **independence**<br>so each spin result has no impact on future spin results)\n",
    "        - [**This \"No Distributional Assumption\" is called *nonparametric***...]\n",
    "    - Approximate **parametric** t-test (assumes Normally Distributed data)\n",
    "        - Assuming data is Normally Distributed makes this **parametric** (and the assumption here is wrong which makes it approximate) \n",
    "        - not the $p=0.5$ parameter value and **independence** assumptions\n",
    "\n",
    "*You'll examine these different Sampling Distributions again in the Tutorial Assignment!*\n"
   ]
  },
  {
   "cell_type": "code",
   "execution_count": 81,
   "metadata": {
    "slideshow": {
     "slide_type": "subslide"
    }
   },
   "outputs": [
    {
     "name": "stdout",
     "output_type": "stream",
     "text": [
      "459 out of 1000 simulated statistics were \"as or more extreme\" (relative to the Null Hypothesis\n",
      "assumed p=0.5 parameter value) than the observed test statistic of 0.54 giving us a p-value of 0.459\n"
     ]
    },
    {
     "data": {
      "application/vnd.plotly.v1+json": {
       "config": {
        "plotlyServerURL": "https://plot.ly"
       },
       "data": [
        {
         "alignmentgroup": "True",
         "bingroup": "x",
         "hovertemplate": "Proportion of spins that are Red=%{x}<br>count=%{y}<extra></extra>",
         "legendgroup": "",
         "marker": {
          "color": "#636efa",
          "pattern": {
           "shape": ""
          }
         },
         "name": "",
         "offsetgroup": "",
         "orientation": "v",
         "showlegend": false,
         "type": "histogram",
         "x": [
          0.51,
          0.46,
          0.42,
          0.45,
          0.51,
          0.53,
          0.48,
          0.5,
          0.53,
          0.55,
          0.46,
          0.48,
          0.54,
          0.43,
          0.55,
          0.47,
          0.43,
          0.43,
          0.43,
          0.49,
          0.57,
          0.54,
          0.43,
          0.52,
          0.58,
          0.57,
          0.49,
          0.52,
          0.49,
          0.52,
          0.46,
          0.48,
          0.48,
          0.46,
          0.55,
          0.53,
          0.56,
          0.49,
          0.36,
          0.49,
          0.49,
          0.55,
          0.5,
          0.56,
          0.63,
          0.5,
          0.5,
          0.41,
          0.53,
          0.44,
          0.52,
          0.38,
          0.53,
          0.47,
          0.42,
          0.49,
          0.42,
          0.45,
          0.48,
          0.45,
          0.44,
          0.46,
          0.54,
          0.49,
          0.57,
          0.57,
          0.55,
          0.53,
          0.52,
          0.53,
          0.47,
          0.6,
          0.45,
          0.48,
          0.62,
          0.55,
          0.52,
          0.49,
          0.51,
          0.39,
          0.57,
          0.49,
          0.46,
          0.53,
          0.5,
          0.51,
          0.68,
          0.48,
          0.53,
          0.48,
          0.56,
          0.47,
          0.57,
          0.54,
          0.5,
          0.5,
          0.45,
          0.51,
          0.38,
          0.45,
          0.45,
          0.53,
          0.4,
          0.49,
          0.55,
          0.5,
          0.43,
          0.54,
          0.44,
          0.44,
          0.52,
          0.6,
          0.49,
          0.46,
          0.5,
          0.46,
          0.56,
          0.45,
          0.46,
          0.4,
          0.5,
          0.54,
          0.45,
          0.57,
          0.5,
          0.55,
          0.53,
          0.52,
          0.43,
          0.42,
          0.52,
          0.39,
          0.52,
          0.52,
          0.53,
          0.45,
          0.48,
          0.56,
          0.39,
          0.54,
          0.42,
          0.47,
          0.59,
          0.46,
          0.46,
          0.47,
          0.51,
          0.48,
          0.62,
          0.49,
          0.45,
          0.46,
          0.45,
          0.51,
          0.46,
          0.5,
          0.56,
          0.37,
          0.52,
          0.41,
          0.43,
          0.58,
          0.59,
          0.54,
          0.59,
          0.56,
          0.5,
          0.51,
          0.49,
          0.49,
          0.41,
          0.44,
          0.51,
          0.48,
          0.53,
          0.48,
          0.56,
          0.48,
          0.4,
          0.5,
          0.48,
          0.53,
          0.58,
          0.45,
          0.45,
          0.51,
          0.42,
          0.49,
          0.44,
          0.46,
          0.45,
          0.47,
          0.4,
          0.52,
          0.45,
          0.53,
          0.45,
          0.52,
          0.54,
          0.49,
          0.5,
          0.58,
          0.58,
          0.45,
          0.51,
          0.47,
          0.54,
          0.54,
          0.49,
          0.45,
          0.43,
          0.5,
          0.46,
          0.53,
          0.46,
          0.54,
          0.55,
          0.47,
          0.49,
          0.45,
          0.37,
          0.52,
          0.44,
          0.59,
          0.52,
          0.59,
          0.44,
          0.54,
          0.51,
          0.51,
          0.52,
          0.48,
          0.59,
          0.52,
          0.51,
          0.59,
          0.46,
          0.43,
          0.46,
          0.46,
          0.53,
          0.6,
          0.44,
          0.48,
          0.5,
          0.55,
          0.47,
          0.5,
          0.46,
          0.54,
          0.53,
          0.5,
          0.55,
          0.48,
          0.53,
          0.41,
          0.52,
          0.52,
          0.53,
          0.54,
          0.57,
          0.57,
          0.57,
          0.46,
          0.5,
          0.52,
          0.52,
          0.54,
          0.58,
          0.55,
          0.58,
          0.48,
          0.46,
          0.49,
          0.54,
          0.47,
          0.46,
          0.47,
          0.53,
          0.49,
          0.51,
          0.53,
          0.53,
          0.42,
          0.51,
          0.56,
          0.48,
          0.42,
          0.43,
          0.6,
          0.49,
          0.54,
          0.55,
          0.5,
          0.57,
          0.49,
          0.5,
          0.5,
          0.51,
          0.52,
          0.51,
          0.46,
          0.44,
          0.41,
          0.44,
          0.49,
          0.45,
          0.48,
          0.44,
          0.5,
          0.56,
          0.57,
          0.55,
          0.48,
          0.55,
          0.5,
          0.46,
          0.55,
          0.5,
          0.52,
          0.46,
          0.45,
          0.54,
          0.45,
          0.46,
          0.51,
          0.57,
          0.44,
          0.5,
          0.58,
          0.46,
          0.61,
          0.39,
          0.54,
          0.52,
          0.46,
          0.51,
          0.53,
          0.58,
          0.42,
          0.54,
          0.47,
          0.52,
          0.52,
          0.46,
          0.57,
          0.49,
          0.44,
          0.49,
          0.48,
          0.53,
          0.58,
          0.5,
          0.57,
          0.49,
          0.5,
          0.57,
          0.54,
          0.49,
          0.59,
          0.44,
          0.45,
          0.52,
          0.57,
          0.46,
          0.52,
          0.47,
          0.49,
          0.55,
          0.54,
          0.51,
          0.58,
          0.55,
          0.53,
          0.54,
          0.49,
          0.58,
          0.5,
          0.53,
          0.53,
          0.6,
          0.55,
          0.45,
          0.54,
          0.48,
          0.54,
          0.53,
          0.44,
          0.51,
          0.5,
          0.49,
          0.5,
          0.43,
          0.47,
          0.46,
          0.47,
          0.44,
          0.45,
          0.46,
          0.48,
          0.54,
          0.54,
          0.45,
          0.45,
          0.41,
          0.49,
          0.57,
          0.53,
          0.54,
          0.47,
          0.58,
          0.47,
          0.54,
          0.53,
          0.5,
          0.49,
          0.47,
          0.52,
          0.55,
          0.5,
          0.47,
          0.51,
          0.43,
          0.49,
          0.48,
          0.63,
          0.51,
          0.42,
          0.48,
          0.51,
          0.44,
          0.46,
          0.49,
          0.42,
          0.48,
          0.49,
          0.43,
          0.5,
          0.49,
          0.47,
          0.45,
          0.49,
          0.53,
          0.5,
          0.49,
          0.42,
          0.54,
          0.45,
          0.59,
          0.43,
          0.52,
          0.43,
          0.58,
          0.42,
          0.54,
          0.57,
          0.44,
          0.47,
          0.49,
          0.47,
          0.44,
          0.5,
          0.53,
          0.57,
          0.49,
          0.45,
          0.54,
          0.54,
          0.46,
          0.44,
          0.44,
          0.53,
          0.53,
          0.43,
          0.43,
          0.34,
          0.42,
          0.55,
          0.44,
          0.55,
          0.48,
          0.5,
          0.58,
          0.61,
          0.45,
          0.51,
          0.64,
          0.42,
          0.58,
          0.49,
          0.39,
          0.57,
          0.46,
          0.47,
          0.56,
          0.54,
          0.48,
          0.56,
          0.52,
          0.52,
          0.49,
          0.51,
          0.54,
          0.49,
          0.46,
          0.51,
          0.56,
          0.42,
          0.36,
          0.51,
          0.51,
          0.42,
          0.51,
          0.52,
          0.5,
          0.45,
          0.52,
          0.49,
          0.5,
          0.56,
          0.45,
          0.56,
          0.38,
          0.48,
          0.53,
          0.49,
          0.57,
          0.53,
          0.58,
          0.44,
          0.56,
          0.52,
          0.56,
          0.55,
          0.5,
          0.4,
          0.53,
          0.52,
          0.53,
          0.51,
          0.51,
          0.49,
          0.5,
          0.48,
          0.5,
          0.5,
          0.41,
          0.36,
          0.49,
          0.53,
          0.53,
          0.56,
          0.49,
          0.54,
          0.58,
          0.53,
          0.48,
          0.45,
          0.47,
          0.46,
          0.42,
          0.46,
          0.6,
          0.44,
          0.6,
          0.48,
          0.54,
          0.47,
          0.5,
          0.39,
          0.47,
          0.53,
          0.54,
          0.48,
          0.47,
          0.5,
          0.55,
          0.51,
          0.44,
          0.55,
          0.55,
          0.59,
          0.52,
          0.47,
          0.53,
          0.53,
          0.5,
          0.45,
          0.51,
          0.54,
          0.54,
          0.49,
          0.48,
          0.45,
          0.55,
          0.57,
          0.47,
          0.51,
          0.51,
          0.51,
          0.5,
          0.45,
          0.5,
          0.44,
          0.5,
          0.55,
          0.53,
          0.44,
          0.51,
          0.5,
          0.53,
          0.42,
          0.53,
          0.49,
          0.48,
          0.49,
          0.55,
          0.43,
          0.4,
          0.49,
          0.57,
          0.62,
          0.54,
          0.53,
          0.54,
          0.58,
          0.49,
          0.52,
          0.46,
          0.44,
          0.51,
          0.5,
          0.49,
          0.47,
          0.49,
          0.44,
          0.48,
          0.46,
          0.41,
          0.54,
          0.52,
          0.45,
          0.52,
          0.51,
          0.57,
          0.56,
          0.42,
          0.45,
          0.47,
          0.49,
          0.53,
          0.57,
          0.55,
          0.51,
          0.5,
          0.57,
          0.42,
          0.45,
          0.5,
          0.54,
          0.48,
          0.43,
          0.47,
          0.54,
          0.54,
          0.43,
          0.55,
          0.44,
          0.46,
          0.49,
          0.51,
          0.52,
          0.54,
          0.58,
          0.6,
          0.47,
          0.46,
          0.56,
          0.37,
          0.51,
          0.57,
          0.46,
          0.45,
          0.57,
          0.49,
          0.45,
          0.5,
          0.51,
          0.43,
          0.53,
          0.41,
          0.46,
          0.47,
          0.52,
          0.49,
          0.55,
          0.56,
          0.52,
          0.57,
          0.51,
          0.51,
          0.52,
          0.41,
          0.56,
          0.51,
          0.45,
          0.53,
          0.53,
          0.45,
          0.49,
          0.43,
          0.41,
          0.45,
          0.52,
          0.46,
          0.5,
          0.5,
          0.46,
          0.44,
          0.56,
          0.44,
          0.47,
          0.54,
          0.51,
          0.45,
          0.44,
          0.51,
          0.48,
          0.58,
          0.55,
          0.5,
          0.48,
          0.54,
          0.48,
          0.51,
          0.54,
          0.55,
          0.49,
          0.34,
          0.49,
          0.44,
          0.43,
          0.51,
          0.49,
          0.48,
          0.5,
          0.54,
          0.48,
          0.53,
          0.57,
          0.48,
          0.62,
          0.46,
          0.53,
          0.5,
          0.45,
          0.47,
          0.45,
          0.45,
          0.49,
          0.45,
          0.55,
          0.57,
          0.46,
          0.51,
          0.47,
          0.5,
          0.52,
          0.51,
          0.61,
          0.5,
          0.48,
          0.55,
          0.45,
          0.54,
          0.5,
          0.53,
          0.56,
          0.44,
          0.52,
          0.56,
          0.51,
          0.49,
          0.52,
          0.52,
          0.47,
          0.51,
          0.57,
          0.52,
          0.44,
          0.57,
          0.49,
          0.56,
          0.51,
          0.56,
          0.55,
          0.42,
          0.52,
          0.49,
          0.52,
          0.53,
          0.44,
          0.52,
          0.49,
          0.44,
          0.6,
          0.45,
          0.54,
          0.47,
          0.61,
          0.5,
          0.44,
          0.44,
          0.51,
          0.59,
          0.52,
          0.5,
          0.53,
          0.54,
          0.61,
          0.47,
          0.51,
          0.53,
          0.42,
          0.45,
          0.48,
          0.46,
          0.44,
          0.64,
          0.56,
          0.58,
          0.45,
          0.59,
          0.53,
          0.53,
          0.45,
          0.6,
          0.4,
          0.44,
          0.56,
          0.57,
          0.52,
          0.42,
          0.46,
          0.46,
          0.48,
          0.5,
          0.48,
          0.51,
          0.48,
          0.51,
          0.59,
          0.51,
          0.49,
          0.46,
          0.47,
          0.5,
          0.48,
          0.54,
          0.5,
          0.5,
          0.45,
          0.53,
          0.53,
          0.41,
          0.46,
          0.55,
          0.57,
          0.63,
          0.56,
          0.62,
          0.45,
          0.56,
          0.52,
          0.51,
          0.45,
          0.57,
          0.53,
          0.4,
          0.57,
          0.57,
          0.46,
          0.54,
          0.52,
          0.42,
          0.53,
          0.51,
          0.56,
          0.5,
          0.5,
          0.51,
          0.44,
          0.46,
          0.5,
          0.53,
          0.52,
          0.54,
          0.47,
          0.43,
          0.45,
          0.48,
          0.49,
          0.51,
          0.44,
          0.45,
          0.45,
          0.55,
          0.46,
          0.52,
          0.62,
          0.45,
          0.56,
          0.47,
          0.51,
          0.47,
          0.53,
          0.51,
          0.52,
          0.54,
          0.46,
          0.54,
          0.55,
          0.39,
          0.47,
          0.52,
          0.45,
          0.48,
          0.52,
          0.57,
          0.47,
          0.59,
          0.42,
          0.43,
          0.59,
          0.62,
          0.49,
          0.5,
          0.58,
          0.49,
          0.5,
          0.55,
          0.48,
          0.51,
          0.54,
          0.6,
          0.47,
          0.5,
          0.43,
          0.49,
          0.49,
          0.55,
          0.47,
          0.5,
          0.5,
          0.44,
          0.5,
          0.51,
          0.53,
          0.53,
          0.57,
          0.51,
          0.51,
          0.54,
          0.54,
          0.43,
          0.49,
          0.52,
          0.5,
          0.49,
          0.52,
          0.43,
          0.54,
          0.47,
          0.5,
          0.48,
          0.51,
          0.4,
          0.5,
          0.54,
          0.54,
          0.49,
          0.52,
          0.53,
          0.44,
          0.6,
          0.52,
          0.47,
          0.44,
          0.49,
          0.54,
          0.51,
          0.49,
          0.53,
          0.52,
          0.49,
          0.44,
          0.49,
          0.4,
          0.48,
          0.51
         ],
         "xaxis": "x",
         "yaxis": "y"
        }
       ],
       "layout": {
        "annotations": [
         {
          "showarrow": false,
          "text": "observed_test_stat (0.54)",
          "x": 0.54,
          "xanchor": "left",
          "xref": "x",
          "y": 1,
          "yanchor": "top",
          "yref": "y domain"
         }
        ],
        "barmode": "relative",
        "legend": {
         "tracegroupgap": 0
        },
        "shapes": [
         {
          "line": {
           "color": "black",
           "dash": "dash"
          },
          "type": "line",
          "x0": 0.54,
          "x1": 0.54,
          "xref": "x",
          "y0": 0,
          "y1": 1,
          "yref": "y domain"
         }
        ],
        "template": {
         "data": {
          "bar": [
           {
            "error_x": {
             "color": "#2a3f5f"
            },
            "error_y": {
             "color": "#2a3f5f"
            },
            "marker": {
             "line": {
              "color": "#E5ECF6",
              "width": 0.5
             },
             "pattern": {
              "fillmode": "overlay",
              "size": 10,
              "solidity": 0.2
             }
            },
            "type": "bar"
           }
          ],
          "barpolar": [
           {
            "marker": {
             "line": {
              "color": "#E5ECF6",
              "width": 0.5
             },
             "pattern": {
              "fillmode": "overlay",
              "size": 10,
              "solidity": 0.2
             }
            },
            "type": "barpolar"
           }
          ],
          "carpet": [
           {
            "aaxis": {
             "endlinecolor": "#2a3f5f",
             "gridcolor": "white",
             "linecolor": "white",
             "minorgridcolor": "white",
             "startlinecolor": "#2a3f5f"
            },
            "baxis": {
             "endlinecolor": "#2a3f5f",
             "gridcolor": "white",
             "linecolor": "white",
             "minorgridcolor": "white",
             "startlinecolor": "#2a3f5f"
            },
            "type": "carpet"
           }
          ],
          "choropleth": [
           {
            "colorbar": {
             "outlinewidth": 0,
             "ticks": ""
            },
            "type": "choropleth"
           }
          ],
          "contour": [
           {
            "colorbar": {
             "outlinewidth": 0,
             "ticks": ""
            },
            "colorscale": [
             [
              0,
              "#0d0887"
             ],
             [
              0.1111111111111111,
              "#46039f"
             ],
             [
              0.2222222222222222,
              "#7201a8"
             ],
             [
              0.3333333333333333,
              "#9c179e"
             ],
             [
              0.4444444444444444,
              "#bd3786"
             ],
             [
              0.5555555555555556,
              "#d8576b"
             ],
             [
              0.6666666666666666,
              "#ed7953"
             ],
             [
              0.7777777777777778,
              "#fb9f3a"
             ],
             [
              0.8888888888888888,
              "#fdca26"
             ],
             [
              1,
              "#f0f921"
             ]
            ],
            "type": "contour"
           }
          ],
          "contourcarpet": [
           {
            "colorbar": {
             "outlinewidth": 0,
             "ticks": ""
            },
            "type": "contourcarpet"
           }
          ],
          "heatmap": [
           {
            "colorbar": {
             "outlinewidth": 0,
             "ticks": ""
            },
            "colorscale": [
             [
              0,
              "#0d0887"
             ],
             [
              0.1111111111111111,
              "#46039f"
             ],
             [
              0.2222222222222222,
              "#7201a8"
             ],
             [
              0.3333333333333333,
              "#9c179e"
             ],
             [
              0.4444444444444444,
              "#bd3786"
             ],
             [
              0.5555555555555556,
              "#d8576b"
             ],
             [
              0.6666666666666666,
              "#ed7953"
             ],
             [
              0.7777777777777778,
              "#fb9f3a"
             ],
             [
              0.8888888888888888,
              "#fdca26"
             ],
             [
              1,
              "#f0f921"
             ]
            ],
            "type": "heatmap"
           }
          ],
          "heatmapgl": [
           {
            "colorbar": {
             "outlinewidth": 0,
             "ticks": ""
            },
            "colorscale": [
             [
              0,
              "#0d0887"
             ],
             [
              0.1111111111111111,
              "#46039f"
             ],
             [
              0.2222222222222222,
              "#7201a8"
             ],
             [
              0.3333333333333333,
              "#9c179e"
             ],
             [
              0.4444444444444444,
              "#bd3786"
             ],
             [
              0.5555555555555556,
              "#d8576b"
             ],
             [
              0.6666666666666666,
              "#ed7953"
             ],
             [
              0.7777777777777778,
              "#fb9f3a"
             ],
             [
              0.8888888888888888,
              "#fdca26"
             ],
             [
              1,
              "#f0f921"
             ]
            ],
            "type": "heatmapgl"
           }
          ],
          "histogram": [
           {
            "marker": {
             "pattern": {
              "fillmode": "overlay",
              "size": 10,
              "solidity": 0.2
             }
            },
            "type": "histogram"
           }
          ],
          "histogram2d": [
           {
            "colorbar": {
             "outlinewidth": 0,
             "ticks": ""
            },
            "colorscale": [
             [
              0,
              "#0d0887"
             ],
             [
              0.1111111111111111,
              "#46039f"
             ],
             [
              0.2222222222222222,
              "#7201a8"
             ],
             [
              0.3333333333333333,
              "#9c179e"
             ],
             [
              0.4444444444444444,
              "#bd3786"
             ],
             [
              0.5555555555555556,
              "#d8576b"
             ],
             [
              0.6666666666666666,
              "#ed7953"
             ],
             [
              0.7777777777777778,
              "#fb9f3a"
             ],
             [
              0.8888888888888888,
              "#fdca26"
             ],
             [
              1,
              "#f0f921"
             ]
            ],
            "type": "histogram2d"
           }
          ],
          "histogram2dcontour": [
           {
            "colorbar": {
             "outlinewidth": 0,
             "ticks": ""
            },
            "colorscale": [
             [
              0,
              "#0d0887"
             ],
             [
              0.1111111111111111,
              "#46039f"
             ],
             [
              0.2222222222222222,
              "#7201a8"
             ],
             [
              0.3333333333333333,
              "#9c179e"
             ],
             [
              0.4444444444444444,
              "#bd3786"
             ],
             [
              0.5555555555555556,
              "#d8576b"
             ],
             [
              0.6666666666666666,
              "#ed7953"
             ],
             [
              0.7777777777777778,
              "#fb9f3a"
             ],
             [
              0.8888888888888888,
              "#fdca26"
             ],
             [
              1,
              "#f0f921"
             ]
            ],
            "type": "histogram2dcontour"
           }
          ],
          "mesh3d": [
           {
            "colorbar": {
             "outlinewidth": 0,
             "ticks": ""
            },
            "type": "mesh3d"
           }
          ],
          "parcoords": [
           {
            "line": {
             "colorbar": {
              "outlinewidth": 0,
              "ticks": ""
             }
            },
            "type": "parcoords"
           }
          ],
          "pie": [
           {
            "automargin": true,
            "type": "pie"
           }
          ],
          "scatter": [
           {
            "fillpattern": {
             "fillmode": "overlay",
             "size": 10,
             "solidity": 0.2
            },
            "type": "scatter"
           }
          ],
          "scatter3d": [
           {
            "line": {
             "colorbar": {
              "outlinewidth": 0,
              "ticks": ""
             }
            },
            "marker": {
             "colorbar": {
              "outlinewidth": 0,
              "ticks": ""
             }
            },
            "type": "scatter3d"
           }
          ],
          "scattercarpet": [
           {
            "marker": {
             "colorbar": {
              "outlinewidth": 0,
              "ticks": ""
             }
            },
            "type": "scattercarpet"
           }
          ],
          "scattergeo": [
           {
            "marker": {
             "colorbar": {
              "outlinewidth": 0,
              "ticks": ""
             }
            },
            "type": "scattergeo"
           }
          ],
          "scattergl": [
           {
            "marker": {
             "colorbar": {
              "outlinewidth": 0,
              "ticks": ""
             }
            },
            "type": "scattergl"
           }
          ],
          "scattermapbox": [
           {
            "marker": {
             "colorbar": {
              "outlinewidth": 0,
              "ticks": ""
             }
            },
            "type": "scattermapbox"
           }
          ],
          "scatterpolar": [
           {
            "marker": {
             "colorbar": {
              "outlinewidth": 0,
              "ticks": ""
             }
            },
            "type": "scatterpolar"
           }
          ],
          "scatterpolargl": [
           {
            "marker": {
             "colorbar": {
              "outlinewidth": 0,
              "ticks": ""
             }
            },
            "type": "scatterpolargl"
           }
          ],
          "scatterternary": [
           {
            "marker": {
             "colorbar": {
              "outlinewidth": 0,
              "ticks": ""
             }
            },
            "type": "scatterternary"
           }
          ],
          "surface": [
           {
            "colorbar": {
             "outlinewidth": 0,
             "ticks": ""
            },
            "colorscale": [
             [
              0,
              "#0d0887"
             ],
             [
              0.1111111111111111,
              "#46039f"
             ],
             [
              0.2222222222222222,
              "#7201a8"
             ],
             [
              0.3333333333333333,
              "#9c179e"
             ],
             [
              0.4444444444444444,
              "#bd3786"
             ],
             [
              0.5555555555555556,
              "#d8576b"
             ],
             [
              0.6666666666666666,
              "#ed7953"
             ],
             [
              0.7777777777777778,
              "#fb9f3a"
             ],
             [
              0.8888888888888888,
              "#fdca26"
             ],
             [
              1,
              "#f0f921"
             ]
            ],
            "type": "surface"
           }
          ],
          "table": [
           {
            "cells": {
             "fill": {
              "color": "#EBF0F8"
             },
             "line": {
              "color": "white"
             }
            },
            "header": {
             "fill": {
              "color": "#C8D4E3"
             },
             "line": {
              "color": "white"
             }
            },
            "type": "table"
           }
          ]
         },
         "layout": {
          "annotationdefaults": {
           "arrowcolor": "#2a3f5f",
           "arrowhead": 0,
           "arrowwidth": 1
          },
          "autotypenumbers": "strict",
          "coloraxis": {
           "colorbar": {
            "outlinewidth": 0,
            "ticks": ""
           }
          },
          "colorscale": {
           "diverging": [
            [
             0,
             "#8e0152"
            ],
            [
             0.1,
             "#c51b7d"
            ],
            [
             0.2,
             "#de77ae"
            ],
            [
             0.3,
             "#f1b6da"
            ],
            [
             0.4,
             "#fde0ef"
            ],
            [
             0.5,
             "#f7f7f7"
            ],
            [
             0.6,
             "#e6f5d0"
            ],
            [
             0.7,
             "#b8e186"
            ],
            [
             0.8,
             "#7fbc41"
            ],
            [
             0.9,
             "#4d9221"
            ],
            [
             1,
             "#276419"
            ]
           ],
           "sequential": [
            [
             0,
             "#0d0887"
            ],
            [
             0.1111111111111111,
             "#46039f"
            ],
            [
             0.2222222222222222,
             "#7201a8"
            ],
            [
             0.3333333333333333,
             "#9c179e"
            ],
            [
             0.4444444444444444,
             "#bd3786"
            ],
            [
             0.5555555555555556,
             "#d8576b"
            ],
            [
             0.6666666666666666,
             "#ed7953"
            ],
            [
             0.7777777777777778,
             "#fb9f3a"
            ],
            [
             0.8888888888888888,
             "#fdca26"
            ],
            [
             1,
             "#f0f921"
            ]
           ],
           "sequentialminus": [
            [
             0,
             "#0d0887"
            ],
            [
             0.1111111111111111,
             "#46039f"
            ],
            [
             0.2222222222222222,
             "#7201a8"
            ],
            [
             0.3333333333333333,
             "#9c179e"
            ],
            [
             0.4444444444444444,
             "#bd3786"
            ],
            [
             0.5555555555555556,
             "#d8576b"
            ],
            [
             0.6666666666666666,
             "#ed7953"
            ],
            [
             0.7777777777777778,
             "#fb9f3a"
            ],
            [
             0.8888888888888888,
             "#fdca26"
            ],
            [
             1,
             "#f0f921"
            ]
           ]
          },
          "colorway": [
           "#636efa",
           "#EF553B",
           "#00cc96",
           "#ab63fa",
           "#FFA15A",
           "#19d3f3",
           "#FF6692",
           "#B6E880",
           "#FF97FF",
           "#FECB52"
          ],
          "font": {
           "color": "#2a3f5f"
          },
          "geo": {
           "bgcolor": "white",
           "lakecolor": "white",
           "landcolor": "#E5ECF6",
           "showlakes": true,
           "showland": true,
           "subunitcolor": "white"
          },
          "hoverlabel": {
           "align": "left"
          },
          "hovermode": "closest",
          "mapbox": {
           "style": "light"
          },
          "paper_bgcolor": "white",
          "plot_bgcolor": "#E5ECF6",
          "polar": {
           "angularaxis": {
            "gridcolor": "white",
            "linecolor": "white",
            "ticks": ""
           },
           "bgcolor": "#E5ECF6",
           "radialaxis": {
            "gridcolor": "white",
            "linecolor": "white",
            "ticks": ""
           }
          },
          "scene": {
           "xaxis": {
            "backgroundcolor": "#E5ECF6",
            "gridcolor": "white",
            "gridwidth": 2,
            "linecolor": "white",
            "showbackground": true,
            "ticks": "",
            "zerolinecolor": "white"
           },
           "yaxis": {
            "backgroundcolor": "#E5ECF6",
            "gridcolor": "white",
            "gridwidth": 2,
            "linecolor": "white",
            "showbackground": true,
            "ticks": "",
            "zerolinecolor": "white"
           },
           "zaxis": {
            "backgroundcolor": "#E5ECF6",
            "gridcolor": "white",
            "gridwidth": 2,
            "linecolor": "white",
            "showbackground": true,
            "ticks": "",
            "zerolinecolor": "white"
           }
          },
          "shapedefaults": {
           "line": {
            "color": "#2a3f5f"
           }
          },
          "ternary": {
           "aaxis": {
            "gridcolor": "white",
            "linecolor": "white",
            "ticks": ""
           },
           "baxis": {
            "gridcolor": "white",
            "linecolor": "white",
            "ticks": ""
           },
           "bgcolor": "#E5ECF6",
           "caxis": {
            "gridcolor": "white",
            "linecolor": "white",
            "ticks": ""
           }
          },
          "title": {
           "x": 0.05
          },
          "xaxis": {
           "automargin": true,
           "gridcolor": "white",
           "linecolor": "white",
           "ticks": "",
           "title": {
            "standoff": 15
           },
           "zerolinecolor": "white",
           "zerolinewidth": 2
          },
          "yaxis": {
           "automargin": true,
           "gridcolor": "white",
           "linecolor": "white",
           "ticks": "",
           "title": {
            "standoff": 15
           },
           "zerolinecolor": "white",
           "zerolinewidth": 2
          }
         }
        },
        "title": {
         "text": "1000 draws from the Sampling Distribution of the \"Proportion of Red\" (for a sample of size n=100 spins)"
        },
        "xaxis": {
         "anchor": "y",
         "domain": [
          0,
          1
         ],
         "title": {
          "text": "Proportion of spins that are Red"
         }
        },
        "yaxis": {
         "anchor": "x",
         "domain": [
          0,
          1
         ],
         "title": {
          "text": "count"
         }
        }
       }
      },
      "text/html": [
       "<div>                            <div id=\"d328c942-3bd6-4a18-99a2-3a8a381194d0\" class=\"plotly-graph-div\" style=\"height:525px; width:100%;\"></div>            <script type=\"text/javascript\">                require([\"plotly\"], function(Plotly) {                    window.PLOTLYENV=window.PLOTLYENV || {};                                    if (document.getElementById(\"d328c942-3bd6-4a18-99a2-3a8a381194d0\")) {                    Plotly.newPlot(                        \"d328c942-3bd6-4a18-99a2-3a8a381194d0\",                        [{\"alignmentgroup\":\"True\",\"bingroup\":\"x\",\"hovertemplate\":\"Proportion of spins that are Red=%{x}\\u003cbr\\u003ecount=%{y}\\u003cextra\\u003e\\u003c\\u002fextra\\u003e\",\"legendgroup\":\"\",\"marker\":{\"color\":\"#636efa\",\"pattern\":{\"shape\":\"\"}},\"name\":\"\",\"offsetgroup\":\"\",\"orientation\":\"v\",\"showlegend\":false,\"x\":[0.51,0.46,0.42,0.45,0.51,0.53,0.48,0.5,0.53,0.55,0.46,0.48,0.54,0.43,0.55,0.47,0.43,0.43,0.43,0.49,0.57,0.54,0.43,0.52,0.58,0.57,0.49,0.52,0.49,0.52,0.46,0.48,0.48,0.46,0.55,0.53,0.56,0.49,0.36,0.49,0.49,0.55,0.5,0.56,0.63,0.5,0.5,0.41,0.53,0.44,0.52,0.38,0.53,0.47,0.42,0.49,0.42,0.45,0.48,0.45,0.44,0.46,0.54,0.49,0.57,0.57,0.55,0.53,0.52,0.53,0.47,0.6,0.45,0.48,0.62,0.55,0.52,0.49,0.51,0.39,0.57,0.49,0.46,0.53,0.5,0.51,0.68,0.48,0.53,0.48,0.56,0.47,0.57,0.54,0.5,0.5,0.45,0.51,0.38,0.45,0.45,0.53,0.4,0.49,0.55,0.5,0.43,0.54,0.44,0.44,0.52,0.6,0.49,0.46,0.5,0.46,0.56,0.45,0.46,0.4,0.5,0.54,0.45,0.57,0.5,0.55,0.53,0.52,0.43,0.42,0.52,0.39,0.52,0.52,0.53,0.45,0.48,0.56,0.39,0.54,0.42,0.47,0.59,0.46,0.46,0.47,0.51,0.48,0.62,0.49,0.45,0.46,0.45,0.51,0.46,0.5,0.56,0.37,0.52,0.41,0.43,0.58,0.59,0.54,0.59,0.56,0.5,0.51,0.49,0.49,0.41,0.44,0.51,0.48,0.53,0.48,0.56,0.48,0.4,0.5,0.48,0.53,0.58,0.45,0.45,0.51,0.42,0.49,0.44,0.46,0.45,0.47,0.4,0.52,0.45,0.53,0.45,0.52,0.54,0.49,0.5,0.58,0.58,0.45,0.51,0.47,0.54,0.54,0.49,0.45,0.43,0.5,0.46,0.53,0.46,0.54,0.55,0.47,0.49,0.45,0.37,0.52,0.44,0.59,0.52,0.59,0.44,0.54,0.51,0.51,0.52,0.48,0.59,0.52,0.51,0.59,0.46,0.43,0.46,0.46,0.53,0.6,0.44,0.48,0.5,0.55,0.47,0.5,0.46,0.54,0.53,0.5,0.55,0.48,0.53,0.41,0.52,0.52,0.53,0.54,0.57,0.57,0.57,0.46,0.5,0.52,0.52,0.54,0.58,0.55,0.58,0.48,0.46,0.49,0.54,0.47,0.46,0.47,0.53,0.49,0.51,0.53,0.53,0.42,0.51,0.56,0.48,0.42,0.43,0.6,0.49,0.54,0.55,0.5,0.57,0.49,0.5,0.5,0.51,0.52,0.51,0.46,0.44,0.41,0.44,0.49,0.45,0.48,0.44,0.5,0.56,0.57,0.55,0.48,0.55,0.5,0.46,0.55,0.5,0.52,0.46,0.45,0.54,0.45,0.46,0.51,0.57,0.44,0.5,0.58,0.46,0.61,0.39,0.54,0.52,0.46,0.51,0.53,0.58,0.42,0.54,0.47,0.52,0.52,0.46,0.57,0.49,0.44,0.49,0.48,0.53,0.58,0.5,0.57,0.49,0.5,0.57,0.54,0.49,0.59,0.44,0.45,0.52,0.57,0.46,0.52,0.47,0.49,0.55,0.54,0.51,0.58,0.55,0.53,0.54,0.49,0.58,0.5,0.53,0.53,0.6,0.55,0.45,0.54,0.48,0.54,0.53,0.44,0.51,0.5,0.49,0.5,0.43,0.47,0.46,0.47,0.44,0.45,0.46,0.48,0.54,0.54,0.45,0.45,0.41,0.49,0.57,0.53,0.54,0.47,0.58,0.47,0.54,0.53,0.5,0.49,0.47,0.52,0.55,0.5,0.47,0.51,0.43,0.49,0.48,0.63,0.51,0.42,0.48,0.51,0.44,0.46,0.49,0.42,0.48,0.49,0.43,0.5,0.49,0.47,0.45,0.49,0.53,0.5,0.49,0.42,0.54,0.45,0.59,0.43,0.52,0.43,0.58,0.42,0.54,0.57,0.44,0.47,0.49,0.47,0.44,0.5,0.53,0.57,0.49,0.45,0.54,0.54,0.46,0.44,0.44,0.53,0.53,0.43,0.43,0.34,0.42,0.55,0.44,0.55,0.48,0.5,0.58,0.61,0.45,0.51,0.64,0.42,0.58,0.49,0.39,0.57,0.46,0.47,0.56,0.54,0.48,0.56,0.52,0.52,0.49,0.51,0.54,0.49,0.46,0.51,0.56,0.42,0.36,0.51,0.51,0.42,0.51,0.52,0.5,0.45,0.52,0.49,0.5,0.56,0.45,0.56,0.38,0.48,0.53,0.49,0.57,0.53,0.58,0.44,0.56,0.52,0.56,0.55,0.5,0.4,0.53,0.52,0.53,0.51,0.51,0.49,0.5,0.48,0.5,0.5,0.41,0.36,0.49,0.53,0.53,0.56,0.49,0.54,0.58,0.53,0.48,0.45,0.47,0.46,0.42,0.46,0.6,0.44,0.6,0.48,0.54,0.47,0.5,0.39,0.47,0.53,0.54,0.48,0.47,0.5,0.55,0.51,0.44,0.55,0.55,0.59,0.52,0.47,0.53,0.53,0.5,0.45,0.51,0.54,0.54,0.49,0.48,0.45,0.55,0.57,0.47,0.51,0.51,0.51,0.5,0.45,0.5,0.44,0.5,0.55,0.53,0.44,0.51,0.5,0.53,0.42,0.53,0.49,0.48,0.49,0.55,0.43,0.4,0.49,0.57,0.62,0.54,0.53,0.54,0.58,0.49,0.52,0.46,0.44,0.51,0.5,0.49,0.47,0.49,0.44,0.48,0.46,0.41,0.54,0.52,0.45,0.52,0.51,0.57,0.56,0.42,0.45,0.47,0.49,0.53,0.57,0.55,0.51,0.5,0.57,0.42,0.45,0.5,0.54,0.48,0.43,0.47,0.54,0.54,0.43,0.55,0.44,0.46,0.49,0.51,0.52,0.54,0.58,0.6,0.47,0.46,0.56,0.37,0.51,0.57,0.46,0.45,0.57,0.49,0.45,0.5,0.51,0.43,0.53,0.41,0.46,0.47,0.52,0.49,0.55,0.56,0.52,0.57,0.51,0.51,0.52,0.41,0.56,0.51,0.45,0.53,0.53,0.45,0.49,0.43,0.41,0.45,0.52,0.46,0.5,0.5,0.46,0.44,0.56,0.44,0.47,0.54,0.51,0.45,0.44,0.51,0.48,0.58,0.55,0.5,0.48,0.54,0.48,0.51,0.54,0.55,0.49,0.34,0.49,0.44,0.43,0.51,0.49,0.48,0.5,0.54,0.48,0.53,0.57,0.48,0.62,0.46,0.53,0.5,0.45,0.47,0.45,0.45,0.49,0.45,0.55,0.57,0.46,0.51,0.47,0.5,0.52,0.51,0.61,0.5,0.48,0.55,0.45,0.54,0.5,0.53,0.56,0.44,0.52,0.56,0.51,0.49,0.52,0.52,0.47,0.51,0.57,0.52,0.44,0.57,0.49,0.56,0.51,0.56,0.55,0.42,0.52,0.49,0.52,0.53,0.44,0.52,0.49,0.44,0.6,0.45,0.54,0.47,0.61,0.5,0.44,0.44,0.51,0.59,0.52,0.5,0.53,0.54,0.61,0.47,0.51,0.53,0.42,0.45,0.48,0.46,0.44,0.64,0.56,0.58,0.45,0.59,0.53,0.53,0.45,0.6,0.4,0.44,0.56,0.57,0.52,0.42,0.46,0.46,0.48,0.5,0.48,0.51,0.48,0.51,0.59,0.51,0.49,0.46,0.47,0.5,0.48,0.54,0.5,0.5,0.45,0.53,0.53,0.41,0.46,0.55,0.57,0.63,0.56,0.62,0.45,0.56,0.52,0.51,0.45,0.57,0.53,0.4,0.57,0.57,0.46,0.54,0.52,0.42,0.53,0.51,0.56,0.5,0.5,0.51,0.44,0.46,0.5,0.53,0.52,0.54,0.47,0.43,0.45,0.48,0.49,0.51,0.44,0.45,0.45,0.55,0.46,0.52,0.62,0.45,0.56,0.47,0.51,0.47,0.53,0.51,0.52,0.54,0.46,0.54,0.55,0.39,0.47,0.52,0.45,0.48,0.52,0.57,0.47,0.59,0.42,0.43,0.59,0.62,0.49,0.5,0.58,0.49,0.5,0.55,0.48,0.51,0.54,0.6,0.47,0.5,0.43,0.49,0.49,0.55,0.47,0.5,0.5,0.44,0.5,0.51,0.53,0.53,0.57,0.51,0.51,0.54,0.54,0.43,0.49,0.52,0.5,0.49,0.52,0.43,0.54,0.47,0.5,0.48,0.51,0.4,0.5,0.54,0.54,0.49,0.52,0.53,0.44,0.6,0.52,0.47,0.44,0.49,0.54,0.51,0.49,0.53,0.52,0.49,0.44,0.49,0.4,0.48,0.51],\"xaxis\":\"x\",\"yaxis\":\"y\",\"type\":\"histogram\"}],                        {\"template\":{\"data\":{\"histogram2dcontour\":[{\"type\":\"histogram2dcontour\",\"colorbar\":{\"outlinewidth\":0,\"ticks\":\"\"},\"colorscale\":[[0.0,\"#0d0887\"],[0.1111111111111111,\"#46039f\"],[0.2222222222222222,\"#7201a8\"],[0.3333333333333333,\"#9c179e\"],[0.4444444444444444,\"#bd3786\"],[0.5555555555555556,\"#d8576b\"],[0.6666666666666666,\"#ed7953\"],[0.7777777777777778,\"#fb9f3a\"],[0.8888888888888888,\"#fdca26\"],[1.0,\"#f0f921\"]]}],\"choropleth\":[{\"type\":\"choropleth\",\"colorbar\":{\"outlinewidth\":0,\"ticks\":\"\"}}],\"histogram2d\":[{\"type\":\"histogram2d\",\"colorbar\":{\"outlinewidth\":0,\"ticks\":\"\"},\"colorscale\":[[0.0,\"#0d0887\"],[0.1111111111111111,\"#46039f\"],[0.2222222222222222,\"#7201a8\"],[0.3333333333333333,\"#9c179e\"],[0.4444444444444444,\"#bd3786\"],[0.5555555555555556,\"#d8576b\"],[0.6666666666666666,\"#ed7953\"],[0.7777777777777778,\"#fb9f3a\"],[0.8888888888888888,\"#fdca26\"],[1.0,\"#f0f921\"]]}],\"heatmap\":[{\"type\":\"heatmap\",\"colorbar\":{\"outlinewidth\":0,\"ticks\":\"\"},\"colorscale\":[[0.0,\"#0d0887\"],[0.1111111111111111,\"#46039f\"],[0.2222222222222222,\"#7201a8\"],[0.3333333333333333,\"#9c179e\"],[0.4444444444444444,\"#bd3786\"],[0.5555555555555556,\"#d8576b\"],[0.6666666666666666,\"#ed7953\"],[0.7777777777777778,\"#fb9f3a\"],[0.8888888888888888,\"#fdca26\"],[1.0,\"#f0f921\"]]}],\"heatmapgl\":[{\"type\":\"heatmapgl\",\"colorbar\":{\"outlinewidth\":0,\"ticks\":\"\"},\"colorscale\":[[0.0,\"#0d0887\"],[0.1111111111111111,\"#46039f\"],[0.2222222222222222,\"#7201a8\"],[0.3333333333333333,\"#9c179e\"],[0.4444444444444444,\"#bd3786\"],[0.5555555555555556,\"#d8576b\"],[0.6666666666666666,\"#ed7953\"],[0.7777777777777778,\"#fb9f3a\"],[0.8888888888888888,\"#fdca26\"],[1.0,\"#f0f921\"]]}],\"contourcarpet\":[{\"type\":\"contourcarpet\",\"colorbar\":{\"outlinewidth\":0,\"ticks\":\"\"}}],\"contour\":[{\"type\":\"contour\",\"colorbar\":{\"outlinewidth\":0,\"ticks\":\"\"},\"colorscale\":[[0.0,\"#0d0887\"],[0.1111111111111111,\"#46039f\"],[0.2222222222222222,\"#7201a8\"],[0.3333333333333333,\"#9c179e\"],[0.4444444444444444,\"#bd3786\"],[0.5555555555555556,\"#d8576b\"],[0.6666666666666666,\"#ed7953\"],[0.7777777777777778,\"#fb9f3a\"],[0.8888888888888888,\"#fdca26\"],[1.0,\"#f0f921\"]]}],\"surface\":[{\"type\":\"surface\",\"colorbar\":{\"outlinewidth\":0,\"ticks\":\"\"},\"colorscale\":[[0.0,\"#0d0887\"],[0.1111111111111111,\"#46039f\"],[0.2222222222222222,\"#7201a8\"],[0.3333333333333333,\"#9c179e\"],[0.4444444444444444,\"#bd3786\"],[0.5555555555555556,\"#d8576b\"],[0.6666666666666666,\"#ed7953\"],[0.7777777777777778,\"#fb9f3a\"],[0.8888888888888888,\"#fdca26\"],[1.0,\"#f0f921\"]]}],\"mesh3d\":[{\"type\":\"mesh3d\",\"colorbar\":{\"outlinewidth\":0,\"ticks\":\"\"}}],\"scatter\":[{\"fillpattern\":{\"fillmode\":\"overlay\",\"size\":10,\"solidity\":0.2},\"type\":\"scatter\"}],\"parcoords\":[{\"type\":\"parcoords\",\"line\":{\"colorbar\":{\"outlinewidth\":0,\"ticks\":\"\"}}}],\"scatterpolargl\":[{\"type\":\"scatterpolargl\",\"marker\":{\"colorbar\":{\"outlinewidth\":0,\"ticks\":\"\"}}}],\"bar\":[{\"error_x\":{\"color\":\"#2a3f5f\"},\"error_y\":{\"color\":\"#2a3f5f\"},\"marker\":{\"line\":{\"color\":\"#E5ECF6\",\"width\":0.5},\"pattern\":{\"fillmode\":\"overlay\",\"size\":10,\"solidity\":0.2}},\"type\":\"bar\"}],\"scattergeo\":[{\"type\":\"scattergeo\",\"marker\":{\"colorbar\":{\"outlinewidth\":0,\"ticks\":\"\"}}}],\"scatterpolar\":[{\"type\":\"scatterpolar\",\"marker\":{\"colorbar\":{\"outlinewidth\":0,\"ticks\":\"\"}}}],\"histogram\":[{\"marker\":{\"pattern\":{\"fillmode\":\"overlay\",\"size\":10,\"solidity\":0.2}},\"type\":\"histogram\"}],\"scattergl\":[{\"type\":\"scattergl\",\"marker\":{\"colorbar\":{\"outlinewidth\":0,\"ticks\":\"\"}}}],\"scatter3d\":[{\"type\":\"scatter3d\",\"line\":{\"colorbar\":{\"outlinewidth\":0,\"ticks\":\"\"}},\"marker\":{\"colorbar\":{\"outlinewidth\":0,\"ticks\":\"\"}}}],\"scattermapbox\":[{\"type\":\"scattermapbox\",\"marker\":{\"colorbar\":{\"outlinewidth\":0,\"ticks\":\"\"}}}],\"scatterternary\":[{\"type\":\"scatterternary\",\"marker\":{\"colorbar\":{\"outlinewidth\":0,\"ticks\":\"\"}}}],\"scattercarpet\":[{\"type\":\"scattercarpet\",\"marker\":{\"colorbar\":{\"outlinewidth\":0,\"ticks\":\"\"}}}],\"carpet\":[{\"aaxis\":{\"endlinecolor\":\"#2a3f5f\",\"gridcolor\":\"white\",\"linecolor\":\"white\",\"minorgridcolor\":\"white\",\"startlinecolor\":\"#2a3f5f\"},\"baxis\":{\"endlinecolor\":\"#2a3f5f\",\"gridcolor\":\"white\",\"linecolor\":\"white\",\"minorgridcolor\":\"white\",\"startlinecolor\":\"#2a3f5f\"},\"type\":\"carpet\"}],\"table\":[{\"cells\":{\"fill\":{\"color\":\"#EBF0F8\"},\"line\":{\"color\":\"white\"}},\"header\":{\"fill\":{\"color\":\"#C8D4E3\"},\"line\":{\"color\":\"white\"}},\"type\":\"table\"}],\"barpolar\":[{\"marker\":{\"line\":{\"color\":\"#E5ECF6\",\"width\":0.5},\"pattern\":{\"fillmode\":\"overlay\",\"size\":10,\"solidity\":0.2}},\"type\":\"barpolar\"}],\"pie\":[{\"automargin\":true,\"type\":\"pie\"}]},\"layout\":{\"autotypenumbers\":\"strict\",\"colorway\":[\"#636efa\",\"#EF553B\",\"#00cc96\",\"#ab63fa\",\"#FFA15A\",\"#19d3f3\",\"#FF6692\",\"#B6E880\",\"#FF97FF\",\"#FECB52\"],\"font\":{\"color\":\"#2a3f5f\"},\"hovermode\":\"closest\",\"hoverlabel\":{\"align\":\"left\"},\"paper_bgcolor\":\"white\",\"plot_bgcolor\":\"#E5ECF6\",\"polar\":{\"bgcolor\":\"#E5ECF6\",\"angularaxis\":{\"gridcolor\":\"white\",\"linecolor\":\"white\",\"ticks\":\"\"},\"radialaxis\":{\"gridcolor\":\"white\",\"linecolor\":\"white\",\"ticks\":\"\"}},\"ternary\":{\"bgcolor\":\"#E5ECF6\",\"aaxis\":{\"gridcolor\":\"white\",\"linecolor\":\"white\",\"ticks\":\"\"},\"baxis\":{\"gridcolor\":\"white\",\"linecolor\":\"white\",\"ticks\":\"\"},\"caxis\":{\"gridcolor\":\"white\",\"linecolor\":\"white\",\"ticks\":\"\"}},\"coloraxis\":{\"colorbar\":{\"outlinewidth\":0,\"ticks\":\"\"}},\"colorscale\":{\"sequential\":[[0.0,\"#0d0887\"],[0.1111111111111111,\"#46039f\"],[0.2222222222222222,\"#7201a8\"],[0.3333333333333333,\"#9c179e\"],[0.4444444444444444,\"#bd3786\"],[0.5555555555555556,\"#d8576b\"],[0.6666666666666666,\"#ed7953\"],[0.7777777777777778,\"#fb9f3a\"],[0.8888888888888888,\"#fdca26\"],[1.0,\"#f0f921\"]],\"sequentialminus\":[[0.0,\"#0d0887\"],[0.1111111111111111,\"#46039f\"],[0.2222222222222222,\"#7201a8\"],[0.3333333333333333,\"#9c179e\"],[0.4444444444444444,\"#bd3786\"],[0.5555555555555556,\"#d8576b\"],[0.6666666666666666,\"#ed7953\"],[0.7777777777777778,\"#fb9f3a\"],[0.8888888888888888,\"#fdca26\"],[1.0,\"#f0f921\"]],\"diverging\":[[0,\"#8e0152\"],[0.1,\"#c51b7d\"],[0.2,\"#de77ae\"],[0.3,\"#f1b6da\"],[0.4,\"#fde0ef\"],[0.5,\"#f7f7f7\"],[0.6,\"#e6f5d0\"],[0.7,\"#b8e186\"],[0.8,\"#7fbc41\"],[0.9,\"#4d9221\"],[1,\"#276419\"]]},\"xaxis\":{\"gridcolor\":\"white\",\"linecolor\":\"white\",\"ticks\":\"\",\"title\":{\"standoff\":15},\"zerolinecolor\":\"white\",\"automargin\":true,\"zerolinewidth\":2},\"yaxis\":{\"gridcolor\":\"white\",\"linecolor\":\"white\",\"ticks\":\"\",\"title\":{\"standoff\":15},\"zerolinecolor\":\"white\",\"automargin\":true,\"zerolinewidth\":2},\"scene\":{\"xaxis\":{\"backgroundcolor\":\"#E5ECF6\",\"gridcolor\":\"white\",\"linecolor\":\"white\",\"showbackground\":true,\"ticks\":\"\",\"zerolinecolor\":\"white\",\"gridwidth\":2},\"yaxis\":{\"backgroundcolor\":\"#E5ECF6\",\"gridcolor\":\"white\",\"linecolor\":\"white\",\"showbackground\":true,\"ticks\":\"\",\"zerolinecolor\":\"white\",\"gridwidth\":2},\"zaxis\":{\"backgroundcolor\":\"#E5ECF6\",\"gridcolor\":\"white\",\"linecolor\":\"white\",\"showbackground\":true,\"ticks\":\"\",\"zerolinecolor\":\"white\",\"gridwidth\":2}},\"shapedefaults\":{\"line\":{\"color\":\"#2a3f5f\"}},\"annotationdefaults\":{\"arrowcolor\":\"#2a3f5f\",\"arrowhead\":0,\"arrowwidth\":1},\"geo\":{\"bgcolor\":\"white\",\"landcolor\":\"#E5ECF6\",\"subunitcolor\":\"white\",\"showland\":true,\"showlakes\":true,\"lakecolor\":\"white\"},\"title\":{\"x\":0.05},\"mapbox\":{\"style\":\"light\"}}},\"xaxis\":{\"anchor\":\"y\",\"domain\":[0.0,1.0],\"title\":{\"text\":\"Proportion of spins that are Red\"}},\"yaxis\":{\"anchor\":\"x\",\"domain\":[0.0,1.0],\"title\":{\"text\":\"count\"}},\"legend\":{\"tracegroupgap\":0},\"title\":{\"text\":\"1000 draws from the Sampling Distribution of the \\\"Proportion of Red\\\" (for a sample of size n=100 spins)\"},\"barmode\":\"relative\",\"shapes\":[{\"line\":{\"color\":\"black\",\"dash\":\"dash\"},\"type\":\"line\",\"x0\":0.54,\"x1\":0.54,\"xref\":\"x\",\"y0\":0,\"y1\":1,\"yref\":\"y domain\"}],\"annotations\":[{\"showarrow\":false,\"text\":\"observed_test_stat (0.54)\",\"x\":0.54,\"xanchor\":\"left\",\"xref\":\"x\",\"y\":1,\"yanchor\":\"top\",\"yref\":\"y domain\"}]},                        {\"responsive\": true}                    ).then(function(){\n",
       "                            \n",
       "var gd = document.getElementById('d328c942-3bd6-4a18-99a2-3a8a381194d0');\n",
       "var x = new MutationObserver(function (mutations, observer) {{\n",
       "        var display = window.getComputedStyle(gd).display;\n",
       "        if (!display || display === 'none') {{\n",
       "            console.log([gd, 'removed!']);\n",
       "            Plotly.purge(gd);\n",
       "            observer.disconnect();\n",
       "        }}\n",
       "}});\n",
       "\n",
       "// Listen for the removal of the full notebook cells\n",
       "var notebookContainer = gd.closest('#notebook-container');\n",
       "if (notebookContainer) {{\n",
       "    x.observe(notebookContainer, {childList: true});\n",
       "}}\n",
       "\n",
       "// Listen for the clearing of the current output cell\n",
       "var outputEl = gd.closest('.output');\n",
       "if (outputEl) {{\n",
       "    x.observe(outputEl, {childList: true});\n",
       "}}\n",
       "\n",
       "                        })                };                });            </script>        </div>"
      ]
     },
     "metadata": {},
     "output_type": "display_data"
    }
   ],
   "source": [
    "import pandas as pd; import plotly.express as px; import numpy as np\n",
    "num_samples,sample_size = 1000,100; simulated_sample_proportions = []; np.random.seed(seed=1)\n",
    "for i in range(num_samples):\n",
    "    sample = np.random.choice(['Red', 'Black'], size=sample_size, p=[0.5, 0.5], replace=True)\n",
    "    simulated_sample_proportions += [(sample == 'Red').sum() / sample_size]\n",
    "observed_test_stat=0.54; num_as_or_more_extreme = \\\n",
    "  (abs(np.array(simulated_sample_proportions) - 0.5) >= abs(observed_test_stat - 0.5)).sum()\n",
    "p_value = num_as_or_more_extreme / num_samples\n",
    "print(str(num_as_or_more_extreme)+' out of ' +str(num_samples)+' simulated statistics were \"as or more extreme\" (relative to the Null Hypothesis\\nassumed p=0.5 parameter value) than the observed test statistic of ' + str(observed_test_stat) + ' giving us a p-value of ' + str(p_value))\n",
    "fig = px.histogram(pd.DataFrame({'Proportion of spins that are Red': simulated_sample_proportions}), #nbins=100,\n",
    "                   title=str(num_samples)+' draws from the Sampling Distribution of the \"Proportion of Red\" (for a sample of size n='+str(sample_size)+' spins)', x='Proportion of spins that are Red')\n",
    "fig.add_vline(x=observed_test_stat, line_dash=\"dash\", line_color=\"black\", annotation_text=\"observed_test_stat (\"+str(observed_test_stat)+\")\"); fig.show()"
   ]
  },
  {
   "cell_type": "code",
   "execution_count": 88,
   "metadata": {
    "slideshow": {
     "slide_type": "subslide"
    }
   },
   "outputs": [
    {
     "name": "stdout",
     "output_type": "stream",
     "text": [
      "Our theoretical p-value calculation based on the theoretical binomial distribution is 0.48412\n"
     ]
    },
    {
     "data": {
      "application/vnd.plotly.v1+json": {
       "config": {
        "plotlyServerURL": "https://plot.ly"
       },
       "data": [
        {
         "alignmentgroup": "True",
         "hovertemplate": "$\\hat p$=%{x}<br>probability=%{y}<extra></extra>",
         "legendgroup": "",
         "marker": {
          "color": "#636efa",
          "pattern": {
           "shape": ""
          }
         },
         "name": "",
         "offsetgroup": "",
         "orientation": "v",
         "showlegend": false,
         "textposition": "auto",
         "type": "bar",
         "x": [
          0,
          0.01,
          0.02,
          0.03,
          0.04,
          0.05,
          0.06,
          0.07,
          0.08,
          0.09,
          0.1,
          0.11,
          0.12,
          0.13,
          0.14,
          0.15,
          0.16,
          0.17,
          0.18,
          0.19,
          0.2,
          0.21,
          0.22,
          0.23,
          0.24,
          0.25,
          0.26,
          0.27,
          0.28,
          0.29,
          0.3,
          0.31,
          0.32,
          0.33,
          0.34,
          0.35,
          0.36,
          0.37,
          0.38,
          0.39,
          0.4,
          0.41,
          0.42,
          0.43,
          0.44,
          0.45,
          0.46,
          0.47,
          0.48,
          0.49,
          0.5,
          0.51,
          0.52,
          0.53,
          0.54,
          0.55,
          0.56,
          0.57,
          0.58,
          0.59,
          0.6,
          0.61,
          0.62,
          0.63,
          0.64,
          0.65,
          0.66,
          0.67,
          0.68,
          0.69,
          0.7,
          0.71,
          0.72,
          0.73,
          0.74,
          0.75,
          0.76,
          0.77,
          0.78,
          0.79,
          0.8,
          0.81,
          0.82,
          0.83,
          0.84,
          0.85,
          0.86,
          0.87,
          0.88,
          0.89,
          0.9,
          0.91,
          0.92,
          0.93,
          0.94,
          0.95,
          0.96,
          0.97,
          0.98,
          0.99
         ],
         "xaxis": "x",
         "y": [
          7.888609052210118e-31,
          7.888609052210037e-29,
          3.9048614808440056e-27,
          1.2755880837423788e-25,
          3.093301103075288e-24,
          5.939138117904555e-23,
          9.403635353348721e-22,
          1.2627738903068468e-20,
          1.467974647481701e-19,
          1.5005963063146224e-18,
          1.3655426387463187e-17,
          1.1172621589742627e-16,
          8.2863610123923925e-16,
          5.609228993004059e-15,
          3.485735159938238e-14,
          1.9984881583645834e-13,
          1.0616968341311838e-12,
          5.246031415707053e-12,
          2.4190033750204657e-11,
          1.0439909302719972e-10,
          4.2281632676015645e-10,
          1.610728863848223e-09,
          5.7839809201822495e-09,
          1.961523964235719e-08,
          6.293222718589577e-08,
          1.9131397064512394e-07,
          5.518672230147827e-07,
          1.5125249815960541e-06,
          3.943368702018314e-06,
          9.790432639493705e-06,
          2.3170690580135133e-05,
          5.232091421320847e-05,
          0.00011281697127223024,
          0.00023247133474277795,
          0.0004581052772872398,
          0.0008638556657416474,
          0.0015597393964779797,
          0.0026979276047186754,
          0.004472879976244127,
          0.007110732269926525,
          0.010843866711637978,
          0.015869073236543386,
          0.022292269546572874,
          0.030068642644214546,
          0.038952559789096154,
          0.048474296626430755,
          0.057958398140297664,
          0.06659049999098021,
          0.0735270104067074,
          0.07802866410507722,
          0.07958923738717875,
          0.07802866410507722,
          0.0735270104067074,
          0.06659049999098023,
          0.057958398140297664,
          0.04847429662643076,
          0.038952559789096154,
          0.030068642644214497,
          0.022292269546572773,
          0.015869073236543386,
          0.010843866711637978,
          0.007110732269926525,
          0.004472879976244127,
          0.0026979276047186754,
          0.0015597393964779797,
          0.0008638556657416474,
          0.0004581052772872398,
          0.0002324713347427779,
          0.00011281697127223024,
          5.232091421320847e-05,
          2.317069058013513e-05,
          9.790432639493705e-06,
          3.943368702018314e-06,
          1.5125249815960541e-06,
          5.518672230147827e-07,
          1.9131397064512394e-07,
          6.293222718589577e-08,
          1.9615239642357187e-08,
          5.783980920182249e-09,
          1.6107288638482235e-09,
          4.2281632676015645e-10,
          1.0439909302719974e-10,
          2.4190033750204657e-11,
          5.246031415707053e-12,
          1.0616968341311838e-12,
          1.998488158364584e-13,
          3.485735159938238e-14,
          5.60922899300406e-15,
          8.286361012392391e-16,
          1.1172621589742627e-16,
          1.3655426387463189e-17,
          1.500596306314622e-18,
          1.467974647481701e-19,
          1.2627738903068468e-20,
          9.403635353348721e-22,
          5.939138117904557e-23,
          3.093301103075288e-24,
          1.2755880837423786e-25,
          3.9048614808440056e-27,
          7.888609052210035e-29
         ],
         "yaxis": "y"
        }
       ],
       "layout": {
        "annotations": [
         {
          "showarrow": false,
          "text": "observed_test_stat (0.54)",
          "x": 0.54,
          "xanchor": "left",
          "xref": "x",
          "y": 1,
          "yanchor": "top",
          "yref": "y domain"
         }
        ],
        "barmode": "relative",
        "legend": {
         "tracegroupgap": 0
        },
        "shapes": [
         {
          "line": {
           "color": "black",
           "dash": "dash"
          },
          "type": "line",
          "x0": 0.54,
          "x1": 0.54,
          "xref": "x",
          "y0": 0,
          "y1": 1,
          "yref": "y domain"
         }
        ],
        "template": {
         "data": {
          "bar": [
           {
            "error_x": {
             "color": "#2a3f5f"
            },
            "error_y": {
             "color": "#2a3f5f"
            },
            "marker": {
             "line": {
              "color": "#E5ECF6",
              "width": 0.5
             },
             "pattern": {
              "fillmode": "overlay",
              "size": 10,
              "solidity": 0.2
             }
            },
            "type": "bar"
           }
          ],
          "barpolar": [
           {
            "marker": {
             "line": {
              "color": "#E5ECF6",
              "width": 0.5
             },
             "pattern": {
              "fillmode": "overlay",
              "size": 10,
              "solidity": 0.2
             }
            },
            "type": "barpolar"
           }
          ],
          "carpet": [
           {
            "aaxis": {
             "endlinecolor": "#2a3f5f",
             "gridcolor": "white",
             "linecolor": "white",
             "minorgridcolor": "white",
             "startlinecolor": "#2a3f5f"
            },
            "baxis": {
             "endlinecolor": "#2a3f5f",
             "gridcolor": "white",
             "linecolor": "white",
             "minorgridcolor": "white",
             "startlinecolor": "#2a3f5f"
            },
            "type": "carpet"
           }
          ],
          "choropleth": [
           {
            "colorbar": {
             "outlinewidth": 0,
             "ticks": ""
            },
            "type": "choropleth"
           }
          ],
          "contour": [
           {
            "colorbar": {
             "outlinewidth": 0,
             "ticks": ""
            },
            "colorscale": [
             [
              0,
              "#0d0887"
             ],
             [
              0.1111111111111111,
              "#46039f"
             ],
             [
              0.2222222222222222,
              "#7201a8"
             ],
             [
              0.3333333333333333,
              "#9c179e"
             ],
             [
              0.4444444444444444,
              "#bd3786"
             ],
             [
              0.5555555555555556,
              "#d8576b"
             ],
             [
              0.6666666666666666,
              "#ed7953"
             ],
             [
              0.7777777777777778,
              "#fb9f3a"
             ],
             [
              0.8888888888888888,
              "#fdca26"
             ],
             [
              1,
              "#f0f921"
             ]
            ],
            "type": "contour"
           }
          ],
          "contourcarpet": [
           {
            "colorbar": {
             "outlinewidth": 0,
             "ticks": ""
            },
            "type": "contourcarpet"
           }
          ],
          "heatmap": [
           {
            "colorbar": {
             "outlinewidth": 0,
             "ticks": ""
            },
            "colorscale": [
             [
              0,
              "#0d0887"
             ],
             [
              0.1111111111111111,
              "#46039f"
             ],
             [
              0.2222222222222222,
              "#7201a8"
             ],
             [
              0.3333333333333333,
              "#9c179e"
             ],
             [
              0.4444444444444444,
              "#bd3786"
             ],
             [
              0.5555555555555556,
              "#d8576b"
             ],
             [
              0.6666666666666666,
              "#ed7953"
             ],
             [
              0.7777777777777778,
              "#fb9f3a"
             ],
             [
              0.8888888888888888,
              "#fdca26"
             ],
             [
              1,
              "#f0f921"
             ]
            ],
            "type": "heatmap"
           }
          ],
          "heatmapgl": [
           {
            "colorbar": {
             "outlinewidth": 0,
             "ticks": ""
            },
            "colorscale": [
             [
              0,
              "#0d0887"
             ],
             [
              0.1111111111111111,
              "#46039f"
             ],
             [
              0.2222222222222222,
              "#7201a8"
             ],
             [
              0.3333333333333333,
              "#9c179e"
             ],
             [
              0.4444444444444444,
              "#bd3786"
             ],
             [
              0.5555555555555556,
              "#d8576b"
             ],
             [
              0.6666666666666666,
              "#ed7953"
             ],
             [
              0.7777777777777778,
              "#fb9f3a"
             ],
             [
              0.8888888888888888,
              "#fdca26"
             ],
             [
              1,
              "#f0f921"
             ]
            ],
            "type": "heatmapgl"
           }
          ],
          "histogram": [
           {
            "marker": {
             "pattern": {
              "fillmode": "overlay",
              "size": 10,
              "solidity": 0.2
             }
            },
            "type": "histogram"
           }
          ],
          "histogram2d": [
           {
            "colorbar": {
             "outlinewidth": 0,
             "ticks": ""
            },
            "colorscale": [
             [
              0,
              "#0d0887"
             ],
             [
              0.1111111111111111,
              "#46039f"
             ],
             [
              0.2222222222222222,
              "#7201a8"
             ],
             [
              0.3333333333333333,
              "#9c179e"
             ],
             [
              0.4444444444444444,
              "#bd3786"
             ],
             [
              0.5555555555555556,
              "#d8576b"
             ],
             [
              0.6666666666666666,
              "#ed7953"
             ],
             [
              0.7777777777777778,
              "#fb9f3a"
             ],
             [
              0.8888888888888888,
              "#fdca26"
             ],
             [
              1,
              "#f0f921"
             ]
            ],
            "type": "histogram2d"
           }
          ],
          "histogram2dcontour": [
           {
            "colorbar": {
             "outlinewidth": 0,
             "ticks": ""
            },
            "colorscale": [
             [
              0,
              "#0d0887"
             ],
             [
              0.1111111111111111,
              "#46039f"
             ],
             [
              0.2222222222222222,
              "#7201a8"
             ],
             [
              0.3333333333333333,
              "#9c179e"
             ],
             [
              0.4444444444444444,
              "#bd3786"
             ],
             [
              0.5555555555555556,
              "#d8576b"
             ],
             [
              0.6666666666666666,
              "#ed7953"
             ],
             [
              0.7777777777777778,
              "#fb9f3a"
             ],
             [
              0.8888888888888888,
              "#fdca26"
             ],
             [
              1,
              "#f0f921"
             ]
            ],
            "type": "histogram2dcontour"
           }
          ],
          "mesh3d": [
           {
            "colorbar": {
             "outlinewidth": 0,
             "ticks": ""
            },
            "type": "mesh3d"
           }
          ],
          "parcoords": [
           {
            "line": {
             "colorbar": {
              "outlinewidth": 0,
              "ticks": ""
             }
            },
            "type": "parcoords"
           }
          ],
          "pie": [
           {
            "automargin": true,
            "type": "pie"
           }
          ],
          "scatter": [
           {
            "fillpattern": {
             "fillmode": "overlay",
             "size": 10,
             "solidity": 0.2
            },
            "type": "scatter"
           }
          ],
          "scatter3d": [
           {
            "line": {
             "colorbar": {
              "outlinewidth": 0,
              "ticks": ""
             }
            },
            "marker": {
             "colorbar": {
              "outlinewidth": 0,
              "ticks": ""
             }
            },
            "type": "scatter3d"
           }
          ],
          "scattercarpet": [
           {
            "marker": {
             "colorbar": {
              "outlinewidth": 0,
              "ticks": ""
             }
            },
            "type": "scattercarpet"
           }
          ],
          "scattergeo": [
           {
            "marker": {
             "colorbar": {
              "outlinewidth": 0,
              "ticks": ""
             }
            },
            "type": "scattergeo"
           }
          ],
          "scattergl": [
           {
            "marker": {
             "colorbar": {
              "outlinewidth": 0,
              "ticks": ""
             }
            },
            "type": "scattergl"
           }
          ],
          "scattermapbox": [
           {
            "marker": {
             "colorbar": {
              "outlinewidth": 0,
              "ticks": ""
             }
            },
            "type": "scattermapbox"
           }
          ],
          "scatterpolar": [
           {
            "marker": {
             "colorbar": {
              "outlinewidth": 0,
              "ticks": ""
             }
            },
            "type": "scatterpolar"
           }
          ],
          "scatterpolargl": [
           {
            "marker": {
             "colorbar": {
              "outlinewidth": 0,
              "ticks": ""
             }
            },
            "type": "scatterpolargl"
           }
          ],
          "scatterternary": [
           {
            "marker": {
             "colorbar": {
              "outlinewidth": 0,
              "ticks": ""
             }
            },
            "type": "scatterternary"
           }
          ],
          "surface": [
           {
            "colorbar": {
             "outlinewidth": 0,
             "ticks": ""
            },
            "colorscale": [
             [
              0,
              "#0d0887"
             ],
             [
              0.1111111111111111,
              "#46039f"
             ],
             [
              0.2222222222222222,
              "#7201a8"
             ],
             [
              0.3333333333333333,
              "#9c179e"
             ],
             [
              0.4444444444444444,
              "#bd3786"
             ],
             [
              0.5555555555555556,
              "#d8576b"
             ],
             [
              0.6666666666666666,
              "#ed7953"
             ],
             [
              0.7777777777777778,
              "#fb9f3a"
             ],
             [
              0.8888888888888888,
              "#fdca26"
             ],
             [
              1,
              "#f0f921"
             ]
            ],
            "type": "surface"
           }
          ],
          "table": [
           {
            "cells": {
             "fill": {
              "color": "#EBF0F8"
             },
             "line": {
              "color": "white"
             }
            },
            "header": {
             "fill": {
              "color": "#C8D4E3"
             },
             "line": {
              "color": "white"
             }
            },
            "type": "table"
           }
          ]
         },
         "layout": {
          "annotationdefaults": {
           "arrowcolor": "#2a3f5f",
           "arrowhead": 0,
           "arrowwidth": 1
          },
          "autotypenumbers": "strict",
          "coloraxis": {
           "colorbar": {
            "outlinewidth": 0,
            "ticks": ""
           }
          },
          "colorscale": {
           "diverging": [
            [
             0,
             "#8e0152"
            ],
            [
             0.1,
             "#c51b7d"
            ],
            [
             0.2,
             "#de77ae"
            ],
            [
             0.3,
             "#f1b6da"
            ],
            [
             0.4,
             "#fde0ef"
            ],
            [
             0.5,
             "#f7f7f7"
            ],
            [
             0.6,
             "#e6f5d0"
            ],
            [
             0.7,
             "#b8e186"
            ],
            [
             0.8,
             "#7fbc41"
            ],
            [
             0.9,
             "#4d9221"
            ],
            [
             1,
             "#276419"
            ]
           ],
           "sequential": [
            [
             0,
             "#0d0887"
            ],
            [
             0.1111111111111111,
             "#46039f"
            ],
            [
             0.2222222222222222,
             "#7201a8"
            ],
            [
             0.3333333333333333,
             "#9c179e"
            ],
            [
             0.4444444444444444,
             "#bd3786"
            ],
            [
             0.5555555555555556,
             "#d8576b"
            ],
            [
             0.6666666666666666,
             "#ed7953"
            ],
            [
             0.7777777777777778,
             "#fb9f3a"
            ],
            [
             0.8888888888888888,
             "#fdca26"
            ],
            [
             1,
             "#f0f921"
            ]
           ],
           "sequentialminus": [
            [
             0,
             "#0d0887"
            ],
            [
             0.1111111111111111,
             "#46039f"
            ],
            [
             0.2222222222222222,
             "#7201a8"
            ],
            [
             0.3333333333333333,
             "#9c179e"
            ],
            [
             0.4444444444444444,
             "#bd3786"
            ],
            [
             0.5555555555555556,
             "#d8576b"
            ],
            [
             0.6666666666666666,
             "#ed7953"
            ],
            [
             0.7777777777777778,
             "#fb9f3a"
            ],
            [
             0.8888888888888888,
             "#fdca26"
            ],
            [
             1,
             "#f0f921"
            ]
           ]
          },
          "colorway": [
           "#636efa",
           "#EF553B",
           "#00cc96",
           "#ab63fa",
           "#FFA15A",
           "#19d3f3",
           "#FF6692",
           "#B6E880",
           "#FF97FF",
           "#FECB52"
          ],
          "font": {
           "color": "#2a3f5f"
          },
          "geo": {
           "bgcolor": "white",
           "lakecolor": "white",
           "landcolor": "#E5ECF6",
           "showlakes": true,
           "showland": true,
           "subunitcolor": "white"
          },
          "hoverlabel": {
           "align": "left"
          },
          "hovermode": "closest",
          "mapbox": {
           "style": "light"
          },
          "paper_bgcolor": "white",
          "plot_bgcolor": "#E5ECF6",
          "polar": {
           "angularaxis": {
            "gridcolor": "white",
            "linecolor": "white",
            "ticks": ""
           },
           "bgcolor": "#E5ECF6",
           "radialaxis": {
            "gridcolor": "white",
            "linecolor": "white",
            "ticks": ""
           }
          },
          "scene": {
           "xaxis": {
            "backgroundcolor": "#E5ECF6",
            "gridcolor": "white",
            "gridwidth": 2,
            "linecolor": "white",
            "showbackground": true,
            "ticks": "",
            "zerolinecolor": "white"
           },
           "yaxis": {
            "backgroundcolor": "#E5ECF6",
            "gridcolor": "white",
            "gridwidth": 2,
            "linecolor": "white",
            "showbackground": true,
            "ticks": "",
            "zerolinecolor": "white"
           },
           "zaxis": {
            "backgroundcolor": "#E5ECF6",
            "gridcolor": "white",
            "gridwidth": 2,
            "linecolor": "white",
            "showbackground": true,
            "ticks": "",
            "zerolinecolor": "white"
           }
          },
          "shapedefaults": {
           "line": {
            "color": "#2a3f5f"
           }
          },
          "ternary": {
           "aaxis": {
            "gridcolor": "white",
            "linecolor": "white",
            "ticks": ""
           },
           "baxis": {
            "gridcolor": "white",
            "linecolor": "white",
            "ticks": ""
           },
           "bgcolor": "#E5ECF6",
           "caxis": {
            "gridcolor": "white",
            "linecolor": "white",
            "ticks": ""
           }
          },
          "title": {
           "x": 0.05
          },
          "xaxis": {
           "automargin": true,
           "gridcolor": "white",
           "linecolor": "white",
           "ticks": "",
           "title": {
            "standoff": 15
           },
           "zerolinecolor": "white",
           "zerolinewidth": 2
          },
          "yaxis": {
           "automargin": true,
           "gridcolor": "white",
           "linecolor": "white",
           "ticks": "",
           "title": {
            "standoff": 15
           },
           "zerolinecolor": "white",
           "zerolinewidth": 2
          }
         }
        },
        "title": {
         "text": "$\\text{Theoretically Exact (Binomial) Sampling Distribution of } p_r \\text{ assuming \"}H_0 \\text{: 50-50 chance of red\"}$"
        },
        "xaxis": {
         "anchor": "y",
         "domain": [
          0,
          1
         ],
         "title": {
          "text": "$\\hat p$"
         }
        },
        "yaxis": {
         "anchor": "x",
         "domain": [
          0,
          1
         ],
         "title": {
          "text": "probability"
         }
        }
       }
      },
      "text/html": [
       "<div>                            <div id=\"20906ed3-374c-4b7f-9d65-b8045626986b\" class=\"plotly-graph-div\" style=\"height:525px; width:100%;\"></div>            <script type=\"text/javascript\">                require([\"plotly\"], function(Plotly) {                    window.PLOTLYENV=window.PLOTLYENV || {};                                    if (document.getElementById(\"20906ed3-374c-4b7f-9d65-b8045626986b\")) {                    Plotly.newPlot(                        \"20906ed3-374c-4b7f-9d65-b8045626986b\",                        [{\"alignmentgroup\":\"True\",\"hovertemplate\":\"$\\\\hat p$=%{x}\\u003cbr\\u003eprobability=%{y}\\u003cextra\\u003e\\u003c\\u002fextra\\u003e\",\"legendgroup\":\"\",\"marker\":{\"color\":\"#636efa\",\"pattern\":{\"shape\":\"\"}},\"name\":\"\",\"offsetgroup\":\"\",\"orientation\":\"v\",\"showlegend\":false,\"textposition\":\"auto\",\"x\":[0.0,0.01,0.02,0.03,0.04,0.05,0.06,0.07,0.08,0.09,0.1,0.11,0.12,0.13,0.14,0.15,0.16,0.17,0.18,0.19,0.2,0.21,0.22,0.23,0.24,0.25,0.26,0.27,0.28,0.29,0.3,0.31,0.32,0.33,0.34,0.35,0.36,0.37,0.38,0.39,0.4,0.41,0.42,0.43,0.44,0.45,0.46,0.47,0.48,0.49,0.5,0.51,0.52,0.53,0.54,0.55,0.56,0.57,0.58,0.59,0.6,0.61,0.62,0.63,0.64,0.65,0.66,0.67,0.68,0.69,0.7,0.71,0.72,0.73,0.74,0.75,0.76,0.77,0.78,0.79,0.8,0.81,0.82,0.83,0.84,0.85,0.86,0.87,0.88,0.89,0.9,0.91,0.92,0.93,0.94,0.95,0.96,0.97,0.98,0.99],\"xaxis\":\"x\",\"y\":[7.888609052210118e-31,7.888609052210037e-29,3.9048614808440056e-27,1.2755880837423788e-25,3.093301103075288e-24,5.939138117904555e-23,9.403635353348721e-22,1.2627738903068468e-20,1.467974647481701e-19,1.5005963063146224e-18,1.3655426387463187e-17,1.1172621589742627e-16,8.2863610123923925e-16,5.609228993004059e-15,3.485735159938238e-14,1.9984881583645834e-13,1.0616968341311838e-12,5.246031415707053e-12,2.4190033750204657e-11,1.0439909302719972e-10,4.2281632676015645e-10,1.610728863848223e-09,5.7839809201822495e-09,1.961523964235719e-08,6.293222718589577e-08,1.9131397064512394e-07,5.518672230147827e-07,1.5125249815960541e-06,3.943368702018314e-06,9.790432639493705e-06,2.3170690580135133e-05,5.232091421320847e-05,0.00011281697127223024,0.00023247133474277795,0.0004581052772872398,0.0008638556657416474,0.0015597393964779797,0.0026979276047186754,0.004472879976244127,0.007110732269926525,0.010843866711637978,0.015869073236543386,0.022292269546572874,0.030068642644214546,0.038952559789096154,0.048474296626430755,0.057958398140297664,0.06659049999098021,0.0735270104067074,0.07802866410507722,0.07958923738717875,0.07802866410507722,0.0735270104067074,0.06659049999098023,0.057958398140297664,0.04847429662643076,0.038952559789096154,0.030068642644214497,0.022292269546572773,0.015869073236543386,0.010843866711637978,0.007110732269926525,0.004472879976244127,0.0026979276047186754,0.0015597393964779797,0.0008638556657416474,0.0004581052772872398,0.0002324713347427779,0.00011281697127223024,5.232091421320847e-05,2.317069058013513e-05,9.790432639493705e-06,3.943368702018314e-06,1.5125249815960541e-06,5.518672230147827e-07,1.9131397064512394e-07,6.293222718589577e-08,1.9615239642357187e-08,5.783980920182249e-09,1.6107288638482235e-09,4.2281632676015645e-10,1.0439909302719974e-10,2.4190033750204657e-11,5.246031415707053e-12,1.0616968341311838e-12,1.998488158364584e-13,3.485735159938238e-14,5.60922899300406e-15,8.286361012392391e-16,1.1172621589742627e-16,1.3655426387463189e-17,1.500596306314622e-18,1.467974647481701e-19,1.2627738903068468e-20,9.403635353348721e-22,5.939138117904557e-23,3.093301103075288e-24,1.2755880837423786e-25,3.9048614808440056e-27,7.888609052210035e-29],\"yaxis\":\"y\",\"type\":\"bar\"}],                        {\"template\":{\"data\":{\"histogram2dcontour\":[{\"type\":\"histogram2dcontour\",\"colorbar\":{\"outlinewidth\":0,\"ticks\":\"\"},\"colorscale\":[[0.0,\"#0d0887\"],[0.1111111111111111,\"#46039f\"],[0.2222222222222222,\"#7201a8\"],[0.3333333333333333,\"#9c179e\"],[0.4444444444444444,\"#bd3786\"],[0.5555555555555556,\"#d8576b\"],[0.6666666666666666,\"#ed7953\"],[0.7777777777777778,\"#fb9f3a\"],[0.8888888888888888,\"#fdca26\"],[1.0,\"#f0f921\"]]}],\"choropleth\":[{\"type\":\"choropleth\",\"colorbar\":{\"outlinewidth\":0,\"ticks\":\"\"}}],\"histogram2d\":[{\"type\":\"histogram2d\",\"colorbar\":{\"outlinewidth\":0,\"ticks\":\"\"},\"colorscale\":[[0.0,\"#0d0887\"],[0.1111111111111111,\"#46039f\"],[0.2222222222222222,\"#7201a8\"],[0.3333333333333333,\"#9c179e\"],[0.4444444444444444,\"#bd3786\"],[0.5555555555555556,\"#d8576b\"],[0.6666666666666666,\"#ed7953\"],[0.7777777777777778,\"#fb9f3a\"],[0.8888888888888888,\"#fdca26\"],[1.0,\"#f0f921\"]]}],\"heatmap\":[{\"type\":\"heatmap\",\"colorbar\":{\"outlinewidth\":0,\"ticks\":\"\"},\"colorscale\":[[0.0,\"#0d0887\"],[0.1111111111111111,\"#46039f\"],[0.2222222222222222,\"#7201a8\"],[0.3333333333333333,\"#9c179e\"],[0.4444444444444444,\"#bd3786\"],[0.5555555555555556,\"#d8576b\"],[0.6666666666666666,\"#ed7953\"],[0.7777777777777778,\"#fb9f3a\"],[0.8888888888888888,\"#fdca26\"],[1.0,\"#f0f921\"]]}],\"heatmapgl\":[{\"type\":\"heatmapgl\",\"colorbar\":{\"outlinewidth\":0,\"ticks\":\"\"},\"colorscale\":[[0.0,\"#0d0887\"],[0.1111111111111111,\"#46039f\"],[0.2222222222222222,\"#7201a8\"],[0.3333333333333333,\"#9c179e\"],[0.4444444444444444,\"#bd3786\"],[0.5555555555555556,\"#d8576b\"],[0.6666666666666666,\"#ed7953\"],[0.7777777777777778,\"#fb9f3a\"],[0.8888888888888888,\"#fdca26\"],[1.0,\"#f0f921\"]]}],\"contourcarpet\":[{\"type\":\"contourcarpet\",\"colorbar\":{\"outlinewidth\":0,\"ticks\":\"\"}}],\"contour\":[{\"type\":\"contour\",\"colorbar\":{\"outlinewidth\":0,\"ticks\":\"\"},\"colorscale\":[[0.0,\"#0d0887\"],[0.1111111111111111,\"#46039f\"],[0.2222222222222222,\"#7201a8\"],[0.3333333333333333,\"#9c179e\"],[0.4444444444444444,\"#bd3786\"],[0.5555555555555556,\"#d8576b\"],[0.6666666666666666,\"#ed7953\"],[0.7777777777777778,\"#fb9f3a\"],[0.8888888888888888,\"#fdca26\"],[1.0,\"#f0f921\"]]}],\"surface\":[{\"type\":\"surface\",\"colorbar\":{\"outlinewidth\":0,\"ticks\":\"\"},\"colorscale\":[[0.0,\"#0d0887\"],[0.1111111111111111,\"#46039f\"],[0.2222222222222222,\"#7201a8\"],[0.3333333333333333,\"#9c179e\"],[0.4444444444444444,\"#bd3786\"],[0.5555555555555556,\"#d8576b\"],[0.6666666666666666,\"#ed7953\"],[0.7777777777777778,\"#fb9f3a\"],[0.8888888888888888,\"#fdca26\"],[1.0,\"#f0f921\"]]}],\"mesh3d\":[{\"type\":\"mesh3d\",\"colorbar\":{\"outlinewidth\":0,\"ticks\":\"\"}}],\"scatter\":[{\"fillpattern\":{\"fillmode\":\"overlay\",\"size\":10,\"solidity\":0.2},\"type\":\"scatter\"}],\"parcoords\":[{\"type\":\"parcoords\",\"line\":{\"colorbar\":{\"outlinewidth\":0,\"ticks\":\"\"}}}],\"scatterpolargl\":[{\"type\":\"scatterpolargl\",\"marker\":{\"colorbar\":{\"outlinewidth\":0,\"ticks\":\"\"}}}],\"bar\":[{\"error_x\":{\"color\":\"#2a3f5f\"},\"error_y\":{\"color\":\"#2a3f5f\"},\"marker\":{\"line\":{\"color\":\"#E5ECF6\",\"width\":0.5},\"pattern\":{\"fillmode\":\"overlay\",\"size\":10,\"solidity\":0.2}},\"type\":\"bar\"}],\"scattergeo\":[{\"type\":\"scattergeo\",\"marker\":{\"colorbar\":{\"outlinewidth\":0,\"ticks\":\"\"}}}],\"scatterpolar\":[{\"type\":\"scatterpolar\",\"marker\":{\"colorbar\":{\"outlinewidth\":0,\"ticks\":\"\"}}}],\"histogram\":[{\"marker\":{\"pattern\":{\"fillmode\":\"overlay\",\"size\":10,\"solidity\":0.2}},\"type\":\"histogram\"}],\"scattergl\":[{\"type\":\"scattergl\",\"marker\":{\"colorbar\":{\"outlinewidth\":0,\"ticks\":\"\"}}}],\"scatter3d\":[{\"type\":\"scatter3d\",\"line\":{\"colorbar\":{\"outlinewidth\":0,\"ticks\":\"\"}},\"marker\":{\"colorbar\":{\"outlinewidth\":0,\"ticks\":\"\"}}}],\"scattermapbox\":[{\"type\":\"scattermapbox\",\"marker\":{\"colorbar\":{\"outlinewidth\":0,\"ticks\":\"\"}}}],\"scatterternary\":[{\"type\":\"scatterternary\",\"marker\":{\"colorbar\":{\"outlinewidth\":0,\"ticks\":\"\"}}}],\"scattercarpet\":[{\"type\":\"scattercarpet\",\"marker\":{\"colorbar\":{\"outlinewidth\":0,\"ticks\":\"\"}}}],\"carpet\":[{\"aaxis\":{\"endlinecolor\":\"#2a3f5f\",\"gridcolor\":\"white\",\"linecolor\":\"white\",\"minorgridcolor\":\"white\",\"startlinecolor\":\"#2a3f5f\"},\"baxis\":{\"endlinecolor\":\"#2a3f5f\",\"gridcolor\":\"white\",\"linecolor\":\"white\",\"minorgridcolor\":\"white\",\"startlinecolor\":\"#2a3f5f\"},\"type\":\"carpet\"}],\"table\":[{\"cells\":{\"fill\":{\"color\":\"#EBF0F8\"},\"line\":{\"color\":\"white\"}},\"header\":{\"fill\":{\"color\":\"#C8D4E3\"},\"line\":{\"color\":\"white\"}},\"type\":\"table\"}],\"barpolar\":[{\"marker\":{\"line\":{\"color\":\"#E5ECF6\",\"width\":0.5},\"pattern\":{\"fillmode\":\"overlay\",\"size\":10,\"solidity\":0.2}},\"type\":\"barpolar\"}],\"pie\":[{\"automargin\":true,\"type\":\"pie\"}]},\"layout\":{\"autotypenumbers\":\"strict\",\"colorway\":[\"#636efa\",\"#EF553B\",\"#00cc96\",\"#ab63fa\",\"#FFA15A\",\"#19d3f3\",\"#FF6692\",\"#B6E880\",\"#FF97FF\",\"#FECB52\"],\"font\":{\"color\":\"#2a3f5f\"},\"hovermode\":\"closest\",\"hoverlabel\":{\"align\":\"left\"},\"paper_bgcolor\":\"white\",\"plot_bgcolor\":\"#E5ECF6\",\"polar\":{\"bgcolor\":\"#E5ECF6\",\"angularaxis\":{\"gridcolor\":\"white\",\"linecolor\":\"white\",\"ticks\":\"\"},\"radialaxis\":{\"gridcolor\":\"white\",\"linecolor\":\"white\",\"ticks\":\"\"}},\"ternary\":{\"bgcolor\":\"#E5ECF6\",\"aaxis\":{\"gridcolor\":\"white\",\"linecolor\":\"white\",\"ticks\":\"\"},\"baxis\":{\"gridcolor\":\"white\",\"linecolor\":\"white\",\"ticks\":\"\"},\"caxis\":{\"gridcolor\":\"white\",\"linecolor\":\"white\",\"ticks\":\"\"}},\"coloraxis\":{\"colorbar\":{\"outlinewidth\":0,\"ticks\":\"\"}},\"colorscale\":{\"sequential\":[[0.0,\"#0d0887\"],[0.1111111111111111,\"#46039f\"],[0.2222222222222222,\"#7201a8\"],[0.3333333333333333,\"#9c179e\"],[0.4444444444444444,\"#bd3786\"],[0.5555555555555556,\"#d8576b\"],[0.6666666666666666,\"#ed7953\"],[0.7777777777777778,\"#fb9f3a\"],[0.8888888888888888,\"#fdca26\"],[1.0,\"#f0f921\"]],\"sequentialminus\":[[0.0,\"#0d0887\"],[0.1111111111111111,\"#46039f\"],[0.2222222222222222,\"#7201a8\"],[0.3333333333333333,\"#9c179e\"],[0.4444444444444444,\"#bd3786\"],[0.5555555555555556,\"#d8576b\"],[0.6666666666666666,\"#ed7953\"],[0.7777777777777778,\"#fb9f3a\"],[0.8888888888888888,\"#fdca26\"],[1.0,\"#f0f921\"]],\"diverging\":[[0,\"#8e0152\"],[0.1,\"#c51b7d\"],[0.2,\"#de77ae\"],[0.3,\"#f1b6da\"],[0.4,\"#fde0ef\"],[0.5,\"#f7f7f7\"],[0.6,\"#e6f5d0\"],[0.7,\"#b8e186\"],[0.8,\"#7fbc41\"],[0.9,\"#4d9221\"],[1,\"#276419\"]]},\"xaxis\":{\"gridcolor\":\"white\",\"linecolor\":\"white\",\"ticks\":\"\",\"title\":{\"standoff\":15},\"zerolinecolor\":\"white\",\"automargin\":true,\"zerolinewidth\":2},\"yaxis\":{\"gridcolor\":\"white\",\"linecolor\":\"white\",\"ticks\":\"\",\"title\":{\"standoff\":15},\"zerolinecolor\":\"white\",\"automargin\":true,\"zerolinewidth\":2},\"scene\":{\"xaxis\":{\"backgroundcolor\":\"#E5ECF6\",\"gridcolor\":\"white\",\"linecolor\":\"white\",\"showbackground\":true,\"ticks\":\"\",\"zerolinecolor\":\"white\",\"gridwidth\":2},\"yaxis\":{\"backgroundcolor\":\"#E5ECF6\",\"gridcolor\":\"white\",\"linecolor\":\"white\",\"showbackground\":true,\"ticks\":\"\",\"zerolinecolor\":\"white\",\"gridwidth\":2},\"zaxis\":{\"backgroundcolor\":\"#E5ECF6\",\"gridcolor\":\"white\",\"linecolor\":\"white\",\"showbackground\":true,\"ticks\":\"\",\"zerolinecolor\":\"white\",\"gridwidth\":2}},\"shapedefaults\":{\"line\":{\"color\":\"#2a3f5f\"}},\"annotationdefaults\":{\"arrowcolor\":\"#2a3f5f\",\"arrowhead\":0,\"arrowwidth\":1},\"geo\":{\"bgcolor\":\"white\",\"landcolor\":\"#E5ECF6\",\"subunitcolor\":\"white\",\"showland\":true,\"showlakes\":true,\"lakecolor\":\"white\"},\"title\":{\"x\":0.05},\"mapbox\":{\"style\":\"light\"}}},\"xaxis\":{\"anchor\":\"y\",\"domain\":[0.0,1.0],\"title\":{\"text\":\"$\\\\hat p$\"}},\"yaxis\":{\"anchor\":\"x\",\"domain\":[0.0,1.0],\"title\":{\"text\":\"probability\"}},\"legend\":{\"tracegroupgap\":0},\"title\":{\"text\":\"$\\\\text{Theoretically Exact (Binomial) Sampling Distribution of } p_r \\\\text{ assuming \\\"}H_0 \\\\text{: 50-50 chance of red\\\"}$\"},\"barmode\":\"relative\",\"shapes\":[{\"line\":{\"color\":\"black\",\"dash\":\"dash\"},\"type\":\"line\",\"x0\":0.54,\"x1\":0.54,\"xref\":\"x\",\"y0\":0,\"y1\":1,\"yref\":\"y domain\"}],\"annotations\":[{\"showarrow\":false,\"text\":\"observed_test_stat (0.54)\",\"x\":0.54,\"xanchor\":\"left\",\"xref\":\"x\",\"y\":1,\"yanchor\":\"top\",\"yref\":\"y domain\"}]},                        {\"responsive\": true}                    ).then(function(){\n",
       "                            \n",
       "var gd = document.getElementById('20906ed3-374c-4b7f-9d65-b8045626986b');\n",
       "var x = new MutationObserver(function (mutations, observer) {{\n",
       "        var display = window.getComputedStyle(gd).display;\n",
       "        if (!display || display === 'none') {{\n",
       "            console.log([gd, 'removed!']);\n",
       "            Plotly.purge(gd);\n",
       "            observer.disconnect();\n",
       "        }}\n",
       "}});\n",
       "\n",
       "// Listen for the removal of the full notebook cells\n",
       "var notebookContainer = gd.closest('#notebook-container');\n",
       "if (notebookContainer) {{\n",
       "    x.observe(notebookContainer, {childList: true});\n",
       "}}\n",
       "\n",
       "// Listen for the clearing of the current output cell\n",
       "var outputEl = gd.closest('.output');\n",
       "if (outputEl) {{\n",
       "    x.observe(outputEl, {childList: true});\n",
       "}}\n",
       "\n",
       "                        })                };                });            </script>        </div>"
      ]
     },
     "metadata": {},
     "output_type": "display_data"
    }
   ],
   "source": [
    "# Theoretically Exact (Binomial) Sampling Distribution\n",
    "from scipy import stats; x=np.arange(0,100); sample_size=100; prob=stats.binom(n=sample_size, p=0.5).pmf(x) # setup for binomial distribution\n",
    "fig = px.bar(pd.DataFrame({'$\\hat p$':x/sample_size,'probability':prob}), x='$\\hat p$', y='probability',\n",
    "                title='$\\\\text{Theoretically Exact (Binomial) Sampling Distribution of } p_r \\\\text{ assuming \"}H_0 \\\\text{: 50-50 chance of red\"}$')\n",
    "fig.add_vline(x=observed_test_stat, line_dash=\"dash\", line_color=\"black\",\n",
    "              annotation_text=\"observed_test_stat (\"+str(observed_test_stat)+\")\")\n",
    "# Theoretically Exact (Binomial) Sampling Distribution p-value calculation\n",
    "p_value = (1-stats.binom(n=100, p=0.5).cdf(54-1))*2  # \"two sided\" p-value\n",
    "# This calculates \"as or more extreme\" as the sum of all the probabilities (bin heights) that are located at \n",
    "# 54/100, 55/100, 56/100, ..., up to 100/100 (and then multiplies this sum by two since this distribution is symmetric)\n",
    "print('Our theoretical p-value calculation based on the theoretical binomial distribution is ' + str(np.round(p_value, 5))); fig.show()\n",
    "# uncomment `nbins=100` and set `num_samples=100000` in the previous histogram to see that\n",
    "# the simulation estimates this Theoretically Exact (Binomial) Sampling Distribution..."
   ]
  },
  {
   "cell_type": "code",
   "execution_count": 98,
   "metadata": {
    "slideshow": {
     "slide_type": "subslide"
    }
   },
   "outputs": [
    {
     "name": "stdout",
     "output_type": "stream",
     "text": [
      "Approximate-theoretical parametric p-value calculation based on a continuous approximation of\n",
      "the theoretical binomial distribution is 0.42646 (\"continuity corrected\" adjusted to 0.48636).\n",
      "TtestResult(statistic=0.7985494095046912, pvalue=0.4264632540527483, df=99)\n"
     ]
    },
    {
     "data": {
      "application/vnd.plotly.v1+json": {
       "config": {
        "plotlyServerURL": "https://plot.ly"
       },
       "data": [
        {
         "hovertemplate": "x=%{x}<br>density=%{y}<extra></extra>",
         "legendgroup": "",
         "line": {
          "color": "#636efa",
          "dash": "solid"
         },
         "marker": {
          "symbol": "circle"
         },
         "mode": "lines",
         "name": "",
         "orientation": "v",
         "showlegend": false,
         "type": "scatter",
         "x": [
          0,
          0.005025125628140704,
          0.010050251256281407,
          0.01507537688442211,
          0.020100502512562814,
          0.02512562814070352,
          0.03015075376884422,
          0.035175879396984924,
          0.04020100502512563,
          0.04522613065326633,
          0.05025125628140704,
          0.05527638190954774,
          0.06030150753768844,
          0.06532663316582915,
          0.07035175879396985,
          0.07537688442211056,
          0.08040201005025126,
          0.08542713567839195,
          0.09045226130653267,
          0.09547738693467336,
          0.10050251256281408,
          0.10552763819095477,
          0.11055276381909548,
          0.11557788944723618,
          0.12060301507537688,
          0.12562814070351758,
          0.1306532663316583,
          0.135678391959799,
          0.1407035175879397,
          0.1457286432160804,
          0.15075376884422112,
          0.15577889447236182,
          0.16080402010050251,
          0.1658291457286432,
          0.1708542713567839,
          0.17587939698492464,
          0.18090452261306533,
          0.18592964824120603,
          0.19095477386934673,
          0.19597989949748745,
          0.20100502512562815,
          0.20603015075376885,
          0.21105527638190955,
          0.21608040201005024,
          0.22110552763819097,
          0.22613065326633167,
          0.23115577889447236,
          0.23618090452261306,
          0.24120603015075376,
          0.24623115577889448,
          0.25125628140703515,
          0.2562814070351759,
          0.2613065326633166,
          0.2663316582914573,
          0.271356783919598,
          0.2763819095477387,
          0.2814070351758794,
          0.2864321608040201,
          0.2914572864321608,
          0.2964824120603015,
          0.30150753768844224,
          0.3065326633165829,
          0.31155778894472363,
          0.3165829145728643,
          0.32160804020100503,
          0.32663316582914576,
          0.3316582914572864,
          0.33668341708542715,
          0.3417085427135678,
          0.34673366834170855,
          0.35175879396984927,
          0.35678391959798994,
          0.36180904522613067,
          0.36683417085427134,
          0.37185929648241206,
          0.3768844221105528,
          0.38190954773869346,
          0.3869346733668342,
          0.3919597989949749,
          0.3969849246231156,
          0.4020100502512563,
          0.40703517587939697,
          0.4120603015075377,
          0.4170854271356784,
          0.4221105527638191,
          0.4271356783919598,
          0.4321608040201005,
          0.4371859296482412,
          0.44221105527638194,
          0.4472361809045226,
          0.45226130653266333,
          0.457286432160804,
          0.4623115577889447,
          0.46733668341708545,
          0.4723618090452261,
          0.47738693467336685,
          0.4824120603015075,
          0.48743718592964824,
          0.49246231155778897,
          0.49748743718592964,
          0.5025125628140703,
          0.507537688442211,
          0.5125628140703518,
          0.5175879396984925,
          0.5226130653266332,
          0.5276381909547738,
          0.5326633165829145,
          0.5376884422110553,
          0.542713567839196,
          0.5477386934673367,
          0.5527638190954774,
          0.5577889447236181,
          0.5628140703517588,
          0.5678391959798995,
          0.5728643216080402,
          0.577889447236181,
          0.5829145728643216,
          0.5879396984924623,
          0.592964824120603,
          0.5979899497487438,
          0.6030150753768845,
          0.6080402010050251,
          0.6130653266331658,
          0.6180904522613065,
          0.6231155778894473,
          0.628140703517588,
          0.6331658291457286,
          0.6381909547738693,
          0.6432160804020101,
          0.6482412060301508,
          0.6532663316582915,
          0.6582914572864321,
          0.6633165829145728,
          0.6683417085427136,
          0.6733668341708543,
          0.678391959798995,
          0.6834170854271356,
          0.6884422110552764,
          0.6934673366834171,
          0.6984924623115578,
          0.7035175879396985,
          0.7085427135678392,
          0.7135678391959799,
          0.7185929648241206,
          0.7236180904522613,
          0.7286432160804021,
          0.7336683417085427,
          0.7386934673366834,
          0.7437185929648241,
          0.7487437185929648,
          0.7537688442211056,
          0.7587939698492463,
          0.7638190954773869,
          0.7688442211055276,
          0.7738693467336684,
          0.7788944723618091,
          0.7839195979899498,
          0.7889447236180904,
          0.7939698492462312,
          0.7989949748743719,
          0.8040201005025126,
          0.8090452261306533,
          0.8140703517587939,
          0.8190954773869347,
          0.8241206030150754,
          0.8291457286432161,
          0.8341708542713568,
          0.8391959798994975,
          0.8442211055276382,
          0.8492462311557789,
          0.8542713567839196,
          0.8592964824120604,
          0.864321608040201,
          0.8693467336683417,
          0.8743718592964824,
          0.8793969849246231,
          0.8844221105527639,
          0.8894472361809045,
          0.8944723618090452,
          0.8994974874371859,
          0.9045226130653267,
          0.9095477386934674,
          0.914572864321608,
          0.9195979899497487,
          0.9246231155778895,
          0.9296482412060302,
          0.9346733668341709,
          0.9396984924623115,
          0.9447236180904522,
          0.949748743718593,
          0.9547738693467337,
          0.9597989949748744,
          0.964824120603015,
          0.9698492462311558,
          0.9748743718592965,
          0.9798994974874372,
          0.9849246231155779,
          0.9899497487437187,
          0.9949748743718593,
          1
         ],
         "xaxis": "x",
         "y": [
          6.008043597140694e-15,
          9.946537941202964e-15,
          1.646627783472868e-14,
          2.72571533925848e-14,
          4.511317175621318e-14,
          7.465167579308459e-14,
          1.234991317278366e-13,
          2.0424454333045905e-13,
          3.3765451270000556e-13,
          5.579595957363476e-13,
          9.21537099702011e-13,
          1.5211560626219422e-12,
          2.5093185172772726e-12,
          4.136454595101992e-12,
          6.813334940285005e-12,
          1.121289987202859e-11,
          1.843612941975013e-11,
          3.028176363042856e-11,
          4.968409003364572e-11,
          8.142214508505042e-11,
          1.3326623971225734e-10,
          2.1782746410644478e-10,
          3.555343738627811e-10,
          5.794122779472713e-10,
          9.427372840759952e-10,
          1.5312616123419411e-09,
          2.4826856547076396e-09,
          4.017581334310044e-09,
          6.488349976224677e-09,
          1.0456482491661437e-08,
          1.6814071791002836e-08,
          2.6974248992633213e-08,
          4.31685365759921e-08,
          6.890935468468864e-08,
          1.0970651169776956e-07,
          1.741724890818507e-07,
          2.7572001851267585e-07,
          4.3515742218991453e-07,
          6.846375817128524e-07,
          1.073636679537484e-06,
          1.6779591496488095e-06,
          2.6132274240201363e-06,
          4.054976505790046e-06,
          6.268411986045242e-06,
          9.652209898579793e-06,
          1.4802574718668089e-05,
          2.260630500131394e-05,
          3.437506930404071e-05,
          5.2037746700280976e-05,
          7.841387245020927e-05,
          0.00011759934243702354,
          0.0001755060080883739,
          0.0002606100980439736,
          0.0003849809765038647,
          0.0005656819480872423,
          0.0008266588174830074,
          0.001201259558994491,
          0.0017355590927897793,
          0.0024926954205034715,
          0.0035584548744159545,
          0.0050483713463545105,
          0.007116621915133937,
          0.009967002374698495,
          0.013866242050802148,
          0.01915985757241272,
          0.0262906382955866,
          0.035819689862341436,
          0.04844972593103261,
          0.06504998340519895,
          0.08668174091097151,
          0.11462294955571782,
          0.1503899562758442,
          0.19575374473531273,
          0.252747584468104,
          0.3236625303763906,
          0.41102693171889393,
          0.5175660831026316,
          0.6461384735032086,
          0.7996458485636182,
          0.9809155595811011,
          1.1925554546202204,
          1.436783843933388,
          1.7152397469487481,
          2.0287815303683896,
          2.377284931537537,
          2.7594540214840384,
          3.1726605533476064,
          3.6128280175079674,
          4.074376280005433,
          4.550240702087673,
          5.031976049102353,
          5.509950392483993,
          5.973627876182578,
          6.411932130769662,
          6.8136748996031375,
          7.168027810948599,
          7.465009921756421,
          7.69596033084693,
          7.853964303950746,
          7.934203222164119,
          7.934203222164119,
          7.853964303950746,
          7.69596033084693,
          7.465009921756421,
          7.168027810948599,
          6.8136748996031375,
          6.411932130769662,
          5.973627876182578,
          5.509950392483993,
          5.031976049102353,
          4.550240702087673,
          4.074376280005433,
          3.6128280175079674,
          3.1726605533476064,
          2.7594540214840384,
          2.377284931537511,
          2.0287815303683896,
          1.7152397469487481,
          1.436783843933388,
          1.1925554546202077,
          0.9809155595811011,
          0.7996458485636182,
          0.6461384735032086,
          0.5175660831026316,
          0.41102693171889393,
          0.3236625303763906,
          0.25274758446810663,
          0.19575374473531273,
          0.1503899562758442,
          0.11462294955571782,
          0.08668174091097064,
          0.0650499834051996,
          0.04844972593103261,
          0.035819689862341436,
          0.0262906382955866,
          0.01915985757241272,
          0.013866242050802148,
          0.009967002374698495,
          0.007116621915133937,
          0.0050483713463545105,
          0.003558454874415921,
          0.0024926954205034715,
          0.0017355590927897793,
          0.001201259558994491,
          0.0008266588174829997,
          0.0005656819480872371,
          0.0003849809765038647,
          0.0002606100980439736,
          0.0001755060080883739,
          0.00011759934243702354,
          7.841387245020927e-05,
          5.2037746700280976e-05,
          3.437506930404071e-05,
          2.260630500131394e-05,
          1.4802574718668089e-05,
          9.652209898579793e-06,
          6.26841198604519e-06,
          4.054976505790046e-06,
          2.6132274240201363e-06,
          1.6779591496488095e-06,
          1.0736366795374756e-06,
          6.84637581712847e-07,
          4.3515742218991453e-07,
          2.7572001851267585e-07,
          1.741724890818507e-07,
          1.0970651169776956e-07,
          6.890935468468812e-08,
          4.31685365759921e-08,
          2.6974248992633213e-08,
          1.6814071791002836e-08,
          1.0456482491661437e-08,
          6.488349976224677e-09,
          4.017581334310044e-09,
          2.4826856547076396e-09,
          1.5312616123419411e-09,
          9.427372840759952e-10,
          5.794122779472672e-10,
          3.555343738627811e-10,
          2.1782746410644478e-10,
          1.3326623971225734e-10,
          8.142214508505042e-11,
          4.968409003364572e-11,
          3.028176363042856e-11,
          1.843612941975013e-11,
          1.121289987202859e-11,
          6.813334940285005e-12,
          4.136454595101992e-12,
          2.5093185172772726e-12,
          1.5211560626219422e-12,
          9.21537099702011e-13,
          5.579595957363476e-13,
          3.376545127000035e-13,
          2.0424454333045905e-13,
          1.234991317278366e-13,
          7.465167579308459e-14,
          4.511317175621318e-14,
          2.7257153392584638e-14,
          1.646627783472868e-14,
          9.946537941202964e-15,
          6.008043597140694e-15
         ],
         "yaxis": "y"
        }
       ],
       "layout": {
        "annotations": [
         {
          "showarrow": false,
          "text": "observed_test_stat (0.54)",
          "x": 0.54,
          "xanchor": "left",
          "xref": "x",
          "y": 1,
          "yanchor": "top",
          "yref": "y domain"
         }
        ],
        "legend": {
         "tracegroupgap": 0
        },
        "shapes": [
         {
          "line": {
           "color": "black",
           "dash": "dash"
          },
          "type": "line",
          "x0": 0.54,
          "x1": 0.54,
          "xref": "x",
          "y0": 0,
          "y1": 1,
          "yref": "y domain"
         }
        ],
        "template": {
         "data": {
          "bar": [
           {
            "error_x": {
             "color": "#2a3f5f"
            },
            "error_y": {
             "color": "#2a3f5f"
            },
            "marker": {
             "line": {
              "color": "#E5ECF6",
              "width": 0.5
             },
             "pattern": {
              "fillmode": "overlay",
              "size": 10,
              "solidity": 0.2
             }
            },
            "type": "bar"
           }
          ],
          "barpolar": [
           {
            "marker": {
             "line": {
              "color": "#E5ECF6",
              "width": 0.5
             },
             "pattern": {
              "fillmode": "overlay",
              "size": 10,
              "solidity": 0.2
             }
            },
            "type": "barpolar"
           }
          ],
          "carpet": [
           {
            "aaxis": {
             "endlinecolor": "#2a3f5f",
             "gridcolor": "white",
             "linecolor": "white",
             "minorgridcolor": "white",
             "startlinecolor": "#2a3f5f"
            },
            "baxis": {
             "endlinecolor": "#2a3f5f",
             "gridcolor": "white",
             "linecolor": "white",
             "minorgridcolor": "white",
             "startlinecolor": "#2a3f5f"
            },
            "type": "carpet"
           }
          ],
          "choropleth": [
           {
            "colorbar": {
             "outlinewidth": 0,
             "ticks": ""
            },
            "type": "choropleth"
           }
          ],
          "contour": [
           {
            "colorbar": {
             "outlinewidth": 0,
             "ticks": ""
            },
            "colorscale": [
             [
              0,
              "#0d0887"
             ],
             [
              0.1111111111111111,
              "#46039f"
             ],
             [
              0.2222222222222222,
              "#7201a8"
             ],
             [
              0.3333333333333333,
              "#9c179e"
             ],
             [
              0.4444444444444444,
              "#bd3786"
             ],
             [
              0.5555555555555556,
              "#d8576b"
             ],
             [
              0.6666666666666666,
              "#ed7953"
             ],
             [
              0.7777777777777778,
              "#fb9f3a"
             ],
             [
              0.8888888888888888,
              "#fdca26"
             ],
             [
              1,
              "#f0f921"
             ]
            ],
            "type": "contour"
           }
          ],
          "contourcarpet": [
           {
            "colorbar": {
             "outlinewidth": 0,
             "ticks": ""
            },
            "type": "contourcarpet"
           }
          ],
          "heatmap": [
           {
            "colorbar": {
             "outlinewidth": 0,
             "ticks": ""
            },
            "colorscale": [
             [
              0,
              "#0d0887"
             ],
             [
              0.1111111111111111,
              "#46039f"
             ],
             [
              0.2222222222222222,
              "#7201a8"
             ],
             [
              0.3333333333333333,
              "#9c179e"
             ],
             [
              0.4444444444444444,
              "#bd3786"
             ],
             [
              0.5555555555555556,
              "#d8576b"
             ],
             [
              0.6666666666666666,
              "#ed7953"
             ],
             [
              0.7777777777777778,
              "#fb9f3a"
             ],
             [
              0.8888888888888888,
              "#fdca26"
             ],
             [
              1,
              "#f0f921"
             ]
            ],
            "type": "heatmap"
           }
          ],
          "heatmapgl": [
           {
            "colorbar": {
             "outlinewidth": 0,
             "ticks": ""
            },
            "colorscale": [
             [
              0,
              "#0d0887"
             ],
             [
              0.1111111111111111,
              "#46039f"
             ],
             [
              0.2222222222222222,
              "#7201a8"
             ],
             [
              0.3333333333333333,
              "#9c179e"
             ],
             [
              0.4444444444444444,
              "#bd3786"
             ],
             [
              0.5555555555555556,
              "#d8576b"
             ],
             [
              0.6666666666666666,
              "#ed7953"
             ],
             [
              0.7777777777777778,
              "#fb9f3a"
             ],
             [
              0.8888888888888888,
              "#fdca26"
             ],
             [
              1,
              "#f0f921"
             ]
            ],
            "type": "heatmapgl"
           }
          ],
          "histogram": [
           {
            "marker": {
             "pattern": {
              "fillmode": "overlay",
              "size": 10,
              "solidity": 0.2
             }
            },
            "type": "histogram"
           }
          ],
          "histogram2d": [
           {
            "colorbar": {
             "outlinewidth": 0,
             "ticks": ""
            },
            "colorscale": [
             [
              0,
              "#0d0887"
             ],
             [
              0.1111111111111111,
              "#46039f"
             ],
             [
              0.2222222222222222,
              "#7201a8"
             ],
             [
              0.3333333333333333,
              "#9c179e"
             ],
             [
              0.4444444444444444,
              "#bd3786"
             ],
             [
              0.5555555555555556,
              "#d8576b"
             ],
             [
              0.6666666666666666,
              "#ed7953"
             ],
             [
              0.7777777777777778,
              "#fb9f3a"
             ],
             [
              0.8888888888888888,
              "#fdca26"
             ],
             [
              1,
              "#f0f921"
             ]
            ],
            "type": "histogram2d"
           }
          ],
          "histogram2dcontour": [
           {
            "colorbar": {
             "outlinewidth": 0,
             "ticks": ""
            },
            "colorscale": [
             [
              0,
              "#0d0887"
             ],
             [
              0.1111111111111111,
              "#46039f"
             ],
             [
              0.2222222222222222,
              "#7201a8"
             ],
             [
              0.3333333333333333,
              "#9c179e"
             ],
             [
              0.4444444444444444,
              "#bd3786"
             ],
             [
              0.5555555555555556,
              "#d8576b"
             ],
             [
              0.6666666666666666,
              "#ed7953"
             ],
             [
              0.7777777777777778,
              "#fb9f3a"
             ],
             [
              0.8888888888888888,
              "#fdca26"
             ],
             [
              1,
              "#f0f921"
             ]
            ],
            "type": "histogram2dcontour"
           }
          ],
          "mesh3d": [
           {
            "colorbar": {
             "outlinewidth": 0,
             "ticks": ""
            },
            "type": "mesh3d"
           }
          ],
          "parcoords": [
           {
            "line": {
             "colorbar": {
              "outlinewidth": 0,
              "ticks": ""
             }
            },
            "type": "parcoords"
           }
          ],
          "pie": [
           {
            "automargin": true,
            "type": "pie"
           }
          ],
          "scatter": [
           {
            "fillpattern": {
             "fillmode": "overlay",
             "size": 10,
             "solidity": 0.2
            },
            "type": "scatter"
           }
          ],
          "scatter3d": [
           {
            "line": {
             "colorbar": {
              "outlinewidth": 0,
              "ticks": ""
             }
            },
            "marker": {
             "colorbar": {
              "outlinewidth": 0,
              "ticks": ""
             }
            },
            "type": "scatter3d"
           }
          ],
          "scattercarpet": [
           {
            "marker": {
             "colorbar": {
              "outlinewidth": 0,
              "ticks": ""
             }
            },
            "type": "scattercarpet"
           }
          ],
          "scattergeo": [
           {
            "marker": {
             "colorbar": {
              "outlinewidth": 0,
              "ticks": ""
             }
            },
            "type": "scattergeo"
           }
          ],
          "scattergl": [
           {
            "marker": {
             "colorbar": {
              "outlinewidth": 0,
              "ticks": ""
             }
            },
            "type": "scattergl"
           }
          ],
          "scattermapbox": [
           {
            "marker": {
             "colorbar": {
              "outlinewidth": 0,
              "ticks": ""
             }
            },
            "type": "scattermapbox"
           }
          ],
          "scatterpolar": [
           {
            "marker": {
             "colorbar": {
              "outlinewidth": 0,
              "ticks": ""
             }
            },
            "type": "scatterpolar"
           }
          ],
          "scatterpolargl": [
           {
            "marker": {
             "colorbar": {
              "outlinewidth": 0,
              "ticks": ""
             }
            },
            "type": "scatterpolargl"
           }
          ],
          "scatterternary": [
           {
            "marker": {
             "colorbar": {
              "outlinewidth": 0,
              "ticks": ""
             }
            },
            "type": "scatterternary"
           }
          ],
          "surface": [
           {
            "colorbar": {
             "outlinewidth": 0,
             "ticks": ""
            },
            "colorscale": [
             [
              0,
              "#0d0887"
             ],
             [
              0.1111111111111111,
              "#46039f"
             ],
             [
              0.2222222222222222,
              "#7201a8"
             ],
             [
              0.3333333333333333,
              "#9c179e"
             ],
             [
              0.4444444444444444,
              "#bd3786"
             ],
             [
              0.5555555555555556,
              "#d8576b"
             ],
             [
              0.6666666666666666,
              "#ed7953"
             ],
             [
              0.7777777777777778,
              "#fb9f3a"
             ],
             [
              0.8888888888888888,
              "#fdca26"
             ],
             [
              1,
              "#f0f921"
             ]
            ],
            "type": "surface"
           }
          ],
          "table": [
           {
            "cells": {
             "fill": {
              "color": "#EBF0F8"
             },
             "line": {
              "color": "white"
             }
            },
            "header": {
             "fill": {
              "color": "#C8D4E3"
             },
             "line": {
              "color": "white"
             }
            },
            "type": "table"
           }
          ]
         },
         "layout": {
          "annotationdefaults": {
           "arrowcolor": "#2a3f5f",
           "arrowhead": 0,
           "arrowwidth": 1
          },
          "autotypenumbers": "strict",
          "coloraxis": {
           "colorbar": {
            "outlinewidth": 0,
            "ticks": ""
           }
          },
          "colorscale": {
           "diverging": [
            [
             0,
             "#8e0152"
            ],
            [
             0.1,
             "#c51b7d"
            ],
            [
             0.2,
             "#de77ae"
            ],
            [
             0.3,
             "#f1b6da"
            ],
            [
             0.4,
             "#fde0ef"
            ],
            [
             0.5,
             "#f7f7f7"
            ],
            [
             0.6,
             "#e6f5d0"
            ],
            [
             0.7,
             "#b8e186"
            ],
            [
             0.8,
             "#7fbc41"
            ],
            [
             0.9,
             "#4d9221"
            ],
            [
             1,
             "#276419"
            ]
           ],
           "sequential": [
            [
             0,
             "#0d0887"
            ],
            [
             0.1111111111111111,
             "#46039f"
            ],
            [
             0.2222222222222222,
             "#7201a8"
            ],
            [
             0.3333333333333333,
             "#9c179e"
            ],
            [
             0.4444444444444444,
             "#bd3786"
            ],
            [
             0.5555555555555556,
             "#d8576b"
            ],
            [
             0.6666666666666666,
             "#ed7953"
            ],
            [
             0.7777777777777778,
             "#fb9f3a"
            ],
            [
             0.8888888888888888,
             "#fdca26"
            ],
            [
             1,
             "#f0f921"
            ]
           ],
           "sequentialminus": [
            [
             0,
             "#0d0887"
            ],
            [
             0.1111111111111111,
             "#46039f"
            ],
            [
             0.2222222222222222,
             "#7201a8"
            ],
            [
             0.3333333333333333,
             "#9c179e"
            ],
            [
             0.4444444444444444,
             "#bd3786"
            ],
            [
             0.5555555555555556,
             "#d8576b"
            ],
            [
             0.6666666666666666,
             "#ed7953"
            ],
            [
             0.7777777777777778,
             "#fb9f3a"
            ],
            [
             0.8888888888888888,
             "#fdca26"
            ],
            [
             1,
             "#f0f921"
            ]
           ]
          },
          "colorway": [
           "#636efa",
           "#EF553B",
           "#00cc96",
           "#ab63fa",
           "#FFA15A",
           "#19d3f3",
           "#FF6692",
           "#B6E880",
           "#FF97FF",
           "#FECB52"
          ],
          "font": {
           "color": "#2a3f5f"
          },
          "geo": {
           "bgcolor": "white",
           "lakecolor": "white",
           "landcolor": "#E5ECF6",
           "showlakes": true,
           "showland": true,
           "subunitcolor": "white"
          },
          "hoverlabel": {
           "align": "left"
          },
          "hovermode": "closest",
          "mapbox": {
           "style": "light"
          },
          "paper_bgcolor": "white",
          "plot_bgcolor": "#E5ECF6",
          "polar": {
           "angularaxis": {
            "gridcolor": "white",
            "linecolor": "white",
            "ticks": ""
           },
           "bgcolor": "#E5ECF6",
           "radialaxis": {
            "gridcolor": "white",
            "linecolor": "white",
            "ticks": ""
           }
          },
          "scene": {
           "xaxis": {
            "backgroundcolor": "#E5ECF6",
            "gridcolor": "white",
            "gridwidth": 2,
            "linecolor": "white",
            "showbackground": true,
            "ticks": "",
            "zerolinecolor": "white"
           },
           "yaxis": {
            "backgroundcolor": "#E5ECF6",
            "gridcolor": "white",
            "gridwidth": 2,
            "linecolor": "white",
            "showbackground": true,
            "ticks": "",
            "zerolinecolor": "white"
           },
           "zaxis": {
            "backgroundcolor": "#E5ECF6",
            "gridcolor": "white",
            "gridwidth": 2,
            "linecolor": "white",
            "showbackground": true,
            "ticks": "",
            "zerolinecolor": "white"
           }
          },
          "shapedefaults": {
           "line": {
            "color": "#2a3f5f"
           }
          },
          "ternary": {
           "aaxis": {
            "gridcolor": "white",
            "linecolor": "white",
            "ticks": ""
           },
           "baxis": {
            "gridcolor": "white",
            "linecolor": "white",
            "ticks": ""
           },
           "bgcolor": "#E5ECF6",
           "caxis": {
            "gridcolor": "white",
            "linecolor": "white",
            "ticks": ""
           }
          },
          "title": {
           "x": 0.05
          },
          "xaxis": {
           "automargin": true,
           "gridcolor": "white",
           "linecolor": "white",
           "ticks": "",
           "title": {
            "standoff": 15
           },
           "zerolinecolor": "white",
           "zerolinewidth": 2
          },
          "yaxis": {
           "automargin": true,
           "gridcolor": "white",
           "linecolor": "white",
           "ticks": "",
           "title": {
            "standoff": 15
           },
           "zerolinecolor": "white",
           "zerolinewidth": 2
          }
         }
        },
        "title": {
         "text": "$$\\text{Continuous Approximation to the Theoretical (Binomial) Sampling Distribution (under } H_0: p=0.5\\text{)}$$"
        },
        "xaxis": {
         "anchor": "y",
         "domain": [
          0,
          1
         ],
         "title": {
          "text": "x"
         }
        },
        "yaxis": {
         "anchor": "x",
         "domain": [
          0,
          1
         ],
         "title": {
          "text": "density"
         }
        }
       }
      },
      "text/html": [
       "<div>                            <div id=\"381ae6a8-be1a-4726-8ad0-df2e8f0b9bfe\" class=\"plotly-graph-div\" style=\"height:525px; width:100%;\"></div>            <script type=\"text/javascript\">                require([\"plotly\"], function(Plotly) {                    window.PLOTLYENV=window.PLOTLYENV || {};                                    if (document.getElementById(\"381ae6a8-be1a-4726-8ad0-df2e8f0b9bfe\")) {                    Plotly.newPlot(                        \"381ae6a8-be1a-4726-8ad0-df2e8f0b9bfe\",                        [{\"hovertemplate\":\"x=%{x}\\u003cbr\\u003edensity=%{y}\\u003cextra\\u003e\\u003c\\u002fextra\\u003e\",\"legendgroup\":\"\",\"line\":{\"color\":\"#636efa\",\"dash\":\"solid\"},\"marker\":{\"symbol\":\"circle\"},\"mode\":\"lines\",\"name\":\"\",\"orientation\":\"v\",\"showlegend\":false,\"x\":[0.0,0.005025125628140704,0.010050251256281407,0.01507537688442211,0.020100502512562814,0.02512562814070352,0.03015075376884422,0.035175879396984924,0.04020100502512563,0.04522613065326633,0.05025125628140704,0.05527638190954774,0.06030150753768844,0.06532663316582915,0.07035175879396985,0.07537688442211056,0.08040201005025126,0.08542713567839195,0.09045226130653267,0.09547738693467336,0.10050251256281408,0.10552763819095477,0.11055276381909548,0.11557788944723618,0.12060301507537688,0.12562814070351758,0.1306532663316583,0.135678391959799,0.1407035175879397,0.1457286432160804,0.15075376884422112,0.15577889447236182,0.16080402010050251,0.1658291457286432,0.1708542713567839,0.17587939698492464,0.18090452261306533,0.18592964824120603,0.19095477386934673,0.19597989949748745,0.20100502512562815,0.20603015075376885,0.21105527638190955,0.21608040201005024,0.22110552763819097,0.22613065326633167,0.23115577889447236,0.23618090452261306,0.24120603015075376,0.24623115577889448,0.25125628140703515,0.2562814070351759,0.2613065326633166,0.2663316582914573,0.271356783919598,0.2763819095477387,0.2814070351758794,0.2864321608040201,0.2914572864321608,0.2964824120603015,0.30150753768844224,0.3065326633165829,0.31155778894472363,0.3165829145728643,0.32160804020100503,0.32663316582914576,0.3316582914572864,0.33668341708542715,0.3417085427135678,0.34673366834170855,0.35175879396984927,0.35678391959798994,0.36180904522613067,0.36683417085427134,0.37185929648241206,0.3768844221105528,0.38190954773869346,0.3869346733668342,0.3919597989949749,0.3969849246231156,0.4020100502512563,0.40703517587939697,0.4120603015075377,0.4170854271356784,0.4221105527638191,0.4271356783919598,0.4321608040201005,0.4371859296482412,0.44221105527638194,0.4472361809045226,0.45226130653266333,0.457286432160804,0.4623115577889447,0.46733668341708545,0.4723618090452261,0.47738693467336685,0.4824120603015075,0.48743718592964824,0.49246231155778897,0.49748743718592964,0.5025125628140703,0.507537688442211,0.5125628140703518,0.5175879396984925,0.5226130653266332,0.5276381909547738,0.5326633165829145,0.5376884422110553,0.542713567839196,0.5477386934673367,0.5527638190954774,0.5577889447236181,0.5628140703517588,0.5678391959798995,0.5728643216080402,0.577889447236181,0.5829145728643216,0.5879396984924623,0.592964824120603,0.5979899497487438,0.6030150753768845,0.6080402010050251,0.6130653266331658,0.6180904522613065,0.6231155778894473,0.628140703517588,0.6331658291457286,0.6381909547738693,0.6432160804020101,0.6482412060301508,0.6532663316582915,0.6582914572864321,0.6633165829145728,0.6683417085427136,0.6733668341708543,0.678391959798995,0.6834170854271356,0.6884422110552764,0.6934673366834171,0.6984924623115578,0.7035175879396985,0.7085427135678392,0.7135678391959799,0.7185929648241206,0.7236180904522613,0.7286432160804021,0.7336683417085427,0.7386934673366834,0.7437185929648241,0.7487437185929648,0.7537688442211056,0.7587939698492463,0.7638190954773869,0.7688442211055276,0.7738693467336684,0.7788944723618091,0.7839195979899498,0.7889447236180904,0.7939698492462312,0.7989949748743719,0.8040201005025126,0.8090452261306533,0.8140703517587939,0.8190954773869347,0.8241206030150754,0.8291457286432161,0.8341708542713568,0.8391959798994975,0.8442211055276382,0.8492462311557789,0.8542713567839196,0.8592964824120604,0.864321608040201,0.8693467336683417,0.8743718592964824,0.8793969849246231,0.8844221105527639,0.8894472361809045,0.8944723618090452,0.8994974874371859,0.9045226130653267,0.9095477386934674,0.914572864321608,0.9195979899497487,0.9246231155778895,0.9296482412060302,0.9346733668341709,0.9396984924623115,0.9447236180904522,0.949748743718593,0.9547738693467337,0.9597989949748744,0.964824120603015,0.9698492462311558,0.9748743718592965,0.9798994974874372,0.9849246231155779,0.9899497487437187,0.9949748743718593,1.0],\"xaxis\":\"x\",\"y\":[6.008043597140694e-15,9.946537941202964e-15,1.646627783472868e-14,2.72571533925848e-14,4.511317175621318e-14,7.465167579308459e-14,1.234991317278366e-13,2.0424454333045905e-13,3.3765451270000556e-13,5.579595957363476e-13,9.21537099702011e-13,1.5211560626219422e-12,2.5093185172772726e-12,4.136454595101992e-12,6.813334940285005e-12,1.121289987202859e-11,1.843612941975013e-11,3.028176363042856e-11,4.968409003364572e-11,8.142214508505042e-11,1.3326623971225734e-10,2.1782746410644478e-10,3.555343738627811e-10,5.794122779472713e-10,9.427372840759952e-10,1.5312616123419411e-09,2.4826856547076396e-09,4.017581334310044e-09,6.488349976224677e-09,1.0456482491661437e-08,1.6814071791002836e-08,2.6974248992633213e-08,4.31685365759921e-08,6.890935468468864e-08,1.0970651169776956e-07,1.741724890818507e-07,2.7572001851267585e-07,4.3515742218991453e-07,6.846375817128524e-07,1.073636679537484e-06,1.6779591496488095e-06,2.6132274240201363e-06,4.054976505790046e-06,6.268411986045242e-06,9.652209898579793e-06,1.4802574718668089e-05,2.260630500131394e-05,3.437506930404071e-05,5.2037746700280976e-05,7.841387245020927e-05,0.00011759934243702354,0.0001755060080883739,0.0002606100980439736,0.0003849809765038647,0.0005656819480872423,0.0008266588174830074,0.001201259558994491,0.0017355590927897793,0.0024926954205034715,0.0035584548744159545,0.0050483713463545105,0.007116621915133937,0.009967002374698495,0.013866242050802148,0.01915985757241272,0.0262906382955866,0.035819689862341436,0.04844972593103261,0.06504998340519895,0.08668174091097151,0.11462294955571782,0.1503899562758442,0.19575374473531273,0.252747584468104,0.3236625303763906,0.41102693171889393,0.5175660831026316,0.6461384735032086,0.7996458485636182,0.9809155595811011,1.1925554546202204,1.436783843933388,1.7152397469487481,2.0287815303683896,2.377284931537537,2.7594540214840384,3.1726605533476064,3.6128280175079674,4.074376280005433,4.550240702087673,5.031976049102353,5.509950392483993,5.973627876182578,6.411932130769662,6.8136748996031375,7.168027810948599,7.465009921756421,7.69596033084693,7.853964303950746,7.934203222164119,7.934203222164119,7.853964303950746,7.69596033084693,7.465009921756421,7.168027810948599,6.8136748996031375,6.411932130769662,5.973627876182578,5.509950392483993,5.031976049102353,4.550240702087673,4.074376280005433,3.6128280175079674,3.1726605533476064,2.7594540214840384,2.377284931537511,2.0287815303683896,1.7152397469487481,1.436783843933388,1.1925554546202077,0.9809155595811011,0.7996458485636182,0.6461384735032086,0.5175660831026316,0.41102693171889393,0.3236625303763906,0.25274758446810663,0.19575374473531273,0.1503899562758442,0.11462294955571782,0.08668174091097064,0.0650499834051996,0.04844972593103261,0.035819689862341436,0.0262906382955866,0.01915985757241272,0.013866242050802148,0.009967002374698495,0.007116621915133937,0.0050483713463545105,0.003558454874415921,0.0024926954205034715,0.0017355590927897793,0.001201259558994491,0.0008266588174829997,0.0005656819480872371,0.0003849809765038647,0.0002606100980439736,0.0001755060080883739,0.00011759934243702354,7.841387245020927e-05,5.2037746700280976e-05,3.437506930404071e-05,2.260630500131394e-05,1.4802574718668089e-05,9.652209898579793e-06,6.26841198604519e-06,4.054976505790046e-06,2.6132274240201363e-06,1.6779591496488095e-06,1.0736366795374756e-06,6.84637581712847e-07,4.3515742218991453e-07,2.7572001851267585e-07,1.741724890818507e-07,1.0970651169776956e-07,6.890935468468812e-08,4.31685365759921e-08,2.6974248992633213e-08,1.6814071791002836e-08,1.0456482491661437e-08,6.488349976224677e-09,4.017581334310044e-09,2.4826856547076396e-09,1.5312616123419411e-09,9.427372840759952e-10,5.794122779472672e-10,3.555343738627811e-10,2.1782746410644478e-10,1.3326623971225734e-10,8.142214508505042e-11,4.968409003364572e-11,3.028176363042856e-11,1.843612941975013e-11,1.121289987202859e-11,6.813334940285005e-12,4.136454595101992e-12,2.5093185172772726e-12,1.5211560626219422e-12,9.21537099702011e-13,5.579595957363476e-13,3.376545127000035e-13,2.0424454333045905e-13,1.234991317278366e-13,7.465167579308459e-14,4.511317175621318e-14,2.7257153392584638e-14,1.646627783472868e-14,9.946537941202964e-15,6.008043597140694e-15],\"yaxis\":\"y\",\"type\":\"scatter\"}],                        {\"template\":{\"data\":{\"histogram2dcontour\":[{\"type\":\"histogram2dcontour\",\"colorbar\":{\"outlinewidth\":0,\"ticks\":\"\"},\"colorscale\":[[0.0,\"#0d0887\"],[0.1111111111111111,\"#46039f\"],[0.2222222222222222,\"#7201a8\"],[0.3333333333333333,\"#9c179e\"],[0.4444444444444444,\"#bd3786\"],[0.5555555555555556,\"#d8576b\"],[0.6666666666666666,\"#ed7953\"],[0.7777777777777778,\"#fb9f3a\"],[0.8888888888888888,\"#fdca26\"],[1.0,\"#f0f921\"]]}],\"choropleth\":[{\"type\":\"choropleth\",\"colorbar\":{\"outlinewidth\":0,\"ticks\":\"\"}}],\"histogram2d\":[{\"type\":\"histogram2d\",\"colorbar\":{\"outlinewidth\":0,\"ticks\":\"\"},\"colorscale\":[[0.0,\"#0d0887\"],[0.1111111111111111,\"#46039f\"],[0.2222222222222222,\"#7201a8\"],[0.3333333333333333,\"#9c179e\"],[0.4444444444444444,\"#bd3786\"],[0.5555555555555556,\"#d8576b\"],[0.6666666666666666,\"#ed7953\"],[0.7777777777777778,\"#fb9f3a\"],[0.8888888888888888,\"#fdca26\"],[1.0,\"#f0f921\"]]}],\"heatmap\":[{\"type\":\"heatmap\",\"colorbar\":{\"outlinewidth\":0,\"ticks\":\"\"},\"colorscale\":[[0.0,\"#0d0887\"],[0.1111111111111111,\"#46039f\"],[0.2222222222222222,\"#7201a8\"],[0.3333333333333333,\"#9c179e\"],[0.4444444444444444,\"#bd3786\"],[0.5555555555555556,\"#d8576b\"],[0.6666666666666666,\"#ed7953\"],[0.7777777777777778,\"#fb9f3a\"],[0.8888888888888888,\"#fdca26\"],[1.0,\"#f0f921\"]]}],\"heatmapgl\":[{\"type\":\"heatmapgl\",\"colorbar\":{\"outlinewidth\":0,\"ticks\":\"\"},\"colorscale\":[[0.0,\"#0d0887\"],[0.1111111111111111,\"#46039f\"],[0.2222222222222222,\"#7201a8\"],[0.3333333333333333,\"#9c179e\"],[0.4444444444444444,\"#bd3786\"],[0.5555555555555556,\"#d8576b\"],[0.6666666666666666,\"#ed7953\"],[0.7777777777777778,\"#fb9f3a\"],[0.8888888888888888,\"#fdca26\"],[1.0,\"#f0f921\"]]}],\"contourcarpet\":[{\"type\":\"contourcarpet\",\"colorbar\":{\"outlinewidth\":0,\"ticks\":\"\"}}],\"contour\":[{\"type\":\"contour\",\"colorbar\":{\"outlinewidth\":0,\"ticks\":\"\"},\"colorscale\":[[0.0,\"#0d0887\"],[0.1111111111111111,\"#46039f\"],[0.2222222222222222,\"#7201a8\"],[0.3333333333333333,\"#9c179e\"],[0.4444444444444444,\"#bd3786\"],[0.5555555555555556,\"#d8576b\"],[0.6666666666666666,\"#ed7953\"],[0.7777777777777778,\"#fb9f3a\"],[0.8888888888888888,\"#fdca26\"],[1.0,\"#f0f921\"]]}],\"surface\":[{\"type\":\"surface\",\"colorbar\":{\"outlinewidth\":0,\"ticks\":\"\"},\"colorscale\":[[0.0,\"#0d0887\"],[0.1111111111111111,\"#46039f\"],[0.2222222222222222,\"#7201a8\"],[0.3333333333333333,\"#9c179e\"],[0.4444444444444444,\"#bd3786\"],[0.5555555555555556,\"#d8576b\"],[0.6666666666666666,\"#ed7953\"],[0.7777777777777778,\"#fb9f3a\"],[0.8888888888888888,\"#fdca26\"],[1.0,\"#f0f921\"]]}],\"mesh3d\":[{\"type\":\"mesh3d\",\"colorbar\":{\"outlinewidth\":0,\"ticks\":\"\"}}],\"scatter\":[{\"fillpattern\":{\"fillmode\":\"overlay\",\"size\":10,\"solidity\":0.2},\"type\":\"scatter\"}],\"parcoords\":[{\"type\":\"parcoords\",\"line\":{\"colorbar\":{\"outlinewidth\":0,\"ticks\":\"\"}}}],\"scatterpolargl\":[{\"type\":\"scatterpolargl\",\"marker\":{\"colorbar\":{\"outlinewidth\":0,\"ticks\":\"\"}}}],\"bar\":[{\"error_x\":{\"color\":\"#2a3f5f\"},\"error_y\":{\"color\":\"#2a3f5f\"},\"marker\":{\"line\":{\"color\":\"#E5ECF6\",\"width\":0.5},\"pattern\":{\"fillmode\":\"overlay\",\"size\":10,\"solidity\":0.2}},\"type\":\"bar\"}],\"scattergeo\":[{\"type\":\"scattergeo\",\"marker\":{\"colorbar\":{\"outlinewidth\":0,\"ticks\":\"\"}}}],\"scatterpolar\":[{\"type\":\"scatterpolar\",\"marker\":{\"colorbar\":{\"outlinewidth\":0,\"ticks\":\"\"}}}],\"histogram\":[{\"marker\":{\"pattern\":{\"fillmode\":\"overlay\",\"size\":10,\"solidity\":0.2}},\"type\":\"histogram\"}],\"scattergl\":[{\"type\":\"scattergl\",\"marker\":{\"colorbar\":{\"outlinewidth\":0,\"ticks\":\"\"}}}],\"scatter3d\":[{\"type\":\"scatter3d\",\"line\":{\"colorbar\":{\"outlinewidth\":0,\"ticks\":\"\"}},\"marker\":{\"colorbar\":{\"outlinewidth\":0,\"ticks\":\"\"}}}],\"scattermapbox\":[{\"type\":\"scattermapbox\",\"marker\":{\"colorbar\":{\"outlinewidth\":0,\"ticks\":\"\"}}}],\"scatterternary\":[{\"type\":\"scatterternary\",\"marker\":{\"colorbar\":{\"outlinewidth\":0,\"ticks\":\"\"}}}],\"scattercarpet\":[{\"type\":\"scattercarpet\",\"marker\":{\"colorbar\":{\"outlinewidth\":0,\"ticks\":\"\"}}}],\"carpet\":[{\"aaxis\":{\"endlinecolor\":\"#2a3f5f\",\"gridcolor\":\"white\",\"linecolor\":\"white\",\"minorgridcolor\":\"white\",\"startlinecolor\":\"#2a3f5f\"},\"baxis\":{\"endlinecolor\":\"#2a3f5f\",\"gridcolor\":\"white\",\"linecolor\":\"white\",\"minorgridcolor\":\"white\",\"startlinecolor\":\"#2a3f5f\"},\"type\":\"carpet\"}],\"table\":[{\"cells\":{\"fill\":{\"color\":\"#EBF0F8\"},\"line\":{\"color\":\"white\"}},\"header\":{\"fill\":{\"color\":\"#C8D4E3\"},\"line\":{\"color\":\"white\"}},\"type\":\"table\"}],\"barpolar\":[{\"marker\":{\"line\":{\"color\":\"#E5ECF6\",\"width\":0.5},\"pattern\":{\"fillmode\":\"overlay\",\"size\":10,\"solidity\":0.2}},\"type\":\"barpolar\"}],\"pie\":[{\"automargin\":true,\"type\":\"pie\"}]},\"layout\":{\"autotypenumbers\":\"strict\",\"colorway\":[\"#636efa\",\"#EF553B\",\"#00cc96\",\"#ab63fa\",\"#FFA15A\",\"#19d3f3\",\"#FF6692\",\"#B6E880\",\"#FF97FF\",\"#FECB52\"],\"font\":{\"color\":\"#2a3f5f\"},\"hovermode\":\"closest\",\"hoverlabel\":{\"align\":\"left\"},\"paper_bgcolor\":\"white\",\"plot_bgcolor\":\"#E5ECF6\",\"polar\":{\"bgcolor\":\"#E5ECF6\",\"angularaxis\":{\"gridcolor\":\"white\",\"linecolor\":\"white\",\"ticks\":\"\"},\"radialaxis\":{\"gridcolor\":\"white\",\"linecolor\":\"white\",\"ticks\":\"\"}},\"ternary\":{\"bgcolor\":\"#E5ECF6\",\"aaxis\":{\"gridcolor\":\"white\",\"linecolor\":\"white\",\"ticks\":\"\"},\"baxis\":{\"gridcolor\":\"white\",\"linecolor\":\"white\",\"ticks\":\"\"},\"caxis\":{\"gridcolor\":\"white\",\"linecolor\":\"white\",\"ticks\":\"\"}},\"coloraxis\":{\"colorbar\":{\"outlinewidth\":0,\"ticks\":\"\"}},\"colorscale\":{\"sequential\":[[0.0,\"#0d0887\"],[0.1111111111111111,\"#46039f\"],[0.2222222222222222,\"#7201a8\"],[0.3333333333333333,\"#9c179e\"],[0.4444444444444444,\"#bd3786\"],[0.5555555555555556,\"#d8576b\"],[0.6666666666666666,\"#ed7953\"],[0.7777777777777778,\"#fb9f3a\"],[0.8888888888888888,\"#fdca26\"],[1.0,\"#f0f921\"]],\"sequentialminus\":[[0.0,\"#0d0887\"],[0.1111111111111111,\"#46039f\"],[0.2222222222222222,\"#7201a8\"],[0.3333333333333333,\"#9c179e\"],[0.4444444444444444,\"#bd3786\"],[0.5555555555555556,\"#d8576b\"],[0.6666666666666666,\"#ed7953\"],[0.7777777777777778,\"#fb9f3a\"],[0.8888888888888888,\"#fdca26\"],[1.0,\"#f0f921\"]],\"diverging\":[[0,\"#8e0152\"],[0.1,\"#c51b7d\"],[0.2,\"#de77ae\"],[0.3,\"#f1b6da\"],[0.4,\"#fde0ef\"],[0.5,\"#f7f7f7\"],[0.6,\"#e6f5d0\"],[0.7,\"#b8e186\"],[0.8,\"#7fbc41\"],[0.9,\"#4d9221\"],[1,\"#276419\"]]},\"xaxis\":{\"gridcolor\":\"white\",\"linecolor\":\"white\",\"ticks\":\"\",\"title\":{\"standoff\":15},\"zerolinecolor\":\"white\",\"automargin\":true,\"zerolinewidth\":2},\"yaxis\":{\"gridcolor\":\"white\",\"linecolor\":\"white\",\"ticks\":\"\",\"title\":{\"standoff\":15},\"zerolinecolor\":\"white\",\"automargin\":true,\"zerolinewidth\":2},\"scene\":{\"xaxis\":{\"backgroundcolor\":\"#E5ECF6\",\"gridcolor\":\"white\",\"linecolor\":\"white\",\"showbackground\":true,\"ticks\":\"\",\"zerolinecolor\":\"white\",\"gridwidth\":2},\"yaxis\":{\"backgroundcolor\":\"#E5ECF6\",\"gridcolor\":\"white\",\"linecolor\":\"white\",\"showbackground\":true,\"ticks\":\"\",\"zerolinecolor\":\"white\",\"gridwidth\":2},\"zaxis\":{\"backgroundcolor\":\"#E5ECF6\",\"gridcolor\":\"white\",\"linecolor\":\"white\",\"showbackground\":true,\"ticks\":\"\",\"zerolinecolor\":\"white\",\"gridwidth\":2}},\"shapedefaults\":{\"line\":{\"color\":\"#2a3f5f\"}},\"annotationdefaults\":{\"arrowcolor\":\"#2a3f5f\",\"arrowhead\":0,\"arrowwidth\":1},\"geo\":{\"bgcolor\":\"white\",\"landcolor\":\"#E5ECF6\",\"subunitcolor\":\"white\",\"showland\":true,\"showlakes\":true,\"lakecolor\":\"white\"},\"title\":{\"x\":0.05},\"mapbox\":{\"style\":\"light\"}}},\"xaxis\":{\"anchor\":\"y\",\"domain\":[0.0,1.0],\"title\":{\"text\":\"x\"}},\"yaxis\":{\"anchor\":\"x\",\"domain\":[0.0,1.0],\"title\":{\"text\":\"density\"}},\"legend\":{\"tracegroupgap\":0},\"title\":{\"text\":\"$$\\\\text{Continuous Approximation to the Theoretical (Binomial) Sampling Distribution (under } H_0: p=0.5\\\\text{)}$$\"},\"shapes\":[{\"line\":{\"color\":\"black\",\"dash\":\"dash\"},\"type\":\"line\",\"x0\":0.54,\"x1\":0.54,\"xref\":\"x\",\"y0\":0,\"y1\":1,\"yref\":\"y domain\"}],\"annotations\":[{\"showarrow\":false,\"text\":\"observed_test_stat (0.54)\",\"x\":0.54,\"xanchor\":\"left\",\"xref\":\"x\",\"y\":1,\"yanchor\":\"top\",\"yref\":\"y domain\"}]},                        {\"responsive\": true}                    ).then(function(){\n",
       "                            \n",
       "var gd = document.getElementById('381ae6a8-be1a-4726-8ad0-df2e8f0b9bfe');\n",
       "var x = new MutationObserver(function (mutations, observer) {{\n",
       "        var display = window.getComputedStyle(gd).display;\n",
       "        if (!display || display === 'none') {{\n",
       "            console.log([gd, 'removed!']);\n",
       "            Plotly.purge(gd);\n",
       "            observer.disconnect();\n",
       "        }}\n",
       "}});\n",
       "\n",
       "// Listen for the removal of the full notebook cells\n",
       "var notebookContainer = gd.closest('#notebook-container');\n",
       "if (notebookContainer) {{\n",
       "    x.observe(notebookContainer, {childList: true});\n",
       "}}\n",
       "\n",
       "// Listen for the clearing of the current output cell\n",
       "var outputEl = gd.closest('.output');\n",
       "if (outputEl) {{\n",
       "    x.observe(outputEl, {childList: true});\n",
       "}}\n",
       "\n",
       "                        })                };                });            </script>        </div>"
      ]
     },
     "metadata": {},
     "output_type": "display_data"
    }
   ],
   "source": [
    "# Continuous Approximation to the Theoretical (Binomial) Sampling Distribution\n",
    "np.random.seed(56); spins = 100; x = np.linspace(0,1,200); spin_results = np.random.choice(['Red', 'Black'], p=[0.51, 0.49], size=spins, replace=True)\n",
    "n = len(spin_results); spin_results_numeric = np.where(spin_results == 'Red', 1, 0) # convert red spins to True/1 and black spins to False/0\n",
    "dens = stats.t(loc=0.5, df=n-1, scale=np.std(spin_results_numeric, ddof=1)/n**0.5) # Another possible approximation could be based on `dens=stats.norm(loc=0.5, scale=0.5*100**0.5).pdf(x)`\n",
    "# p-value calculations: \"as or more extreme as\" the area under the curve from 54/100 to 100/100 (and multiply this sum by two since this distribution is symmetric)\n",
    "p_value = (1-dens.cdf(54/100))*2 # Area under the curve from 54/100 to 100/100 for the continuous approximation to the binomial distirbution\n",
    "p_value2 = (1-dens.cdf((54-0.5)/100))*2 # The '-0.5' is an adjustment to the discontinuous (\"probability bars\") binomial distribution when approximating it as the continuous (\"smooth line\") normal distribution \n",
    "print('Approximate-theoretical parametric p-value calculation based on a continuous approximation of\\nthe theoretical binomial distribution is ' \n",
    "      + str(np.round(p_value,5)) + ' (\"continuity corrected\" adjusted to ' + str(np.round(p_value2,5))+\").\")\n",
    "print(stats.ttest_1samp(spin_results_numeric, .5)) # scipy has built in ttest function\n",
    "fig = px.line(pd.DataFrame({'x':x, 'density':dens.pdf(x)}), x='x', y='density', title='$$\\\\text{Continuous Approximation to the Theoretical (Binomial) Sampling Distribution (under } H_0: p=0.5\\\\text{)}$$'); fig.add_vline(x=observed_test_stat, line_dash=\"dash\", line_color=\"black\", annotation_text=\"observed_test_stat (\"+str(observed_test_stat)+\")\"); fig.show()"
   ]
  },
  {
   "cell_type": "markdown",
   "metadata": {
    "slideshow": {
     "slide_type": "slide"
    }
   },
   "source": [
    "# Tutorial Assignment (Begin in time remaining...)\n",
    "More hypothesis testing, sampling and p-values with Fisher's Tea Experiment.\n",
    "- Include your code and written solutions in a `.ipynb` notebook. Starter file provided to MarkUs.\n",
    "    - Annotate your notebook with comments where it's helpful for understanding what you're doing.\n",
    "\n",
    "### Notes on approaching the writing questions\n",
    "- Use full sentences\n",
    "- Grammar is *not* the main focus of the assessment, but it is important that you communicate in a clear and professional manner (without slang or emojis) \n"
   ]
  }
 ],
 "metadata": {
  "celltoolbar": "Slideshow",
  "kernelspec": {
   "display_name": "Python 3 (ipykernel)",
   "language": "python",
   "name": "python3"
  },
  "language_info": {
   "codemirror_mode": {
    "name": "ipython",
    "version": 3
   },
   "file_extension": ".py",
   "mimetype": "text/x-python",
   "name": "python",
   "nbconvert_exporter": "python",
   "pygments_lexer": "ipython3",
   "version": "3.10.8"
  }
 },
 "nbformat": 4,
 "nbformat_minor": 2
}
