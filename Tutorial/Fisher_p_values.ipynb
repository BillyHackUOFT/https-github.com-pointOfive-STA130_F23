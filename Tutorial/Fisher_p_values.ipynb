{
 "cells": [
  {
   "attachments": {},
   "cell_type": "markdown",
   "id": "0e8f6e0b",
   "metadata": {
    "deletable": false
   },
   "source": [
    "# Tutorial Assignment\n",
    "\n",
    "- Your mark will be based on the TA checking autotests and then manually reviewing your answers to `Q1` and `Q8`\n",
    "- Your answers can be reviewed against the example answers available through MarkUs\n",
    "\n",
    "## Fisher's Tea Experiment\n",
    "\n",
    "A most beloved piece of [statistical lore](https://rss.onlinelibrary.wiley.com/doi/full/10.1111/j.1740-9713.2012.00620.x) about about the (most famous) statistician Ronald Fisher involves cups of tea with milk. Fisher and his friend and colleague, Dr. Muriel Bristol, worked at Cambridge in the 1920s and regularly had tea together. During one of their afternoon tea times, Bristol refused a cup of tea from Fisher because he put milk in first BEFORE pouring in the tea. Bristol said she could taste the difference, and much preferred the taste of tea when the milk was poured in afterward the tea. Fisher didn't think that there could be a difference and proposed a hypothesis test to examine the situation.\n",
    "\n",
    "Fisher made 8 cups of tea, 4 with milk added in first and 4 with tea added in first, and gave them to Dr. Bristol without her seeing how they were made and she would say if she thought the tea or the milk was poured first.  As it turned out, Bristol correctly identified if the tea or milk was poured first for all 8 of the cups. Fisher, being a skeptical statistician wanted to test if this could be happening by chance with Bristol just randomly guessing (or whether there was evidence against an assumption of Bristol just randomly guessing).\n",
    "\n",
    "Suppose you run an experiment like this with students in STA130. You get a random sample of 80 STA130 students to each taste one cup of tea and tell you whether they think the milk or tea was poured first. Suppose 49 students are able to correctly state which was poured first. Provide a statistical analysis of this experiment as guided through the following set of questions"
   ]
  },
  {
   "attachments": {},
   "cell_type": "markdown",
   "id": "17ffdb1c",
   "metadata": {
    "deletable": false
   },
   "source": [
    "### Q0: Indicate what the population, parameter $p$, sample, and test statistic $\\hat p$ under consideration here are; and, indicate what the observed value of the test statistic is.\n",
    "\n",
    "> - Hint 1: putting a \"hat\" on a parameter symbol, such as $\\hat p$ is the preferred statistical notation to refer to test statistic that could estimate a parameter; and, assigning a value such as $\\hat p=0.33$ indicates the observed value of the test statistic for the sample in question."
   ]
  },
  {
   "attachments": {},
   "cell_type": "markdown",
   "id": "898e4616",
   "metadata": {
    "deletable": false
   },
   "source": [
    "> Answer here...\n",
    "\n",
    "- Population:\n",
    "- Parameter $p$:\n",
    "- Sample:\n",
    "- Test Statistic $\\hat p$:\n",
    "- Observed Test Statistic $\\hat p = \\cdots$: "
   ]
  },
  {
   "cell_type": "code",
   "execution_count": 14,
   "id": "086e2f97",
   "metadata": {},
   "outputs": [],
   "source": [
    "p = '\\x1B[3m' + 'p' + '\\x1B[0m'\n",
    "p_hat = '\\x1B[3m' + 'p\\u0302' + '\\x1B[0m'\n",
    "hint = \"\\n\\nAUTOMATICALLY FAILING AUTOTEST: DOES NOT COUNT AGAINST STUDENT\"\n",
    "hint += \"\\nIncluded as an example answer for feedback purposes only\\n\"\n",
    "hint += \"\\nPopulation: All STA130 Students\"\n",
    "hint += \"\\nParameter \" + p + \": True proportion of students able to correctly state which was poured first.\"\n",
    "hint += \"\\nSample: The 80 STA130 Students in your random sample.\"\n",
    "hint += \"\\nObserved Test Statistic \" + p_hat + \": 49/80 students, observed proportion of students(from sample) who correctly state which was poured first.\""
   ]
  },
  {
   "cell_type": "code",
   "execution_count": 15,
   "id": "a5599273",
   "metadata": {},
   "outputs": [
    {
     "ename": "AssertionError",
     "evalue": "\n\nAUTOMATICALLY FAILING AUTOTEST: DOES NOT COUNT AGAINST STUDENT\nIncluded as an example answer for feedback purposes only\n\nPopulation: All STA130 Students\nParameter \u001b[3mp\u001b[0m: True proportion of students able to correctly state which was poured first.\nSample: The 80 STA130 Students in your random sample.\nObserved Test Statistic \u001b[3mp̂\u001b[0m: 49/80 students, observed proportion of students(from sample) who correctly state which was poured first.",
     "output_type": "error",
     "traceback": [
      "\u001b[1;31m---------------------------------------------------------------------------\u001b[0m",
      "\u001b[1;31mAssertionError\u001b[0m                            Traceback (most recent call last)",
      "Cell \u001b[1;32mIn[15], line 2\u001b[0m\n\u001b[0;32m      1\u001b[0m \u001b[39m# test_Q0\u001b[39;00m\n\u001b[1;32m----> 2\u001b[0m \u001b[39massert\u001b[39;00m \u001b[39mFalse\u001b[39;00m, hint\n",
      "\u001b[1;31mAssertionError\u001b[0m: \n\nAUTOMATICALLY FAILING AUTOTEST: DOES NOT COUNT AGAINST STUDENT\nIncluded as an example answer for feedback purposes only\n\nPopulation: All STA130 Students\nParameter \u001b[3mp\u001b[0m: True proportion of students able to correctly state which was poured first.\nSample: The 80 STA130 Students in your random sample.\nObserved Test Statistic \u001b[3mp̂\u001b[0m: 49/80 students, observed proportion of students(from sample) who correctly state which was poured first."
     ]
    }
   ],
   "source": [
    "# test_Q0\n",
    "assert False, hint"
   ]
  },
  {
   "attachments": {},
   "cell_type": "markdown",
   "id": "028812b3",
   "metadata": {
    "deletable": false
   },
   "source": [
    "### Q1: Ignoring the question of sample size, what is the difference between the experiment with STA130 students and the original context of the experiment with Fisher and Bristol?\n",
    "\n",
    "> - Hint 1: the parameter is more personalized in the original experiment; whereas, the parameter in the context of STA130 students is a more abstract\n",
    "> - Hint 2: this could be discussed from the perspective of differences in what the population is; or, what the sample is comprised of; or, what the parameter means, etc."
   ]
  },
  {
   "attachments": {},
   "cell_type": "markdown",
   "id": "40bedd53",
   "metadata": {
    "deletable": false
   },
   "source": [
    "> Answer here...\n",
    "\n"
   ]
  },
  {
   "cell_type": "code",
   "execution_count": 24,
   "id": "e535c411",
   "metadata": {},
   "outputs": [],
   "source": [
    "hint = \"\\n\\nAUTOMATICALLY FAILING AUTOTEST: DOES NOT COUNT AGAINST STUDENT\"\n",
    "hint += \"\\nIncluded as an example answer for feedback purposes only\\n\"\n",
    "hint += \"\\nIdeas:\\n\"\n",
    "hint += \"\\n- Parameter in Fisher and Bristol would be the true proportion that Bristol correctly states which was poured first. \"\n",
    "hint += \"\\nWe are looking for statistical evidence if Bristol was guessing or could actually taste which was poured first. \"\n",
    "hint += \"\\n- Parameter for STA130 students discussed in Q0, the true proportion of students able to correctly state which was poured first.\"\n",
    "hint += \"\\nWe are looking for statistical evidence if STA130 as a whole were guessing or could actually taste which was poured first. \" \n",
    "hint += \"\\nThese results are more generalizable.\"\n",
    "hint += \"\\n\\n- Population, sample, for STA130 students discussed in Q0.\"\n",
    "hint += \"\\n- In the Fisher and Bristol experiment, we have one person stating which was poured first multiple times instead of many STA130 students each stating once which was poured first. \"\n",
    "hint += \"\\nThe population would be all combinations of tea first/milk first drinks made, and a sample would be a single combination of tea/milk first drinks presented to Bristol.\"\n"
   ]
  },
  {
   "cell_type": "code",
   "execution_count": 23,
   "id": "18d43662",
   "metadata": {},
   "outputs": [
    {
     "ename": "AssertionError",
     "evalue": "\n\nAUTOMATICALLY FAILING AUTOTEST: DOES NOT COUNT AGAINST STUDENT\nIncluded as an example answer for feedback purposes only\n\nIdeas:\n\n- Parameter in Fisher and Bristol would be the true proportion that Bristol correctly states which was poured first. \nWe are looking for statistical evidence if Bristol was guessing or could actually taste which was poured first. \n- Parameter for STA130 students discussed in Q0, the true proportion of students able to correctly state which was poured first.\nWe are looking for statistical evidence if STA130 as a whole were guessing or could actually taste which was poured first. \nThese results are more generalizable.\n\n- Population, sample for STA130 students discussed in Q0.\n- In the Fisher and Bristol experiment, we have one person stating which was poured first multiple times instead of many STA130 students each stating which was poured first once. \nThe population would be all combinations of tea first/milk first drinks made, and a sample would be a single combination of tea/milk first drinks presented to Bristol.",
     "output_type": "error",
     "traceback": [
      "\u001b[1;31m---------------------------------------------------------------------------\u001b[0m",
      "\u001b[1;31mAssertionError\u001b[0m                            Traceback (most recent call last)",
      "Cell \u001b[1;32mIn[23], line 2\u001b[0m\n\u001b[0;32m      1\u001b[0m \u001b[39m# test_Q1\u001b[39;00m\n\u001b[1;32m----> 2\u001b[0m \u001b[39massert\u001b[39;00m \u001b[39mFalse\u001b[39;00m, hint\n",
      "\u001b[1;31mAssertionError\u001b[0m: \n\nAUTOMATICALLY FAILING AUTOTEST: DOES NOT COUNT AGAINST STUDENT\nIncluded as an example answer for feedback purposes only\n\nIdeas:\n\n- Parameter in Fisher and Bristol would be the true proportion that Bristol correctly states which was poured first. \nWe are looking for statistical evidence if Bristol was guessing or could actually taste which was poured first. \n- Parameter for STA130 students discussed in Q0, the true proportion of students able to correctly state which was poured first.\nWe are looking for statistical evidence if STA130 as a whole were guessing or could actually taste which was poured first. \nThese results are more generalizable.\n\n- Population, sample for STA130 students discussed in Q0.\n- In the Fisher and Bristol experiment, we have one person stating which was poured first multiple times instead of many STA130 students each stating which was poured first once. \nThe population would be all combinations of tea first/milk first drinks made, and a sample would be a single combination of tea/milk first drinks presented to Bristol."
     ]
    }
   ],
   "source": [
    "# test_Q1\n",
    "assert False, hint"
   ]
  },
  {
   "attachments": {},
   "cell_type": "markdown",
   "id": "8bc62b3d",
   "metadata": {
    "deletable": false
   },
   "source": [
    "### Q2: For the experiment with STA130 students, state a formal *null hypotheses* $H_0$ in terms of parameter $p$, give a written statement specifying the claim of the *null hypothesis* in informal casual everyday common language, and provide an *alternative hypothesis* $H_1$ in terms of $H_0$.\n",
    "\n",
    "> - Hint: Since the population, parameter, sample, test statistic, and observed test statistic are clear from the previous questions, don't worry about specifying those explicitly again here; however, it's not bad practice to include these details in conjunction with a *null hypothesis* statements so the experiment and context are always clear."
   ]
  },
  {
   "attachments": {},
   "cell_type": "markdown",
   "id": "48bdb95c",
   "metadata": {
    "deletable": false
   },
   "source": [
    "> Answer here...\n",
    "\n"
   ]
  },
  {
   "cell_type": "code",
   "execution_count": 27,
   "id": "da2e7718",
   "metadata": {},
   "outputs": [],
   "source": [
    "null = \"H₀\" \n",
    "alt = \"H₁\"\n",
    "p = '\\x1B[3m' + 'p' + '\\x1B[0m'\n",
    "hint = \"\\n\\nAUTOMATICALLY FAILING AUTOTEST: DOES NOT COUNT AGAINST STUDENT\"\n",
    "hint += \"\\nIncluded as an example answer for feedback purposes only\\n\\n\"\n",
    "hint += null + \": \" + p + \" = 0.5\\n\" + alt + \": \" + p + \" \\u2260 0.5\"\n",
    "hint += \"\\nNull hypothesis claims students have no idea if milk or tea was poured first and just guess.\"\n",
    "hint += \"\\nAlternative hypothesis claims some students can tell if milk or tea was poured first and answer accordingly.\""
   ]
  },
  {
   "cell_type": "code",
   "execution_count": 28,
   "id": "fbc2198d",
   "metadata": {},
   "outputs": [
    {
     "ename": "AssertionError",
     "evalue": "\n\nAUTOMATICALLY FAILING AUTOTEST: DOES NOT COUNT AGAINST STUDENT\nIncluded as an example answer for feedback purposes only\n\nH₀: \u001b[3mp\u001b[0m = 0.5\nH₁: \u001b[3mp\u001b[0m ≠ 0.5\nNull hypothesis claims students have no idea if milk or tea was poured first and just guess.\nAlternative hypothesis says some students can tell if milk or tea was poured first and answer accordingly.",
     "output_type": "error",
     "traceback": [
      "\u001b[1;31m---------------------------------------------------------------------------\u001b[0m",
      "\u001b[1;31mAssertionError\u001b[0m                            Traceback (most recent call last)",
      "Cell \u001b[1;32mIn[28], line 1\u001b[0m\n\u001b[1;32m----> 1\u001b[0m \u001b[39massert\u001b[39;00m \u001b[39mFalse\u001b[39;00m, hint\n",
      "\u001b[1;31mAssertionError\u001b[0m: \n\nAUTOMATICALLY FAILING AUTOTEST: DOES NOT COUNT AGAINST STUDENT\nIncluded as an example answer for feedback purposes only\n\nH₀: \u001b[3mp\u001b[0m = 0.5\nH₁: \u001b[3mp\u001b[0m ≠ 0.5\nNull hypothesis claims students have no idea if milk or tea was poured first and just guess.\nAlternative hypothesis says some students can tell if milk or tea was poured first and answer accordingly."
     ]
    }
   ],
   "source": [
    "# test_Q2\n",
    "assert False, hint"
   ]
  },
  {
   "attachments": {},
   "cell_type": "markdown",
   "id": "301beee7",
   "metadata": {
    "deletable": false
   },
   "source": [
    "### Q3: Examine the analysis below and describe what each single dot in the plot represents."
   ]
  },
  {
   "attachments": {},
   "cell_type": "markdown",
   "id": "654feae1",
   "metadata": {
    "deletable": false
   },
   "source": [
    "> Answer here...\n",
    "\n"
   ]
  },
  {
   "cell_type": "code",
   "execution_count": 7,
   "id": "2552bab8",
   "metadata": {
    "deletable": false
   },
   "outputs": [
    {
     "name": "stdout",
     "output_type": "stream",
     "text": [
      "0.6125\n"
     ]
    },
    {
     "data": {
      "application/vnd.plotly.v1+json": {
       "config": {
        "plotlyServerURL": "https://plot.ly"
       },
       "data": [
        {
         "hovertemplate": "Proportion Milk First=%{x}<br>Number=%{y}<br>size=%{marker.size}<extra></extra>",
         "legendgroup": "",
         "marker": {
          "color": "#636efa",
          "size": [
           1,
           1,
           1,
           1,
           1,
           1,
           1,
           1,
           1,
           1,
           1,
           1,
           1,
           1,
           1,
           1,
           1,
           1,
           1,
           1,
           1,
           1,
           1,
           1,
           1,
           1,
           1,
           1,
           1,
           1,
           1,
           1,
           1,
           1,
           1,
           1,
           1,
           1,
           1,
           1,
           1,
           1,
           1,
           1,
           1,
           1,
           1,
           1,
           1,
           1,
           1,
           1,
           1,
           1,
           1,
           1,
           1,
           1,
           1,
           1,
           1,
           1,
           1,
           1,
           1,
           1,
           1,
           1,
           1,
           1,
           1,
           1,
           1,
           1,
           1,
           1,
           1,
           1,
           1,
           1,
           1,
           1,
           1,
           1,
           1,
           1,
           1,
           1,
           1,
           1,
           1,
           1,
           1,
           1,
           1,
           1,
           1,
           1,
           1,
           1
          ],
          "sizemode": "area",
          "sizeref": 0.0044444444444444444,
          "symbol": "circle"
         },
         "mode": "markers",
         "name": "",
         "orientation": "v",
         "showlegend": false,
         "type": "scatter",
         "x": [
          0.5375,
          0.4125,
          0.55,
          0.5,
          0.525,
          0.55,
          0.425,
          0.4875,
          0.55,
          0.5,
          0.5375,
          0.5875,
          0.475,
          0.575,
          0.4625,
          0.4375,
          0.4,
          0.5375,
          0.4625,
          0.5875,
          0.525,
          0.525,
          0.5125,
          0.4,
          0.5375,
          0.5,
          0.55,
          0.475,
          0.4625,
          0.5125,
          0.45,
          0.5875,
          0.3875,
          0.475,
          0.55,
          0.575,
          0.5125,
          0.4875,
          0.5125,
          0.4875,
          0.525,
          0.5375,
          0.55,
          0.575,
          0.5375,
          0.475,
          0.5,
          0.5,
          0.3875,
          0.5625,
          0.525,
          0.4625,
          0.5125,
          0.45,
          0.5375,
          0.475,
          0.425,
          0.4375,
          0.5125,
          0.55,
          0.4625,
          0.4875,
          0.5375,
          0.4875,
          0.5125,
          0.375,
          0.5,
          0.5,
          0.425,
          0.45,
          0.525,
          0.525,
          0.55,
          0.425,
          0.4875,
          0.5125,
          0.525,
          0.4875,
          0.3875,
          0.6375,
          0.4875,
          0.525,
          0.5625,
          0.4625,
          0.4625,
          0.55,
          0.4875,
          0.5625,
          0.4625,
          0.45,
          0.525,
          0.525,
          0.425,
          0.4625,
          0.4625,
          0.475,
          0.6125,
          0.425,
          0.4875,
          0.5
         ],
         "xaxis": "x",
         "y": [
          1,
          1,
          1,
          1,
          1,
          2,
          1,
          1,
          3,
          2,
          2,
          1,
          1,
          1,
          1,
          1,
          1,
          3,
          2,
          2,
          2,
          3,
          1,
          2,
          4,
          3,
          4,
          2,
          3,
          2,
          1,
          3,
          1,
          3,
          5,
          2,
          3,
          2,
          4,
          3,
          4,
          5,
          6,
          3,
          6,
          4,
          4,
          5,
          2,
          1,
          5,
          4,
          5,
          2,
          7,
          5,
          2,
          2,
          6,
          7,
          5,
          4,
          8,
          5,
          7,
          1,
          6,
          7,
          3,
          3,
          6,
          7,
          8,
          4,
          6,
          8,
          8,
          7,
          3,
          1,
          8,
          9,
          2,
          6,
          7,
          9,
          9,
          3,
          8,
          4,
          10,
          11,
          5,
          9,
          10,
          6,
          1,
          6,
          10,
          8
         ],
         "yaxis": "y"
        }
       ],
       "layout": {
        "annotations": [
         {
          "showarrow": false,
          "text": "observed_test_stat (0.6125)",
          "x": 0.6125,
          "xanchor": "left",
          "xref": "x",
          "y": 1,
          "yanchor": "top",
          "yref": "y domain"
         },
         {
          "showarrow": false,
          "text": "(1-0.6125)",
          "x": 0.38749999999999996,
          "xanchor": "left",
          "xref": "x",
          "y": 1,
          "yanchor": "top",
          "yref": "y domain"
         }
        ],
        "legend": {
         "itemsizing": "constant",
         "tracegroupgap": 0
        },
        "margin": {
         "t": 60
        },
        "shapes": [
         {
          "line": {
           "color": "black",
           "dash": "dash"
          },
          "type": "line",
          "x0": 0.6125,
          "x1": 0.6125,
          "xref": "x",
          "y0": 0,
          "y1": 1,
          "yref": "y domain"
         },
         {
          "line": {
           "color": "black",
           "dash": "dash"
          },
          "type": "line",
          "x0": 0.38749999999999996,
          "x1": 0.38749999999999996,
          "xref": "x",
          "y0": 0,
          "y1": 1,
          "yref": "y domain"
         }
        ],
        "template": {
         "data": {
          "bar": [
           {
            "error_x": {
             "color": "#2a3f5f"
            },
            "error_y": {
             "color": "#2a3f5f"
            },
            "marker": {
             "line": {
              "color": "#E5ECF6",
              "width": 0.5
             },
             "pattern": {
              "fillmode": "overlay",
              "size": 10,
              "solidity": 0.2
             }
            },
            "type": "bar"
           }
          ],
          "barpolar": [
           {
            "marker": {
             "line": {
              "color": "#E5ECF6",
              "width": 0.5
             },
             "pattern": {
              "fillmode": "overlay",
              "size": 10,
              "solidity": 0.2
             }
            },
            "type": "barpolar"
           }
          ],
          "carpet": [
           {
            "aaxis": {
             "endlinecolor": "#2a3f5f",
             "gridcolor": "white",
             "linecolor": "white",
             "minorgridcolor": "white",
             "startlinecolor": "#2a3f5f"
            },
            "baxis": {
             "endlinecolor": "#2a3f5f",
             "gridcolor": "white",
             "linecolor": "white",
             "minorgridcolor": "white",
             "startlinecolor": "#2a3f5f"
            },
            "type": "carpet"
           }
          ],
          "choropleth": [
           {
            "colorbar": {
             "outlinewidth": 0,
             "ticks": ""
            },
            "type": "choropleth"
           }
          ],
          "contour": [
           {
            "colorbar": {
             "outlinewidth": 0,
             "ticks": ""
            },
            "colorscale": [
             [
              0,
              "#0d0887"
             ],
             [
              0.1111111111111111,
              "#46039f"
             ],
             [
              0.2222222222222222,
              "#7201a8"
             ],
             [
              0.3333333333333333,
              "#9c179e"
             ],
             [
              0.4444444444444444,
              "#bd3786"
             ],
             [
              0.5555555555555556,
              "#d8576b"
             ],
             [
              0.6666666666666666,
              "#ed7953"
             ],
             [
              0.7777777777777778,
              "#fb9f3a"
             ],
             [
              0.8888888888888888,
              "#fdca26"
             ],
             [
              1,
              "#f0f921"
             ]
            ],
            "type": "contour"
           }
          ],
          "contourcarpet": [
           {
            "colorbar": {
             "outlinewidth": 0,
             "ticks": ""
            },
            "type": "contourcarpet"
           }
          ],
          "heatmap": [
           {
            "colorbar": {
             "outlinewidth": 0,
             "ticks": ""
            },
            "colorscale": [
             [
              0,
              "#0d0887"
             ],
             [
              0.1111111111111111,
              "#46039f"
             ],
             [
              0.2222222222222222,
              "#7201a8"
             ],
             [
              0.3333333333333333,
              "#9c179e"
             ],
             [
              0.4444444444444444,
              "#bd3786"
             ],
             [
              0.5555555555555556,
              "#d8576b"
             ],
             [
              0.6666666666666666,
              "#ed7953"
             ],
             [
              0.7777777777777778,
              "#fb9f3a"
             ],
             [
              0.8888888888888888,
              "#fdca26"
             ],
             [
              1,
              "#f0f921"
             ]
            ],
            "type": "heatmap"
           }
          ],
          "heatmapgl": [
           {
            "colorbar": {
             "outlinewidth": 0,
             "ticks": ""
            },
            "colorscale": [
             [
              0,
              "#0d0887"
             ],
             [
              0.1111111111111111,
              "#46039f"
             ],
             [
              0.2222222222222222,
              "#7201a8"
             ],
             [
              0.3333333333333333,
              "#9c179e"
             ],
             [
              0.4444444444444444,
              "#bd3786"
             ],
             [
              0.5555555555555556,
              "#d8576b"
             ],
             [
              0.6666666666666666,
              "#ed7953"
             ],
             [
              0.7777777777777778,
              "#fb9f3a"
             ],
             [
              0.8888888888888888,
              "#fdca26"
             ],
             [
              1,
              "#f0f921"
             ]
            ],
            "type": "heatmapgl"
           }
          ],
          "histogram": [
           {
            "marker": {
             "pattern": {
              "fillmode": "overlay",
              "size": 10,
              "solidity": 0.2
             }
            },
            "type": "histogram"
           }
          ],
          "histogram2d": [
           {
            "colorbar": {
             "outlinewidth": 0,
             "ticks": ""
            },
            "colorscale": [
             [
              0,
              "#0d0887"
             ],
             [
              0.1111111111111111,
              "#46039f"
             ],
             [
              0.2222222222222222,
              "#7201a8"
             ],
             [
              0.3333333333333333,
              "#9c179e"
             ],
             [
              0.4444444444444444,
              "#bd3786"
             ],
             [
              0.5555555555555556,
              "#d8576b"
             ],
             [
              0.6666666666666666,
              "#ed7953"
             ],
             [
              0.7777777777777778,
              "#fb9f3a"
             ],
             [
              0.8888888888888888,
              "#fdca26"
             ],
             [
              1,
              "#f0f921"
             ]
            ],
            "type": "histogram2d"
           }
          ],
          "histogram2dcontour": [
           {
            "colorbar": {
             "outlinewidth": 0,
             "ticks": ""
            },
            "colorscale": [
             [
              0,
              "#0d0887"
             ],
             [
              0.1111111111111111,
              "#46039f"
             ],
             [
              0.2222222222222222,
              "#7201a8"
             ],
             [
              0.3333333333333333,
              "#9c179e"
             ],
             [
              0.4444444444444444,
              "#bd3786"
             ],
             [
              0.5555555555555556,
              "#d8576b"
             ],
             [
              0.6666666666666666,
              "#ed7953"
             ],
             [
              0.7777777777777778,
              "#fb9f3a"
             ],
             [
              0.8888888888888888,
              "#fdca26"
             ],
             [
              1,
              "#f0f921"
             ]
            ],
            "type": "histogram2dcontour"
           }
          ],
          "mesh3d": [
           {
            "colorbar": {
             "outlinewidth": 0,
             "ticks": ""
            },
            "type": "mesh3d"
           }
          ],
          "parcoords": [
           {
            "line": {
             "colorbar": {
              "outlinewidth": 0,
              "ticks": ""
             }
            },
            "type": "parcoords"
           }
          ],
          "pie": [
           {
            "automargin": true,
            "type": "pie"
           }
          ],
          "scatter": [
           {
            "fillpattern": {
             "fillmode": "overlay",
             "size": 10,
             "solidity": 0.2
            },
            "type": "scatter"
           }
          ],
          "scatter3d": [
           {
            "line": {
             "colorbar": {
              "outlinewidth": 0,
              "ticks": ""
             }
            },
            "marker": {
             "colorbar": {
              "outlinewidth": 0,
              "ticks": ""
             }
            },
            "type": "scatter3d"
           }
          ],
          "scattercarpet": [
           {
            "marker": {
             "colorbar": {
              "outlinewidth": 0,
              "ticks": ""
             }
            },
            "type": "scattercarpet"
           }
          ],
          "scattergeo": [
           {
            "marker": {
             "colorbar": {
              "outlinewidth": 0,
              "ticks": ""
             }
            },
            "type": "scattergeo"
           }
          ],
          "scattergl": [
           {
            "marker": {
             "colorbar": {
              "outlinewidth": 0,
              "ticks": ""
             }
            },
            "type": "scattergl"
           }
          ],
          "scattermapbox": [
           {
            "marker": {
             "colorbar": {
              "outlinewidth": 0,
              "ticks": ""
             }
            },
            "type": "scattermapbox"
           }
          ],
          "scatterpolar": [
           {
            "marker": {
             "colorbar": {
              "outlinewidth": 0,
              "ticks": ""
             }
            },
            "type": "scatterpolar"
           }
          ],
          "scatterpolargl": [
           {
            "marker": {
             "colorbar": {
              "outlinewidth": 0,
              "ticks": ""
             }
            },
            "type": "scatterpolargl"
           }
          ],
          "scatterternary": [
           {
            "marker": {
             "colorbar": {
              "outlinewidth": 0,
              "ticks": ""
             }
            },
            "type": "scatterternary"
           }
          ],
          "surface": [
           {
            "colorbar": {
             "outlinewidth": 0,
             "ticks": ""
            },
            "colorscale": [
             [
              0,
              "#0d0887"
             ],
             [
              0.1111111111111111,
              "#46039f"
             ],
             [
              0.2222222222222222,
              "#7201a8"
             ],
             [
              0.3333333333333333,
              "#9c179e"
             ],
             [
              0.4444444444444444,
              "#bd3786"
             ],
             [
              0.5555555555555556,
              "#d8576b"
             ],
             [
              0.6666666666666666,
              "#ed7953"
             ],
             [
              0.7777777777777778,
              "#fb9f3a"
             ],
             [
              0.8888888888888888,
              "#fdca26"
             ],
             [
              1,
              "#f0f921"
             ]
            ],
            "type": "surface"
           }
          ],
          "table": [
           {
            "cells": {
             "fill": {
              "color": "#EBF0F8"
             },
             "line": {
              "color": "white"
             }
            },
            "header": {
             "fill": {
              "color": "#C8D4E3"
             },
             "line": {
              "color": "white"
             }
            },
            "type": "table"
           }
          ]
         },
         "layout": {
          "annotationdefaults": {
           "arrowcolor": "#2a3f5f",
           "arrowhead": 0,
           "arrowwidth": 1
          },
          "autotypenumbers": "strict",
          "coloraxis": {
           "colorbar": {
            "outlinewidth": 0,
            "ticks": ""
           }
          },
          "colorscale": {
           "diverging": [
            [
             0,
             "#8e0152"
            ],
            [
             0.1,
             "#c51b7d"
            ],
            [
             0.2,
             "#de77ae"
            ],
            [
             0.3,
             "#f1b6da"
            ],
            [
             0.4,
             "#fde0ef"
            ],
            [
             0.5,
             "#f7f7f7"
            ],
            [
             0.6,
             "#e6f5d0"
            ],
            [
             0.7,
             "#b8e186"
            ],
            [
             0.8,
             "#7fbc41"
            ],
            [
             0.9,
             "#4d9221"
            ],
            [
             1,
             "#276419"
            ]
           ],
           "sequential": [
            [
             0,
             "#0d0887"
            ],
            [
             0.1111111111111111,
             "#46039f"
            ],
            [
             0.2222222222222222,
             "#7201a8"
            ],
            [
             0.3333333333333333,
             "#9c179e"
            ],
            [
             0.4444444444444444,
             "#bd3786"
            ],
            [
             0.5555555555555556,
             "#d8576b"
            ],
            [
             0.6666666666666666,
             "#ed7953"
            ],
            [
             0.7777777777777778,
             "#fb9f3a"
            ],
            [
             0.8888888888888888,
             "#fdca26"
            ],
            [
             1,
             "#f0f921"
            ]
           ],
           "sequentialminus": [
            [
             0,
             "#0d0887"
            ],
            [
             0.1111111111111111,
             "#46039f"
            ],
            [
             0.2222222222222222,
             "#7201a8"
            ],
            [
             0.3333333333333333,
             "#9c179e"
            ],
            [
             0.4444444444444444,
             "#bd3786"
            ],
            [
             0.5555555555555556,
             "#d8576b"
            ],
            [
             0.6666666666666666,
             "#ed7953"
            ],
            [
             0.7777777777777778,
             "#fb9f3a"
            ],
            [
             0.8888888888888888,
             "#fdca26"
            ],
            [
             1,
             "#f0f921"
            ]
           ]
          },
          "colorway": [
           "#636efa",
           "#EF553B",
           "#00cc96",
           "#ab63fa",
           "#FFA15A",
           "#19d3f3",
           "#FF6692",
           "#B6E880",
           "#FF97FF",
           "#FECB52"
          ],
          "font": {
           "color": "#2a3f5f"
          },
          "geo": {
           "bgcolor": "white",
           "lakecolor": "white",
           "landcolor": "#E5ECF6",
           "showlakes": true,
           "showland": true,
           "subunitcolor": "white"
          },
          "hoverlabel": {
           "align": "left"
          },
          "hovermode": "closest",
          "mapbox": {
           "style": "light"
          },
          "paper_bgcolor": "white",
          "plot_bgcolor": "#E5ECF6",
          "polar": {
           "angularaxis": {
            "gridcolor": "white",
            "linecolor": "white",
            "ticks": ""
           },
           "bgcolor": "#E5ECF6",
           "radialaxis": {
            "gridcolor": "white",
            "linecolor": "white",
            "ticks": ""
           }
          },
          "scene": {
           "xaxis": {
            "backgroundcolor": "#E5ECF6",
            "gridcolor": "white",
            "gridwidth": 2,
            "linecolor": "white",
            "showbackground": true,
            "ticks": "",
            "zerolinecolor": "white"
           },
           "yaxis": {
            "backgroundcolor": "#E5ECF6",
            "gridcolor": "white",
            "gridwidth": 2,
            "linecolor": "white",
            "showbackground": true,
            "ticks": "",
            "zerolinecolor": "white"
           },
           "zaxis": {
            "backgroundcolor": "#E5ECF6",
            "gridcolor": "white",
            "gridwidth": 2,
            "linecolor": "white",
            "showbackground": true,
            "ticks": "",
            "zerolinecolor": "white"
           }
          },
          "shapedefaults": {
           "line": {
            "color": "#2a3f5f"
           }
          },
          "ternary": {
           "aaxis": {
            "gridcolor": "white",
            "linecolor": "white",
            "ticks": ""
           },
           "baxis": {
            "gridcolor": "white",
            "linecolor": "white",
            "ticks": ""
           },
           "bgcolor": "#E5ECF6",
           "caxis": {
            "gridcolor": "white",
            "linecolor": "white",
            "ticks": ""
           }
          },
          "title": {
           "x": 0.05
          },
          "xaxis": {
           "automargin": true,
           "gridcolor": "white",
           "linecolor": "white",
           "ticks": "",
           "title": {
            "standoff": 15
           },
           "zerolinecolor": "white",
           "zerolinewidth": 2
          },
          "yaxis": {
           "automargin": true,
           "gridcolor": "white",
           "linecolor": "white",
           "ticks": "",
           "title": {
            "standoff": 15
           },
           "zerolinecolor": "white",
           "zerolinewidth": 2
          }
         }
        },
        "xaxis": {
         "anchor": "y",
         "domain": [
          0,
          1
         ],
         "title": {
          "text": "Proportion choosing milk first assuming no ability to distinguish (i.e., just guessing)"
         }
        },
        "yaxis": {
         "anchor": "x",
         "domain": [
          0,
          1
         ],
         "title": {
          "text": "Number"
         },
         "visible": false
        }
       }
      }
     },
     "metadata": {},
     "output_type": "display_data"
    }
   ],
   "source": [
    "import numpy as np\n",
    "import pandas as pd\n",
    "import plotly.express as px\n",
    "\n",
    "np.random.seed(200)\n",
    "reps = 100\n",
    "num_observations = 80\n",
    "observed_test_stat = 49/num_observations\n",
    "print(observed_test_stat)\n",
    "sim_results = []\n",
    "\n",
    "for i in range(reps):\n",
    "    sim = np.random.choice([\"Milk first\", \"Tea first\"], size=num_observations)\n",
    "    sim_results += [np.count_nonzero(sim == \"Milk first\") / num_observations]\n",
    "    \n",
    "# Code below to output a dotplot\n",
    "encountered_so_far = {}\n",
    "sim_results_height = []\n",
    "for entry in sim_results:\n",
    "    if entry not in encountered_so_far:\n",
    "        encountered_so_far[entry] = 1\n",
    "    else:\n",
    "        encountered_so_far[entry] += 1\n",
    "    sim_results_height.append(encountered_so_far[entry])\n",
    "\n",
    "dataframe = pd.DataFrame({'Proportion Milk First': sim_results, 'Number': sim_results_height, 'size': 1})\n",
    "fig = px.scatter(dataframe, x='Proportion Milk First', y='Number', size='size', size_max= 15)\n",
    "fig.add_vline(x=observed_test_stat, line_dash=\"dash\", line_color=\"black\",\n",
    "              annotation_text=\"observed_test_stat (0.6125)\")\n",
    "fig.add_vline(x=1-observed_test_stat, line_dash=\"dash\", line_color=\"black\",\n",
    "              annotation_text=\"(1-0.6125)\")\n",
    "fig.update_layout(xaxis_title=\"Proportion choosing milk first assuming no ability to distinguish (i.e., just guessing)\")\n",
    "fig.update_yaxes(visible=False)\n",
    "fig.show()"
   ]
  },
  {
   "cell_type": "code",
   "execution_count": 33,
   "id": "3a0ef2fa",
   "metadata": {},
   "outputs": [],
   "source": [
    "p_hat = '\\x1B[3m' + 'p\\u0302' + '\\x1B[0m'\n",
    "hint = \"\\n\\nAUTOMATICALLY FAILING AUTOTEST: DOES NOT COUNT AGAINST STUDENT\"\n",
    "hint += \"\\nIncluded as an example answer for feedback purposes only\\n\\n\"\n",
    "hint += \"\\nEach dot represents a single unique simulation of 80 STA130 students asked to predict \"\n",
    "hint += \"whether milk of tea was poured first assuming the null hypothesis that the students are guessing.\""
   ]
  },
  {
   "cell_type": "code",
   "execution_count": 34,
   "id": "3cc3e965",
   "metadata": {},
   "outputs": [
    {
     "ename": "AssertionError",
     "evalue": "\n\nAUTOMATICALLY FAILING AUTOTEST: DOES NOT COUNT AGAINST STUDENT\nIncluded as an example answer for feedback purposes only\n\n\nEach dot represents a single unique simulation of 80 STA130 students asked to predict whether milk of tea was poured first assuming the null hypothesis that the students are guessing.",
     "output_type": "error",
     "traceback": [
      "\u001b[1;31m---------------------------------------------------------------------------\u001b[0m",
      "\u001b[1;31mAssertionError\u001b[0m                            Traceback (most recent call last)",
      "Cell \u001b[1;32mIn[34], line 2\u001b[0m\n\u001b[0;32m      1\u001b[0m \u001b[39m# test_Q3\u001b[39;00m\n\u001b[1;32m----> 2\u001b[0m \u001b[39massert\u001b[39;00m \u001b[39mFalse\u001b[39;00m, hint\n",
      "\u001b[1;31mAssertionError\u001b[0m: \n\nAUTOMATICALLY FAILING AUTOTEST: DOES NOT COUNT AGAINST STUDENT\nIncluded as an example answer for feedback purposes only\n\n\nEach dot represents a single unique simulation of 80 STA130 students asked to predict whether milk of tea was poured first assuming the null hypothesis that the students are guessing."
     ]
    }
   ],
   "source": [
    "# test_Q3\n",
    "assert False, hint"
   ]
  },
  {
   "attachments": {},
   "cell_type": "markdown",
   "id": "63038cc7",
   "metadata": {
    "deletable": false
   },
   "source": [
    "### Q4: Describe what the distribution given by all the dots in the plot above represents.\n",
    "\n",
    "> - Hint: you should be discussing the \"simulation\" of a \"sampling distribution\" for a specific \"test statistic\" under the assumptions of a *null hypothesis*..."
   ]
  },
  {
   "attachments": {},
   "cell_type": "markdown",
   "id": "27d2b44d",
   "metadata": {
    "deletable": false
   },
   "source": [
    "> Answer here...\n",
    "\n"
   ]
  },
  {
   "cell_type": "code",
   "execution_count": 38,
   "id": "a5328ecf",
   "metadata": {},
   "outputs": [],
   "source": [
    "p_hat = '\\x1B[3m' + 'p\\u0302' + '\\x1B[0m'\n",
    "hint = \"\\n\\nAUTOMATICALLY FAILING AUTOTEST: DOES NOT COUNT AGAINST STUDENT\"\n",
    "hint += \"\\nIncluded as an example answer for feedback purposes only\\n\"\n",
    "hint += \"\\nThe horizontal position of each dot represents an observed \" + p_hat + \", the proportion of students who correctly \" \n",
    "hint += \"guessed if milk of tea was poured first, which is a sample from the sampling distribution of \" + p_hat + \". \"\n",
    "hint += \"The collection of 100 dots/simulations results represents our approximate sampling distribution for \" + p_hat"
   ]
  },
  {
   "cell_type": "code",
   "execution_count": 39,
   "id": "7a8d6ad9",
   "metadata": {},
   "outputs": [
    {
     "ename": "AssertionError",
     "evalue": "\n\nAUTOMATICALLY FAILING AUTOTEST: DOES NOT COUNT AGAINST STUDENT\nIncluded as an example answer for feedback purposes only\n\nThe horizontal position of each dot represents an observed \u001b[3mp̂\u001b[0m, the proportion of students who correctly guessed if milk of tea was poured first, which is a sample from the sampling distribution of \u001b[3mp̂\u001b[0m.The collection of 100 simulation results represents our approximate sampling distribution for \u001b[3mp̂\u001b[0m",
     "output_type": "error",
     "traceback": [
      "\u001b[1;31m---------------------------------------------------------------------------\u001b[0m",
      "\u001b[1;31mAssertionError\u001b[0m                            Traceback (most recent call last)",
      "Cell \u001b[1;32mIn[39], line 2\u001b[0m\n\u001b[0;32m      1\u001b[0m \u001b[39m# test_Q4\u001b[39;00m\n\u001b[1;32m----> 2\u001b[0m \u001b[39massert\u001b[39;00m \u001b[39mFalse\u001b[39;00m, hint\n",
      "\u001b[1;31mAssertionError\u001b[0m: \n\nAUTOMATICALLY FAILING AUTOTEST: DOES NOT COUNT AGAINST STUDENT\nIncluded as an example answer for feedback purposes only\n\nThe horizontal position of each dot represents an observed \u001b[3mp̂\u001b[0m, the proportion of students who correctly guessed if milk of tea was poured first, which is a sample from the sampling distribution of \u001b[3mp̂\u001b[0m.The collection of 100 simulation results represents our approximate sampling distribution for \u001b[3mp̂\u001b[0m"
     ]
    }
   ],
   "source": [
    "# test_Q4\n",
    "assert False, hint"
   ]
  },
  {
   "attachments": {},
   "cell_type": "markdown",
   "id": "cdbaa7c8",
   "metadata": {
    "deletable": false
   },
   "source": [
    "### Q5: Report the simulated \"two-sided\" p-value found in the analysis above\n",
    "\n",
    "> - Hint 1: A \"two-sided\" p-value includes simulated test statistics that are both larger than and smaller than the (null) hypothesized parameter value that are \"as or more extreme\" than the observed test statistic (relative to the parameter value in the *null hypothesis*) \n",
    "(and more extreme )\n",
    "> - Hint 2: These simulated p-values are not necessarily particularly precise since they are based on a quite small (and hence a quite roughly approximated) simulation of the samplilng distribution; nonetheless, treat the observed p-value resolution as sufficiently refined and accurate for the purposes of the question"
   ]
  },
  {
   "cell_type": "code",
   "execution_count": 42,
   "id": "084e4f09",
   "metadata": {
    "deletable": false
   },
   "outputs": [],
   "source": [
    "Q5 = None # Your answer should be a ratio of integers\n",
    "# E.g., 1/100"
   ]
  },
  {
   "cell_type": "code",
   "execution_count": 46,
   "id": "8c71aa6e",
   "metadata": {},
   "outputs": [],
   "source": [
    "hint = \"All the information you need is in the dotplot above. What does the horizontal position of each dot represent?\""
   ]
  },
  {
   "cell_type": "code",
   "execution_count": 47,
   "id": "5857f9e2",
   "metadata": {},
   "outputs": [
    {
     "ename": "AssertionError",
     "evalue": "All the information you need is in the dotplot above. What does the horizontal position of each dot represent?",
     "output_type": "error",
     "traceback": [
      "\u001b[1;31m---------------------------------------------------------------------------\u001b[0m",
      "\u001b[1;31mAssertionError\u001b[0m                            Traceback (most recent call last)",
      "Cell \u001b[1;32mIn[47], line 2\u001b[0m\n\u001b[0;32m      1\u001b[0m \u001b[39m# test_Q5\u001b[39;00m\n\u001b[1;32m----> 2\u001b[0m \u001b[39massert\u001b[39;00m Q5 \u001b[39m==\u001b[39m \u001b[39m6\u001b[39m\u001b[39m/\u001b[39m\u001b[39m100\u001b[39m, hint\n",
      "\u001b[1;31mAssertionError\u001b[0m: All the information you need is in the dotplot above. What does the horizontal position of each dot represent?"
     ]
    }
   ],
   "source": [
    "# test_Q5\n",
    "assert Q5 == 6/100, hint"
   ]
  },
  {
   "attachments": {},
   "cell_type": "markdown",
   "id": "b503f1bd",
   "metadata": {
    "deletable": false
   },
   "source": [
    "### Q6: Report the simulated \"one-sided\" p-value found in the analysis above\n",
    "\n",
    "> - Hint 1: A \"one-sided\" p-value only includes simulated tests statistics that are \"as or more extreme\" than the observed test statistic in the same direction as the observed test statistic (relative to the parameter value in the *null hypothesis*) \n",
    "> - Hint 2: These simulated p-values are not necessarily particularly precise since they are based on a quite small (and hence a quite roughly approximated) simulation of the samplilng distribution; nonetheless, treat the observed p-value resolution as sufficiently refined and accurate for the purposes of the question"
   ]
  },
  {
   "cell_type": "code",
   "execution_count": 49,
   "id": "312df440",
   "metadata": {
    "deletable": false
   },
   "outputs": [],
   "source": [
    "Q6 = None # Your answer should be a ratio of integers\n",
    "# E.g., 1/100"
   ]
  },
  {
   "cell_type": "code",
   "execution_count": 50,
   "id": "73589ad1",
   "metadata": {},
   "outputs": [
    {
     "ename": "AssertionError",
     "evalue": "All the information you need is in the dotplot above. What does the horizontal position of each dot represent?",
     "output_type": "error",
     "traceback": [
      "\u001b[1;31m---------------------------------------------------------------------------\u001b[0m",
      "\u001b[1;31mAssertionError\u001b[0m                            Traceback (most recent call last)",
      "Cell \u001b[1;32mIn[50], line 2\u001b[0m\n\u001b[0;32m      1\u001b[0m \u001b[39m# test_Q6\u001b[39;00m\n\u001b[1;32m----> 2\u001b[0m \u001b[39massert\u001b[39;00m Q6 \u001b[39m==\u001b[39m \u001b[39m2\u001b[39m\u001b[39m/\u001b[39m\u001b[39m100\u001b[39m, hint\n",
      "\u001b[1;31mAssertionError\u001b[0m: All the information you need is in the dotplot above. What does the horizontal position of each dot represent?"
     ]
    }
   ],
   "source": [
    "# test_Q6\n",
    "assert Q6 == 2/100, hint"
   ]
  },
  {
   "attachments": {},
   "cell_type": "markdown",
   "id": "7a12c5f9",
   "metadata": {
    "deletable": false
   },
   "source": [
    "<p align=\"center\">\n",
    "  <img src=\"https://www.jcpcarchives.org/userfiles/values-of-p-Inference.jpg\" />\n",
    "</p>"
   ]
  },
  {
   "attachments": {},
   "cell_type": "markdown",
   "id": "0de4c0fc",
   "metadata": {
    "deletable": false
   },
   "source": [
    "### Q7: Using the table above, state the strength of evidence against the *null hypothesis* for both the \"one-sided\" and \"two-sided\" p-values calcuated above"
   ]
  },
  {
   "attachments": {},
   "cell_type": "markdown",
   "id": "546a912d",
   "metadata": {
    "deletable": false
   },
   "source": [
    "> Answer here...\n",
    "\n",
    "- For the null hypothesis that... and a \"one-sided\" p-value of... simulated based on... we have XYZ evidence against...\n",
    "- For the null hypothesis that... and a \"two-sided\" p-value of... simulated based on... we have XYZ evidence against...\n"
   ]
  },
  {
   "cell_type": "code",
   "execution_count": 55,
   "id": "ef9430b3",
   "metadata": {},
   "outputs": [],
   "source": [
    "hint = \"\\n\\nAUTOMATICALLY FAILING AUTOTEST: DOES NOT COUNT AGAINST STUDENT\"\n",
    "hint += \"\\nIncluded as an example answer for feedback purposes only\\n\"\n",
    "hint += \"\\nFor the null hypothesis that students just guess whether milk or tea was poured first, and a \"\n",
    "hint += \"\\\"one-sided\\\" p-value of [Q6 value] simulated based on the assumption of the null hypothesis, we have good evidence against the null hypothesis.\"\n",
    "hint += \"\\nFor the null hypothesis that students just guess whether milk or tea was poured first, and a \"\n",
    "hint += \"\\\"two-sided\\\" p-value of [Q5 value] simulated based on the assumption of the null hypothesis, we have moderate evidence against the null hypothesis. \""
   ]
  },
  {
   "cell_type": "code",
   "execution_count": 56,
   "id": "343aa982",
   "metadata": {},
   "outputs": [
    {
     "ename": "AssertionError",
     "evalue": "\n\nAUTOMATICALLY FAILING AUTOTEST: DOES NOT COUNT AGAINST STUDENT\nIncluded as an example answer for feedback purposes only\n\nFor the null hypothesis that students just guess whether milk or tea was poured first, and a \"one-sided\" p-value of [omitted] simulated based on the assumption of the null hypothesis, we have good evidence against the null hypothesis.\nFor the null hypothesis that students just guess whether milk or tea was poured first, and a \"two-sided\" p-value of [omitted] simulated based on the assumption of the null hypothesis, we have moderate evidence against the null hypothesis. ",
     "output_type": "error",
     "traceback": [
      "\u001b[1;31m---------------------------------------------------------------------------\u001b[0m",
      "\u001b[1;31mAssertionError\u001b[0m                            Traceback (most recent call last)",
      "Cell \u001b[1;32mIn[56], line 2\u001b[0m\n\u001b[0;32m      1\u001b[0m \u001b[39m# test_Q7\u001b[39;00m\n\u001b[1;32m----> 2\u001b[0m \u001b[39massert\u001b[39;00m \u001b[39mFalse\u001b[39;00m, hint\n",
      "\u001b[1;31mAssertionError\u001b[0m: \n\nAUTOMATICALLY FAILING AUTOTEST: DOES NOT COUNT AGAINST STUDENT\nIncluded as an example answer for feedback purposes only\n\nFor the null hypothesis that students just guess whether milk or tea was poured first, and a \"one-sided\" p-value of [omitted] simulated based on the assumption of the null hypothesis, we have good evidence against the null hypothesis.\nFor the null hypothesis that students just guess whether milk or tea was poured first, and a \"two-sided\" p-value of [omitted] simulated based on the assumption of the null hypothesis, we have moderate evidence against the null hypothesis. "
     ]
    }
   ],
   "source": [
    "# test_Q7\n",
    "assert False, hint"
   ]
  },
  {
   "attachments": {},
   "cell_type": "markdown",
   "id": "74f76af9",
   "metadata": {
    "deletable": false
   },
   "source": [
    "### Q8: Explain the difference between $p$, $\\hat p$, and p-value"
   ]
  },
  {
   "attachments": {},
   "cell_type": "markdown",
   "id": "5208f2e6",
   "metadata": {
    "deletable": false
   },
   "source": [
    "> Answer here...\n",
    "\n"
   ]
  },
  {
   "cell_type": "code",
   "execution_count": 59,
   "id": "4fd53370",
   "metadata": {},
   "outputs": [],
   "source": [
    "p = '\\x1B[3m' + 'p' + '\\x1B[0m'\n",
    "p_hat = '\\x1B[3m' + 'p\\u0302' + '\\x1B[0m'\n",
    "hint = \"\\n\\nAUTOMATICALLY FAILING AUTOTEST: DOES NOT COUNT AGAINST STUDENT\"\n",
    "hint += \"\\nIncluded as an example answer for feedback purposes only\\n\\n\"\n",
    "hint += p + \" measures the statistic for population, \" + p_hat + \" measures the statistic of given sample and \"\n",
    "hint += \"p-value measures the probability of a statistic being as or more extreme than the observed \"\n",
    "hint += \"test statistic if the null hypothesis was true.\""
   ]
  },
  {
   "cell_type": "code",
   "execution_count": 60,
   "id": "95cae684",
   "metadata": {},
   "outputs": [
    {
     "ename": "AssertionError",
     "evalue": "\n\nAUTOMATICALLY FAILING AUTOTEST: DOES NOT COUNT AGAINST STUDENT\nIncluded as an example answer for feedback purposes only\n\n\u001b[3mp\u001b[0m measures the statistic for population, \u001b[3mp̂\u001b[0m measures the statistic of given sample and p-value measures the probability of a statistic being as or more extreme than the observed test statistic if the null hypothesis was true",
     "output_type": "error",
     "traceback": [
      "\u001b[1;31m---------------------------------------------------------------------------\u001b[0m",
      "\u001b[1;31mAssertionError\u001b[0m                            Traceback (most recent call last)",
      "Cell \u001b[1;32mIn[60], line 2\u001b[0m\n\u001b[0;32m      1\u001b[0m \u001b[39m# test_Q8\u001b[39;00m\n\u001b[1;32m----> 2\u001b[0m \u001b[39massert\u001b[39;00m \u001b[39mFalse\u001b[39;00m, hint\n",
      "\u001b[1;31mAssertionError\u001b[0m: \n\nAUTOMATICALLY FAILING AUTOTEST: DOES NOT COUNT AGAINST STUDENT\nIncluded as an example answer for feedback purposes only\n\n\u001b[3mp\u001b[0m measures the statistic for population, \u001b[3mp̂\u001b[0m measures the statistic of given sample and p-value measures the probability of a statistic being as or more extreme than the observed test statistic if the null hypothesis was true"
     ]
    }
   ],
   "source": [
    "# test_Q8\n",
    "assert False, hint"
   ]
  },
  {
   "attachments": {},
   "cell_type": "markdown",
   "id": "c6041ad7",
   "metadata": {
    "deletable": false
   },
   "source": [
    "### Q9: change `reps` value in the code for `Q3/Q4` to `1000`, `10000`, and `100000` and compare the results to the following two figures\n",
    "\n",
    "#### Comment on the emerging simiarities between the figure in `Q3/Q4` to the two figures below"
   ]
  },
  {
   "attachments": {},
   "cell_type": "markdown",
   "id": "5faf6acf",
   "metadata": {
    "deletable": false
   },
   "source": [
    "> Answer here...\n",
    "\n"
   ]
  },
  {
   "cell_type": "code",
   "execution_count": 16,
   "id": "fcd6d0d7",
   "metadata": {
    "deletable": false
   },
   "outputs": [
    {
     "data": {
      "application/vnd.plotly.v1+json": {
       "config": {
        "plotlyServerURL": "https://plot.ly"
       },
       "data": [
        {
         "alignmentgroup": "True",
         "hovertemplate": "x=%{x}<br>probability=%{y}<extra></extra>",
         "legendgroup": "",
         "marker": {
          "color": "#636efa",
          "pattern": {
           "shape": ""
          }
         },
         "name": "",
         "offsetgroup": "",
         "orientation": "v",
         "showlegend": false,
         "textposition": "auto",
         "type": "bar",
         "x": [
          0,
          0.0125,
          0.025,
          0.0375,
          0.05,
          0.0625,
          0.075,
          0.0875,
          0.1,
          0.1125,
          0.125,
          0.1375,
          0.15,
          0.1625,
          0.175,
          0.1875,
          0.2,
          0.2125,
          0.225,
          0.2375,
          0.25,
          0.2625,
          0.275,
          0.2875,
          0.3,
          0.3125,
          0.325,
          0.3375,
          0.35,
          0.3625,
          0.375,
          0.3875,
          0.4,
          0.4125,
          0.425,
          0.4375,
          0.45,
          0.4625,
          0.475,
          0.4875,
          0.5,
          0.5125,
          0.525,
          0.5375,
          0.55,
          0.5625,
          0.575,
          0.5875,
          0.6,
          0.6125,
          0.625,
          0.6375,
          0.65,
          0.6625,
          0.675,
          0.6875,
          0.7,
          0.7125,
          0.725,
          0.7375,
          0.75,
          0.7625,
          0.775,
          0.7875,
          0.8,
          0.8125,
          0.825,
          0.8375,
          0.85,
          0.8625,
          0.875,
          0.8875,
          0.9,
          0.9125,
          0.925,
          0.9375,
          0.95,
          0.9625,
          0.975,
          0.9875
         ],
         "xaxis": "x",
         "y": [
          8.271806125530277e-25,
          6.617444900424224e-23,
          2.613890735667582e-21,
          6.796115912735724e-20,
          1.3082523132016142e-18,
          1.9885435160664614e-17,
          2.4856793950830614e-16,
          2.6277182176592536e-15,
          2.397792873614062e-14,
          1.9182342988912517e-13,
          1.3619463522127996e-12,
          8.666931332263204e-12,
          4.983485516051365e-11,
          2.6067462699345535e-10,
          1.2475142863258201e-9,
          5.489062859833626e-9,
          2.2299317868074098e-8,
          8.395037315039583e-8,
          2.9382630602638505e-7,
          9.588016301913717e-7,
          0.000002924344972083682,
          0.000008355271348810482,
          0.000022407318617264704,
          0.00005650541216527602,
          0.0001342003538925299,
          0.00030060879271926496,
          0.0006359032153676799,
          0.0012718064307353572,
          0.0024073478867490624,
          0.004316623796929372,
          0.00733826045477991,
          0.011835903959322462,
          0.01812372793771253,
          0.02636178609121827,
          0.03644129253786056,
          0.04789427019261663,
          0.05986783774077068,
          0.07119418542145724,
          0.08056184139796468,
          0.0867589061208851,
          0.08892787877390716,
          0.08675890612088512,
          0.08056184139796471,
          0.07119418542145724,
          0.05986783774077069,
          0.04789427019261658,
          0.036441292537860485,
          0.026361786091218316,
          0.01812372793771253,
          0.011835903959322462,
          0.007338260454779909,
          0.004316623796929373,
          0.0024073478867490624,
          0.0012718064307353572,
          0.0006359032153676799,
          0.000300608792719265,
          0.0001342003538925299,
          0.00005650541216527602,
          0.0000224073186172647,
          0.000008355271348810482,
          0.000002924344972083682,
          9.588016301913717e-7,
          2.9382630602638505e-7,
          8.395037315039583e-8,
          2.2299317868074098e-8,
          5.4890628598336254e-9,
          1.2475142863258201e-9,
          2.6067462699345525e-10,
          4.983485516051365e-11,
          8.666931332263202e-12,
          1.3619463522127998e-12,
          1.9182342988912517e-13,
          2.397792873614062e-14,
          2.6277182176592536e-15,
          2.4856793950830614e-16,
          1.9885435160664614e-17,
          1.3082523132016142e-18,
          6.796115912735722e-20,
          2.613890735667582e-21,
          6.617444900424224e-23
         ],
         "yaxis": "y"
        }
       ],
       "layout": {
        "annotations": [
         {
          "showarrow": false,
          "text": "observed_test_stat (0.6125)",
          "x": 0.6125,
          "xanchor": "left",
          "xref": "x",
          "y": 1,
          "yanchor": "top",
          "yref": "y domain"
         }
        ],
        "barmode": "relative",
        "legend": {
         "tracegroupgap": 0
        },
        "shapes": [
         {
          "line": {
           "color": "black",
           "dash": "dash"
          },
          "type": "line",
          "x0": 0.6125,
          "x1": 0.6125,
          "xref": "x",
          "y0": 0,
          "y1": 1,
          "yref": "y domain"
         }
        ],
        "template": {
         "data": {
          "bar": [
           {
            "error_x": {
             "color": "#2a3f5f"
            },
            "error_y": {
             "color": "#2a3f5f"
            },
            "marker": {
             "line": {
              "color": "#E5ECF6",
              "width": 0.5
             },
             "pattern": {
              "fillmode": "overlay",
              "size": 10,
              "solidity": 0.2
             }
            },
            "type": "bar"
           }
          ],
          "barpolar": [
           {
            "marker": {
             "line": {
              "color": "#E5ECF6",
              "width": 0.5
             },
             "pattern": {
              "fillmode": "overlay",
              "size": 10,
              "solidity": 0.2
             }
            },
            "type": "barpolar"
           }
          ],
          "carpet": [
           {
            "aaxis": {
             "endlinecolor": "#2a3f5f",
             "gridcolor": "white",
             "linecolor": "white",
             "minorgridcolor": "white",
             "startlinecolor": "#2a3f5f"
            },
            "baxis": {
             "endlinecolor": "#2a3f5f",
             "gridcolor": "white",
             "linecolor": "white",
             "minorgridcolor": "white",
             "startlinecolor": "#2a3f5f"
            },
            "type": "carpet"
           }
          ],
          "choropleth": [
           {
            "colorbar": {
             "outlinewidth": 0,
             "ticks": ""
            },
            "type": "choropleth"
           }
          ],
          "contour": [
           {
            "colorbar": {
             "outlinewidth": 0,
             "ticks": ""
            },
            "colorscale": [
             [
              0,
              "#0d0887"
             ],
             [
              0.1111111111111111,
              "#46039f"
             ],
             [
              0.2222222222222222,
              "#7201a8"
             ],
             [
              0.3333333333333333,
              "#9c179e"
             ],
             [
              0.4444444444444444,
              "#bd3786"
             ],
             [
              0.5555555555555556,
              "#d8576b"
             ],
             [
              0.6666666666666666,
              "#ed7953"
             ],
             [
              0.7777777777777778,
              "#fb9f3a"
             ],
             [
              0.8888888888888888,
              "#fdca26"
             ],
             [
              1,
              "#f0f921"
             ]
            ],
            "type": "contour"
           }
          ],
          "contourcarpet": [
           {
            "colorbar": {
             "outlinewidth": 0,
             "ticks": ""
            },
            "type": "contourcarpet"
           }
          ],
          "heatmap": [
           {
            "colorbar": {
             "outlinewidth": 0,
             "ticks": ""
            },
            "colorscale": [
             [
              0,
              "#0d0887"
             ],
             [
              0.1111111111111111,
              "#46039f"
             ],
             [
              0.2222222222222222,
              "#7201a8"
             ],
             [
              0.3333333333333333,
              "#9c179e"
             ],
             [
              0.4444444444444444,
              "#bd3786"
             ],
             [
              0.5555555555555556,
              "#d8576b"
             ],
             [
              0.6666666666666666,
              "#ed7953"
             ],
             [
              0.7777777777777778,
              "#fb9f3a"
             ],
             [
              0.8888888888888888,
              "#fdca26"
             ],
             [
              1,
              "#f0f921"
             ]
            ],
            "type": "heatmap"
           }
          ],
          "heatmapgl": [
           {
            "colorbar": {
             "outlinewidth": 0,
             "ticks": ""
            },
            "colorscale": [
             [
              0,
              "#0d0887"
             ],
             [
              0.1111111111111111,
              "#46039f"
             ],
             [
              0.2222222222222222,
              "#7201a8"
             ],
             [
              0.3333333333333333,
              "#9c179e"
             ],
             [
              0.4444444444444444,
              "#bd3786"
             ],
             [
              0.5555555555555556,
              "#d8576b"
             ],
             [
              0.6666666666666666,
              "#ed7953"
             ],
             [
              0.7777777777777778,
              "#fb9f3a"
             ],
             [
              0.8888888888888888,
              "#fdca26"
             ],
             [
              1,
              "#f0f921"
             ]
            ],
            "type": "heatmapgl"
           }
          ],
          "histogram": [
           {
            "marker": {
             "pattern": {
              "fillmode": "overlay",
              "size": 10,
              "solidity": 0.2
             }
            },
            "type": "histogram"
           }
          ],
          "histogram2d": [
           {
            "colorbar": {
             "outlinewidth": 0,
             "ticks": ""
            },
            "colorscale": [
             [
              0,
              "#0d0887"
             ],
             [
              0.1111111111111111,
              "#46039f"
             ],
             [
              0.2222222222222222,
              "#7201a8"
             ],
             [
              0.3333333333333333,
              "#9c179e"
             ],
             [
              0.4444444444444444,
              "#bd3786"
             ],
             [
              0.5555555555555556,
              "#d8576b"
             ],
             [
              0.6666666666666666,
              "#ed7953"
             ],
             [
              0.7777777777777778,
              "#fb9f3a"
             ],
             [
              0.8888888888888888,
              "#fdca26"
             ],
             [
              1,
              "#f0f921"
             ]
            ],
            "type": "histogram2d"
           }
          ],
          "histogram2dcontour": [
           {
            "colorbar": {
             "outlinewidth": 0,
             "ticks": ""
            },
            "colorscale": [
             [
              0,
              "#0d0887"
             ],
             [
              0.1111111111111111,
              "#46039f"
             ],
             [
              0.2222222222222222,
              "#7201a8"
             ],
             [
              0.3333333333333333,
              "#9c179e"
             ],
             [
              0.4444444444444444,
              "#bd3786"
             ],
             [
              0.5555555555555556,
              "#d8576b"
             ],
             [
              0.6666666666666666,
              "#ed7953"
             ],
             [
              0.7777777777777778,
              "#fb9f3a"
             ],
             [
              0.8888888888888888,
              "#fdca26"
             ],
             [
              1,
              "#f0f921"
             ]
            ],
            "type": "histogram2dcontour"
           }
          ],
          "mesh3d": [
           {
            "colorbar": {
             "outlinewidth": 0,
             "ticks": ""
            },
            "type": "mesh3d"
           }
          ],
          "parcoords": [
           {
            "line": {
             "colorbar": {
              "outlinewidth": 0,
              "ticks": ""
             }
            },
            "type": "parcoords"
           }
          ],
          "pie": [
           {
            "automargin": true,
            "type": "pie"
           }
          ],
          "scatter": [
           {
            "fillpattern": {
             "fillmode": "overlay",
             "size": 10,
             "solidity": 0.2
            },
            "type": "scatter"
           }
          ],
          "scatter3d": [
           {
            "line": {
             "colorbar": {
              "outlinewidth": 0,
              "ticks": ""
             }
            },
            "marker": {
             "colorbar": {
              "outlinewidth": 0,
              "ticks": ""
             }
            },
            "type": "scatter3d"
           }
          ],
          "scattercarpet": [
           {
            "marker": {
             "colorbar": {
              "outlinewidth": 0,
              "ticks": ""
             }
            },
            "type": "scattercarpet"
           }
          ],
          "scattergeo": [
           {
            "marker": {
             "colorbar": {
              "outlinewidth": 0,
              "ticks": ""
             }
            },
            "type": "scattergeo"
           }
          ],
          "scattergl": [
           {
            "marker": {
             "colorbar": {
              "outlinewidth": 0,
              "ticks": ""
             }
            },
            "type": "scattergl"
           }
          ],
          "scattermapbox": [
           {
            "marker": {
             "colorbar": {
              "outlinewidth": 0,
              "ticks": ""
             }
            },
            "type": "scattermapbox"
           }
          ],
          "scatterpolar": [
           {
            "marker": {
             "colorbar": {
              "outlinewidth": 0,
              "ticks": ""
             }
            },
            "type": "scatterpolar"
           }
          ],
          "scatterpolargl": [
           {
            "marker": {
             "colorbar": {
              "outlinewidth": 0,
              "ticks": ""
             }
            },
            "type": "scatterpolargl"
           }
          ],
          "scatterternary": [
           {
            "marker": {
             "colorbar": {
              "outlinewidth": 0,
              "ticks": ""
             }
            },
            "type": "scatterternary"
           }
          ],
          "surface": [
           {
            "colorbar": {
             "outlinewidth": 0,
             "ticks": ""
            },
            "colorscale": [
             [
              0,
              "#0d0887"
             ],
             [
              0.1111111111111111,
              "#46039f"
             ],
             [
              0.2222222222222222,
              "#7201a8"
             ],
             [
              0.3333333333333333,
              "#9c179e"
             ],
             [
              0.4444444444444444,
              "#bd3786"
             ],
             [
              0.5555555555555556,
              "#d8576b"
             ],
             [
              0.6666666666666666,
              "#ed7953"
             ],
             [
              0.7777777777777778,
              "#fb9f3a"
             ],
             [
              0.8888888888888888,
              "#fdca26"
             ],
             [
              1,
              "#f0f921"
             ]
            ],
            "type": "surface"
           }
          ],
          "table": [
           {
            "cells": {
             "fill": {
              "color": "#EBF0F8"
             },
             "line": {
              "color": "white"
             }
            },
            "header": {
             "fill": {
              "color": "#C8D4E3"
             },
             "line": {
              "color": "white"
             }
            },
            "type": "table"
           }
          ]
         },
         "layout": {
          "annotationdefaults": {
           "arrowcolor": "#2a3f5f",
           "arrowhead": 0,
           "arrowwidth": 1
          },
          "autotypenumbers": "strict",
          "coloraxis": {
           "colorbar": {
            "outlinewidth": 0,
            "ticks": ""
           }
          },
          "colorscale": {
           "diverging": [
            [
             0,
             "#8e0152"
            ],
            [
             0.1,
             "#c51b7d"
            ],
            [
             0.2,
             "#de77ae"
            ],
            [
             0.3,
             "#f1b6da"
            ],
            [
             0.4,
             "#fde0ef"
            ],
            [
             0.5,
             "#f7f7f7"
            ],
            [
             0.6,
             "#e6f5d0"
            ],
            [
             0.7,
             "#b8e186"
            ],
            [
             0.8,
             "#7fbc41"
            ],
            [
             0.9,
             "#4d9221"
            ],
            [
             1,
             "#276419"
            ]
           ],
           "sequential": [
            [
             0,
             "#0d0887"
            ],
            [
             0.1111111111111111,
             "#46039f"
            ],
            [
             0.2222222222222222,
             "#7201a8"
            ],
            [
             0.3333333333333333,
             "#9c179e"
            ],
            [
             0.4444444444444444,
             "#bd3786"
            ],
            [
             0.5555555555555556,
             "#d8576b"
            ],
            [
             0.6666666666666666,
             "#ed7953"
            ],
            [
             0.7777777777777778,
             "#fb9f3a"
            ],
            [
             0.8888888888888888,
             "#fdca26"
            ],
            [
             1,
             "#f0f921"
            ]
           ],
           "sequentialminus": [
            [
             0,
             "#0d0887"
            ],
            [
             0.1111111111111111,
             "#46039f"
            ],
            [
             0.2222222222222222,
             "#7201a8"
            ],
            [
             0.3333333333333333,
             "#9c179e"
            ],
            [
             0.4444444444444444,
             "#bd3786"
            ],
            [
             0.5555555555555556,
             "#d8576b"
            ],
            [
             0.6666666666666666,
             "#ed7953"
            ],
            [
             0.7777777777777778,
             "#fb9f3a"
            ],
            [
             0.8888888888888888,
             "#fdca26"
            ],
            [
             1,
             "#f0f921"
            ]
           ]
          },
          "colorway": [
           "#636efa",
           "#EF553B",
           "#00cc96",
           "#ab63fa",
           "#FFA15A",
           "#19d3f3",
           "#FF6692",
           "#B6E880",
           "#FF97FF",
           "#FECB52"
          ],
          "font": {
           "color": "#2a3f5f"
          },
          "geo": {
           "bgcolor": "white",
           "lakecolor": "white",
           "landcolor": "#E5ECF6",
           "showlakes": true,
           "showland": true,
           "subunitcolor": "white"
          },
          "hoverlabel": {
           "align": "left"
          },
          "hovermode": "closest",
          "mapbox": {
           "style": "light"
          },
          "paper_bgcolor": "white",
          "plot_bgcolor": "#E5ECF6",
          "polar": {
           "angularaxis": {
            "gridcolor": "white",
            "linecolor": "white",
            "ticks": ""
           },
           "bgcolor": "#E5ECF6",
           "radialaxis": {
            "gridcolor": "white",
            "linecolor": "white",
            "ticks": ""
           }
          },
          "scene": {
           "xaxis": {
            "backgroundcolor": "#E5ECF6",
            "gridcolor": "white",
            "gridwidth": 2,
            "linecolor": "white",
            "showbackground": true,
            "ticks": "",
            "zerolinecolor": "white"
           },
           "yaxis": {
            "backgroundcolor": "#E5ECF6",
            "gridcolor": "white",
            "gridwidth": 2,
            "linecolor": "white",
            "showbackground": true,
            "ticks": "",
            "zerolinecolor": "white"
           },
           "zaxis": {
            "backgroundcolor": "#E5ECF6",
            "gridcolor": "white",
            "gridwidth": 2,
            "linecolor": "white",
            "showbackground": true,
            "ticks": "",
            "zerolinecolor": "white"
           }
          },
          "shapedefaults": {
           "line": {
            "color": "#2a3f5f"
           }
          },
          "ternary": {
           "aaxis": {
            "gridcolor": "white",
            "linecolor": "white",
            "ticks": ""
           },
           "baxis": {
            "gridcolor": "white",
            "linecolor": "white",
            "ticks": ""
           },
           "bgcolor": "#E5ECF6",
           "caxis": {
            "gridcolor": "white",
            "linecolor": "white",
            "ticks": ""
           }
          },
          "title": {
           "x": 0.05
          },
          "xaxis": {
           "automargin": true,
           "gridcolor": "white",
           "linecolor": "white",
           "ticks": "",
           "title": {
            "standoff": 15
           },
           "zerolinecolor": "white",
           "zerolinewidth": 2
          },
          "yaxis": {
           "automargin": true,
           "gridcolor": "white",
           "linecolor": "white",
           "ticks": "",
           "title": {
            "standoff": 15
           },
           "zerolinecolor": "white",
           "zerolinewidth": 2
          }
         }
        },
        "title": {
         "text": "Theoretically Exact (Binomial) Sampling Distribution of p-hat assuming \"H0: Random Guessing\""
        },
        "xaxis": {
         "anchor": "y",
         "domain": [
          0,
          1
         ],
         "title": {
          "text": "x"
         }
        },
        "yaxis": {
         "anchor": "x",
         "domain": [
          0,
          1
         ],
         "title": {
          "text": "probability"
         }
        }
       }
      }
     },
     "metadata": {},
     "output_type": "display_data"
    }
   ],
   "source": [
    "from scipy import stats; x=np.arange(0,80); prob=stats.binom(n=80, p=0.5).pmf(x)\n",
    "fig = px.bar(pd.DataFrame({'x':x/80,'probability':prob}), x='x', y='probability',\n",
    "             title='Theoretically Exact (Binomial) Sampling Distribution of p-hat assuming \"H0: Random Guessing\"')\n",
    "fig.add_vline(x=observed_test_stat, line_dash=\"dash\", line_color=\"black\",\n",
    "              annotation_text=\"observed_test_stat (0.6125)\")"
   ]
  },
  {
   "cell_type": "code",
   "execution_count": 17,
   "id": "289dec89",
   "metadata": {
    "deletable": false
   },
   "outputs": [
    {
     "data": {
      "application/vnd.plotly.v1+json": {
       "config": {
        "plotlyServerURL": "https://plot.ly"
       },
       "data": [
        {
         "hovertemplate": "x=%{x}<br>density=%{y}<extra></extra>",
         "legendgroup": "",
         "line": {
          "color": "#636efa",
          "dash": "solid"
         },
         "marker": {
          "symbol": "circle"
         },
         "mode": "lines",
         "name": "",
         "orientation": "v",
         "showlegend": false,
         "type": "scatter",
         "x": [
          0,
          0.005025125628140704,
          0.010050251256281407,
          0.01507537688442211,
          0.020100502512562814,
          0.02512562814070352,
          0.03015075376884422,
          0.035175879396984924,
          0.04020100502512563,
          0.04522613065326633,
          0.05025125628140704,
          0.05527638190954774,
          0.06030150753768844,
          0.06532663316582915,
          0.07035175879396985,
          0.07537688442211056,
          0.08040201005025126,
          0.08542713567839195,
          0.09045226130653267,
          0.09547738693467336,
          0.10050251256281408,
          0.10552763819095477,
          0.11055276381909548,
          0.11557788944723618,
          0.12060301507537688,
          0.12562814070351758,
          0.1306532663316583,
          0.135678391959799,
          0.1407035175879397,
          0.1457286432160804,
          0.15075376884422112,
          0.15577889447236182,
          0.16080402010050251,
          0.1658291457286432,
          0.1708542713567839,
          0.17587939698492464,
          0.18090452261306533,
          0.18592964824120603,
          0.19095477386934673,
          0.19597989949748745,
          0.20100502512562815,
          0.20603015075376885,
          0.21105527638190955,
          0.21608040201005024,
          0.22110552763819097,
          0.22613065326633167,
          0.23115577889447236,
          0.23618090452261306,
          0.24120603015075376,
          0.24623115577889448,
          0.25125628140703515,
          0.2562814070351759,
          0.2613065326633166,
          0.2663316582914573,
          0.271356783919598,
          0.2763819095477387,
          0.2814070351758794,
          0.2864321608040201,
          0.2914572864321608,
          0.2964824120603015,
          0.30150753768844224,
          0.3065326633165829,
          0.31155778894472363,
          0.3165829145728643,
          0.32160804020100503,
          0.32663316582914576,
          0.3316582914572864,
          0.33668341708542715,
          0.3417085427135678,
          0.34673366834170855,
          0.35175879396984927,
          0.35678391959798994,
          0.36180904522613067,
          0.36683417085427134,
          0.37185929648241206,
          0.3768844221105528,
          0.38190954773869346,
          0.3869346733668342,
          0.3919597989949749,
          0.3969849246231156,
          0.4020100502512563,
          0.40703517587939697,
          0.4120603015075377,
          0.4170854271356784,
          0.4221105527638191,
          0.4271356783919598,
          0.4321608040201005,
          0.4371859296482412,
          0.44221105527638194,
          0.4472361809045226,
          0.45226130653266333,
          0.457286432160804,
          0.4623115577889447,
          0.46733668341708545,
          0.4723618090452261,
          0.47738693467336685,
          0.4824120603015075,
          0.48743718592964824,
          0.49246231155778897,
          0.49748743718592964,
          0.5025125628140703,
          0.507537688442211,
          0.5125628140703518,
          0.5175879396984925,
          0.5226130653266332,
          0.5276381909547738,
          0.5326633165829145,
          0.5376884422110553,
          0.542713567839196,
          0.5477386934673367,
          0.5527638190954774,
          0.5577889447236181,
          0.5628140703517588,
          0.5678391959798995,
          0.5728643216080402,
          0.577889447236181,
          0.5829145728643216,
          0.5879396984924623,
          0.592964824120603,
          0.5979899497487438,
          0.6030150753768845,
          0.6080402010050251,
          0.6130653266331658,
          0.6180904522613065,
          0.6231155778894473,
          0.628140703517588,
          0.6331658291457286,
          0.6381909547738693,
          0.6432160804020101,
          0.6482412060301508,
          0.6532663316582915,
          0.6582914572864321,
          0.6633165829145728,
          0.6683417085427136,
          0.6733668341708543,
          0.678391959798995,
          0.6834170854271356,
          0.6884422110552764,
          0.6934673366834171,
          0.6984924623115578,
          0.7035175879396985,
          0.7085427135678392,
          0.7135678391959799,
          0.7185929648241206,
          0.7236180904522613,
          0.7286432160804021,
          0.7336683417085427,
          0.7386934673366834,
          0.7437185929648241,
          0.7487437185929648,
          0.7537688442211056,
          0.7587939698492463,
          0.7638190954773869,
          0.7688442211055276,
          0.7738693467336684,
          0.7788944723618091,
          0.7839195979899498,
          0.7889447236180904,
          0.7939698492462312,
          0.7989949748743719,
          0.8040201005025126,
          0.8090452261306533,
          0.8140703517587939,
          0.8190954773869347,
          0.8241206030150754,
          0.8291457286432161,
          0.8341708542713568,
          0.8391959798994975,
          0.8442211055276382,
          0.8492462311557789,
          0.8542713567839196,
          0.8592964824120604,
          0.864321608040201,
          0.8693467336683417,
          0.8743718592964824,
          0.8793969849246231,
          0.8844221105527639,
          0.8894472361809045,
          0.8944723618090452,
          0.8994974874371859,
          0.9045226130653267,
          0.9095477386934674,
          0.914572864321608,
          0.9195979899497487,
          0.9246231155778895,
          0.9296482412060302,
          0.9346733668341709,
          0.9396984924623115,
          0.9447236180904522,
          0.949748743718593,
          0.9547738693467337,
          0.9597989949748744,
          0.964824120603015,
          0.9698492462311558,
          0.9748743718592965,
          0.9798994974874372,
          0.9849246231155779,
          0.9899497487437187,
          0.9949748743718593,
          1
         ],
         "xaxis": "x",
         "y": [
          2.3033310536616376e-12,
          3.4793781076430303e-12,
          5.256246388562376e-12,
          7.940725351382003e-12,
          1.1995986611986206e-11,
          1.8121054875561368e-11,
          2.7370482044481833e-11,
          4.1334436971216315e-11,
          6.240950330123711e-11,
          9.420553322865002e-11,
          1.4215636016114768e-10,
          2.1443561530255257e-10,
          3.2332861834907526e-10,
          4.872851239457496e-10,
          7.339870729215729e-10,
          1.1049272383410561e-9,
          1.6622333664270364e-9,
          2.498823962213825e-9,
          3.7534984221617475e-9,
          5.633321391216152e-9,
          8.446768288718936e-9,
          1.2652713250588678e-8,
          1.893268801860254e-8,
          2.829724319796952e-8,
          4.224216100248655e-8,
          6.297735187036512e-8,
          9.376143415389866e-8,
          1.3938953512205325e-7,
          2.0690256242179838e-7,
          3.066155774062944e-7,
          4.5360440654325573e-7,
          6.698479900697497e-7,
          9.873056430144498e-7,
          0.000001452322128333275,
          0.000002131910947285396,
          0.000003122683164914991,
          0.00000456348603713919,
          0.0000066532196582895,
          0.000009675845685630702,
          0.000014035334511227839,
          0.00002030427230369128,
          0.000029291137083880845,
          0.00004213293895039304,
          0.000060422106264109666,
          0.00008637930713218625,
          0.00012308746059977904,
          0.00017480666454805526,
          0.0002473953039297096,
          0.0003488693551967859,
          0.0004901399993720352,
          0.0006859791774523115,
          0.0009562736641212733,
          0.0013276404653313097,
          0.0018354895402508675,
          0.0025266334289137755,
          0.0034625564182031447,
          0.004723467066066223,
          0.006413265393837797,
          0.008665557452638679,
          0.011650842278795329,
          0.015584975904107679,
          0.0207389800262149,
          0.0274502048352686,
          0.03613477204293719,
          0.047301111598293595,
          0.06156426129334157,
          0.07966042180214113,
          0.10246105286841582,
          0.13098556539273218,
          0.16641141985350125,
          0.21008020008142855,
          0.263498014986524,
          0.3283284171405656,
          0.40637594855863785,
          0.49955846581962804,
          0.6098665939454962,
          0.73930904236774,
          0.8898431092769792,
          1.0632905111842939,
          1.2612396920363105,
          1.4849369566442574,
          1.7351700761093625,
          2.012149341211294,
          2.3153922822196553,
          2.643619301476151,
          2.994668141961761,
          3.365435310222325,
          3.7518521760992267,
          4.14890241289901,
          4.55068570063611,
          4.950530236351924,
          5.341153693289333,
          5.714869026588569,
          6.063828176322861,
          6.380293547245099,
          6.656924440205101,
          6.8870636480089615,
          7.065008436160171,
          7.186250258244075,
          7.247668861045877,
          7.247668861045877,
          7.186250258244075,
          7.065008436160171,
          6.8870636480089615,
          6.656924440205101,
          6.380293547245099,
          6.063828176322861,
          5.714869026588569,
          5.341153693289333,
          4.950530236351924,
          4.55068570063611,
          4.14890241289901,
          3.7518521760992267,
          3.365435310222325,
          2.994668141961761,
          2.6436193014761282,
          2.3153922822196553,
          2.012149341211294,
          1.7351700761093625,
          1.4849369566442574,
          1.2612396920363105,
          1.0632905111842939,
          0.8898431092769792,
          0.73930904236774,
          0.6098665939454962,
          0.49955846581962393,
          0.40637594855863785,
          0.3283284171405656,
          0.263498014986524,
          0.21008020008142683,
          0.16641141985350125,
          0.13098556539273218,
          0.10246105286841582,
          0.07966042180214113,
          0.06156426129334157,
          0.047301111598293595,
          0.03613477204293748,
          0.0274502048352686,
          0.0207389800262149,
          0.015584975904107679,
          0.011650842278795329,
          0.008665557452638679,
          0.006413265393837797,
          0.004723467066066223,
          0.0034625564182031447,
          0.0025266334289137573,
          0.0018354895402508675,
          0.0013276404653313097,
          0.0009562736641212733,
          0.0006859791774523115,
          0.0004901399993720352,
          0.00034886935519678347,
          0.0002473953039297096,
          0.00017480666454805526,
          0.00012308746059977904,
          0.00008637930713218625,
          0.00006042210626410927,
          0.00004213293895039304,
          0.000029291137083880845,
          0.00002030427230369128,
          0.000014035334511227839,
          0.000009675845685630702,
          0.0000066532196582895,
          0.00000456348603713919,
          0.000003122683164914991,
          0.000002131910947285396,
          0.0000014523221283332573,
          9.873056430144498e-7,
          6.698479900697497e-7,
          4.5360440654325573e-7,
          3.066155774062944e-7,
          2.0690256242179603e-7,
          1.3938953512205325e-7,
          9.376143415389866e-8,
          6.297735187036512e-8,
          4.224216100248655e-8,
          2.829724319796952e-8,
          1.893268801860254e-8,
          1.2652713250588678e-8,
          8.446768288718936e-9,
          5.633321391216152e-9,
          3.7534984221617475e-9,
          2.49882396221385e-9,
          1.6622333664270364e-9,
          1.1049272383410561e-9,
          7.339870729215729e-10,
          4.872851239457447e-10,
          3.2332861834907526e-10,
          2.1443561530255257e-10,
          1.4215636016114768e-10,
          9.420553322865002e-11,
          6.240950330123711e-11,
          4.1334436971216315e-11,
          2.7370482044481833e-11,
          1.8121054875561368e-11,
          1.1995986611986206e-11,
          7.940725351382003e-12,
          5.256246388562376e-12,
          3.4793781076430303e-12,
          2.3033310536616376e-12
         ],
         "yaxis": "y"
        }
       ],
       "layout": {
        "annotations": [
         {
          "showarrow": false,
          "text": "observed_test_stat (0.6125)",
          "x": 0.6125,
          "xanchor": "left",
          "xref": "x",
          "y": 1,
          "yanchor": "top",
          "yref": "y domain"
         }
        ],
        "legend": {
         "tracegroupgap": 0
        },
        "shapes": [
         {
          "line": {
           "color": "black",
           "dash": "dash"
          },
          "type": "line",
          "x0": 0.6125,
          "x1": 0.6125,
          "xref": "x",
          "y0": 0,
          "y1": 1,
          "yref": "y domain"
         }
        ],
        "template": {
         "data": {
          "bar": [
           {
            "error_x": {
             "color": "#2a3f5f"
            },
            "error_y": {
             "color": "#2a3f5f"
            },
            "marker": {
             "line": {
              "color": "#E5ECF6",
              "width": 0.5
             },
             "pattern": {
              "fillmode": "overlay",
              "size": 10,
              "solidity": 0.2
             }
            },
            "type": "bar"
           }
          ],
          "barpolar": [
           {
            "marker": {
             "line": {
              "color": "#E5ECF6",
              "width": 0.5
             },
             "pattern": {
              "fillmode": "overlay",
              "size": 10,
              "solidity": 0.2
             }
            },
            "type": "barpolar"
           }
          ],
          "carpet": [
           {
            "aaxis": {
             "endlinecolor": "#2a3f5f",
             "gridcolor": "white",
             "linecolor": "white",
             "minorgridcolor": "white",
             "startlinecolor": "#2a3f5f"
            },
            "baxis": {
             "endlinecolor": "#2a3f5f",
             "gridcolor": "white",
             "linecolor": "white",
             "minorgridcolor": "white",
             "startlinecolor": "#2a3f5f"
            },
            "type": "carpet"
           }
          ],
          "choropleth": [
           {
            "colorbar": {
             "outlinewidth": 0,
             "ticks": ""
            },
            "type": "choropleth"
           }
          ],
          "contour": [
           {
            "colorbar": {
             "outlinewidth": 0,
             "ticks": ""
            },
            "colorscale": [
             [
              0,
              "#0d0887"
             ],
             [
              0.1111111111111111,
              "#46039f"
             ],
             [
              0.2222222222222222,
              "#7201a8"
             ],
             [
              0.3333333333333333,
              "#9c179e"
             ],
             [
              0.4444444444444444,
              "#bd3786"
             ],
             [
              0.5555555555555556,
              "#d8576b"
             ],
             [
              0.6666666666666666,
              "#ed7953"
             ],
             [
              0.7777777777777778,
              "#fb9f3a"
             ],
             [
              0.8888888888888888,
              "#fdca26"
             ],
             [
              1,
              "#f0f921"
             ]
            ],
            "type": "contour"
           }
          ],
          "contourcarpet": [
           {
            "colorbar": {
             "outlinewidth": 0,
             "ticks": ""
            },
            "type": "contourcarpet"
           }
          ],
          "heatmap": [
           {
            "colorbar": {
             "outlinewidth": 0,
             "ticks": ""
            },
            "colorscale": [
             [
              0,
              "#0d0887"
             ],
             [
              0.1111111111111111,
              "#46039f"
             ],
             [
              0.2222222222222222,
              "#7201a8"
             ],
             [
              0.3333333333333333,
              "#9c179e"
             ],
             [
              0.4444444444444444,
              "#bd3786"
             ],
             [
              0.5555555555555556,
              "#d8576b"
             ],
             [
              0.6666666666666666,
              "#ed7953"
             ],
             [
              0.7777777777777778,
              "#fb9f3a"
             ],
             [
              0.8888888888888888,
              "#fdca26"
             ],
             [
              1,
              "#f0f921"
             ]
            ],
            "type": "heatmap"
           }
          ],
          "heatmapgl": [
           {
            "colorbar": {
             "outlinewidth": 0,
             "ticks": ""
            },
            "colorscale": [
             [
              0,
              "#0d0887"
             ],
             [
              0.1111111111111111,
              "#46039f"
             ],
             [
              0.2222222222222222,
              "#7201a8"
             ],
             [
              0.3333333333333333,
              "#9c179e"
             ],
             [
              0.4444444444444444,
              "#bd3786"
             ],
             [
              0.5555555555555556,
              "#d8576b"
             ],
             [
              0.6666666666666666,
              "#ed7953"
             ],
             [
              0.7777777777777778,
              "#fb9f3a"
             ],
             [
              0.8888888888888888,
              "#fdca26"
             ],
             [
              1,
              "#f0f921"
             ]
            ],
            "type": "heatmapgl"
           }
          ],
          "histogram": [
           {
            "marker": {
             "pattern": {
              "fillmode": "overlay",
              "size": 10,
              "solidity": 0.2
             }
            },
            "type": "histogram"
           }
          ],
          "histogram2d": [
           {
            "colorbar": {
             "outlinewidth": 0,
             "ticks": ""
            },
            "colorscale": [
             [
              0,
              "#0d0887"
             ],
             [
              0.1111111111111111,
              "#46039f"
             ],
             [
              0.2222222222222222,
              "#7201a8"
             ],
             [
              0.3333333333333333,
              "#9c179e"
             ],
             [
              0.4444444444444444,
              "#bd3786"
             ],
             [
              0.5555555555555556,
              "#d8576b"
             ],
             [
              0.6666666666666666,
              "#ed7953"
             ],
             [
              0.7777777777777778,
              "#fb9f3a"
             ],
             [
              0.8888888888888888,
              "#fdca26"
             ],
             [
              1,
              "#f0f921"
             ]
            ],
            "type": "histogram2d"
           }
          ],
          "histogram2dcontour": [
           {
            "colorbar": {
             "outlinewidth": 0,
             "ticks": ""
            },
            "colorscale": [
             [
              0,
              "#0d0887"
             ],
             [
              0.1111111111111111,
              "#46039f"
             ],
             [
              0.2222222222222222,
              "#7201a8"
             ],
             [
              0.3333333333333333,
              "#9c179e"
             ],
             [
              0.4444444444444444,
              "#bd3786"
             ],
             [
              0.5555555555555556,
              "#d8576b"
             ],
             [
              0.6666666666666666,
              "#ed7953"
             ],
             [
              0.7777777777777778,
              "#fb9f3a"
             ],
             [
              0.8888888888888888,
              "#fdca26"
             ],
             [
              1,
              "#f0f921"
             ]
            ],
            "type": "histogram2dcontour"
           }
          ],
          "mesh3d": [
           {
            "colorbar": {
             "outlinewidth": 0,
             "ticks": ""
            },
            "type": "mesh3d"
           }
          ],
          "parcoords": [
           {
            "line": {
             "colorbar": {
              "outlinewidth": 0,
              "ticks": ""
             }
            },
            "type": "parcoords"
           }
          ],
          "pie": [
           {
            "automargin": true,
            "type": "pie"
           }
          ],
          "scatter": [
           {
            "fillpattern": {
             "fillmode": "overlay",
             "size": 10,
             "solidity": 0.2
            },
            "type": "scatter"
           }
          ],
          "scatter3d": [
           {
            "line": {
             "colorbar": {
              "outlinewidth": 0,
              "ticks": ""
             }
            },
            "marker": {
             "colorbar": {
              "outlinewidth": 0,
              "ticks": ""
             }
            },
            "type": "scatter3d"
           }
          ],
          "scattercarpet": [
           {
            "marker": {
             "colorbar": {
              "outlinewidth": 0,
              "ticks": ""
             }
            },
            "type": "scattercarpet"
           }
          ],
          "scattergeo": [
           {
            "marker": {
             "colorbar": {
              "outlinewidth": 0,
              "ticks": ""
             }
            },
            "type": "scattergeo"
           }
          ],
          "scattergl": [
           {
            "marker": {
             "colorbar": {
              "outlinewidth": 0,
              "ticks": ""
             }
            },
            "type": "scattergl"
           }
          ],
          "scattermapbox": [
           {
            "marker": {
             "colorbar": {
              "outlinewidth": 0,
              "ticks": ""
             }
            },
            "type": "scattermapbox"
           }
          ],
          "scatterpolar": [
           {
            "marker": {
             "colorbar": {
              "outlinewidth": 0,
              "ticks": ""
             }
            },
            "type": "scatterpolar"
           }
          ],
          "scatterpolargl": [
           {
            "marker": {
             "colorbar": {
              "outlinewidth": 0,
              "ticks": ""
             }
            },
            "type": "scatterpolargl"
           }
          ],
          "scatterternary": [
           {
            "marker": {
             "colorbar": {
              "outlinewidth": 0,
              "ticks": ""
             }
            },
            "type": "scatterternary"
           }
          ],
          "surface": [
           {
            "colorbar": {
             "outlinewidth": 0,
             "ticks": ""
            },
            "colorscale": [
             [
              0,
              "#0d0887"
             ],
             [
              0.1111111111111111,
              "#46039f"
             ],
             [
              0.2222222222222222,
              "#7201a8"
             ],
             [
              0.3333333333333333,
              "#9c179e"
             ],
             [
              0.4444444444444444,
              "#bd3786"
             ],
             [
              0.5555555555555556,
              "#d8576b"
             ],
             [
              0.6666666666666666,
              "#ed7953"
             ],
             [
              0.7777777777777778,
              "#fb9f3a"
             ],
             [
              0.8888888888888888,
              "#fdca26"
             ],
             [
              1,
              "#f0f921"
             ]
            ],
            "type": "surface"
           }
          ],
          "table": [
           {
            "cells": {
             "fill": {
              "color": "#EBF0F8"
             },
             "line": {
              "color": "white"
             }
            },
            "header": {
             "fill": {
              "color": "#C8D4E3"
             },
             "line": {
              "color": "white"
             }
            },
            "type": "table"
           }
          ]
         },
         "layout": {
          "annotationdefaults": {
           "arrowcolor": "#2a3f5f",
           "arrowhead": 0,
           "arrowwidth": 1
          },
          "autotypenumbers": "strict",
          "coloraxis": {
           "colorbar": {
            "outlinewidth": 0,
            "ticks": ""
           }
          },
          "colorscale": {
           "diverging": [
            [
             0,
             "#8e0152"
            ],
            [
             0.1,
             "#c51b7d"
            ],
            [
             0.2,
             "#de77ae"
            ],
            [
             0.3,
             "#f1b6da"
            ],
            [
             0.4,
             "#fde0ef"
            ],
            [
             0.5,
             "#f7f7f7"
            ],
            [
             0.6,
             "#e6f5d0"
            ],
            [
             0.7,
             "#b8e186"
            ],
            [
             0.8,
             "#7fbc41"
            ],
            [
             0.9,
             "#4d9221"
            ],
            [
             1,
             "#276419"
            ]
           ],
           "sequential": [
            [
             0,
             "#0d0887"
            ],
            [
             0.1111111111111111,
             "#46039f"
            ],
            [
             0.2222222222222222,
             "#7201a8"
            ],
            [
             0.3333333333333333,
             "#9c179e"
            ],
            [
             0.4444444444444444,
             "#bd3786"
            ],
            [
             0.5555555555555556,
             "#d8576b"
            ],
            [
             0.6666666666666666,
             "#ed7953"
            ],
            [
             0.7777777777777778,
             "#fb9f3a"
            ],
            [
             0.8888888888888888,
             "#fdca26"
            ],
            [
             1,
             "#f0f921"
            ]
           ],
           "sequentialminus": [
            [
             0,
             "#0d0887"
            ],
            [
             0.1111111111111111,
             "#46039f"
            ],
            [
             0.2222222222222222,
             "#7201a8"
            ],
            [
             0.3333333333333333,
             "#9c179e"
            ],
            [
             0.4444444444444444,
             "#bd3786"
            ],
            [
             0.5555555555555556,
             "#d8576b"
            ],
            [
             0.6666666666666666,
             "#ed7953"
            ],
            [
             0.7777777777777778,
             "#fb9f3a"
            ],
            [
             0.8888888888888888,
             "#fdca26"
            ],
            [
             1,
             "#f0f921"
            ]
           ]
          },
          "colorway": [
           "#636efa",
           "#EF553B",
           "#00cc96",
           "#ab63fa",
           "#FFA15A",
           "#19d3f3",
           "#FF6692",
           "#B6E880",
           "#FF97FF",
           "#FECB52"
          ],
          "font": {
           "color": "#2a3f5f"
          },
          "geo": {
           "bgcolor": "white",
           "lakecolor": "white",
           "landcolor": "#E5ECF6",
           "showlakes": true,
           "showland": true,
           "subunitcolor": "white"
          },
          "hoverlabel": {
           "align": "left"
          },
          "hovermode": "closest",
          "mapbox": {
           "style": "light"
          },
          "paper_bgcolor": "white",
          "plot_bgcolor": "#E5ECF6",
          "polar": {
           "angularaxis": {
            "gridcolor": "white",
            "linecolor": "white",
            "ticks": ""
           },
           "bgcolor": "#E5ECF6",
           "radialaxis": {
            "gridcolor": "white",
            "linecolor": "white",
            "ticks": ""
           }
          },
          "scene": {
           "xaxis": {
            "backgroundcolor": "#E5ECF6",
            "gridcolor": "white",
            "gridwidth": 2,
            "linecolor": "white",
            "showbackground": true,
            "ticks": "",
            "zerolinecolor": "white"
           },
           "yaxis": {
            "backgroundcolor": "#E5ECF6",
            "gridcolor": "white",
            "gridwidth": 2,
            "linecolor": "white",
            "showbackground": true,
            "ticks": "",
            "zerolinecolor": "white"
           },
           "zaxis": {
            "backgroundcolor": "#E5ECF6",
            "gridcolor": "white",
            "gridwidth": 2,
            "linecolor": "white",
            "showbackground": true,
            "ticks": "",
            "zerolinecolor": "white"
           }
          },
          "shapedefaults": {
           "line": {
            "color": "#2a3f5f"
           }
          },
          "ternary": {
           "aaxis": {
            "gridcolor": "white",
            "linecolor": "white",
            "ticks": ""
           },
           "baxis": {
            "gridcolor": "white",
            "linecolor": "white",
            "ticks": ""
           },
           "bgcolor": "#E5ECF6",
           "caxis": {
            "gridcolor": "white",
            "linecolor": "white",
            "ticks": ""
           }
          },
          "title": {
           "x": 0.05
          },
          "xaxis": {
           "automargin": true,
           "gridcolor": "white",
           "linecolor": "white",
           "ticks": "",
           "title": {
            "standoff": 15
           },
           "zerolinecolor": "white",
           "zerolinewidth": 2
          },
          "yaxis": {
           "automargin": true,
           "gridcolor": "white",
           "linecolor": "white",
           "ticks": "",
           "title": {
            "standoff": 15
           },
           "zerolinecolor": "white",
           "zerolinewidth": 2
          }
         }
        },
        "title": {
         "text": "A Continuous Approximation to the Theoretical (Binomial) Sampling Distribution (under H0) above"
        },
        "xaxis": {
         "anchor": "y",
         "domain": [
          0,
          1
         ],
         "title": {
          "text": "x"
         }
        },
        "yaxis": {
         "anchor": "x",
         "domain": [
          0,
          1
         ],
         "title": {
          "text": "density"
         }
        }
       }
      }
     },
     "metadata": {},
     "output_type": "display_data"
    }
   ],
   "source": [
    "x = np.linspace(0,1,200)\n",
    "observed_sample = np.array([0]*31+[1]*49)\n",
    "n = len(observed_sample)\n",
    "dens = stats.t(loc=0.5, df=n-1, \n",
    "               scale=np.std(observed_sample, ddof=1)/n**0.5)\n",
    "# Another possible approximation could be based on `dens=stats.norm(loc=40, scale=0.5*80**0.5).pdf(x)`\n",
    "fig = px.line(pd.DataFrame({'x':x, 'density':dens.pdf(x)}), x='x', y='density',\n",
    "             title='A Continuous Approximation to the Theoretical (Binomial) Sampling Distribution (under H0) above')\n",
    "fig.add_vline(x=observed_test_stat, line_dash=\"dash\", line_color=\"black\",\n",
    "              annotation_text=\"observed_test_stat (0.6125)\")"
   ]
  },
  {
   "attachments": {},
   "cell_type": "markdown",
   "id": "310e14c4",
   "metadata": {
    "deletable": false
   },
   "source": [
    "The Binomial sampling distrubition of $\\hat p$ given above is theoretically derived (and indeed exactly correct) based on only\\* assuming \n",
    "\n",
    "$$H_0: p=0.5 \\text{ (Random Guessing on $n=80$ attempts)}$$\n",
    "\n",
    "> \\**and, actually, that the guessed answers are independent of each other; so, answers don't change based on previous answers or affect future answers...*\n",
    "\n",
    "Thus, while this entails an assumption of the parameter $p=0.5$, there is actually no distributional assumptions made about the data itself (except the independence assumption, noted above). Because there are no distributional assumptions made about the data, a p-value calculated based on the theoretical binomial distribution is a (theoretical) \"non-parametric\" p-value (even despite assumption on the parameter $p=0.5$).  \n",
    "\n",
    "The continuous approximation to the theoretical Binomial sampling distribution (under H₀) given above actually does entail an assumption about the distribution of the data; namely, that each individual observation is an independent sample from *the same normally distributed population*. The \"less accurate\" this assumption is, the worse the approximation will be.  Regardless, based on this assumption, the calculations used above are executed and produce the continuous approximation seen above.  And since there are indeed distributional assumptions made about the data in this case, a p-value calculated based on the continuous approximation of the theoretical binomial distribution is a (approximate, theoretical) \"parametric\" p-value.  Of course, if the assumption that each data point was an independent sample from the same normally distributed population were true, then this wouldn't be an approximate p-value at all: it would be a theoretical parameteric p-value. \n",
    "\n",
    "The theoretical nature of the two approaches distinguish them from the simulation-based p-value initially calculated using the dot plot. That p-value was a simulation (sampling) based approximation of the true (theoretical Binomial) sampling distribution, so it is a (simulated approximate) \"non-parametric\" p-value.  Thus, we've seen the following: the binomial distribution based p-value is a theoretically exact non-parametric p-value, for which we have a (theoretical) parametric and simulation based approximations."
   ]
  },
  {
   "attachments": {},
   "cell_type": "markdown",
   "id": "6b01d76a",
   "metadata": {
    "deletable": false
   },
   "source": [
    "### Q10: Based on the p-values below, does the normality assumption of the t-test appear reasonable?\n"
   ]
  },
  {
   "attachments": {},
   "cell_type": "markdown",
   "id": "f85a6449",
   "metadata": {
    "deletable": false
   },
   "source": [
    "> Answer here...\n",
    "\n"
   ]
  },
  {
   "cell_type": "code",
   "execution_count": 18,
   "id": "6c386236",
   "metadata": {
    "deletable": false
   },
   "outputs": [
    {
     "data": {
      "text/plain": [
       "0.05666442634512103"
      ]
     },
     "execution_count": 18,
     "metadata": {},
     "output_type": "execute_result"
    }
   ],
   "source": [
    "# Theoretically Exact (Binomial) Sampling Distribution \"two sided\" p-value\n",
    "(1-stats.binom(n=80, p=0.5).cdf(49-1))*2\n",
    "# This calculates \"as or more extreme\" as the sum of all the probabilities (bin heights) that are located at \n",
    "# 49/80, 50/80, 51/80, ..., up to 80/80 (and then multiplies this sum by two since this distribution is symmetric)"
   ]
  },
  {
   "cell_type": "code",
   "execution_count": 19,
   "id": "f6a36393",
   "metadata": {
    "deletable": false
   },
   "outputs": [
    {
     "data": {
      "text/plain": [
       "0.043435270855124886"
      ]
     },
     "execution_count": 19,
     "metadata": {},
     "output_type": "execute_result"
    }
   ],
   "source": [
    "# Area under the curve from 49/80 to 80/80 for the\n",
    "# continuous approximation to the binomial distirbution\n",
    "(1-dens.cdf(49/80))*2\n",
    "# This calculates \"as or more extreme as\" the area under the curve \n",
    "# from 49/80 to 80/80 (and multiply this sum by two since this distribution is symmetric)"
   ]
  },
  {
   "cell_type": "code",
   "execution_count": 20,
   "id": "3279e2f4",
   "metadata": {
    "deletable": false
   },
   "outputs": [
    {
     "data": {
      "text/plain": [
       "TtestResult(statistic=2.0524716550217077, pvalue=0.04343527085512493, df=79)"
      ]
     },
     "execution_count": 20,
     "metadata": {},
     "output_type": "execute_result"
    }
   ],
   "source": [
    "# which is what the t-test computes on the basis of the \n",
    "# continuous approximation to the binomial distirbution\n",
    "stats.ttest_1samp(observed_sample, .5) "
   ]
  },
  {
   "cell_type": "code",
   "execution_count": 21,
   "id": "cd059dc3",
   "metadata": {
    "deletable": false
   },
   "outputs": [
    {
     "data": {
      "text/plain": [
       "0.05614082274072851"
      ]
     },
     "execution_count": 21,
     "metadata": {},
     "output_type": "execute_result"
    }
   ],
   "source": [
    "# though we might alternatively consider the following \"continuity correction\" \n",
    "# that's more analagous to the way `49-1` is used for the theoretical p-value\n",
    "(1-dens.cdf((49-0.5)/80))*2"
   ]
  },
  {
   "cell_type": "code",
   "execution_count": 7,
   "id": "191e5058",
   "metadata": {},
   "outputs": [],
   "source": [
    "hint = \"\\n\\nAUTOMATICALLY FAILING AUTOTEST: DOES NOT COUNT AGAINST STUDENT\"\n",
    "hint += \"\\nIncluded as an example answer for feedback purposes only\\n\"\n",
    "hint += \"\\nThe parametric p-values calculated for the 49/80 test statistic are similar to our non-parametric p-value for \"\n",
    "hint += \"the two-sided simulation based hypothesis test, so normality assumption of the t-test appears reasonable. That is, since \"\n",
    "hint += \"our simulated sampling distribution has a similar probability of seeing a test statistic as or more extreme than 49/80 \"\n",
    "hint += \"compared to the probability theoretically calculated from a normally distributed population, it is plausible that our \" \n",
    "hint += \"simulation distribution above was sampled from a normally distributed population(although we don't make this assumption)\"\n"
   ]
  },
  {
   "cell_type": "code",
   "execution_count": 8,
   "id": "0bcf9f7f",
   "metadata": {},
   "outputs": [
    {
     "ename": "AssertionError",
     "evalue": "\n\nAUTOMATICALLY FAILING AUTOTEST: DOES NOT COUNT AGAINST STUDENT\nIncluded as an example answer for feedback purposes only\n\nThese parametric p-values calculated for the 49/80 test statistic are quite similar to our non-parametric p-value for the two-sided simulation based hypothesis test, so normality assumption of the t-test appears reasonable. That is, since our simulated sampling distribution has a similar probability of seeing a test statistic as or more extreme than 49/80 compared to the probability theoretically calculated from a normally distributed population, it is plausible that our simulation distribution above was sampled from a normally distributed population(although we don't make this assumption)",
     "output_type": "error",
     "traceback": [
      "\u001b[1;31m---------------------------------------------------------------------------\u001b[0m",
      "\u001b[1;31mAssertionError\u001b[0m                            Traceback (most recent call last)",
      "Cell \u001b[1;32mIn[8], line 2\u001b[0m\n\u001b[0;32m      1\u001b[0m \u001b[39m# test_Q10\u001b[39;00m\n\u001b[1;32m----> 2\u001b[0m \u001b[39massert\u001b[39;00m \u001b[39mFalse\u001b[39;00m, hint\n",
      "\u001b[1;31mAssertionError\u001b[0m: \n\nAUTOMATICALLY FAILING AUTOTEST: DOES NOT COUNT AGAINST STUDENT\nIncluded as an example answer for feedback purposes only\n\nThese parametric p-values calculated for the 49/80 test statistic are quite similar to our non-parametric p-value for the two-sided simulation based hypothesis test, so normality assumption of the t-test appears reasonable. That is, since our simulated sampling distribution has a similar probability of seeing a test statistic as or more extreme than 49/80 compared to the probability theoretically calculated from a normally distributed population, it is plausible that our simulation distribution above was sampled from a normally distributed population(although we don't make this assumption)"
     ]
    }
   ],
   "source": [
    "# test_Q10\n",
    "assert False, hint"
   ]
  },
  {
   "attachments": {},
   "cell_type": "markdown",
   "id": "b7e593fe",
   "metadata": {
    "deletable": false
   },
   "source": [
    "### Q11: How would you make your simulated p-value more accurate to the true theoretical p-value given by the binomial distribution and what is the downside of doing so? \n",
    "\n",
    "> - Hint: The simulated sampling distribution examined in `Q3` and `Q4` is a simulation of the true theoretical binomial distribution in `Q8`.  This simulated sampling distribution would \"converge\" to the true theoretical binomial distribution if we kept running the simulation and adding simulated test statistics to the dot plot. The approximation in `Q10` is not quite right because it has continuous rather than discrete values; so, e.g., it could produce a proportion correct of 48.5/80 (which is not actually possible in the real experiment); but, the continuous approximation is still a pretty good approximation as judged by the similarity in the p-value calculation and the general shape of these two distributions (with the main difference of course just being that one is continuous and other other is descrete). "
   ]
  },
  {
   "attachments": {},
   "cell_type": "markdown",
   "id": "86e7b228",
   "metadata": {
    "deletable": false
   },
   "source": [
    "> Answer here...\n",
    "\n"
   ]
  },
  {
   "cell_type": "code",
   "execution_count": 5,
   "id": "92ff26a4",
   "metadata": {},
   "outputs": [],
   "source": [
    "hint = \"\\n\\nAUTOMATICALLY FAILING AUTOTEST: DOES NOT COUNT AGAINST STUDENT\"\n",
    "hint += \"\\nIncluded as an example answer for feedback purposes only\\n\"\n",
    "hint += \"\\nUsing a simulated sampling distribution based on more simulated test statistics would be more similar \"\n",
    "hint += \"and hence more accurate to the true theoretical binomial distribution; but, it would also take longer to run! \"\n",
    "hint += \"There\\'s also likely to be a point of diminishing returns where smaller and smaller increases improvement require \"\n",
    "hint += \"more and more simulated test statistics to the point where it doesn\\'t really make sense to keep going. \"\n",
    "hint += \"There\\'s probably some sort of tradeoff between the accuracy of the simulated p-value to the true theoretical \"\n",
    "hint += \"binomial distribution and the amount of time it takes to produce the samples to achieve that accuracy.\""
   ]
  },
  {
   "cell_type": "code",
   "execution_count": 6,
   "id": "ae2512e0",
   "metadata": {},
   "outputs": [
    {
     "ename": "AssertionError",
     "evalue": "\n\nAUTOMATICALLY FAILING AUTOTEST: DOES NOT COUNT AGAINST STUDENT\nIncluded as an example answer for feedback purposes only\n\nUsing a simulated sampling distribution based on more simulated test statistics would be more similar and hence more accurate to the true theoretical binomial distribution; but, it would also take longer to run! There's also likely to be a point of diminishing returns where smaller and smaller increases improvement require more and more simulated test statistics to the point where it doesn't really make sense to keep going. There's probably some sort of tradeoff between the accuracy of the simulated p-value to the true theoretical binomial distribution and the amount of time it takes to produce the samples to achieve that accuracy.",
     "output_type": "error",
     "traceback": [
      "\u001b[1;31m---------------------------------------------------------------------------\u001b[0m",
      "\u001b[1;31mAssertionError\u001b[0m                            Traceback (most recent call last)",
      "Cell \u001b[1;32mIn[6], line 2\u001b[0m\n\u001b[0;32m      1\u001b[0m \u001b[39m# test_Q11\u001b[39;00m\n\u001b[1;32m----> 2\u001b[0m \u001b[39massert\u001b[39;00m \u001b[39mFalse\u001b[39;00m, hint\n",
      "\u001b[1;31mAssertionError\u001b[0m: \n\nAUTOMATICALLY FAILING AUTOTEST: DOES NOT COUNT AGAINST STUDENT\nIncluded as an example answer for feedback purposes only\n\nUsing a simulated sampling distribution based on more simulated test statistics would be more similar and hence more accurate to the true theoretical binomial distribution; but, it would also take longer to run! There's also likely to be a point of diminishing returns where smaller and smaller increases improvement require more and more simulated test statistics to the point where it doesn't really make sense to keep going. There's probably some sort of tradeoff between the accuracy of the simulated p-value to the true theoretical binomial distribution and the amount of time it takes to produce the samples to achieve that accuracy."
     ]
    }
   ],
   "source": [
    "# test_Q11\n",
    "assert False, hint"
   ]
  },
  {
   "attachments": {},
   "cell_type": "markdown",
   "id": "3d6cea6a",
   "metadata": {
    "deletable": false
   },
   "source": [
    "### Q12: Comment on the appropriateness of the normality assumption of the t-test again based on the figures below.\n"
   ]
  },
  {
   "attachments": {},
   "cell_type": "markdown",
   "id": "861678b4",
   "metadata": {
    "deletable": false
   },
   "source": [
    "> Answer here...\n"
   ]
  },
  {
   "cell_type": "code",
   "execution_count": 11,
   "id": "57305d6b",
   "metadata": {},
   "outputs": [],
   "source": [
    "hint = \"\\n\\nAUTOMATICALLY FAILING AUTOTEST: DOES NOT COUNT AGAINST STUDENT\"\n",
    "hint += \"\\nIncluded as an example answer for feedback purposes only\\n\"\n",
    "hint += \"\\nThe normality assumption is clearly incorrect, as the 0/1 guessing distribution does not have the shape \"\n",
    "hint += \"of a normal distribution and it\\'s not even continuous as it is instead discrete; so, the t-test analysis \"\n",
    "hint += \"does not seem like it would be appropriate. Nonetheless, the t-test p-value is not tremendously numerically \"\n",
    "hint += \"different than the theoretically correct p-value of the binomial distribution analyses.  That said, without the \"\n",
    "hint += \"\\'continuity adjustment\\' correction the t-test is a bit smaller than the theoretically correct p-value, seemingly\"\n",
    "hint += \"as a result of the increased \\\"power\\\" of the test due to its additional \\\"incorrect\\\" distributional assumptions, \"\n",
    "hint += \"and the slightly smaller t-test p-value would have a different \\\"strength of evidence\\\" interpretation... \"\n",
    "hint += \"Pragmatically speaking, even though the normality assumption is not really correct, you can see that the overlay\"\n",
    "hint += \"of the normal approximation on top of the 0/1 guessing distribution is kind of reasonable as a rough approximation \"\n",
    "hint += \"and, so, this is probably why the p-value from the t-test is in fact not so terribly far off from the theoretically \"\n",
    "hint += \"correct p-value of the binomial distribution analyses (especially when the \\'continuity correction\\' adjustment is made).\""
   ]
  },
  {
   "cell_type": "code",
   "execution_count": 12,
   "id": "9f63442c",
   "metadata": {},
   "outputs": [
    {
     "ename": "AssertionError",
     "evalue": "\n\nAUTOMATICALLY FAILING AUTOTEST: DOES NOT COUNT AGAINST STUDENT\nIncluded as an example answer for feedback purposes only\n\nThe normality assumption is clearly incorrect, as the 0/1 guessing distribution does not have the shape of a normal distribution and it's not even continuous as it is instead discrete; so, the t-test analysis does not seem like it would be appropriate. Nonetheless, the t-test p-value is not tremendously numerically different than the theoretically correct p-value of the binomial distribution analyses.  That said, without the 'continuity adjustment' correction the t-test is a bit smaller than the theoretically correct p-value, seeminglyas a result of the increased \"power\" of the test due to its additional \"incorrect\" distributional assumptions, and the slightly smaller t-test p-value would have a different \"strength of evidence\" interpretation... Pragmatically speaking, even though the normality assumption is not really correct, you can see that the overlayof the normal approximation on top of the 0/1 guessing distribution is kind of reasonable as a rough approximation and, so, this is probably why the p-value from the t-test is in fact not so terribly far off from the theoretically correct p-value of the binomial distribution analyses (especially when the 'continuity correction' adjustment is made).",
     "output_type": "error",
     "traceback": [
      "\u001b[1;31m---------------------------------------------------------------------------\u001b[0m",
      "\u001b[1;31mAssertionError\u001b[0m                            Traceback (most recent call last)",
      "Cell \u001b[1;32mIn[12], line 2\u001b[0m\n\u001b[0;32m      1\u001b[0m \u001b[39m# test_Q12\u001b[39;00m\n\u001b[1;32m----> 2\u001b[0m \u001b[39massert\u001b[39;00m \u001b[39mFalse\u001b[39;00m, hint\n",
      "\u001b[1;31mAssertionError\u001b[0m: \n\nAUTOMATICALLY FAILING AUTOTEST: DOES NOT COUNT AGAINST STUDENT\nIncluded as an example answer for feedback purposes only\n\nThe normality assumption is clearly incorrect, as the 0/1 guessing distribution does not have the shape of a normal distribution and it's not even continuous as it is instead discrete; so, the t-test analysis does not seem like it would be appropriate. Nonetheless, the t-test p-value is not tremendously numerically different than the theoretically correct p-value of the binomial distribution analyses.  That said, without the 'continuity adjustment' correction the t-test is a bit smaller than the theoretically correct p-value, seeminglyas a result of the increased \"power\" of the test due to its additional \"incorrect\" distributional assumptions, and the slightly smaller t-test p-value would have a different \"strength of evidence\" interpretation... Pragmatically speaking, even though the normality assumption is not really correct, you can see that the overlayof the normal approximation on top of the 0/1 guessing distribution is kind of reasonable as a rough approximation and, so, this is probably why the p-value from the t-test is in fact not so terribly far off from the theoretically correct p-value of the binomial distribution analyses (especially when the 'continuity correction' adjustment is made)."
     ]
    }
   ],
   "source": [
    "# test_Q12\n",
    "assert False, hint"
   ]
  },
  {
   "cell_type": "code",
   "execution_count": null,
   "id": "ff8a1961",
   "metadata": {
    "deletable": false
   },
   "outputs": [
    {
     "data": {
      "text/plain": [
       "array([0, 0, 0, 0, 0, 0, 0, 0, 0, 0, 0, 0, 0, 0, 0, 0, 0, 0, 0, 0, 0, 0,\n",
       "       0, 0, 0, 0, 0, 0, 0, 0, 0, 1, 1, 1, 1, 1, 1, 1, 1, 1, 1, 1, 1, 1,\n",
       "       1, 1, 1, 1, 1, 1, 1, 1, 1, 1, 1, 1, 1, 1, 1, 1, 1, 1, 1, 1, 1, 1,\n",
       "       1, 1, 1, 1, 1, 1, 1, 1, 1, 1, 1, 1, 1, 1])"
      ]
     },
     "execution_count": 69,
     "metadata": {},
     "output_type": "execute_result"
    }
   ],
   "source": [
    "observed_sample = np.array([0]*31+[1]*49)\n",
    "observed_sample"
   ]
  },
  {
   "cell_type": "code",
   "execution_count": null,
   "id": "3b868aa0",
   "metadata": {
    "deletable": false
   },
   "outputs": [
    {
     "data": {
      "application/vnd.plotly.v1+json": {
       "config": {
        "plotlyServerURL": "https://plot.ly"
       },
       "data": [
        {
         "alignmentgroup": "True",
         "hovertemplate": "x=%{x}<br>probability=%{y}<extra></extra>",
         "legendgroup": "",
         "marker": {
          "color": "#636efa",
          "pattern": {
           "shape": ""
          }
         },
         "name": "",
         "offsetgroup": "",
         "orientation": "v",
         "showlegend": false,
         "textposition": "auto",
         "type": "bar",
         "x": [
          0,
          1
         ],
         "xaxis": "x",
         "y": [
          0.5,
          0.5
         ],
         "yaxis": "y"
        }
       ],
       "layout": {
        "barmode": "relative",
        "legend": {
         "tracegroupgap": 0
        },
        "template": {
         "data": {
          "bar": [
           {
            "error_x": {
             "color": "#2a3f5f"
            },
            "error_y": {
             "color": "#2a3f5f"
            },
            "marker": {
             "line": {
              "color": "#E5ECF6",
              "width": 0.5
             },
             "pattern": {
              "fillmode": "overlay",
              "size": 10,
              "solidity": 0.2
             }
            },
            "type": "bar"
           }
          ],
          "barpolar": [
           {
            "marker": {
             "line": {
              "color": "#E5ECF6",
              "width": 0.5
             },
             "pattern": {
              "fillmode": "overlay",
              "size": 10,
              "solidity": 0.2
             }
            },
            "type": "barpolar"
           }
          ],
          "carpet": [
           {
            "aaxis": {
             "endlinecolor": "#2a3f5f",
             "gridcolor": "white",
             "linecolor": "white",
             "minorgridcolor": "white",
             "startlinecolor": "#2a3f5f"
            },
            "baxis": {
             "endlinecolor": "#2a3f5f",
             "gridcolor": "white",
             "linecolor": "white",
             "minorgridcolor": "white",
             "startlinecolor": "#2a3f5f"
            },
            "type": "carpet"
           }
          ],
          "choropleth": [
           {
            "colorbar": {
             "outlinewidth": 0,
             "ticks": ""
            },
            "type": "choropleth"
           }
          ],
          "contour": [
           {
            "colorbar": {
             "outlinewidth": 0,
             "ticks": ""
            },
            "colorscale": [
             [
              0,
              "#0d0887"
             ],
             [
              0.1111111111111111,
              "#46039f"
             ],
             [
              0.2222222222222222,
              "#7201a8"
             ],
             [
              0.3333333333333333,
              "#9c179e"
             ],
             [
              0.4444444444444444,
              "#bd3786"
             ],
             [
              0.5555555555555556,
              "#d8576b"
             ],
             [
              0.6666666666666666,
              "#ed7953"
             ],
             [
              0.7777777777777778,
              "#fb9f3a"
             ],
             [
              0.8888888888888888,
              "#fdca26"
             ],
             [
              1,
              "#f0f921"
             ]
            ],
            "type": "contour"
           }
          ],
          "contourcarpet": [
           {
            "colorbar": {
             "outlinewidth": 0,
             "ticks": ""
            },
            "type": "contourcarpet"
           }
          ],
          "heatmap": [
           {
            "colorbar": {
             "outlinewidth": 0,
             "ticks": ""
            },
            "colorscale": [
             [
              0,
              "#0d0887"
             ],
             [
              0.1111111111111111,
              "#46039f"
             ],
             [
              0.2222222222222222,
              "#7201a8"
             ],
             [
              0.3333333333333333,
              "#9c179e"
             ],
             [
              0.4444444444444444,
              "#bd3786"
             ],
             [
              0.5555555555555556,
              "#d8576b"
             ],
             [
              0.6666666666666666,
              "#ed7953"
             ],
             [
              0.7777777777777778,
              "#fb9f3a"
             ],
             [
              0.8888888888888888,
              "#fdca26"
             ],
             [
              1,
              "#f0f921"
             ]
            ],
            "type": "heatmap"
           }
          ],
          "heatmapgl": [
           {
            "colorbar": {
             "outlinewidth": 0,
             "ticks": ""
            },
            "colorscale": [
             [
              0,
              "#0d0887"
             ],
             [
              0.1111111111111111,
              "#46039f"
             ],
             [
              0.2222222222222222,
              "#7201a8"
             ],
             [
              0.3333333333333333,
              "#9c179e"
             ],
             [
              0.4444444444444444,
              "#bd3786"
             ],
             [
              0.5555555555555556,
              "#d8576b"
             ],
             [
              0.6666666666666666,
              "#ed7953"
             ],
             [
              0.7777777777777778,
              "#fb9f3a"
             ],
             [
              0.8888888888888888,
              "#fdca26"
             ],
             [
              1,
              "#f0f921"
             ]
            ],
            "type": "heatmapgl"
           }
          ],
          "histogram": [
           {
            "marker": {
             "pattern": {
              "fillmode": "overlay",
              "size": 10,
              "solidity": 0.2
             }
            },
            "type": "histogram"
           }
          ],
          "histogram2d": [
           {
            "colorbar": {
             "outlinewidth": 0,
             "ticks": ""
            },
            "colorscale": [
             [
              0,
              "#0d0887"
             ],
             [
              0.1111111111111111,
              "#46039f"
             ],
             [
              0.2222222222222222,
              "#7201a8"
             ],
             [
              0.3333333333333333,
              "#9c179e"
             ],
             [
              0.4444444444444444,
              "#bd3786"
             ],
             [
              0.5555555555555556,
              "#d8576b"
             ],
             [
              0.6666666666666666,
              "#ed7953"
             ],
             [
              0.7777777777777778,
              "#fb9f3a"
             ],
             [
              0.8888888888888888,
              "#fdca26"
             ],
             [
              1,
              "#f0f921"
             ]
            ],
            "type": "histogram2d"
           }
          ],
          "histogram2dcontour": [
           {
            "colorbar": {
             "outlinewidth": 0,
             "ticks": ""
            },
            "colorscale": [
             [
              0,
              "#0d0887"
             ],
             [
              0.1111111111111111,
              "#46039f"
             ],
             [
              0.2222222222222222,
              "#7201a8"
             ],
             [
              0.3333333333333333,
              "#9c179e"
             ],
             [
              0.4444444444444444,
              "#bd3786"
             ],
             [
              0.5555555555555556,
              "#d8576b"
             ],
             [
              0.6666666666666666,
              "#ed7953"
             ],
             [
              0.7777777777777778,
              "#fb9f3a"
             ],
             [
              0.8888888888888888,
              "#fdca26"
             ],
             [
              1,
              "#f0f921"
             ]
            ],
            "type": "histogram2dcontour"
           }
          ],
          "mesh3d": [
           {
            "colorbar": {
             "outlinewidth": 0,
             "ticks": ""
            },
            "type": "mesh3d"
           }
          ],
          "parcoords": [
           {
            "line": {
             "colorbar": {
              "outlinewidth": 0,
              "ticks": ""
             }
            },
            "type": "parcoords"
           }
          ],
          "pie": [
           {
            "automargin": true,
            "type": "pie"
           }
          ],
          "scatter": [
           {
            "fillpattern": {
             "fillmode": "overlay",
             "size": 10,
             "solidity": 0.2
            },
            "type": "scatter"
           }
          ],
          "scatter3d": [
           {
            "line": {
             "colorbar": {
              "outlinewidth": 0,
              "ticks": ""
             }
            },
            "marker": {
             "colorbar": {
              "outlinewidth": 0,
              "ticks": ""
             }
            },
            "type": "scatter3d"
           }
          ],
          "scattercarpet": [
           {
            "marker": {
             "colorbar": {
              "outlinewidth": 0,
              "ticks": ""
             }
            },
            "type": "scattercarpet"
           }
          ],
          "scattergeo": [
           {
            "marker": {
             "colorbar": {
              "outlinewidth": 0,
              "ticks": ""
             }
            },
            "type": "scattergeo"
           }
          ],
          "scattergl": [
           {
            "marker": {
             "colorbar": {
              "outlinewidth": 0,
              "ticks": ""
             }
            },
            "type": "scattergl"
           }
          ],
          "scattermapbox": [
           {
            "marker": {
             "colorbar": {
              "outlinewidth": 0,
              "ticks": ""
             }
            },
            "type": "scattermapbox"
           }
          ],
          "scatterpolar": [
           {
            "marker": {
             "colorbar": {
              "outlinewidth": 0,
              "ticks": ""
             }
            },
            "type": "scatterpolar"
           }
          ],
          "scatterpolargl": [
           {
            "marker": {
             "colorbar": {
              "outlinewidth": 0,
              "ticks": ""
             }
            },
            "type": "scatterpolargl"
           }
          ],
          "scatterternary": [
           {
            "marker": {
             "colorbar": {
              "outlinewidth": 0,
              "ticks": ""
             }
            },
            "type": "scatterternary"
           }
          ],
          "surface": [
           {
            "colorbar": {
             "outlinewidth": 0,
             "ticks": ""
            },
            "colorscale": [
             [
              0,
              "#0d0887"
             ],
             [
              0.1111111111111111,
              "#46039f"
             ],
             [
              0.2222222222222222,
              "#7201a8"
             ],
             [
              0.3333333333333333,
              "#9c179e"
             ],
             [
              0.4444444444444444,
              "#bd3786"
             ],
             [
              0.5555555555555556,
              "#d8576b"
             ],
             [
              0.6666666666666666,
              "#ed7953"
             ],
             [
              0.7777777777777778,
              "#fb9f3a"
             ],
             [
              0.8888888888888888,
              "#fdca26"
             ],
             [
              1,
              "#f0f921"
             ]
            ],
            "type": "surface"
           }
          ],
          "table": [
           {
            "cells": {
             "fill": {
              "color": "#EBF0F8"
             },
             "line": {
              "color": "white"
             }
            },
            "header": {
             "fill": {
              "color": "#C8D4E3"
             },
             "line": {
              "color": "white"
             }
            },
            "type": "table"
           }
          ]
         },
         "layout": {
          "annotationdefaults": {
           "arrowcolor": "#2a3f5f",
           "arrowhead": 0,
           "arrowwidth": 1
          },
          "autotypenumbers": "strict",
          "coloraxis": {
           "colorbar": {
            "outlinewidth": 0,
            "ticks": ""
           }
          },
          "colorscale": {
           "diverging": [
            [
             0,
             "#8e0152"
            ],
            [
             0.1,
             "#c51b7d"
            ],
            [
             0.2,
             "#de77ae"
            ],
            [
             0.3,
             "#f1b6da"
            ],
            [
             0.4,
             "#fde0ef"
            ],
            [
             0.5,
             "#f7f7f7"
            ],
            [
             0.6,
             "#e6f5d0"
            ],
            [
             0.7,
             "#b8e186"
            ],
            [
             0.8,
             "#7fbc41"
            ],
            [
             0.9,
             "#4d9221"
            ],
            [
             1,
             "#276419"
            ]
           ],
           "sequential": [
            [
             0,
             "#0d0887"
            ],
            [
             0.1111111111111111,
             "#46039f"
            ],
            [
             0.2222222222222222,
             "#7201a8"
            ],
            [
             0.3333333333333333,
             "#9c179e"
            ],
            [
             0.4444444444444444,
             "#bd3786"
            ],
            [
             0.5555555555555556,
             "#d8576b"
            ],
            [
             0.6666666666666666,
             "#ed7953"
            ],
            [
             0.7777777777777778,
             "#fb9f3a"
            ],
            [
             0.8888888888888888,
             "#fdca26"
            ],
            [
             1,
             "#f0f921"
            ]
           ],
           "sequentialminus": [
            [
             0,
             "#0d0887"
            ],
            [
             0.1111111111111111,
             "#46039f"
            ],
            [
             0.2222222222222222,
             "#7201a8"
            ],
            [
             0.3333333333333333,
             "#9c179e"
            ],
            [
             0.4444444444444444,
             "#bd3786"
            ],
            [
             0.5555555555555556,
             "#d8576b"
            ],
            [
             0.6666666666666666,
             "#ed7953"
            ],
            [
             0.7777777777777778,
             "#fb9f3a"
            ],
            [
             0.8888888888888888,
             "#fdca26"
            ],
            [
             1,
             "#f0f921"
            ]
           ]
          },
          "colorway": [
           "#636efa",
           "#EF553B",
           "#00cc96",
           "#ab63fa",
           "#FFA15A",
           "#19d3f3",
           "#FF6692",
           "#B6E880",
           "#FF97FF",
           "#FECB52"
          ],
          "font": {
           "color": "#2a3f5f"
          },
          "geo": {
           "bgcolor": "white",
           "lakecolor": "white",
           "landcolor": "#E5ECF6",
           "showlakes": true,
           "showland": true,
           "subunitcolor": "white"
          },
          "hoverlabel": {
           "align": "left"
          },
          "hovermode": "closest",
          "mapbox": {
           "style": "light"
          },
          "paper_bgcolor": "white",
          "plot_bgcolor": "#E5ECF6",
          "polar": {
           "angularaxis": {
            "gridcolor": "white",
            "linecolor": "white",
            "ticks": ""
           },
           "bgcolor": "#E5ECF6",
           "radialaxis": {
            "gridcolor": "white",
            "linecolor": "white",
            "ticks": ""
           }
          },
          "scene": {
           "xaxis": {
            "backgroundcolor": "#E5ECF6",
            "gridcolor": "white",
            "gridwidth": 2,
            "linecolor": "white",
            "showbackground": true,
            "ticks": "",
            "zerolinecolor": "white"
           },
           "yaxis": {
            "backgroundcolor": "#E5ECF6",
            "gridcolor": "white",
            "gridwidth": 2,
            "linecolor": "white",
            "showbackground": true,
            "ticks": "",
            "zerolinecolor": "white"
           },
           "zaxis": {
            "backgroundcolor": "#E5ECF6",
            "gridcolor": "white",
            "gridwidth": 2,
            "linecolor": "white",
            "showbackground": true,
            "ticks": "",
            "zerolinecolor": "white"
           }
          },
          "shapedefaults": {
           "line": {
            "color": "#2a3f5f"
           }
          },
          "ternary": {
           "aaxis": {
            "gridcolor": "white",
            "linecolor": "white",
            "ticks": ""
           },
           "baxis": {
            "gridcolor": "white",
            "linecolor": "white",
            "ticks": ""
           },
           "bgcolor": "#E5ECF6",
           "caxis": {
            "gridcolor": "white",
            "linecolor": "white",
            "ticks": ""
           }
          },
          "title": {
           "x": 0.05
          },
          "xaxis": {
           "automargin": true,
           "gridcolor": "white",
           "linecolor": "white",
           "ticks": "",
           "title": {
            "standoff": 15
           },
           "zerolinecolor": "white",
           "zerolinewidth": 2
          },
          "yaxis": {
           "automargin": true,
           "gridcolor": "white",
           "linecolor": "white",
           "ticks": "",
           "title": {
            "standoff": 15
           },
           "zerolinecolor": "white",
           "zerolinewidth": 2
          }
         }
        },
        "title": {
         "text": "Distribution of Wrong/Right (0/1) Under 'H0: Random Guessing'"
        },
        "xaxis": {
         "anchor": "y",
         "domain": [
          0,
          1
         ],
         "title": {
          "text": "x"
         }
        },
        "yaxis": {
         "anchor": "x",
         "domain": [
          0,
          1
         ],
         "title": {
          "text": "probability"
         }
        }
       }
      }
     },
     "metadata": {},
     "output_type": "display_data"
    }
   ],
   "source": [
    "# If the assumption of the null hypothesis that random guessing $p=0.5$ is correct, then \n",
    "# then each of the 80 observed answers above is a sample from the following distribution\n",
    "x=[0,1]; prob=[0.5,0.5]\n",
    "px.bar(pd.DataFrame({'x':x,'probability':prob}), x='x', y='probability',\n",
    "       title=\"Distribution of Wrong/Right (0/1) Under 'H0: Random Guessing'\")"
   ]
  },
  {
   "cell_type": "code",
   "execution_count": null,
   "id": "83949c4c",
   "metadata": {
    "deletable": false
   },
   "outputs": [
    {
     "data": {
      "application/vnd.plotly.v1+json": {
       "config": {
        "plotlyServerURL": "https://plot.ly"
       },
       "data": [
        {
         "alignmentgroup": "True",
         "hovertemplate": "x=%{x}<br>PMF/PDF=%{y}<extra></extra>",
         "legendgroup": "",
         "marker": {
          "color": "#636efa",
          "pattern": {
           "shape": ""
          }
         },
         "name": "",
         "offsetgroup": "",
         "orientation": "v",
         "showlegend": false,
         "textposition": "auto",
         "type": "bar",
         "x": [
          0,
          1
         ],
         "xaxis": "x",
         "y": [
          0.5,
          0.5
         ],
         "yaxis": "y"
        },
        {
         "mode": "lines",
         "name": "Normal Density",
         "type": "scatter",
         "x": [
          -1.5,
          -1.484924623115578,
          -1.4698492462311559,
          -1.4547738693467336,
          -1.4396984924623115,
          -1.4246231155778895,
          -1.4095477386934674,
          -1.3944723618090453,
          -1.379396984924623,
          -1.364321608040201,
          -1.349246231155779,
          -1.3341708542713568,
          -1.3190954773869348,
          -1.3040201005025125,
          -1.2889447236180904,
          -1.2738693467336684,
          -1.2587939698492463,
          -1.2437185929648242,
          -1.228643216080402,
          -1.2135678391959799,
          -1.1984924623115578,
          -1.1834170854271358,
          -1.1683417085427137,
          -1.1532663316582914,
          -1.1381909547738693,
          -1.1231155778894473,
          -1.1080402010050252,
          -1.0929648241206031,
          -1.0778894472361809,
          -1.0628140703517588,
          -1.0477386934673367,
          -1.0326633165829147,
          -1.0175879396984926,
          -1.0025125628140703,
          -0.9874371859296482,
          -0.9723618090452262,
          -0.957286432160804,
          -0.9422110552763819,
          -0.9271356783919599,
          -0.9120603015075377,
          -0.8969849246231156,
          -0.8819095477386935,
          -0.8668341708542714,
          -0.8517587939698493,
          -0.8366834170854272,
          -0.8216080402010051,
          -0.8065326633165829,
          -0.7914572864321608,
          -0.7763819095477387,
          -0.7613065326633166,
          -0.7462311557788945,
          -0.7311557788944724,
          -0.7160804020100503,
          -0.7010050251256281,
          -0.6859296482412061,
          -0.670854271356784,
          -0.6557788944723618,
          -0.6407035175879398,
          -0.6256281407035176,
          -0.6105527638190955,
          -0.5954773869346734,
          -0.5804020100502513,
          -0.5653266331658292,
          -0.550251256281407,
          -0.535175879396985,
          -0.5201005025125629,
          -0.5050251256281407,
          -0.48994974874371855,
          -0.4748743718592965,
          -0.4597989949748744,
          -0.44472361809045236,
          -0.4296482412060303,
          -0.414572864321608,
          -0.39949748743718594,
          -0.3844221105527639,
          -0.3693467336683418,
          -0.35427135678391974,
          -0.33919597989949746,
          -0.3241206030150754,
          -0.3090452261306533,
          -0.29396984924623126,
          -0.2788944723618092,
          -0.2638190954773869,
          -0.24874371859296485,
          -0.23366834170854278,
          -0.21859296482412072,
          -0.20351758793969865,
          -0.18844221105527637,
          -0.1733668341708543,
          -0.15829145728643224,
          -0.14321608040201017,
          -0.1281407035175881,
          -0.11306532663316582,
          -0.09798994974874375,
          -0.08291457286432169,
          -0.06783919597989962,
          -0.05276381909547734,
          -0.03768844221105527,
          -0.022613065326633208,
          -0.007537688442211143,
          0.007537688442210921,
          0.022613065326633208,
          0.03768844221105527,
          0.05276381909547734,
          0.0678391959798994,
          0.08291457286432147,
          0.09798994974874375,
          0.11306532663316582,
          0.12814070351758788,
          0.14321608040200995,
          0.158291457286432,
          0.1733668341708543,
          0.18844221105527637,
          0.20351758793969843,
          0.2185929648241205,
          0.23366834170854256,
          0.24874371859296485,
          0.2638190954773869,
          0.278894472361809,
          0.29396984924623104,
          0.3090452261306531,
          0.3241206030150754,
          0.33919597989949746,
          0.3542713567839195,
          0.3693467336683416,
          0.38442211055276365,
          0.39949748743718594,
          0.414572864321608,
          0.42964824120603007,
          0.44472361809045213,
          0.4597989949748742,
          0.4748743718592965,
          0.48994974874371855,
          0.5050251256281406,
          0.5201005025125629,
          0.5351758793969847,
          0.550251256281407,
          0.5653266331658289,
          0.5804020100502512,
          0.5954773869346734,
          0.6105527638190953,
          0.6256281407035176,
          0.6407035175879394,
          0.6557788944723617,
          0.670854271356784,
          0.6859296482412058,
          0.7010050251256281,
          0.71608040201005,
          0.7311557788944723,
          0.7462311557788945,
          0.7613065326633164,
          0.7763819095477387,
          0.7914572864321605,
          0.8065326633165828,
          0.8216080402010051,
          0.8366834170854269,
          0.8517587939698492,
          0.8668341708542711,
          0.8819095477386933,
          0.8969849246231156,
          0.9120603015075375,
          0.9271356783919598,
          0.9422110552763816,
          0.9572864321608039,
          0.9723618090452262,
          0.987437185929648,
          1.0025125628140703,
          1.0175879396984921,
          1.0326633165829144,
          1.0477386934673367,
          1.0628140703517586,
          1.0778894472361809,
          1.0929648241206027,
          1.108040201005025,
          1.1231155778894473,
          1.1381909547738691,
          1.1532663316582914,
          1.1683417085427132,
          1.1834170854271355,
          1.1984924623115578,
          1.2135678391959797,
          1.228643216080402,
          1.2437185929648238,
          1.258793969849246,
          1.2738693467336684,
          1.2889447236180902,
          1.3040201005025125,
          1.3190954773869343,
          1.3341708542713566,
          1.349246231155779,
          1.3643216080402008,
          1.379396984924623,
          1.3944723618090453,
          1.4095477386934672,
          1.4246231155778895,
          1.4396984924623113,
          1.4547738693467336,
          1.4698492462311559,
          1.4849246231155777,
          1.5
         ],
         "y": [
          0.00026766045152977074,
          0.0003018311292828915,
          0.0003400549082977377,
          0.0003827712088493515,
          0.0004304618585849627,
          0.0004836545592243922,
          0.0005429265656750188,
          0.0006089085827424447,
          0.0006822888837932958,
          0.000763817654766547,
          0.0008543115658259983,
          0.0009546585716909859,
          0.0010658229402677984,
          0.0011888505076235378,
          0.0013248741555913419,
          0.0014751195063658887,
          0.0016409108263366892,
          0.0018236771291113311,
          0.0020249584652000325,
          0.0022464123831669814,
          0.00248982054420512,
          0.0027570954690632208,
          0.0030502873930538005,
          0.0033715912015060095,
          0.0037233534145102833,
          0.004108079186145227,
          0.004528439279598125,
          0.00498727697570852,
          0.00548761486850188,
          0.006032661497263025,
          0.006625817760655953,
          0.007270683054359374,
          0.007971061069691688,
          0.008730965186783096,
          0.009554623392057376,
          0.010446482646156767,
          0.011411212625026028,
          0.012453708753717188,
          0.01357909444963592,
          0.01479272248947622,
          0.016100175412041225,
          0.017507264867575624,
          0.019020029823200748,
          0.020644733533602005,
          0.022387859186324653,
          0.024256104131948664,
          0.026256372611082105,
          0.028395766892593953,
          0.03068157674084403,
          0.03312126713390313,
          0.03572246415993462,
          0.03849293902505419,
          0.041440590113130525,
          0.044573423046153804,
          0.04789952870298695,
          0.05142705916454,
          0.055164201564648976,
          0.059119149838192955,
          0.06330007437121137,
          0.0677150895719452,
          0.0723722193967829,
          0.07727936088096096,
          0.08244424574049429,
          0.08787440012909237,
          0.09357710265165309,
          0.0995593407542183,
          0.10582776562887686,
          0.11238864579089788,
          0.1192478195042121,
          0.12641064625007184,
          0.133881957452162,
          0.14166600668941162,
          0.14976641964510679,
          0.15818614405743323,
          0.16692739995210562,
          0.1759916304520647,
          0.18537945347217374,
          0.19509061461821717,
          0.20512394161912267,
          0.2154773006290197,
          0.22614755474133064,
          0.23713052506042642,
          0.24842095467730463,
          0.26001247589414384,
          0.2718975810383417,
          0.28406759719965013,
          0.29651266521422287,
          0.309221723206724,
          0.32218249498608925,
          0.33538148357209085,
          0.3488039701085387,
          0.3624340183948389,
          0.37625448524077604,
          0.3902470368199197,
          0.4043921711651164,
          0.41866924691526547,
          0.43305651838621856,
          0.4475311770003782,
          0.4620693990696769,
          0.4766463998853436,
          0.49123649402553,
          0.505813161748767,
          0.5203491212976961,
          0.5348164068939272,
          0.5491864521615459,
          0.5634301786741336,
          0.5775180892785117,
          0.5914203658081745,
          0.6051069707608949,
          0.6185477524786331,
          0.6317125533340237,
          0.6445713203966811,
          0.6570942180246864,
          0.669251741802194,
          0.681014833223397,
          0.6923549945063828,
          0.7032444029078881,
          0.7136560239018214,
          0.7235637225808106,
          0.7329423726410487,
          0.7417679623164284,
          0.7500176966383966,
          0.7576700954131048,
          0.7647050863272252,
          0.7711040926181211,
          0.7768501147727942,
          0.7819278057529431,
          0.7863235392803691,
          0.7900254707575692,
          0.7930235904423547,
          0.795309768542408,
          0.7968777919454556,
          0.7977233923528032,
          0.7978442656379428,
          0.7972400823073471,
          0.7959124889969826,
          0.7938651009950295,
          0.791103485838329,
          0.7876351380867234,
          0.7834694454352535,
          0.7786176463786678,
          0.7730927796954399,
          0.7669096260690828,
          0.7600846422125457,
          0.7526358879065532,
          0.7445829464045132,
          0.7359468386947841,
          0.7267499321453723,
          0.717015844086263,
          0.7067693409104157,
          0.6960362332957544,
          0.6848432681671984,
          0.6732180180297884,
          0.6611887683112461,
          0.6487844033549014,
          0.6360342917018212,
          0.6229681712943426,
          0.6096160352221328,
          0.5960080186165525,
          0.5821742872797186,
          0.5681449286114367,
          0.5539498453704232,
          0.5396186527762242,
          0.5251805794252654,
          0.510664372458937,
          0.4960982073837798,
          0.4815096029041523,
          0.4669253410865394,
          0.45237139313227637,
          0.43787285099234247,
          0.4234538650143105,
          0.409137587767961,
          0.39494612415279573,
          0.38090048784803904,
          0.3670205641240768,
          0.35332507899387894,
          0.339831574644124,
          0.3265563910487277,
          0.31351465363247705,
          0.30072026681976066,
          0.28818591327305587,
          0.2759230585981103,
          0.26394196126771546,
          0.25225168749370325,
          0.24086013075741056,
          0.22977403569231872,
          0.2189990259989582,
          0.20853963606141943,
          0.1983993459268756,
          0.18858061930439174,
          0.17908494423679924,
          0.16991287609952752,
          0.16106408258282628,
          0.15253739031865976,
          0.1443308328205663,
          0.13644169941377335,
          0.12886658484365598,
          0.12160143926308489,
          0.11464161831308425,
          0.10798193302637613
         ]
        }
       ],
       "layout": {
        "barmode": "relative",
        "legend": {
         "tracegroupgap": 0
        },
        "template": {
         "data": {
          "bar": [
           {
            "error_x": {
             "color": "#2a3f5f"
            },
            "error_y": {
             "color": "#2a3f5f"
            },
            "marker": {
             "line": {
              "color": "#E5ECF6",
              "width": 0.5
             },
             "pattern": {
              "fillmode": "overlay",
              "size": 10,
              "solidity": 0.2
             }
            },
            "type": "bar"
           }
          ],
          "barpolar": [
           {
            "marker": {
             "line": {
              "color": "#E5ECF6",
              "width": 0.5
             },
             "pattern": {
              "fillmode": "overlay",
              "size": 10,
              "solidity": 0.2
             }
            },
            "type": "barpolar"
           }
          ],
          "carpet": [
           {
            "aaxis": {
             "endlinecolor": "#2a3f5f",
             "gridcolor": "white",
             "linecolor": "white",
             "minorgridcolor": "white",
             "startlinecolor": "#2a3f5f"
            },
            "baxis": {
             "endlinecolor": "#2a3f5f",
             "gridcolor": "white",
             "linecolor": "white",
             "minorgridcolor": "white",
             "startlinecolor": "#2a3f5f"
            },
            "type": "carpet"
           }
          ],
          "choropleth": [
           {
            "colorbar": {
             "outlinewidth": 0,
             "ticks": ""
            },
            "type": "choropleth"
           }
          ],
          "contour": [
           {
            "colorbar": {
             "outlinewidth": 0,
             "ticks": ""
            },
            "colorscale": [
             [
              0,
              "#0d0887"
             ],
             [
              0.1111111111111111,
              "#46039f"
             ],
             [
              0.2222222222222222,
              "#7201a8"
             ],
             [
              0.3333333333333333,
              "#9c179e"
             ],
             [
              0.4444444444444444,
              "#bd3786"
             ],
             [
              0.5555555555555556,
              "#d8576b"
             ],
             [
              0.6666666666666666,
              "#ed7953"
             ],
             [
              0.7777777777777778,
              "#fb9f3a"
             ],
             [
              0.8888888888888888,
              "#fdca26"
             ],
             [
              1,
              "#f0f921"
             ]
            ],
            "type": "contour"
           }
          ],
          "contourcarpet": [
           {
            "colorbar": {
             "outlinewidth": 0,
             "ticks": ""
            },
            "type": "contourcarpet"
           }
          ],
          "heatmap": [
           {
            "colorbar": {
             "outlinewidth": 0,
             "ticks": ""
            },
            "colorscale": [
             [
              0,
              "#0d0887"
             ],
             [
              0.1111111111111111,
              "#46039f"
             ],
             [
              0.2222222222222222,
              "#7201a8"
             ],
             [
              0.3333333333333333,
              "#9c179e"
             ],
             [
              0.4444444444444444,
              "#bd3786"
             ],
             [
              0.5555555555555556,
              "#d8576b"
             ],
             [
              0.6666666666666666,
              "#ed7953"
             ],
             [
              0.7777777777777778,
              "#fb9f3a"
             ],
             [
              0.8888888888888888,
              "#fdca26"
             ],
             [
              1,
              "#f0f921"
             ]
            ],
            "type": "heatmap"
           }
          ],
          "heatmapgl": [
           {
            "colorbar": {
             "outlinewidth": 0,
             "ticks": ""
            },
            "colorscale": [
             [
              0,
              "#0d0887"
             ],
             [
              0.1111111111111111,
              "#46039f"
             ],
             [
              0.2222222222222222,
              "#7201a8"
             ],
             [
              0.3333333333333333,
              "#9c179e"
             ],
             [
              0.4444444444444444,
              "#bd3786"
             ],
             [
              0.5555555555555556,
              "#d8576b"
             ],
             [
              0.6666666666666666,
              "#ed7953"
             ],
             [
              0.7777777777777778,
              "#fb9f3a"
             ],
             [
              0.8888888888888888,
              "#fdca26"
             ],
             [
              1,
              "#f0f921"
             ]
            ],
            "type": "heatmapgl"
           }
          ],
          "histogram": [
           {
            "marker": {
             "pattern": {
              "fillmode": "overlay",
              "size": 10,
              "solidity": 0.2
             }
            },
            "type": "histogram"
           }
          ],
          "histogram2d": [
           {
            "colorbar": {
             "outlinewidth": 0,
             "ticks": ""
            },
            "colorscale": [
             [
              0,
              "#0d0887"
             ],
             [
              0.1111111111111111,
              "#46039f"
             ],
             [
              0.2222222222222222,
              "#7201a8"
             ],
             [
              0.3333333333333333,
              "#9c179e"
             ],
             [
              0.4444444444444444,
              "#bd3786"
             ],
             [
              0.5555555555555556,
              "#d8576b"
             ],
             [
              0.6666666666666666,
              "#ed7953"
             ],
             [
              0.7777777777777778,
              "#fb9f3a"
             ],
             [
              0.8888888888888888,
              "#fdca26"
             ],
             [
              1,
              "#f0f921"
             ]
            ],
            "type": "histogram2d"
           }
          ],
          "histogram2dcontour": [
           {
            "colorbar": {
             "outlinewidth": 0,
             "ticks": ""
            },
            "colorscale": [
             [
              0,
              "#0d0887"
             ],
             [
              0.1111111111111111,
              "#46039f"
             ],
             [
              0.2222222222222222,
              "#7201a8"
             ],
             [
              0.3333333333333333,
              "#9c179e"
             ],
             [
              0.4444444444444444,
              "#bd3786"
             ],
             [
              0.5555555555555556,
              "#d8576b"
             ],
             [
              0.6666666666666666,
              "#ed7953"
             ],
             [
              0.7777777777777778,
              "#fb9f3a"
             ],
             [
              0.8888888888888888,
              "#fdca26"
             ],
             [
              1,
              "#f0f921"
             ]
            ],
            "type": "histogram2dcontour"
           }
          ],
          "mesh3d": [
           {
            "colorbar": {
             "outlinewidth": 0,
             "ticks": ""
            },
            "type": "mesh3d"
           }
          ],
          "parcoords": [
           {
            "line": {
             "colorbar": {
              "outlinewidth": 0,
              "ticks": ""
             }
            },
            "type": "parcoords"
           }
          ],
          "pie": [
           {
            "automargin": true,
            "type": "pie"
           }
          ],
          "scatter": [
           {
            "fillpattern": {
             "fillmode": "overlay",
             "size": 10,
             "solidity": 0.2
            },
            "type": "scatter"
           }
          ],
          "scatter3d": [
           {
            "line": {
             "colorbar": {
              "outlinewidth": 0,
              "ticks": ""
             }
            },
            "marker": {
             "colorbar": {
              "outlinewidth": 0,
              "ticks": ""
             }
            },
            "type": "scatter3d"
           }
          ],
          "scattercarpet": [
           {
            "marker": {
             "colorbar": {
              "outlinewidth": 0,
              "ticks": ""
             }
            },
            "type": "scattercarpet"
           }
          ],
          "scattergeo": [
           {
            "marker": {
             "colorbar": {
              "outlinewidth": 0,
              "ticks": ""
             }
            },
            "type": "scattergeo"
           }
          ],
          "scattergl": [
           {
            "marker": {
             "colorbar": {
              "outlinewidth": 0,
              "ticks": ""
             }
            },
            "type": "scattergl"
           }
          ],
          "scattermapbox": [
           {
            "marker": {
             "colorbar": {
              "outlinewidth": 0,
              "ticks": ""
             }
            },
            "type": "scattermapbox"
           }
          ],
          "scatterpolar": [
           {
            "marker": {
             "colorbar": {
              "outlinewidth": 0,
              "ticks": ""
             }
            },
            "type": "scatterpolar"
           }
          ],
          "scatterpolargl": [
           {
            "marker": {
             "colorbar": {
              "outlinewidth": 0,
              "ticks": ""
             }
            },
            "type": "scatterpolargl"
           }
          ],
          "scatterternary": [
           {
            "marker": {
             "colorbar": {
              "outlinewidth": 0,
              "ticks": ""
             }
            },
            "type": "scatterternary"
           }
          ],
          "surface": [
           {
            "colorbar": {
             "outlinewidth": 0,
             "ticks": ""
            },
            "colorscale": [
             [
              0,
              "#0d0887"
             ],
             [
              0.1111111111111111,
              "#46039f"
             ],
             [
              0.2222222222222222,
              "#7201a8"
             ],
             [
              0.3333333333333333,
              "#9c179e"
             ],
             [
              0.4444444444444444,
              "#bd3786"
             ],
             [
              0.5555555555555556,
              "#d8576b"
             ],
             [
              0.6666666666666666,
              "#ed7953"
             ],
             [
              0.7777777777777778,
              "#fb9f3a"
             ],
             [
              0.8888888888888888,
              "#fdca26"
             ],
             [
              1,
              "#f0f921"
             ]
            ],
            "type": "surface"
           }
          ],
          "table": [
           {
            "cells": {
             "fill": {
              "color": "#EBF0F8"
             },
             "line": {
              "color": "white"
             }
            },
            "header": {
             "fill": {
              "color": "#C8D4E3"
             },
             "line": {
              "color": "white"
             }
            },
            "type": "table"
           }
          ]
         },
         "layout": {
          "annotationdefaults": {
           "arrowcolor": "#2a3f5f",
           "arrowhead": 0,
           "arrowwidth": 1
          },
          "autotypenumbers": "strict",
          "coloraxis": {
           "colorbar": {
            "outlinewidth": 0,
            "ticks": ""
           }
          },
          "colorscale": {
           "diverging": [
            [
             0,
             "#8e0152"
            ],
            [
             0.1,
             "#c51b7d"
            ],
            [
             0.2,
             "#de77ae"
            ],
            [
             0.3,
             "#f1b6da"
            ],
            [
             0.4,
             "#fde0ef"
            ],
            [
             0.5,
             "#f7f7f7"
            ],
            [
             0.6,
             "#e6f5d0"
            ],
            [
             0.7,
             "#b8e186"
            ],
            [
             0.8,
             "#7fbc41"
            ],
            [
             0.9,
             "#4d9221"
            ],
            [
             1,
             "#276419"
            ]
           ],
           "sequential": [
            [
             0,
             "#0d0887"
            ],
            [
             0.1111111111111111,
             "#46039f"
            ],
            [
             0.2222222222222222,
             "#7201a8"
            ],
            [
             0.3333333333333333,
             "#9c179e"
            ],
            [
             0.4444444444444444,
             "#bd3786"
            ],
            [
             0.5555555555555556,
             "#d8576b"
            ],
            [
             0.6666666666666666,
             "#ed7953"
            ],
            [
             0.7777777777777778,
             "#fb9f3a"
            ],
            [
             0.8888888888888888,
             "#fdca26"
            ],
            [
             1,
             "#f0f921"
            ]
           ],
           "sequentialminus": [
            [
             0,
             "#0d0887"
            ],
            [
             0.1111111111111111,
             "#46039f"
            ],
            [
             0.2222222222222222,
             "#7201a8"
            ],
            [
             0.3333333333333333,
             "#9c179e"
            ],
            [
             0.4444444444444444,
             "#bd3786"
            ],
            [
             0.5555555555555556,
             "#d8576b"
            ],
            [
             0.6666666666666666,
             "#ed7953"
            ],
            [
             0.7777777777777778,
             "#fb9f3a"
            ],
            [
             0.8888888888888888,
             "#fdca26"
            ],
            [
             1,
             "#f0f921"
            ]
           ]
          },
          "colorway": [
           "#636efa",
           "#EF553B",
           "#00cc96",
           "#ab63fa",
           "#FFA15A",
           "#19d3f3",
           "#FF6692",
           "#B6E880",
           "#FF97FF",
           "#FECB52"
          ],
          "font": {
           "color": "#2a3f5f"
          },
          "geo": {
           "bgcolor": "white",
           "lakecolor": "white",
           "landcolor": "#E5ECF6",
           "showlakes": true,
           "showland": true,
           "subunitcolor": "white"
          },
          "hoverlabel": {
           "align": "left"
          },
          "hovermode": "closest",
          "mapbox": {
           "style": "light"
          },
          "paper_bgcolor": "white",
          "plot_bgcolor": "#E5ECF6",
          "polar": {
           "angularaxis": {
            "gridcolor": "white",
            "linecolor": "white",
            "ticks": ""
           },
           "bgcolor": "#E5ECF6",
           "radialaxis": {
            "gridcolor": "white",
            "linecolor": "white",
            "ticks": ""
           }
          },
          "scene": {
           "xaxis": {
            "backgroundcolor": "#E5ECF6",
            "gridcolor": "white",
            "gridwidth": 2,
            "linecolor": "white",
            "showbackground": true,
            "ticks": "",
            "zerolinecolor": "white"
           },
           "yaxis": {
            "backgroundcolor": "#E5ECF6",
            "gridcolor": "white",
            "gridwidth": 2,
            "linecolor": "white",
            "showbackground": true,
            "ticks": "",
            "zerolinecolor": "white"
           },
           "zaxis": {
            "backgroundcolor": "#E5ECF6",
            "gridcolor": "white",
            "gridwidth": 2,
            "linecolor": "white",
            "showbackground": true,
            "ticks": "",
            "zerolinecolor": "white"
           }
          },
          "shapedefaults": {
           "line": {
            "color": "#2a3f5f"
           }
          },
          "ternary": {
           "aaxis": {
            "gridcolor": "white",
            "linecolor": "white",
            "ticks": ""
           },
           "baxis": {
            "gridcolor": "white",
            "linecolor": "white",
            "ticks": ""
           },
           "bgcolor": "#E5ECF6",
           "caxis": {
            "gridcolor": "white",
            "linecolor": "white",
            "ticks": ""
           }
          },
          "title": {
           "x": 0.05
          },
          "xaxis": {
           "automargin": true,
           "gridcolor": "white",
           "linecolor": "white",
           "ticks": "",
           "title": {
            "standoff": 15
           },
           "zerolinecolor": "white",
           "zerolinewidth": 2
          },
          "yaxis": {
           "automargin": true,
           "gridcolor": "white",
           "linecolor": "white",
           "ticks": "",
           "title": {
            "standoff": 15
           },
           "zerolinecolor": "white",
           "zerolinewidth": 2
          }
         }
        },
        "title": {
         "text": "Normal Distribution Approximation"
        },
        "xaxis": {
         "anchor": "y",
         "domain": [
          0,
          1
         ],
         "title": {
          "text": "x"
         }
        },
        "yaxis": {
         "anchor": "x",
         "domain": [
          0,
          1
         ],
         "title": {
          "text": "PMF/PDF"
         }
        }
       }
      }
     },
     "metadata": {},
     "output_type": "display_data"
    }
   ],
   "source": [
    "# The mean of the \"single random guess\" distribution above is 0.5\n",
    "# Here's an overlayed normal approximation of this distribution \n",
    "import plotly.graph_objects as go\n",
    "fig = px.bar(pd.DataFrame({'x':x,'PMF/PDF':prob}), x='x', y='PMF/PDF',\n",
    "       title=\"Normal Distribution Approximation\")\n",
    "x_ = np.linspace(-1.5,1.5,200)\n",
    "fig.add_trace(go.Scatter(x=x_, y=stats.norm(0.5,0.5).pdf(x_), mode='lines', name='Normal Density'))\n",
    "# So rather than getting 0/1 (incorrect/correct) data points \n",
    "# a t-test is assumes the data points are numeric values sampled from the overlayed normal distribution"
   ]
  },
  {
   "attachments": {},
   "cell_type": "markdown",
   "id": "3fee75ac",
   "metadata": {
    "deletable": false
   },
   "source": [
    "The analyses in this assignment are based on constructing (through simuilation approximation, theoretical derivation, or continuous approximation) the sampling distribution of the sample proportion (average) under the assumption of the null hypothesis that $p=0.5$. The sampling distribution of a sample average (which a sample proportion is...) can be theoretically derived with the additional assumption that each data point is an independent sample from a normal population. Indeed, and this was how the continuous approximation to the Binomial sampling distribution was derived; and, this kind of analysis is called a t-test. The t-test is a parametric test since it requires an assumption of data normality; and, it's a theoretical test because once this assumption is made, the sampling distribution of the sample average is theoretically derived.\n",
    "\n",
    "The p-value for the random guessing binomial distribution is theoretically derived based only the on the assumption of \"random guessing\"; but, this is not a \"parametric\" analysis because the fact that it is uses a binomial distribution is not an assumption but rather that is derived only from the assumption of \"random guessing\". The statement of \"random guessing\" is enshrined in the assumption that the parameter $p=0.5$; however, this assumption alone is still viewed as \"non-parametric\" since it does not entail any specifications of the distribution of the data, which is what the term \"parametric\" refers to (even though it seems like it should be referring to parameters...).\n",
    "\n",
    "In summary, the p-value based on the binomial distribution is a theoretical non-parametric (truly correct) p-value; the original p-value from `Q3/Q4` is a simulated version of this non-parametric p-value; the t-test below is a theoretical parametric p-value (whose accuracy depends on the accuracy of the normality assumption entailed in the t-test)."
   ]
  },
  {
   "attachments": {},
   "cell_type": "markdown",
   "id": "46268e8b",
   "metadata": {
    "deletable": false
   },
   "source": [
    "### Q13: Comment on similarities and differences between the median sign test and t-test from above."
   ]
  },
  {
   "attachments": {},
   "cell_type": "markdown",
   "id": "3417749a",
   "metadata": {
    "deletable": false
   },
   "source": [
    "> Answer here..."
   ]
  },
  {
   "cell_type": "code",
   "execution_count": 13,
   "id": "d38aec80",
   "metadata": {},
   "outputs": [],
   "source": [
    "hint = \"\\n\\nAUTOMATICALLY FAILING AUTOTEST: DOES NOT COUNT AGAINST STUDENT\"\n",
    "hint += \"\\nIncluded as an example answer for feedback purposes only\\n\"\n",
    "hint += \"\\nIdeas:\\n\"\n",
    "hint += \"- Both median sign test and t-test are nonparametric tests (there is no distribution assumption for the median sign test as) \"\n",
    "hint += \"we know the sampling distribution!\"\n",
    "hint += \"\\n- P-value calculation same as Theoretically Exact (Binomial) Sampling Distribution \\\"two sided\\\" p-value\""
   ]
  },
  {
   "cell_type": "code",
   "execution_count": 14,
   "id": "19fe7980",
   "metadata": {},
   "outputs": [
    {
     "ename": "AssertionError",
     "evalue": "\n\nAUTOMATICALLY FAILING AUTOTEST: DOES NOT COUNT AGAINST STUDENT\nIncluded as an example answer for feedback purposes only\n\nIdeas:\n- Both median sign test and t-test are nonparametric tests (there is no distribution assumption for the median sign test as) we know the sampling distribution!\n- P-value calculation same as Theoretically Exact (Binomial) Sampling Distribution \"two sided\" p-value",
     "output_type": "error",
     "traceback": [
      "\u001b[1;31m---------------------------------------------------------------------------\u001b[0m",
      "\u001b[1;31mAssertionError\u001b[0m                            Traceback (most recent call last)",
      "Cell \u001b[1;32mIn[14], line 2\u001b[0m\n\u001b[0;32m      1\u001b[0m \u001b[39m# test_Q13\u001b[39;00m\n\u001b[1;32m----> 2\u001b[0m \u001b[39massert\u001b[39;00m \u001b[39mFalse\u001b[39;00m, hint\n",
      "\u001b[1;31mAssertionError\u001b[0m: \n\nAUTOMATICALLY FAILING AUTOTEST: DOES NOT COUNT AGAINST STUDENT\nIncluded as an example answer for feedback purposes only\n\nIdeas:\n- Both median sign test and t-test are nonparametric tests (there is no distribution assumption for the median sign test as) we know the sampling distribution!\n- P-value calculation same as Theoretically Exact (Binomial) Sampling Distribution \"two sided\" p-value"
     ]
    }
   ],
   "source": [
    "# test_Q13\n",
    "assert False, hint"
   ]
  },
  {
   "attachments": {},
   "cell_type": "markdown",
   "id": "a9d90af2",
   "metadata": {
    "deletable": false
   },
   "source": [
    "Median Sign Test:\n",
    "\n",
    "$\\begin{align}\n",
    "H_0 &: {} Median = 0.5\\\\\n",
    "H_1 &:{} Median \\neq 0.5\n",
    "\\end{align}$\n",
    "\n",
    "- By assumption of median, half of the sample will be greater than and half will be less than the null hypothesis assumed median\n",
    "    \n",
    "    - Implies theoretical binomial sampling distribution    \n",
    "    <br/>\n",
    "- The 'sign test' assigns -ve sign to values below the median and +ve sign to values above\n",
    "    \n",
    "    - Under null hypothesis, we expect an equal number of signs"
   ]
  },
  {
   "cell_type": "code",
   "execution_count": null,
   "id": "75c7ab59",
   "metadata": {
    "deletable": false
   },
   "outputs": [
    {
     "data": {
      "text/plain": [
       "BinomTestResult(k=49, n=80, alternative='two-sided', statistic=0.6125, pvalue=0.056664426345121144)"
      ]
     },
     "execution_count": 58,
     "metadata": {},
     "output_type": "execute_result"
    }
   ],
   "source": [
    "from scipy import stats\n",
    "stats.binomtest(k=49, n=80)\n",
    "# for null hypothesis assumed median of 0.5, we should have 49 positive signs(guess correct/1) \n",
    "# and 31 negative signs(incorrect/0). The p-value would be the probability of observing an imbalance\n",
    "# of signs \"as or more extreme\" than the 49 to 31(under assumption null hypothesis true)"
   ]
  },
  {
   "attachments": {},
   "cell_type": "markdown",
   "id": "113f25d5",
   "metadata": {
    "deletable": false
   },
   "source": [
    "### Q14: Comment on similarities and differences between the Wilcoxon ranked sign test, and the median sign test and t-test from above."
   ]
  },
  {
   "attachments": {},
   "cell_type": "markdown",
   "id": "74883fd0",
   "metadata": {
    "deletable": false
   },
   "source": [
    "> Answer here..."
   ]
  },
  {
   "cell_type": "code",
   "execution_count": 17,
   "id": "874c319c",
   "metadata": {},
   "outputs": [],
   "source": [
    "hint = \"\\n\\nAUTOMATICALLY FAILING AUTOTEST: DOES NOT COUNT AGAINST STUDENT\"\n",
    "hint += \"\\nIncluded as an example answer for feedback purposes only\\n\"\n",
    "hint += \"\\nIdeas:\"\n",
    "hint += \"\\n- Also nonparametric test(no distribution assumption)\"\n",
    "hint += \"\\n- Requires two samples instead of one\"\n",
    "hint += \"\\n- Null hypothesis is statement of statistical relationship between two samples instead of some parameter equivalence statement\""
   ]
  },
  {
   "cell_type": "code",
   "execution_count": 16,
   "id": "8e588396",
   "metadata": {},
   "outputs": [
    {
     "ename": "AssertionError",
     "evalue": "\n\nAUTOMATICALLY FAILING AUTOTEST: DOES NOT COUNT AGAINST STUDENT\nIncluded as an example answer for feedback purposes only\n\nIdeas:\n- Also nonparametric test(no distribution assumption)\n- Requires two samples instead of one\n- Null hypothesis is statement of statistical relationship between two samples instead of some parameter value",
     "output_type": "error",
     "traceback": [
      "\u001b[1;31m---------------------------------------------------------------------------\u001b[0m",
      "\u001b[1;31mAssertionError\u001b[0m                            Traceback (most recent call last)",
      "Cell \u001b[1;32mIn[16], line 2\u001b[0m\n\u001b[0;32m      1\u001b[0m \u001b[39m# test_Q14\u001b[39;00m\n\u001b[1;32m----> 2\u001b[0m \u001b[39massert\u001b[39;00m \u001b[39mFalse\u001b[39;00m, hint\n",
      "\u001b[1;31mAssertionError\u001b[0m: \n\nAUTOMATICALLY FAILING AUTOTEST: DOES NOT COUNT AGAINST STUDENT\nIncluded as an example answer for feedback purposes only\n\nIdeas:\n- Also nonparametric test(no distribution assumption)\n- Requires two samples instead of one\n- Null hypothesis is statement of statistical relationship between two samples instead of some parameter value"
     ]
    }
   ],
   "source": [
    "# test_Q14\n",
    "assert False, hint"
   ]
  },
  {
   "attachments": {},
   "cell_type": "markdown",
   "id": "6384dca6",
   "metadata": {
    "deletable": false
   },
   "source": [
    "Wilcoxon Ranked Sign Test:\n",
    "- Compare medians of two **dependent samples** to see if they are statistically significantly different from each other\n",
    "$$\n",
    "\\begin{align}\n",
    "H_0 &: {} \\text{median}_{sample1} - \\text{median}_{sample2} = 0\\\\\n",
    "H_1 &:{} \\text{median}_{sample1} - \\text{median}_{sample2} \\neq 0\n",
    "\\end{align}$$\n",
    "- Like the median sign test, applies -ve/+ve sign to difference between medians and orders these differences\n",
    "    \n",
    "    - Under null hypothesis, we expect an equal number of signs"
   ]
  },
  {
   "cell_type": "code",
   "execution_count": 32,
   "id": "3881d43e",
   "metadata": {
    "deletable": false
   },
   "outputs": [
    {
     "name": "stdout",
     "output_type": "stream",
     "text": [
      "43 students guessed milk first\n"
     ]
    }
   ],
   "source": [
    "np.random.seed(100)\n",
    "# sample of observed test statistic from above, where '1' represents correctly stated and '0' represents incorrectly stated\n",
    "observed_sample = np.array([1] * 49 + [0] * 31)\n",
    "\n",
    "# Suppose the same 80 students were called back the next day to perform the experiment again\n",
    "observed_sample_2 = np.random.choice([1, 0], p = [0.5, 0.5], size=80)\n",
    "\n",
    "# Play around with the `p = [0.5, 0.5]` values (must add to 1) \n",
    "print(str(observed_sample_2.sum()) + ' students guessed milk first')"
   ]
  },
  {
   "cell_type": "code",
   "execution_count": 33,
   "id": "21099f24",
   "metadata": {
    "deletable": false
   },
   "outputs": [
    {
     "data": {
      "text/plain": [
       "WilcoxonResult(statistic=348.5, pvalue=0.34278171114791145)"
      ]
     },
     "execution_count": 33,
     "metadata": {},
     "output_type": "execute_result"
    }
   ],
   "source": [
    "stats.wilcoxon(observed_sample, observed_sample_2)  # The p-value would be the probability of observing an imbalance\n",
    "# of signs for the difference of medians that is \"as or more extreme\" than the imbalance for our\n",
    "# 2 samples (under assumption null hypothesis true)"
   ]
  }
 ],
 "metadata": {
  "kernelspec": {
   "display_name": "Python 3 (ipykernel)",
   "language": "python",
   "name": "python3"
  },
  "language_info": {
   "codemirror_mode": {
    "name": "ipython",
    "version": 3
   },
   "file_extension": ".py",
   "mimetype": "text/x-python",
   "name": "python",
   "nbconvert_exporter": "python",
   "pygments_lexer": "ipython3",
   "version": "3.11.1"
  }
 },
 "nbformat": 4,
 "nbformat_minor": 6
}
