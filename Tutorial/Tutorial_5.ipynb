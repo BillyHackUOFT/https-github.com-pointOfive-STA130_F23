{
 "cells": [
  {
   "attachments": {},
   "cell_type": "markdown",
   "metadata": {},
   "source": [
    "# STA130 Tutorial 5: Hypothesis Testing"
   ]
  },
  {
   "attachments": {},
   "cell_type": "markdown",
   "metadata": {},
   "source": [
    "# Today's agenda (5 min)\n",
    "\n",
    "- Hypothesis test walk-through (can emphasize/explain vocab here)\n",
    "\n",
    "- Group Presentation\n",
    "\n",
    "- Q&A/Vocabulary list (if time allows)\n",
    "\n",
    "- Type I/II error discussion (if time allows, on a separate handout)"
   ]
  },
  {
   "attachments": {},
   "cell_type": "markdown",
   "metadata": {},
   "source": [
    "## Worked Example: Wheel of Destiny (Introduce Problem)\n",
    "\n",
    "Stella McStat had been running a small-time gambling operation on campus for several months during her first year at U of T. It was disrupted during COVID, but now that vaccines are mandatory to be on campus, Stella is getting things back up and running.\n",
    "\n",
    "<p align=\"center\">\n",
    "  <img src=\"stella2.png\" />\n",
    "  <br/>Adapted from Lawton, L. (2009) An Exercise for Illustrating the Logic of Hypothesis Testing, Journal of Stat. Education, 17(2).\n",
    "</p>\n",
    "\n",
    "\n",
    "The format: For each spin of the wheel, two gamblers take part. For a toonie each ($2 Canadian), Stella sells one a red ticket and one a black ticket  (i.e., total $4). Then Stella spins the Wheel of Destiny. The person who holds the colour on which the spinner stops gets $3.50 (Stella keeps $0.50 per spin for running the game and providing snacks).\n",
    "\n",
    "Stella just bought a new spinner, the critical piece of equipment for this game. She's heard some mixed reviews about the manufacturer she has purchased from. Before she beings using this spinner, she wants to make sure that it is, in fact, fair—she wants both colours to come up equally often. Because of the set-up of the game, Stella has no incentive to cheat and wants the game to be as fair as possible.\n",
    "\n",
    "Everything she can examine about the wheel seems fine; there is the same number of sectors of each colour and they each have the same area. BUT! Stella has a great idea and decides to come to YOU, her statistical guru, and ask you to verify that the new spinner is fit to use.\n",
    "\n",
    "<p align=\"center\">\n",
    "  <img src=\"fair.png\" />\n",
    "  <br/>Adapted from Lawton, L. (2009) An Exercise for Illustrating the Logic of Hypothesis Testing, Journal of Stat. Education, 17(2).\n",
    "</p>\n"
   ]
  },
  {
   "attachments": {},
   "cell_type": "markdown",
   "metadata": {},
   "source": [
    "## Discussion 1 (20 minutes)\n",
    "- How could we use hypothesis testing to solve this problem?\n",
    "\n",
    "- What is a population?\n",
    "\n",
    "- What is the null hypothesis in this case? The alternate hypothesis?\n",
    "\n",
    "- What is a (one-sample) permutation test? How might we go about conducting a one-sample permutation test?\n",
    "\n",
    "    - What's the difference between a **parametric** and **nonparametric** test?\n",
    "\n",
    "    - What's the difference between a **dependent** and **independent** sample?\n",
    "    \n",
    "- What is a p-value?\n",
    "\n",
    "\n",
    "    "
   ]
  },
  {
   "attachments": {},
   "cell_type": "markdown",
   "metadata": {},
   "source": [
    "## Discussion 1 Ideas (20 minutes)\n",
    "**Statistical Inference for a Single Sample Proportion**: \n",
    "\n",
    " 1. State null hypothesis $H_0$ and alternative hypothesis $H_A$ \n",
    "\n",
    " 2. Calculate a *test statistic* based on one observed *random sample* \n",
    "\n",
    " 3. *Simulate* samples under $H_0$ and calculate the statictic for the simulated sample. Repeat many times. (this constitutes our estimated *sampling distribution*)\n",
    "\n",
    " 4. Evaluate the evidence against $H_0$ by calculating the *p-value*\n",
    "\n",
    " 5. Make a conclusion (based on the strength of evidence against $H_0$)"
   ]
  },
  {
   "attachments": {},
   "cell_type": "markdown",
   "metadata": {},
   "source": [
    "$\n",
    "\\begin{align}\n",
    "H_0 &{}: {} p = 0.5 \\quad\\text{probability of spinning one color(like red)}\\\\\n",
    "H_1 &:{} p \\neq 0.5 \\quad\\text{(alternative hypothesis)}\\\\\\\\\n",
    "\\end{align}$  \n",
    "We do not know the population for the probability distribution, so we can't assume anything about the distribution of the population, or the *data distribution*.\n",
    "\n",
    "\n",
    "To perform our one-sample permutation test, we could perform some **actual** spins and calculate the proportion of landing red \n",
    "to find our observed test statistic.  "
   ]
  },
  {
   "cell_type": "code",
   "execution_count": 1,
   "metadata": {},
   "outputs": [
    {
     "name": "stdout",
     "output_type": "stream",
     "text": [
      "Our test statistic is 0.494, meaning we spun 494 reds out of 1000 spins.\n"
     ]
    }
   ],
   "source": [
    "# Getting observed test statistic\n",
    "import numpy as np\n",
    "np.random.seed(1)\n",
    "spins = 1000  # chose 1000 spins, pros/cons of doing more/less?\n",
    "spin_results = np.random.choice(['Red', 'Black'], size=spins, replace=True, p = [0.5, 0.5])  # Lets assume the spinner is truthfully fair (has 50-50 to spin red). What if this wasn't the case?\n",
    "numeric_spin_results = np.where(spin_results == 'Red', 1, 0)  # convert spin results to 1's for red and 0's for black\n",
    "test_stat = numeric_spin_results.sum() / spins\n",
    "print('Our test statistic is ' + str(test_stat) + ', meaning we spun ' + str(int(test_stat * spins)) + ' reds out of ' + str(spins) + ' spins.')"
   ]
  },
  {
   "attachments": {},
   "cell_type": "markdown",
   "metadata": {},
   "source": [
    "We can then simulate a sampling distribution under the assumption of our null hypothesis. This is a nonparametric permutation test as there are no normality assumptions about sampling distribution. It is also an example of independent sampling, as each bootstrap sample does not depend on the values of other bootstrap samples."
   ]
  },
  {
   "cell_type": "code",
   "execution_count": 8,
   "metadata": {},
   "outputs": [
    {
     "data": {
      "application/vnd.plotly.v1+json": {
       "config": {
        "plotlyServerURL": "https://plot.ly"
       },
       "data": [
        {
         "alignmentgroup": "True",
         "bingroup": "x",
         "hovertemplate": "Proportion of Red=%{x}<br>count=%{y}<extra></extra>",
         "legendgroup": "",
         "marker": {
          "color": "#636efa",
          "pattern": {
           "shape": ""
          }
         },
         "name": "",
         "offsetgroup": "",
         "orientation": "v",
         "showlegend": false,
         "type": "histogram",
         "x": [
          0.522,
          0.503,
          0.519,
          0.483,
          0.499,
          0.467,
          0.527,
          0.509,
          0.496,
          0.481,
          0.46,
          0.497,
          0.515,
          0.502,
          0.538,
          0.518,
          0.5,
          0.496,
          0.516,
          0.502,
          0.49,
          0.511,
          0.504,
          0.483,
          0.527,
          0.48,
          0.49,
          0.475,
          0.484,
          0.523,
          0.497,
          0.509,
          0.484,
          0.488,
          0.502,
          0.477,
          0.502,
          0.479,
          0.511,
          0.49,
          0.496,
          0.458,
          0.477,
          0.474,
          0.5,
          0.481,
          0.479,
          0.502,
          0.488,
          0.501,
          0.511,
          0.497,
          0.52,
          0.5,
          0.503,
          0.506,
          0.468,
          0.52,
          0.509,
          0.537,
          0.526,
          0.512,
          0.495,
          0.544,
          0.502,
          0.53,
          0.487,
          0.502,
          0.529,
          0.495,
          0.498,
          0.514,
          0.484,
          0.525,
          0.509,
          0.507,
          0.515,
          0.495,
          0.475,
          0.496,
          0.497,
          0.502,
          0.495,
          0.514,
          0.497,
          0.496,
          0.522,
          0.514,
          0.506,
          0.508,
          0.514,
          0.541,
          0.504,
          0.509,
          0.508,
          0.535,
          0.504,
          0.532,
          0.474,
          0.534,
          0.494,
          0.526,
          0.474,
          0.498,
          0.518,
          0.499,
          0.477,
          0.542,
          0.479,
          0.481,
          0.508,
          0.516,
          0.512,
          0.497,
          0.509,
          0.496,
          0.511,
          0.48,
          0.506,
          0.498,
          0.493,
          0.463,
          0.478,
          0.515,
          0.525,
          0.499,
          0.496,
          0.46,
          0.509,
          0.514,
          0.5,
          0.485,
          0.504,
          0.492,
          0.503,
          0.476,
          0.503,
          0.491,
          0.505,
          0.48,
          0.5,
          0.48,
          0.525,
          0.493,
          0.505,
          0.492,
          0.504,
          0.506,
          0.503,
          0.509,
          0.488,
          0.505,
          0.483,
          0.508,
          0.508,
          0.511,
          0.492,
          0.513,
          0.521,
          0.512,
          0.542,
          0.463,
          0.505,
          0.518,
          0.486,
          0.498,
          0.503,
          0.497,
          0.531,
          0.505,
          0.508,
          0.491,
          0.499,
          0.51,
          0.526,
          0.468,
          0.516,
          0.501,
          0.487,
          0.496,
          0.499,
          0.481,
          0.48,
          0.541,
          0.527,
          0.503,
          0.491,
          0.491,
          0.498,
          0.501,
          0.534,
          0.499,
          0.511,
          0.52,
          0.495,
          0.481,
          0.498,
          0.508,
          0.493,
          0.486,
          0.501,
          0.501,
          0.489,
          0.489,
          0.505,
          0.505,
          0.509,
          0.489,
          0.487,
          0.527,
          0.497,
          0.495,
          0.459,
          0.485,
          0.492,
          0.513,
          0.492,
          0.512,
          0.498,
          0.481,
          0.489,
          0.517,
          0.498,
          0.517,
          0.523,
          0.468,
          0.49,
          0.495,
          0.485,
          0.503,
          0.5,
          0.492,
          0.491,
          0.504,
          0.504,
          0.513,
          0.494,
          0.505,
          0.502,
          0.485,
          0.507,
          0.51,
          0.492,
          0.518,
          0.495,
          0.505,
          0.5,
          0.488,
          0.516,
          0.491,
          0.484,
          0.525,
          0.519,
          0.493,
          0.489,
          0.509,
          0.503,
          0.498,
          0.497,
          0.496,
          0.501,
          0.487,
          0.487,
          0.501,
          0.471,
          0.523,
          0.502,
          0.497,
          0.509,
          0.5,
          0.505,
          0.501,
          0.485,
          0.511,
          0.5,
          0.488,
          0.473,
          0.492,
          0.493,
          0.523,
          0.506,
          0.51,
          0.492,
          0.485,
          0.494,
          0.497,
          0.507,
          0.497,
          0.483,
          0.503,
          0.499,
          0.519,
          0.494,
          0.52,
          0.539,
          0.49,
          0.493,
          0.491,
          0.519,
          0.481,
          0.494,
          0.495,
          0.498,
          0.469,
          0.536,
          0.479,
          0.478,
          0.52,
          0.506,
          0.484,
          0.49,
          0.502,
          0.488,
          0.491,
          0.531,
          0.472,
          0.488,
          0.468,
          0.484,
          0.499,
          0.5,
          0.519,
          0.511,
          0.495,
          0.518,
          0.522,
          0.472,
          0.507,
          0.5,
          0.502,
          0.491,
          0.485,
          0.501,
          0.502,
          0.499,
          0.482,
          0.526,
          0.501,
          0.467,
          0.513,
          0.503,
          0.484,
          0.475,
          0.498,
          0.491,
          0.535,
          0.504,
          0.513,
          0.469,
          0.493,
          0.541,
          0.495,
          0.496,
          0.469,
          0.497,
          0.491,
          0.511,
          0.501,
          0.469,
          0.488,
          0.498,
          0.497,
          0.502,
          0.514,
          0.499,
          0.514,
          0.516,
          0.493,
          0.5,
          0.488,
          0.505,
          0.513,
          0.523,
          0.494,
          0.469,
          0.475,
          0.481,
          0.504,
          0.524,
          0.515,
          0.501,
          0.521,
          0.498,
          0.518,
          0.498,
          0.495,
          0.517,
          0.488,
          0.523,
          0.482,
          0.473,
          0.501,
          0.499,
          0.5,
          0.505,
          0.52,
          0.518,
          0.514,
          0.51,
          0.525,
          0.494,
          0.5,
          0.506,
          0.52,
          0.499,
          0.49,
          0.503,
          0.47,
          0.486,
          0.501,
          0.492,
          0.503,
          0.513,
          0.503,
          0.51,
          0.482,
          0.492,
          0.527,
          0.475,
          0.496,
          0.49,
          0.507,
          0.522,
          0.498,
          0.5,
          0.49,
          0.487,
          0.459,
          0.495,
          0.507,
          0.478,
          0.482,
          0.496,
          0.513,
          0.481,
          0.5,
          0.491,
          0.48,
          0.508,
          0.505,
          0.505,
          0.5,
          0.5,
          0.487,
          0.504,
          0.516,
          0.48,
          0.504,
          0.501,
          0.493,
          0.506,
          0.506,
          0.509,
          0.483,
          0.508,
          0.49,
          0.48,
          0.491,
          0.511,
          0.482,
          0.512,
          0.476,
          0.512,
          0.511,
          0.526,
          0.48,
          0.486,
          0.488,
          0.476,
          0.484,
          0.503,
          0.486,
          0.481,
          0.502,
          0.505,
          0.473,
          0.509,
          0.501,
          0.5,
          0.507,
          0.499,
          0.499,
          0.491,
          0.464,
          0.511,
          0.503,
          0.505,
          0.488,
          0.48,
          0.464,
          0.485,
          0.497,
          0.481,
          0.478,
          0.506,
          0.498,
          0.48,
          0.46,
          0.521,
          0.521,
          0.51,
          0.486,
          0.496,
          0.497,
          0.481,
          0.517,
          0.531,
          0.495,
          0.512,
          0.498,
          0.532,
          0.555,
          0.513,
          0.48,
          0.494,
          0.497,
          0.474,
          0.497,
          0.472,
          0.513,
          0.507,
          0.485,
          0.504,
          0.504,
          0.502,
          0.521,
          0.531,
          0.489,
          0.524,
          0.499,
          0.508,
          0.521,
          0.502,
          0.495,
          0.508,
          0.523,
          0.479,
          0.489,
          0.513,
          0.476,
          0.506,
          0.514,
          0.476,
          0.482,
          0.502,
          0.48,
          0.482,
          0.493,
          0.515,
          0.479,
          0.465,
          0.473,
          0.508,
          0.488,
          0.512,
          0.478,
          0.506,
          0.49,
          0.529,
          0.496,
          0.506,
          0.489,
          0.49,
          0.516,
          0.487,
          0.501,
          0.492,
          0.507,
          0.501,
          0.501,
          0.509,
          0.501,
          0.497,
          0.5,
          0.489,
          0.508,
          0.485,
          0.515,
          0.516,
          0.511,
          0.489,
          0.496,
          0.471,
          0.502,
          0.538,
          0.497,
          0.506,
          0.476,
          0.506,
          0.504,
          0.508,
          0.519,
          0.523,
          0.517,
          0.515,
          0.482,
          0.509,
          0.54,
          0.512,
          0.52,
          0.492,
          0.476,
          0.483,
          0.514,
          0.488,
          0.489,
          0.485,
          0.486,
          0.509,
          0.515,
          0.5,
          0.525,
          0.487,
          0.495,
          0.497,
          0.497,
          0.514,
          0.523,
          0.478,
          0.545,
          0.483,
          0.489,
          0.523,
          0.485,
          0.496,
          0.502,
          0.503,
          0.5,
          0.493,
          0.502,
          0.533,
          0.516,
          0.49,
          0.522,
          0.506,
          0.525,
          0.488,
          0.486,
          0.493,
          0.526,
          0.516,
          0.492,
          0.48,
          0.529,
          0.492,
          0.514,
          0.511,
          0.514,
          0.523,
          0.502,
          0.483,
          0.505,
          0.515,
          0.467,
          0.483,
          0.488,
          0.502,
          0.515,
          0.515,
          0.504,
          0.495,
          0.512,
          0.493,
          0.476,
          0.522,
          0.488,
          0.475,
          0.492,
          0.499,
          0.517,
          0.496,
          0.496,
          0.523,
          0.486,
          0.504,
          0.508,
          0.508,
          0.491,
          0.492,
          0.503,
          0.451,
          0.524,
          0.512,
          0.5,
          0.484,
          0.5,
          0.514,
          0.512,
          0.506,
          0.483,
          0.507,
          0.544,
          0.523,
          0.498,
          0.492,
          0.504,
          0.5,
          0.521,
          0.495,
          0.512,
          0.473,
          0.487,
          0.501,
          0.53,
          0.511,
          0.541,
          0.522,
          0.499,
          0.499,
          0.49,
          0.49,
          0.514,
          0.502,
          0.505,
          0.51,
          0.486,
          0.493,
          0.536,
          0.502,
          0.483,
          0.48,
          0.501,
          0.508,
          0.495,
          0.498,
          0.481,
          0.505,
          0.508,
          0.531,
          0.516,
          0.514,
          0.502,
          0.503,
          0.512,
          0.484,
          0.486,
          0.516,
          0.503,
          0.478,
          0.494,
          0.519,
          0.497,
          0.501,
          0.507,
          0.489,
          0.522,
          0.494,
          0.51,
          0.511,
          0.534,
          0.519,
          0.482,
          0.498,
          0.494,
          0.504,
          0.525,
          0.469,
          0.497,
          0.509,
          0.501,
          0.538,
          0.521,
          0.523,
          0.514,
          0.501,
          0.502,
          0.499,
          0.457,
          0.505,
          0.484,
          0.483,
          0.49,
          0.496,
          0.501,
          0.499,
          0.502,
          0.479,
          0.472,
          0.474,
          0.529,
          0.499,
          0.465,
          0.519,
          0.503,
          0.519,
          0.492,
          0.487,
          0.521,
          0.495,
          0.491,
          0.497,
          0.545,
          0.487,
          0.501,
          0.485,
          0.481,
          0.511,
          0.48,
          0.518,
          0.495,
          0.519,
          0.501,
          0.511,
          0.527,
          0.501,
          0.485,
          0.52,
          0.498,
          0.512,
          0.493,
          0.511,
          0.509,
          0.505,
          0.492,
          0.492,
          0.49,
          0.492,
          0.501,
          0.522,
          0.501,
          0.456,
          0.496,
          0.514,
          0.486,
          0.527,
          0.501,
          0.515,
          0.522,
          0.512,
          0.477,
          0.513,
          0.504,
          0.468,
          0.506,
          0.487,
          0.505,
          0.482,
          0.506,
          0.492,
          0.516,
          0.504,
          0.483,
          0.516,
          0.522,
          0.502,
          0.495,
          0.486,
          0.543,
          0.5,
          0.499,
          0.517,
          0.507,
          0.491,
          0.517,
          0.505,
          0.501,
          0.5,
          0.51,
          0.495,
          0.495,
          0.481,
          0.489,
          0.498,
          0.525,
          0.495,
          0.528,
          0.526,
          0.477,
          0.485,
          0.493,
          0.477,
          0.476,
          0.478,
          0.458,
          0.525,
          0.505,
          0.505,
          0.466,
          0.523,
          0.485,
          0.518,
          0.472,
          0.497,
          0.503,
          0.493,
          0.481,
          0.484,
          0.519,
          0.528,
          0.495,
          0.51,
          0.511,
          0.498,
          0.515,
          0.489,
          0.51,
          0.484,
          0.485,
          0.485,
          0.489,
          0.48,
          0.524,
          0.475,
          0.493,
          0.491,
          0.522,
          0.491,
          0.508,
          0.485,
          0.488,
          0.479,
          0.518,
          0.51,
          0.512,
          0.527,
          0.51,
          0.498,
          0.488,
          0.494,
          0.485,
          0.511,
          0.489,
          0.509,
          0.499,
          0.502,
          0.493,
          0.477,
          0.517,
          0.483,
          0.512,
          0.471,
          0.498,
          0.484,
          0.484,
          0.482,
          0.504,
          0.536,
          0.502,
          0.518,
          0.516,
          0.486,
          0.477,
          0.5,
          0.483,
          0.511,
          0.497,
          0.509,
          0.517,
          0.51,
          0.491,
          0.485,
          0.491,
          0.519,
          0.505,
          0.494,
          0.498,
          0.51,
          0.482,
          0.499,
          0.469,
          0.502,
          0.517,
          0.489,
          0.511,
          0.514,
          0.502,
          0.51,
          0.455,
          0.51,
          0.493,
          0.485,
          0.505,
          0.512,
          0.482,
          0.516,
          0.52,
          0.508,
          0.49,
          0.493,
          0.49,
          0.493,
          0.525,
          0.499,
          0.478,
          0.497,
          0.512,
          0.474,
          0.511,
          0.474,
          0.467,
          0.52,
          0.505,
          0.502,
          0.5,
          0.504,
          0.519,
          0.5,
          0.491,
          0.485,
          0.5
         ],
         "xaxis": "x",
         "yaxis": "y"
        }
       ],
       "layout": {
        "barmode": "relative",
        "legend": {
         "tracegroupgap": 0
        },
        "template": {
         "data": {
          "bar": [
           {
            "error_x": {
             "color": "#2a3f5f"
            },
            "error_y": {
             "color": "#2a3f5f"
            },
            "marker": {
             "line": {
              "color": "#E5ECF6",
              "width": 0.5
             },
             "pattern": {
              "fillmode": "overlay",
              "size": 10,
              "solidity": 0.2
             }
            },
            "type": "bar"
           }
          ],
          "barpolar": [
           {
            "marker": {
             "line": {
              "color": "#E5ECF6",
              "width": 0.5
             },
             "pattern": {
              "fillmode": "overlay",
              "size": 10,
              "solidity": 0.2
             }
            },
            "type": "barpolar"
           }
          ],
          "carpet": [
           {
            "aaxis": {
             "endlinecolor": "#2a3f5f",
             "gridcolor": "white",
             "linecolor": "white",
             "minorgridcolor": "white",
             "startlinecolor": "#2a3f5f"
            },
            "baxis": {
             "endlinecolor": "#2a3f5f",
             "gridcolor": "white",
             "linecolor": "white",
             "minorgridcolor": "white",
             "startlinecolor": "#2a3f5f"
            },
            "type": "carpet"
           }
          ],
          "choropleth": [
           {
            "colorbar": {
             "outlinewidth": 0,
             "ticks": ""
            },
            "type": "choropleth"
           }
          ],
          "contour": [
           {
            "colorbar": {
             "outlinewidth": 0,
             "ticks": ""
            },
            "colorscale": [
             [
              0,
              "#0d0887"
             ],
             [
              0.1111111111111111,
              "#46039f"
             ],
             [
              0.2222222222222222,
              "#7201a8"
             ],
             [
              0.3333333333333333,
              "#9c179e"
             ],
             [
              0.4444444444444444,
              "#bd3786"
             ],
             [
              0.5555555555555556,
              "#d8576b"
             ],
             [
              0.6666666666666666,
              "#ed7953"
             ],
             [
              0.7777777777777778,
              "#fb9f3a"
             ],
             [
              0.8888888888888888,
              "#fdca26"
             ],
             [
              1,
              "#f0f921"
             ]
            ],
            "type": "contour"
           }
          ],
          "contourcarpet": [
           {
            "colorbar": {
             "outlinewidth": 0,
             "ticks": ""
            },
            "type": "contourcarpet"
           }
          ],
          "heatmap": [
           {
            "colorbar": {
             "outlinewidth": 0,
             "ticks": ""
            },
            "colorscale": [
             [
              0,
              "#0d0887"
             ],
             [
              0.1111111111111111,
              "#46039f"
             ],
             [
              0.2222222222222222,
              "#7201a8"
             ],
             [
              0.3333333333333333,
              "#9c179e"
             ],
             [
              0.4444444444444444,
              "#bd3786"
             ],
             [
              0.5555555555555556,
              "#d8576b"
             ],
             [
              0.6666666666666666,
              "#ed7953"
             ],
             [
              0.7777777777777778,
              "#fb9f3a"
             ],
             [
              0.8888888888888888,
              "#fdca26"
             ],
             [
              1,
              "#f0f921"
             ]
            ],
            "type": "heatmap"
           }
          ],
          "heatmapgl": [
           {
            "colorbar": {
             "outlinewidth": 0,
             "ticks": ""
            },
            "colorscale": [
             [
              0,
              "#0d0887"
             ],
             [
              0.1111111111111111,
              "#46039f"
             ],
             [
              0.2222222222222222,
              "#7201a8"
             ],
             [
              0.3333333333333333,
              "#9c179e"
             ],
             [
              0.4444444444444444,
              "#bd3786"
             ],
             [
              0.5555555555555556,
              "#d8576b"
             ],
             [
              0.6666666666666666,
              "#ed7953"
             ],
             [
              0.7777777777777778,
              "#fb9f3a"
             ],
             [
              0.8888888888888888,
              "#fdca26"
             ],
             [
              1,
              "#f0f921"
             ]
            ],
            "type": "heatmapgl"
           }
          ],
          "histogram": [
           {
            "marker": {
             "pattern": {
              "fillmode": "overlay",
              "size": 10,
              "solidity": 0.2
             }
            },
            "type": "histogram"
           }
          ],
          "histogram2d": [
           {
            "colorbar": {
             "outlinewidth": 0,
             "ticks": ""
            },
            "colorscale": [
             [
              0,
              "#0d0887"
             ],
             [
              0.1111111111111111,
              "#46039f"
             ],
             [
              0.2222222222222222,
              "#7201a8"
             ],
             [
              0.3333333333333333,
              "#9c179e"
             ],
             [
              0.4444444444444444,
              "#bd3786"
             ],
             [
              0.5555555555555556,
              "#d8576b"
             ],
             [
              0.6666666666666666,
              "#ed7953"
             ],
             [
              0.7777777777777778,
              "#fb9f3a"
             ],
             [
              0.8888888888888888,
              "#fdca26"
             ],
             [
              1,
              "#f0f921"
             ]
            ],
            "type": "histogram2d"
           }
          ],
          "histogram2dcontour": [
           {
            "colorbar": {
             "outlinewidth": 0,
             "ticks": ""
            },
            "colorscale": [
             [
              0,
              "#0d0887"
             ],
             [
              0.1111111111111111,
              "#46039f"
             ],
             [
              0.2222222222222222,
              "#7201a8"
             ],
             [
              0.3333333333333333,
              "#9c179e"
             ],
             [
              0.4444444444444444,
              "#bd3786"
             ],
             [
              0.5555555555555556,
              "#d8576b"
             ],
             [
              0.6666666666666666,
              "#ed7953"
             ],
             [
              0.7777777777777778,
              "#fb9f3a"
             ],
             [
              0.8888888888888888,
              "#fdca26"
             ],
             [
              1,
              "#f0f921"
             ]
            ],
            "type": "histogram2dcontour"
           }
          ],
          "mesh3d": [
           {
            "colorbar": {
             "outlinewidth": 0,
             "ticks": ""
            },
            "type": "mesh3d"
           }
          ],
          "parcoords": [
           {
            "line": {
             "colorbar": {
              "outlinewidth": 0,
              "ticks": ""
             }
            },
            "type": "parcoords"
           }
          ],
          "pie": [
           {
            "automargin": true,
            "type": "pie"
           }
          ],
          "scatter": [
           {
            "fillpattern": {
             "fillmode": "overlay",
             "size": 10,
             "solidity": 0.2
            },
            "type": "scatter"
           }
          ],
          "scatter3d": [
           {
            "line": {
             "colorbar": {
              "outlinewidth": 0,
              "ticks": ""
             }
            },
            "marker": {
             "colorbar": {
              "outlinewidth": 0,
              "ticks": ""
             }
            },
            "type": "scatter3d"
           }
          ],
          "scattercarpet": [
           {
            "marker": {
             "colorbar": {
              "outlinewidth": 0,
              "ticks": ""
             }
            },
            "type": "scattercarpet"
           }
          ],
          "scattergeo": [
           {
            "marker": {
             "colorbar": {
              "outlinewidth": 0,
              "ticks": ""
             }
            },
            "type": "scattergeo"
           }
          ],
          "scattergl": [
           {
            "marker": {
             "colorbar": {
              "outlinewidth": 0,
              "ticks": ""
             }
            },
            "type": "scattergl"
           }
          ],
          "scattermapbox": [
           {
            "marker": {
             "colorbar": {
              "outlinewidth": 0,
              "ticks": ""
             }
            },
            "type": "scattermapbox"
           }
          ],
          "scatterpolar": [
           {
            "marker": {
             "colorbar": {
              "outlinewidth": 0,
              "ticks": ""
             }
            },
            "type": "scatterpolar"
           }
          ],
          "scatterpolargl": [
           {
            "marker": {
             "colorbar": {
              "outlinewidth": 0,
              "ticks": ""
             }
            },
            "type": "scatterpolargl"
           }
          ],
          "scatterternary": [
           {
            "marker": {
             "colorbar": {
              "outlinewidth": 0,
              "ticks": ""
             }
            },
            "type": "scatterternary"
           }
          ],
          "surface": [
           {
            "colorbar": {
             "outlinewidth": 0,
             "ticks": ""
            },
            "colorscale": [
             [
              0,
              "#0d0887"
             ],
             [
              0.1111111111111111,
              "#46039f"
             ],
             [
              0.2222222222222222,
              "#7201a8"
             ],
             [
              0.3333333333333333,
              "#9c179e"
             ],
             [
              0.4444444444444444,
              "#bd3786"
             ],
             [
              0.5555555555555556,
              "#d8576b"
             ],
             [
              0.6666666666666666,
              "#ed7953"
             ],
             [
              0.7777777777777778,
              "#fb9f3a"
             ],
             [
              0.8888888888888888,
              "#fdca26"
             ],
             [
              1,
              "#f0f921"
             ]
            ],
            "type": "surface"
           }
          ],
          "table": [
           {
            "cells": {
             "fill": {
              "color": "#EBF0F8"
             },
             "line": {
              "color": "white"
             }
            },
            "header": {
             "fill": {
              "color": "#C8D4E3"
             },
             "line": {
              "color": "white"
             }
            },
            "type": "table"
           }
          ]
         },
         "layout": {
          "annotationdefaults": {
           "arrowcolor": "#2a3f5f",
           "arrowhead": 0,
           "arrowwidth": 1
          },
          "autotypenumbers": "strict",
          "coloraxis": {
           "colorbar": {
            "outlinewidth": 0,
            "ticks": ""
           }
          },
          "colorscale": {
           "diverging": [
            [
             0,
             "#8e0152"
            ],
            [
             0.1,
             "#c51b7d"
            ],
            [
             0.2,
             "#de77ae"
            ],
            [
             0.3,
             "#f1b6da"
            ],
            [
             0.4,
             "#fde0ef"
            ],
            [
             0.5,
             "#f7f7f7"
            ],
            [
             0.6,
             "#e6f5d0"
            ],
            [
             0.7,
             "#b8e186"
            ],
            [
             0.8,
             "#7fbc41"
            ],
            [
             0.9,
             "#4d9221"
            ],
            [
             1,
             "#276419"
            ]
           ],
           "sequential": [
            [
             0,
             "#0d0887"
            ],
            [
             0.1111111111111111,
             "#46039f"
            ],
            [
             0.2222222222222222,
             "#7201a8"
            ],
            [
             0.3333333333333333,
             "#9c179e"
            ],
            [
             0.4444444444444444,
             "#bd3786"
            ],
            [
             0.5555555555555556,
             "#d8576b"
            ],
            [
             0.6666666666666666,
             "#ed7953"
            ],
            [
             0.7777777777777778,
             "#fb9f3a"
            ],
            [
             0.8888888888888888,
             "#fdca26"
            ],
            [
             1,
             "#f0f921"
            ]
           ],
           "sequentialminus": [
            [
             0,
             "#0d0887"
            ],
            [
             0.1111111111111111,
             "#46039f"
            ],
            [
             0.2222222222222222,
             "#7201a8"
            ],
            [
             0.3333333333333333,
             "#9c179e"
            ],
            [
             0.4444444444444444,
             "#bd3786"
            ],
            [
             0.5555555555555556,
             "#d8576b"
            ],
            [
             0.6666666666666666,
             "#ed7953"
            ],
            [
             0.7777777777777778,
             "#fb9f3a"
            ],
            [
             0.8888888888888888,
             "#fdca26"
            ],
            [
             1,
             "#f0f921"
            ]
           ]
          },
          "colorway": [
           "#636efa",
           "#EF553B",
           "#00cc96",
           "#ab63fa",
           "#FFA15A",
           "#19d3f3",
           "#FF6692",
           "#B6E880",
           "#FF97FF",
           "#FECB52"
          ],
          "font": {
           "color": "#2a3f5f"
          },
          "geo": {
           "bgcolor": "white",
           "lakecolor": "white",
           "landcolor": "#E5ECF6",
           "showlakes": true,
           "showland": true,
           "subunitcolor": "white"
          },
          "hoverlabel": {
           "align": "left"
          },
          "hovermode": "closest",
          "mapbox": {
           "style": "light"
          },
          "paper_bgcolor": "white",
          "plot_bgcolor": "#E5ECF6",
          "polar": {
           "angularaxis": {
            "gridcolor": "white",
            "linecolor": "white",
            "ticks": ""
           },
           "bgcolor": "#E5ECF6",
           "radialaxis": {
            "gridcolor": "white",
            "linecolor": "white",
            "ticks": ""
           }
          },
          "scene": {
           "xaxis": {
            "backgroundcolor": "#E5ECF6",
            "gridcolor": "white",
            "gridwidth": 2,
            "linecolor": "white",
            "showbackground": true,
            "ticks": "",
            "zerolinecolor": "white"
           },
           "yaxis": {
            "backgroundcolor": "#E5ECF6",
            "gridcolor": "white",
            "gridwidth": 2,
            "linecolor": "white",
            "showbackground": true,
            "ticks": "",
            "zerolinecolor": "white"
           },
           "zaxis": {
            "backgroundcolor": "#E5ECF6",
            "gridcolor": "white",
            "gridwidth": 2,
            "linecolor": "white",
            "showbackground": true,
            "ticks": "",
            "zerolinecolor": "white"
           }
          },
          "shapedefaults": {
           "line": {
            "color": "#2a3f5f"
           }
          },
          "ternary": {
           "aaxis": {
            "gridcolor": "white",
            "linecolor": "white",
            "ticks": ""
           },
           "baxis": {
            "gridcolor": "white",
            "linecolor": "white",
            "ticks": ""
           },
           "bgcolor": "#E5ECF6",
           "caxis": {
            "gridcolor": "white",
            "linecolor": "white",
            "ticks": ""
           }
          },
          "title": {
           "x": 0.05
          },
          "xaxis": {
           "automargin": true,
           "gridcolor": "white",
           "linecolor": "white",
           "ticks": "",
           "title": {
            "standoff": 15
           },
           "zerolinecolor": "white",
           "zerolinewidth": 2
          },
          "yaxis": {
           "automargin": true,
           "gridcolor": "white",
           "linecolor": "white",
           "ticks": "",
           "title": {
            "standoff": 15
           },
           "zerolinecolor": "white",
           "zerolinewidth": 2
          }
         }
        },
        "title": {
         "text": "Proportion of Red Sampling Distribution"
        },
        "xaxis": {
         "anchor": "y",
         "domain": [
          0,
          1
         ],
         "title": {
          "text": "Proportion of Red"
         }
        },
        "yaxis": {
         "anchor": "x",
         "domain": [
          0,
          1
         ],
         "title": {
          "text": "count"
         }
        }
       }
      }
     },
     "metadata": {},
     "output_type": "display_data"
    }
   ],
   "source": [
    "import pandas as pd\n",
    "import plotly.express as px\n",
    "np.random.seed(seed=1)\n",
    "num_samples = 1000  # how many bootstrap samples should we take?\n",
    "sample_size = 1000  # size of each bootstrap sample?\n",
    "sample_proportions = []\n",
    "for i in range(num_samples):\n",
    "    sample = np.random.choice(['Red', 'Black'], size=sample_size, replace=True)\n",
    "    sample_proportions += [np.count_nonzero(sample == 'Red') / sample_size]\n",
    "fig = px.histogram(pd.DataFrame({'Proportion of Red': sample_proportions}), x='Proportion of Red', \n",
    "                   title='Proportion of Red Sampling Distribution')\n",
    "fig.show()\n"
   ]
  },
  {
   "attachments": {},
   "cell_type": "markdown",
   "metadata": {},
   "source": [
    "The above graph is a *sampling distribution*, which is the distribution of our test statistic(proportion of red) through repeated sampling of a population. This differs from looking at the distribution for a given population, or the *data distribution* (usually looks like a curve opposed to a histogram) "
   ]
  },
  {
   "attachments": {},
   "cell_type": "markdown",
   "metadata": {},
   "source": [
    "Calculating a p-value (the probability of a test statistic being as or more extreme than the observed test statistic if the null hypothesis was true) will help us determine whether we have evidence against the null hypothesis.  "
   ]
  },
  {
   "cell_type": "code",
   "execution_count": 9,
   "metadata": {},
   "outputs": [
    {
     "name": "stdout",
     "output_type": "stream",
     "text": [
      "705 sample statistics were as or more extreme than our observed test statistic of 0.494, giving us a p-value of 0.705\n"
     ]
    }
   ],
   "source": [
    "num_more_extreme = (abs(np.array(sample_proportions) - 0.5) >= abs(test_stat - 0.5)).sum()\n",
    "p_value = num_more_extreme / num_samples\n",
    "print(str(num_more_extreme) + ' sample statistics were as or more extreme than our observed test statistic of ' + str(test_stat) + ', giving us a p-value of ' + str(p_value))"
   ]
  },
  {
   "attachments": {},
   "cell_type": "markdown",
   "metadata": {},
   "source": [
    "<p align=\"center\">\n",
    "  <img src=\"https://www.jcpcarchives.org/userfiles/values-of-p-Inference.jpg\" />\n",
    "</p>\n",
    "\n",
    "Since our p-value is more than 0.10, we have no evidence against the null hypothesis of the probability of spinning red is 0.5"
   ]
  },
  {
   "attachments": {},
   "cell_type": "markdown",
   "metadata": {},
   "source": [
    "## Discussion 2: Different Types of P-Values (30 minutes)\n",
    "### One sample t-test\n",
    "- Parametric null hypothesis assumption\n",
    "\n",
    "- Estimate standard deviation ${\\sigma}$ of null hypothesis with the sample standard deviation ${\\hat\\sigma}$\n",
    "\n",
    "    - Hat symbolizes estimation\n",
    "<br/><br/>\n",
    "- Allows us to theoretically derive sampling distribution of test statistic, so p-value derived *theoretically*\n",
    "\n",
    "    - P-value has same definition, but quantified by integrating area under theoretical distribution curve, rather than counting values as in our simulation based approach\n",
    "    \n",
    "    - Relies on parametric assumption\n",
    "\n",
    "    - How theoretical derivation works for later stats courses"
   ]
  },
  {
   "attachments": {},
   "cell_type": "markdown",
   "metadata": {},
   "source": [
    "Exp. Our null hypothesis for the \"Wheel of Destiny\" problem becomes  \n",
    "$\n",
    "\\begin{align}\n",
    "H_0 &: {} \\mu = 8 \\quad\\text{(null hypothesis)}\\\\\n",
    "&\\color{white}{:} \\text{ } \\sigma \\text{ estimated as sample standard deviation } \\hat{\\sigma} \\\\\n",
    "&\\color{white}{:} {} \\text{ and the population is normally distributed}\\\\\n",
    "H_1 &:{} H_0 \\text{ is } \\text{False}\n",
    "\\end{align}$\n",
    "- Need all the assumptions in the null hypothesis to hold for the p-value to make sense\n",
    "- Different from simulaton approach, where we just needed the assumptions in the null hypothesis to form a sampling distribution, from which a p-value can be calculated from.   "
   ]
  },
  {
   "cell_type": "code",
   "execution_count": 10,
   "metadata": {},
   "outputs": [
    {
     "data": {
      "text/plain": [
       "TtestResult(statistic=-0.37931084646688906, pvalue=0.7045376554833558, df=999)"
      ]
     },
     "execution_count": 10,
     "metadata": {},
     "output_type": "execute_result"
    }
   ],
   "source": [
    "# From \"Wheel of Destiny Example\"\n",
    "from scipy import stats\n",
    "stats.ttest_1samp(numeric_spin_results, 0.5)"
   ]
  },
  {
   "attachments": {},
   "cell_type": "markdown",
   "metadata": {},
   "source": [
    "We observe a theoritical t-test based p-value of 0.705... which again provides no evidence against the null hypothesis of the probability of spinning red is 0.5"
   ]
  },
  {
   "attachments": {},
   "cell_type": "markdown",
   "metadata": {},
   "source": [
    "### Median Sign Test\n",
    "\n",
    "- Null hypothesis about the median\n",
    "\n",
    "- By assumption of median, half of the sample will be greater than and half will be less than the null hypothesis assumed median\n",
    "\n",
    "    - Implies binomial sampling distribution (a probability distribution that takes on one of two independent values)\n",
    "    \n",
    "    - Nonparametric test, no parametric assumption as we know the sampling distribution! \n",
    "    \n",
    "- \"Sign test\" puts negative sign on samples less than median and positive sign on samples more than median, should be a 50-50 split. \n",
    "We can derive a sampling distribution from this test, calculate\n",
    "    \n"
   ]
  },
  {
   "attachments": {},
   "cell_type": "markdown",
   "metadata": {},
   "source": [
    "Exp. Our null hypothesis for the \"Wheel of Destiny\" problem becomes  \n",
    "$\n",
    "\\begin{align}\n",
    "H_0 &: {} Median = 0.5\\\\\n",
    "H_1 &:{} H_0 \\text{ is } \\text{False}\n",
    "\\end{align}$\n"
   ]
  },
  {
   "cell_type": "code",
   "execution_count": 11,
   "metadata": {},
   "outputs": [
    {
     "name": "stdout",
     "output_type": "stream",
     "text": [
      "494 samples out of 1000 are greater than the median, for 49.4%\n"
     ]
    }
   ],
   "source": [
    "spins_greater_than = ((numeric_spin_results > 0.5).sum()+(numeric_spin_results >= 0.5).sum())/2  # out of 1000\n",
    "percent = (spins_greater_than / spins) * 100\n",
    "print(str(int(spins_greater_than)) + ' samples out of ' + str(spins) + ' are greater than the median, for ' + str(percent) + '%')"
   ]
  },
  {
   "cell_type": "code",
   "execution_count": 12,
   "metadata": {},
   "outputs": [
    {
     "data": {
      "text/plain": [
       "0.6810229832764916"
      ]
     },
     "execution_count": 12,
     "metadata": {},
     "output_type": "execute_result"
    }
   ],
   "source": [
    "# sign test for theoretical p-value. Relies on knowledge of binomial, cumulative distribution and sign test\n",
    "(stats.binom(n=spins,p=0.5).cdf(spins_greater_than-1))*2"
   ]
  },
  {
   "attachments": {},
   "cell_type": "markdown",
   "metadata": {},
   "source": [
    "Our theoretical p-value is 0.681... which again provides no evidence against the null hypothesis of the probability of spinning red is 0.5"
   ]
  },
  {
   "attachments": {},
   "cell_type": "markdown",
   "metadata": {},
   "source": [
    "### Wilcoxon Signed Ranked Test\n",
    "- Nonparametric sign test (no distribution assumptions)\n",
    "\n",
    "- Compare medians of two dependent samples to see if they are statistically significantly different from each other\n",
    "\n",
    "    - Dependent samples signifies subjects in one group provide information about subjects in the other group\n",
    "<br/><br/>\n",
    "- The \"signed ranked test\" ranks the differences between the two observations (if your two samples have size n, rank 1 given to smallest difference while rank n given to largest difference). Then applies negative sign when the difference is negative (and positive sign when difference positive)\n",
    "    \n",
    "    - Tests whether the mean of these signed ranks is 0\n",
    "<br/><br/>"
   ]
  },
  {
   "attachments": {},
   "cell_type": "markdown",
   "metadata": {},
   "source": [
    "Exp. Is there a difference in the 6th grade and 7th grade exam scores for a group of students?  \n",
    "$\n",
    "\\begin{align}\n",
    "H_0 &: {} \\text{median}_{grade 6} - \\text{median}_{grade 7} = 0\\\\\n",
    "H_1 &:{} H_0 \\text{ is } \\text{False}\n",
    "\\end{align}$"
   ]
  },
  {
   "cell_type": "code",
   "execution_count": 85,
   "metadata": {},
   "outputs": [
    {
     "data": {
      "text/plain": [
       "[23,\n",
       " 14,\n",
       " 43,\n",
       " 22,\n",
       " 24,\n",
       " 3,\n",
       " 21,\n",
       " -2,\n",
       " 17,\n",
       " 24,\n",
       " 33,\n",
       " 19,\n",
       " 42,\n",
       " -4,\n",
       " 5,\n",
       " 7,\n",
       " 47,\n",
       " 18,\n",
       " 33,\n",
       " 34,\n",
       " 13,\n",
       " 37,\n",
       " 16,\n",
       " 44,\n",
       " 23,\n",
       " 35,\n",
       " 10,\n",
       " 37,\n",
       " 2,\n",
       " 20,\n",
       " 23,\n",
       " 20,\n",
       " 2,\n",
       " 33,\n",
       " 3,\n",
       " 7,\n",
       " 2,\n",
       " 12,\n",
       " 28,\n",
       " 22,\n",
       " 19,\n",
       " 6,\n",
       " 28,\n",
       " 30,\n",
       " 7,\n",
       " -4,\n",
       " 14,\n",
       " 26,\n",
       " -3,\n",
       " 21,\n",
       " 38,\n",
       " 18,\n",
       " -2,\n",
       " 7,\n",
       " 7,\n",
       " 8,\n",
       " 26,\n",
       " 9,\n",
       " 3,\n",
       " -6,\n",
       " 5,\n",
       " 13,\n",
       " -12,\n",
       " 45,\n",
       " -8,\n",
       " 30,\n",
       " 12,\n",
       " 19,\n",
       " 36,\n",
       " 23,\n",
       " 14,\n",
       " 5,\n",
       " 16,\n",
       " 18,\n",
       " 18,\n",
       " 35,\n",
       " 12,\n",
       " -11,\n",
       " 22,\n",
       " -3,\n",
       " 3,\n",
       " 19,\n",
       " 14,\n",
       " 42,\n",
       " 9,\n",
       " -12,\n",
       " -9,\n",
       " -14,\n",
       " 20,\n",
       " 29,\n",
       " 15,\n",
       " -1,\n",
       " 15,\n",
       " 22,\n",
       " 13,\n",
       " -9,\n",
       " -7,\n",
       " 22,\n",
       " 25,\n",
       " -7]"
      ]
     },
     "execution_count": 85,
     "metadata": {},
     "output_type": "execute_result"
    }
   ],
   "source": [
    "import random\n",
    "random.seed(1)\n",
    "# Assume score populations are given by below code\n",
    "grade_6_exam_scores = [random.randint(30, 70) for i in range(0, 100)]\n",
    "grade_7_exam_scores = [random.randint(50, 80) for i in range(0, 100)]\n",
    "diff = [grade_7_exam_scores[i]-grade_6_exam_scores[i] for i in range(len(grade_6_exam_scores))]  # difference in scores between grade 7 and grade 6\n",
    "diff  # most students appear to have scored better in grade 7"
   ]
  },
  {
   "cell_type": "code",
   "execution_count": 81,
   "metadata": {},
   "outputs": [
    {
     "data": {
      "text/plain": [
       "WilcoxonResult(statistic=361.0, pvalue=9.928135244444676e-14)"
      ]
     },
     "execution_count": 81,
     "metadata": {},
     "output_type": "execute_result"
    }
   ],
   "source": [
    "stats.wilcoxon(diff)"
   ]
  },
  {
   "attachments": {},
   "cell_type": "markdown",
   "metadata": {},
   "source": [
    "We observe a p-value < 0.001... which provides very strong evidence against the null hypothesis that there is no difference between grade 6 and grade 7 test scores of the same students"
   ]
  },
  {
   "attachments": {},
   "cell_type": "markdown",
   "metadata": {},
   "source": [
    "## Discussion 3 (10 minutes)\n",
    "#### Similarities between all 3 tests? Differences?"
   ]
  },
  {
   "attachments": {},
   "cell_type": "markdown",
   "metadata": {},
   "source": [
    "<!-- - **Statistical Inference for a Single Sample Proportion**: -->\n",
    "\n",
    "<!--   1. State null hypothesis $H_0$ and alternative hypothesis $H_1$ -->\n",
    "\n",
    "<!--   2. Calculate a *test statistic* based on one observed *random sample* -->\n",
    "\n",
    "<!--   3. *Simulate* samples under $H_0$ and calculate the statictic for the simulated sample. Repeat many times. (this constitutes our estimated *sampling distribution*) -->\n",
    "\n",
    "<!--   4. Evaluate the evidence against $H_0$ by calculating the *p-value* -->\n",
    "\n",
    "<!--   5. Make a conclusion (based on the strength of evidence against $H_0$) -->"
   ]
  },
  {
   "attachments": {},
   "cell_type": "markdown",
   "metadata": {},
   "source": [
    "# Group Presentation (30 min) :\n",
    "\n",
    "*I will post the following material on Quercus in advance for students to access*\n",
    "\n",
    "You are an amateur data detective that reads studies in your free time and checks whether the researchers conform to academic integrity. Here are some studies that you recently found. Identify the hypotheses (One-Group or Two-Group) of the researchers and describe how you could validate the findings using a simulation test. Make a presentation on your hypothesis test.\n",
    "\n",
    "### SCENARIOS\n",
    "\n",
    "(a) A health survey asked 200 individuals aged 20-45 living in Toronto to report the number minutes they exercised last week. Researchers were interested in determining whether the average duration of exercise differed between people who consume cannabis and those who do not consume cannabis. Assume the researchers who conducted this study found that people who used cannabis exercised, on average, 20 minutes per week. In contrast, people who did not use cannabis exercised 40 minutes per week, on average. The researchers reported a p-value of 0.249.\n",
    "\n",
    "(b) A study was conducted to examine whether a mother's exposure to alcohol while she was pregnant affects the odds of developemntal disabilities. The researchers used a birth registry of all children born in Ontario in 2018, which included approximately 130,000 births. The researchers found that 0.6% of mothers reported that their babies have developmental disabilities and 56% of babies born to mothers who consumed alcohol at least once during pregnancy. In contrast, 55% of healthy babies were born to mothers who were not exposed to alcohol. The researchers reported a p-value of 0.50.\n",
    "\n",
    "(c) A group of researchers wanted to find out whether completing a degree in Statistics is a worthy inverstment for an individual. They conducted a survey of graduates from the University of Toronto and included 1,000 recent graduates who completed their Bachelor’s degree in the last five years in the study; 80% of the respondents were female and 20% were male.The median reported income of a UofT graduate was \\\\$76,000. Among statistics graduates, the median reported income was \\\\$84,000. The researchers reported a p-value of 0.014.\n",
    "\n",
    "(d) A team of researchers were interested in understanding millennial’s views regarding housing affordability in Toronto. The team interviewed 850 millennials currently living in Toronto. 84% reported that they felt housing prices were unaffordable in the city. Suppose the researchers were interested in testing whether this proportion was different from a study published last year, which found that 92% of millennials reported that housing costs were unaffordable. The researchers reported a p-value of 0.023.\n",
    "\n",
    "(e) Suppose a drug company was interested in testing a new weight-loss drug. They enrolled 20,000 participants and assigned 10,000 to take their new drug, SlimX, and 10,000 to take a placebo. The researchers found that over 2 months, participants who took SlimX lost, on average, 5 lbs. In comparison, the control group lost 4.5 lbs during the same time. The researchers reported a p-value of <0.0001."
   ]
  },
  {
   "attachments": {},
   "cell_type": "markdown",
   "metadata": {},
   "source": [
    "### In your presentation, it is important to:  \n",
    "\n",
    "- Give an introduction of the question\n",
    "- State the hypotheses $H_0$ and $H_A$ \n",
    "- Specify the assumption(s) of your hypothesis test, if any\n",
    "- Describe the procedures for data collection (sampling) and simulation\n",
    "- Include and explain at least two terms from the vocabulary\n",
    "- Summarize your findings and interpret the results \n",
    "- Provide limitations (optional but good practice) (e.g. sample size, study design issue)"
   ]
  },
  {
   "attachments": {},
   "cell_type": "markdown",
   "metadata": {},
   "source": [
    "## Some things to keep in mind  \n",
    "\n",
    "- The introduction should state the overall purpose of the presentation   \n",
    "\n",
    "- Each main point should be “signaled.” Use *signal phrases* or *signposts* to transition between your points.\n",
    "\n",
    "- Every group member must speak during the presentation or marks will be deducted for participation.\n"
   ]
  },
  {
   "attachments": {},
   "cell_type": "markdown",
   "metadata": {},
   "source": [
    "## Vocabulary (If Time)\n",
    "- statistical inference \n",
    "- population \n",
    "- random sample \n",
    "- sampling distribution \n",
    "- simulation \n",
    "- parameter \n",
    "- simulation statistic \n",
    "- test statistic \n",
    "- p-value"
   ]
  },
  {
   "attachments": {},
   "cell_type": "markdown",
   "metadata": {},
   "source": [
    "#### This Week's Vocab (15-20 min) :\n",
    "\n",
    "- Vocabs required for the group presentation \n",
    "- Type 1 and 2 errors (also written as Type I and II errors)\n",
    "- Comparing two population means/medians/proportions\n",
    "- One-group hypothesis tests\n",
    "- sample\n",
    "- for() loops\n",
    "- diff()"
   ]
  },
  {
   "attachments": {},
   "cell_type": "markdown",
   "metadata": {},
   "source": [
    "## Type I/II Error Discussion (If Time)\n",
    "[W4_Optional-discussion-group-prompt.pdf](./W4_Optional-discussion-group-prompt.pdf)"
   ]
  }
 ],
 "metadata": {
  "kernelspec": {
   "display_name": "Python 3",
   "language": "python",
   "name": "python3"
  },
  "language_info": {
   "codemirror_mode": {
    "name": "ipython",
    "version": 3
   },
   "file_extension": ".py",
   "mimetype": "text/x-python",
   "name": "python",
   "nbconvert_exporter": "python",
   "pygments_lexer": "ipython3",
   "version": "3.11.1"
  },
  "orig_nbformat": 4
 },
 "nbformat": 4,
 "nbformat_minor": 2
}
