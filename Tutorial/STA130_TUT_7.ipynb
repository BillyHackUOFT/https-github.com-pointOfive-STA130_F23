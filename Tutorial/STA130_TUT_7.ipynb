{
 "cells": [
  {
   "cell_type": "markdown",
   "id": "db54119a",
   "metadata": {
    "slideshow": {
     "slide_type": "slide"
    }
   },
   "source": [
    "# STA130 Tutorial 7: Simple Linear Regression\n",
    "\n",
    "### Today’s agenda (5 minutes):\n",
    "\n",
    "- Q&A/vocabulary list\n",
    "- Group Discussion\n",
    "- Work on Project (if time)\n",
    "- Writing prompt"
   ]
  },
  {
   "cell_type": "markdown",
   "id": "952f491b",
   "metadata": {
    "slideshow": {
     "slide_type": "slide"
    }
   },
   "source": [
    "### This Week’s Vocab (10 minutes) :\n",
    "\n",
    "- Linear Association\n",
    "- Approximately Linear Relationship\n",
    "- Non-Linear Relationship\n",
    "- Correlation\n",
    "- Intercept and Slope / Regression Coefficients / Parameters\n",
    "- Noise/Error\n",
    "- Simple Linear Regression Model / Normal Model\n",
    "- Explanatory/independent variable / Feature / Covariate / Predictor / Parameter?\n",
    "- Outcome / Response / Dependent variable\n",
    "- Fitted Regression Line\n",
    "- Residuals\n",
    "- Least-Squares\n",
    "- Least-squares estimator\n",
    "- Measure of model fit / Coefficient of determination Rˆ2\n",
    "- Interpreting Simple Linear Model Regression\n",
    "- Indicator Variables\n",
    "- Scaling Data\n",
    "- Hypothesis Testing in Simple Linear Regression"
   ]
  },
  {
   "cell_type": "markdown",
   "id": "fac8f934",
   "metadata": {
    "slideshow": {
     "slide_type": "slide"
    }
   },
   "source": [
    "### Discussion (15 min):\n",
    "\n",
    "- What are the assumptions of linear regression?\n",
    "\n",
    "$y_i ∼ N(β_0 + β_1x_i, ~σ^2)$\n",
    "\n",
    "(This entails normality, homoskedasticity, independence, and linearity assumptions. Good knowledge for future courses.)"
   ]
  },
  {
   "cell_type": "markdown",
   "id": "7f6491a6",
   "metadata": {
    "slideshow": {
     "slide_type": "slide"
    }
   },
   "source": [
    "### Can you guess which plot corresponds to which correlation coefficient?\n",
    "\n",
    "|![](https://github.com/quin97/STA130_M7_Tutorial/blob/main/guess_corr.png)|"
   ]
  },
  {
   "cell_type": "markdown",
   "id": "05ba0273",
   "metadata": {},
   "source": [
    "### x is more strongly associated with y in which plot?\n",
    "\n",
    "|![](https://github.com/quin97/STA130_M7_Tutorial/blob/main/Anscombes_quartet.png)|"
   ]
  },
  {
   "cell_type": "markdown",
   "id": "7009f610",
   "metadata": {},
   "source": [
    "### The Starbucks Dataset Mini Lecture + Addressing Concerns (30 mins)\n",
    "#### The starbucks.csv dataset contains data on calories and carbohydrates (in grams) in Starbucks food menu items.\n",
    "\n",
    "Plot:\n",
    "\n",
    "`\n",
    "import pandas as pd\n",
    "import plotly.express as px\n",
    "starbucks = pd.read_csv(\"starbucks.csv\", encoding=\"ISO-8859-1\")\n",
    "fig = px.scatter(starbucks, x=\"carb\", y=\"calories\")\n",
    "fig.show()\n",
    "`\n",
    "\n",
    "### Related Questions\n",
    "- Before calculating anything, estimate the correlation coefficient between carbohydrates and calorie content in Starbucks menu items based on the plot you produced. Justify your answer.\n",
    "- Calculate the correlation between carbohydrate and calorie content of Starbucks menu items. How does this compare to your estimate?\n",
    "-  Write down a simple linear regression model specification for the content of Starbucks menu items with calories as the response variable and carb as the explanatory variable. Explain each term in the model.\n",
    "- Describe what the test $H_0 : \\beta_1 = 0 , H_A : \\beta_1 \\neq 0$ is testing.\n",
    "- Make a conclusion about the hypotheses you defined above\n",
    "- Compute the coefficient of determination, $R^2$ How well does the linear regression line seem to capture the relationship between carb and calories? Justify your answer.\n",
    "- Based on the Starbucks data, create a new dataset called starbucks_lunch which only contains food items which are only of the “sandwich” or “bistro box” type. Create a boxplot comparing the distribution of calories for these two types of items\n",
    "- Fit a linear regression model to test whether there is a difference in mean calories for items of type “bistro box” and items of type “sandwich”. Write a sentence summarizing your conclusion"
   ]
  },
  {
   "cell_type": "markdown",
   "id": "be12d6b7",
   "metadata": {},
   "source": [
    "### Work on project (30 mins)\n",
    "\n",
    "- Address any concerns with your TA"
   ]
  },
  {
   "cell_type": "markdown",
   "id": "e49da79b",
   "metadata": {
    "slideshow": {
     "slide_type": "slide"
    }
   },
   "source": [
    "### Writing prompt (Remaining Time): \n",
    "\n",
    "You have just been hired as the first statistician for a start up company\n",
    "that makes side walk chalk. Congratulations! You were hired because the owners are looking to add more\n",
    "credibility to their work by testing if their side walk chalk is significantly better than their competitors. This\n",
    "is based on whether children enjoy their free time more with their side walk chalk or their major competitor’s\n",
    "(Mr. Bingbong). Each child enrolled in the study received either their side walk chalk or one from their major\n",
    "competitor. An adult in the household reported how much enjoyment their children got from playing with\n",
    "the chalk on a scale from 1 to 100.\n",
    "\n",
    "The big boss at your company (Sunny Lang) has heard about how her competitors using linear regression for\n",
    "their own studies and wants you to use the same. However, the Sunny does not actually know what linear\n",
    "regression is. Therefore, you need to craft an email explaining to Miss Lang what linear regression is, and\n",
    "whether it would be appropriate to use it for the proposed analysis. You should write out a hypothetical\n",
    "linear regression equation for the experiment and define what each part of the equation is in simple terms.\n",
    "Make sure to use a minimum of 2 vocabulary words and define the words for a nonstatistical audience.\n",
    "\n",
    "### Notes on approaching the writing prompt\n",
    "\n",
    "- Hand in the assignment on Quercus\n",
    "- Use full sentences and use this week's vocabulary\n",
    "- Grammar is *not* the main focus of the assessment, but it is important that you communicate in a clear and professional manner (without slang or emojis) \n",
    "- Aim for 200 - 500 words\n",
    "- Do not spend more than 90 minutes on the prompt (unless you really need to...)"
   ]
  }
 ],
 "metadata": {
  "celltoolbar": "Slideshow",
  "kernelspec": {
   "display_name": "Python 3",
   "language": "python",
   "name": "python3"
  },
  "language_info": {
   "codemirror_mode": {
    "name": "ipython",
    "version": 3
   },
   "file_extension": ".py",
   "mimetype": "text/x-python",
   "name": "python",
   "nbconvert_exporter": "python",
   "pygments_lexer": "ipython3",
   "version": "3.8.8"
  }
 },
 "nbformat": 4,
 "nbformat_minor": 5
}
