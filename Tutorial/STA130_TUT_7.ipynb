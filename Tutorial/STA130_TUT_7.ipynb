{
 "cells": [
  {
   "cell_type": "markdown",
   "id": "db54119a",
   "metadata": {
    "slideshow": {
     "slide_type": "slide"
    }
   },
   "source": [
    "# STA130 Tutorial 7: Simple Linear Regression\n",
    "\n",
    "> The ol' $y=mx+b$, now fancily written like...\n",
    "> \n",
    "> $$y_i = \\beta_0 + \\beta_1 x_i + \\epsilon_i \\text{ with an } \\epsilon_i \\sim N(0, \\sigma)$$\n",
    ">\n",
    "> assumption that will allow us to do statistical analysis thingys\n",
    "\n",
    "| | |\n",
    "|-|-|\n",
    "| ![](https://blogs.sas.com/content/iml/files/2015/09/GLM_normal_identity.png) | **Today’s agenda:**<br><br> $\\bullet$ Q&A/vocabulary list <br><br>$\\bullet$ Group Discussion <br><br>$\\bullet$ Work on Project (if time) <br><br>$\\bullet$ Writing prompt <br><br><br><br><br><br> |"
   ]
  },
  {
   "cell_type": "markdown",
   "id": "952f491b",
   "metadata": {
    "slideshow": {
     "slide_type": "slide"
    }
   },
   "source": [
    "## This Week’s Vocab (5-10 minutes) : \n",
    "\n",
    "- Non-Linear Associations $\\color{gray}{\\text{(draw on board)}}$\n",
    "- Linear (and Approximately Linear) Associations $\\color{gray}{\\text{(draw on board)}}$\n",
    "    - Correlation (measure of Linear Association) $\\color{gray}{\\text{(draw on board)}}$ \n",
    "    - \"Correlation is not causation\"\n",
    "    \n",
    "$\\color{gray}{\\text{Get some practice with summation and index notation}}$:\n",
    "\n",
    "\\begin{align}\n",
    "r_{xy} & = {} \\require{cancel}\\frac{Cov(x,y)}{s_x s_y} = \\frac{\\frac{1}{n-1} \\sum_{i=1}^n (x_i-\\bar x)(y_i-\\bar y)}{s_x s_y}\\\\ & = {}  \\frac{\\sum_{i=1}^n (x_i-\\bar x)(y_i-\\bar y)\\xcancel{/(n-1)}}{\\sqrt{\\sum_{i=1}^n (x_i-\\bar x)^2\\xcancel{/(n-1)}} \\sqrt{\\sum_{i=1}^n (y_i-\\bar y)^2\\xcancel{/(n-1)}} }\n",
    "\\end{align}\n",
    "\n",
    "<sub><sup>At this stage you should know what correlation is, and be able to do the calculations specified by the formula; but, it's not likely to be the case that you get a deep understanding of what correlation is just based on the mathematical formula.<sub><sup>"
   ]
  },
  {
   "cell_type": "markdown",
   "id": "48a42a43",
   "metadata": {
    "slideshow": {
     "slide_type": "slide"
    }
   },
   "source": [
    "### Can you guess which plot corresponds to which correlation coefficient?\n",
    "\n",
    "|![](https://github.com/quin97/STA130_M7_Tutorial/blob/main/guess_corr.png)|"
   ]
  },
  {
   "cell_type": "markdown",
   "id": "5635d1ba",
   "metadata": {},
   "source": [
    "### x is more strongly associated with y in which plot?\n",
    "\n",
    "|![](https://github.com/quin97/STA130_M7_Tutorial/blob/main/Anscombes_quartet.png)|"
   ]
  },
  {
   "cell_type": "markdown",
   "id": "33f81f9a",
   "metadata": {
    "slideshow": {
     "slide_type": "subslide"
    }
   },
   "source": [
    "| | |\n",
    "|-|-|\n",
    "|<img src=\"https://mobiledevmemo.com/wp-content/uploads/2012/10/w5449egf111.gif\" alt=\"\" style=\"width: 450px;\"/>|<img src=\"https://sphweb.bumc.bu.edu/otlt/MPH-Modules/BS/R/R5_Correlation-Regression/Illustration%20of%20Simple%20Linear%20Regression.gif\" alt=\"\" style=\"width: 450px;\"/>|\n",
    "| | |\n",
    "|<img src=\"https://saylordotorg.github.io/text_introductory-statistics/section_14/88a6e0919d8617c025826c1e187ad591.jpg\" alt=\"\" style=\"width: 450px;\"/>|<img src=\"https://i.stack.imgur.com/sVUby.png\" alt=\"\" style=\"width: 450px;\"/>| \n"
   ]
  },
  {
   "cell_type": "markdown",
   "id": "9133119a",
   "metadata": {
    "slideshow": {
     "slide_type": "subslide"
    }
   },
   "source": [
    "## This Week’s Vocab (10-15 minutes) : \n",
    "\n",
    "- Simple Linear Regression Model / Normal Model\n",
    "\n",
    "  $$y_i = \\beta_0 + \\beta_1 x_i + \\epsilon_i \\text{ with } \\epsilon_i \\sim N(0, \\sigma)$$\n",
    "  \n",
    "- (Continuous) Outcome / Response / Dependent variable\n",
    "\n",
    "  $$y_i$$ \n",
    "   \n",
    "- Explanatory/Independent variable / Covariate / Feature / Predictor \n",
    "\n",
    "  $$x_i$$\n",
    "  \n",
    "- Intercept and Slope / Regression Coefficients / Parameters\n",
    "\n",
    "  $$\\beta_0 + \\beta_1 x_i$$ \n",
    "   \n",
    "- Noise/Error\n",
    "\n",
    "  $$y_i = \\beta_0 + \\beta_1 x_i + \\epsilon_i$$ "
   ]
  },
  {
   "cell_type": "markdown",
   "id": "a3eb49be",
   "metadata": {
    "slideshow": {
     "slide_type": "subslide"
    }
   },
   "source": [
    "## This Week’s Vocab (5-10 minutes) : \n",
    "\n",
    "- Fitted Regression Line\n",
    "\n",
    "  $$y_i = \\hat \\beta_0 + \\hat \\beta_1 x_i$$\n",
    "  \n",
    "  $$\\text{IS NOT}$$\n",
    "\n",
    "  $$y_i = \\beta_0 + \\beta_1 x_i + \\epsilon_i \\text{ with } \\epsilon_i \\sim N(0, \\sigma)$$\n",
    "\n",
    " $$\\text{but why?}$$\n",
    "\n",
    "- Residuals \n",
    "\n",
    "  $$\\hat \\epsilon_i = y_i - \\hat y_i = y_i - \\hat \\beta_0 + \\hat \\beta_1 x_i $$\n",
    "\n",
    "  $$\\text{ARE NOT Noise/Error terms $\\epsilon_i$ but why?}$$"
   ]
  },
  {
   "cell_type": "markdown",
   "id": "79ebc7ce",
   "metadata": {
    "slideshow": {
     "slide_type": "subslide"
    }
   },
   "source": [
    "## This Week’s Vocab (~5 minutes) : \n",
    "\n",
    "- Least-Squares fit/estimator $\\big(\\hat \\beta_1 = r_{xy}\\frac{s_y}{s_x}$ and $\\hat \\beta_0 = \\bar y - \\beta_1 \\bar x\\big)$\n",
    "\n",
    "|<img src=\"https://learningstatisticswithr.com/book/lsr_files/figure-html/regression3a-1.png\" alt=\"\" style=\"width: 600px;\"/>|\\begin{align} & {}\\min_{\\hat \\beta_0, \\beta_1} \\sum_{i=1}^n \\epsilon_i^2 = \\min_{\\hat \\beta_0, \\beta_1} \\sum_{i=1}^n (y_i-\\hat y_i)^2 \\\\ = & {} \\min_{\\hat \\beta_0, \\beta_1} \\sum_{i=1}^n (y_i-\\hat \\beta_0 - \\hat\\beta_1 x_i)^2\\end{align}|\n",
    "|:-:| |\n",
    "|||\n",
    "\n",
    "\n",
    "- Measure of model fit / Coefficient of determination $R^2 = r_{y\\hat y}^2 = \\frac{\\sum_{i=1}^n \\epsilon_i^2}{\\sum_{i=1}^n (y_i-\\bar y)^2}$\n",
    "    - \"Proportion of Variation Explained\" "
   ]
  },
  {
   "cell_type": "markdown",
   "id": "81d81e2c",
   "metadata": {
    "slideshow": {
     "slide_type": "slide"
    }
   },
   "source": [
    "# Quiz Hints\n",
    "| | |\n",
    "|-|-|\n",
    "|<img src=\"https://mobiledevmemo.com/wp-content/uploads/2012/10/w5449egf111.gif\" alt=\"\" style=\"width: 450px;\"/>|<img src=\"https://sphweb.bumc.bu.edu/otlt/MPH-Modules/BS/R/R5_Correlation-Regression/Illustration%20of%20Simple%20Linear%20Regression.gif\" alt=\"\" style=\"width: 450px;\"/>|\n",
    "| | |\n",
    "|<img src=\"https://saylordotorg.github.io/text_introductory-statistics/section_14/88a6e0919d8617c025826c1e187ad591.jpg\" alt=\"\" style=\"width: 450px;\"/>|<img src=\"https://i.stack.imgur.com/sVUby.png\" alt=\"\" style=\"width: 450px;\"/>| \n"
   ]
  },
  {
   "cell_type": "markdown",
   "id": "76967ee8",
   "metadata": {
    "slideshow": {
     "slide_type": "slide"
    }
   },
   "source": [
    "# Tutorial Activity: Quiz (10 minutes)\n",
    "\n",
    "0. What's your name?\n",
    "1. Explain to calculate predicted values from a Linear Model Regression.\n",
    "2. Explain how Linear Model Regression is a \"Normal distribution model\".\n",
    "3. Explain how to use a \"0/1\" indicator in a Linear Model Regression.\n",
    "4. State the *null hypothesis* for the $\\beta_1$ coefficient in a Linear Regression model."
   ]
  },
  {
   "cell_type": "markdown",
   "id": "fac8f934",
   "metadata": {
    "slideshow": {
     "slide_type": "slide"
    }
   },
   "source": [
    "## Discussion (10-15 min):\n",
    "\n",
    "- Review Quiz Answers\n",
    "\n",
    "- What are the assumptions of linear regression?\n",
    "\n",
    "  $$y_i ∼ N(\\beta_0 + \\beta_1x_i, \\sigma^2)$$\n",
    "\n",
    "  - Linear form\n",
    "  - $x_i$ measured exactly without error\n",
    "  - normality, homoskedasticity, independence... important knowledge for future courses..."
   ]
  },
  {
   "cell_type": "markdown",
   "id": "7009f610",
   "metadata": {},
   "source": [
    "### The Starbucks Dataset Mini Lecture + Addressing Concerns (30 mins)\n",
    "#### The starbucks.csv dataset contains data on calories and carbohydrates (in grams) in Starbucks food menu items.\n",
    "\n",
    "Plot:\n",
    "\n",
    "`\n",
    "import pandas as pd\n",
    "import plotly.express as px\n",
    "starbucks = pd.read_csv(\"starbucks.csv\", encoding=\"ISO-8859-1\")\n",
    "fig = px.scatter(starbucks, x=\"carb\", y=\"calories\")\n",
    "fig.show()\n",
    "`\n",
    "\n",
    "### Related Questions\n",
    "- Before calculating anything, estimate the correlation coefficient between carbohydrates and calorie content in Starbucks menu items based on the plot you produced. Justify your answer.\n",
    "- Calculate the correlation between carbohydrate and calorie content of Starbucks menu items. How does this compare to your estimate?\n",
    "-  Write down a simple linear regression model specification for the content of Starbucks menu items with calories as the response variable and carb as the explanatory variable. Explain each term in the model.\n",
    "- Describe what the test $H_0 : \\beta_1 = 0 , H_A : \\beta_1 \\neq 0$ is testing.\n",
    "- Make a conclusion about the hypotheses you defined above\n",
    "- Compute the coefficient of determination, $R^2$ How well does the linear regression line seem to capture the relationship between carb and calories? Justify your answer.\n",
    "- Based on the Starbucks data, create a new dataset called starbucks_lunch which only contains food items which are only of the “sandwich” or “bistro box” type. Create a boxplot comparing the distribution of calories for these two types of items\n",
    "- Fit a linear regression model to test whether there is a difference in mean calories for items of type “bistro box” and items of type “sandwich”. Write a sentence summarizing your conclusion"
   ]
  },
  {
   "cell_type": "code",
   "execution_count": null,
   "id": "3ed2f4bc",
   "metadata": {},
   "outputs": [],
   "source": [
    "- Script the above presentation in more detail so it's more of a show and tell: give example answers for the TAs to use; but, perhaps they can be hidden as html comments?"
   ]
  },
  {
   "cell_type": "markdown",
   "id": "97041fd6",
   "metadata": {},
   "source": [
    "- Add a period/prompt/time for project teams to see if they can consider how to do something like this in their project? Oh -- that's th next section... great -- yeah, something like this is quite a good idea/plan..."
   ]
  },
  {
   "cell_type": "markdown",
   "id": "be12d6b7",
   "metadata": {},
   "source": [
    "### Work on project (30 mins)\n",
    "\n",
    "- Address any concerns with your TA"
   ]
  },
  {
   "cell_type": "markdown",
   "id": "e49da79b",
   "metadata": {
    "slideshow": {
     "slide_type": "slide"
    }
   },
   "source": [
    "### Writing prompt (Remaining Time): \n",
    "\n",
    "You have just been hired as the first statistician for a start up company\n",
    "that makes side walk chalk. Congratulations! You were hired because the owners are looking to add more\n",
    "credibility to their work by testing if their side walk chalk is significantly better than their competitors. This\n",
    "is based on whether children enjoy their free time more with their side walk chalk or their major competitor’s\n",
    "(Mr. Bingbong). Each child enrolled in the study received either their side walk chalk or one from their major\n",
    "competitor. An adult in the household reported how much enjoyment their children got from playing with\n",
    "the chalk on a scale from 1 to 100.\n",
    "\n",
    "The big boss at your company (Sunny Lang) has heard about how her competitors using linear regression for\n",
    "their own studies and wants you to use the same. However, the Sunny does not actually know what linear\n",
    "regression is. Therefore, you need to craft an email explaining to Miss Lang what linear regression is, and\n",
    "whether it would be appropriate to use it for the proposed analysis. You should write out a hypothetical\n",
    "linear regression equation for the experiment and define what each part of the equation is in simple terms.\n",
    "Make sure to use a minimum of 2 vocabulary words and define the words for a nonstatistical audience.\n",
    "\n",
    "### Notes on approaching the writing prompt\n",
    "\n",
    "- Hand in the assignment on Quercus\n",
    "- Use full sentences and use this week's vocabulary\n",
    "- Grammar is *not* the main focus of the assessment, but it is important that you communicate in a clear and professional manner (without slang or emojis) \n",
    "- Aim for 200 - 500 words\n",
    "- Do not spend more than 90 minutes on the prompt (unless you really need to...)"
   ]
  }
 ],
 "metadata": {
  "celltoolbar": "Slideshow",
  "kernelspec": {
   "display_name": "Python 3 (ipykernel)",
   "language": "python",
   "name": "python3"
  },
  "language_info": {
   "codemirror_mode": {
    "name": "ipython",
    "version": 3
   },
   "file_extension": ".py",
   "mimetype": "text/x-python",
   "name": "python",
   "nbconvert_exporter": "python",
   "pygments_lexer": "ipython3",
   "version": "3.10.8"
  }
 },
 "nbformat": 4,
 "nbformat_minor": 5
}
