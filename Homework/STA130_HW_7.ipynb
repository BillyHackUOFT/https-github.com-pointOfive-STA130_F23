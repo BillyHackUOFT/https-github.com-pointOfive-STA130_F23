{
 "cells": [
  {
   "cell_type": "markdown",
   "id": "b9aeff34",
   "metadata": {},
   "source": [
    "# Coding Homework 7: [Your Name]"
   ]
  },
  {
   "cell_type": "markdown",
   "id": "2708502e",
   "metadata": {},
   "source": [
    "## Part 1: Broadway"
   ]
  },
  {
   "cell_type": "markdown",
   "id": "4d5336c3",
   "metadata": {},
   "source": [
    "Lin-Manuel Miranda was nominated for “Best Original Song” for the March 27, 2022 the Academy Awards\n",
    "(also known as the Oscars) for his work on the Disney movie Encanto. Miranda had already won an Emmy,\n",
    "Grammy, and Tony (mostly for his work on the broadway musical “Hamilton”), so he was very close to\n",
    "the [EGOT](https://www.vanityfair.com/hollywood/2022/02/oscar-nominations-2022-will-lin-manuelmiranda-finally-egot-for-encanto) (Emmy, Grammy, Oscar and Tony), a rare occurrence as only 16 people\n",
    "have won all four awards. Unfortunately, Miranda did not win the Oscar in 2022. Perhaps he will soon!\n",
    "\n",
    "\n",
    "In this question we will look at a sample of weekly broadway musical data available in the broadway.csv.\n",
    "\n",
    "This data set contains a sample of Broadway musical information for 500 weeks from 1985 to 2020. In this\n",
    "data set an observation is one broadway musical in a particular week (ending on a Sunday). \n",
    "\n",
    "Variables of interest are:\n",
    "\n",
    "- show: Name of the broadway musical/show.\n",
    "- Hamilton: indicates whether the musical is “Hamilton” or not.\n",
    "- week_ending: Date of the end of the weekly measurement period. Always a Sunday.\n",
    "- weekly_gross_overall: Weekly box office gross for all shows.\n",
    "- avg_ticket_price: Average price of tickets sold in a particular week.\n",
    "- top_ticket_price: Highest price of tickets sold in a particular week.\n",
    "- seats_sold: Total seats sold for all performances and previews in a particular week.\n",
    "- pct_capacity: Percent of theatre capacity sold. Shows can exceed 100% capacity by selling standing room tickets.\n",
    "\n",
    "\n",
    "\n",
    "Let’s explore different ways to estimate the average ticket price for Broadway shows! \n",
    "\n",
    "\n",
    "> TAs will mark this assignment by checking ***MarkUs*** autotests; and, by manually reviewing the written responses and graph-based questions"
   ]
  },
  {
   "cell_type": "code",
   "execution_count": null,
   "id": "7b6eeff8",
   "metadata": {},
   "outputs": [],
   "source": [
    "# Import/Load Put the \"broadway.csv\" data with the name broadway\n",
    "\n",
    "# Solution\n",
    "import pandas as pd\n",
    "broadway = pd.read_csv(\"broadway.csv\", encoding=\"ISO-8859-1\")"
   ]
  },
  {
   "cell_type": "code",
   "execution_count": null,
   "id": "9e08d79d",
   "metadata": {},
   "outputs": [],
   "source": [
    "# Take a look at the data\n",
    "broadway"
   ]
  },
  {
   "cell_type": "markdown",
   "id": "d1f477d9",
   "metadata": {},
   "source": [
    "### Q0: add here some examination of missing values\n",
    "\n",
    "- currently this is done below; but, it doesn't have any effect there; and, I think it should be emphasized sooner rather than later; like, this is something that should be considered immediately here.\n",
    "- I'd like this question to explore removing columns with lots of missingness versus removing rows after we've focussed on just the columns that we care about\n",
    "- I think the answer is going to be that after focussing on the columns we care about, we don't have to remove any rows"
   ]
  },
  {
   "cell_type": "markdown",
   "id": "eb1d97fe",
   "metadata": {},
   "source": [
    "### Q1: Make a plot showing the relationship between the average ticket price (on the y-axis) and the weekly gross overall sales (on the x-axis)\n",
    "\n",
    "> - Hint: You did something like this in the final problem in the week three homework with the `scatter` function from `plotly.express`"
   ]
  },
  {
   "cell_type": "code",
   "execution_count": null,
   "id": "3a421ea8",
   "metadata": {},
   "outputs": [],
   "source": [
    "# Solution\n",
    "\n",
    "import plotly.express as px\n",
    "fig = px.scatter(broadway, x=\"weekly_gross_overall\", y=\"avg_ticket_price\")\n",
    "fig.show()"
   ]
  },
  {
   "cell_type": "code",
   "execution_count": null,
   "id": "d60c42f4",
   "metadata": {},
   "outputs": [],
   "source": []
  },
  {
   "cell_type": "markdown",
   "id": "fb1291d6",
   "metadata": {},
   "source": [
    "### Q2: Add trendline to the plot\n",
    "\n",
    "\n",
    "> - Use the `trendline=\"ols\"` parameter argument for the `scatter` function"
   ]
  },
  {
   "cell_type": "code",
   "execution_count": null,
   "id": "ec07ed84",
   "metadata": {},
   "outputs": [],
   "source": [
    "# Solution\n",
    "\n",
    "px.scatter(broadway, x=\"weekly_gross_overall\", y=\"avg_ticket_price\",\n",
    "           trendline=\"ols\")"
   ]
  },
  {
   "cell_type": "code",
   "execution_count": null,
   "id": "2306ed99",
   "metadata": {},
   "outputs": [],
   "source": []
  },
  {
   "cell_type": "markdown",
   "id": "aa2a0968",
   "metadata": {},
   "source": [
    "### Q3: Use `np.corrcoef` to compute the correlation between the variables in the plot(s) above"
   ]
  },
  {
   "cell_type": "code",
   "execution_count": null,
   "id": "7c4be373",
   "metadata": {},
   "outputs": [],
   "source": [
    "# Solution\n",
    "import numpy as np\n",
    "np.corrcoef(broadway.weekly_gross_overall,broadway.avg_ticket_price)\n",
    "#can subset with [0,1]"
   ]
  },
  {
   "cell_type": "code",
   "execution_count": null,
   "id": "c43ecfc6",
   "metadata": {},
   "outputs": [],
   "source": []
  },
  {
   "cell_type": "markdown",
   "id": "cd75d0bc",
   "metadata": {},
   "source": [
    "### Q4: Explain why you do or do not think correlation provides a reasonable summary of the relationship between the variables in the plot(s) above? \n",
    "\n",
    "#### Write your explanation in one sentence in the MarkDown cell below\n",
    "\n",
    "> Correlation measures of the strength of \"straight line\" linear association between two variables\n",
    "\n",
    "- Compare your answer against the example answer provided by MarkUs"
   ]
  },
  {
   "cell_type": "markdown",
   "id": "b70caffa",
   "metadata": {},
   "source": [
    "> Answer here... \n",
    "\n",
    "***Perhaps correlation is not the best measure of this relationsip because even though there does seem to be a straight line association in some sense, the association is stronger on the left than on the right, and this can't be reflected in a correlation statistic summarizing the strength of a linear association.***"
   ]
  },
  {
   "cell_type": "markdown",
   "id": "dd556154",
   "metadata": {},
   "source": [
    "Here introduce/discuss the 4 regression assumptions; most importantly,\n",
    "- normality\n",
    "- heteroskedasticity (constant variance)\n",
    "\n",
    "relative to \n",
    "- linearity\n",
    "\n",
    "with\n",
    "- independence is kind of an afterthought to just comment on.\n",
    "\n",
    "Show the picture(s) from my slides or one you like from google image \"normal distribution on line regression\".  You will also need to write down a simple linear regression model form to help clarify this."
   ]
  },
  {
   "cell_type": "markdown",
   "id": "65341e02",
   "metadata": {},
   "source": [
    "### Q5: Relative to the `trendline=\"ols\"` straight line association present in the data, describe the shape of the data relative to the regression assumptions of normality of error terms and homoskedastic (constant) variance, and what this means for the appropriate of these assumptions for the data\n",
    "\n",
    "#### Write your answer in 1 to 3 sentences in the MarkDown cell below"
   ]
  },
  {
   "cell_type": "markdown",
   "id": "2713ffb0",
   "metadata": {},
   "source": [
    "> Answer here... \n",
    " \n",
    "Solution Elements:\n",
    "- ~Yes it is appropriate~\n",
    "- ~Although data is spread, we can see a mild positive linear association between the variables~\n",
    "\n",
    "***Answer should now be something like \"variance doesn't look constant (due to the fan shape of the data cloud), and normality probably isn't true (as it's sort of bimodal perhaps) relative to the sort of straight line trend seen the the data. This means the assumptions of the normality of error terms and the homoskedasticity of variance of the error terms are not very appropriate.***"
   ]
  },
  {
   "cell_type": "markdown",
   "id": "640a9bad",
   "metadata": {},
   "source": [
    "### Q6: Add two new columns to the data frame based on the following variable transformations \n",
    "- `log_avg_ticket_price = np.log(avg_ticket_price)`\n",
    "- `weekly_gross_overall_in_100k = weekly_gross_overall/100000`\n",
    "\n",
    "#### The $\\log$ of a number less than or equal to zero is not defined so gets stored as `NaN`: double check that there are no `NaN` values in the $\\log$-transformed columns and drop rows if there are any missing values resulting from the transformation"
   ]
  },
  {
   "cell_type": "code",
   "execution_count": null,
   "id": "8dbb60ff",
   "metadata": {},
   "outputs": [],
   "source": [
    "# Solution\n",
    "\n",
    "import numpy as np\n",
    "\n",
    "# this data set should have already been subsetted to remove columns with `NaN`\n",
    "# that aren't going to be used up in Q0\n",
    "broadway[\"log_avg_ticket_price\"] = np.log(broadway.avg_ticket_price)\n",
    "broadway[\"weekly_gross_overall_in_100k\"] = broadway.weekly_gross_overall/100000\n",
    "\n",
    "broadway = broadway.dropna()\n",
    "\n",
    "# There are no missing values in either column\n",
    "assert all(broadway[\"log_avg_ticket_price\"].dropna()) == all(broadway[\"log_avg_ticket_price\"])\n",
    "assert all(broadway[\"weekly_gross_overall_in_100k\"].dropna()) == all(broadway[\"weekly_gross_overall_in_100k\"])"
   ]
  },
  {
   "cell_type": "code",
   "execution_count": null,
   "id": "b5f0cf16",
   "metadata": {},
   "outputs": [],
   "source": []
  },
  {
   "cell_type": "markdown",
   "id": "049be494",
   "metadata": {},
   "source": [
    "### Q7: Plot the association between the variables you created along with a line of best fit to the plot, and describe the relationship observed in the plot, as well as any notable artifacts present in the plot\n",
    "\n",
    "- `log_avg_ticket_price` (on the y-axis)\n",
    "- `weekly_gross_overall_100k` (on the x-axis)\n",
    "- Use the `trendline=\"ols\"` parameter argument for the `scatter` function\n",
    "\n",
    "#### Plot your figure in the code cell below and write your answer in 2 to 3 sentences in the MarkDown cell below\n",
    "\n",
    "- Compare your answer against the example answer provided by MarkUs"
   ]
  },
  {
   "cell_type": "code",
   "execution_count": null,
   "id": "0e45af2c",
   "metadata": {},
   "outputs": [],
   "source": [
    "# Solution\n",
    "\n",
    "fig = px.scatter(broadway, x=\"weekly_gross_overall_in_100k\", \n",
    "                 y=\"log_avg_ticket_price\", trendline=\"ols\")\n",
    "fig.show()"
   ]
  },
  {
   "cell_type": "markdown",
   "id": "1f7d8dcc",
   "metadata": {},
   "source": [
    "> Answer here... \n",
    " \n",
    "***Please add an example answer here: should describe the (improved) linear relationship but note the artifact [caused by the hamilton data subset, though we'll not yet reveal this].*** "
   ]
  },
  {
   "cell_type": "markdown",
   "id": "d4ddc7e0",
   "metadata": {},
   "source": [
    "### Q8: Make a multiple choice question here with the answer that the homoskedastic (constant) variance assumption has improved [as opposed to the normality assumption which hasn't particularly improved]"
   ]
  },
  {
   "cell_type": "code",
   "execution_count": null,
   "id": "d2954e88",
   "metadata": {},
   "outputs": [],
   "source": []
  },
  {
   "cell_type": "code",
   "execution_count": null,
   "id": "f04f6589",
   "metadata": {},
   "outputs": [],
   "source": []
  },
  {
   "cell_type": "code",
   "execution_count": null,
   "id": "f8a5c730",
   "metadata": {},
   "outputs": [],
   "source": []
  },
  {
   "cell_type": "markdown",
   "id": "431aaa33",
   "metadata": {},
   "source": [
    "### Q9: Calculate the correlation between `log_avg_ticket_price` and `weekly_gross_overall_in_100k` using the `np.corrcoef` function.  Interpret the result in the context of this data."
   ]
  },
  {
   "cell_type": "code",
   "execution_count": null,
   "id": "8c5e7e40",
   "metadata": {},
   "outputs": [],
   "source": [
    "# Solution\n",
    "np.round(np.corrcoef(broadway[\"weekly_gross_overall_in_100k\"], broadway[\"log_avg_ticket_price\"]), 3)"
   ]
  },
  {
   "cell_type": "code",
   "execution_count": null,
   "id": "640fdba4",
   "metadata": {},
   "outputs": [],
   "source": [
    "# add test"
   ]
  },
  {
   "cell_type": "markdown",
   "id": "a168f4cc",
   "metadata": {},
   "source": [
    "# Q10: add multiple choice that cor hasn't really changed because the original correlation was tight on the left and loose on the right, but now the spread is uniform by kinda \"medium\" -- I'll let you work how to ask this as a multiple choice question if you see what I mean"
   ]
  },
  {
   "cell_type": "code",
   "execution_count": null,
   "id": "2dafdeb4",
   "metadata": {},
   "outputs": [],
   "source": [
    "# add multiple choice"
   ]
  },
  {
   "cell_type": "code",
   "execution_count": null,
   "id": "b1bf2a1f",
   "metadata": {},
   "outputs": [],
   "source": []
  },
  {
   "cell_type": "code",
   "execution_count": null,
   "id": "c427ed0e",
   "metadata": {},
   "outputs": [],
   "source": [
    "# Q5: your answer will be tested!\n",
    "Q5 = None"
   ]
  },
  {
   "cell_type": "code",
   "execution_count": null,
   "id": "2a842ae1",
   "metadata": {},
   "outputs": [],
   "source": [
    "# test_Q5\n",
    "assert Q5*100 == 95, \"Remember to use np.round() to 3 decimal places!\""
   ]
  },
  {
   "cell_type": "markdown",
   "id": "a7d30349",
   "metadata": {},
   "source": [
    "### Q6: Write down a simple linear regression model specification with response `log(avg_ticket_price)` and explanatory varaible `weekly_gross_overall_in_hundred_thousands`. Explain each component of the model."
   ]
  },
  {
   "cell_type": "markdown",
   "id": "d8aa4480",
   "metadata": {},
   "source": [
    "#### Refer to the lecture notebook if you want practice writing equations in LaTeX  \n"
   ]
  },
  {
   "cell_type": "markdown",
   "id": "def518d0",
   "metadata": {},
   "source": [
    "> Answer here... \n",
    " \n",
    "Solution Elements:\n",
    "- $\\hat{y} = \\hat{\\beta_0} + \\hat{\\beta_1} x $\n",
    "- $\\hat{y}$ is the predicted value of log average ticket price for a given value of weekly gross overall\n",
    "- $\\hat{\\beta_0}$ is the intercept, does not make sense in this context\n",
    "- $\\hat{\\beta_1}$ is the average change in log average ticket price for 1-unit change in weekly gross overall"
   ]
  },
  {
   "cell_type": "markdown",
   "id": "6fab4ab4",
   "metadata": {},
   "source": [
    "### Q7: State the null and alternative hypotheses you would use assess whether the slope of the linear regression model where weekly gross overall income in 1000s is predicting the log average ticket price."
   ]
  },
  {
   "cell_type": "markdown",
   "id": "7e9fc256",
   "metadata": {},
   "source": [
    "> Answer here... \n",
    " \n",
    "Solution Elements:\n",
    "- $H_0: \\beta_1 = 0$\n",
    "- $H_A: \\beta_1 \\neq 0$\n",
    "- We want to test whether the weekly gross overall income has any effect on log average ticket price by checking if the slope $\\beta_1$ is equal to 0"
   ]
  },
  {
   "cell_type": "markdown",
   "id": "a9b42c22",
   "metadata": {},
   "source": [
    "### Q8:  Use Statsmodels to fit the linear model that corresponds with your line of best fit above. Report the fitted equation of the line. Interpret the regression coefficients in the context of this data.\n",
    "\n",
    "### Make a conclusion about the hypotheses you defined above."
   ]
  },
  {
   "cell_type": "code",
   "execution_count": null,
   "id": "6e0292a2",
   "metadata": {},
   "outputs": [],
   "source": [
    "# Solution\n",
    "\n",
    "import statsmodels.api as sm\n",
    "\n",
    "x = broadway[\"weekly_gross_overall_in_hundred_thousands\"]\n",
    "y = broadway[\"log_avg_ticket_price\"]\n",
    "\n",
    "Y = y                  \n",
    "X = x\n",
    "X = sm.add_constant(X) \n",
    "\n",
    "model = sm.OLS(Y,X)   \n",
    "\n",
    "results = model.fit()\n",
    "results.params         "
   ]
  },
  {
   "cell_type": "code",
   "execution_count": null,
   "id": "bd91777c",
   "metadata": {},
   "outputs": [],
   "source": [
    "results.summary()"
   ]
  },
  {
   "cell_type": "markdown",
   "id": "263a848e",
   "metadata": {},
   "source": [
    "> Answer here... \n",
    " \n",
    "Solution Elements:\n",
    "- $\\hat{y} = 15.444 + 0.006 x $\n",
    "- 15.444 is the intercept, when weekly gross overall income is 0, does not make sense in this context\n",
    "- 0.006 average change in log average ticket price for 1-unit change in weekly gross overall\n",
    "- There is enough evidence to reject the null hypothesis as p-value is 0, so weekly gross overall income does have an effect on log average ticket price"
   ]
  },
  {
   "cell_type": "code",
   "execution_count": null,
   "id": "666e6128",
   "metadata": {},
   "outputs": [],
   "source": []
  },
  {
   "cell_type": "markdown",
   "id": "58a95274",
   "metadata": {},
   "source": [
    "### Q9: What is the coefficient of determination, $R^2$, for your model and write one sentence interpreting it in context"
   ]
  },
  {
   "cell_type": "code",
   "execution_count": null,
   "id": "744aab8c",
   "metadata": {},
   "outputs": [],
   "source": [
    "# Solution\n",
    "\n",
    "r_squared = 0.95**2\n",
    "np.round(r_squared, 3)"
   ]
  },
  {
   "cell_type": "code",
   "execution_count": null,
   "id": "e2aeb467",
   "metadata": {},
   "outputs": [],
   "source": [
    "# Q9: your answer will be tested!\n",
    "Q9 = None"
   ]
  },
  {
   "cell_type": "code",
   "execution_count": null,
   "id": "5de448df",
   "metadata": {},
   "outputs": [],
   "source": [
    "# test_Q9\n",
    "assert Q9*1000 == 902, \"How is r from Question 5 and R^2 related?\""
   ]
  },
  {
   "cell_type": "markdown",
   "id": "bfcecf05",
   "metadata": {},
   "source": [
    "> Answer here... \n",
    " \n",
    "Solution Elemetnts:\n",
    "- The coefficient of determination is 0.902\n",
    "- 90.2% of the variability in log average ticket price is explained by the linear model with weekly gross overall in hundred thousands as the predictor"
   ]
  },
  {
   "cell_type": "markdown",
   "id": "e1bb9663",
   "metadata": {},
   "source": [
    "### Q10: Brief exploration of using categorical variables.\n",
    "\n",
    "In Question 1, we created a plot to seek a relation between weekly gross overall profit and average ticket price. One way to further study its relation is to add a categorial variable to understand why the plot might be of a certain shape.\n",
    "\n",
    "Facet wraps allow you to view individual categories in their own graph and colouring allows you to colour a point based on the value of the categorial variable.\n",
    "\n",
    "Use your plot code in Question 1 and add the parameter `facet_col=\"Hamilton\"` on one plot and `color=\"Hamilton\"` in another plot to understand whether a show was Hamilton or not impacts the average ticket price  \n",
    "\n",
    "We will further explore the idea of using categorical variables in our models next week!"
   ]
  },
  {
   "cell_type": "code",
   "execution_count": null,
   "id": "719fc183",
   "metadata": {},
   "outputs": [],
   "source": [
    "# title need to refelct boolean selection\n",
    "px.scatter(broadway[broadway.Hamilton=='No'], x=\"weekly_gross_overall\", y=\"avg_ticket_price\", trendline=\"ols\")"
   ]
  },
  {
   "cell_type": "code",
   "execution_count": null,
   "id": "03e2976f",
   "metadata": {},
   "outputs": [],
   "source": [
    "# title need to refelct boolean selection\n",
    "px.scatter(broadway[broadway.Hamilton=='Yes'], x=\"weekly_gross_overall\", y=\"avg_ticket_price\", trendline=\"ols\")"
   ]
  },
  {
   "cell_type": "code",
   "execution_count": null,
   "id": "bdea0023",
   "metadata": {},
   "outputs": [],
   "source": [
    "# Facet Plot\n"
   ]
  },
  {
   "cell_type": "code",
   "execution_count": null,
   "id": "d2bba678",
   "metadata": {},
   "outputs": [],
   "source": [
    "# Solution\n",
    "\n",
    "# Faceting\n",
    "fig = px.scatter(broadway, x=\"weekly_gross_overall\", y=\"avg_ticket_price\", facet_col=\"Hamilton\", trendline=\"ols\")\n",
    "fig.show()"
   ]
  },
  {
   "cell_type": "code",
   "execution_count": null,
   "id": "e31f9903",
   "metadata": {},
   "outputs": [],
   "source": [
    "# Colour Plot\n"
   ]
  },
  {
   "cell_type": "code",
   "execution_count": null,
   "id": "c389a062",
   "metadata": {},
   "outputs": [],
   "source": [
    "# Solution\n",
    "\n",
    "# Colouring\n",
    "fig = px.scatter(broadway, x=\"weekly_gross_overall\", y=\"avg_ticket_price\", color=\"Hamilton\", trendline=\"ols\")\n",
    "fig.show()"
   ]
  },
  {
   "cell_type": "markdown",
   "id": "1e3c5dbd",
   "metadata": {},
   "source": [
    "### Q11: Provide one advantage and disadvantage for using faceting and colouring "
   ]
  },
  {
   "cell_type": "markdown",
   "id": "10fbd18b",
   "metadata": {},
   "source": [
    "> Answer here...\n",
    "\n",
    "Solution Elements:\n",
    "\n",
    "- A faceting advantage could be to view a specific subplot if needed\n",
    "- A faceting disadvantage could be now it is harder to see the overall trend in the data since it is split\n",
    "- An colouring advantage could be the data stays in the same plot unlike faceting so we can see an overall trend\n",
    "- An colouring disadvantage could be overlapping of colours if there are many points"
   ]
  }
 ],
 "metadata": {
  "kernelspec": {
   "display_name": "Python 3 (ipykernel)",
   "language": "python",
   "name": "python3"
  },
  "language_info": {
   "codemirror_mode": {
    "name": "ipython",
    "version": 3
   },
   "file_extension": ".py",
   "mimetype": "text/x-python",
   "name": "python",
   "nbconvert_exporter": "python",
   "pygments_lexer": "ipython3",
   "version": "3.10.8"
  }
 },
 "nbformat": 4,
 "nbformat_minor": 5
}
