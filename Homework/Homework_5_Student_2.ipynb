{
 "cells": [
  {
   "cell_type": "markdown",
   "metadata": {},
   "source": [
    "# Coding Homework 5: [put your name here]\n",
    "\n",
    "Go through this notebook, following the instructions! \n",
    "\n",
    "> TAs will mark this assignment by checking ***MarkUs*** autotests; and, by manually checking your plots and written responses to questions `Q11`, `Q12`, `Q13`, `Q14`, "
   ]
  },
  {
   "cell_type": "markdown",
   "metadata": {},
   "source": [
    "## Warm Up with some Biased Coin Flipping! \n",
    "\n",
    "Suppose 23% of the general population use the social media platform Twitter. Suppose that the Department of Statistical Sciences (DoSS) is conducting a study to see if this percentage is the same among their undergraduate students (that is, all students in an undergraduate DoSS statistics program). Suppose $n=400$ students in statistics programs are randomly selected and asked whether or not they use Twitter. Suppose that 103 of these 400 students respond that they use Twitter. \n",
    "\n",
    "Assume $p=0.23$ is the proportion of the general population who use twitter; whereas, the observed sample proportion of DoSS students who use twitter is $\\hat p_{\\text{DoSS}} = 103/400$. "
   ]
  },
  {
   "cell_type": "markdown",
   "metadata": {},
   "source": [
    "### Q0: Which of the following is the *null hypothesis* statement that \"the proportion of DoSS students who use twitter is the same as the general population\"?\n",
    "\n",
    "- make this a MC question \n",
    "- with possible answers \n",
    "    - $H_1: p_{\\text{DoSS}} \\not = p (=0.23)$\n",
    "    - $H_0: p_{\\text{DoSS}} = p$\n",
    "    - $H_0: p_{\\text{DoSS}} =0.23$\n",
    "    - C and D [correct]"
   ]
  },
  {
   "cell_type": "markdown",
   "metadata": {},
   "source": [
    "### Q1 What is the *alternative hypothesis* with respect to Q0?\n",
    "\n",
    "- make this a MC question \n",
    "- with possible answers \n",
    "    - $H_1: p_{\\text{DoSS}} \\not = p (=0.23)$\n",
    "    - $H_1: H_0 \\text{ is false}$\n",
    "    - $H_0: p_{\\text{DoSS}} = 0.23$\n",
    "    - A and B [correct]\n",
    "\n",
    "What is the NULL hypotheses $H_0$ in terms of $p$? What is $H_1$ in terms of $H_0$? "
   ]
  },
  {
   "cell_type": "markdown",
   "metadata": {},
   "source": [
    "### Q2: Simulate a random sample of 400 DoSS students who indeed use Twitter if in fact the prevalence of Twitter usage is the same among DoSS students as it is in the general population and count how many students in the sample are Twitter users.\n",
    "\n",
    "#### Set `numpy.random.seed(seed=11)` and use `numpy.random.choice()` function to perform this simulation"
   ]
  },
  {
   "cell_type": "code",
   "execution_count": 4,
   "metadata": {},
   "outputs": [
    {
     "data": {
      "text/plain": [
       "array(['Tail', 'Head', 'Tail', 'Head', 'Tail', 'Tail', 'Tail', 'Tail',\n",
       "       'Head', 'Tail'], dtype='<U4')"
      ]
     },
     "execution_count": 4,
     "metadata": {},
     "output_type": "execute_result"
    }
   ],
   "source": [
    "# HINTS:\n",
    "import numpy as np\n",
    "np.random.choice(['Head', 'Tail'], size=10, replace=True)\n",
    "# does the same thing as\n",
    "np.random.choice(['Head', 'Tail'], size=10, p=[0.5, 0.5], replace=True)\n",
    "# Even though the exact counts of \"Head\" and \"Tail\" differ each time you\n",
    "# run this code, if you simulate enough coin flips (by increasing\n",
    "# the value of 'size', you'll get approximately the same proportion\n",
    "# of \"Head\" and \"Tail\" outcomes)\n",
    "\n",
    "# To modify the code to make Tails much more likely than Heads, \n",
    "# we could change the probs:\n",
    "np.random.choice(['Head', 'Tail'], size=10, p=[0.1, 0.9], replace=True)"
   ]
  },
  {
   "cell_type": "code",
   "execution_count": 4,
   "metadata": {},
   "outputs": [],
   "source": [
    "# Code your solution here\n",
    "import numpy as np\n",
    "np.random.seed(11)  # REQUIRED so the random sample is reproducible!\n",
    "# After the random seed is set, the next \"random\" function that is called\n",
    "# will always be \"random\" in the same way, which gives reproducible randomness!\n",
    "simulated_sample_n400 = np.random.choice#(...)"
   ]
  },
  {
   "cell_type": "code",
   "execution_count": null,
   "metadata": {},
   "outputs": [],
   "source": [
    "Q2 = (simulated_sample_n400 == \"Twitter_User\").sum()# or\n",
    "#Q2 = (simulated_sample_n400 != \"Not_Twitter_User\").sum()"
   ]
  },
  {
   "cell_type": "markdown",
   "metadata": {},
   "source": [
    "### Q3: Use `plotly.express.histogram` to visualize the number of Twitter users versus non-Twitter users from your simulated sample with a bar plot.  How does this simulated proportion compare to the general population rate of 23% and to the 103 of 400 sampled DoSS students?\n",
    "\n",
    "#### Plot your figure in the code cell below and write a one sentence answer in the MarkDown cell below that\n",
    "\n",
    "- You can compare your answer with the example solution provided by MarkUs"
   ]
  },
  {
   "cell_type": "code",
   "execution_count": 6,
   "metadata": {},
   "outputs": [],
   "source": [
    "# Code your solution here\n",
    "import pandas as pd\n",
    "import plotly.express as px"
   ]
  },
  {
   "cell_type": "code",
   "execution_count": null,
   "metadata": {},
   "outputs": [],
   "source": [
    "# HINTS\n",
    "# You can make a numpy array into a pandas dataframe like this:\n",
    "pd.DataFrame({'<column_name>': <array_name>}) \n",
    "# And notice that `{'<column_name>': <array_name>}` is a dictionary data type!"
   ]
  },
  {
   "cell_type": "markdown",
   "metadata": {},
   "source": [
    "> Answer here...\n",
    "\n"
   ]
  },
  {
   "cell_type": "markdown",
   "metadata": {},
   "source": [
    "### Q4: Simulate 1000 samples of size $n=400$ DoSS students Twitter usage status under the assumption that the prevalence of Twitter usage among DoSS students matches that of the general population and plot the *sampling distribution* of the $\\hat p$ observed in your simulations and describe the distribution.\n",
    "\n",
    "- Set the `np.random.seed()` before the `for` loop to the last 2 digits of your student number \n",
    "- Clearly label your figure with `fig.update_layout(title=f\"A primary title\\n second line\")`\n",
    "\n",
    "#### Plot your figure in the code cell below and write a one to two sentence answer in the MarkDown cell below that\n",
    "\n",
    "\n",
    "> Hints:\n",
    "> - If you don't set a random seed the simulation \"randomness\" will be different each time its run!\n",
    "> - Then your graph won't be reproducible and your interpretations and conclusions won't match!\n",
    "> - Be careful not to confuse the number of samples that you're simulating with the *sample size* $n$ of each of those simulated samples \n",
    "\n",
    "- You can compare your answer with the example solution provided by MarkUs"
   ]
  },
  {
   "cell_type": "code",
   "execution_count": null,
   "metadata": {},
   "outputs": [],
   "source": [
    "Q4 = None # work this problem a little more so students give us their random seed\n",
    "# so MarkUs can simulate and check their Q8 answer below"
   ]
  },
  {
   "cell_type": "code",
   "execution_count": null,
   "metadata": {},
   "outputs": [],
   "source": [
    "# Run your simulation(s) here\n",
    "simulated_samples,n = 1000,400\n",
    "p_hats = [] # or an np.array that you index into\n",
    "# <add random seed setting>\n",
    "for i in range(simulated_samples):\n",
    "    pass # simulate a sample and calculate \n",
    "         # and store the p-hat sample statistic "
   ]
  },
  {
   "cell_type": "code",
   "execution_count": null,
   "metadata": {},
   "outputs": [],
   "source": [
    "# Create your figure here\n"
   ]
  },
  {
   "cell_type": "markdown",
   "metadata": {},
   "source": [
    "> Answer here..."
   ]
  },
  {
   "cell_type": "markdown",
   "metadata": {},
   "source": [
    "### Q5: What is the definition of a p-value?  \n",
    "A. The probability that the observed results were produced by random chance   \n",
    "B. The probability that the null hypothesis is true  \n",
    "C. The probability that rejecting the null hypothesis is a mistake  \n",
    "D. The probability of getting a test statistic as or more extreme than the one we observed if the null hypothesis was true  "
   ]
  },
  {
   "cell_type": "code",
   "execution_count": null,
   "metadata": {},
   "outputs": [],
   "source": [
    "# Q5: Your answer will be automatically tested on MarkUs\n",
    "Q5 = None  # Assign either 'A' or 'B' or 'C' or 'D' to `Q5` instead of `None`\n",
    "# E.g., Q5 = 'A'"
   ]
  },
  {
   "cell_type": "markdown",
   "metadata": {},
   "source": [
    "### Q6: What was the value of the observed test statistic that we saw?\n",
    "\n",
    "- 0.23\n",
    "- 103/400 [correct]\n",
    "- One of the values simulated in Q4\n",
    "- Some other value"
   ]
  },
  {
   "cell_type": "markdown",
   "metadata": {},
   "source": [
    "### Q7: What does \"as or more extreme than the observed test statistic if the *null hypothesis* is true\" mean here?\n",
    "\n",
    "- At least as far from $0.23$ as $103/400$ is\n",
    "- As large as $103/400-0.23$ or larger  \n",
    "- As small as $0.23-103/400$ or smaller  \n",
    "- All of the above [correct]  "
   ]
  },
  {
   "cell_type": "markdown",
   "metadata": {},
   "source": [
    "### Q8: What is the simulated p-value for $H_0: p_{\\text{DoSS}}=p(=0.23)$ based on the sampling distribution above?\n",
    "\n",
    "> - Hint 1: For `p=0.23` you can compare any `abs(p_hat-p)` versus `abs(103/400-p)` to determine if the given `p_hat` is \"as or more extreme\" than the observed test statistic\n",
    "> - Hint 2: The simulated p-value would be the proportion of $\\hat p$'s simulated under the null hypothesis (assuming it was true) that are \"as or more extreme\" than the observed test statistic $103/400$ (relative to the null hypothesis)\n"
   ]
  },
  {
   "cell_type": "code",
   "execution_count": 6,
   "metadata": {},
   "outputs": [],
   "source": [
    "# Q8: Your answer will be automatically tested on MarkUs\n",
    "Q8 = None # np.round( ,3) give better clear instructions here including how they should round\n",
    "# E.g., Q5 = 'A'"
   ]
  },
  {
   "cell_type": "markdown",
   "metadata": {},
   "source": [
    "### Q9:  Which of the following statements is correct regarding the p-value above?"
   ]
  },
  {
   "cell_type": "markdown",
   "metadata": {},
   "source": [
    "A. It is the probability that the proportion of DoSS students who use Twitter is the same as the general population.  \n",
    "\n",
    "B. It is the probability that the proportion of DoSS students who use Twitter is not the same as the general population.  \n",
    "\n",
    "C. It is the probability of obtaining a number of students who use Twitter in a sample of 400 students that is at least as extreme as $\\hat p = 103/400$.  \n",
    "\n",
    "D. It is the probability of obtaining a number of students who use Twitter in a sample of 400 students that is at least as extreme as $\\hat p = 103/400$ if the prevalence of Twitter usage among all DoSS students matches the general population.  "
   ]
  },
  {
   "cell_type": "code",
   "execution_count": null,
   "metadata": {},
   "outputs": [],
   "source": [
    "# Q9: Your answer will be automatically tested on MarkUs\n",
    "Q9 = None  # Assign either 'A' or 'B' or 'C' or 'D' to `Q1` instead of `None`\n",
    "# E.g., Q9 = 'A'"
   ]
  },
  {
   "cell_type": "markdown",
   "metadata": {},
   "source": [
    "### Q10: Would you expect increasing the number of `simulated_samples` to make the simulated p-value more or less volitile relative to changing the random seed value?\n",
    "\n",
    "> - Hint 0: Be careful not to confuse p-values with $\\hat p$'s or the sample size $n=400$ with the number of simulated samples (`simulated_samples`).\n",
    "> - Hint 1: Make sure to change your code back afterwards if you experimentally change it; otherwise, your results will change the next time the code is run!  \n",
    "> - Hint 2: Notice that setting a different random seed with `np.random.seed(value)` will cause the simulated p-value to change slightly since the different \"randomness\" makes the simulated sampling distribution slightly different each time.\n",
    "> - Hint 3: the simulated p-value is computed based on the simulated sampling distribution of the $\\hat p$'s; so, if we simulate more $\\hat p$'s then this sampling distribution would be better estimated... which would mean what for the simulated p-value?\n",
    "\n",
    "- You can compare your answer with the example solution provided by MarkUs"
   ]
  },
  {
   "cell_type": "markdown",
   "metadata": {},
   "source": [
    "> Answer here...\n",
    "\n",
    "***Different random seeds mean slightly different randomly produced sampling distributions, so the p-values could randomly change around a bit with different random seed settings; but, this randomness behavior would be expected to matter less and less if the number of simulated samples (of sample size $n=400$) was increased, because the the more simulated samples we have the more accurately we would be estimating the sampling distribution of the p-hat, so the random seed would matter less and less and the p-value would be estimated more and more precicely as the `simulated_samples` variable was increased.***"
   ]
  },
  {
   "cell_type": "markdown",
   "metadata": {},
   "source": [
    "## Scottish Medicine\n",
    "A Scottish woman noticed that her husband's scent changed.  Six years later he was diagnosed with Parkinson's disease. The woman later joined a Parkinson's charity and noticed the same odour she had smelled from her husband on some of the other people at the Charity.  She mentioned this to researchers who decided to test her abilities.  They recruited 6 people with Parkinson's disease and 6 people without the disease.  Each of the recruits wore a t-shirt for a day, and the woman was asked to smell the t-shirts (in random order) to see if she could determine whether or not the shirt was worn by someone with Parkinson's disease.  She was correct for 12 of the 12 t-shirts!  You can read about this [here](http://www.bbc.com/news/uk-scotland-34583642). "
   ]
  },
  {
   "cell_type": "markdown",
   "metadata": {},
   "source": [
    "### Q11: Without conducting a simulation, describe would expect the sampling distribution of the proportion of correct guesses about the 12 shirts to look like if someone was just guessing.\n",
    "\n",
    "#### Provide a two to three sentence written answer in the markdown cell below.\n",
    "\n",
    "- This will be manually reviewed by your TA. "
   ]
  },
  {
   "cell_type": "markdown",
   "metadata": {},
   "source": [
    "> Answer here...\n",
    "\n",
    "***write up a example answer response here and return it as an MarkUs \"test\" which automatically fails to provide the example as feedback for the student***"
   ]
  },
  {
   "cell_type": "markdown",
   "metadata": {},
   "source": [
    "### Q12: Write out the formal *null hypothesis* assumed in the previous question for $p$ the chance of a correct guess.\n",
    "\n",
    "#### Write out your $H_0$ statement in the markdown cell below.\n",
    "\n",
    "- This will be manually reviewed by your TA. "
   ]
  },
  {
   "cell_type": "markdown",
   "metadata": {},
   "source": [
    "> Answer here...\n"
   ]
  },
  {
   "cell_type": "markdown",
   "metadata": {},
   "source": [
    "### Q13: Carry out a simulation and a hypothesis test of the woman being a lucky guesser as opposed to having some ability to identify Parkinson's disease by smell given that she correctly classified 12 of 12 t-shirts. Make a conclusion about the strength of the evidence against the *null hypothesis* based on your work and the table below.\n",
    "\n",
    "#### Provide your analysis in the code cells below and your written conclusion in the MarkDown cell below that.\n",
    "\n",
    "> - Hint: For the purposes of p-value calculation, consider \"as or more extreme\" to be either 12/12 or 0/12.  Considering only 12/12 as \"as or more extreme\" would be called a \"one-sided hypothesis test\" but for now we'll stick with both options as a \"two-sided hypothesis test\". \n",
    "\n",
    "- This will be manually reviewed by your TA "
   ]
  },
  {
   "cell_type": "code",
   "execution_count": null,
   "metadata": {},
   "outputs": [],
   "source": [
    "# Matthew--please add the table from my recoding/lecture/code for the students to use here"
   ]
  },
  {
   "cell_type": "code",
   "execution_count": 20,
   "metadata": {},
   "outputs": [],
   "source": [
    "# Code your answer here\n",
    "import pandas as pd\n",
    "import plotly.express as px\n",
    "import numpy as np\n",
    "\n",
    "np.random.seed()  # Set the random seed to the last two digits of your student number\n",
    "reps = 1000  # Change this to 10000 if a finer simulation resolution is required "
   ]
  },
  {
   "cell_type": "code",
   "execution_count": null,
   "metadata": {},
   "outputs": [],
   "source": [
    "# add test of p-value number for MarkUs correctness\n",
    "Q13 = None"
   ]
  },
  {
   "cell_type": "markdown",
   "metadata": {},
   "source": [
    "> Answer here...\n",
    "\n"
   ]
  },
  {
   "cell_type": "markdown",
   "metadata": {},
   "source": [
    "### Q14: Actually, initially the woman correctly identified all 6 people who had been diagnosed with Parkinson's but incorrectly identified one of the others as having Parkinson's.  It was only eight months later that the final individual was diagnosed with the disease.  Repeat the Q13 analysis for the situation when only 11 of 12 were known to be correct.\n",
    "\n",
    "#### Provide the necessary analysis in the code cells below and your updated written conclusion in the MarkDown cell below that.\n",
    "\n",
    "> - Hint 1: You should be able to the p-value for the test using the results from your initial analysis without re-running a new simulation. \n",
    "> - Hint 2: Is the conclusion of the hypthesis test sensibly the same when the observed test statistic is 11/12 as opposed to when it was 12/12?  \n",
    "> - Hint 3: For the purposes of p-value calculation, again consider a \"two-sided hypothesis test\" where \"as or more extreme\" is now either 11/12, or 12/12, or 0/12, or 1/12.  \n",
    "\n",
    "\n",
    "- This will be manually reviewed by your TA"
   ]
  },
  {
   "cell_type": "code",
   "execution_count": null,
   "metadata": {},
   "outputs": [],
   "source": [
    "# Code your answer here\n",
    "\n"
   ]
  },
  {
   "cell_type": "markdown",
   "metadata": {},
   "source": [
    "> Answer here...\n",
    "\n"
   ]
  },
  {
   "cell_type": "code",
   "execution_count": null,
   "metadata": {},
   "outputs": [],
   "source": [
    "### New Q15: non-parametric test p-value based on binomial test\n",
    "i.e., make the binomial distribution here instead of simulating it\n",
    "describe what the test is\n",
    "then have them interpret their analysis again using this p-value\n",
    "...\n",
    "Also provide an example of how this would be done with a t-test; but, \n",
    "discuss that the assumption of the t-test is that the data is normally distributed, \n",
    "[and show what a normal distribution is looks like compared to a 50/50 guessing distribution]\n",
    "[so, you're doing some show and tell example stuff here]\n",
    "so this would not be justified (although, I bet it works fairly well?)"
   ]
  },
  {
   "cell_type": "markdown",
   "metadata": {},
   "source": [
    "## Evidence Against the *Null Hypothesis* versus...\n",
    "\n",
    "In the analyses above you used a quantiative p-value to provide a qualitative statement of the evidence against the *null hypothesis*. This doesn't necessarily entail a formal decision about a *null hypothesis* (and there are many good reasons to proceed in this manner). However, it would also be possible to make a statement about the *null hypothesis* which should ideally take the form of \"I choose to reject the *null hypothesis* $H_0$ on the basis of the evidence at hand\", or contrarily \"I fail to reject the *null hypothesis*...\"\n",
    "\n",
    "In a legal context a court considers the opposing claims that the defendant is either innocent or guilty. In the Canadian legal system, the role of the prosecutor is to present convincing evidence that the defendant is guilty.  Lawyers for the defendant attempt to argue that the evidence is *not convincing enough* to rule out that the defendant could be innocent.  If there is not enough evidence to convict the defendant  the judge generally generally delivers a verdict of \"not guilty\" as opposed to \"innocent\". Phrasing the ruling this way indicates that the burnden of evidence is on the verdict of \"guilty\" and the necessary standard of evidence required to rule \"guilty\" was not met; but, it also simultaneously allows for the understanding that \"innocence\" is not necessarily proven (and that it is not strictly necessarily to ever prove \"innocence\" as part of a ruling of \"not guilty\"). "
   ]
  },
  {
   "cell_type": "markdown",
   "metadata": {},
   "source": [
    "### Q16: Looking at a legal trial from the perspective of hypothesis testing, what are the most natural *null* and *alternative hypotheses*?  \n",
    "\n",
    "A. $\\quad H_0: \\text{Defendent is Not Guilty} \\quad H_A: \\text{Defendent is Guilty}$  \n",
    "B. $\\quad H_0: \\text{Defendent is Not Guilty} \\quad H_A: \\text{Defendent is Likely Innocent}$  \n",
    "C. $\\quad H_0: \\text{Defendent is Guilty} \\;\\;\\quad\\quad H_A: \\text{Defendent is Innocent}$   \n",
    "D. None of the above"
   ]
  },
  {
   "cell_type": "code",
   "execution_count": null,
   "metadata": {},
   "outputs": [],
   "source": [
    "# Q16: Your answer will be automatically tested on MarkUs\n",
    "Q16 = None  # Assign either 'A' or 'B' or 'C' or 'D' to `Q16` instead of `None`\n",
    "# E.g., Q16 = 'A'"
   ]
  },
  {
   "cell_type": "markdown",
   "metadata": {},
   "source": [
    "### Q17: In hypothesis testing which of the following would  correspond to \"failing to reject the *null hypothesis*\"? \n",
    "\n",
    "A. Proving innocent  \n",
    "B. Presuming innocence  \n",
    "C. Ruling Guilty  \n",
    "D. None of the above  \n",
    "\n",
    "***Hint/Explanation: In formal hypothesis testing, \"rejecting the *null hypothesis*\" corresopnds to a legal verdict of \"guilty\" (which makes option \"C\" wrong).  We never prove the *null hypothesis* is wrong or right, though (which makes option \"A\" wrong).  Instead, we assume the *null hypothesis* is true and will choose to reject this assumption only on the basis of having sufficient evidence against it. This is analagous to the legal context where were a person is presumed innocent until \"proven guilty\". So, if we fail to have evidence to rule guilty we return to the default of presumed innocence (which is why option \"B\" is correct). Do take careful note that we never \"prove\" a null hypothesis true or false, we just \"fail to reject it\".***"
   ]
  },
  {
   "cell_type": "code",
   "execution_count": null,
   "metadata": {},
   "outputs": [],
   "source": [
    "# add"
   ]
  },
  {
   "cell_type": "markdown",
   "metadata": {},
   "source": [
    "### Q18: In *formal statstical hypothesis testing*, wrongly rejecting a *null hypothesis* which is actually true is called a *type I error*. What does a *type I error* correspond to in the analogous legal context?\n",
    "\n",
    "A. A innocent defendant being convicted as guilty  \n",
    "B. A guilty defendant being set free  \n",
    "C. A guilty defendant being convicted  \n",
    "D. None of the above"
   ]
  },
  {
   "cell_type": "code",
   "execution_count": null,
   "metadata": {},
   "outputs": [],
   "source": [
    "# Q18: Your answer will be automatically tested on MarkUs\n",
    "Q18 = None  # Assign either 'A' or 'B' or 'C' or 'D' to `Q18` instead of `None`\n",
    "# E.g., Q18 = 'A'"
   ]
  },
  {
   "cell_type": "markdown",
   "metadata": {},
   "source": [
    "### Q19: In *formal statstical hypothesis testing*, wrongly failing to rejecting a *null hypothesis* which is actually false is called a *type II error*. What does a *type II error* correspond to in the analogous legal context?\n",
    "\n",
    "A. A innocent defendant being convicted as guilty  \n",
    "B. A guilty defendant being set free  \n",
    "C. A guilty defendant being convicted  \n",
    "D. None of the above  "
   ]
  },
  {
   "cell_type": "code",
   "execution_count": null,
   "metadata": {},
   "outputs": [],
   "source": [
    "# Q19: You may test your answer on MarkUs, but it is not worth marks \n",
    "Q19 = None  # Assign either 'A' or 'B' or 'C' or 'D' to `Q19` instead of `None`\n",
    "# E.g., Q19 = 'A'"
   ]
  },
  {
   "cell_type": "markdown",
   "metadata": {},
   "source": [
    "### Q20: What would 'convicting someone with a \"guilty\" sentencing' versus 'the defendant convincing the court that there was not enough evidence to form the basis of a conviction' correspond to in *statistical hypothesis testing* context?\n",
    "\n",
    "A. 'Failing to reject the *null hypothesis*' versus 'quantifying the evidence against the *null hypothesis* as being very strong'  \n",
    "\n",
    "B. 'Failing to reject the *null hypothesis*' versus 'quantifying the evidence against the *null hypothesis* as being very weak'  \n",
    "\n",
    "C. 'Rejecting the *null hypothesis*' versus 'quantifying the evidence against the *null hypothesis* as being very strong'  \n",
    "\n",
    "D. 'Rejecting the *null hypothesis*' versus 'quantifying the evidence against the *null hypothesis* as being very weak'  "
   ]
  },
  {
   "cell_type": "code",
   "execution_count": null,
   "metadata": {},
   "outputs": [],
   "source": [
    "# Q20: Your answer will be automatically tested on MarkUs\n",
    "Q20 = None  # Assign either 'A' or 'B' or 'C' or 'D' to `Q20` instead of `None`\n",
    "# E.g., Q20 = 'A'"
   ]
  }
 ],
 "metadata": {
  "kernelspec": {
   "display_name": "Python 3 (ipykernel)",
   "language": "python",
   "name": "python3"
  },
  "language_info": {
   "codemirror_mode": {
    "name": "ipython",
    "version": 3
   },
   "file_extension": ".py",
   "mimetype": "text/x-python",
   "name": "python",
   "nbconvert_exporter": "python",
   "pygments_lexer": "ipython3",
   "version": "3.10.8"
  }
 },
 "nbformat": 4,
 "nbformat_minor": 2
}
