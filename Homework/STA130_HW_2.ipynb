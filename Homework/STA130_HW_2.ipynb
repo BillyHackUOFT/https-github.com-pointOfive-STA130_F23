{
 "cells": [
  {
   "cell_type": "markdown",
   "id": "4b0afc16",
   "metadata": {},
   "source": [
    "# Coding Homework 2: [put your name here]\n",
    "\n",
    "At the time it departed from England in April 1912, the RMS Titanic was the largest ship in the world. In the night of April 14th to April 15th, the Titanic struck an iceberg and sank approximately 600km south of Newfoundland (a province in eastern Canada). Many people perished in this accident. Data about the passengers who were on board the Titanic at the time of the accident is available in the \"titanic.csv\" file.\n",
    "\n",
    "> TAs will mark this assignment by checking ***MarkUs*** autotests; and, by manually review the written responses to questions `Q7`, `Q8`, `Q10`, and `Q11`."
   ]
  },
  {
   "cell_type": "code",
   "execution_count": 100,
   "id": "b3fce169",
   "metadata": {},
   "outputs": [],
   "source": [
    "# Import/Load Put the \"titanic.csv\" data"
   ]
  },
  {
   "cell_type": "code",
   "execution_count": null,
   "id": "5c9a45a1",
   "metadata": {},
   "outputs": [],
   "source": [
    "import pandas as pd\n",
    "d = pd.read_csv(\"titanic.csv\")"
   ]
  },
  {
   "cell_type": "markdown",
   "id": "d503e867",
   "metadata": {},
   "source": [
    "### Q0: How many missing data values are there in the `Age` column\n",
    "> Hint: Remember `.isnull().sum()`?"
   ]
  },
  {
   "cell_type": "code",
   "execution_count": null,
   "id": "462aeb65",
   "metadata": {},
   "outputs": [],
   "source": []
  },
  {
   "cell_type": "code",
   "execution_count": null,
   "id": "c77778b1",
   "metadata": {},
   "outputs": [],
   "source": []
  },
  {
   "cell_type": "code",
   "execution_count": null,
   "id": "609f3f21",
   "metadata": {},
   "outputs": [],
   "source": [
    "# Q0: your answer will be tested!\n",
    "Q0 = None # Assign an integer value to Q0\n",
    "# E.g., Q0 = 1"
   ]
  },
  {
   "cell_type": "code",
   "execution_count": null,
   "id": "b3e9c558",
   "metadata": {},
   "outputs": [],
   "source": [
    "# Since many of their values are missing or unclear, \n",
    "# modify the `titanic` data frame by removing the following variables: \n",
    "# `Ticket_No`, `Boat_or_Body`, `Class_Dept`, `Class_Full`.\n",
    "\n",
    "# Hint 1: https://letmegooglethat.com/?q=how+to+remove+columns+from+a+pandas+data+frame  \n",
    "# Hint 2: ` is different than \"\n",
    "# Hint 3: use `inplace=True`\n"
   ]
  },
  {
   "cell_type": "code",
   "execution_count": null,
   "id": "6ca01891",
   "metadata": {},
   "outputs": [],
   "source": []
  },
  {
   "cell_type": "markdown",
   "id": "18d10e76",
   "metadata": {},
   "source": [
    "### Q1: What is the dimension of the titantic data set after removing the four columns above?\n",
    "> Hint: Remember the `.shape` attribute?  "
   ]
  },
  {
   "cell_type": "code",
   "execution_count": 10,
   "id": "9211f336",
   "metadata": {},
   "outputs": [],
   "source": [
    "# Q1: your answer will be tested!\n",
    "Q1 = (None,None) # Assign a `tuple` of two integers to Q1\n",
    "# e.g., (1,2) for 1 row and 2 columns"
   ]
  },
  {
   "cell_type": "markdown",
   "id": "734e5a8e",
   "metadata": {},
   "source": [
    "- The variable `Adut_or_Chld` indicates which passengers were adults and which were children. Change the name of this variable to `Adult_or_Child`. \n",
    "- `MWC` is a little more specific, recording whether the passenger was a man, woman or child. To make this variable name clearer, change the name of `MWC` to `Man_Woman_or_Child`. "
   ]
  },
  {
   "cell_type": "code",
   "execution_count": null,
   "id": "e6188008",
   "metadata": {},
   "outputs": [],
   "source": [
    "# Hint 1: https://letmegooglethat.com/?q=how+to+rename+pandas+columns\n",
    "# Hint 2: use `inplace=True`\n"
   ]
  },
  {
   "cell_type": "code",
   "execution_count": 33,
   "id": "1fbccbc7",
   "metadata": {},
   "outputs": [],
   "source": []
  },
  {
   "cell_type": "markdown",
   "id": "748f8d94",
   "metadata": {},
   "source": [
    "### Q2 What is the data type of the following object?\n",
    "\n",
    "```python\n",
    "{'Adut_or_Chld':'Adult_or_Child', 'MWC':'Man_Woman_or_Child'}\n",
    "```\n",
    "\n",
    "A. `dict`  \n",
    "B. `list`  \n",
    "C. `tuple`  \n",
    "D. `str`"
   ]
  },
  {
   "cell_type": "code",
   "execution_count": null,
   "id": "f42177c2",
   "metadata": {},
   "outputs": [],
   "source": [
    "# Q2: your answer will be tested!\n",
    "Q2 = None # Assign either 'A' or 'B' or 'C' or 'D' to `Q2` instead of `None`\n",
    "# E.g., Q1 = 'A'"
   ]
  },
  {
   "cell_type": "markdown",
   "id": "440de144",
   "metadata": {},
   "source": [
    "### Q3: How many passengers were there on the Titanic (`n`) and how many survied (`n_surv`), and what was the survival percentage (`prop_surv`)?\n",
    "> Hint 1: Remember \"coercion\" with `True` and `False` data types?  \n",
    "> Hint 2: `titanic_data.Age.sum()`"
   ]
  },
  {
   "cell_type": "code",
   "execution_count": null,
   "id": "e496019e",
   "metadata": {},
   "outputs": [],
   "source": []
  },
  {
   "cell_type": "code",
   "execution_count": 63,
   "id": "8910ab1d",
   "metadata": {},
   "outputs": [
    {
     "ename": "TypeError",
     "evalue": "unsupported operand type(s) for /: 'NoneType' and 'NoneType'",
     "output_type": "error",
     "traceback": [
      "\u001b[0;31m---------------------------------------------------------------------------\u001b[0m",
      "\u001b[0;31mTypeError\u001b[0m                                 Traceback (most recent call last)",
      "Cell \u001b[0;32mIn[63], line 4\u001b[0m\n\u001b[1;32m      2\u001b[0m n \u001b[38;5;241m=\u001b[39m \u001b[38;5;28;01mNone\u001b[39;00m \u001b[38;5;66;03m# number of passengers on the the titanic\u001b[39;00m\n\u001b[1;32m      3\u001b[0m n_surv \u001b[38;5;241m=\u001b[39m \u001b[38;5;28;01mNone\u001b[39;00m \u001b[38;5;66;03m# number of the passengers survived\u001b[39;00m\n\u001b[0;32m----> 4\u001b[0m prop_surv \u001b[38;5;241m=\u001b[39m \u001b[43mn\u001b[49m\u001b[38;5;241;43m/\u001b[39;49m\u001b[43mn_surv\u001b[49m \u001b[38;5;66;03m# proportion of passengers that survived\u001b[39;00m\n\u001b[1;32m      5\u001b[0m Q3 \u001b[38;5;241m=\u001b[39m (n, n_surv,prop_surv) \u001b[38;5;66;03m# Assign a `tuple` of three numeric values to Q3\u001b[39;00m\n",
      "\u001b[0;31mTypeError\u001b[0m: unsupported operand type(s) for /: 'NoneType' and 'NoneType'"
     ]
    }
   ],
   "source": [
    "# Q3: your answer will be tested!\n",
    "n = None # number of passengers on the the titanic\n",
    "n_surv = None # number of the passengers survived\n",
    "prop_surv = n/n_surv # proportion of passengers that survived\n",
    "Q3 = (n, n_surv,prop_surv) # Assign a `tuple` of three numeric values to Q3"
   ]
  },
  {
   "cell_type": "markdown",
   "id": "e91d677b",
   "metadata": {},
   "source": [
    "### Q4: What were the proportion of deaths for men, women, and children, respectively?\n",
    "> Hint 1: Start with `(d.Survived=='Alive')`  \n",
    "> Hint 2: A proportion is a `.mean()` of $0$'s and $1$'s  \n",
    "> Hint 3: Remember \"coercion\" with `True` and `False` data types?  \n",
    "> Hint 4: Use `.groupby(titanic_data.Man_Woman_or_Child)`  "
   ]
  },
  {
   "cell_type": "code",
   "execution_count": null,
   "id": "3fd44fb1",
   "metadata": {},
   "outputs": [],
   "source": []
  },
  {
   "cell_type": "code",
   "execution_count": 46,
   "id": "6e501bf2",
   "metadata": {},
   "outputs": [],
   "source": [
    "# Q4: your answer will be tested!\n",
    "prop_surv_men = None \n",
    "prop_surv_women = None \n",
    "prop_surv_children= None \n",
    "Q4 = (prop_surv_men, prop_surv_women, prop_surv_children) # Assign a `tuple` of three `float`s to Q3\n",
    "# provide 3 decimal places rounding up"
   ]
  },
  {
   "cell_type": "markdown",
   "id": "b333de92",
   "metadata": {},
   "source": [
    "### Q5: What was the proportion of deaths for passengers between 25-40 years of age?\n",
    "> Hint: Assume \"between\" is inclusive so that you use `>=` and `<=`."
   ]
  },
  {
   "cell_type": "code",
   "execution_count": null,
   "id": "ac6fed20",
   "metadata": {},
   "outputs": [],
   "source": []
  },
  {
   "cell_type": "code",
   "execution_count": 48,
   "id": "678bd609",
   "metadata": {},
   "outputs": [],
   "source": [
    "# Q5: your answer will be tested!\n",
    "Q5 = None # Assign a `float` numeric value to Q5\n",
    "# provide 3 decimal places rounding up"
   ]
  },
  {
   "cell_type": "markdown",
   "id": "08ea357f",
   "metadata": {},
   "source": [
    "### Q6: What was the proportion of deaths for men, women, and children among passengers who paid more than 50 British pounds for their tickets?\n",
    "\n",
    "> Hint: \"more than\" here is strict so use `>`; and, assume the `Paid` column is in British pounds."
   ]
  },
  {
   "cell_type": "code",
   "execution_count": null,
   "id": "780af5b3",
   "metadata": {},
   "outputs": [],
   "source": []
  },
  {
   "cell_type": "code",
   "execution_count": 64,
   "id": "fa2bfe92",
   "metadata": {},
   "outputs": [],
   "source": [
    "# Q6: your answer will be tested!\n",
    "prop_surv_men_richtix = None\n",
    "prop_surv_women_richtix = None\n",
    "prop_surv_children_richtix = None\n",
    "Q6 = (prop_surv_men_richtix, prop_surv_women_richtix, prop_surv_children_richtix) # Assign a `tuple` of three `float`s to Q3\n",
    "# provide 3 decimal places rounding up"
   ]
  },
  {
   "cell_type": "markdown",
   "id": "4bc60040",
   "metadata": {},
   "source": [
    "### Q7: Write several sentences interpreting your results for the previous questions.\n",
    "Provide your written answer in the markdown cell below.\n",
    "- This will be manually reviewed. "
   ]
  },
  {
   "cell_type": "markdown",
   "id": "668d1d46",
   "metadata": {},
   "source": [
    "> Answer here... \n",
    " \n",
    " \n",
    " \n",
    " "
   ]
  },
  {
   "cell_type": "markdown",
   "id": "cae5b571",
   "metadata": {},
   "source": [
    "### Q8: What was the most common job among passengers of the Titanic? \n",
    "\n",
    "A. General Labourer  \n",
    "B. Fireman  \n",
    "C. Trimmer  \n",
    "D. Saloon Steward\n",
    "\n",
    "Write 1-2 sentences explaining the code used to produce your answer in the markdown cell below.\n",
    "- This will be reviewed manually. \n",
    "\n",
    "> Hint 1: the `groupby`, `.size()`, or  and `sort_values()` function would be helpful...  \n",
    "> Hint 2: or the `value_counts()` would be helpful...  \n",
    "> Hint 3: https://letmegooglethat.com/?q=how+do+I+sort+a+pandas+data+frame+by+a+column"
   ]
  },
  {
   "cell_type": "markdown",
   "id": "74951320",
   "metadata": {},
   "source": [
    "> Answer here...\n",
    "\n",
    "\n",
    "\n"
   ]
  },
  {
   "cell_type": "code",
   "execution_count": null,
   "id": "dc6a590d",
   "metadata": {},
   "outputs": [],
   "source": []
  },
  {
   "cell_type": "code",
   "execution_count": 77,
   "id": "3afa0871",
   "metadata": {},
   "outputs": [],
   "source": [
    "# Q8: your answer will be tested!\n",
    "Q8 = None # Assign either 'A' or 'B' or 'C' or 'D' to `Q2` instead of `None`\n",
    "# E.g., Q1 = 'A'"
   ]
  },
  {
   "cell_type": "markdown",
   "id": "508e2159",
   "metadata": {},
   "source": [
    "### Q9: Were any of the general labourers on the titanic women? If so, how many?"
   ]
  },
  {
   "cell_type": "code",
   "execution_count": null,
   "id": "04c21a6c",
   "metadata": {},
   "outputs": [],
   "source": []
  },
  {
   "cell_type": "code",
   "execution_count": 83,
   "id": "67869265",
   "metadata": {},
   "outputs": [],
   "source": [
    "# Q9: your answer will be tested!\n",
    "Q9 = None # Assign an integer value to Q9\n",
    "# E.g., Q9 = 1"
   ]
  },
  {
   "cell_type": "markdown",
   "id": "9dd637eb",
   "metadata": {},
   "source": [
    "### Q10: What are the names of the passengers with the top 4 most expensive tickets? Did these passengers survive the accident?\n",
    "\n",
    "Output a table with four rows for this question.\n",
    "- This will be reviewed manually.\n",
    "\n",
    "> Hint: use `.head(4)`"
   ]
  },
  {
   "cell_type": "code",
   "execution_count": 90,
   "id": "cebdeb68",
   "metadata": {},
   "outputs": [
    {
     "data": {
      "text/html": [
       "<div>\n",
       "<style scoped>\n",
       "    .dataframe tbody tr th:only-of-type {\n",
       "        vertical-align: middle;\n",
       "    }\n",
       "\n",
       "    .dataframe tbody tr th {\n",
       "        vertical-align: top;\n",
       "    }\n",
       "\n",
       "    .dataframe thead th {\n",
       "        text-align: right;\n",
       "    }\n",
       "</style>\n",
       "<table border=\"1\" class=\"dataframe\">\n",
       "  <thead>\n",
       "    <tr style=\"text-align: right;\">\n",
       "      <th></th>\n",
       "      <th>Name</th>\n",
       "      <th>Survived</th>\n",
       "      <th>Boarded</th>\n",
       "      <th>Class</th>\n",
       "      <th>Man_Woman_or_Child</th>\n",
       "      <th>Age</th>\n",
       "      <th>Adult_or_Child</th>\n",
       "      <th>Sex</th>\n",
       "      <th>Paid</th>\n",
       "      <th>Job</th>\n",
       "    </tr>\n",
       "  </thead>\n",
       "  <tbody>\n",
       "    <tr>\n",
       "      <th>1176</th>\n",
       "      <td>LESUEUR, Mr Gustave J.</td>\n",
       "      <td>Alive</td>\n",
       "      <td>Cherbourg</td>\n",
       "      <td>1</td>\n",
       "      <td>Man</td>\n",
       "      <td>35.0</td>\n",
       "      <td>Adult</td>\n",
       "      <td>Male</td>\n",
       "      <td>512.329167</td>\n",
       "      <td>Servant</td>\n",
       "    </tr>\n",
       "    <tr>\n",
       "      <th>334</th>\n",
       "      <td>CARDEZA, Mrs Charlotte Wardle</td>\n",
       "      <td>Alive</td>\n",
       "      <td>Cherbourg</td>\n",
       "      <td>1</td>\n",
       "      <td>Woman</td>\n",
       "      <td>58.0</td>\n",
       "      <td>Adult</td>\n",
       "      <td>Female</td>\n",
       "      <td>512.329167</td>\n",
       "      <td>NaN</td>\n",
       "    </tr>\n",
       "    <tr>\n",
       "      <th>333</th>\n",
       "      <td>CARDEZA, Mr Thomas Drake Martinez</td>\n",
       "      <td>Alive</td>\n",
       "      <td>Cherbourg</td>\n",
       "      <td>1</td>\n",
       "      <td>Man</td>\n",
       "      <td>36.0</td>\n",
       "      <td>Adult</td>\n",
       "      <td>Male</td>\n",
       "      <td>512.329167</td>\n",
       "      <td>Gentleman</td>\n",
       "    </tr>\n",
       "    <tr>\n",
       "      <th>2077</th>\n",
       "      <td>WARD, Miss Annie Moore</td>\n",
       "      <td>Alive</td>\n",
       "      <td>Cherbourg</td>\n",
       "      <td>1</td>\n",
       "      <td>Woman</td>\n",
       "      <td>35.0</td>\n",
       "      <td>Adult</td>\n",
       "      <td>Female</td>\n",
       "      <td>512.329167</td>\n",
       "      <td>Personal Maid</td>\n",
       "    </tr>\n",
       "  </tbody>\n",
       "</table>\n",
       "</div>"
      ],
      "text/plain": [
       "                                   Name Survived    Boarded Class  \\\n",
       "1176             LESUEUR, Mr Gustave J.    Alive  Cherbourg     1   \n",
       "334       CARDEZA, Mrs Charlotte Wardle    Alive  Cherbourg     1   \n",
       "333   CARDEZA, Mr Thomas Drake Martinez    Alive  Cherbourg     1   \n",
       "2077             WARD, Miss Annie Moore    Alive  Cherbourg     1   \n",
       "\n",
       "     Man_Woman_or_Child   Age Adult_or_Child     Sex        Paid  \\\n",
       "1176                Man  35.0          Adult    Male  512.329167   \n",
       "334               Woman  58.0          Adult  Female  512.329167   \n",
       "333                 Man  36.0          Adult    Male  512.329167   \n",
       "2077              Woman  35.0          Adult  Female  512.329167   \n",
       "\n",
       "                Job  \n",
       "1176        Servant  \n",
       "334             NaN  \n",
       "333       Gentleman  \n",
       "2077  Personal Maid  "
      ]
     },
     "execution_count": 90,
     "metadata": {},
     "output_type": "execute_result"
    }
   ],
   "source": []
  },
  {
   "cell_type": "markdown",
   "id": "6f0a6db1",
   "metadata": {},
   "source": [
    "### Q11: Write a couple paragraphs paraphrasing the output of the code in the cell below.\n",
    "\n",
    "Don't spend more than 15 minutes on this.\n",
    "- This will be reviewed manually.\n",
    "\n",
    "\n",
    "> Hints:\n",
    "> - `mean` is the \"average\"\n",
    "> - `std` stands for \"standard deviation\" and measures the spead of the data\n",
    "> - `min` and `max` are the smallest and largest values, respectively\n",
    "> - The percentages are \"percentiles\"; so, e.g., the 50th percentile is the \"median\"\n"
   ]
  },
  {
   "cell_type": "code",
   "execution_count": 98,
   "id": "7553d79f",
   "metadata": {},
   "outputs": [
    {
     "data": {
      "text/html": [
       "<div>\n",
       "<style scoped>\n",
       "    .dataframe tbody tr th:only-of-type {\n",
       "        vertical-align: middle;\n",
       "    }\n",
       "\n",
       "    .dataframe tbody tr th {\n",
       "        vertical-align: top;\n",
       "    }\n",
       "\n",
       "    .dataframe thead tr th {\n",
       "        text-align: left;\n",
       "    }\n",
       "\n",
       "    .dataframe thead tr:last-of-type th {\n",
       "        text-align: right;\n",
       "    }\n",
       "</style>\n",
       "<table border=\"1\" class=\"dataframe\">\n",
       "  <thead>\n",
       "    <tr>\n",
       "      <th></th>\n",
       "      <th colspan=\"8\" halign=\"left\">Age</th>\n",
       "      <th colspan=\"8\" halign=\"left\">Paid</th>\n",
       "    </tr>\n",
       "    <tr>\n",
       "      <th></th>\n",
       "      <th>count</th>\n",
       "      <th>mean</th>\n",
       "      <th>std</th>\n",
       "      <th>min</th>\n",
       "      <th>25%</th>\n",
       "      <th>50%</th>\n",
       "      <th>75%</th>\n",
       "      <th>max</th>\n",
       "      <th>count</th>\n",
       "      <th>mean</th>\n",
       "      <th>std</th>\n",
       "      <th>min</th>\n",
       "      <th>25%</th>\n",
       "      <th>50%</th>\n",
       "      <th>75%</th>\n",
       "      <th>max</th>\n",
       "    </tr>\n",
       "    <tr>\n",
       "      <th>Man_Woman_or_Child</th>\n",
       "      <th></th>\n",
       "      <th></th>\n",
       "      <th></th>\n",
       "      <th></th>\n",
       "      <th></th>\n",
       "      <th></th>\n",
       "      <th></th>\n",
       "      <th></th>\n",
       "      <th></th>\n",
       "      <th></th>\n",
       "      <th></th>\n",
       "      <th></th>\n",
       "      <th></th>\n",
       "      <th></th>\n",
       "      <th></th>\n",
       "      <th></th>\n",
       "    </tr>\n",
       "  </thead>\n",
       "  <tbody>\n",
       "    <tr>\n",
       "      <th>Child</th>\n",
       "      <td>124.0</td>\n",
       "      <td>6.184597</td>\n",
       "      <td>4.297938</td>\n",
       "      <td>0.08</td>\n",
       "      <td>2.0</td>\n",
       "      <td>5.5</td>\n",
       "      <td>9.0</td>\n",
       "      <td>14.0</td>\n",
       "      <td>123.0</td>\n",
       "      <td>33.204274</td>\n",
       "      <td>33.436297</td>\n",
       "      <td>3.170833</td>\n",
       "      <td>15.900000</td>\n",
       "      <td>25.466667</td>\n",
       "      <td>32.75</td>\n",
       "      <td>262.375000</td>\n",
       "    </tr>\n",
       "    <tr>\n",
       "      <th>Man</th>\n",
       "      <td>1649.0</td>\n",
       "      <td>31.482717</td>\n",
       "      <td>10.373889</td>\n",
       "      <td>15.00</td>\n",
       "      <td>24.0</td>\n",
       "      <td>30.0</td>\n",
       "      <td>38.0</td>\n",
       "      <td>74.0</td>\n",
       "      <td>786.0</td>\n",
       "      <td>24.862749</td>\n",
       "      <td>42.493309</td>\n",
       "      <td>0.000000</td>\n",
       "      <td>7.805208</td>\n",
       "      <td>10.335417</td>\n",
       "      <td>26.25</td>\n",
       "      <td>512.329167</td>\n",
       "    </tr>\n",
       "    <tr>\n",
       "      <th>Woman</th>\n",
       "      <td>432.0</td>\n",
       "      <td>31.925926</td>\n",
       "      <td>11.882998</td>\n",
       "      <td>15.00</td>\n",
       "      <td>22.0</td>\n",
       "      <td>29.5</td>\n",
       "      <td>40.0</td>\n",
       "      <td>64.0</td>\n",
       "      <td>409.0</td>\n",
       "      <td>48.609887</td>\n",
       "      <td>67.216995</td>\n",
       "      <td>0.000000</td>\n",
       "      <td>9.587500</td>\n",
       "      <td>21.075000</td>\n",
       "      <td>59.40</td>\n",
       "      <td>512.329167</td>\n",
       "    </tr>\n",
       "  </tbody>\n",
       "</table>\n",
       "</div>"
      ],
      "text/plain": [
       "                       Age                                                 \\\n",
       "                     count       mean        std    min   25%   50%   75%   \n",
       "Man_Woman_or_Child                                                          \n",
       "Child                124.0   6.184597   4.297938   0.08   2.0   5.5   9.0   \n",
       "Man                 1649.0  31.482717  10.373889  15.00  24.0  30.0  38.0   \n",
       "Woman                432.0  31.925926  11.882998  15.00  22.0  29.5  40.0   \n",
       "\n",
       "                           Paid                                             \\\n",
       "                     max  count       mean        std       min        25%   \n",
       "Man_Woman_or_Child                                                           \n",
       "Child               14.0  123.0  33.204274  33.436297  3.170833  15.900000   \n",
       "Man                 74.0  786.0  24.862749  42.493309  0.000000   7.805208   \n",
       "Woman               64.0  409.0  48.609887  67.216995  0.000000   9.587500   \n",
       "\n",
       "                                                  \n",
       "                          50%    75%         max  \n",
       "Man_Woman_or_Child                                \n",
       "Child               25.466667  32.75  262.375000  \n",
       "Man                 10.335417  26.25  512.329167  \n",
       "Woman               21.075000  59.40  512.329167  "
      ]
     },
     "execution_count": 98,
     "metadata": {},
     "output_type": "execute_result"
    }
   ],
   "source": [
    "d.groupby('Man_Woman_or_Child').describe()"
   ]
  },
  {
   "cell_type": "markdown",
   "id": "0852132e",
   "metadata": {},
   "source": [
    "> Answer here...\n",
    "\n",
    "\n",
    "\n"
   ]
  },
  {
   "cell_type": "markdown",
   "id": "f95bb4a6",
   "metadata": {},
   "source": [
    "# Tutorial Preparation\n",
    "\n",
    "Your ***Tutorial Assignment*** this week is the following:\n",
    "\n",
    "> Use \"boolean indexing\" and the `.sum()` and other \"aggregation functions\" along with `.groupby()` to provide some interesting tidbits about the `oly12countries.csv` data. As you report your various findings, additionally paraphrase the coding that produced each result. \n",
    "> - Do not include any code in your written submission.\n",
    "> - Include your code as a `.ipynb` notebook along with your written submission.\n",
    ">    - Annotate your notebook with comments where it's helpful for understanding what you're doing.\n",
    "\n",
    "***You will not have enough time to fully complete this assignment in tutorial; so, you may want to get started early, especially now while you have some coding ideas fresh in your mind.***"
   ]
  },
  {
   "cell_type": "code",
   "execution_count": 104,
   "id": "7d94a537",
   "metadata": {},
   "outputs": [
    {
     "data": {
      "text/html": [
       "<div>\n",
       "<style scoped>\n",
       "    .dataframe tbody tr th:only-of-type {\n",
       "        vertical-align: middle;\n",
       "    }\n",
       "\n",
       "    .dataframe tbody tr th {\n",
       "        vertical-align: top;\n",
       "    }\n",
       "\n",
       "    .dataframe thead th {\n",
       "        text-align: right;\n",
       "    }\n",
       "</style>\n",
       "<table border=\"1\" class=\"dataframe\">\n",
       "  <thead>\n",
       "    <tr style=\"text-align: right;\">\n",
       "      <th></th>\n",
       "      <th>Country</th>\n",
       "      <th>ISO</th>\n",
       "      <th>GDP.2011</th>\n",
       "      <th>pop.2010</th>\n",
       "      <th>athletes_f</th>\n",
       "      <th>athletes_m</th>\n",
       "      <th>athletes_total</th>\n",
       "      <th>gold</th>\n",
       "      <th>silver</th>\n",
       "      <th>bronze</th>\n",
       "    </tr>\n",
       "  </thead>\n",
       "  <tbody>\n",
       "    <tr>\n",
       "      <th>0</th>\n",
       "      <td>Afghanistan</td>\n",
       "      <td>AFG</td>\n",
       "      <td>20,343,461,030.00</td>\n",
       "      <td>34,385,000</td>\n",
       "      <td>1.0</td>\n",
       "      <td>5</td>\n",
       "      <td>6</td>\n",
       "      <td>0</td>\n",
       "      <td>0</td>\n",
       "      <td>1</td>\n",
       "    </tr>\n",
       "    <tr>\n",
       "      <th>1</th>\n",
       "      <td>Albania</td>\n",
       "      <td>ALB</td>\n",
       "      <td>12,959,563,902.00</td>\n",
       "      <td>3,205,000</td>\n",
       "      <td>4.0</td>\n",
       "      <td>7</td>\n",
       "      <td>11</td>\n",
       "      <td>0</td>\n",
       "      <td>0</td>\n",
       "      <td>0</td>\n",
       "    </tr>\n",
       "    <tr>\n",
       "      <th>2</th>\n",
       "      <td>Algeria</td>\n",
       "      <td>DZA</td>\n",
       "      <td>188,681,000,000.00</td>\n",
       "      <td>35,468,000</td>\n",
       "      <td>18.0</td>\n",
       "      <td>21</td>\n",
       "      <td>39</td>\n",
       "      <td>1</td>\n",
       "      <td>0</td>\n",
       "      <td>0</td>\n",
       "    </tr>\n",
       "    <tr>\n",
       "      <th>3</th>\n",
       "      <td>American Samoa</td>\n",
       "      <td>ASM</td>\n",
       "      <td>537,000,000.00</td>\n",
       "      <td>68,420</td>\n",
       "      <td>1.0</td>\n",
       "      <td>4</td>\n",
       "      <td>5</td>\n",
       "      <td>0</td>\n",
       "      <td>0</td>\n",
       "      <td>0</td>\n",
       "    </tr>\n",
       "    <tr>\n",
       "      <th>4</th>\n",
       "      <td>Andorra</td>\n",
       "      <td>AND</td>\n",
       "      <td>3,491,000,000.00</td>\n",
       "      <td>84,864</td>\n",
       "      <td>2.0</td>\n",
       "      <td>4</td>\n",
       "      <td>6</td>\n",
       "      <td>0</td>\n",
       "      <td>0</td>\n",
       "      <td>0</td>\n",
       "    </tr>\n",
       "    <tr>\n",
       "      <th>...</th>\n",
       "      <td>...</td>\n",
       "      <td>...</td>\n",
       "      <td>...</td>\n",
       "      <td>...</td>\n",
       "      <td>...</td>\n",
       "      <td>...</td>\n",
       "      <td>...</td>\n",
       "      <td>...</td>\n",
       "      <td>...</td>\n",
       "      <td>...</td>\n",
       "    </tr>\n",
       "    <tr>\n",
       "      <th>199</th>\n",
       "      <td>Vietnam</td>\n",
       "      <td>VNM</td>\n",
       "      <td>123,961,000,000.00</td>\n",
       "      <td>86,928,000</td>\n",
       "      <td>12.0</td>\n",
       "      <td>6</td>\n",
       "      <td>18</td>\n",
       "      <td>0</td>\n",
       "      <td>0</td>\n",
       "      <td>0</td>\n",
       "    </tr>\n",
       "    <tr>\n",
       "      <th>200</th>\n",
       "      <td>Virgin Islands</td>\n",
       "      <td>VIR</td>\n",
       "      <td>1,577,000,000.00</td>\n",
       "      <td>110,000</td>\n",
       "      <td>3.0</td>\n",
       "      <td>4</td>\n",
       "      <td>7</td>\n",
       "      <td>0</td>\n",
       "      <td>0</td>\n",
       "      <td>0</td>\n",
       "    </tr>\n",
       "    <tr>\n",
       "      <th>201</th>\n",
       "      <td>Yemen</td>\n",
       "      <td>YEM</td>\n",
       "      <td>33,757,503,322.00</td>\n",
       "      <td>24,053,000</td>\n",
       "      <td>1.0</td>\n",
       "      <td>3</td>\n",
       "      <td>4</td>\n",
       "      <td>0</td>\n",
       "      <td>0</td>\n",
       "      <td>0</td>\n",
       "    </tr>\n",
       "    <tr>\n",
       "      <th>202</th>\n",
       "      <td>Zambia</td>\n",
       "      <td>ZMB</td>\n",
       "      <td>19,206,011,889.00</td>\n",
       "      <td>12,927,000</td>\n",
       "      <td>2.0</td>\n",
       "      <td>5</td>\n",
       "      <td>7</td>\n",
       "      <td>0</td>\n",
       "      <td>0</td>\n",
       "      <td>0</td>\n",
       "    </tr>\n",
       "    <tr>\n",
       "      <th>203</th>\n",
       "      <td>Zimbabwe</td>\n",
       "      <td>ZWE</td>\n",
       "      <td>9,900,000,000.00</td>\n",
       "      <td>12,571,000</td>\n",
       "      <td>3.0</td>\n",
       "      <td>4</td>\n",
       "      <td>7</td>\n",
       "      <td>0</td>\n",
       "      <td>0</td>\n",
       "      <td>0</td>\n",
       "    </tr>\n",
       "  </tbody>\n",
       "</table>\n",
       "<p>204 rows × 10 columns</p>\n",
       "</div>"
      ],
      "text/plain": [
       "            Country  ISO            GDP.2011    pop.2010  athletes_f  \\\n",
       "0       Afghanistan  AFG   20,343,461,030.00  34,385,000         1.0   \n",
       "1           Albania  ALB   12,959,563,902.00   3,205,000         4.0   \n",
       "2           Algeria  DZA  188,681,000,000.00  35,468,000        18.0   \n",
       "3    American Samoa  ASM      537,000,000.00      68,420         1.0   \n",
       "4           Andorra  AND    3,491,000,000.00      84,864         2.0   \n",
       "..              ...  ...                 ...         ...         ...   \n",
       "199         Vietnam  VNM  123,961,000,000.00  86,928,000        12.0   \n",
       "200  Virgin Islands  VIR    1,577,000,000.00     110,000         3.0   \n",
       "201           Yemen  YEM   33,757,503,322.00  24,053,000         1.0   \n",
       "202          Zambia  ZMB   19,206,011,889.00  12,927,000         2.0   \n",
       "203        Zimbabwe  ZWE    9,900,000,000.00  12,571,000         3.0   \n",
       "\n",
       "     athletes_m  athletes_total  gold  silver  bronze  \n",
       "0             5               6     0       0       1  \n",
       "1             7              11     0       0       0  \n",
       "2            21              39     1       0       0  \n",
       "3             4               5     0       0       0  \n",
       "4             4               6     0       0       0  \n",
       "..          ...             ...   ...     ...     ...  \n",
       "199           6              18     0       0       0  \n",
       "200           4               7     0       0       0  \n",
       "201           3               4     0       0       0  \n",
       "202           5               7     0       0       0  \n",
       "203           4               7     0       0       0  \n",
       "\n",
       "[204 rows x 10 columns]"
      ]
     },
     "execution_count": 104,
     "metadata": {},
     "output_type": "execute_result"
    }
   ],
   "source": [
    "pd.read_csv('oly12countries.csv')"
   ]
  },
  {
   "cell_type": "code",
   "execution_count": null,
   "id": "3a78a881",
   "metadata": {},
   "outputs": [],
   "source": []
  }
 ],
 "metadata": {
  "kernelspec": {
   "display_name": "Python 3 (ipykernel)",
   "language": "python",
   "name": "python3"
  },
  "language_info": {
   "codemirror_mode": {
    "name": "ipython",
    "version": 3
   },
   "file_extension": ".py",
   "mimetype": "text/x-python",
   "name": "python",
   "nbconvert_exporter": "python",
   "pygments_lexer": "ipython3",
   "version": "3.10.8"
  }
 },
 "nbformat": 4,
 "nbformat_minor": 5
}
