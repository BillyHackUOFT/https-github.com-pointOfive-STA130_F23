{
 "cells": [
  {
   "attachments": {},
   "cell_type": "markdown",
   "metadata": {},
   "source": [
    "# CONCERNS\n",
    "- np.round rounds a bit weird, margin of error for Q8? (like within 0.001 of np.round result will pass test)"
   ]
  },
  {
   "attachments": {},
   "cell_type": "markdown",
   "metadata": {},
   "source": [
    "# Coding Homework 5: [put your name here]\n",
    "\n",
    "Go through this notebook, following the instructions! \n",
    "\n",
    "> TAs will mark this assignment by checking ***MarkUs*** autotests; and, by manually checking your plots and written responses to questions `Q11`, `Q12`, `Q13`, `Q14`, "
   ]
  },
  {
   "attachments": {},
   "cell_type": "markdown",
   "metadata": {},
   "source": [
    "## Warm Up with some Biased Coin Flipping! \n",
    "\n",
    "Suppose 23% of the general population use the social media platform Twitter. Suppose that the Department of Statistical Sciences (DoSS) is conducting a study to see if this percentage is the same among their undergraduate students (that is, all students in an undergraduate DoSS statistics program). Suppose $n=400$ students in statistics programs are randomly selected and asked whether or not they use Twitter. Suppose that 103 of these 400 students respond that they use Twitter. \n",
    "\n",
    "Assume $p=0.23$ is the proportion of the general population who use twitter; whereas, the observed sample proportion of DoSS students who use twitter is $\\hat p_{\\text{DoSS}} = 103/400$. "
   ]
  },
  {
   "attachments": {},
   "cell_type": "markdown",
   "metadata": {},
   "source": [
    "### Q0: Which of the following is the *null hypothesis* statement that \"the proportion of DoSS students who use twitter is the same as the general population\"?\n",
    "\n",
    "A. $H_1: p_{\\text{DoSS}} \\not = p (=0.23)$  \n",
    "B. $H_0: p_{\\text{DoSS}} = p$  \n",
    "C. $H_0: p_{\\text{DoSS}} =0.23$  \n",
    "D. Both B and C"
   ]
  },
  {
   "cell_type": "code",
   "execution_count": 1,
   "metadata": {},
   "outputs": [],
   "source": [
    "# Q0: your answer will be tested!\n",
    "Q0 = None  # Assign either 'A' or 'B' or 'C' or 'D' to `Q0` instead of `None`\n",
    "# E.g., Q0 = 'A'"
   ]
  },
  {
   "cell_type": "code",
   "execution_count": 2,
   "metadata": {},
   "outputs": [
    {
     "ename": "AssertionError",
     "evalue": "",
     "output_type": "error",
     "traceback": [
      "\u001b[1;31m---------------------------------------------------------------------------\u001b[0m",
      "\u001b[1;31mAssertionError\u001b[0m                            Traceback (most recent call last)",
      "Cell \u001b[1;32mIn[2], line 2\u001b[0m\n\u001b[0;32m      1\u001b[0m \u001b[39m# test_Q0\u001b[39;00m\n\u001b[1;32m----> 2\u001b[0m \u001b[39massert\u001b[39;00m Q0 \u001b[39m==\u001b[39m \u001b[39m'\u001b[39m\u001b[39mD\u001b[39m\u001b[39m'\u001b[39m\n",
      "\u001b[1;31mAssertionError\u001b[0m: "
     ]
    }
   ],
   "source": [
    "# test_Q0\n",
    "assert Q0 == 'D'"
   ]
  },
  {
   "attachments": {},
   "cell_type": "markdown",
   "metadata": {},
   "source": [
    "### Q1 What is the *alternative hypothesis* with respect to Q0?\n",
    "A. $H_1: p_{\\text{DoSS}} \\not = p (=0.23)$  \n",
    "B. $H_1: H_0 \\text{ is false}$  \n",
    "C. $H_0: p_{\\text{DoSS}} = 0.23$  \n",
    "D. Both A and B "
   ]
  },
  {
   "cell_type": "code",
   "execution_count": 3,
   "metadata": {},
   "outputs": [],
   "source": [
    "# Q1: your answer will be tested!\n",
    "Q1 = None  # Assign either 'A' or 'B' or 'C' or 'D' to `Q1` instead of `None`\n",
    "# E.g., Q1 = 'A'"
   ]
  },
  {
   "cell_type": "code",
   "execution_count": 4,
   "metadata": {},
   "outputs": [
    {
     "ename": "AssertionError",
     "evalue": "",
     "output_type": "error",
     "traceback": [
      "\u001b[1;31m---------------------------------------------------------------------------\u001b[0m",
      "\u001b[1;31mAssertionError\u001b[0m                            Traceback (most recent call last)",
      "Cell \u001b[1;32mIn[4], line 2\u001b[0m\n\u001b[0;32m      1\u001b[0m \u001b[39m# test_Q1\u001b[39;00m\n\u001b[1;32m----> 2\u001b[0m \u001b[39massert\u001b[39;00m Q1 \u001b[39m==\u001b[39m \u001b[39m'\u001b[39m\u001b[39mD\u001b[39m\u001b[39m'\u001b[39m\n",
      "\u001b[1;31mAssertionError\u001b[0m: "
     ]
    }
   ],
   "source": [
    "# test_Q1\n",
    "assert Q1 == 'D'"
   ]
  },
  {
   "attachments": {},
   "cell_type": "markdown",
   "metadata": {},
   "source": [
    "### Q2: Simulate a random sample of 400 DoSS students who indeed use Twitter if in fact the prevalence of Twitter usage is the same among DoSS students as it is in the general population and count how many students in the sample are Twitter users.\n",
    "\n",
    "#### Set `numpy.random.seed(seed=11)` and use `numpy.random.choice()` function to perform this simulation"
   ]
  },
  {
   "cell_type": "code",
   "execution_count": 4,
   "metadata": {},
   "outputs": [
    {
     "data": {
      "text/plain": [
       "array(['Tail', 'Head', 'Tail', 'Head', 'Tail', 'Tail', 'Tail', 'Tail',\n",
       "       'Head', 'Tail'], dtype='<U4')"
      ]
     },
     "execution_count": 4,
     "metadata": {},
     "output_type": "execute_result"
    }
   ],
   "source": [
    "# HINTS:\n",
    "import numpy as np\n",
    "np.random.choice(['Head', 'Tail'], size=10, replace=True)\n",
    "# does the same thing as\n",
    "np.random.choice(['Head', 'Tail'], size=10, p=[0.5, 0.5], replace=True)\n",
    "# Even though the exact counts of \"Head\" and \"Tail\" differ each time you\n",
    "# run this code, if you simulate enough coin flips (by increasing\n",
    "# the value of 'size', you'll get approximately the same proportion\n",
    "# of \"Head\" and \"Tail\" outcomes)\n",
    "\n",
    "# To modify the code to make Tails much more likely than Heads, \n",
    "# we could change the probs:\n",
    "np.random.choice(['Head', 'Tail'], size=10, p=[0.1, 0.9], replace=True)"
   ]
  },
  {
   "cell_type": "code",
   "execution_count": 19,
   "metadata": {},
   "outputs": [
    {
     "data": {
      "text/plain": [
       "78"
      ]
     },
     "execution_count": 19,
     "metadata": {},
     "output_type": "execute_result"
    }
   ],
   "source": [
    "# Code your solution here\n",
    "import numpy as np\n",
    "np.random.seed(11)  # REQUIRED so the random sample is reproducible!\n",
    "# After the random seed is set, the next \"random\" function that is called\n",
    "# will always be \"random\" in the same way, which gives reproducible randomness!\n",
    "simulated_sample_n400 = np.random.choice#(...)"
   ]
  },
  {
   "cell_type": "code",
   "execution_count": 20,
   "metadata": {},
   "outputs": [],
   "source": [
    "# Q2: your answer will be tested!\n",
    "Q2 = (None, None, None) # Assign a `tuple` of your classification for a twitter user, followed by classification for a non \n",
    "#twitter user, followed by number of twitter users in your sample to Q2\n",
    "# E.g. If twitter users were classified as \"Twitter_User\" and non-twitter users were classfied as \"Non_Twitter_User\" \n",
    "# and there are 200 twitter users in your sample, you would enter:\n",
    "# Q2 = (\"Twitter_User\", \"Non_Twitter_User\", 200)"
   ]
  },
  {
   "cell_type": "code",
   "execution_count": 21,
   "metadata": {},
   "outputs": [
    {
     "ename": "AssertionError",
     "evalue": "",
     "output_type": "error",
     "traceback": [
      "\u001b[1;31m---------------------------------------------------------------------------\u001b[0m",
      "\u001b[1;31mAssertionError\u001b[0m                            Traceback (most recent call last)",
      "Cell \u001b[1;32mIn[21], line 3\u001b[0m\n\u001b[0;32m      1\u001b[0m \u001b[39m# test_Q2\u001b[39;00m\n\u001b[0;32m      2\u001b[0m \u001b[39massert\u001b[39;00m Q2[\u001b[39m2\u001b[39m] \u001b[39m==\u001b[39m (simulated_sample_n400 \u001b[39m==\u001b[39m Q2[\u001b[39m0\u001b[39m])\u001b[39m.\u001b[39msum()\n\u001b[1;32m----> 3\u001b[0m \u001b[39massert\u001b[39;00m Q2[\u001b[39m2\u001b[39m] \u001b[39m==\u001b[39m (simulated_sample_n400 \u001b[39m!=\u001b[39m Q2[\u001b[39m1\u001b[39m])\u001b[39m.\u001b[39msum()\n",
      "\u001b[1;31mAssertionError\u001b[0m: "
     ]
    }
   ],
   "source": [
    "# test_Q2\n",
    "assert Q2[2] == (simulated_sample_n400 == Q2[0]).sum()\n",
    "assert Q2[2] == (simulated_sample_n400 != Q2[1]).sum()"
   ]
  },
  {
   "attachments": {},
   "cell_type": "markdown",
   "metadata": {},
   "source": [
    "### Q3: Use `plotly.express.histogram` to visualize the number of Twitter users versus non-Twitter users from your simulated sample with a bar plot.  How does this simulated proportion compare to the general population rate of 23% and to the 103 of 400 sampled DoSS students?\n",
    "\n",
    "#### Plot your figure in the code cell below and write a one sentence answer in the MarkDown cell below that\n",
    "\n",
    "- You can compare your answer with the example solution provided by MarkUs"
   ]
  },
  {
   "cell_type": "code",
   "execution_count": 6,
   "metadata": {},
   "outputs": [],
   "source": [
    "# Code your solution here\n",
    "import pandas as pd\n",
    "import plotly.express as px"
   ]
  },
  {
   "cell_type": "code",
   "execution_count": null,
   "metadata": {},
   "outputs": [],
   "source": [
    "# HINTS\n",
    "# You can make a numpy array into a pandas dataframe like this:\n",
    "pd.DataFrame({'<column_name>': <array_name>}) \n",
    "# And notice that `{'<column_name>': <array_name>}` is a dictionary data type!"
   ]
  },
  {
   "attachments": {},
   "cell_type": "markdown",
   "metadata": {},
   "source": [
    "> Answer here...\n",
    "\n"
   ]
  },
  {
   "cell_type": "code",
   "execution_count": 47,
   "metadata": {},
   "outputs": [
    {
     "data": {
      "application/vnd.plotly.v1+json": {
       "config": {
        "plotlyServerURL": "https://plot.ly"
       },
       "data": [
        {
         "alignmentgroup": "True",
         "bingroup": "x",
         "hovertemplate": "Twitter Status=%{x}<br>count=%{y}<extra></extra>",
         "legendgroup": "",
         "marker": {
          "color": "#636efa",
          "pattern": {
           "shape": ""
          }
         },
         "name": "",
         "offsetgroup": "",
         "orientation": "v",
         "showlegend": false,
         "type": "histogram",
         "x": [
          "Twitterer",
          "Twitterer",
          "Non_Twitterer",
          "Non_Twitterer",
          "Non_Twitterer",
          "Non_Twitterer",
          "Twitterer",
          "Non_Twitterer",
          "Non_Twitterer",
          "Non_Twitterer",
          "Non_Twitterer",
          "Twitterer",
          "Non_Twitterer",
          "Non_Twitterer",
          "Twitterer",
          "Non_Twitterer",
          "Twitterer",
          "Twitterer",
          "Non_Twitterer",
          "Twitterer",
          "Non_Twitterer",
          "Non_Twitterer",
          "Non_Twitterer",
          "Non_Twitterer",
          "Twitterer",
          "Twitterer",
          "Non_Twitterer",
          "Non_Twitterer",
          "Twitterer",
          "Non_Twitterer",
          "Non_Twitterer",
          "Non_Twitterer",
          "Non_Twitterer",
          "Non_Twitterer",
          "Non_Twitterer",
          "Non_Twitterer",
          "Non_Twitterer",
          "Non_Twitterer",
          "Non_Twitterer",
          "Non_Twitterer",
          "Twitterer",
          "Non_Twitterer",
          "Twitterer",
          "Non_Twitterer",
          "Twitterer",
          "Non_Twitterer",
          "Non_Twitterer",
          "Non_Twitterer",
          "Non_Twitterer",
          "Non_Twitterer",
          "Non_Twitterer",
          "Non_Twitterer",
          "Twitterer",
          "Non_Twitterer",
          "Non_Twitterer",
          "Twitterer",
          "Twitterer",
          "Non_Twitterer",
          "Non_Twitterer",
          "Non_Twitterer",
          "Non_Twitterer",
          "Non_Twitterer",
          "Non_Twitterer",
          "Non_Twitterer",
          "Non_Twitterer",
          "Non_Twitterer",
          "Non_Twitterer",
          "Non_Twitterer",
          "Non_Twitterer",
          "Non_Twitterer",
          "Non_Twitterer",
          "Non_Twitterer",
          "Non_Twitterer",
          "Non_Twitterer",
          "Non_Twitterer",
          "Non_Twitterer",
          "Non_Twitterer",
          "Twitterer",
          "Twitterer",
          "Non_Twitterer",
          "Non_Twitterer",
          "Non_Twitterer",
          "Non_Twitterer",
          "Non_Twitterer",
          "Non_Twitterer",
          "Twitterer",
          "Non_Twitterer",
          "Non_Twitterer",
          "Non_Twitterer",
          "Non_Twitterer",
          "Non_Twitterer",
          "Non_Twitterer",
          "Twitterer",
          "Non_Twitterer",
          "Non_Twitterer",
          "Non_Twitterer",
          "Non_Twitterer",
          "Non_Twitterer",
          "Non_Twitterer",
          "Non_Twitterer",
          "Non_Twitterer",
          "Twitterer",
          "Non_Twitterer",
          "Non_Twitterer",
          "Non_Twitterer",
          "Twitterer",
          "Non_Twitterer",
          "Twitterer",
          "Non_Twitterer",
          "Non_Twitterer",
          "Non_Twitterer",
          "Non_Twitterer",
          "Non_Twitterer",
          "Non_Twitterer",
          "Non_Twitterer",
          "Non_Twitterer",
          "Non_Twitterer",
          "Non_Twitterer",
          "Non_Twitterer",
          "Non_Twitterer",
          "Non_Twitterer",
          "Non_Twitterer",
          "Non_Twitterer",
          "Non_Twitterer",
          "Non_Twitterer",
          "Non_Twitterer",
          "Non_Twitterer",
          "Non_Twitterer",
          "Non_Twitterer",
          "Non_Twitterer",
          "Non_Twitterer",
          "Twitterer",
          "Non_Twitterer",
          "Non_Twitterer",
          "Non_Twitterer",
          "Non_Twitterer",
          "Non_Twitterer",
          "Non_Twitterer",
          "Non_Twitterer",
          "Non_Twitterer",
          "Non_Twitterer",
          "Non_Twitterer",
          "Non_Twitterer",
          "Twitterer",
          "Non_Twitterer",
          "Non_Twitterer",
          "Non_Twitterer",
          "Twitterer",
          "Twitterer",
          "Non_Twitterer",
          "Non_Twitterer",
          "Non_Twitterer",
          "Non_Twitterer",
          "Twitterer",
          "Non_Twitterer",
          "Non_Twitterer",
          "Non_Twitterer",
          "Twitterer",
          "Non_Twitterer",
          "Non_Twitterer",
          "Twitterer",
          "Non_Twitterer",
          "Non_Twitterer",
          "Non_Twitterer",
          "Twitterer",
          "Non_Twitterer",
          "Non_Twitterer",
          "Non_Twitterer",
          "Non_Twitterer",
          "Non_Twitterer",
          "Non_Twitterer",
          "Twitterer",
          "Non_Twitterer",
          "Non_Twitterer",
          "Non_Twitterer",
          "Non_Twitterer",
          "Non_Twitterer",
          "Non_Twitterer",
          "Twitterer",
          "Non_Twitterer",
          "Twitterer",
          "Non_Twitterer",
          "Non_Twitterer",
          "Non_Twitterer",
          "Non_Twitterer",
          "Twitterer",
          "Twitterer",
          "Non_Twitterer",
          "Non_Twitterer",
          "Non_Twitterer",
          "Twitterer",
          "Non_Twitterer",
          "Non_Twitterer",
          "Non_Twitterer",
          "Non_Twitterer",
          "Non_Twitterer",
          "Non_Twitterer",
          "Non_Twitterer",
          "Twitterer",
          "Non_Twitterer",
          "Twitterer",
          "Non_Twitterer",
          "Non_Twitterer",
          "Non_Twitterer",
          "Non_Twitterer",
          "Non_Twitterer",
          "Non_Twitterer",
          "Non_Twitterer",
          "Non_Twitterer",
          "Non_Twitterer",
          "Twitterer",
          "Twitterer",
          "Non_Twitterer",
          "Twitterer",
          "Non_Twitterer",
          "Non_Twitterer",
          "Non_Twitterer",
          "Twitterer",
          "Non_Twitterer",
          "Non_Twitterer",
          "Non_Twitterer",
          "Twitterer",
          "Non_Twitterer",
          "Non_Twitterer",
          "Non_Twitterer",
          "Twitterer",
          "Non_Twitterer",
          "Non_Twitterer",
          "Non_Twitterer",
          "Twitterer",
          "Non_Twitterer",
          "Non_Twitterer",
          "Non_Twitterer",
          "Twitterer",
          "Non_Twitterer",
          "Non_Twitterer",
          "Non_Twitterer",
          "Non_Twitterer",
          "Non_Twitterer",
          "Non_Twitterer",
          "Non_Twitterer",
          "Non_Twitterer",
          "Non_Twitterer",
          "Non_Twitterer",
          "Non_Twitterer",
          "Non_Twitterer",
          "Non_Twitterer",
          "Non_Twitterer",
          "Non_Twitterer",
          "Non_Twitterer",
          "Non_Twitterer",
          "Non_Twitterer",
          "Non_Twitterer",
          "Non_Twitterer",
          "Twitterer",
          "Non_Twitterer",
          "Non_Twitterer",
          "Non_Twitterer",
          "Non_Twitterer",
          "Non_Twitterer",
          "Non_Twitterer",
          "Twitterer",
          "Non_Twitterer",
          "Non_Twitterer",
          "Non_Twitterer",
          "Twitterer",
          "Non_Twitterer",
          "Non_Twitterer",
          "Non_Twitterer",
          "Twitterer",
          "Non_Twitterer",
          "Non_Twitterer",
          "Non_Twitterer",
          "Non_Twitterer",
          "Non_Twitterer",
          "Non_Twitterer",
          "Non_Twitterer",
          "Twitterer",
          "Twitterer",
          "Non_Twitterer",
          "Non_Twitterer",
          "Non_Twitterer",
          "Non_Twitterer",
          "Twitterer",
          "Twitterer",
          "Non_Twitterer",
          "Non_Twitterer",
          "Non_Twitterer",
          "Twitterer",
          "Twitterer",
          "Non_Twitterer",
          "Non_Twitterer",
          "Twitterer",
          "Twitterer",
          "Twitterer",
          "Non_Twitterer",
          "Non_Twitterer",
          "Non_Twitterer",
          "Non_Twitterer",
          "Twitterer",
          "Non_Twitterer",
          "Twitterer",
          "Twitterer",
          "Non_Twitterer",
          "Non_Twitterer",
          "Non_Twitterer",
          "Non_Twitterer",
          "Non_Twitterer",
          "Twitterer",
          "Non_Twitterer",
          "Non_Twitterer",
          "Non_Twitterer",
          "Twitterer",
          "Twitterer",
          "Non_Twitterer",
          "Non_Twitterer",
          "Non_Twitterer",
          "Non_Twitterer",
          "Non_Twitterer",
          "Non_Twitterer",
          "Non_Twitterer",
          "Twitterer",
          "Non_Twitterer",
          "Non_Twitterer",
          "Non_Twitterer",
          "Non_Twitterer",
          "Non_Twitterer",
          "Non_Twitterer",
          "Non_Twitterer",
          "Non_Twitterer",
          "Non_Twitterer",
          "Non_Twitterer",
          "Non_Twitterer",
          "Twitterer",
          "Non_Twitterer",
          "Non_Twitterer",
          "Twitterer",
          "Non_Twitterer",
          "Non_Twitterer",
          "Non_Twitterer",
          "Non_Twitterer",
          "Non_Twitterer",
          "Non_Twitterer",
          "Non_Twitterer",
          "Non_Twitterer",
          "Non_Twitterer",
          "Non_Twitterer",
          "Non_Twitterer",
          "Non_Twitterer",
          "Twitterer",
          "Twitterer",
          "Non_Twitterer",
          "Non_Twitterer",
          "Non_Twitterer",
          "Twitterer",
          "Non_Twitterer",
          "Twitterer",
          "Non_Twitterer",
          "Non_Twitterer",
          "Non_Twitterer",
          "Non_Twitterer",
          "Non_Twitterer",
          "Non_Twitterer",
          "Non_Twitterer",
          "Twitterer",
          "Non_Twitterer",
          "Non_Twitterer",
          "Non_Twitterer",
          "Non_Twitterer",
          "Twitterer",
          "Non_Twitterer",
          "Non_Twitterer",
          "Twitterer",
          "Twitterer",
          "Non_Twitterer",
          "Non_Twitterer",
          "Non_Twitterer",
          "Non_Twitterer",
          "Non_Twitterer",
          "Twitterer",
          "Non_Twitterer",
          "Non_Twitterer",
          "Non_Twitterer",
          "Non_Twitterer",
          "Twitterer",
          "Non_Twitterer",
          "Twitterer",
          "Non_Twitterer",
          "Non_Twitterer",
          "Twitterer",
          "Non_Twitterer",
          "Non_Twitterer",
          "Non_Twitterer",
          "Non_Twitterer",
          "Non_Twitterer",
          "Non_Twitterer",
          "Non_Twitterer",
          "Non_Twitterer",
          "Non_Twitterer",
          "Twitterer"
         ],
         "xaxis": "x",
         "yaxis": "y"
        }
       ],
       "layout": {
        "barmode": "relative",
        "legend": {
         "tracegroupgap": 0
        },
        "margin": {
         "t": 60
        },
        "template": {
         "data": {
          "bar": [
           {
            "error_x": {
             "color": "#2a3f5f"
            },
            "error_y": {
             "color": "#2a3f5f"
            },
            "marker": {
             "line": {
              "color": "#E5ECF6",
              "width": 0.5
             },
             "pattern": {
              "fillmode": "overlay",
              "size": 10,
              "solidity": 0.2
             }
            },
            "type": "bar"
           }
          ],
          "barpolar": [
           {
            "marker": {
             "line": {
              "color": "#E5ECF6",
              "width": 0.5
             },
             "pattern": {
              "fillmode": "overlay",
              "size": 10,
              "solidity": 0.2
             }
            },
            "type": "barpolar"
           }
          ],
          "carpet": [
           {
            "aaxis": {
             "endlinecolor": "#2a3f5f",
             "gridcolor": "white",
             "linecolor": "white",
             "minorgridcolor": "white",
             "startlinecolor": "#2a3f5f"
            },
            "baxis": {
             "endlinecolor": "#2a3f5f",
             "gridcolor": "white",
             "linecolor": "white",
             "minorgridcolor": "white",
             "startlinecolor": "#2a3f5f"
            },
            "type": "carpet"
           }
          ],
          "choropleth": [
           {
            "colorbar": {
             "outlinewidth": 0,
             "ticks": ""
            },
            "type": "choropleth"
           }
          ],
          "contour": [
           {
            "colorbar": {
             "outlinewidth": 0,
             "ticks": ""
            },
            "colorscale": [
             [
              0,
              "#0d0887"
             ],
             [
              0.1111111111111111,
              "#46039f"
             ],
             [
              0.2222222222222222,
              "#7201a8"
             ],
             [
              0.3333333333333333,
              "#9c179e"
             ],
             [
              0.4444444444444444,
              "#bd3786"
             ],
             [
              0.5555555555555556,
              "#d8576b"
             ],
             [
              0.6666666666666666,
              "#ed7953"
             ],
             [
              0.7777777777777778,
              "#fb9f3a"
             ],
             [
              0.8888888888888888,
              "#fdca26"
             ],
             [
              1,
              "#f0f921"
             ]
            ],
            "type": "contour"
           }
          ],
          "contourcarpet": [
           {
            "colorbar": {
             "outlinewidth": 0,
             "ticks": ""
            },
            "type": "contourcarpet"
           }
          ],
          "heatmap": [
           {
            "colorbar": {
             "outlinewidth": 0,
             "ticks": ""
            },
            "colorscale": [
             [
              0,
              "#0d0887"
             ],
             [
              0.1111111111111111,
              "#46039f"
             ],
             [
              0.2222222222222222,
              "#7201a8"
             ],
             [
              0.3333333333333333,
              "#9c179e"
             ],
             [
              0.4444444444444444,
              "#bd3786"
             ],
             [
              0.5555555555555556,
              "#d8576b"
             ],
             [
              0.6666666666666666,
              "#ed7953"
             ],
             [
              0.7777777777777778,
              "#fb9f3a"
             ],
             [
              0.8888888888888888,
              "#fdca26"
             ],
             [
              1,
              "#f0f921"
             ]
            ],
            "type": "heatmap"
           }
          ],
          "heatmapgl": [
           {
            "colorbar": {
             "outlinewidth": 0,
             "ticks": ""
            },
            "colorscale": [
             [
              0,
              "#0d0887"
             ],
             [
              0.1111111111111111,
              "#46039f"
             ],
             [
              0.2222222222222222,
              "#7201a8"
             ],
             [
              0.3333333333333333,
              "#9c179e"
             ],
             [
              0.4444444444444444,
              "#bd3786"
             ],
             [
              0.5555555555555556,
              "#d8576b"
             ],
             [
              0.6666666666666666,
              "#ed7953"
             ],
             [
              0.7777777777777778,
              "#fb9f3a"
             ],
             [
              0.8888888888888888,
              "#fdca26"
             ],
             [
              1,
              "#f0f921"
             ]
            ],
            "type": "heatmapgl"
           }
          ],
          "histogram": [
           {
            "marker": {
             "pattern": {
              "fillmode": "overlay",
              "size": 10,
              "solidity": 0.2
             }
            },
            "type": "histogram"
           }
          ],
          "histogram2d": [
           {
            "colorbar": {
             "outlinewidth": 0,
             "ticks": ""
            },
            "colorscale": [
             [
              0,
              "#0d0887"
             ],
             [
              0.1111111111111111,
              "#46039f"
             ],
             [
              0.2222222222222222,
              "#7201a8"
             ],
             [
              0.3333333333333333,
              "#9c179e"
             ],
             [
              0.4444444444444444,
              "#bd3786"
             ],
             [
              0.5555555555555556,
              "#d8576b"
             ],
             [
              0.6666666666666666,
              "#ed7953"
             ],
             [
              0.7777777777777778,
              "#fb9f3a"
             ],
             [
              0.8888888888888888,
              "#fdca26"
             ],
             [
              1,
              "#f0f921"
             ]
            ],
            "type": "histogram2d"
           }
          ],
          "histogram2dcontour": [
           {
            "colorbar": {
             "outlinewidth": 0,
             "ticks": ""
            },
            "colorscale": [
             [
              0,
              "#0d0887"
             ],
             [
              0.1111111111111111,
              "#46039f"
             ],
             [
              0.2222222222222222,
              "#7201a8"
             ],
             [
              0.3333333333333333,
              "#9c179e"
             ],
             [
              0.4444444444444444,
              "#bd3786"
             ],
             [
              0.5555555555555556,
              "#d8576b"
             ],
             [
              0.6666666666666666,
              "#ed7953"
             ],
             [
              0.7777777777777778,
              "#fb9f3a"
             ],
             [
              0.8888888888888888,
              "#fdca26"
             ],
             [
              1,
              "#f0f921"
             ]
            ],
            "type": "histogram2dcontour"
           }
          ],
          "mesh3d": [
           {
            "colorbar": {
             "outlinewidth": 0,
             "ticks": ""
            },
            "type": "mesh3d"
           }
          ],
          "parcoords": [
           {
            "line": {
             "colorbar": {
              "outlinewidth": 0,
              "ticks": ""
             }
            },
            "type": "parcoords"
           }
          ],
          "pie": [
           {
            "automargin": true,
            "type": "pie"
           }
          ],
          "scatter": [
           {
            "fillpattern": {
             "fillmode": "overlay",
             "size": 10,
             "solidity": 0.2
            },
            "type": "scatter"
           }
          ],
          "scatter3d": [
           {
            "line": {
             "colorbar": {
              "outlinewidth": 0,
              "ticks": ""
             }
            },
            "marker": {
             "colorbar": {
              "outlinewidth": 0,
              "ticks": ""
             }
            },
            "type": "scatter3d"
           }
          ],
          "scattercarpet": [
           {
            "marker": {
             "colorbar": {
              "outlinewidth": 0,
              "ticks": ""
             }
            },
            "type": "scattercarpet"
           }
          ],
          "scattergeo": [
           {
            "marker": {
             "colorbar": {
              "outlinewidth": 0,
              "ticks": ""
             }
            },
            "type": "scattergeo"
           }
          ],
          "scattergl": [
           {
            "marker": {
             "colorbar": {
              "outlinewidth": 0,
              "ticks": ""
             }
            },
            "type": "scattergl"
           }
          ],
          "scattermapbox": [
           {
            "marker": {
             "colorbar": {
              "outlinewidth": 0,
              "ticks": ""
             }
            },
            "type": "scattermapbox"
           }
          ],
          "scatterpolar": [
           {
            "marker": {
             "colorbar": {
              "outlinewidth": 0,
              "ticks": ""
             }
            },
            "type": "scatterpolar"
           }
          ],
          "scatterpolargl": [
           {
            "marker": {
             "colorbar": {
              "outlinewidth": 0,
              "ticks": ""
             }
            },
            "type": "scatterpolargl"
           }
          ],
          "scatterternary": [
           {
            "marker": {
             "colorbar": {
              "outlinewidth": 0,
              "ticks": ""
             }
            },
            "type": "scatterternary"
           }
          ],
          "surface": [
           {
            "colorbar": {
             "outlinewidth": 0,
             "ticks": ""
            },
            "colorscale": [
             [
              0,
              "#0d0887"
             ],
             [
              0.1111111111111111,
              "#46039f"
             ],
             [
              0.2222222222222222,
              "#7201a8"
             ],
             [
              0.3333333333333333,
              "#9c179e"
             ],
             [
              0.4444444444444444,
              "#bd3786"
             ],
             [
              0.5555555555555556,
              "#d8576b"
             ],
             [
              0.6666666666666666,
              "#ed7953"
             ],
             [
              0.7777777777777778,
              "#fb9f3a"
             ],
             [
              0.8888888888888888,
              "#fdca26"
             ],
             [
              1,
              "#f0f921"
             ]
            ],
            "type": "surface"
           }
          ],
          "table": [
           {
            "cells": {
             "fill": {
              "color": "#EBF0F8"
             },
             "line": {
              "color": "white"
             }
            },
            "header": {
             "fill": {
              "color": "#C8D4E3"
             },
             "line": {
              "color": "white"
             }
            },
            "type": "table"
           }
          ]
         },
         "layout": {
          "annotationdefaults": {
           "arrowcolor": "#2a3f5f",
           "arrowhead": 0,
           "arrowwidth": 1
          },
          "autotypenumbers": "strict",
          "coloraxis": {
           "colorbar": {
            "outlinewidth": 0,
            "ticks": ""
           }
          },
          "colorscale": {
           "diverging": [
            [
             0,
             "#8e0152"
            ],
            [
             0.1,
             "#c51b7d"
            ],
            [
             0.2,
             "#de77ae"
            ],
            [
             0.3,
             "#f1b6da"
            ],
            [
             0.4,
             "#fde0ef"
            ],
            [
             0.5,
             "#f7f7f7"
            ],
            [
             0.6,
             "#e6f5d0"
            ],
            [
             0.7,
             "#b8e186"
            ],
            [
             0.8,
             "#7fbc41"
            ],
            [
             0.9,
             "#4d9221"
            ],
            [
             1,
             "#276419"
            ]
           ],
           "sequential": [
            [
             0,
             "#0d0887"
            ],
            [
             0.1111111111111111,
             "#46039f"
            ],
            [
             0.2222222222222222,
             "#7201a8"
            ],
            [
             0.3333333333333333,
             "#9c179e"
            ],
            [
             0.4444444444444444,
             "#bd3786"
            ],
            [
             0.5555555555555556,
             "#d8576b"
            ],
            [
             0.6666666666666666,
             "#ed7953"
            ],
            [
             0.7777777777777778,
             "#fb9f3a"
            ],
            [
             0.8888888888888888,
             "#fdca26"
            ],
            [
             1,
             "#f0f921"
            ]
           ],
           "sequentialminus": [
            [
             0,
             "#0d0887"
            ],
            [
             0.1111111111111111,
             "#46039f"
            ],
            [
             0.2222222222222222,
             "#7201a8"
            ],
            [
             0.3333333333333333,
             "#9c179e"
            ],
            [
             0.4444444444444444,
             "#bd3786"
            ],
            [
             0.5555555555555556,
             "#d8576b"
            ],
            [
             0.6666666666666666,
             "#ed7953"
            ],
            [
             0.7777777777777778,
             "#fb9f3a"
            ],
            [
             0.8888888888888888,
             "#fdca26"
            ],
            [
             1,
             "#f0f921"
            ]
           ]
          },
          "colorway": [
           "#636efa",
           "#EF553B",
           "#00cc96",
           "#ab63fa",
           "#FFA15A",
           "#19d3f3",
           "#FF6692",
           "#B6E880",
           "#FF97FF",
           "#FECB52"
          ],
          "font": {
           "color": "#2a3f5f"
          },
          "geo": {
           "bgcolor": "white",
           "lakecolor": "white",
           "landcolor": "#E5ECF6",
           "showlakes": true,
           "showland": true,
           "subunitcolor": "white"
          },
          "hoverlabel": {
           "align": "left"
          },
          "hovermode": "closest",
          "mapbox": {
           "style": "light"
          },
          "paper_bgcolor": "white",
          "plot_bgcolor": "#E5ECF6",
          "polar": {
           "angularaxis": {
            "gridcolor": "white",
            "linecolor": "white",
            "ticks": ""
           },
           "bgcolor": "#E5ECF6",
           "radialaxis": {
            "gridcolor": "white",
            "linecolor": "white",
            "ticks": ""
           }
          },
          "scene": {
           "xaxis": {
            "backgroundcolor": "#E5ECF6",
            "gridcolor": "white",
            "gridwidth": 2,
            "linecolor": "white",
            "showbackground": true,
            "ticks": "",
            "zerolinecolor": "white"
           },
           "yaxis": {
            "backgroundcolor": "#E5ECF6",
            "gridcolor": "white",
            "gridwidth": 2,
            "linecolor": "white",
            "showbackground": true,
            "ticks": "",
            "zerolinecolor": "white"
           },
           "zaxis": {
            "backgroundcolor": "#E5ECF6",
            "gridcolor": "white",
            "gridwidth": 2,
            "linecolor": "white",
            "showbackground": true,
            "ticks": "",
            "zerolinecolor": "white"
           }
          },
          "shapedefaults": {
           "line": {
            "color": "#2a3f5f"
           }
          },
          "ternary": {
           "aaxis": {
            "gridcolor": "white",
            "linecolor": "white",
            "ticks": ""
           },
           "baxis": {
            "gridcolor": "white",
            "linecolor": "white",
            "ticks": ""
           },
           "bgcolor": "#E5ECF6",
           "caxis": {
            "gridcolor": "white",
            "linecolor": "white",
            "ticks": ""
           }
          },
          "title": {
           "x": 0.05
          },
          "xaxis": {
           "automargin": true,
           "gridcolor": "white",
           "linecolor": "white",
           "ticks": "",
           "title": {
            "standoff": 15
           },
           "zerolinecolor": "white",
           "zerolinewidth": 2
          },
          "yaxis": {
           "automargin": true,
           "gridcolor": "white",
           "linecolor": "white",
           "ticks": "",
           "title": {
            "standoff": 15
           },
           "zerolinecolor": "white",
           "zerolinewidth": 2
          }
         }
        },
        "xaxis": {
         "anchor": "y",
         "domain": [
          0,
          1
         ],
         "title": {
          "text": "Twitter Status"
         }
        },
        "yaxis": {
         "anchor": "x",
         "domain": [
          0,
          1
         ],
         "title": {
          "text": "count"
         }
        }
       }
      }
     },
     "metadata": {},
     "output_type": "display_data"
    },
    {
     "name": "stdout",
     "output_type": "stream",
     "text": [
      "Due to the randomness of seeds, your graph and response may look slightly different.\n",
      "     With my random seed I simulated fewer than 103 Doss twitter users, and a little bit fewer than the general population\n",
      "     rate of 23% (which would be 92 / 400). The simulation study is more supportive of the null hypothesis than the student study.\n",
      "     But this is to be expected since the simulation was run under the assumption that the null hypothesis is true.\n"
     ]
    },
    {
     "ename": "AssertionError",
     "evalue": "",
     "output_type": "error",
     "traceback": [
      "\u001b[1;31m---------------------------------------------------------------------------\u001b[0m",
      "\u001b[1;31mAssertionError\u001b[0m                            Traceback (most recent call last)",
      "Cell \u001b[1;32mIn[47], line 22\u001b[0m\n\u001b[0;32m     16\u001b[0m solution \u001b[39m=\u001b[39m \u001b[39m'\u001b[39m\u001b[39mDue to the randomness of seeds, your graph and response may look slightly different.\u001b[39m\u001b[39m\\n\u001b[39;00m\u001b[39m \u001b[39m\u001b[39m\\\u001b[39;00m\n\u001b[0;32m     17\u001b[0m \u001b[39m    With my random seed I simulated fewer than 103 Doss twitter users, and a little bit fewer than the general population\u001b[39m\u001b[39m\\n\u001b[39;00m\u001b[39m \u001b[39m\u001b[39m\\\u001b[39;00m\n\u001b[0;32m     18\u001b[0m \u001b[39m    rate of 23\u001b[39m\u001b[39m%\u001b[39m\u001b[39m (which would be 92 / 400). The simulation study is more supportive of the null hypothesis than the student study.\u001b[39m\u001b[39m\\n\u001b[39;00m\u001b[39m \u001b[39m\u001b[39m\\\u001b[39;00m\n\u001b[0;32m     19\u001b[0m \u001b[39m    But this is to be expected since the simulation was run under the assumption that the null hypothesis is true.\u001b[39m\u001b[39m'\u001b[39m\n\u001b[0;32m     20\u001b[0m \u001b[39mprint\u001b[39m(solution)\n\u001b[1;32m---> 22\u001b[0m \u001b[39massert\u001b[39;00m \u001b[39mFalse\u001b[39;00m\n",
      "\u001b[1;31mAssertionError\u001b[0m: "
     ]
    }
   ],
   "source": [
    "# test_Q3\n",
    "# SAMPLE SOLUTION\n",
    "# Simulation of random sample\n",
    "import numpy as np\n",
    "import pandas as pd\n",
    "import plotly.express as px\n",
    "np.random.seed(seed=11)\n",
    "simulated_sample_n400 = np.random.choice(['Twitterer', 'Non_Twitterer'], size=400, replace=True, p=[0.23, 1-0.23])\n",
    "\n",
    "# Plotting results\n",
    "my_df = pd.DataFrame({'Twitter Status': simulated_sample_n400})\n",
    "fig = px.histogram(my_df, x='Twitter Status')\n",
    "fig.show()\n",
    "\n",
    "# Sample solution\n",
    "solution = 'Due to the randomness of seeds, your graph and response may look slightly different.\\n \\\n",
    "    With my random seed I simulated fewer than 103 Doss twitter users, and a little bit fewer than the general population\\n \\\n",
    "    rate of 23% (which would be 92 / 400). The simulation study is more supportive of the null hypothesis than the student study.\\n \\\n",
    "    But this is to be expected since the simulation was run under the assumption that the null hypothesis is true.'\n",
    "print(solution)\n",
    "\n",
    "assert False\n"
   ]
  },
  {
   "attachments": {},
   "cell_type": "markdown",
   "metadata": {},
   "source": [
    "### Q4: Simulate 1000 samples of size $n=400$ DoSS students Twitter usage status under the assumption that the prevalence of Twitter usage among DoSS students matches that of the general population and plot the *sampling distribution* of the $\\hat p$ observed in your simulations and describe the distribution.\n",
    "\n",
    "- Set the `np.random.seed()` before the `for` loop to the last 2 digits of your student number. Assign this seed number to `Q4` \n",
    "- Clearly label your figure with `fig.update_layout(title=f\"A primary title\\n second line\")`\n",
    "\n",
    "#### Plot your figure in the code cell below and write a one to two sentence answer of the distribution in the MarkDown cell below that\n",
    "\n",
    "\n",
    "> Hints:\n",
    "> - If you don't set a random seed the simulation \"randomness\" will be different each time its run!\n",
    "> - Then your graph won't be reproducible and your interpretations and conclusions won't match!\n",
    "> - Be careful not to confuse the number of samples that you're simulating with the *sample size* $n$ of each of those simulated samples \n",
    "\n",
    "- You can compare your answer with the example solution provided by MarkUs"
   ]
  },
  {
   "cell_type": "code",
   "execution_count": 67,
   "metadata": {},
   "outputs": [],
   "source": [
    "Q4 = None # Assign Q4 to your integer seed number to be used for testing in Q8\n",
    "# E.g. Q4 = 10\n"
   ]
  },
  {
   "cell_type": "code",
   "execution_count": null,
   "metadata": {},
   "outputs": [],
   "source": [
    "# Run your simulation(s) here\n",
    "simulated_samples,n = 1000,400\n",
    "p_hats = [] # or an np.array that you index into\n",
    "# <add random seed setting>\n",
    "for i in range(simulated_samples):\n",
    "    pass # simulate a sample and calculate \n",
    "         # and store the p-hat sample statistic "
   ]
  },
  {
   "cell_type": "code",
   "execution_count": null,
   "metadata": {},
   "outputs": [],
   "source": [
    "# Create your figure here\n"
   ]
  },
  {
   "attachments": {},
   "cell_type": "markdown",
   "metadata": {},
   "source": [
    "> Answer here..."
   ]
  },
  {
   "cell_type": "code",
   "execution_count": 85,
   "metadata": {},
   "outputs": [
    {
     "data": {
      "application/vnd.plotly.v1+json": {
       "config": {
        "plotlyServerURL": "https://plot.ly"
       },
       "data": [
        {
         "alignmentgroup": "True",
         "bingroup": "x",
         "histnorm": "probability density",
         "hovertemplate": "Proportion of Twitter Users=%{x}<br>probability density=%{y}<extra></extra>",
         "legendgroup": "",
         "marker": {
          "color": "#636efa",
          "pattern": {
           "shape": ""
          }
         },
         "name": "",
         "nbinsx": 30,
         "offsetgroup": "",
         "orientation": "v",
         "showlegend": false,
         "type": "histogram",
         "x": [
          0.2525,
          0.2325,
          0.2425,
          0.2025,
          0.2575,
          0.265,
          0.2575,
          0.2625,
          0.2475,
          0.2325,
          0.2225,
          0.24,
          0.2225,
          0.2575,
          0.2275,
          0.25,
          0.2625,
          0.2825,
          0.2575,
          0.2175,
          0.26,
          0.24,
          0.215,
          0.2,
          0.225,
          0.26,
          0.2575,
          0.2625,
          0.225,
          0.215,
          0.235,
          0.2075,
          0.2725,
          0.2525,
          0.2225,
          0.235,
          0.2025,
          0.205,
          0.25,
          0.255,
          0.265,
          0.2325,
          0.26,
          0.27,
          0.23,
          0.215,
          0.255,
          0.185,
          0.2525,
          0.225,
          0.2375,
          0.2425,
          0.215,
          0.2325,
          0.2025,
          0.2275,
          0.205,
          0.2425,
          0.2225,
          0.2125,
          0.215,
          0.2475,
          0.23,
          0.225,
          0.225,
          0.2175,
          0.2075,
          0.22,
          0.2575,
          0.215,
          0.22,
          0.2225,
          0.2275,
          0.2475,
          0.2425,
          0.2425,
          0.2075,
          0.2675,
          0.2225,
          0.21,
          0.245,
          0.2375,
          0.2075,
          0.1925,
          0.245,
          0.2925,
          0.2025,
          0.2475,
          0.23,
          0.2125,
          0.2125,
          0.235,
          0.24,
          0.2325,
          0.2075,
          0.215,
          0.21,
          0.2375,
          0.2125,
          0.24,
          0.2425,
          0.2,
          0.2175,
          0.22,
          0.1825,
          0.2475,
          0.2075,
          0.2175,
          0.2475,
          0.1925,
          0.1975,
          0.2125,
          0.23,
          0.2475,
          0.22,
          0.255,
          0.21,
          0.275,
          0.215,
          0.2075,
          0.2375,
          0.235,
          0.2325,
          0.2175,
          0.2325,
          0.24,
          0.245,
          0.2275,
          0.2225,
          0.2525,
          0.2275,
          0.23,
          0.2375,
          0.18,
          0.245,
          0.245,
          0.255,
          0.22,
          0.25,
          0.2,
          0.2025,
          0.2175,
          0.2275,
          0.22,
          0.2175,
          0.2725,
          0.27,
          0.2525,
          0.2175,
          0.265,
          0.225,
          0.27,
          0.2175,
          0.2225,
          0.22,
          0.2425,
          0.255,
          0.2175,
          0.235,
          0.2525,
          0.23,
          0.23,
          0.23,
          0.2,
          0.23,
          0.215,
          0.215,
          0.245,
          0.2375,
          0.2375,
          0.26,
          0.225,
          0.205,
          0.215,
          0.2225,
          0.2225,
          0.2225,
          0.2825,
          0.2025,
          0.2175,
          0.215,
          0.2025,
          0.2225,
          0.2375,
          0.235,
          0.23,
          0.2575,
          0.2425,
          0.2575,
          0.23,
          0.2325,
          0.2475,
          0.2675,
          0.1825,
          0.225,
          0.21,
          0.23,
          0.2325,
          0.2125,
          0.22,
          0.22,
          0.26,
          0.235,
          0.26,
          0.235,
          0.235,
          0.24,
          0.2625,
          0.2425,
          0.2175,
          0.2225,
          0.2075,
          0.2425,
          0.245,
          0.21,
          0.2275,
          0.2125,
          0.2175,
          0.195,
          0.2375,
          0.2275,
          0.22,
          0.2025,
          0.23,
          0.2325,
          0.2625,
          0.2475,
          0.23,
          0.235,
          0.2075,
          0.2525,
          0.23,
          0.23,
          0.2125,
          0.2325,
          0.2325,
          0.24,
          0.2075,
          0.235,
          0.2225,
          0.23,
          0.19,
          0.2325,
          0.2075,
          0.1975,
          0.2325,
          0.215,
          0.2425,
          0.205,
          0.2425,
          0.21,
          0.2475,
          0.2375,
          0.245,
          0.23,
          0.2125,
          0.23,
          0.2475,
          0.255,
          0.22,
          0.2075,
          0.23,
          0.255,
          0.2325,
          0.205,
          0.225,
          0.23,
          0.215,
          0.275,
          0.215,
          0.265,
          0.2325,
          0.26,
          0.26,
          0.2325,
          0.2275,
          0.285,
          0.2275,
          0.2,
          0.26,
          0.2325,
          0.245,
          0.2225,
          0.2375,
          0.1925,
          0.2475,
          0.2,
          0.205,
          0.2325,
          0.2475,
          0.2175,
          0.2,
          0.21,
          0.2525,
          0.2125,
          0.195,
          0.2175,
          0.235,
          0.25,
          0.2525,
          0.255,
          0.255,
          0.22,
          0.215,
          0.2125,
          0.23,
          0.235,
          0.2375,
          0.195,
          0.2325,
          0.23,
          0.26,
          0.2275,
          0.2075,
          0.2425,
          0.2375,
          0.26,
          0.2275,
          0.2075,
          0.23,
          0.2475,
          0.2425,
          0.235,
          0.24,
          0.2425,
          0.22,
          0.2575,
          0.2575,
          0.2425,
          0.2125,
          0.2475,
          0.23,
          0.205,
          0.2375,
          0.235,
          0.1975,
          0.205,
          0.1775,
          0.26,
          0.225,
          0.2075,
          0.255,
          0.2125,
          0.2625,
          0.2425,
          0.2375,
          0.235,
          0.26,
          0.22,
          0.23,
          0.22,
          0.2275,
          0.215,
          0.22,
          0.225,
          0.2,
          0.2475,
          0.2125,
          0.2175,
          0.2275,
          0.2125,
          0.255,
          0.2325,
          0.2425,
          0.2175,
          0.2025,
          0.2225,
          0.2375,
          0.22,
          0.23,
          0.2325,
          0.255,
          0.22,
          0.2125,
          0.2225,
          0.2525,
          0.2175,
          0.2425,
          0.215,
          0.205,
          0.205,
          0.235,
          0.2175,
          0.265,
          0.255,
          0.2575,
          0.2375,
          0.2175,
          0.205,
          0.235,
          0.2275,
          0.2525,
          0.2425,
          0.1875,
          0.2375,
          0.26,
          0.215,
          0.25,
          0.2075,
          0.2275,
          0.2225,
          0.2175,
          0.2425,
          0.235,
          0.275,
          0.245,
          0.2275,
          0.2375,
          0.2075,
          0.215,
          0.2375,
          0.2225,
          0.255,
          0.275,
          0.2,
          0.2425,
          0.255,
          0.2625,
          0.24,
          0.22,
          0.2475,
          0.205,
          0.235,
          0.2375,
          0.2275,
          0.1925,
          0.19,
          0.2225,
          0.26,
          0.22,
          0.2175,
          0.23,
          0.29,
          0.25,
          0.225,
          0.1975,
          0.2475,
          0.2275,
          0.2475,
          0.2425,
          0.195,
          0.2375,
          0.215,
          0.2225,
          0.2125,
          0.2025,
          0.22,
          0.2275,
          0.2325,
          0.2225,
          0.26,
          0.2225,
          0.2525,
          0.255,
          0.2225,
          0.2375,
          0.1875,
          0.22,
          0.2025,
          0.265,
          0.255,
          0.175,
          0.2,
          0.245,
          0.265,
          0.2525,
          0.2375,
          0.26,
          0.2325,
          0.2125,
          0.235,
          0.21,
          0.2125,
          0.1925,
          0.2325,
          0.25,
          0.225,
          0.265,
          0.2025,
          0.26,
          0.225,
          0.225,
          0.23,
          0.215,
          0.2125,
          0.23,
          0.2175,
          0.2375,
          0.24,
          0.2325,
          0.2475,
          0.235,
          0.225,
          0.2375,
          0.225,
          0.24,
          0.23,
          0.2375,
          0.25,
          0.24,
          0.2375,
          0.22,
          0.2275,
          0.25,
          0.2,
          0.2175,
          0.27,
          0.2275,
          0.27,
          0.2075,
          0.2275,
          0.25,
          0.27,
          0.22,
          0.2125,
          0.2325,
          0.235,
          0.24,
          0.2175,
          0.2325,
          0.255,
          0.25,
          0.2225,
          0.24,
          0.2475,
          0.2025,
          0.23,
          0.22,
          0.2375,
          0.2175,
          0.2275,
          0.2325,
          0.2175,
          0.2075,
          0.17,
          0.22,
          0.225,
          0.2025,
          0.2225,
          0.26,
          0.2125,
          0.21,
          0.165,
          0.2125,
          0.205,
          0.21,
          0.2375,
          0.205,
          0.225,
          0.2275,
          0.245,
          0.235,
          0.21,
          0.21,
          0.2125,
          0.1775,
          0.2075,
          0.1975,
          0.2425,
          0.2375,
          0.245,
          0.22,
          0.255,
          0.2175,
          0.205,
          0.2425,
          0.265,
          0.225,
          0.21,
          0.23,
          0.255,
          0.25,
          0.24,
          0.255,
          0.21,
          0.2075,
          0.2175,
          0.215,
          0.225,
          0.235,
          0.235,
          0.2275,
          0.24,
          0.2375,
          0.265,
          0.2375,
          0.2475,
          0.23,
          0.2125,
          0.245,
          0.255,
          0.24,
          0.215,
          0.2425,
          0.2375,
          0.215,
          0.2475,
          0.23,
          0.235,
          0.2525,
          0.2175,
          0.2175,
          0.2475,
          0.255,
          0.2075,
          0.165,
          0.2375,
          0.19,
          0.2075,
          0.2275,
          0.2475,
          0.2375,
          0.2375,
          0.2075,
          0.245,
          0.1925,
          0.2675,
          0.2275,
          0.24,
          0.1825,
          0.2025,
          0.2275,
          0.2425,
          0.2125,
          0.2475,
          0.2025,
          0.23,
          0.2375,
          0.2675,
          0.2175,
          0.215,
          0.225,
          0.2575,
          0.2375,
          0.225,
          0.1925,
          0.2725,
          0.27,
          0.235,
          0.2275,
          0.25,
          0.2,
          0.2225,
          0.225,
          0.2,
          0.24,
          0.2375,
          0.225,
          0.26,
          0.265,
          0.21,
          0.2575,
          0.2425,
          0.2325,
          0.2225,
          0.2275,
          0.2325,
          0.225,
          0.2525,
          0.2325,
          0.24,
          0.25,
          0.25,
          0.21,
          0.22,
          0.2375,
          0.2375,
          0.2025,
          0.245,
          0.1875,
          0.195,
          0.245,
          0.265,
          0.2,
          0.255,
          0.24,
          0.205,
          0.225,
          0.2325,
          0.2375,
          0.23,
          0.22,
          0.2175,
          0.225,
          0.22,
          0.24,
          0.25,
          0.2475,
          0.2025,
          0.2325,
          0.24,
          0.2475,
          0.2025,
          0.25,
          0.1975,
          0.2525,
          0.2075,
          0.26,
          0.2,
          0.2075,
          0.2075,
          0.2125,
          0.2475,
          0.1975,
          0.245,
          0.2575,
          0.225,
          0.2075,
          0.1825,
          0.21,
          0.225,
          0.2375,
          0.23,
          0.21,
          0.2475,
          0.2225,
          0.26,
          0.2225,
          0.2375,
          0.215,
          0.23,
          0.2025,
          0.22,
          0.24,
          0.215,
          0.2275,
          0.225,
          0.2225,
          0.21,
          0.1875,
          0.23,
          0.245,
          0.255,
          0.215,
          0.22,
          0.225,
          0.23,
          0.2525,
          0.245,
          0.2575,
          0.265,
          0.2525,
          0.24,
          0.235,
          0.2375,
          0.205,
          0.23,
          0.2775,
          0.2375,
          0.24,
          0.2375,
          0.2375,
          0.22,
          0.2525,
          0.2325,
          0.1975,
          0.2025,
          0.2375,
          0.2225,
          0.2675,
          0.2075,
          0.21,
          0.195,
          0.2325,
          0.215,
          0.2825,
          0.225,
          0.225,
          0.24,
          0.245,
          0.2375,
          0.2725,
          0.2025,
          0.225,
          0.245,
          0.24,
          0.245,
          0.2075,
          0.27,
          0.2175,
          0.2375,
          0.2275,
          0.225,
          0.2275,
          0.2175,
          0.2325,
          0.2325,
          0.215,
          0.225,
          0.245,
          0.1875,
          0.2325,
          0.2375,
          0.2125,
          0.2825,
          0.2175,
          0.23,
          0.2275,
          0.21,
          0.205,
          0.2275,
          0.26,
          0.225,
          0.24,
          0.2525,
          0.24,
          0.2125,
          0.215,
          0.24,
          0.215,
          0.225,
          0.205,
          0.25,
          0.2125,
          0.205,
          0.2475,
          0.2725,
          0.2475,
          0.215,
          0.2075,
          0.215,
          0.22,
          0.2525,
          0.225,
          0.215,
          0.2375,
          0.225,
          0.26,
          0.235,
          0.2225,
          0.23,
          0.225,
          0.2425,
          0.215,
          0.22,
          0.2125,
          0.2675,
          0.2125,
          0.2275,
          0.2525,
          0.2275,
          0.2275,
          0.2175,
          0.2075,
          0.2175,
          0.175,
          0.165,
          0.235,
          0.235,
          0.2325,
          0.195,
          0.255,
          0.215,
          0.2375,
          0.22,
          0.2175,
          0.2475,
          0.215,
          0.2175,
          0.235,
          0.2275,
          0.2625,
          0.22,
          0.25,
          0.245,
          0.2575,
          0.23,
          0.2575,
          0.2275,
          0.225,
          0.2575,
          0.2275,
          0.215,
          0.25,
          0.22,
          0.2075,
          0.24,
          0.22,
          0.2625,
          0.1825,
          0.22,
          0.1775,
          0.24,
          0.24,
          0.24,
          0.22,
          0.225,
          0.2275,
          0.235,
          0.2625,
          0.26,
          0.23,
          0.2375,
          0.2175,
          0.2225,
          0.245,
          0.24,
          0.26,
          0.2275,
          0.19,
          0.2275,
          0.245,
          0.26,
          0.2575,
          0.2275,
          0.2325,
          0.2525,
          0.27,
          0.24,
          0.2475,
          0.2375,
          0.22,
          0.235,
          0.2175,
          0.2275,
          0.2325,
          0.255,
          0.2075,
          0.21,
          0.225,
          0.235,
          0.235,
          0.2425,
          0.2425,
          0.235,
          0.2075,
          0.2075,
          0.2125,
          0.215,
          0.22,
          0.2525,
          0.2375,
          0.2625,
          0.2225,
          0.2075,
          0.23,
          0.24,
          0.2325,
          0.2175,
          0.2275,
          0.275,
          0.2375,
          0.1825,
          0.215,
          0.22,
          0.2625,
          0.24,
          0.2225,
          0.2075,
          0.2525,
          0.2325,
          0.2075,
          0.2125,
          0.25,
          0.21,
          0.225,
          0.2325,
          0.275,
          0.24,
          0.23,
          0.2475,
          0.2,
          0.2675,
          0.2525,
          0.22,
          0.21,
          0.2325,
          0.2325,
          0.2175,
          0.24,
          0.21,
          0.2225,
          0.235,
          0.245,
          0.235,
          0.24,
          0.2425,
          0.2375,
          0.2175,
          0.2275,
          0.2575,
          0.2425,
          0.2275,
          0.2125,
          0.2275,
          0.2325,
          0.225,
          0.245,
          0.24,
          0.235,
          0.205,
          0.2475,
          0.2625,
          0.205,
          0.2125,
          0.2425,
          0.2475,
          0.215,
          0.2875,
          0.2625
         ],
         "xaxis": "x",
         "yaxis": "y"
        }
       ],
       "layout": {
        "barmode": "relative",
        "legend": {
         "tracegroupgap": 0
        },
        "margin": {
         "t": 60
        },
        "template": {
         "data": {
          "bar": [
           {
            "error_x": {
             "color": "#2a3f5f"
            },
            "error_y": {
             "color": "#2a3f5f"
            },
            "marker": {
             "line": {
              "color": "#E5ECF6",
              "width": 0.5
             },
             "pattern": {
              "fillmode": "overlay",
              "size": 10,
              "solidity": 0.2
             }
            },
            "type": "bar"
           }
          ],
          "barpolar": [
           {
            "marker": {
             "line": {
              "color": "#E5ECF6",
              "width": 0.5
             },
             "pattern": {
              "fillmode": "overlay",
              "size": 10,
              "solidity": 0.2
             }
            },
            "type": "barpolar"
           }
          ],
          "carpet": [
           {
            "aaxis": {
             "endlinecolor": "#2a3f5f",
             "gridcolor": "white",
             "linecolor": "white",
             "minorgridcolor": "white",
             "startlinecolor": "#2a3f5f"
            },
            "baxis": {
             "endlinecolor": "#2a3f5f",
             "gridcolor": "white",
             "linecolor": "white",
             "minorgridcolor": "white",
             "startlinecolor": "#2a3f5f"
            },
            "type": "carpet"
           }
          ],
          "choropleth": [
           {
            "colorbar": {
             "outlinewidth": 0,
             "ticks": ""
            },
            "type": "choropleth"
           }
          ],
          "contour": [
           {
            "colorbar": {
             "outlinewidth": 0,
             "ticks": ""
            },
            "colorscale": [
             [
              0,
              "#0d0887"
             ],
             [
              0.1111111111111111,
              "#46039f"
             ],
             [
              0.2222222222222222,
              "#7201a8"
             ],
             [
              0.3333333333333333,
              "#9c179e"
             ],
             [
              0.4444444444444444,
              "#bd3786"
             ],
             [
              0.5555555555555556,
              "#d8576b"
             ],
             [
              0.6666666666666666,
              "#ed7953"
             ],
             [
              0.7777777777777778,
              "#fb9f3a"
             ],
             [
              0.8888888888888888,
              "#fdca26"
             ],
             [
              1,
              "#f0f921"
             ]
            ],
            "type": "contour"
           }
          ],
          "contourcarpet": [
           {
            "colorbar": {
             "outlinewidth": 0,
             "ticks": ""
            },
            "type": "contourcarpet"
           }
          ],
          "heatmap": [
           {
            "colorbar": {
             "outlinewidth": 0,
             "ticks": ""
            },
            "colorscale": [
             [
              0,
              "#0d0887"
             ],
             [
              0.1111111111111111,
              "#46039f"
             ],
             [
              0.2222222222222222,
              "#7201a8"
             ],
             [
              0.3333333333333333,
              "#9c179e"
             ],
             [
              0.4444444444444444,
              "#bd3786"
             ],
             [
              0.5555555555555556,
              "#d8576b"
             ],
             [
              0.6666666666666666,
              "#ed7953"
             ],
             [
              0.7777777777777778,
              "#fb9f3a"
             ],
             [
              0.8888888888888888,
              "#fdca26"
             ],
             [
              1,
              "#f0f921"
             ]
            ],
            "type": "heatmap"
           }
          ],
          "heatmapgl": [
           {
            "colorbar": {
             "outlinewidth": 0,
             "ticks": ""
            },
            "colorscale": [
             [
              0,
              "#0d0887"
             ],
             [
              0.1111111111111111,
              "#46039f"
             ],
             [
              0.2222222222222222,
              "#7201a8"
             ],
             [
              0.3333333333333333,
              "#9c179e"
             ],
             [
              0.4444444444444444,
              "#bd3786"
             ],
             [
              0.5555555555555556,
              "#d8576b"
             ],
             [
              0.6666666666666666,
              "#ed7953"
             ],
             [
              0.7777777777777778,
              "#fb9f3a"
             ],
             [
              0.8888888888888888,
              "#fdca26"
             ],
             [
              1,
              "#f0f921"
             ]
            ],
            "type": "heatmapgl"
           }
          ],
          "histogram": [
           {
            "marker": {
             "pattern": {
              "fillmode": "overlay",
              "size": 10,
              "solidity": 0.2
             }
            },
            "type": "histogram"
           }
          ],
          "histogram2d": [
           {
            "colorbar": {
             "outlinewidth": 0,
             "ticks": ""
            },
            "colorscale": [
             [
              0,
              "#0d0887"
             ],
             [
              0.1111111111111111,
              "#46039f"
             ],
             [
              0.2222222222222222,
              "#7201a8"
             ],
             [
              0.3333333333333333,
              "#9c179e"
             ],
             [
              0.4444444444444444,
              "#bd3786"
             ],
             [
              0.5555555555555556,
              "#d8576b"
             ],
             [
              0.6666666666666666,
              "#ed7953"
             ],
             [
              0.7777777777777778,
              "#fb9f3a"
             ],
             [
              0.8888888888888888,
              "#fdca26"
             ],
             [
              1,
              "#f0f921"
             ]
            ],
            "type": "histogram2d"
           }
          ],
          "histogram2dcontour": [
           {
            "colorbar": {
             "outlinewidth": 0,
             "ticks": ""
            },
            "colorscale": [
             [
              0,
              "#0d0887"
             ],
             [
              0.1111111111111111,
              "#46039f"
             ],
             [
              0.2222222222222222,
              "#7201a8"
             ],
             [
              0.3333333333333333,
              "#9c179e"
             ],
             [
              0.4444444444444444,
              "#bd3786"
             ],
             [
              0.5555555555555556,
              "#d8576b"
             ],
             [
              0.6666666666666666,
              "#ed7953"
             ],
             [
              0.7777777777777778,
              "#fb9f3a"
             ],
             [
              0.8888888888888888,
              "#fdca26"
             ],
             [
              1,
              "#f0f921"
             ]
            ],
            "type": "histogram2dcontour"
           }
          ],
          "mesh3d": [
           {
            "colorbar": {
             "outlinewidth": 0,
             "ticks": ""
            },
            "type": "mesh3d"
           }
          ],
          "parcoords": [
           {
            "line": {
             "colorbar": {
              "outlinewidth": 0,
              "ticks": ""
             }
            },
            "type": "parcoords"
           }
          ],
          "pie": [
           {
            "automargin": true,
            "type": "pie"
           }
          ],
          "scatter": [
           {
            "fillpattern": {
             "fillmode": "overlay",
             "size": 10,
             "solidity": 0.2
            },
            "type": "scatter"
           }
          ],
          "scatter3d": [
           {
            "line": {
             "colorbar": {
              "outlinewidth": 0,
              "ticks": ""
             }
            },
            "marker": {
             "colorbar": {
              "outlinewidth": 0,
              "ticks": ""
             }
            },
            "type": "scatter3d"
           }
          ],
          "scattercarpet": [
           {
            "marker": {
             "colorbar": {
              "outlinewidth": 0,
              "ticks": ""
             }
            },
            "type": "scattercarpet"
           }
          ],
          "scattergeo": [
           {
            "marker": {
             "colorbar": {
              "outlinewidth": 0,
              "ticks": ""
             }
            },
            "type": "scattergeo"
           }
          ],
          "scattergl": [
           {
            "marker": {
             "colorbar": {
              "outlinewidth": 0,
              "ticks": ""
             }
            },
            "type": "scattergl"
           }
          ],
          "scattermapbox": [
           {
            "marker": {
             "colorbar": {
              "outlinewidth": 0,
              "ticks": ""
             }
            },
            "type": "scattermapbox"
           }
          ],
          "scatterpolar": [
           {
            "marker": {
             "colorbar": {
              "outlinewidth": 0,
              "ticks": ""
             }
            },
            "type": "scatterpolar"
           }
          ],
          "scatterpolargl": [
           {
            "marker": {
             "colorbar": {
              "outlinewidth": 0,
              "ticks": ""
             }
            },
            "type": "scatterpolargl"
           }
          ],
          "scatterternary": [
           {
            "marker": {
             "colorbar": {
              "outlinewidth": 0,
              "ticks": ""
             }
            },
            "type": "scatterternary"
           }
          ],
          "surface": [
           {
            "colorbar": {
             "outlinewidth": 0,
             "ticks": ""
            },
            "colorscale": [
             [
              0,
              "#0d0887"
             ],
             [
              0.1111111111111111,
              "#46039f"
             ],
             [
              0.2222222222222222,
              "#7201a8"
             ],
             [
              0.3333333333333333,
              "#9c179e"
             ],
             [
              0.4444444444444444,
              "#bd3786"
             ],
             [
              0.5555555555555556,
              "#d8576b"
             ],
             [
              0.6666666666666666,
              "#ed7953"
             ],
             [
              0.7777777777777778,
              "#fb9f3a"
             ],
             [
              0.8888888888888888,
              "#fdca26"
             ],
             [
              1,
              "#f0f921"
             ]
            ],
            "type": "surface"
           }
          ],
          "table": [
           {
            "cells": {
             "fill": {
              "color": "#EBF0F8"
             },
             "line": {
              "color": "white"
             }
            },
            "header": {
             "fill": {
              "color": "#C8D4E3"
             },
             "line": {
              "color": "white"
             }
            },
            "type": "table"
           }
          ]
         },
         "layout": {
          "annotationdefaults": {
           "arrowcolor": "#2a3f5f",
           "arrowhead": 0,
           "arrowwidth": 1
          },
          "autotypenumbers": "strict",
          "coloraxis": {
           "colorbar": {
            "outlinewidth": 0,
            "ticks": ""
           }
          },
          "colorscale": {
           "diverging": [
            [
             0,
             "#8e0152"
            ],
            [
             0.1,
             "#c51b7d"
            ],
            [
             0.2,
             "#de77ae"
            ],
            [
             0.3,
             "#f1b6da"
            ],
            [
             0.4,
             "#fde0ef"
            ],
            [
             0.5,
             "#f7f7f7"
            ],
            [
             0.6,
             "#e6f5d0"
            ],
            [
             0.7,
             "#b8e186"
            ],
            [
             0.8,
             "#7fbc41"
            ],
            [
             0.9,
             "#4d9221"
            ],
            [
             1,
             "#276419"
            ]
           ],
           "sequential": [
            [
             0,
             "#0d0887"
            ],
            [
             0.1111111111111111,
             "#46039f"
            ],
            [
             0.2222222222222222,
             "#7201a8"
            ],
            [
             0.3333333333333333,
             "#9c179e"
            ],
            [
             0.4444444444444444,
             "#bd3786"
            ],
            [
             0.5555555555555556,
             "#d8576b"
            ],
            [
             0.6666666666666666,
             "#ed7953"
            ],
            [
             0.7777777777777778,
             "#fb9f3a"
            ],
            [
             0.8888888888888888,
             "#fdca26"
            ],
            [
             1,
             "#f0f921"
            ]
           ],
           "sequentialminus": [
            [
             0,
             "#0d0887"
            ],
            [
             0.1111111111111111,
             "#46039f"
            ],
            [
             0.2222222222222222,
             "#7201a8"
            ],
            [
             0.3333333333333333,
             "#9c179e"
            ],
            [
             0.4444444444444444,
             "#bd3786"
            ],
            [
             0.5555555555555556,
             "#d8576b"
            ],
            [
             0.6666666666666666,
             "#ed7953"
            ],
            [
             0.7777777777777778,
             "#fb9f3a"
            ],
            [
             0.8888888888888888,
             "#fdca26"
            ],
            [
             1,
             "#f0f921"
            ]
           ]
          },
          "colorway": [
           "#636efa",
           "#EF553B",
           "#00cc96",
           "#ab63fa",
           "#FFA15A",
           "#19d3f3",
           "#FF6692",
           "#B6E880",
           "#FF97FF",
           "#FECB52"
          ],
          "font": {
           "color": "#2a3f5f"
          },
          "geo": {
           "bgcolor": "white",
           "lakecolor": "white",
           "landcolor": "#E5ECF6",
           "showlakes": true,
           "showland": true,
           "subunitcolor": "white"
          },
          "hoverlabel": {
           "align": "left"
          },
          "hovermode": "closest",
          "mapbox": {
           "style": "light"
          },
          "paper_bgcolor": "white",
          "plot_bgcolor": "#E5ECF6",
          "polar": {
           "angularaxis": {
            "gridcolor": "white",
            "linecolor": "white",
            "ticks": ""
           },
           "bgcolor": "#E5ECF6",
           "radialaxis": {
            "gridcolor": "white",
            "linecolor": "white",
            "ticks": ""
           }
          },
          "scene": {
           "xaxis": {
            "backgroundcolor": "#E5ECF6",
            "gridcolor": "white",
            "gridwidth": 2,
            "linecolor": "white",
            "showbackground": true,
            "ticks": "",
            "zerolinecolor": "white"
           },
           "yaxis": {
            "backgroundcolor": "#E5ECF6",
            "gridcolor": "white",
            "gridwidth": 2,
            "linecolor": "white",
            "showbackground": true,
            "ticks": "",
            "zerolinecolor": "white"
           },
           "zaxis": {
            "backgroundcolor": "#E5ECF6",
            "gridcolor": "white",
            "gridwidth": 2,
            "linecolor": "white",
            "showbackground": true,
            "ticks": "",
            "zerolinecolor": "white"
           }
          },
          "shapedefaults": {
           "line": {
            "color": "#2a3f5f"
           }
          },
          "ternary": {
           "aaxis": {
            "gridcolor": "white",
            "linecolor": "white",
            "ticks": ""
           },
           "baxis": {
            "gridcolor": "white",
            "linecolor": "white",
            "ticks": ""
           },
           "bgcolor": "#E5ECF6",
           "caxis": {
            "gridcolor": "white",
            "linecolor": "white",
            "ticks": ""
           }
          },
          "title": {
           "x": 0.05
          },
          "xaxis": {
           "automargin": true,
           "gridcolor": "white",
           "linecolor": "white",
           "ticks": "",
           "title": {
            "standoff": 15
           },
           "zerolinecolor": "white",
           "zerolinewidth": 2
          },
          "yaxis": {
           "automargin": true,
           "gridcolor": "white",
           "linecolor": "white",
           "ticks": "",
           "title": {
            "standoff": 15
           },
           "zerolinecolor": "white",
           "zerolinewidth": 2
          }
         }
        },
        "title": {
         "text": "$\\text{Sampling distribution of } \\hat{p} \\text{ assuming } H_0 \\text{ is true: the woman is guessing}$"
        },
        "xaxis": {
         "anchor": "y",
         "domain": [
          0,
          1
         ],
         "title": {
          "text": "$\\hat{p} \\text{ values for 12 \"50/50\" chance guesses}$"
         }
        },
        "yaxis": {
         "anchor": "x",
         "domain": [
          0,
          1
         ],
         "title": {
          "text": "Density"
         }
        }
       }
      }
     },
     "metadata": {},
     "output_type": "display_data"
    },
    {
     "name": "stdout",
     "output_type": "stream",
     "text": [
      "The distribution is symmetric, and centered on $p=0.23$, the assumption of the null hypothesis. More than 95% of the\n",
      "data is between 0.175 and 0.275.\n"
     ]
    },
    {
     "data": {
      "text/plain": [
       "196"
      ]
     },
     "execution_count": 85,
     "metadata": {},
     "output_type": "execute_result"
    }
   ],
   "source": [
    "# test_Q4\n",
    "# SAMPLE SOLUTION\n",
    "simulated_samples,n = 1000,400\n",
    "p_hats = [] # or an np.array that you index into\n",
    "np.random.seed(seed=10)\n",
    "\n",
    "for i in range(simulated_samples): # simulate a sample and calculate \n",
    "    # and store the p-hat sample statistic \n",
    "    sample = np.random.choice(['Twitterer', 'Non_Twitterer'], size=n, replace=True, p=[0.23, 1-0.23])\n",
    "    sample_prop = np.count_nonzero(sample == 'Twitterer') / 400\n",
    "    p_hats.append(sample_prop)\n",
    "\n",
    "# Create your figure here\n",
    "dataframe = pd.DataFrame({'Proportion of Twitter Users': p_hats})\n",
    "fig = px.histogram(dataframe, x='Proportion of Twitter Users', nbins=30, histnorm = 'probability density')\n",
    "fig.update_layout(title='$\\\\text{Sampling distribution of } \\hat{p} \\\\text{ assuming } H_0 \\\\text{ is true: the woman is guessing}$', \n",
    "                  xaxis_title='$\\\\hat{p} \\\\text{ values for 12 \"50/50\" chance guesses}$', yaxis_title='Density')\n",
    "fig.show()\n",
    "\n",
    "solution = \"The distribution is symmetric, and centered on $p=0.23$, the assumption of the null hypothesis. More than 95% of the\\n\\\n",
    "data is between 0.175 and 0.275.\"\n",
    "print(solution)\n",
    "\n",
    "assert False"
   ]
  },
  {
   "attachments": {},
   "cell_type": "markdown",
   "metadata": {},
   "source": [
    "### Q5: What is the definition of a p-value?  \n",
    "A. The probability that the observed results were produced by random chance   \n",
    "B. The probability that the null hypothesis is true  \n",
    "C. The probability that rejecting the null hypothesis is a mistake  \n",
    "D. The probability of getting a test statistic as or more extreme than the one we observed if the null hypothesis was true  "
   ]
  },
  {
   "cell_type": "code",
   "execution_count": null,
   "metadata": {},
   "outputs": [],
   "source": [
    "# Q5: Your answer will be automatically tested on MarkUs\n",
    "Q5 = None  # Assign either 'A' or 'B' or 'C' or 'D' to `Q5` instead of `None`\n",
    "# E.g., Q5 = 'A'"
   ]
  },
  {
   "cell_type": "code",
   "execution_count": null,
   "metadata": {},
   "outputs": [],
   "source": [
    "# test_Q5\n",
    "assert Q5 == 'D'"
   ]
  },
  {
   "attachments": {},
   "cell_type": "markdown",
   "metadata": {},
   "source": [
    "### Q6: What was the value of the observed test statistic that we saw?\n",
    "A. 0.23  \n",
    "B. 103/400  \n",
    "C. One of the values simulated in Q4  \n",
    "D. Some other value"
   ]
  },
  {
   "cell_type": "code",
   "execution_count": null,
   "metadata": {},
   "outputs": [],
   "source": [
    "# Q6: Your answer will be automatically tested on MarkUs\n",
    "Q6 = None  # Assign either 'A' or 'B' or 'C' or 'D' to `Q6` instead of `None`\n",
    "# E.g., Q6 = 'A'"
   ]
  },
  {
   "cell_type": "code",
   "execution_count": null,
   "metadata": {},
   "outputs": [],
   "source": [
    "# test_Q6\n",
    "assert Q6 == 'B'"
   ]
  },
  {
   "attachments": {},
   "cell_type": "markdown",
   "metadata": {},
   "source": [
    "### Q7: What does \"as or more extreme than the observed test statistic if the *null hypothesis* is true\" mean here?\n",
    "\n",
    "A. At least as far from $0.23$ as $103/400$ is  \n",
    "B. As large as $103/400-0.23$ or larger  \n",
    "C. As small as $0.23-103/400$ or smaller   \n",
    "D. All of the above     "
   ]
  },
  {
   "cell_type": "code",
   "execution_count": null,
   "metadata": {},
   "outputs": [],
   "source": [
    "# Q7: Your answer will be automatically tested on MarkUs\n",
    "Q7 = None  # Assign either 'A' or 'B' or 'C' or 'D' to `Q7` instead of `None`\n",
    "# E.g., Q7 = 'A'"
   ]
  },
  {
   "cell_type": "code",
   "execution_count": 55,
   "metadata": {},
   "outputs": [
    {
     "ename": "NameError",
     "evalue": "name 'Q7' is not defined",
     "output_type": "error",
     "traceback": [
      "\u001b[1;31m---------------------------------------------------------------------------\u001b[0m",
      "\u001b[1;31mNameError\u001b[0m                                 Traceback (most recent call last)",
      "Cell \u001b[1;32mIn[55], line 2\u001b[0m\n\u001b[0;32m      1\u001b[0m \u001b[39m# test_Q7\u001b[39;00m\n\u001b[1;32m----> 2\u001b[0m \u001b[39massert\u001b[39;00m Q7 \u001b[39m==\u001b[39m \u001b[39m'\u001b[39m\u001b[39mD\u001b[39m\u001b[39m'\u001b[39m\n",
      "\u001b[1;31mNameError\u001b[0m: name 'Q7' is not defined"
     ]
    }
   ],
   "source": [
    "# test_Q7\n",
    "assert Q7 == 'D'"
   ]
  },
  {
   "attachments": {},
   "cell_type": "markdown",
   "metadata": {},
   "source": [
    "### Q8: What is the simulated p-value for $H_0: p_{\\text{DoSS}}=p(=0.23)$ based on your sampling distribution above?\n",
    "\n",
    "> - Hint 1: For `p=0.23` you can compare any `abs(p_hat-p)` versus `abs(103/400-p)` to determine if the given `p_hat` is \"as or more extreme\" than the observed test statistic\n",
    "> - Hint 2: The simulated p-value would be the proportion of $\\hat p$'s simulated under the null hypothesis (assuming it was true) that are \"as or more extreme\" than the observed test statistic $103/400$ (relative to the null hypothesis)\n"
   ]
  },
  {
   "cell_type": "code",
   "execution_count": 92,
   "metadata": {},
   "outputs": [],
   "source": [
    "# Q8: Your answer will be automatically tested on MarkUs\n",
    "Q8 = None  # round your p-value to 3 decimal places. Consider using np.round function\n",
    "# E.g. If p-value was 1.2345, assign `Q8 = 1.235`\n",
    "# If p-value was 1.2344, assign `Q8 = 1.234`"
   ]
  },
  {
   "cell_type": "code",
   "execution_count": 93,
   "metadata": {},
   "outputs": [
    {
     "ename": "AssertionError",
     "evalue": "",
     "output_type": "error",
     "traceback": [
      "\u001b[1;31m---------------------------------------------------------------------------\u001b[0m",
      "\u001b[1;31mAssertionError\u001b[0m                            Traceback (most recent call last)",
      "Cell \u001b[1;32mIn[93], line 16\u001b[0m\n\u001b[0;32m     14\u001b[0m p\u001b[39m=\u001b[39m\u001b[39m0.23\u001b[39m\n\u001b[0;32m     15\u001b[0m num_more_extreme \u001b[39m=\u001b[39m (\u001b[39mabs\u001b[39m(np\u001b[39m.\u001b[39marray(p_hats) \u001b[39m-\u001b[39m p) \u001b[39m>\u001b[39m\u001b[39m=\u001b[39m \u001b[39mabs\u001b[39m(given_test_stat \u001b[39m-\u001b[39m p))\u001b[39m.\u001b[39msum()\n\u001b[1;32m---> 16\u001b[0m \u001b[39massert\u001b[39;00m Q8 \u001b[39m==\u001b[39m np\u001b[39m.\u001b[39mround(num_more_extreme \u001b[39m/\u001b[39m simulated_samples, \u001b[39m3\u001b[39m)\n",
      "\u001b[1;31mAssertionError\u001b[0m: "
     ]
    }
   ],
   "source": [
    "# test_Q8\n",
    "simulated_samples,n = 1000,400\n",
    "p_hats = [] # or an np.array that you index into\n",
    "np.random.seed(seed=Q4)\n",
    "\n",
    "for i in range(simulated_samples): # simulate a sample and calculate \n",
    "    # and store the p-hat sample statistic \n",
    "    sample = np.random.choice(['Twitterer', 'Non_Twitterer'], size=n, replace=True, p=[0.23, 1-0.23])\n",
    "    sample_prop = np.count_nonzero(sample == 'Twitterer') / 400\n",
    "    p_hats.append(sample_prop)\n",
    "\n",
    "# calculate phats that are as or more extreme than observed test statistic\n",
    "given_test_stat = 103/400\n",
    "p=0.23\n",
    "num_more_extreme = (abs(np.array(p_hats) - p) >= abs(given_test_stat - p)).sum()\n",
    "\n",
    "assert Q8 == np.round(num_more_extreme / simulated_samples, 3)"
   ]
  },
  {
   "attachments": {},
   "cell_type": "markdown",
   "metadata": {},
   "source": [
    "### Q9:  Which of the following statements is correct regarding the p-value above?"
   ]
  },
  {
   "attachments": {},
   "cell_type": "markdown",
   "metadata": {},
   "source": [
    "A. It is the probability that the proportion of DoSS students who use Twitter is the same as the general population.  \n",
    "\n",
    "B. It is the probability that the proportion of DoSS students who use Twitter is not the same as the general population.  \n",
    "\n",
    "C. It is the probability of obtaining a number of students who use Twitter in a sample of 400 students that is at least as extreme as $\\hat p = 103/400$.  \n",
    "\n",
    "D. It is the probability of obtaining a number of students who use Twitter in a sample of 400 students that is at least as extreme as $\\hat p = 103/400$ if the prevalence of Twitter usage among all DoSS students matches the general population.  "
   ]
  },
  {
   "cell_type": "code",
   "execution_count": null,
   "metadata": {},
   "outputs": [],
   "source": [
    "# Q9: Your answer will be automatically tested on MarkUs\n",
    "Q9 = None  # Assign either 'A' or 'B' or 'C' or 'D' to `Q1` instead of `None`\n",
    "# E.g., Q9 = 'A'"
   ]
  },
  {
   "cell_type": "code",
   "execution_count": null,
   "metadata": {},
   "outputs": [],
   "source": [
    "# test_Q9\n",
    "assert Q9 == 'D'"
   ]
  },
  {
   "attachments": {},
   "cell_type": "markdown",
   "metadata": {},
   "source": [
    "### Q10: Would you expect increasing the number of `simulated_samples` to make the simulated p-value more or less volitile relative to changing the random seed value?\n",
    "\n",
    "> - Hint 0: Be careful not to confuse p-values with $\\hat p$'s or the sample size $n=400$ with the number of simulated samples (`simulated_samples`).\n",
    "> - Hint 1: Make sure to change your code back afterwards if you experimentally change it; otherwise, your results will change the next time the code is run!  \n",
    "> - Hint 2: Notice that setting a different random seed with `np.random.seed(value)` will cause the simulated p-value to change slightly since the different \"randomness\" makes the simulated sampling distribution slightly different each time.\n",
    "> - Hint 3: the simulated p-value is computed based on the simulated sampling distribution of the $\\hat p$'s; so, if we simulate more $\\hat p$'s then this sampling distribution would be better estimated... which would mean what for the simulated p-value?\n",
    "\n",
    "- You can compare your answer with the example solution provided by MarkUs"
   ]
  },
  {
   "attachments": {},
   "cell_type": "markdown",
   "metadata": {},
   "source": [
    "> Answer here...\n",
    "\n",
    "***Different random seeds mean slightly different randomly produced sampling distributions, so the p-values could randomly change around a bit with different random seed settings; but, this randomness behavior would be expected to matter less and less if the number of simulated samples (of sample size $n=400$) was increased, because the the more simulated samples we have the more accurately we would be estimating the sampling distribution of the p-hat, so the random seed would matter less and less and the p-value would be estimated more and more precicely as the `simulated_samples` variable was increased.***"
   ]
  },
  {
   "attachments": {},
   "cell_type": "markdown",
   "metadata": {},
   "source": [
    "## Scottish Medicine\n",
    "A Scottish woman noticed that her husband's scent changed.  Six years later he was diagnosed with Parkinson's disease. The woman later joined a Parkinson's charity and noticed the same odour she had smelled from her husband on some of the other people at the Charity.  She mentioned this to researchers who decided to test her abilities.  They recruited 6 people with Parkinson's disease and 6 people without the disease.  Each of the recruits wore a t-shirt for a day, and the woman was asked to smell the t-shirts (in random order) to see if she could determine whether or not the shirt was worn by someone with Parkinson's disease.  She was correct for 12 of the 12 t-shirts!  You can read about this [here](http://www.bbc.com/news/uk-scotland-34583642). "
   ]
  },
  {
   "attachments": {},
   "cell_type": "markdown",
   "metadata": {},
   "source": [
    "### Q11: Without conducting a simulation, describe would expect the sampling distribution of the proportion of correct guesses about the 12 shirts to look like if someone was just guessing.\n",
    "\n",
    "#### Provide a two to three sentence written answer in the markdown cell below.\n",
    "\n",
    "- This will be manually reviewed by your TA. "
   ]
  },
  {
   "attachments": {},
   "cell_type": "markdown",
   "metadata": {},
   "source": [
    "> Answer here...\n",
    "\n",
    "***write up a example answer response here and return it as an MarkUs \"test\" which automatically fails to provide the example as feedback for the student***"
   ]
  },
  {
   "attachments": {},
   "cell_type": "markdown",
   "metadata": {},
   "source": [
    "### Q12: Write out the formal *null hypothesis* assumed in the previous question for $p$ the chance of a correct guess.\n",
    "\n",
    "#### Write out your $H_0$ statement in the markdown cell below.\n",
    "\n",
    "- This will be manually reviewed by your TA. "
   ]
  },
  {
   "attachments": {},
   "cell_type": "markdown",
   "metadata": {},
   "source": [
    "> Answer here...\n"
   ]
  },
  {
   "attachments": {},
   "cell_type": "markdown",
   "metadata": {},
   "source": [
    "### Q13: Carry out a simulation and a hypothesis test of the woman being a lucky guesser as opposed to having some ability to identify Parkinson's disease by smell given that she correctly classified 12 of 12 t-shirts. Make a conclusion about the strength of the evidence against the *null hypothesis* based on your work and the table below.\n",
    "\n",
    "#### Provide your analysis in the code cells below and your written conclusion in the MarkDown cell below that.\n",
    "\n",
    "> - Hint: For the purposes of p-value calculation, consider \"as or more extreme\" to be either 12/12 or 0/12.  Considering only 12/12 as \"as or more extreme\" would be called a \"one-sided hypothesis test\" but for now we'll stick with both options as a \"two-sided hypothesis test\". \n",
    "\n",
    "- This will be manually reviewed by your TA "
   ]
  },
  {
   "cell_type": "code",
   "execution_count": null,
   "metadata": {},
   "outputs": [],
   "source": [
    "# Matthew--please add the table from my recoding/lecture/code for the students to use here"
   ]
  },
  {
   "cell_type": "code",
   "execution_count": 20,
   "metadata": {},
   "outputs": [],
   "source": [
    "# Code your answer here\n",
    "import pandas as pd\n",
    "import plotly.express as px\n",
    "import numpy as np\n",
    "\n",
    "np.random.seed()  # Set the random seed to the last two digits of your student number\n",
    "reps = 1000  # Change this to 10000 if a finer simulation resolution is required "
   ]
  },
  {
   "cell_type": "code",
   "execution_count": null,
   "metadata": {},
   "outputs": [],
   "source": [
    "# add test of p-value number for MarkUs correctness\n",
    "Q13 = None"
   ]
  },
  {
   "attachments": {},
   "cell_type": "markdown",
   "metadata": {},
   "source": [
    "> Answer here...\n",
    "\n"
   ]
  },
  {
   "attachments": {},
   "cell_type": "markdown",
   "metadata": {},
   "source": [
    "### Q14: Actually, initially the woman correctly identified all 6 people who had been diagnosed with Parkinson's but incorrectly identified one of the others as having Parkinson's.  It was only eight months later that the final individual was diagnosed with the disease.  Repeat the Q13 analysis for the situation when only 11 of 12 were known to be correct.\n",
    "\n",
    "#### Provide the necessary analysis in the code cells below and your updated written conclusion in the MarkDown cell below that.\n",
    "\n",
    "> - Hint 1: You should be able to the p-value for the test using the results from your initial analysis without re-running a new simulation. \n",
    "> - Hint 2: Is the conclusion of the hypthesis test sensibly the same when the observed test statistic is 11/12 as opposed to when it was 12/12?  \n",
    "> - Hint 3: For the purposes of p-value calculation, again consider a \"two-sided hypothesis test\" where \"as or more extreme\" is now either 11/12, or 12/12, or 0/12, or 1/12.  \n",
    "\n",
    "\n",
    "- This will be manually reviewed by your TA"
   ]
  },
  {
   "cell_type": "code",
   "execution_count": null,
   "metadata": {},
   "outputs": [],
   "source": [
    "# Code your answer here\n",
    "\n"
   ]
  },
  {
   "attachments": {},
   "cell_type": "markdown",
   "metadata": {},
   "source": [
    "> Answer here...\n",
    "\n"
   ]
  },
  {
   "cell_type": "code",
   "execution_count": null,
   "metadata": {},
   "outputs": [],
   "source": [
    "### New Q15: non-parametric test p-value based on binomial test\n",
    "i.e., make the binomial distribution here instead of simulating it\n",
    "describe what the test is\n",
    "then have them interpret their analysis again using this p-value\n",
    "...\n",
    "Also provide an example of how this would be done with a t-test; but, \n",
    "discuss that the assumption of the t-test is that the data is normally distributed, \n",
    "[and show what a normal distribution is looks like compared to a 50/50 guessing distribution]\n",
    "[so, you're doing some show and tell example stuff here]\n",
    "so this would not be justified (although, I bet it works fairly well?)"
   ]
  },
  {
   "attachments": {},
   "cell_type": "markdown",
   "metadata": {},
   "source": [
    "## Evidence Against the *Null Hypothesis* versus...\n",
    "\n",
    "In the analyses above you used a quantiative p-value to provide a qualitative statement of the evidence against the *null hypothesis*. This doesn't necessarily entail a formal decision about a *null hypothesis* (and there are many good reasons to proceed in this manner). However, it would also be possible to make a statement about the *null hypothesis* which should ideally take the form of \"I choose to reject the *null hypothesis* $H_0$ on the basis of the evidence at hand\", or contrarily \"I fail to reject the *null hypothesis*...\"\n",
    "\n",
    "In a legal context a court considers the opposing claims that the defendant is either innocent or guilty. In the Canadian legal system, the role of the prosecutor is to present convincing evidence that the defendant is guilty.  Lawyers for the defendant attempt to argue that the evidence is *not convincing enough* to rule out that the defendant could be innocent.  If there is not enough evidence to convict the defendant  the judge generally generally delivers a verdict of \"not guilty\" as opposed to \"innocent\". Phrasing the ruling this way indicates that the burnden of evidence is on the verdict of \"guilty\" and the necessary standard of evidence required to rule \"guilty\" was not met; but, it also simultaneously allows for the understanding that \"innocence\" is not necessarily proven (and that it is not strictly necessarily to ever prove \"innocence\" as part of a ruling of \"not guilty\"). "
   ]
  },
  {
   "attachments": {},
   "cell_type": "markdown",
   "metadata": {},
   "source": [
    "### Q16: Looking at a legal trial from the perspective of hypothesis testing, what are the most natural *null* and *alternative hypotheses*?  \n",
    "\n",
    "A. $\\quad H_0: \\text{Defendent is Not Guilty} \\quad H_A: \\text{Defendent is Guilty}$  \n",
    "B. $\\quad H_0: \\text{Defendent is Not Guilty} \\quad H_A: \\text{Defendent is Likely Innocent}$  \n",
    "C. $\\quad H_0: \\text{Defendent is Guilty} \\;\\;\\quad\\quad H_A: \\text{Defendent is Innocent}$   \n",
    "D. None of the above"
   ]
  },
  {
   "cell_type": "code",
   "execution_count": null,
   "metadata": {},
   "outputs": [],
   "source": [
    "# Q16: Your answer will be automatically tested on MarkUs\n",
    "Q16 = None  # Assign either 'A' or 'B' or 'C' or 'D' to `Q16` instead of `None`\n",
    "# E.g., Q16 = 'A'"
   ]
  },
  {
   "attachments": {},
   "cell_type": "markdown",
   "metadata": {},
   "source": [
    "### Q17: In hypothesis testing which of the following would  correspond to \"failing to reject the *null hypothesis*\"? \n",
    "\n",
    "A. Proving innocent  \n",
    "B. Presuming innocence  \n",
    "C. Ruling Guilty  \n",
    "D. None of the above  \n",
    "\n",
    "***Hint/Explanation: In formal hypothesis testing, \"rejecting the *null hypothesis*\" corresopnds to a legal verdict of \"guilty\" (which makes option \"C\" wrong).  We never prove the *null hypothesis* is wrong or right, though (which makes option \"A\" wrong).  Instead, we assume the *null hypothesis* is true and will choose to reject this assumption only on the basis of having sufficient evidence against it. This is analagous to the legal context where were a person is presumed innocent until \"proven guilty\". So, if we fail to have evidence to rule guilty we return to the default of presumed innocence (which is why option \"B\" is correct). Do take careful note that we never \"prove\" a null hypothesis true or false, we just \"fail to reject it\".***"
   ]
  },
  {
   "cell_type": "code",
   "execution_count": null,
   "metadata": {},
   "outputs": [],
   "source": [
    "# add"
   ]
  },
  {
   "attachments": {},
   "cell_type": "markdown",
   "metadata": {},
   "source": [
    "### Q18: In *formal statstical hypothesis testing*, wrongly rejecting a *null hypothesis* which is actually true is called a *type I error*. What does a *type I error* correspond to in the analogous legal context?\n",
    "\n",
    "A. A innocent defendant being convicted as guilty  \n",
    "B. A guilty defendant being set free  \n",
    "C. A guilty defendant being convicted  \n",
    "D. None of the above"
   ]
  },
  {
   "cell_type": "code",
   "execution_count": null,
   "metadata": {},
   "outputs": [],
   "source": [
    "# Q18: Your answer will be automatically tested on MarkUs\n",
    "Q18 = None  # Assign either 'A' or 'B' or 'C' or 'D' to `Q18` instead of `None`\n",
    "# E.g., Q18 = 'A'"
   ]
  },
  {
   "attachments": {},
   "cell_type": "markdown",
   "metadata": {},
   "source": [
    "### Q19: In *formal statstical hypothesis testing*, wrongly failing to rejecting a *null hypothesis* which is actually false is called a *type II error*. What does a *type II error* correspond to in the analogous legal context?\n",
    "\n",
    "A. A innocent defendant being convicted as guilty  \n",
    "B. A guilty defendant being set free  \n",
    "C. A guilty defendant being convicted  \n",
    "D. None of the above  "
   ]
  },
  {
   "cell_type": "code",
   "execution_count": null,
   "metadata": {},
   "outputs": [],
   "source": [
    "# Q19: You may test your answer on MarkUs, but it is not worth marks \n",
    "Q19 = None  # Assign either 'A' or 'B' or 'C' or 'D' to `Q19` instead of `None`\n",
    "# E.g., Q19 = 'A'"
   ]
  },
  {
   "attachments": {},
   "cell_type": "markdown",
   "metadata": {},
   "source": [
    "### Q20: What would 'convicting someone with a \"guilty\" sentencing' versus 'the defendant convincing the court that there was not enough evidence to form the basis of a conviction' correspond to in *statistical hypothesis testing* context?\n",
    "\n",
    "A. 'Failing to reject the *null hypothesis*' versus 'quantifying the evidence against the *null hypothesis* as being very strong'  \n",
    "\n",
    "B. 'Failing to reject the *null hypothesis*' versus 'quantifying the evidence against the *null hypothesis* as being very weak'  \n",
    "\n",
    "C. 'Rejecting the *null hypothesis*' versus 'quantifying the evidence against the *null hypothesis* as being very strong'  \n",
    "\n",
    "D. 'Rejecting the *null hypothesis*' versus 'quantifying the evidence against the *null hypothesis* as being very weak'  "
   ]
  },
  {
   "cell_type": "code",
   "execution_count": null,
   "metadata": {},
   "outputs": [],
   "source": [
    "# Q20: Your answer will be automatically tested on MarkUs\n",
    "Q20 = None  # Assign either 'A' or 'B' or 'C' or 'D' to `Q20` instead of `None`\n",
    "# E.g., Q20 = 'A'"
   ]
  }
 ],
 "metadata": {
  "kernelspec": {
   "display_name": "Python 3 (ipykernel)",
   "language": "python",
   "name": "python3"
  },
  "language_info": {
   "codemirror_mode": {
    "name": "ipython",
    "version": 3
   },
   "file_extension": ".py",
   "mimetype": "text/x-python",
   "name": "python",
   "nbconvert_exporter": "python",
   "pygments_lexer": "ipython3",
   "version": "3.11.1"
  }
 },
 "nbformat": 4,
 "nbformat_minor": 2
}
