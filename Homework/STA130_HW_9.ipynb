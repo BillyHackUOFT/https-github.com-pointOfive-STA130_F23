{
 "cells": [
  {
   "cell_type": "markdown",
   "source": [
    "# Coding Homework 9: [put your name here]\n",
    "\n",
    "Go through this notebook, following the instructions!\n",
    "\n",
    "> TAs will mark this assignment by checking ***MarkUs*** autotests.\n"
   ],
   "metadata": {
    "collapsed": false
   }
  },
  {
   "cell_type": "markdown",
   "source": [
    "We begin by importing dataset and the libraries we will use."
   ],
   "metadata": {
    "collapsed": false
   }
  },
  {
   "cell_type": "code",
   "execution_count": null,
   "outputs": [],
   "source": [
    "import pandas as pd\n",
    "import numpy as np\n",
    "from sklearn import tree, model_selection\n",
    "from sklearn.metrics import confusion_matrix, ConfusionMatrixDisplay\n",
    "happiness2017 = pd.read_csv(\"happiness2017.csv\")"
   ],
   "metadata": {
    "collapsed": false
   }
  },
  {
   "cell_type": "markdown",
   "source": [
    "# Gallup Report Happiness Survey\n",
    "Using data from the Gallup World Poll (and the World Happiness Report), we are interested in predicting which factors influence life expectancy around the world. These data are in the file happinessdata_2017.csv, which we imported as `happiness2017`."
   ],
   "metadata": {
    "collapsed": false
   }
  },
  {
   "cell_type": "markdown",
   "source": [
    "#### Q1: Add a new column to `happiness2017` called `life_exp_good` which is `True` for countries with life expectancy higher than 65 years, and `False` otherwise."
   ],
   "metadata": {
    "collapsed": false
   }
  },
  {
   "cell_type": "code",
   "execution_count": null,
   "outputs": [],
   "source": [
    "# Q1: your answer will be tested!\n"
   ],
   "metadata": {
    "collapsed": false
   }
  },
  {
   "cell_type": "code",
   "execution_count": null,
   "outputs": [],
   "source": [
    "# test_Q1\n",
    "assert sum(happiness2017.life_exp_good == True) == 573, \"ACTUAL HINT\""
   ],
   "metadata": {
    "collapsed": false
   }
  },
  {
   "cell_type": "markdown",
   "source": [
    "Now divide create a new dataframe `happiness2017_cleaned` from `happiness2017` that contains the following columns `life_exp_good`, `logGDP`, `social_support`, `freedom`, and `generosity`, with all rows with `na` entries dropped. Then split happiness2017-cleaned into a training set and testing set using an 80/20 split."
   ],
   "metadata": {
    "collapsed": false
   }
  },
  {
   "cell_type": "code",
   "execution_count": null,
   "outputs": [],
   "source": [
    "np.random.seed(1985) # do NOT change this line, it ensures our testing code works properly\n",
    "happiness2017_cleaned = None\n",
    "train, test = None"
   ],
   "metadata": {
    "collapsed": false
   }
  },
  {
   "cell_type": "markdown",
   "source": [
    "### Q2: Train a classification tree `clf` to predict which countries have good vs poor life expectancy, using only the `social_support` variable as a predictor."
   ],
   "metadata": {
    "collapsed": false
   }
  },
  {
   "cell_type": "code",
   "execution_count": null,
   "outputs": [],
   "source": [
    "# Q2: your answer will be tested!\n",
    "clf = None"
   ],
   "metadata": {
    "collapsed": false
   }
  },
  {
   "cell_type": "code",
   "execution_count": null,
   "outputs": [],
   "source": [
    "# test_Q2\n",
    "testdata = test[[\"life_exp_good\", \"social_support\"]].dropna()\n",
    "Xt = testdata.iloc[:,1:]\n",
    "Yt = testdata.life_exp_good\n",
    "assert sum(Yt == clf.predict(Xt)) == 170, \"Make sure to train on just the training dataset.\""
   ],
   "metadata": {
    "collapsed": false
   }
  },
  {
   "cell_type": "markdown",
   "source": [
    "Now you can visualize your tree!"
   ],
   "metadata": {
    "collapsed": false
   }
  },
  {
   "cell_type": "code",
   "execution_count": null,
   "outputs": [],
   "source": [
    "_ = tree.plot_tree(clf)"
   ],
   "metadata": {
    "collapsed": false
   }
  },
  {
   "cell_type": "markdown",
   "source": [
    "### Q3:\n",
    "Using the clf.predict() method, answer the following questions.\n",
    "a) Does your decision tree predict that a country with `social_support = .49` has good life expectancy?\n",
    "b) what if `social_support = .5`\n",
    "c) what if `social_support = .51`\n",
    "d) what if `social_support = .9`"
   ],
   "metadata": {
    "collapsed": false
   }
  },
  {
   "cell_type": "code",
   "execution_count": null,
   "outputs": [],
   "source": [
    "# Q3: your answer will be tested!\n",
    "Q3a = None # Replace this with True or False\n",
    "Q3b = None\n",
    "Q3c = None\n",
    "Q3d = None\n",
    "Q3 = (Q3a, Q3b, Q3c, Q3d) # Do not change this line"
   ],
   "metadata": {
    "collapsed": false
   }
  },
  {
   "cell_type": "code",
   "execution_count": null,
   "outputs": [],
   "source": [
    "# test_Q3\n",
    "assert Q3 == (False, True, False, True), \"Use google if you don't understand how to use clf.predict()\""
   ],
   "metadata": {
    "collapsed": false
   }
  },
  {
   "cell_type": "markdown",
   "source": [
    "##### Do these predictions make sense to you?\n",
    "Does it seem meaningful that small differences in the input rapidly change the predicted label?\n",
    "You will probably agree that this seems a bit off, and that this decision tree seems overly complex.\n",
    "So, let's create and fit a new classification tree `clf2` on the same inputs with a maximum depth of 2."
   ],
   "metadata": {
    "collapsed": false
   }
  },
  {
   "cell_type": "code",
   "execution_count": null,
   "outputs": [],
   "source": [
    "clf2 = None\n",
    "\n"
   ],
   "metadata": {
    "collapsed": false
   }
  },
  {
   "cell_type": "markdown",
   "source": [
    "### Q4: Reanswer Q3 with `clf2`."
   ],
   "metadata": {
    "collapsed": false
   }
  },
  {
   "cell_type": "code",
   "execution_count": null,
   "outputs": [],
   "source": [
    "# Q4: your answer will be tested!\n",
    "Q4a = None # Replace this with True or False\n",
    "Q4b = None\n",
    "Q4c = None\n",
    "Q4d = None\n",
    "Q4 = (Q4a, Q4b, Q4c, Q4d) # Do not change this line"
   ],
   "metadata": {
    "collapsed": false
   }
  },
  {
   "cell_type": "code",
   "execution_count": null,
   "outputs": [],
   "source": [
    "# test_Q4\n",
    "assert Q4 == (False, False, False, True), \"Try clf.predict() OR you can read off the answer from plot of the tree if you figure out the class labels.\""
   ],
   "metadata": {
    "collapsed": false
   }
  },
  {
   "cell_type": "markdown",
   "source": [
    "### Now train another classification tree `clf3` using `logGDP`. `social_support`, `freedom`, and `generosity` as potential predictors.\n",
    "Make sure to use the same test/train split as previously."
   ],
   "metadata": {
    "collapsed": false
   }
  },
  {
   "cell_type": "code",
   "execution_count": null,
   "outputs": [],
   "source": [
    "clf3 = None"
   ],
   "metadata": {
    "collapsed": false
   }
  },
  {
   "cell_type": "markdown",
   "source": [
    "#### Q5: Use the testing dataset you created in Q1 to calculate the confusion matrix for `clf2` and `clf3`. Report the sensitivity (true positive rate), specificity (true negative rate) and accuracy for each of the trees, round UP to 3 decimal places.\n",
    "Treat “Good” life expectancy as the positive response and prediction."
   ],
   "metadata": {
    "collapsed": false
   }
  },
  {
   "cell_type": "code",
   "execution_count": null,
   "outputs": [],
   "source": [],
   "metadata": {
    "collapsed": false
   }
  },
  {
   "cell_type": "code",
   "execution_count": null,
   "outputs": [],
   "source": [
    "# Q5: your answer will be tested!\n",
    "(clf2_sensitivity, clf2_specificity, clf2_accuracy) = (None, None, None) #Replace the Nones with the corresponding answers\n",
    "(clf3_sensitivity, clf3_specificity, clf3_accuracy) = (None, None, None)"
   ],
   "metadata": {
    "collapsed": false
   }
  },
  {
   "cell_type": "code",
   "execution_count": null,
   "outputs": [],
   "source": [
    "# test_Q5\n",
    "\n",
    "assert (clf2_sensitivity, clf2_specificity, clf2_accuracy, clf3_sensitivity, clf3_specificity, clf3_accuracy) == \\\n",
    "       (0.716,             0.804,           0.770,         0.844,             0.899,             0.877), \\\n",
    "    \"Make sure you rounded up, and didn't confuse what the rows and columns of the confusion matrix mean. ConfusionMatrixDisplay.from_predictions might help with this.\""
   ],
   "metadata": {
    "collapsed": false
   }
  },
  {
   "cell_type": "markdown",
   "source": [
    "# Confusion matrices and Metrics\n",
    "Two classification trees were built to predict which individuals have a disease using different sets of potential predictors. We use each of these trees to predict disease status for 100 new individuals. Below are confusion matrices corresponding to these two classification trees"
   ],
   "metadata": {
    "collapsed": false
   }
  },
  {
   "cell_type": "markdown",
   "source": [
    "**Tree A**\n",
    "\n",
    "|                    | Disease | No disease |\n",
    "|--------------------|---------|------------|\n",
    "| Predict disease    | 36      | 22         |\n",
    "| Predict no disease | 2       | 40         |\n"
   ],
   "metadata": {
    "collapsed": false
   }
  },
  {
   "cell_type": "markdown",
   "source": [
    "**Tree B**\n",
    "\n",
    "|                    | Disease | No disease |\n",
    "|--------------------|---------|------------|\n",
    "| Predict disease    | 24      | 6          |\n",
    "| Predict no disease | 14      | 56         |\n",
    "\n",
    "\n"
   ],
   "metadata": {
    "collapsed": false
   }
  },
  {
   "cell_type": "markdown",
   "source": [
    "### Q6: Calculate the accuracy, false-positive rate, and false negative rate for each classification tree.\n",
    "Here, a “positive” result means we predict an individual has the disease and a “negative” result means we predict they do not.\n",
    "Round each value UP to 2 decimal points."
   ],
   "metadata": {
    "collapsed": false
   }
  },
  {
   "cell_type": "code",
   "execution_count": null,
   "outputs": [],
   "source": [
    "# Q6: your answer will be tested!\n",
    "TreeA_accuracy = None\n",
    "TreeA_false_positive = None\n",
    "TreeA_false_negative = None\n",
    "\n",
    "TreeB_accuracy = None\n",
    "TreeB_false_positive = None\n",
    "TreeB_false_negative = None"
   ],
   "metadata": {
    "collapsed": false
   }
  },
  {
   "cell_type": "code",
   "execution_count": null,
   "outputs": [],
   "source": [
    "# test_Q6\n",
    "assert (TreeA_accuracy, TreeA_false_positive, TreeA_false_negative, TreeB_accuracy, TreeB_false_positive, TreeB_false_negative) == (.76,.06,.36,.80,.37,.10), \"Make sure you round correctly and calculate the FALSE positive and negative rates.\""
   ],
   "metadata": {
    "collapsed": false
   }
  },
  {
   "cell_type": "markdown",
   "source": [
    "# Geometric Interpretation of Prediction\n",
    "Data was collected on 30 cancer patients to investigate the effectiveness (Yes/No) of a treatment. Two quantitative variables, x1 and x2 (but taking values between 0 and 1), are thought to be important predictors of effectiveness. Suppose that the rectangles labeled as nodes in the scatter plot below represent nodes of a classification tree.\n",
    "![Scatter plot with a horizontal x1 axis and vertical x2 axis, both ranging from 0.00 to 1.00, and blue triangular points representing Effectiveness = 'Yes' and round orange points representing Effectiveness = 'No'. It is divided into 4 regions, labelled nodes 1-4. Node 1 is the bottom left region, node 4 the bottom right, node 3 the top left, and node 2 the top right. The top regions are divided from the bottom ones by a horizontal line along x_2=0.50. Node 2 is separated from node 3 by a line at x1=0.50. Node 2 is separated from node 3 by a line at x1=0.50. Node 1 has 5 'Yes' nodes and 7 'No' Nodes. Node 2 has 3 'Yes' nodes and 2 'No' Nodes. Node 3 has 1 'Yes' node and 3 'No' Nodes. Node 4 has 2 'Yes' nodes and 7 'No' Nodes.](HW9_Q7_Graph.png)"
   ],
   "metadata": {
    "collapsed": false
   }
  },
  {
   "cell_type": "markdown",
   "source": [
    "### Q7: The diagram above is the geometric interpretation of a classification tree to predict drug effectiveness based on two predictors, x1 and x2. What is the predicted class of each node?"
   ],
   "metadata": {
    "collapsed": false
   }
  },
  {
   "cell_type": "code",
   "execution_count": null,
   "outputs": [],
   "source": [
    "# Q7: your answer will be tested!\n",
    "Q7_Node1 = None #Replace with 'Yes' or 'No'\n",
    "Q7_Node2 = None\n",
    "Q7_Node3 = None\n",
    "Q7_Node4 = None"
   ],
   "metadata": {
    "collapsed": false
   }
  },
  {
   "cell_type": "code",
   "execution_count": null,
   "outputs": [],
   "source": [
    "# test_Q7\n",
    "assert (Q7_Node1, Q7_Node2, Q7_Node3, Q7_Node4) == ('No', 'Yes', 'No', 'No'), \"Hint: The classification tree will pick 'Yes' or 'No' for each region depending on  which is more common in that region.\""
   ],
   "metadata": {
    "collapsed": false
   }
  }
 ],
 "metadata": {
  "kernelspec": {
   "display_name": "Python 3",
   "language": "python",
   "name": "python3"
  },
  "language_info": {
   "codemirror_mode": {
    "name": "ipython",
    "version": 2
   },
   "file_extension": ".py",
   "mimetype": "text/x-python",
   "name": "python",
   "nbconvert_exporter": "python",
   "pygments_lexer": "ipython2",
   "version": "2.7.6"
  }
 },
 "nbformat": 4,
 "nbformat_minor": 0
}
